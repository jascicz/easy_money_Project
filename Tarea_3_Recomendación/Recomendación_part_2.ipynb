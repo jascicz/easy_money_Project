{
 "cells": [
  {
   "cell_type": "markdown",
   "metadata": {},
   "source": [
    "asignar a cada cliente el producto más popular que no tenga contratado."
   ]
  },
  {
   "cell_type": "markdown",
   "metadata": {},
   "source": [
    "tomar todas xtrain todo de forma general,\n",
    "y sacar las probabilidades"
   ]
  },
  {
   "cell_type": "markdown",
   "metadata": {},
   "source": [
    "ojo analizar si la empresa le esta llendo viendo o mal"
   ]
  },
  {
   "cell_type": "code",
   "execution_count": null,
   "metadata": {},
   "outputs": [],
   "source": []
  }
 ],
 "metadata": {
  "language_info": {
   "name": "python"
  }
 },
 "nbformat": 4,
 "nbformat_minor": 2
}
