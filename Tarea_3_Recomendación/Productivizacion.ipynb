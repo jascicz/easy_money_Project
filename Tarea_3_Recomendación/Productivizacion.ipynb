{
 "cells": [
  {
   "cell_type": "markdown",
   "metadata": {},
   "source": [
    "En este apartado se desarrollan las especificaciones para la plataforma de producción que permitirá operar los modelos a medio plazo utilizando AWS. La propuesta incluye el almacenamiento de datos y modelos en Amazon S3, el uso de Amazon SageMaker para el entrenamiento del modelo y AWS Lambda para desplegar el modelo en producción.\n",
    "\n",
    "Metodología Propuesta:\n",
    "\n",
    "# 1. Ingesta y Almacenamiento de Datos:\n",
    "\n",
    "\n",
    "- Almacenamiento en Amazon S3:\n",
    "  \n",
    "    - Se organizar los datos en buckets y carpetas lógicas para facilitar el acceso y la gestión. Todos los datos de actividad comercial, productos y sociodemografic se almacenan en formatos optimizados como Parquet o CSV. El nombre del bucket de S3 es easy-money-project-bucket y se puede acceder a los archivos a través de una url de la siguiente manera:\n",
    "\n",
    "ca_df = pd.read_parquet('https://easy-money-project-bucket.s3.eu-west-3.amazonaws.com/commercial_activity_df.parquet')\n",
    "\n",
    "\n",
    "- Seguridad de Datos:\n",
    "\n",
    "    - Es altamente recomendable implementar políticas de acceso (IAM roles y políticas de bucket) para asegurar que solo usuarios y servicios autorizados puedan acceder a los datos, en este caso, no se implementan y se da acceso al bucket a todos los usuarios.\n",
    "\n",
    "# 2. Procesamiento y limpieza de Datos:\n",
    "\n",
    "- AWS Lambda es un servicio de computación serverless que permite ejecutar código sin la necesidad de gestionar servidores. Lambda es ideal para tareas pequeñas, con tiempos de ejecución cortos, y se escala automáticamente en función de la demanda.\n",
    "\n",
    "- Se utiliza la función AWS Lambda para la limpieza y transformación de los datos crudos. A partir de un script en  Python se implementa la lógica de limpieza y transformación. Se guardar los datos transformados, en un área designada como s3://easy-money-project-bucket/feature-df_full_cleaned.parquet/ pudiéndose acceder a la misma de la siguiente forma:\n",
    "\n",
    "df = pd.read_parquet(\"https://easy-money-project-bucket.s3.eu-west-3.amazonaws.com/df_full_cleaned.parquet\")\n"
   ]
  },
  {
   "cell_type": "markdown",
   "metadata": {},
   "source": [
    "# 3. Entrenamiento y Almacenamiento del Modelo:\n",
    "\n",
    "- Entrenamiento del Modelo:\n",
    "\n",
    "    - Para entrenar el modelo se utiliza el servicio Amazon SageMaker que permite crear, entrenar e implementar modelos de ML a escala mediante herramientas como cuadernos, depuradores, generadores de perfiles, pipelines, MLOps y más, todo en un único entorno de desarrollo integrado. Se desarrolla en python cargando el dataset limpio para el entrenamiento de los modelos.\n",
    "\n",
    "    - Se recomienda para este apartado implementar un flujo completo para la colaboración y producción de modelos con MLflow, para que cada data scientist en el equipo puede entrenar y registrar sus modelos desde SageMaker Notebooks utilizando MLflow para rastrear experimentos, y de esta forma comparar los modelos y seleccionar el que tenga el mejor rendimiento.\n",
    "\n",
    "- Almacenamiento del Modelo:\n",
    "\n",
    "    - Se serializa el modelo entrenado y se almacena en Amazon S3 para su posterior carga en AWS Lambda.\n",
    "\n",
    "\n",
    "\n",
    "# 4. Despliegue del Modelo en AWS Lambda:\n",
    "\n",
    "- Despliegue en producción: \n",
    "  \n",
    "\t- Se desarrolla otra función Lambda en Python que carga el modelo seleccionado desde S3 durante la inicialización, así como los datos que se van a utilizar para lanzar las predicciones.\n",
    "\t- Se guardan los resultados arrojados por el modelo en S3 nuevamente, con el objetivo que se pueda acceder a dichos datos por parte del departamento de Marketing, para continuar con el análisis de personalización de la campaña de email, pudiéndose acceder de la siguiente manera:\n",
    "\n",
    "df = pd.read_parquet(\"https://easy-money-project-bucket.s3.eu-west-3.amazonaws.com/df_seleccionados.parquet\")\n",
    "\n",
    "\n",
    "\n",
    "# 5. Monitorización y Logging:\n",
    "\n",
    "- Amazon CloudWatch:\n",
    "\n",
    "    - Se recomienda configurar logs y métricas de la función Lambda en CloudWatch, estableciendo alarmas para detectar anomalías o errores en tiempo real.\n",
    "\t\n",
    "\n",
    "\n",
    "\n",
    "Esta metodología permitirá desplegar y operar el modelo de recomendación de manera eficiente, segura y escalable, alineándose con los objetivos comerciales y técnicos de la organización.\n"
   ]
  },
  {
   "cell_type": "markdown",
   "metadata": {},
   "source": [
    "# DIAGRAMA DE PRODUCTIVIZACIÓN"
   ]
  },
  {
   "cell_type": "markdown",
   "metadata": {},
   "source": [
    "\n",
    "<div style=\"display: flex; justify-content: center;\">\n",
    "    <img src=\"Diagrama AWS.png\" alt=\"Diagrama de Productivizacion\" style=\"width: 1200px; height: 1000px; margin: 20px;\" />\n",
    "</div>"
   ]
  },
  {
   "cell_type": "code",
   "execution_count": null,
   "metadata": {},
   "outputs": [],
   "source": []
  }
 ],
 "metadata": {
  "kernelspec": {
   "display_name": "Python 3",
   "language": "python",
   "name": "python3"
  },
  "language_info": {
   "codemirror_mode": {
    "name": "ipython",
    "version": 3
   },
   "file_extension": ".py",
   "mimetype": "text/x-python",
   "name": "python",
   "nbconvert_exporter": "python",
   "pygments_lexer": "ipython3",
   "version": "3.11.5"
  }
 },
 "nbformat": 4,
 "nbformat_minor": 2
}
