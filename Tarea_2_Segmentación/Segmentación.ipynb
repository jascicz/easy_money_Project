{
 "cells": [
  {
   "cell_type": "code",
   "execution_count": null,
   "metadata": {},
   "outputs": [],
   "source": [
    "import numpy as np \n",
    "import pandas as pd\n",
    "import streamlit as st\n",
    "pd.options.display.float_format = '{:,.3f}'.format\n",
    "pd.set_option('display.max_columns', 100)\n",
    "import seaborn as sns\n",
    "import matplotlib.pyplot as plt\n",
    "\n",
    "import warnings\n",
    "warnings.filterwarnings('ignore')"
   ]
  },
  {
   "cell_type": "markdown",
   "metadata": {},
   "source": [
    "# Segmentación"
   ]
  },
  {
   "cell_type": "markdown",
   "metadata": {},
   "source": [
    "El objetivo principal de esta tarea es segmentar a los clientes en grupos distintos y homogéneos, con el fin de obtener un conocimiento más profundo de nuestra base de clientes y mejorar la estrategia comercial. \n",
    "\n",
    "El análisis de los clusters permitirá identificar patrones y características clave de cada grupo, lo que facilitará la orientación de nuestras acciones comerciales de manera más efectiva. Los resultados de esta segmentación se presentarán con una descripción clara y visual de cada cluster, destacando las diferencias entre ellos."
   ]
  },
  {
   "cell_type": "markdown",
   "metadata": {},
   "source": [
    "---"
   ]
  },
  {
   "cell_type": "markdown",
   "metadata": {},
   "source": [
    "Carga de los dataset ya limpios que se encuentran en s3 de AWS, se unen y se genera un nuevo dataset que se guarda en igual en s3 de AWS para su uso directo."
   ]
  },
  {
   "cell_type": "code",
   "execution_count": null,
   "metadata": {},
   "outputs": [],
   "source": [
    "\n",
    "# productos\n",
    "#prod_df_cleaned = pd.read_parquet(\"https://easy-money-project-bucket.s3.eu-west-3.amazonaws.com/prod_df_cleaned.parquet\") \n",
    "\n",
    "# sociodemografico\n",
    "#sdg_df = pd.read_parquet('https://easy-money-project-bucket.s3.eu-west-3.amazonaws.com/sociodemographic_df.parquet')\n",
    "\n",
    "# comercial activity clean\n",
    "#ca_df_clean = pd.read_parquet(\"https://easy-money-project-bucket.s3.eu-west-3.amazonaws.com/commercial_activity_df_clean.parquet\") \n",
    "\n",
    "# df_1 = pd.merge(ca_df,prod_df, how=\"inner\" ,on=['pk_cid','pk_partition'])\n",
    "\n",
    "# df_2 = pd.merge(df_1,sdg_df, how=\"inner\",on=['pk_cid','pk_partition'])\n",
    "\n",
    "# df_2.to_parquet(\"/Users/claudiacastro/easy_money_project/df_completo.parquet\")"
   ]
  },
  {
   "cell_type": "markdown",
   "metadata": {},
   "source": [
    "Este dataset contiene la limpieza y las nuevas columnas creadas en la etapa anterior."
   ]
  },
  {
   "cell_type": "code",
   "execution_count": null,
   "metadata": {},
   "outputs": [],
   "source": []
  },
  {
   "cell_type": "markdown",
   "metadata": {},
   "source": [
    "# Procedimiento para la segmentación de clientes:"
   ]
  },
  {
   "cell_type": "markdown",
   "metadata": {},
   "source": [
    "La segmentación de clientes implica agrupar a los clientes en segmentos distintos, cada uno caracterizado por ciertas propiedades que describen su comportamiento y relación con la empresa. Aunque existen innumerables características que podrían utilizarse para este propósito, la elección de las características óptimas depende en gran medida del objetivo comercial que se desee alcanzar con dicha segmentación. Por lo tanto, no existe un único enfoque correcto ni una fórmula universal para llevar a cabo una Segmentación de Clientes.\n",
    "\n",
    "Las variables seleccionadas para el modelo son fundamentales, ya que definirán las diferencias clave entre los grupos. Para realizar una segmentación efectiva que permita un entendimiento más profundo de nuestra base de clientes y la alineación de nuestras estrategias comerciales, es crucial elegir variables que reflejen el comportamiento del cliente en relación con nuestros productos o servicios. "
   ]
  },
  {
   "cell_type": "markdown",
   "metadata": {},
   "source": [
    "1. Técnica de Segmentación: Clustering\n",
    "\n",
    "Existen varias técnicas de segmentación pero para este caso como el dataset contiene una variedad de variables tanto demográficas como de comportamiento, se realiza la técnica de segmentación basada en Clustering, específicamente K-means, que proporciona una visión holística de los diferentes tipos de clientes.\n",
    "\n",
    "---\n",
    "2. Selección de Variables:\n",
    "\n",
    "Una vez definido la técnica de segmentación, a continuación se definen 3 análisis basados en el clustering que se va a implementar según las diferentes variables presentes: \n",
    "\n",
    "Para construir clusters significativos, es crucial elegir variables que reflejen tanto el comportamiento financiero de los clientes como sus características demográficas. Aquí te sugiero una selección de variables que podrías usar, junto con el razonamiento para cada una:\n",
    "\n",
    "Variables Demográficas:\n",
    "\n",
    "1.\tage (Edad): Es fundamental para entender la etapa de vida en la que se encuentra el cliente, lo que afecta sus necesidades financieras.\n",
    "\n",
    "2.\tcountry_id (País de residencia): Podría ser útil para identificar variaciones geográficas en el comportamiento de los clientes.\n",
    "3.\tregion_code (Provincia): Para segmentar a nivel más granular dentro de un país, especialmente si hay diferencias regionales significativas.\n",
    "4.  gender (Sexo): Aunque menos relevante en algunos casos, podría influir en la preferencia por ciertos productos financieros.\n",
    "5.\tsalary (Ingresos brutos): Indica la capacidad de compra e inversión del cliente, crucial para segmentar en términos de valor potencial.\n",
    "\n",
    "Variables de Comportamiento Financiero:\n",
    "\n",
    "1.\tactive_customer (Actividad del cliente): Indicador de si el cliente está activamente utilizando los productos, importante para identificar clientes leales o en riesgo de abandono.\n",
    "\n",
    "2.\tentry_channel (Canal de captación): Puede influir en el comportamiento inicial y la adopción de productos del cliente.\n",
    "\n",
    "3.\tcredit_card, debit_card (Tarjetas de crédito/débito): Reflejan el uso de productos financieros cotidianos y la disposición del cliente a utilizar crédito.\n",
    "\t\n",
    "4.\tem_account_p, em_account_pp, em_acount, emc_account (Cuentas de easyMoney): Estas variables muestran el nivel de compromiso del cliente con los diferentes productos de la empresa, siendo clave para entender la amplitud de su relación con la empresa.\n",
    "\t\n",
    "5.\tloans, mortgage (Préstamos e Hipotecas): Indican el nivel de deuda y el compromiso financiero a largo plazo del cliente.\n",
    "\n",
    "6.\tfunds, securities (Fondos y Valores): Reflejan la predisposición del cliente a invertir y su perfil de riesgo.\n",
    "\n",
    "7.\tshort_term_deposit, long_term_deposit (Depósitos a corto y largo plazo): Muestran las preferencias del cliente por la seguridad y el rendimiento financiero a corto o largo plazo.\n",
    "\n",
    "8.\tpayroll, payroll_account (Domiciliaciones y cuentas bonificadas): Indican el nivel de vinculación del cliente con la empresa a través de la domiciliación de su salario y otros ingresos recurrentes.\n",
    "\n",
    "9.\tpension_plan (Plan de pensiones): Refleja la planificación a largo plazo del cliente y su preocupación por la jubilación.\n",
    "\n",
    "\n",
    "---\n",
    "3. Creación de Nuevas Variables:\n",
    "\n",
    "    1. Número Total de Productos Financieros contratados: variable que suma el número de productos financieros que un cliente posee. Esto indica el nivel de compromiso y diversificación en el uso de servicios.\n",
    "\n",
    "   1. Antigüedad del Cliente desde su entry_date. Esto te permite diferenciar entre nuevos clientes y aquellos que han estado más tiempo con la empresa.\n",
    "\n",
    "   2. Frecuencia de uso de los productos de easyMoney.\n",
    "\t\n",
    "---\n",
    "4. Implementación del Clustering:\n",
    "\n",
    "Preprocesamiento:\n",
    "\n",
    "\t•\tLidiar con valores nulos: Decide cómo manejar valores faltantes (eliminar, imputar, etc.).\n",
    "\t•\tEstandarización: Normaliza las variables numéricas para que tengan igual peso en el análisis.\n",
    "\n",
    "Ejecución del Clustering:\n",
    "\n",
    "\t•\tRealiza un análisis de clustering utilizando K-means o Clustering Jerárquico.\n",
    "\t•\tDetermina el número óptimo de clusters usando técnicas como el método del codo o el análisis de la silueta.\n",
    "\n",
    "Interpretación de los Clusters:\n",
    "\n",
    "\t•\tAnaliza cada cluster para entender sus características principales. Por ejemplo, podrías encontrar un grupo de clientes jóvenes con altos ingresos que prefieren productos de inversión, y otro de clientes mayores con preferencias por productos de ahorro a largo plazo.\n",
    "\n",
    "5. Acciones Comerciales:\n",
    "\n",
    "Una vez que tengas los clusters, podrás desarrollar estrategias de marketing personalizadas. Por ejemplo:\n",
    "\n",
    "\t•\tClientes Jóvenes con Alto Uso de Crédito: Ofertas de tarjetas de crédito con recompensas.\n",
    "\t•\tClientes Mayores con Depósitos a Largo Plazo: Productos financieros seguros como bonos y certificados de depósito.\n",
    "\n",
    "Esta estrategia te permitirá aprovechar al máximo los datos disponibles, creando segmentos de clientes con un alto grado de diferenciación y relevancia para tus objetivos comerciales.\n",
    "\n",
    "\n",
    "\n",
    "\n"
   ]
  },
  {
   "cell_type": "code",
   "execution_count": null,
   "metadata": {},
   "outputs": [],
   "source": []
  },
  {
   "cell_type": "code",
   "execution_count": null,
   "metadata": {},
   "outputs": [],
   "source": []
  },
  {
   "cell_type": "code",
   "execution_count": null,
   "metadata": {},
   "outputs": [],
   "source": []
  },
  {
   "cell_type": "code",
   "execution_count": null,
   "metadata": {},
   "outputs": [],
   "source": []
  },
  {
   "cell_type": "code",
   "execution_count": null,
   "metadata": {},
   "outputs": [],
   "source": []
  },
  {
   "cell_type": "code",
   "execution_count": null,
   "metadata": {},
   "outputs": [],
   "source": []
  },
  {
   "cell_type": "code",
   "execution_count": null,
   "metadata": {},
   "outputs": [],
   "source": []
  },
  {
   "cell_type": "code",
   "execution_count": null,
   "metadata": {},
   "outputs": [],
   "source": []
  },
  {
   "cell_type": "code",
   "execution_count": null,
   "metadata": {},
   "outputs": [],
   "source": []
  },
  {
   "cell_type": "code",
   "execution_count": null,
   "metadata": {},
   "outputs": [],
   "source": []
  },
  {
   "cell_type": "code",
   "execution_count": null,
   "metadata": {},
   "outputs": [],
   "source": []
  },
  {
   "cell_type": "code",
   "execution_count": null,
   "metadata": {},
   "outputs": [],
   "source": []
  },
  {
   "cell_type": "code",
   "execution_count": null,
   "metadata": {},
   "outputs": [],
   "source": []
  },
  {
   "cell_type": "code",
   "execution_count": null,
   "metadata": {},
   "outputs": [],
   "source": []
  },
  {
   "cell_type": "code",
   "execution_count": null,
   "metadata": {},
   "outputs": [],
   "source": []
  },
  {
   "cell_type": "code",
   "execution_count": null,
   "metadata": {},
   "outputs": [],
   "source": []
  },
  {
   "cell_type": "code",
   "execution_count": null,
   "metadata": {},
   "outputs": [],
   "source": []
  },
  {
   "cell_type": "code",
   "execution_count": null,
   "metadata": {},
   "outputs": [],
   "source": []
  },
  {
   "cell_type": "code",
   "execution_count": null,
   "metadata": {},
   "outputs": [],
   "source": []
  },
  {
   "cell_type": "code",
   "execution_count": null,
   "metadata": {},
   "outputs": [],
   "source": []
  },
  {
   "cell_type": "code",
   "execution_count": null,
   "metadata": {},
   "outputs": [],
   "source": []
  }
 ],
 "metadata": {
  "language_info": {
   "name": "python"
  }
 },
 "nbformat": 4,
 "nbformat_minor": 2
}
