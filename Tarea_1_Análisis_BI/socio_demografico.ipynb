{
 "cells": [
  {
   "cell_type": "markdown",
   "metadata": {},
   "source": [
    "\n",
    "# SOCIODEMOGRAPHIC"
   ]
  },
  {
   "cell_type": "markdown",
   "metadata": {},
   "source": [
    "## sociodemographic.csv\n",
    "|Variable|Explicación|\n",
    "|---|---|\n",
    "|*age*| Edad del cliente\n",
    "|*country_id*| País de residencia del cliente\n",
    "|*deceased*| Fallecido. N/S\n",
    "|*gender*| Sexo del cliente\n",
    "|*region_code*| Provincia de residencia del cliente (para ES)\n",
    "|*salary*| Ingresos brutos de la unidad familiar"
   ]
  },
  {
   "cell_type": "code",
   "execution_count": 9,
   "metadata": {},
   "outputs": [],
   "source": [
    "import numpy as np \n",
    "import pandas as pd\n",
    "pd.options.display.float_format = '{:,.3f}'.format\n",
    "pd.set_option('display.max_columns', 100)\n",
    "import seaborn as sns\n",
    "import matplotlib.pyplot as plt\n",
    "sns.set_palette(\"Spectral\")\n",
    "import warnings\n",
    "warnings.filterwarnings('ignore')"
   ]
  },
  {
   "cell_type": "code",
   "execution_count": 10,
   "metadata": {},
   "outputs": [],
   "source": [
    "# Cargar el archivo parquet\n",
    "df_full = pd.read_parquet(\"C:/Users/Bobby/Desktop/Master Data Analysis/TFM/easyMoney_fintech/data/df_completo.parquet\")\n",
    "#df_full = pd.read_parquet(\"/Users/claudiacastro/Desktop/df_completo.parquet\")\n",
    "\n",
    "# eliminamos columnas que no aportan información\n",
    "df_full = df_full.drop(columns=['Unnamed: 0_x', 'Unnamed: 0_y', 'Unnamed: 0'], axis=1)\n",
    "\n",
    "# Ordenar df_full por pk_cid y pk_partition\n",
    "df_full = df_full.sort_values(by=['pk_cid', 'pk_partition'])\n",
    "\n",
    "# Modificamos el tipo de dato de las columnas, SIMPLEMENTE CAMBIA EL TIPO DE DATO\n",
    "df_full[\"pk_partition\"] = pd.to_datetime(df_full[\"pk_partition\"])\n",
    "df_full[\"entry_date\"] = pd.to_datetime(df_full[\"entry_date\"], errors='coerce')\n",
    "df_full[\"entry_channel\"] = df_full[\"entry_channel\"].astype('category')\n",
    "df_full['active_customer'] = df_full['active_customer'].astype('int32')\n",
    "df_full['segment'] = df_full['segment'].astype('category')\n",
    "df_full['short_term_deposit'] = df_full['short_term_deposit'].astype('int32')\n",
    "df_full['loans'] = df_full['loans'].astype('int32')\n",
    "df_full['mortgage'] = df_full['mortgage'].astype('int32')\n",
    "df_full['funds'] = df_full['funds'].astype('int32')\n",
    "df_full['securities'] = df_full['securities'].astype('int32')\n",
    "df_full['long_term_deposit'] = df_full['long_term_deposit'].astype('int32')\n",
    "df_full['credit_card'] = df_full['credit_card'].astype('int32')\n",
    "# df_full['payroll'] = df_full['payroll'].astype('int32')\n",
    "# df_full['pension_plan'] = df_full['pension_plan'].astype('int32')\n",
    "df_full['payroll_account'] = df_full['payroll_account'].astype('int32')\n",
    "df_full['emc_account'] = df_full['emc_account'].astype('int32')\n",
    "df_full['debit_card'] = df_full['debit_card'].astype('int32')\n",
    "df_full['em_account_p'] = df_full['em_account_p'].astype('int32')\n",
    "df_full['em_acount'] = df_full['em_acount'].astype('int32')\n",
    "df_full[\"country_id\"] = df_full[\"country_id\"].astype('category')\n",
    "df_full[\"region_code\"] = df_full[\"region_code\"].astype('category')\n",
    "df_full[\"gender\"] =  df_full[\"gender\"].astype('category')\n",
    "df_full[\"age\"] = df_full[\"age\"].astype('int32')"
   ]
  },
  {
   "cell_type": "markdown",
   "metadata": {},
   "source": [
    "## Análisis Preliminar"
   ]
  },
  {
   "cell_type": "code",
   "execution_count": 11,
   "metadata": {},
   "outputs": [],
   "source": [
    "def build_my_info_table(df):\n",
    "    # Seleccionar las columnas numéricas del DataFrame\n",
    "    numerical_columns = df.select_dtypes(include=[np.number])\n",
    "    \n",
    "    # Crear un DataFrame con información detallada sobre las columnas\n",
    "    df_info = pd.DataFrame({\n",
    "        # Nombre de la columna\n",
    "        'column':   [col             for col in df.columns],\n",
    "        # Tipo de datos de la columna\n",
    "        'dtype':    [df[col].dtype   for col in df.columns],\n",
    "        # Número de valores no nulos en la columna\n",
    "        'count':    [df[col].count() for col in df.columns],\n",
    "        \n",
    "        # Estadísticas descriptivas para columnas numéricas\n",
    "        'mean':     [round(df[col].mean(), 1)         if col in numerical_columns else '' for col in df.columns],\n",
    "        'std':      [round(df[col].std(), 1)          if col in numerical_columns else '' for col in df.columns],\n",
    "        'min':      [round(df[col].min(), 1)          if col in numerical_columns else '' for col in df.columns],\n",
    "        '25%':      [round(df[col].quantile(0.25), 1) if col in numerical_columns else '' for col in df.columns],\n",
    "        '50%':      [round(df[col].median(), 1)       if col in numerical_columns else '' for col in df.columns],\n",
    "        '75%':      [round(df[col].quantile(0.75), 1) if col in numerical_columns else '' for col in df.columns],\n",
    "        'max':      [round(df[col].max(), 1)          if col in numerical_columns else '' for col in df.columns],\n",
    "        \n",
    "        # Número de valores únicos en la columna\n",
    "        'nunique':  [df[col].nunique()                                          for col in df.columns],\n",
    "        \n",
    "        # Lista de valores únicos si el número de valores únicos es menor que 30, de lo contrario, cadena vacía\n",
    "        'unique':   [list(df[col].unique()) if df[col].nunique() < 10 else ''   for col in df.columns],\n",
    "        \n",
    "        # Porcentaje de cardinalidad (número de valores únicos)\n",
    "        'cardinality %': [round(df[col].nunique() / df.shape[0] * 100, 1)      for col in df.columns],\n",
    "        \n",
    "        # Moda (valor más frecuente) en la columna\n",
    "        'mode':     [df[col].mode()[0]                                          for col in df.columns],\n",
    "        \n",
    "        # Porcentaje de ocurrencias de la moda en la columna\n",
    "        'mode %':   [round(df[col].value_counts().max() * 100 / df.shape[0], 1) for col in df.columns],\n",
    "        \n",
    "        # Número de valores nulos en la columna\n",
    "        'null_count': [df[col].isnull().sum() for col in df.columns],\n",
    "        \n",
    "        # Porcentaje de valores nulos en la columna\n",
    "        'null %':   [round(df[col].isnull().mean() * 100, 1)                    for col in df.columns],\n",
    "    })\n",
    "    return df_info"
   ]
  },
  {
   "cell_type": "code",
   "execution_count": 12,
   "metadata": {},
   "outputs": [
    {
     "data": {
      "text/html": [
       "<div>\n",
       "<style scoped>\n",
       "    .dataframe tbody tr th:only-of-type {\n",
       "        vertical-align: middle;\n",
       "    }\n",
       "\n",
       "    .dataframe tbody tr th {\n",
       "        vertical-align: top;\n",
       "    }\n",
       "\n",
       "    .dataframe thead th {\n",
       "        text-align: right;\n",
       "    }\n",
       "</style>\n",
       "<table border=\"1\" class=\"dataframe\">\n",
       "  <thead>\n",
       "    <tr style=\"text-align: right;\">\n",
       "      <th></th>\n",
       "      <th>pk_cid</th>\n",
       "      <th>pk_partition</th>\n",
       "      <th>age</th>\n",
       "      <th>country_id</th>\n",
       "      <th>deceased</th>\n",
       "      <th>gender</th>\n",
       "      <th>region_code</th>\n",
       "      <th>salary</th>\n",
       "    </tr>\n",
       "  </thead>\n",
       "  <tbody>\n",
       "    <tr>\n",
       "      <th>1479563</th>\n",
       "      <td>15891</td>\n",
       "      <td>2018-07-28</td>\n",
       "      <td>59</td>\n",
       "      <td>ES</td>\n",
       "      <td>N</td>\n",
       "      <td>H</td>\n",
       "      <td>28.000</td>\n",
       "      <td>NaN</td>\n",
       "    </tr>\n",
       "    <tr>\n",
       "      <th>2168122</th>\n",
       "      <td>15891</td>\n",
       "      <td>2018-08-28</td>\n",
       "      <td>59</td>\n",
       "      <td>ES</td>\n",
       "      <td>N</td>\n",
       "      <td>H</td>\n",
       "      <td>28.000</td>\n",
       "      <td>NaN</td>\n",
       "    </tr>\n",
       "    <tr>\n",
       "      <th>2962973</th>\n",
       "      <td>16063</td>\n",
       "      <td>2018-11-28</td>\n",
       "      <td>62</td>\n",
       "      <td>ES</td>\n",
       "      <td>N</td>\n",
       "      <td>H</td>\n",
       "      <td>28.000</td>\n",
       "      <td>NaN</td>\n",
       "    </tr>\n",
       "    <tr>\n",
       "      <th>3628236</th>\n",
       "      <td>16063</td>\n",
       "      <td>2018-12-28</td>\n",
       "      <td>62</td>\n",
       "      <td>ES</td>\n",
       "      <td>N</td>\n",
       "      <td>H</td>\n",
       "      <td>28.000</td>\n",
       "      <td>NaN</td>\n",
       "    </tr>\n",
       "    <tr>\n",
       "      <th>4028169</th>\n",
       "      <td>16063</td>\n",
       "      <td>2019-01-28</td>\n",
       "      <td>62</td>\n",
       "      <td>ES</td>\n",
       "      <td>N</td>\n",
       "      <td>H</td>\n",
       "      <td>28.000</td>\n",
       "      <td>NaN</td>\n",
       "    </tr>\n",
       "  </tbody>\n",
       "</table>\n",
       "</div>"
      ],
      "text/plain": [
       "         pk_cid pk_partition  age country_id deceased gender region_code  \\\n",
       "1479563   15891   2018-07-28   59         ES        N      H      28.000   \n",
       "2168122   15891   2018-08-28   59         ES        N      H      28.000   \n",
       "2962973   16063   2018-11-28   62         ES        N      H      28.000   \n",
       "3628236   16063   2018-12-28   62         ES        N      H      28.000   \n",
       "4028169   16063   2019-01-28   62         ES        N      H      28.000   \n",
       "\n",
       "         salary  \n",
       "1479563     NaN  \n",
       "2168122     NaN  \n",
       "2962973     NaN  \n",
       "3628236     NaN  \n",
       "4028169     NaN  "
      ]
     },
     "execution_count": 12,
     "metadata": {},
     "output_type": "execute_result"
    }
   ],
   "source": [
    "# Crear un nuevo DataFrame df_soc con las columnas específicas\n",
    "columnas_a_seleccionar = ['pk_cid', 'pk_partition', 'age', 'country_id', 'deceased', 'gender', 'region_code', 'salary']\n",
    "df_soc = df_full[columnas_a_seleccionar]\n",
    "\n",
    "df_soc.head()"
   ]
  },
  {
   "cell_type": "code",
   "execution_count": 13,
   "metadata": {},
   "outputs": [
    {
     "data": {
      "text/plain": [
       "pk_cid                0\n",
       "pk_partition          0\n",
       "age                   0\n",
       "country_id            0\n",
       "deceased              0\n",
       "gender               25\n",
       "region_code        2264\n",
       "salary          1512103\n",
       "dtype: int64"
      ]
     },
     "execution_count": 13,
     "metadata": {},
     "output_type": "execute_result"
    }
   ],
   "source": [
    "df_soc.isna().sum()"
   ]
  },
  {
   "cell_type": "markdown",
   "metadata": {},
   "source": [
    "### Tabla de Información General"
   ]
  },
  {
   "cell_type": "code",
   "execution_count": 14,
   "metadata": {},
   "outputs": [
    {
     "data": {
      "text/html": [
       "<style type=\"text/css\">\n",
       "#T_c09bb thead th {\n",
       "  position: sticky;\n",
       "  top: 0;\n",
       "  background-color: black;\n",
       "  z-index: 1;\n",
       "}\n",
       "#T_c09bb tbody {\n",
       "  display: block;\n",
       "  max-height: 400px;\n",
       "  overflow-y: scroll;\n",
       "  overflow-x: auto;\n",
       "}\n",
       "#T_c09bb thead {\n",
       "  display: table;\n",
       "  width: 100%;\n",
       "  table-layout: fixed;\n",
       "}\n",
       "#T_c09bb  tbody tr {\n",
       "  display: table;\n",
       "  width: 100%;\n",
       "  table-layout: fixed;\n",
       "}\n",
       "#T_c09bb th {\n",
       "  word-wrap: break-word;\n",
       "  white-space: pre-wrap;\n",
       "  max-width: 150px;\n",
       "}\n",
       "#T_c09bb  td {\n",
       "  word-wrap: break-word;\n",
       "  white-space: pre-wrap;\n",
       "  max-width: 150px;\n",
       "}\n",
       "#T_c09bb_row0_col2, #T_c09bb_row0_col10, #T_c09bb_row0_col12, #T_c09bb_row1_col2, #T_c09bb_row2_col2, #T_c09bb_row3_col2, #T_c09bb_row3_col14, #T_c09bb_row4_col2, #T_c09bb_row4_col14, #T_c09bb_row5_col2, #T_c09bb_row6_col2, #T_c09bb_row7_col15, #T_c09bb_row7_col16 {\n",
       "  background-color: #67000d;\n",
       "  color: #f1f1f1;\n",
       "}\n",
       "#T_c09bb_row0_col14, #T_c09bb_row0_col15, #T_c09bb_row0_col16, #T_c09bb_row1_col10, #T_c09bb_row1_col12, #T_c09bb_row1_col15, #T_c09bb_row1_col16, #T_c09bb_row2_col10, #T_c09bb_row2_col12, #T_c09bb_row2_col15, #T_c09bb_row2_col16, #T_c09bb_row3_col10, #T_c09bb_row3_col12, #T_c09bb_row3_col15, #T_c09bb_row3_col16, #T_c09bb_row4_col10, #T_c09bb_row4_col12, #T_c09bb_row4_col15, #T_c09bb_row4_col16, #T_c09bb_row5_col10, #T_c09bb_row5_col12, #T_c09bb_row5_col15, #T_c09bb_row5_col16, #T_c09bb_row6_col10, #T_c09bb_row6_col12, #T_c09bb_row6_col15, #T_c09bb_row6_col16, #T_c09bb_row7_col2, #T_c09bb_row7_col14 {\n",
       "  background-color: #fff5f0;\n",
       "  color: #000000;\n",
       "}\n",
       "#T_c09bb_row1_col14 {\n",
       "  background-color: #fee9df;\n",
       "  color: #000000;\n",
       "}\n",
       "#T_c09bb_row2_col14 {\n",
       "  background-color: #fee1d3;\n",
       "  color: #000000;\n",
       "}\n",
       "#T_c09bb_row5_col14 {\n",
       "  background-color: #f96346;\n",
       "  color: #f1f1f1;\n",
       "}\n",
       "#T_c09bb_row6_col14 {\n",
       "  background-color: #fdcbb6;\n",
       "  color: #000000;\n",
       "}\n",
       "#T_c09bb_row7_col10 {\n",
       "  background-color: #f4503a;\n",
       "  color: #f1f1f1;\n",
       "}\n",
       "#T_c09bb_row7_col12 {\n",
       "  background-color: #f6553c;\n",
       "  color: #f1f1f1;\n",
       "}\n",
       "</style>\n",
       "<table id=\"T_c09bb\">\n",
       "  <thead>\n",
       "    <tr>\n",
       "      <th class=\"blank level0\" >&nbsp;</th>\n",
       "      <th id=\"T_c09bb_level0_col0\" class=\"col_heading level0 col0\" >column</th>\n",
       "      <th id=\"T_c09bb_level0_col1\" class=\"col_heading level0 col1\" >dtype</th>\n",
       "      <th id=\"T_c09bb_level0_col2\" class=\"col_heading level0 col2\" >count</th>\n",
       "      <th id=\"T_c09bb_level0_col3\" class=\"col_heading level0 col3\" >mean</th>\n",
       "      <th id=\"T_c09bb_level0_col4\" class=\"col_heading level0 col4\" >std</th>\n",
       "      <th id=\"T_c09bb_level0_col5\" class=\"col_heading level0 col5\" >min</th>\n",
       "      <th id=\"T_c09bb_level0_col6\" class=\"col_heading level0 col6\" >25%</th>\n",
       "      <th id=\"T_c09bb_level0_col7\" class=\"col_heading level0 col7\" >50%</th>\n",
       "      <th id=\"T_c09bb_level0_col8\" class=\"col_heading level0 col8\" >75%</th>\n",
       "      <th id=\"T_c09bb_level0_col9\" class=\"col_heading level0 col9\" >max</th>\n",
       "      <th id=\"T_c09bb_level0_col10\" class=\"col_heading level0 col10\" >nunique</th>\n",
       "      <th id=\"T_c09bb_level0_col11\" class=\"col_heading level0 col11\" >unique</th>\n",
       "      <th id=\"T_c09bb_level0_col12\" class=\"col_heading level0 col12\" >cardinality %</th>\n",
       "      <th id=\"T_c09bb_level0_col13\" class=\"col_heading level0 col13\" >mode</th>\n",
       "      <th id=\"T_c09bb_level0_col14\" class=\"col_heading level0 col14\" >mode %</th>\n",
       "      <th id=\"T_c09bb_level0_col15\" class=\"col_heading level0 col15\" >null_count</th>\n",
       "      <th id=\"T_c09bb_level0_col16\" class=\"col_heading level0 col16\" >null %</th>\n",
       "    </tr>\n",
       "  </thead>\n",
       "  <tbody>\n",
       "    <tr>\n",
       "      <th id=\"T_c09bb_level0_row0\" class=\"row_heading level0 row0\" >0</th>\n",
       "      <td id=\"T_c09bb_row0_col0\" class=\"data row0 col0\" >pk_cid</td>\n",
       "      <td id=\"T_c09bb_row0_col1\" class=\"data row0 col1\" >int64</td>\n",
       "      <td id=\"T_c09bb_row0_col2\" class=\"data row0 col2\" >5962924</td>\n",
       "      <td id=\"T_c09bb_row0_col3\" class=\"data row0 col3\" >1234929.800000</td>\n",
       "      <td id=\"T_c09bb_row0_col4\" class=\"data row0 col4\" >162302.000000</td>\n",
       "      <td id=\"T_c09bb_row0_col5\" class=\"data row0 col5\" >15891</td>\n",
       "      <td id=\"T_c09bb_row0_col6\" class=\"data row0 col6\" >1112532.000000</td>\n",
       "      <td id=\"T_c09bb_row0_col7\" class=\"data row0 col7\" >1231097.000000</td>\n",
       "      <td id=\"T_c09bb_row0_col8\" class=\"data row0 col8\" >1352339.000000</td>\n",
       "      <td id=\"T_c09bb_row0_col9\" class=\"data row0 col9\" >1553689</td>\n",
       "      <td id=\"T_c09bb_row0_col10\" class=\"data row0 col10\" >456373</td>\n",
       "      <td id=\"T_c09bb_row0_col11\" class=\"data row0 col11\" ></td>\n",
       "      <td id=\"T_c09bb_row0_col12\" class=\"data row0 col12\" >7.700000</td>\n",
       "      <td id=\"T_c09bb_row0_col13\" class=\"data row0 col13\" >17457</td>\n",
       "      <td id=\"T_c09bb_row0_col14\" class=\"data row0 col14\" >0.000000</td>\n",
       "      <td id=\"T_c09bb_row0_col15\" class=\"data row0 col15\" >0</td>\n",
       "      <td id=\"T_c09bb_row0_col16\" class=\"data row0 col16\" >0.000000</td>\n",
       "    </tr>\n",
       "    <tr>\n",
       "      <th id=\"T_c09bb_level0_row1\" class=\"row_heading level0 row1\" >1</th>\n",
       "      <td id=\"T_c09bb_row1_col0\" class=\"data row1 col0\" >pk_partition</td>\n",
       "      <td id=\"T_c09bb_row1_col1\" class=\"data row1 col1\" >datetime64[ns]</td>\n",
       "      <td id=\"T_c09bb_row1_col2\" class=\"data row1 col2\" >5962924</td>\n",
       "      <td id=\"T_c09bb_row1_col3\" class=\"data row1 col3\" ></td>\n",
       "      <td id=\"T_c09bb_row1_col4\" class=\"data row1 col4\" ></td>\n",
       "      <td id=\"T_c09bb_row1_col5\" class=\"data row1 col5\" ></td>\n",
       "      <td id=\"T_c09bb_row1_col6\" class=\"data row1 col6\" ></td>\n",
       "      <td id=\"T_c09bb_row1_col7\" class=\"data row1 col7\" ></td>\n",
       "      <td id=\"T_c09bb_row1_col8\" class=\"data row1 col8\" ></td>\n",
       "      <td id=\"T_c09bb_row1_col9\" class=\"data row1 col9\" ></td>\n",
       "      <td id=\"T_c09bb_row1_col10\" class=\"data row1 col10\" >17</td>\n",
       "      <td id=\"T_c09bb_row1_col11\" class=\"data row1 col11\" ></td>\n",
       "      <td id=\"T_c09bb_row1_col12\" class=\"data row1 col12\" >0.000000</td>\n",
       "      <td id=\"T_c09bb_row1_col13\" class=\"data row1 col13\" >2019-05-28 00:00:00</td>\n",
       "      <td id=\"T_c09bb_row1_col14\" class=\"data row1 col14\" >7.400000</td>\n",
       "      <td id=\"T_c09bb_row1_col15\" class=\"data row1 col15\" >0</td>\n",
       "      <td id=\"T_c09bb_row1_col16\" class=\"data row1 col16\" >0.000000</td>\n",
       "    </tr>\n",
       "    <tr>\n",
       "      <th id=\"T_c09bb_level0_row2\" class=\"row_heading level0 row2\" >2</th>\n",
       "      <td id=\"T_c09bb_row2_col0\" class=\"data row2 col0\" >age</td>\n",
       "      <td id=\"T_c09bb_row2_col1\" class=\"data row2 col1\" >int32</td>\n",
       "      <td id=\"T_c09bb_row2_col2\" class=\"data row2 col2\" >5962924</td>\n",
       "      <td id=\"T_c09bb_row2_col3\" class=\"data row2 col3\" >29.800000</td>\n",
       "      <td id=\"T_c09bb_row2_col4\" class=\"data row2 col4\" >12.000000</td>\n",
       "      <td id=\"T_c09bb_row2_col5\" class=\"data row2 col5\" >2</td>\n",
       "      <td id=\"T_c09bb_row2_col6\" class=\"data row2 col6\" >22.000000</td>\n",
       "      <td id=\"T_c09bb_row2_col7\" class=\"data row2 col7\" >25.000000</td>\n",
       "      <td id=\"T_c09bb_row2_col8\" class=\"data row2 col8\" >34.000000</td>\n",
       "      <td id=\"T_c09bb_row2_col9\" class=\"data row2 col9\" >105</td>\n",
       "      <td id=\"T_c09bb_row2_col10\" class=\"data row2 col10\" >104</td>\n",
       "      <td id=\"T_c09bb_row2_col11\" class=\"data row2 col11\" ></td>\n",
       "      <td id=\"T_c09bb_row2_col12\" class=\"data row2 col12\" >0.000000</td>\n",
       "      <td id=\"T_c09bb_row2_col13\" class=\"data row2 col13\" >22</td>\n",
       "      <td id=\"T_c09bb_row2_col14\" class=\"data row2 col14\" >12.200000</td>\n",
       "      <td id=\"T_c09bb_row2_col15\" class=\"data row2 col15\" >0</td>\n",
       "      <td id=\"T_c09bb_row2_col16\" class=\"data row2 col16\" >0.000000</td>\n",
       "    </tr>\n",
       "    <tr>\n",
       "      <th id=\"T_c09bb_level0_row3\" class=\"row_heading level0 row3\" >3</th>\n",
       "      <td id=\"T_c09bb_row3_col0\" class=\"data row3 col0\" >country_id</td>\n",
       "      <td id=\"T_c09bb_row3_col1\" class=\"data row3 col1\" >category</td>\n",
       "      <td id=\"T_c09bb_row3_col2\" class=\"data row3 col2\" >5962924</td>\n",
       "      <td id=\"T_c09bb_row3_col3\" class=\"data row3 col3\" ></td>\n",
       "      <td id=\"T_c09bb_row3_col4\" class=\"data row3 col4\" ></td>\n",
       "      <td id=\"T_c09bb_row3_col5\" class=\"data row3 col5\" ></td>\n",
       "      <td id=\"T_c09bb_row3_col6\" class=\"data row3 col6\" ></td>\n",
       "      <td id=\"T_c09bb_row3_col7\" class=\"data row3 col7\" ></td>\n",
       "      <td id=\"T_c09bb_row3_col8\" class=\"data row3 col8\" ></td>\n",
       "      <td id=\"T_c09bb_row3_col9\" class=\"data row3 col9\" ></td>\n",
       "      <td id=\"T_c09bb_row3_col10\" class=\"data row3 col10\" >41</td>\n",
       "      <td id=\"T_c09bb_row3_col11\" class=\"data row3 col11\" ></td>\n",
       "      <td id=\"T_c09bb_row3_col12\" class=\"data row3 col12\" >0.000000</td>\n",
       "      <td id=\"T_c09bb_row3_col13\" class=\"data row3 col13\" >ES</td>\n",
       "      <td id=\"T_c09bb_row3_col14\" class=\"data row3 col14\" >100.000000</td>\n",
       "      <td id=\"T_c09bb_row3_col15\" class=\"data row3 col15\" >0</td>\n",
       "      <td id=\"T_c09bb_row3_col16\" class=\"data row3 col16\" >0.000000</td>\n",
       "    </tr>\n",
       "    <tr>\n",
       "      <th id=\"T_c09bb_level0_row4\" class=\"row_heading level0 row4\" >4</th>\n",
       "      <td id=\"T_c09bb_row4_col0\" class=\"data row4 col0\" >deceased</td>\n",
       "      <td id=\"T_c09bb_row4_col1\" class=\"data row4 col1\" >object</td>\n",
       "      <td id=\"T_c09bb_row4_col2\" class=\"data row4 col2\" >5962924</td>\n",
       "      <td id=\"T_c09bb_row4_col3\" class=\"data row4 col3\" ></td>\n",
       "      <td id=\"T_c09bb_row4_col4\" class=\"data row4 col4\" ></td>\n",
       "      <td id=\"T_c09bb_row4_col5\" class=\"data row4 col5\" ></td>\n",
       "      <td id=\"T_c09bb_row4_col6\" class=\"data row4 col6\" ></td>\n",
       "      <td id=\"T_c09bb_row4_col7\" class=\"data row4 col7\" ></td>\n",
       "      <td id=\"T_c09bb_row4_col8\" class=\"data row4 col8\" ></td>\n",
       "      <td id=\"T_c09bb_row4_col9\" class=\"data row4 col9\" ></td>\n",
       "      <td id=\"T_c09bb_row4_col10\" class=\"data row4 col10\" >2</td>\n",
       "      <td id=\"T_c09bb_row4_col11\" class=\"data row4 col11\" >['N', 'S']</td>\n",
       "      <td id=\"T_c09bb_row4_col12\" class=\"data row4 col12\" >0.000000</td>\n",
       "      <td id=\"T_c09bb_row4_col13\" class=\"data row4 col13\" >N</td>\n",
       "      <td id=\"T_c09bb_row4_col14\" class=\"data row4 col14\" >100.000000</td>\n",
       "      <td id=\"T_c09bb_row4_col15\" class=\"data row4 col15\" >0</td>\n",
       "      <td id=\"T_c09bb_row4_col16\" class=\"data row4 col16\" >0.000000</td>\n",
       "    </tr>\n",
       "    <tr>\n",
       "      <th id=\"T_c09bb_level0_row5\" class=\"row_heading level0 row5\" >5</th>\n",
       "      <td id=\"T_c09bb_row5_col0\" class=\"data row5 col0\" >gender</td>\n",
       "      <td id=\"T_c09bb_row5_col1\" class=\"data row5 col1\" >category</td>\n",
       "      <td id=\"T_c09bb_row5_col2\" class=\"data row5 col2\" >5962899</td>\n",
       "      <td id=\"T_c09bb_row5_col3\" class=\"data row5 col3\" ></td>\n",
       "      <td id=\"T_c09bb_row5_col4\" class=\"data row5 col4\" ></td>\n",
       "      <td id=\"T_c09bb_row5_col5\" class=\"data row5 col5\" ></td>\n",
       "      <td id=\"T_c09bb_row5_col6\" class=\"data row5 col6\" ></td>\n",
       "      <td id=\"T_c09bb_row5_col7\" class=\"data row5 col7\" ></td>\n",
       "      <td id=\"T_c09bb_row5_col8\" class=\"data row5 col8\" ></td>\n",
       "      <td id=\"T_c09bb_row5_col9\" class=\"data row5 col9\" ></td>\n",
       "      <td id=\"T_c09bb_row5_col10\" class=\"data row5 col10\" >2</td>\n",
       "      <td id=\"T_c09bb_row5_col11\" class=\"data row5 col11\" >['H', 'V', nan]</td>\n",
       "      <td id=\"T_c09bb_row5_col12\" class=\"data row5 col12\" >0.000000</td>\n",
       "      <td id=\"T_c09bb_row5_col13\" class=\"data row5 col13\" >H</td>\n",
       "      <td id=\"T_c09bb_row5_col14\" class=\"data row5 col14\" >51.800000</td>\n",
       "      <td id=\"T_c09bb_row5_col15\" class=\"data row5 col15\" >25</td>\n",
       "      <td id=\"T_c09bb_row5_col16\" class=\"data row5 col16\" >0.000000</td>\n",
       "    </tr>\n",
       "    <tr>\n",
       "      <th id=\"T_c09bb_level0_row6\" class=\"row_heading level0 row6\" >6</th>\n",
       "      <td id=\"T_c09bb_row6_col0\" class=\"data row6 col0\" >region_code</td>\n",
       "      <td id=\"T_c09bb_row6_col1\" class=\"data row6 col1\" >category</td>\n",
       "      <td id=\"T_c09bb_row6_col2\" class=\"data row6 col2\" >5960660</td>\n",
       "      <td id=\"T_c09bb_row6_col3\" class=\"data row6 col3\" ></td>\n",
       "      <td id=\"T_c09bb_row6_col4\" class=\"data row6 col4\" ></td>\n",
       "      <td id=\"T_c09bb_row6_col5\" class=\"data row6 col5\" ></td>\n",
       "      <td id=\"T_c09bb_row6_col6\" class=\"data row6 col6\" ></td>\n",
       "      <td id=\"T_c09bb_row6_col7\" class=\"data row6 col7\" ></td>\n",
       "      <td id=\"T_c09bb_row6_col8\" class=\"data row6 col8\" ></td>\n",
       "      <td id=\"T_c09bb_row6_col9\" class=\"data row6 col9\" ></td>\n",
       "      <td id=\"T_c09bb_row6_col10\" class=\"data row6 col10\" >52</td>\n",
       "      <td id=\"T_c09bb_row6_col11\" class=\"data row6 col11\" ></td>\n",
       "      <td id=\"T_c09bb_row6_col12\" class=\"data row6 col12\" >0.000000</td>\n",
       "      <td id=\"T_c09bb_row6_col13\" class=\"data row6 col13\" >28.000000</td>\n",
       "      <td id=\"T_c09bb_row6_col14\" class=\"data row6 col14\" >19.900000</td>\n",
       "      <td id=\"T_c09bb_row6_col15\" class=\"data row6 col15\" >2264</td>\n",
       "      <td id=\"T_c09bb_row6_col16\" class=\"data row6 col16\" >0.000000</td>\n",
       "    </tr>\n",
       "    <tr>\n",
       "      <th id=\"T_c09bb_level0_row7\" class=\"row_heading level0 row7\" >7</th>\n",
       "      <td id=\"T_c09bb_row7_col0\" class=\"data row7 col0\" >salary</td>\n",
       "      <td id=\"T_c09bb_row7_col1\" class=\"data row7 col1\" >float64</td>\n",
       "      <td id=\"T_c09bb_row7_col2\" class=\"data row7 col2\" >4450821</td>\n",
       "      <td id=\"T_c09bb_row7_col3\" class=\"data row7 col3\" >115816.700000</td>\n",
       "      <td id=\"T_c09bb_row7_col4\" class=\"data row7 col4\" >199551.900000</td>\n",
       "      <td id=\"T_c09bb_row7_col5\" class=\"data row7 col5\" >1202.700000</td>\n",
       "      <td id=\"T_c09bb_row7_col6\" class=\"data row7 col6\" >61500.600000</td>\n",
       "      <td id=\"T_c09bb_row7_col7\" class=\"data row7 col7\" >88654.600000</td>\n",
       "      <td id=\"T_c09bb_row7_col8\" class=\"data row7 col8\" >131669.900000</td>\n",
       "      <td id=\"T_c09bb_row7_col9\" class=\"data row7 col9\" >28894395.500000</td>\n",
       "      <td id=\"T_c09bb_row7_col10\" class=\"data row7 col10\" >258629</td>\n",
       "      <td id=\"T_c09bb_row7_col11\" class=\"data row7 col11\" ></td>\n",
       "      <td id=\"T_c09bb_row7_col12\" class=\"data row7 col12\" >4.300000</td>\n",
       "      <td id=\"T_c09bb_row7_col13\" class=\"data row7 col13\" >451931.220000</td>\n",
       "      <td id=\"T_c09bb_row7_col14\" class=\"data row7 col14\" >0.000000</td>\n",
       "      <td id=\"T_c09bb_row7_col15\" class=\"data row7 col15\" >1512103</td>\n",
       "      <td id=\"T_c09bb_row7_col16\" class=\"data row7 col16\" >25.400000</td>\n",
       "    </tr>\n",
       "  </tbody>\n",
       "</table>\n"
      ],
      "text/plain": [
       "<pandas.io.formats.style.Styler at 0x264ffe85fa0>"
      ]
     },
     "execution_count": 14,
     "metadata": {},
     "output_type": "execute_result"
    }
   ],
   "source": [
    "# Crear tabla de info.\n",
    "df_soc_info = build_my_info_table(df_soc)\n",
    "\n",
    "# Aplicar el estilo de gradiente de color.\n",
    "styled_soc_df = df_soc_info.style.background_gradient(cmap='Reds', axis=0)\n",
    "\n",
    "# Agregar estilos para hacer la tabla scrolleable y fijar los encabezados.\n",
    "styled_soc_df = styled_soc_df.set_table_styles(\n",
    "    [{\n",
    "        'selector': 'thead th',\n",
    "        'props': [('position', 'sticky'), ('top', '0'), ('background-color', 'black'), ('z-index', '1')]\n",
    "    }, {\n",
    "        'selector': 'tbody',\n",
    "        'props': [('display', 'block'), ('max-height', '400px'), ('overflow-y', 'scroll'), ('overflow-x', 'auto')]\n",
    "    }, {\n",
    "        'selector': 'thead, tbody tr',\n",
    "        'props': [('display', 'table'), ('width', '100%'), ('table-layout', 'fixed')]\n",
    "    }, {\n",
    "        'selector': 'th, td',\n",
    "        'props': [('word-wrap', 'break-word'), ('white-space', 'pre-wrap'), ('max-width', '150px')]\n",
    "    }]\n",
    ")\n",
    "\n",
    "# Mostrar la tabla.\n",
    "styled_soc_df"
   ]
  },
  {
   "cell_type": "markdown",
   "metadata": {},
   "source": [
    "Haciendo un análisis preliminar de los resultados obtenidos en la tabla, podemos extraer laas siguientes conclusiones:\n",
    "\n",
    " - Se observan valores nulos en las variables de género, region_code & salary, estudiaremos como imputarlas más adelante.\n",
    " - Se observa una vairabilidad aceptable en todas las categoráis, a excepción de country (donde predomina España en casi un 100%) y deceased (practicamente ningún cliente fallecido)."
   ]
  },
  {
   "cell_type": "markdown",
   "metadata": {},
   "source": [
    "## Mes pk_partition"
   ]
  },
  {
   "cell_type": "code",
   "execution_count": 15,
   "metadata": {},
   "outputs": [],
   "source": [
    "# 'pk_partitions' formato de fecha\n",
    "df_full['pk_partition'] = pd.to_datetime(df_full['pk_partition'], errors='coerce')\n",
    "\n",
    "# Extraer el mes de la columna 'pk_partitions' y crear una nueva columna 'mes'\n",
    "df_full['mes_partition'] = df_full['pk_partition'].dt.month\n",
    "\n",
    "# Extraer también el nombre del mes:\n",
    "df_full['mes_nombre_partition'] = df_full['pk_partition'].dt.strftime('%B')"
   ]
  },
  {
   "cell_type": "markdown",
   "metadata": {},
   "source": [
    "Usaremos groupby() para obtener la última partición (pk_partition) y tener una visión actual de la empresa"
   ]
  },
  {
   "cell_type": "code",
   "execution_count": 20,
   "metadata": {},
   "outputs": [],
   "source": [
    "# Filtrar el DataFrame para obtener solo los datos de la última ingesta\n",
    "latest_date = '2019-05-28'\n",
    "df_last_partition = df_full[df_full['pk_partition'] == latest_date]"
   ]
  },
  {
   "cell_type": "markdown",
   "metadata": {},
   "source": [
    "## AGE"
   ]
  },
  {
   "cell_type": "code",
   "execution_count": 22,
   "metadata": {},
   "outputs": [
    {
     "data": {
      "image/png": "[encoded data removed]",
      "text/plain": [
       "<Figure size 1000x600 with 1 Axes>"
      ]
     },
     "metadata": {},
     "output_type": "display_data"
    }
   ],
   "source": [
    "# Contar la distribución de valores en 'age' para la última partición\n",
    "age_data = df_last_partition['age'].value_counts().reset_index()\n",
    "age_data.columns = ['age', 'count']\n",
    "\n",
    "# Filtrar las 15 edades más repetidas\n",
    "top_15_ages = age_data.nlargest(15, 'count')\n",
    "\n",
    "# Calcular el porcentaje de cada valor\n",
    "total_count = top_15_ages['count'].sum()\n",
    "top_15_ages['percentage'] = (top_15_ages['count'] / total_count) * 100\n",
    "\n",
    "# Crear el gráfico de barras para el top 15 de 'age'\n",
    "plt.figure(figsize=(10, 6))\n",
    "barplot = sns.barplot(x='age', y='count', data=top_15_ages)\n",
    "\n",
    "# Añadir etiquetas y título\n",
    "plt.xlabel('Edad')\n",
    "plt.ylabel('Número de clientes')\n",
    "plt.title('Top 15 Edades más comunes de clientes (última partición)')\n",
    "\n",
    "# Rotar las etiquetas del eje x si es necesario\n",
    "plt.xticks(rotation=90)\n",
    "\n",
    "# Mostrar el gráfico\n",
    "plt.show()"
   ]
  },
  {
   "cell_type": "code",
   "execution_count": null,
   "metadata": {},
   "outputs": [],
   "source": [
    "# Contar cuántos valores únicos de 'age' tiene cada cliente\n",
    "estado_por_cliente_age = df_full.groupby('pk_cid')['age'].nunique()\n",
    "\n",
    "# Identificar clientes con edades mixtas (múltiples valores en 'age')\n",
    "clientes_mixtos_age = estado_por_cliente_age[estado_por_cliente_age > 1].index\n",
    "\n",
    "# Excluir los clientes mixtos del análisis de las otras categorías\n",
    "df_no_mixtos_age = df_full[~df_full['pk_cid'].isin(clientes_mixtos_age)]\n",
    "\n",
    "# Identificar clientes que tienen siempre la misma edad\n",
    "clientes_misma_edad = df_no_mixtos_age.groupby('pk_cid')['age'].nunique()\n",
    "clientes_misma_edad = clientes_misma_edad[clientes_misma_edad == 1].index\n",
    "\n",
    "# Identificar clientes con valores NaN en 'age' (excluyendo clientes mixtos)\n",
    "clientes_con_nan_age = df_no_mixtos_age[df_no_mixtos_age['age'].isna()]['pk_cid'].unique()\n",
    "\n",
    "# Contar el número de clientes en cada categoría (excluyendo mixtos)\n",
    "n_misma_edad = len(clientes_misma_edad)\n",
    "n_con_nan_age = len(clientes_con_nan_age)\n",
    "n_mixtos_age = len(clientes_mixtos_age)\n",
    "\n",
    "# Mostrar los resultados\n",
    "print(f\"Clientes que tienen siempre la misma edad (excluyendo mixtos): {n_misma_edad}\")\n",
    "print(f\"Clientes con valores NaN en 'age' (excluyendo mixtos): {n_con_nan_age}\")\n",
    "print(f\"Clientes con edades mixtas (diferentes valores de edad): {n_mixtos_age}\")"
   ]
  },
  {
   "cell_type": "code",
   "execution_count": null,
   "metadata": {},
   "outputs": [],
   "source": [
    "n_total = n_misma_edad + n_con_nan_age + n_mixtos_age\n",
    "n_total"
   ]
  },
  {
   "cell_type": "code",
   "execution_count": null,
   "metadata": {},
   "outputs": [],
   "source": [
    "df_misma_edad = df_full[df_full['pk_cid'].isin(clientes_misma_edad)]\n",
    "df_edad_mixta = df_full[df_full['pk_cid'].isin(clientes_mixtos_age)]"
   ]
  },
  {
   "cell_type": "code",
   "execution_count": null,
   "metadata": {},
   "outputs": [],
   "source": [
    "df_misma_edad[\"age\"].describe()"
   ]
  },
  {
   "cell_type": "code",
   "execution_count": null,
   "metadata": {},
   "outputs": [],
   "source": [
    "df_edad_mixta[\"age\"].describe()"
   ]
  },
  {
   "cell_type": "markdown",
   "metadata": {},
   "source": [
    "aquí se tomará la decisión de trabajar con la última edad del cliente, también hay que considerar que hay valores entre 2 y 18 años que creo que no son adecuados para la ultilizacion de una aplicacion así y revisar tambien los valores mayores de 100 años.\n",
    "\n",
    "(Adrián) Sí pueden ser datos reales, de hecho vamos a hacer algunas comprobaciones posteriores."
   ]
  },
  {
   "cell_type": "markdown",
   "metadata": {},
   "source": [
    "Vamos a buscar los clientes con edades anómalas, y que podrían ser objetos de una modificación. En este caso vamos a ver primero aquellos que se mantienen siempre con la misma edad, y además son menores"
   ]
  },
  {
   "cell_type": "markdown",
   "metadata": {},
   "source": [
    "### Edad Constante"
   ]
  },
  {
   "cell_type": "markdown",
   "metadata": {},
   "source": [
    "1. Identificar clientes con productos activos\n",
    "Primero, filtramos el DataFrame clientes_misma_edad_menores para obtener los clientes que tienen algún producto activo (donde el valor es 1)."
   ]
  },
  {
   "cell_type": "code",
   "execution_count": null,
   "metadata": {},
   "outputs": [],
   "source": [
    "# Filtrar clientes que siempre tienen la misma edad y esa edad es menor a 18 años\n",
    "clientes_misma_edad_menores = df_misma_edad[df_misma_edad['age'] < 18]\n",
    "\n",
    "# Mostrar los resultados\n",
    "clientes_misma_edad_menores"
   ]
  },
  {
   "cell_type": "code",
   "execution_count": null,
   "metadata": {},
   "outputs": [],
   "source": [
    "# Lista de productos a analizar\n",
    "productos = [\n",
    "    'short_term_deposit', 'loans', 'mortgage', 'funds', 'securities',\n",
    "    'long_term_deposit', 'em_account_pp', 'credit_card', 'payroll', \n",
    "    'pension_plan', 'payroll_account', 'emc_account', 'debit_card', \n",
    "    'em_account_p', 'em_acount'\n",
    "]\n",
    "\n",
    "# Contar el número de casos donde cada producto ha sido contratado (valor = 1)\n",
    "conteo_productos = clientes_misma_edad_menores[productos].sum()\n",
    "\n",
    "# Mostrar el resultado\n",
    "conteo_productos"
   ]
  },
  {
   "cell_type": "code",
   "execution_count": null,
   "metadata": {},
   "outputs": [],
   "source": [
    "pd.set_option('display.max_columns', None)\n",
    "\n",
    "# Filtrar los clientes que tienen productos activos\n",
    "clientes_con_productos_activos = clientes_misma_edad_menores[clientes_misma_edad_menores[productos].sum(axis=1) > 0]\n",
    "\n",
    "# Mostrar el resultado\n",
    "clientes_con_productos_activos"
   ]
  },
  {
   "cell_type": "markdown",
   "metadata": {},
   "source": [
    "2. Repetir el proceso para los active_customer"
   ]
  },
  {
   "cell_type": "code",
   "execution_count": null,
   "metadata": {},
   "outputs": [],
   "source": [
    "# Filtrar los clientes menores de 18 años que también son active_customer\n",
    "clientes_menores_active = clientes_misma_edad_menores[clientes_misma_edad_menores['active_customer'] == 1]\n",
    "\n",
    "# Contar cuántos clientes cumplen con ambas condiciones\n",
    "cantidad_menores_active = clientes_menores_active.shape[0]\n",
    "\n",
    "# Mostrar la cantidad\n",
    "print(f\"Cantidad de clientes menores de 18 años que son active_customer: {cantidad_menores_active}\")\n",
    "\n",
    "# Mostrar la lista de estos clientes\n",
    "clientes_menores_active"
   ]
  },
  {
   "cell_type": "markdown",
   "metadata": {},
   "source": [
    "### Edad Mixta"
   ]
  },
  {
   "cell_type": "markdown",
   "metadata": {},
   "source": [
    "En este apartado vamos a corregir errores de tipidficación en la variable Edad. Para ello, vamos a identificar en primer lugar casos en los que la edad tenga saltos mayores de 3 años (dado que el rango máximo de variación para un cliente debería ser este, pues la serie se compone de 3 años), y por otro lado, vamos a identificar aquellos casos en los que se produzca una variación negativa "
   ]
  },
  {
   "cell_type": "code",
   "execution_count": null,
   "metadata": {},
   "outputs": [],
   "source": [
    "# Asegúrate de que df_edad_mixta esté ordenado por pk_cid y un índice de tiempo o la posición de las filas.\n",
    "df_edad_mixta = df_edad_mixta.sort_values(by=['pk_cid', 'pk_partition'])  # Asumiendo que pk_partition representa el tiempo.\n",
    "\n",
    "# Calcular la diferencia entre la primera y la última edad para cada usuario\n",
    "df_edad_mixta['dif_edad'] = df_edad_mixta.groupby('pk_cid')['age'].transform(lambda x: x.iloc[-1] - x.iloc[0])\n",
    "\n",
    "# Mostrar el resultado\n",
    "df_edad_mixta[['pk_cid', 'age', 'dif_edad']].drop_duplicates()"
   ]
  },
  {
   "cell_type": "markdown",
   "metadata": {},
   "source": [
    "#### Edad Mixta. Variación > 3 años"
   ]
  },
  {
   "cell_type": "code",
   "execution_count": null,
   "metadata": {},
   "outputs": [],
   "source": [
    "df_edad_mixta_dif_mas3 = df_edad_mixta[df_edad_mixta['dif_edad'] > 3]\n",
    "\n",
    "df_edad_mixta_dif_mas3[\"dif_edad\"].describe()"
   ]
  },
  {
   "cell_type": "code",
   "execution_count": null,
   "metadata": {},
   "outputs": [],
   "source": [
    "df_edad_mixta[df_edad_mixta['dif_edad'] > 60]"
   ]
  },
  {
   "cell_type": "code",
   "execution_count": null,
   "metadata": {},
   "outputs": [],
   "source": [
    "df_edad_mixta[(df_edad_mixta['dif_edad'] > 3) & (df_edad_mixta['dif_edad'] < 6)]"
   ]
  },
  {
   "cell_type": "markdown",
   "metadata": {},
   "source": [
    "En este caso, vamos a sustituir todos los valores de Age por el último valor conocido, ya que, a futuro lo más coherente será crear categorías de edad en las que se agrupen distintas décadas, por tanto, las variaciones internas de cada cliente van a ser practicamente irrelevantes (si un cliente pasa de 30-33 no es diferenciador), y además, se sobreentiende que los errores de tipificación se corrigen con el tiempo, por tanto, cuanto más reciente sea una entrada, más probable es que sea correcta."
   ]
  },
  {
   "cell_type": "code",
   "execution_count": null,
   "metadata": {},
   "outputs": [],
   "source": [
    "# Paso 1: Filtrar los individuos que cumplen la condición dif_edad > 3\n",
    "df_edad_mixta_dif_mas3 = df_edad_mixta[df_edad_mixta['dif_edad'] > 3]\n",
    "\n",
    "# Paso 2: Obtener la última edad registrada (en la última pk_partition) para cada individuo\n",
    "ultima_edad_por_individuo = df_edad_mixta_dif_mas3.groupby('pk_cid').apply(lambda x: x.loc[x['pk_partition'].idxmax(), 'age'])\n",
    "\n",
    "# Paso 3: Actualizar la edad en df_full para los individuos que cumplen la condición\n",
    "def actualizar_edad(row):\n",
    "    if row['pk_cid'] in ultima_edad_por_individuo.index:\n",
    "        return ultima_edad_por_individuo[row['pk_cid']]\n",
    "    else:\n",
    "        return row['age']\n",
    "\n",
    "# Aplicar la función para actualizar la edad en df_full\n",
    "df_full['age'] = df_full.apply(actualizar_edad, axis=1)\n",
    "\n",
    "# Mostrar el resultado\n",
    "df_full.head()"
   ]
  },
  {
   "cell_type": "markdown",
   "metadata": {},
   "source": [
    "#### Edad Mixta. Variación Negativa"
   ]
  },
  {
   "cell_type": "code",
   "execution_count": null,
   "metadata": {},
   "outputs": [],
   "source": [
    "# Filtrar los casos donde la diferencia de edad es menor que 0\n",
    "df_dif_edad_neg = df_edad_mixta[df_edad_mixta['dif_edad'] < 0]\n",
    "\n",
    "df_dif_edad_neg[\"dif_edad\"].describe()"
   ]
  },
  {
   "cell_type": "code",
   "execution_count": null,
   "metadata": {},
   "outputs": [],
   "source": [
    "# Visualizar los casos donde la diferencia de edad es menor que 0\n",
    "df_dif_edad_neg"
   ]
  },
  {
   "cell_type": "code",
   "execution_count": null,
   "metadata": {},
   "outputs": [],
   "source": [
    "df_dif_edad_neg[df_dif_edad_neg['dif_edad'] < -1]"
   ]
  },
  {
   "cell_type": "markdown",
   "metadata": {},
   "source": [
    "De igual forma vamos a sustituir todas las edades de los casos con variaciones negativas por la edad que figure en la última entrada de cada usuario"
   ]
  },
  {
   "cell_type": "code",
   "execution_count": null,
   "metadata": {},
   "outputs": [],
   "source": [
    "# Paso 1: Obtener la última edad registrada (en la última pk_partition) para cada individuo\n",
    "ultima_edad_por_individuo_neg = df_dif_edad_neg.groupby('pk_cid').apply(lambda x: x.loc[x['pk_partition'].idxmax(), 'age'])\n",
    "\n",
    "# Paso 2: Actualizar la edad en df_full para los individuos que cumplen la condición\n",
    "def actualizar_edad_neg(row):\n",
    "    if row['pk_cid'] in ultima_edad_por_individuo_neg.index:\n",
    "        return ultima_edad_por_individuo_neg[row['pk_cid']]\n",
    "    else:\n",
    "        return row['age']\n",
    "\n",
    "# Aplicar la función para actualizar la edad en df_full\n",
    "df_full['age'] = df_full.apply(actualizar_edad_neg, axis=1)"
   ]
  },
  {
   "cell_type": "markdown",
   "metadata": {},
   "source": [
    "## COUNTRY ID"
   ]
  },
  {
   "cell_type": "code",
   "execution_count": null,
   "metadata": {},
   "outputs": [],
   "source": [
    "# Contar cuántos valores únicos de 'country_id' tiene cada cliente\n",
    "estado_por_cliente_country = df_full.groupby('pk_cid')['country_id'].nunique()\n",
    "\n",
    "# Identificar clientes con 'country_id' mixtos (múltiples valores de 'country_id')\n",
    "clientes_mixtos_country = estado_por_cliente_country[estado_por_cliente_country > 1].index\n",
    "\n",
    "# Excluir los clientes mixtos del análisis de las otras categorías\n",
    "df_no_mixtos_country = df_full[~df_full['pk_cid'].isin(clientes_mixtos_country)]\n",
    "\n",
    "# Identificar clientes que tienen siempre el mismo 'country_id'\n",
    "clientes_mismo_country = df_no_mixtos_country.groupby('pk_cid')['country_id'].nunique()\n",
    "clientes_mismo_country = clientes_mismo_country[clientes_mismo_country == 1].index\n",
    "\n",
    "# Identificar clientes con valores NaN en 'country_id' (excluyendo clientes mixtos)\n",
    "clientes_con_nan_country = df_no_mixtos_country[df_no_mixtos_country['country_id'].isna()]['pk_cid'].unique()\n",
    "\n",
    "# Contar el número de clientes en cada categoría (excluyendo mixtos)\n",
    "n_mismo_country = len(clientes_mismo_country)\n",
    "n_con_nan_country = len(clientes_con_nan_country)\n",
    "n_mixtos_country = len(clientes_mixtos_country)\n",
    "\n",
    "# Mostrar los resultados\n",
    "print(f\"Clientes que tienen siempre el mismo 'country_id' (excluyendo mixtos): {n_mismo_country}\")\n",
    "print(f\"Clientes con valores NaN en 'country_id' (excluyendo mixtos): {n_con_nan_country}\")\n",
    "print(f\"Clientes con 'country_id' mixtos (diferentes países): {n_mixtos_country}\")"
   ]
  },
  {
   "cell_type": "markdown",
   "metadata": {},
   "source": [
    "Los clientes con country id distintos como que antes vivian en un pais y ahora se han mudado para otro, no sé como tratar esto, si mantener el ultimo o el primero. (Adrián) Yo no los cambiaría, la variable indica país de residencia, por tanto, puede ser variable, y son muy pocos casos, no creo que supongan una distorsión de resultados"
   ]
  },
  {
   "cell_type": "code",
   "execution_count": null,
   "metadata": {},
   "outputs": [],
   "source": [
    "# Lista de valores únicos en la columna 'country_id'\n",
    "df_full['country_id'].value_counts()"
   ]
  },
  {
   "cell_type": "code",
   "execution_count": null,
   "metadata": {},
   "outputs": [],
   "source": [
    "# Filtrar el DataFrame para obtener las filas donde el país es mixto\n",
    "df_full[df_full['pk_cid'].isin(clientes_mixtos_country)]\n"
   ]
  },
  {
   "cell_type": "markdown",
   "metadata": {},
   "source": [
    "### Country_ID Mixto"
   ]
  },
  {
   "cell_type": "markdown",
   "metadata": {},
   "source": [
    "En este caso también vamos a modificar los casos de clientes con un country_id mixto en el DataFrame df_full, y asignarles el último país registrado para su pk_cid, ya que al tratarse solo de 25 clientes, todo parece indicar que se trata de errores en la toma de datos. Además, suponiendo que estos cambios de residencia fueran reales, entonces el salario debería sufrir modificaciones, situación que no se observa en ninguno de los casos. Por tanto, nos vamos a quedar con la información más actualizada de cada individuo"
   ]
  },
  {
   "cell_type": "code",
   "execution_count": null,
   "metadata": {},
   "outputs": [],
   "source": [
    "# Obtener el último valor de 'country_id' para cada cliente mixto\n",
    "ultimo_country_por_cliente = df_full[df_full['pk_cid'].isin(clientes_mixtos_country)].groupby('pk_cid').apply(lambda x: x.loc[x['pk_partition'].idxmax(), 'country_id'])"
   ]
  },
  {
   "cell_type": "code",
   "execution_count": null,
   "metadata": {},
   "outputs": [],
   "source": [
    "# Función para actualizar el country_id según la última entrada\n",
    "def actualizar_country_mixto(row):\n",
    "    if row['pk_cid'] in ultimo_country_por_cliente.index:\n",
    "        return ultimo_country_por_cliente[row['pk_cid']]\n",
    "    else:\n",
    "        return row['country_id']\n",
    "\n",
    "# Aplicar la función para actualizar el country_id en df_full\n",
    "df_full['country_id'] = df_full.apply(actualizar_country_mixto, axis=1)\n",
    "\n",
    "# Verificar los cambios en los clientes mixtos\n",
    "df_mixtos_actualizados_country = df_full[df_full['pk_cid'].isin(clientes_mixtos_country)]\n",
    "\n",
    "# Mostrar algunos resultados para verificar\n",
    "df_mixtos_actualizados_country.head(10)"
   ]
  },
  {
   "cell_type": "markdown",
   "metadata": {},
   "source": [
    "## DECEASED"
   ]
  },
  {
   "cell_type": "code",
   "execution_count": null,
   "metadata": {},
   "outputs": [],
   "source": [
    "# Contar cuántos valores únicos de 'deceased' tiene cada cliente\n",
    "estado_por_cliente_deceased = df_full.groupby('pk_cid')['deceased'].nunique()\n",
    "\n",
    "# Identificar clientes con estados mixtos (N y S o con NaN incluido)\n",
    "clientes_mixtos_deceased = estado_por_cliente_deceased[estado_por_cliente_deceased > 1].index\n",
    "\n",
    "# Excluir los clientes mixtos del análisis de las otras categorías\n",
    "df_no_mixtos_deceased = df_full[~df_full['pk_cid'].isin(clientes_mixtos_deceased)]\n",
    "\n",
    "# Identificar clientes que son siempre 'N'\n",
    "clientes_siempre_n = df_no_mixtos_deceased[df_no_mixtos_deceased['deceased'] == 'N']['pk_cid'].unique()\n",
    "\n",
    "# Identificar clientes que son siempre 'S'\n",
    "clientes_siempre_s = df_no_mixtos_deceased[df_no_mixtos_deceased['deceased'] == 'S']['pk_cid'].unique()\n",
    "\n",
    "# Identificar clientes con valores NaN en 'deceased' (excluyendo clientes mixtos)\n",
    "clientes_con_nan_deceased = df_no_mixtos_deceased[df_no_mixtos_deceased['deceased'].isna()]['pk_cid'].unique()\n",
    "\n",
    "# Contar el número de clientes en cada categoría (excluyendo mixtos)\n",
    "n_siempre_n = len(clientes_siempre_n)\n",
    "n_siempre_s = len(clientes_siempre_s)\n",
    "n_con_nan_deceased = len(clientes_con_nan_deceased)\n",
    "n_mixtos_deceased = len(clientes_mixtos_deceased)\n",
    "\n",
    "# Mostrar los resultados\n",
    "print(f\"Clientes que son siempre 'N' en 'deceased' (excluyendo mixtos): {n_siempre_n}\")\n",
    "print(f\"Clientes que son siempre 'S' en 'deceased' (excluyendo mixtos): {n_siempre_s}\")\n",
    "print(f\"Clientes con valores NaN en 'deceased' (excluyendo mixtos): {n_con_nan_deceased}\")\n",
    "print(f\"Clientes con estados mixtos en 'deceased' (N, S o NaN): {n_mixtos_deceased}\")"
   ]
  },
  {
   "cell_type": "code",
   "execution_count": null,
   "metadata": {},
   "outputs": [],
   "source": [
    "n_total = n_siempre_n + n_siempre_s + n_con_nan_deceased + n_mixtos_deceased\n",
    "n_total"
   ]
  },
  {
   "cell_type": "markdown",
   "metadata": {},
   "source": [
    "hay 55 clientes muertos desde la primera ingesta de datos incluido el entry_date, serán errores o se tendrán que analizar mas a fondo así como los que cambian"
   ]
  },
  {
   "cell_type": "markdown",
   "metadata": {},
   "source": [
    "### Deceased Constante"
   ]
  },
  {
   "cell_type": "code",
   "execution_count": null,
   "metadata": {},
   "outputs": [],
   "source": [
    "# Filtrar los clientes que son siempre 'S' en 'deceased'\n",
    "df_siempre_s = df_full[df_full['pk_cid'].isin(clientes_siempre_s)]\n",
    "\n",
    "# Ahora muestra la tabla completa para los clientes que son siempre 'S' en 'deceased'\n",
    "df_siempre_s['age'].value_counts()"
   ]
  },
  {
   "cell_type": "markdown",
   "metadata": {},
   "source": [
    "### Deceased Mixto"
   ]
  },
  {
   "cell_type": "code",
   "execution_count": null,
   "metadata": {},
   "outputs": [],
   "source": [
    "# Filtrar los clientes que tienen estados mixtos en 'deceased'\n",
    "df_mixtos_deceased = df_full[df_full['pk_cid'].isin(clientes_mixtos_deceased)]\n",
    "\n",
    "df_mixtos_deceased['age'].value_counts()"
   ]
  },
  {
   "cell_type": "markdown",
   "metadata": {},
   "source": [
    "Como podemos comprobar, por un lado, la variable deceased tiene una variabilidad practicamente despreciable, por tanto, es lógico pensar que dicha variable no va a tener una capacidad explicativa suficiente.\n",
    "\n",
    "No vamos a tener en cuenta la variable deceased para hacer modelos al no tener ninguna capacidad predictiva ni explicativa.\n",
    "\n",
    "Además dada su alta correlación con otras variables como el grupo de edad, es prudente elimiarla en los modleos para no caer en problemas de multicolinealidad entre las variables explicativas"
   ]
  },
  {
   "cell_type": "markdown",
   "metadata": {},
   "source": [
    "## GENDER"
   ]
  },
  {
   "cell_type": "code",
   "execution_count": null,
   "metadata": {},
   "outputs": [],
   "source": [
    "# se crea una categoria Unknown para los valores nulos\n",
    "df_full[\"gender\"] = df_full[\"gender\"].cat.add_categories([\"Unknown\"]).fillna(\"Unknown\")\n",
    "\n",
    "df_full.groupby(\"gender\")[\"pk_cid\"].nunique().apply(lambda x: x/df_full[\"pk_cid\"].nunique()*100)"
   ]
  },
  {
   "cell_type": "code",
   "execution_count": null,
   "metadata": {},
   "outputs": [],
   "source": [
    "df_full.groupby(\"gender\")[\"pk_cid\"].nunique()"
   ]
  },
  {
   "cell_type": "code",
   "execution_count": null,
   "metadata": {},
   "outputs": [],
   "source": [
    "df_full.groupby(\"gender\")[\"pk_cid\"].nunique().sum()\n",
    "# se observa que hay 41 valores más que la cantidad de clientes únicos\n",
    "# lo que representa que hay clientes con más de un género asignado"
   ]
  },
  {
   "cell_type": "markdown",
   "metadata": {},
   "source": [
    "### Análisis Géneros"
   ]
  },
  {
   "cell_type": "code",
   "execution_count": null,
   "metadata": {},
   "outputs": [],
   "source": [
    "\n",
    "# Contar cuántos valores únicos tiene cada cliente en la columna gender\n",
    "estado_por_cliente_gender = df_full.groupby('pk_cid')['gender'].agg(['nunique', 'count'])\n",
    "\n",
    "# Identificar clientes con géneros mixtos (H y F o Unknown)\n",
    "clientes_mixtos_gender = estado_por_cliente_gender[estado_por_cliente_gender['nunique'] > 1].index\n",
    "\n",
    "# Excluir los clientes mixtos del análisis de las otras categorías\n",
    "df_no_mixtos_gender = df_full[~df_full['pk_cid'].isin(clientes_mixtos_gender)]\n",
    "\n",
    "# Identificar clientes que son siempre 'H'\n",
    "clientes_siempre_H = df_no_mixtos_gender[df_no_mixtos_gender['gender'] == 'H']['pk_cid'].unique()\n",
    "\n",
    "# Identificar clientes que son siempre 'V'\n",
    "clientes_siempre_V = df_no_mixtos_gender[df_no_mixtos_gender['gender'] == 'V']['pk_cid'].unique()\n",
    "\n",
    "# Identificar clientes \"Unknown\" en gender (excluyendo clientes mixtos)\n",
    "clientes_siempre_Unknown = df_no_mixtos_gender[df_no_mixtos_gender['gender'] == \"Unknown\"]['pk_cid'].unique()\n",
    "\n",
    "# Contar el número de clientes en cada categoría (excluyendo mixtos)\n",
    "n_siempre_H = len(clientes_siempre_H)\n",
    "n_siempre_V = len(clientes_siempre_V)\n",
    "n_siempre_Unknown = len(clientes_siempre_Unknown)\n",
    "n_mixtos_gender = len(clientes_mixtos_gender)\n",
    "\n",
    "# Mostrar los resultados\n",
    "print(f\"Clientes que son siempre 'H' en 'gender' (excluyendo mixtos): {n_siempre_H}\")\n",
    "print(f\"Clientes que son siempre 'V' en 'gender' (excluyendo mixtos): {n_siempre_V}\")\n",
    "print(f\"Clientes que son todo 'Unknown' (excluyendo mixtos): {n_siempre_Unknown}\")\n",
    "print(f\"Clientes con géneros mixtos (H y V o Unknown): {n_mixtos_gender}\")\n",
    "print(f\"Total de clientes en el dataset: {n_siempre_H + n_siempre_V + n_siempre_Unknown + n_mixtos_gender}\")\n"
   ]
  },
  {
   "cell_type": "code",
   "execution_count": null,
   "metadata": {},
   "outputs": [],
   "source": [
    "# Poroporciones\n",
    "n_total = n_siempre_H + n_siempre_V + n_siempre_Unknown + n_mixtos_gender\n",
    "p_siempre_H = n_siempre_H / n_total * 100\n",
    "p_siempre_V = n_siempre_V / n_total * 100\n",
    "p_siempre_Unknown = n_siempre_Unknown / n_total * 100\n",
    "p_mixtos_gender = n_mixtos_gender / n_total * 100\n",
    "\n",
    "# Mostrar los resultados\n",
    "print(f\"Clientes que son siempre 'H': {p_siempre_H:.2f}%\")\n",
    "print(f\"Clientes que son siempre 'V': {p_siempre_V:.2f}%\")\n",
    "print(f\"Clientes que son todo 'Unknown': {p_siempre_Unknown:.5f}%\")\n",
    "print(f\"Clientes con géneros mixtos (H y V o Unknown): {p_mixtos_gender:.3f}%\")"
   ]
  },
  {
   "cell_type": "markdown",
   "metadata": {},
   "source": [
    "### Género unknown constante"
   ]
  },
  {
   "cell_type": "code",
   "execution_count": null,
   "metadata": {},
   "outputs": [],
   "source": [
    "# Clientes donde el valor de 'gender' es 'Unknown'\n",
    "df_full[df_full['gender'] == \"Unknown\"]"
   ]
  },
  {
   "cell_type": "code",
   "execution_count": null,
   "metadata": {},
   "outputs": [],
   "source": [
    "# Reemplazar el valor 'Unknown' por 'H' en la columna 'gender'\n",
    "df_full.loc[df_full['gender'] == \"Unknown\", 'gender'] = \"H\""
   ]
  },
  {
   "cell_type": "markdown",
   "metadata": {},
   "source": [
    "Vamos a imputar los Unknown y los vamos a cambiar por Hombre, ya que, ambos individuos superan los 70 años (sería extraño que se identiffiquen como género fluido y la variable H es la que presenta mayor proporción, por tanto lo imputaremos a esta)"
   ]
  },
  {
   "cell_type": "markdown",
   "metadata": {},
   "source": [
    "### Género Unknown Mixto"
   ]
  },
  {
   "cell_type": "code",
   "execution_count": null,
   "metadata": {},
   "outputs": [],
   "source": [
    "# Aplicar el método ffill y bfill para imputar Unknown dentro de cada grupo\n",
    "df_full['gender'] = df_full.groupby('pk_cid')['gender'].transform(lambda x: x.ffill().bfill())\n",
    "\n",
    "# Verificar si hay todavía valores Unknown después de la imputación\n",
    "unknown_after = df_full[df_full['gender'] == \"Unknown\"]\n",
    "\n",
    "print(f\"Número de valores 'Unknown' después de la imputación: {len(unknown_after)}\")\n"
   ]
  },
  {
   "cell_type": "markdown",
   "metadata": {},
   "source": [
    "### Géneros Mixtos"
   ]
  },
  {
   "cell_type": "markdown",
   "metadata": {},
   "source": [
    "También vamos a modificar los casos en lso que el género es mixto, tomando el último valor registrado para cada individuo, ya que como hemos apuntado anteriormente, es lógico pensar que la última entrada de cada cliente es la más actualizada, y por tanto, la correcta"
   ]
  },
  {
   "cell_type": "code",
   "execution_count": null,
   "metadata": {},
   "outputs": [],
   "source": [
    "# Obtener el último valor de 'gender' para cada cliente mixto\n",
    "ultimo_genero_por_cliente = df_full[df_full['pk_cid'].isin(clientes_mixtos_gender)].groupby('pk_cid').apply(lambda x: x.loc[x['pk_partition'].idxmax(), 'gender'])"
   ]
  },
  {
   "cell_type": "code",
   "execution_count": null,
   "metadata": {},
   "outputs": [],
   "source": [
    "# Función para actualizar el género según la última entrada\n",
    "def actualizar_genero_mixto(row):\n",
    "    if row['pk_cid'] in ultimo_genero_por_cliente.index:\n",
    "        return ultimo_genero_por_cliente[row['pk_cid']]\n",
    "    else:\n",
    "        return row['gender']\n",
    "\n",
    "# Aplicar la función para actualizar el género en df_full\n",
    "df_full['gender'] = df_full.apply(actualizar_genero_mixto, axis=1)\n",
    "\n",
    "# Verificar los cambios en los clientes mixtos\n",
    "df_mixtos_actualizados = df_full[df_full['pk_cid'].isin(clientes_mixtos_gender)]"
   ]
  },
  {
   "cell_type": "code",
   "execution_count": null,
   "metadata": {},
   "outputs": [],
   "source": [
    "# Mostrar algunos resultados para verificar\n",
    "df_mixtos_actualizados.head(20)"
   ]
  },
  {
   "cell_type": "markdown",
   "metadata": {},
   "source": [
    "## REGION_CODE\n"
   ]
  },
  {
   "cell_type": "code",
   "execution_count": null,
   "metadata": {},
   "outputs": [],
   "source": [
    "# valores nulos en region_code ponerlos como Unknown\n",
    "df_full[\"region_code\"] = df_full[\"region_code\"].cat.add_categories([\"Unknown\"]).fillna(\"Unknown\")"
   ]
  },
  {
   "cell_type": "code",
   "execution_count": null,
   "metadata": {},
   "outputs": [],
   "source": [
    "# Contar cuántos valores únicos de 'region_code' tiene cada cliente\n",
    "estado_por_cliente_region = df_full.groupby('pk_cid')['region_code'].nunique()\n",
    "\n",
    "# Identificar clientes con múltiples códigos de región (cambios de región)\n",
    "clientes_mixtos_region = estado_por_cliente_region[estado_por_cliente_region > 1].index\n",
    "\n",
    "# Excluir los clientes mixtos del análisis de las otras categorías\n",
    "df_no_mixtos_region = df_full[~df_full['pk_cid'].isin(clientes_mixtos_region)]\n",
    "\n",
    "# Identificar clientes que tienen siempre el mismo código de región\n",
    "clientes_mismo_region = df_no_mixtos_region.groupby('pk_cid')['region_code'].nunique()\n",
    "clientes_mismo_region = clientes_mismo_region[clientes_mismo_region == 1].index\n",
    "\n",
    "# Identificar clientes con valores NaN en 'region_code' (excluyendo clientes mixtos)\n",
    "clientes_con_nan_region = df_no_mixtos_region[df_no_mixtos_region['region_code'].isna()]['pk_cid'].unique()\n",
    "\n",
    "# Contar el número de clientes en cada categoría (excluyendo mixtos)\n",
    "n_mismo_region = len(clientes_mismo_region)\n",
    "n_con_nan_region = len(clientes_con_nan_region)\n",
    "n_mixtos_region = len(clientes_mixtos_region)\n",
    "\n",
    "# Mostrar los resultados\n",
    "print(f\"Clientes que tienen siempre el mismo código de región (excluyendo mixtos): {n_mismo_region}\")\n",
    "print(f\"Clientes con valores NaN en 'region_code' (excluyendo mixtos): {n_con_nan_region}\")\n",
    "print(f\"Clientes con códigos de región mixtos (diferentes códigos): {n_mixtos_region}\")"
   ]
  },
  {
   "cell_type": "code",
   "execution_count": null,
   "metadata": {},
   "outputs": [],
   "source": [
    "# se comprueba que la suma de los clientes en cada región es igual a la cantidad de clientes únicos\n",
    "n_total = n_mismo_region + n_con_nan_region + n_mixtos_region\n",
    "n_total "
   ]
  },
  {
   "cell_type": "code",
   "execution_count": null,
   "metadata": {},
   "outputs": [],
   "source": [
    "df_full[df_full[\"region_code\"] == 'Unknown']"
   ]
  },
  {
   "cell_type": "code",
   "execution_count": null,
   "metadata": {},
   "outputs": [],
   "source": [
    "# Filtra el DataFrame según las condiciones especificadas\n",
    "filtered_df = df_full[(df_full[\"region_code\"] == 'Unknown') & (df_full[\"country_id\"] == 'ES')]\n",
    "\n",
    "filtered_df"
   ]
  },
  {
   "cell_type": "markdown",
   "metadata": {},
   "source": [
    "### Sustitución de region 'Unknowns'"
   ]
  },
  {
   "cell_type": "markdown",
   "metadata": {},
   "source": [
    "Vamos a sustituir region_code por 28 en estos casos, al ser Madrid la región más repetida, y por 00 en los casos de fuera de España"
   ]
  },
  {
   "cell_type": "code",
   "execution_count": null,
   "metadata": {},
   "outputs": [],
   "source": [
    "# Verificar las categorías actuales\n",
    "print(\"Categorías actuales:\", df_full['region_code'].cat.categories)\n",
    "\n",
    "# Agregar nuevas categorías\n",
    "df_full['region_code'] = df_full['region_code'].cat.add_categories(['28', '00'])\n",
    "\n",
    "# Aplicar las actualizaciones\n",
    "df_full.loc[(df_full[\"region_code\"] == 'Unknown') & (df_full[\"country_id\"] == 'ES'), \"region_code\"] = '28'\n",
    "df_full.loc[(df_full[\"region_code\"] == 'Unknown') & (df_full[\"country_id\"] != 'ES'), \"region_code\"] = '00'\n",
    "\n",
    "# Verifica si quedan valores 'Unknown'\n",
    "unknown_rows = df_full[df_full[\"region_code\"] == 'Unknown']\n",
    "\n",
    "unknown_rows"
   ]
  },
  {
   "cell_type": "markdown",
   "metadata": {},
   "source": [
    "### Sustitución Region_Codes - Provincia"
   ]
  },
  {
   "cell_type": "code",
   "execution_count": null,
   "metadata": {},
   "outputs": [],
   "source": [
    "# Diccionario de mapeo de códigos de provincia a nombres de provincia\n",
    "\n",
    "provincia_mapping = {\n",
    "    00: \"Extranjero\",1: \"Álava\",2: \"Albacete\",3: \"Alicante\",4: \"Almería\",5: \"Ávila\",6: \"Badajoz\",7: \"Baleares, Islas\",\n",
    "    8: \"Barcelona\",9: \"Burgos\",10: \"Cáceres\",11: \"Cádiz\",12: \"Castellón\",13: \"Ciudad Real\",14: \"Córdoba\",15: \"Coruña, A\",\n",
    "    16: \"Cuenca\",17: \"Girona\",18: \"Granada\",19: \"Guadalajara\",20: \"Gipuzkoa\",21: \"Huelva\",22: \"Huesca\",23: \"Jaén\",24: \"León\",\n",
    "    25: \"Lleida\",26: \"Rioja, La\",27: \"Lugo\",28: \"Madrid\",29: \"Málaga\",30: \"Murcia\",31: \"Navarra\",32: \"Ourense\",33: \"Asturias\",\n",
    "    34: \"Palencia\",35: \"Palmas, Las\",36: \"Pontevedra\",37: \"Salamanca\",38: \"Santa Cruz de Tenerife\",39: \"Cantabria\",40: \"Segovia\",\n",
    "    41: \"Sevilla\",42: \"Soria\",43: \"Tarragona\",44: \"Teruel\",45: \"Toledo\",46: \"Valencia\",47: \"Valladolid\",48: \"Bizkaia\",49: \"Zamora\",\n",
    "    50: \"Zaragoza\",51: \"Ceuta\",52: \"Melilla\"}"
   ]
  },
  {
   "cell_type": "code",
   "execution_count": null,
   "metadata": {},
   "outputs": [],
   "source": [
    "# Mapear los códigos de 'region_code' a nombres de provincia\n",
    "df_full['region_code'] = df_full['region_code'].map(provincia_mapping)\n",
    "\n",
    "# Verificar que la sustitución se realizó correctamente\n",
    "print(df_full[['region_code']].drop_duplicates())"
   ]
  },
  {
   "cell_type": "code",
   "execution_count": null,
   "metadata": {},
   "outputs": [],
   "source": [
    "# Sustituir los valores NaN en 'region_code' por 'extranjero'\n",
    "df_full['region_code'] = df_full['region_code'].fillna('Extranjero')\n",
    "\n",
    "# Verificar que la sustitución se realizó correctamente\n",
    "print(df_full['region_code'].unique())"
   ]
  },
  {
   "cell_type": "markdown",
   "metadata": {},
   "source": [
    "## SALARY"
   ]
  },
  {
   "cell_type": "code",
   "execution_count": null,
   "metadata": {},
   "outputs": [],
   "source": [
    "# Contar cuántos valores únicos de 'salary' tiene cada cliente\n",
    "estado_por_cliente_salary = df_full.groupby('pk_cid')['salary'].nunique()\n",
    "\n",
    "# Identificar clientes con múltiples valores de salario (cambios en el salario)\n",
    "clientes_mixtos_salary = estado_por_cliente_salary[estado_por_cliente_salary > 1].index\n",
    "\n",
    "# Excluir los clientes mixtos del análisis de las otras categorías\n",
    "df_no_mixtos_salary = df_full[~df_full['pk_cid'].isin(clientes_mixtos_salary)]\n",
    "\n",
    "# Identificar clientes que tienen siempre el mismo salario\n",
    "clientes_mismo_salary = df_no_mixtos_salary.groupby('pk_cid')['salary'].nunique()\n",
    "clientes_mismo_salary = clientes_mismo_salary[clientes_mismo_salary == 1].index\n",
    "\n",
    "# Identificar clientes con valores NaN en 'salary' (excluyendo clientes mixtos)\n",
    "clientes_con_nan_salary = df_no_mixtos_salary[df_no_mixtos_salary['salary'].isna()]['pk_cid'].unique()\n",
    "\n",
    "# Contar el número de clientes en cada categoría (excluyendo mixtos)\n",
    "n_mismo_salary = len(clientes_mismo_salary)\n",
    "n_con_nan_salary = len(clientes_con_nan_salary)\n",
    "n_mixtos_salary = len(clientes_mixtos_salary)\n",
    "\n",
    "# Mostrar los resultados\n",
    "print(f\"Clientes que tienen siempre el mismo salario: {n_mismo_salary}\")\n",
    "print(f\"Clientes con valores NaN en 'salary' en todas las ingestas: {n_con_nan_salary}\")\n",
    "print(f\"Clientes con valores de salario mixtos, varían con la ingesta de datos (diferentes valores): {n_mixtos_salary}\")"
   ]
  },
  {
   "cell_type": "code",
   "execution_count": null,
   "metadata": {},
   "outputs": [],
   "source": [
    "df_full[\"salary\"].describe()"
   ]
  },
  {
   "cell_type": "markdown",
   "metadata": {},
   "source": [
    "### Imputación de Nan"
   ]
  },
  {
   "cell_type": "code",
   "execution_count": null,
   "metadata": {},
   "outputs": [],
   "source": [
    "# Filtrar los registros donde 'salary' es NaN\n",
    "casos_salary_nan = df_full[df_full['salary'].isna()]\n",
    "\n",
    "casos_salary_nan[\"country_id\"].value_counts()"
   ]
  },
  {
   "cell_type": "markdown",
   "metadata": {},
   "source": [
    "#### Creación Grupos de Edad"
   ]
  },
  {
   "cell_type": "markdown",
   "metadata": {},
   "source": [
    "Como tenemos valores nulos de practicamente todos los países, se me ocurre aplicar el salario mediano pero atendiendo al grupo de edad del sujeto, país de residencia y actividad comercial.  Por tanto, en primer lugar vamos a segmentar en grupos de edad. La segmentación de edades más utilizada suele ser la siguiente:\n",
    "\n",
    "Menores: eGrupo compuesto por personas menores de dieciocho años\n",
    "\n",
    "Jóvenes: El grupo de jóvenes son las personas mayores a dieciocho años y menores de veinticinco años.\n",
    "\n",
    "Adultos jóvenes: Este segmento incluye personas mayores de veinticinco años y menores de cuarenta años.\n",
    "\n",
    "Adultos: Son las personas mayores de cuarenta años y menores a los cincuenta y cinco años.\n",
    "\n",
    "Adultos mayores: Encontramos en este grupo a las personas mayores de cincuenta y cinco años y menores de sesenta y cinco.\n",
    "\n",
    "Ancianos: Son las personas con más sesenta y cinco años y menos de setenta y cinco años.\n",
    "\n",
    "Longevos: Son todas las personas de setenta y cinco años en adelante."
   ]
  },
  {
   "cell_type": "code",
   "execution_count": null,
   "metadata": {},
   "outputs": [],
   "source": [
    "# Definir función para categorizar según grupos de edad\n",
    "def categorizar_edad(edad):\n",
    "    if edad < 18:\n",
    "        return 'Menores'\n",
    "    elif 18 <= edad < 25:\n",
    "        return 'Jóvenes'\n",
    "    elif 25 <= edad < 40:\n",
    "        return 'Adultos jóvenes'\n",
    "    elif 40 <= edad < 55:\n",
    "        return 'Adultos'\n",
    "    elif 55 <= edad < 65:\n",
    "        return 'Adultos mayores'\n",
    "    elif 65 <= edad < 75:\n",
    "        return 'Ancianos'\n",
    "    else:\n",
    "        return 'Longevos'\n",
    "\n",
    "# Crear nueva columna 'grupo_edad' en el DataFrame\n",
    "df_full['grupo_edad'] = df_full['age'].apply(categorizar_edad)"
   ]
  },
  {
   "cell_type": "code",
   "execution_count": null,
   "metadata": {},
   "outputs": [],
   "source": [
    "df_full['grupo_edad'].value_counts()"
   ]
  },
  {
   "cell_type": "code",
   "execution_count": null,
   "metadata": {},
   "outputs": [],
   "source": [
    "# Eliminar filas donde 'pk_cid' esté duplicado, quedándote solo con la primera aparición de cada 'pk_cid'\n",
    "df_full_sin_duplicados = df_full.drop_duplicates(subset=['pk_cid'], keep='first')"
   ]
  },
  {
   "cell_type": "code",
   "execution_count": null,
   "metadata": {},
   "outputs": [],
   "source": [
    "df_full_sin_duplicados.shape"
   ]
  },
  {
   "cell_type": "code",
   "execution_count": null,
   "metadata": {},
   "outputs": [],
   "source": [
    "df_full_sin_duplicados['grupo_edad'].value_counts()"
   ]
  },
  {
   "cell_type": "code",
   "execution_count": null,
   "metadata": {},
   "outputs": [],
   "source": [
    "# Filtrar el DataFrame para incluir solo aquellos con 'grupo_edad' igual a 'menores'\n",
    "df_menores = df_full_sin_duplicados[df_full_sin_duplicados['grupo_edad'] == 'Menores']\n",
    "\n",
    "# Calcular la mediana de la columna 'salary' para los menores\n",
    "mediana_salary_menores = df_menores['salary'].median()\n",
    "\n",
    "mediana_salary_menores"
   ]
  },
  {
   "cell_type": "code",
   "execution_count": null,
   "metadata": {},
   "outputs": [],
   "source": [
    "df_menores['salary'].describe()"
   ]
  },
  {
   "cell_type": "code",
   "execution_count": null,
   "metadata": {},
   "outputs": [],
   "source": [
    "df_menores['salary'].value_counts()"
   ]
  },
  {
   "cell_type": "code",
   "execution_count": null,
   "metadata": {},
   "outputs": [],
   "source": [
    "# Filtrar las filas donde 'salary' no es null\n",
    "df_menores_sin_na_salary = df_menores[df_menores['salary'].notna()]\n",
    "\n",
    "df_menores_sin_na_salary"
   ]
  },
  {
   "cell_type": "markdown",
   "metadata": {},
   "source": [
    "Vamos a hacer que la variable grupo edad sea constante para cada individuo, ya que entendemos que un cambio de grupo en un periodo de 3 años no va a suponer un cambio determinante en el patrón de comportamiento de cada cliente, además, si en ese periodo ha cambiado de un segmento a otro, entonces, quiere decir que estaba mucho más próximo al último grupo en cuestión"
   ]
  },
  {
   "cell_type": "code",
   "execution_count": null,
   "metadata": {},
   "outputs": [],
   "source": [
    "# Agrupar por 'pk_cid' y obtener el último valor de 'grupo_edad' para cada 'pk_cid'\n",
    "ultimo_grupo_edad = df_full.groupby('pk_cid')['grupo_edad'].last().reset_index()\n",
    "\n",
    "# Renombrar la columna 'grupo_edad' en el DataFrame resultante para hacer el merge\n",
    "ultimo_grupo_edad.rename(columns={'grupo_edad': 'ultimo_grupo_edad'}, inplace=True)\n",
    "\n",
    "# Hacer un merge del DataFrame original con el DataFrame de los últimos valores\n",
    "df_full = df_full.merge(ultimo_grupo_edad, on='pk_cid', how='left')\n",
    "\n",
    "# Actualizar la columna 'grupo_edad' con el último valor registrado\n",
    "df_full['grupo_edad'] = df_full['ultimo_grupo_edad']\n",
    "\n",
    "# Eliminar la columna temporal\n",
    "df_full.drop(columns=['ultimo_grupo_edad'], inplace=True)"
   ]
  },
  {
   "cell_type": "code",
   "execution_count": null,
   "metadata": {},
   "outputs": [],
   "source": [
    "df_full['salary'].describe()"
   ]
  },
  {
   "cell_type": "markdown",
   "metadata": {},
   "source": [
    "Ahora que tenemos los grupos de edad definidos, podemos proceder a imputar los valores nulos de salary usando la mediana del salario dentro de cada segmento."
   ]
  },
  {
   "cell_type": "code",
   "execution_count": null,
   "metadata": {},
   "outputs": [],
   "source": [
    "# Reemplazar los valores NaN en la columna 'Segment' con '03 - UNIVERSITARIO'\n",
    "df_full['segment'] = df_full['segment'].fillna('03 - UNIVERSITARIO')\n",
    "\n",
    "#!!!!(Importante aquí calculamos la mediana sobre el conjunto sin duplicados, si no afecta a la mediana)!!!\n",
    "# Calcular la mediana de 'salary' para cada combinación de país, región, grupo de edad y actividad comercial\n",
    "mediana_salary = df_full_sin_duplicados.groupby(['country_id', 'grupo_edad', 'segment', 'region_code'])['salary'].median()\n",
    "\n",
    "# Imputar los valores nulos de 'salary' con la mediana correspondiente\n",
    "df_full['salary'] = df_full.apply(\n",
    "    lambda row: mediana_salary[row['country_id'], row['grupo_edad'], row['segment'], row['region_code']]\n",
    "    if pd.isna(row['salary']) else row['salary'], axis=1\n",
    ")"
   ]
  },
  {
   "cell_type": "code",
   "execution_count": null,
   "metadata": {},
   "outputs": [],
   "source": [
    "#!!!!(Importante aquí calculamos la mediana sobre el conjunto sin duplicados, si no afecta a la mediana)!!!\n",
    "# Calcular la mediana de 'salary' para cada combinación de país, grupo de edad y actividad comercial\n",
    "mediana_salary = df_full_sin_duplicados.groupby(['country_id', 'grupo_edad', 'segment'])['salary'].median()\n",
    "\n",
    "# Imputar los valores nulos de 'salary' con la mediana correspondiente\n",
    "df_full['salary'] = df_full.apply(\n",
    "    lambda row: mediana_salary[row['country_id'], row['grupo_edad'], row['segment']]\n",
    "    if pd.isna(row['salary']) else row['salary'], axis=1\n",
    ")"
   ]
  },
  {
   "cell_type": "code",
   "execution_count": null,
   "metadata": {},
   "outputs": [],
   "source": [
    "df_full[\"salary\"].describe()"
   ]
  },
  {
   "cell_type": "markdown",
   "metadata": {},
   "source": [
    "Categorizar edades:\n",
    "\n",
    "La función categorizar_edad toma la edad y la clasifica en uno de los grupos definidos.\n",
    "\n",
    "Luego, apply se utiliza para aplicar esta función a la columna age, creando una nueva columna grupo_edad en el DataFrame.\n",
    "\n",
    "Calcular mediana:\n",
    "\n",
    "groupby se utiliza para agrupar los datos por país (country_id), región (region_code), grupo de edad (grupo_edad), y actividad comercial (segment).\n",
    "\n",
    "La mediana del salario para cada grupo se calcula y se almacena en mediana_salary.\n",
    "\n",
    "Imputación:\n",
    "\n",
    "Para cada fila, si el salario es nulo (NaN), se reemplaza con la mediana correspondiente calculada en el paso anterior."
   ]
  },
  {
   "cell_type": "code",
   "execution_count": null,
   "metadata": {},
   "outputs": [],
   "source": [
    "# Filtrar los registros donde 'salary' es NaN\n",
    "casos_salary_nan = df_full[df_full['salary'].isna()]\n",
    "\n",
    "# Mostrar los casos con 'salary' como NaN\n",
    "casos_salary_nan"
   ]
  },
  {
   "cell_type": "markdown",
   "metadata": {},
   "source": [
    "Comprobamos que siguen qeudando casos con salary = Nan, aunqueson bastante escasos 1749 filas, que se corresponden con 130 individuos, puede ser que para estos no haya grupos de referencia que cumplan con las mismas características establecidas. Como sigue habiendo datos con Salary Nan, vamos a rellenarlos con el salario mediano del grupo_edad y el country_id"
   ]
  },
  {
   "cell_type": "code",
   "execution_count": null,
   "metadata": {},
   "outputs": [],
   "source": [
    "#!!!!(Importante aquí calculamos la mediana sobre el conjunto sin duplicados, si no afecta a la mediana)!!!\n",
    "# Calcular la mediana del salario por grupo_edad y country_id\n",
    "median_salary = df_full_sin_duplicados.groupby(['grupo_edad', 'country_id'])['salary'].median().reset_index()\n",
    "\n",
    "# Renombrar la columna de salario mediano para mayor claridad\n",
    "median_salary.rename(columns={'salary': 'median_salary'}, inplace=True)\n",
    "\n",
    "# Combinar la mediana de salario con el DataFrame original\n",
    "df_full = pd.merge(df_full, median_salary, on=['grupo_edad', 'country_id'], how='left')\n",
    "\n",
    "# Rellenar los NaN en la columna salary con la mediana correspondiente\n",
    "df_full['salary'].fillna(df_full['median_salary'], inplace=True)\n",
    "\n",
    "# Eliminar la columna temporal de salario mediano si ya no es necesaria\n",
    "df_full.drop(columns=['median_salary'], inplace=True)\n",
    "\n",
    "# Verificar que no queden valores NaN en salary\n",
    "nan_count = df_full['salary'].isna().sum()\n",
    "print(f\"Número de valores NaN restantes en 'salary': {nan_count}\")"
   ]
  },
  {
   "cell_type": "markdown",
   "metadata": {},
   "source": [
    "Por último, solo nos quedaremos con la media de country_id al ser una variable que intutivamente más influencia tendrá en los cambios de salario"
   ]
  },
  {
   "cell_type": "code",
   "execution_count": null,
   "metadata": {},
   "outputs": [],
   "source": [
    "#!!!!(Importante aquí calculamos la mediana sobre el conjunto sin duplicados, si no afecta a la mediana)!!!\n",
    "# Calcular la mediana del salario por country_id\n",
    "median_salary = df_full_sin_duplicados.groupby(['country_id'])['salary'].median().reset_index()\n",
    "\n",
    "# Renombrar la columna de salario mediano para mayor claridad\n",
    "median_salary.rename(columns={'salary': 'median_salary'}, inplace=True)\n",
    "\n",
    "# Combinar la mediana de salario con el DataFrame original\n",
    "df_full = pd.merge(df_full, median_salary, on=['country_id'], how='left')\n",
    "\n",
    "# Rellenar los NaN en la columna salary con la mediana correspondiente\n",
    "df_full['salary'].fillna(df_full['median_salary'], inplace=True)\n",
    "\n",
    "# Eliminar la columna temporal de salario mediano si ya no es necesaria\n",
    "df_full.drop(columns=['median_salary'], inplace=True)\n",
    "\n",
    "# Verificar que no queden valores NaN en salary\n",
    "nan_count = df_full['salary'].isna().sum()\n",
    "print(f\"Número de valores NaN restantes en 'salary': {nan_count}\")"
   ]
  },
  {
   "cell_type": "code",
   "execution_count": null,
   "metadata": {},
   "outputs": [],
   "source": [
    "#!!!!(Importante aquí calculamos la mediana sobre el conjunto sin duplicados, si no afecta a la mediana)!!!\n",
    "# Calcular la mediana del salario por grupo_edad\n",
    "median_salary = df_full_sin_duplicados.groupby(['grupo_edad'])['salary'].median().reset_index()\n",
    "\n",
    "# Renombrar la columna de salario mediano para mayor claridad\n",
    "median_salary.rename(columns={'salary': 'median_salary'}, inplace=True)\n",
    "\n",
    "# Combinar la mediana de salario con el DataFrame original\n",
    "df_full = pd.merge(df_full, median_salary, on=['grupo_edad'], how='left')\n",
    "\n",
    "# Rellenar los NaN en la columna salary con la mediana correspondiente\n",
    "df_full['salary'].fillna(df_full['median_salary'], inplace=True)\n",
    "\n",
    "# Eliminar la columna temporal de salario mediano si ya no es necesaria\n",
    "df_full.drop(columns=['median_salary'], inplace=True)\n",
    "\n",
    "# Verificar que no queden valores NaN en salary\n",
    "nan_count = df_full['salary'].isna().sum()\n",
    "print(f\"Número de valores NaN restantes en 'salary': {nan_count}\")"
   ]
  },
  {
   "cell_type": "markdown",
   "metadata": {},
   "source": [
    "## DATASET LOG"
   ]
  },
  {
   "cell_type": "code",
   "execution_count": null,
   "metadata": {},
   "outputs": [],
   "source": [
    "# Crear una lista de las columnas que deseas eliminar\n",
    "columnas_a_eliminar = [\n",
    "    'deceased', 'entry_date', 'entry_channel', 'active_customer', \n",
    "    'segment', 'short_term_deposit', 'loans', 'mortgage', 'funds', \n",
    "    'securities', 'long_term_deposit', 'em_account_pp', 'credit_card', \n",
    "    'payroll', 'pension_plan', 'payroll_account', 'emc_account', \n",
    "    'debit_card', 'em_account_p', 'em_acount'\n",
    "]\n",
    "\n",
    "# Crear una copia del DataFrame original y eliminar las columnas especificadas\n",
    "sociodemographic_df_adrian = df_full.copy()\n",
    "sociodemographic_df_adrian = sociodemographic_df_adrian.drop(columns=columnas_a_eliminar)\n",
    "\n",
    "# Verificar las primeras filas del nuevo DataFrame para asegurarse de que las columnas se eliminaron correctamente\n",
    "sociodemographic_df_adrian.head()"
   ]
  },
  {
   "cell_type": "code",
   "execution_count": null,
   "metadata": {},
   "outputs": [],
   "source": [
    "df_full.to_csv('sociodemographic_df_adrian.csv', index=False)"
   ]
  },
  {
   "cell_type": "code",
   "execution_count": null,
   "metadata": {},
   "outputs": [],
   "source": [
    "# Columnas de interés\n",
    "columns_of_interest = ['pk_cid', 'pk_partition', 'country_id', 'region_code', 'gender', 'age', 'salary', 'grupo_edad']\n",
    "\n",
    "# Comprobar valores NaN\n",
    "nan_check = sociodemographic_df_adrian[columns_of_interest].isna().sum()\n",
    "\n",
    "# Comprobar valores 'Unknown'\n",
    "unknown_check = sociodemographic_df_adrian[columns_of_interest].applymap(lambda x: x == 'Unknown').sum()\n",
    "\n",
    "# Mostrar resultados\n",
    "print(\"Número de valores NaN por columna:\")\n",
    "print(nan_check)\n",
    "\n",
    "print(\"\\nNúmero de valores 'Unknown' por columna:\")\n",
    "print(unknown_check)"
   ]
  },
  {
   "cell_type": "code",
   "execution_count": null,
   "metadata": {},
   "outputs": [],
   "source": [
    "# Guardar el DataFrame en un archivo parquet para subirlo a s3 de aws\n",
    "#sociodemographic_df_adrian.to_parquet('sociodemographic_df_adrian.parquet', index=False)"
   ]
  },
  {
   "cell_type": "markdown",
   "metadata": {},
   "source": [
    "### DASHBOARD DATASET"
   ]
  },
  {
   "cell_type": "code",
   "execution_count": null,
   "metadata": {},
   "outputs": [],
   "source": [
    "# Crear una copia del DataFrame original y eliminar las columnas especificadas\n",
    "dashboard_df_adrian = sociodemographic_df_adrian.copy()\n",
    "\n",
    "# 1. Calcular la mediana del salario para cada individuo (pk_cid)\n",
    "# Asumiendo que la columna de salario se llama 'salary'\n",
    "mediana_salario = dashboard_df_adrian.groupby('pk_cid')['salary'].median().reset_index()\n",
    "\n",
    "# Renombrar la columna de salario a 'median_salary'\n",
    "mediana_salario.rename(columns={'salary': 'median_salary'}, inplace=True)\n",
    "\n",
    "# 3. Eliminar la columna 'salary' del DataFrame y eliminar la columna 'age' del DataFrame\n",
    "dashboard_df_adrian = dashboard_df_adrian.drop(columns=['salary'])\n",
    "dashboard_df_adrian = dashboard_df_adrian.drop(columns=['age'])\n",
    "\n",
    "# 3. Obtener el último valor de 'region_code' para cada individuo\n",
    "# Asumiendo que 'pk_partition' es un indicador de tiempo, seleccionaremos la última entrada de cada cliente\n",
    "ultimo_region_code = dashboard_df_adrian.sort_values('pk_partition').groupby('pk_cid')['region_code'].last().reset_index()\n",
    "\n",
    "# Unir los datos de mediana de salario y último 'region_code' con los datos originales\n",
    "# Primero combinamos con la mediana del salario\n",
    "dashboard_df_adrian = pd.merge(dashboard_df_adrian, mediana_salario, on='pk_cid', how='left')\n",
    "\n",
    "# Luego combinamos con el último 'region_code'\n",
    "dashboard_df_adrian = pd.merge(dashboard_df_adrian, ultimo_region_code, on='pk_cid', how='left', suffixes=('', '_latest'))\n",
    "\n",
    "# Eliminar la columna 'region_code' original, si es necesario\n",
    "dashboard_df_adrian.drop(columns=['region_code'], inplace=True)\n",
    "\n",
    "# Renombrar 'region_code_latest' a 'region_code' para claridad\n",
    "dashboard_df_adrian.rename(columns={'region_code_latest': 'region_code'}, inplace=True)"
   ]
  },
  {
   "cell_type": "code",
   "execution_count": null,
   "metadata": {},
   "outputs": [],
   "source": [
    "dashboard_df_adrian.head(20)"
   ]
  },
  {
   "cell_type": "code",
   "execution_count": null,
   "metadata": {},
   "outputs": [],
   "source": [
    "# Verificar las columnas con más de un valor único para cada pk_cid\n",
    "variabilidad_por_columna = dashboard_df_adrian.groupby('pk_cid').nunique()\n",
    "\n",
    "# Filtrar para encontrar las columnas que tienen más de un valor único para algún pk_cid\n",
    "columnas_con_duplicados = variabilidad_por_columna.columns[variabilidad_por_columna.gt(1).any()]\n",
    "\n",
    "# Mostrar las columnas con duplicados y algunos ejemplos de duplicados\n",
    "print(f\"Columnas con duplicados para un mismo 'pk_cid': {list(columnas_con_duplicados)}\")"
   ]
  },
  {
   "cell_type": "code",
   "execution_count": null,
   "metadata": {},
   "outputs": [],
   "source": [
    "# Especificar las columnas a excluir para considerar duplicados\n",
    "columnas_excluir = ['pk_partition', 'mes_partition', 'mes_nombre_partition']\n",
    "\n",
    "# Crear una lista de columnas a considerar para eliminar duplicados\n",
    "columnas_considerar = [col for col in dashboard_df_adrian.columns if col not in columnas_excluir]\n",
    "\n",
    "# Eliminar duplicados basándose en las columnas especificadas\n",
    "df_unique = dashboard_df_adrian.drop_duplicates(subset=columnas_considerar)\n",
    "\n",
    "# Contar los valores únicos de 'pk_cid' en df_unique\n",
    "num_unicos_df_dash = df_unique['pk_cid'].nunique()\n",
    "\n",
    "# Contar los valores únicos de 'pk_cid' en df_full\n",
    "num_unicos_df_full = df_full['pk_cid'].nunique()\n",
    "\n",
    "print(\"Número de valores únicos de pk_cid en df_unique es:\", num_unicos_df_dash)\n",
    "print(\"Número de valores únicos de pk_cid en df_full es:\", num_unicos_df_full)"
   ]
  },
  {
   "cell_type": "code",
   "execution_count": null,
   "metadata": {},
   "outputs": [],
   "source": [
    "# Mostrar filas que tienen 'pk_cid' duplicados en df_unique\n",
    "duplicados_pk_cid = df_unique[df_unique['pk_cid'].duplicated(keep=False)]\n",
    "\n",
    "# Mostrar los resultados\n",
    "if not duplicados_pk_cid.empty:\n",
    "    print(\"Filas con 'pk_cid' duplicados:\")\n",
    "    display(duplicados_pk_cid)\n",
    "else:\n",
    "    print(\"No hay duplicados en la columna 'pk_cid'.\")"
   ]
  },
  {
   "cell_type": "code",
   "execution_count": null,
   "metadata": {},
   "outputs": [],
   "source": [
    "dashboard_df_adrian.to_csv('dashboard_sociodemographic.csv', index=False)"
   ]
  },
  {
   "cell_type": "code",
   "execution_count": null,
   "metadata": {},
   "outputs": [],
   "source": []
  },
  {
   "cell_type": "markdown",
   "metadata": {},
   "source": [
    "# *RESUMEN IMPUTACIONES*\n",
    "\n",
    "Columnas creadas:\n",
    "\n",
    " - Mes_partition y mes_nombre_partition: Creamos un identificador del mes partition, ya que puede ser una variable explicativa en el futuro si existen estacionalidades de meses\n",
    "\n",
    " - Grupo_edad: La segmentación de edades más utilizada suele ser la siguiente:\n",
    "\n",
    "        - Menores: eGrupo compuesto por personas menores de dieciocho años\n",
    "\n",
    "        - Jóvenes: El grupo de jóvenes son las personas mayores a dieciocho años y menores de veinticinco años.\n",
    "\n",
    "        - Adultos jóvenes: Este segmento incluye personas mayores de veinticinco años y menores de cuarenta años.\n",
    "\n",
    "        - Adultos: Son las personas mayores de cuarenta años y menores a los cincuenta y cinco años.\n",
    "\n",
    "        - Adultos mayores: Encontramos en este grupo a las personas mayores de cincuenta y cinco años y menores de sesenta y cinco.\n",
    "\n",
    "        - Ancianos: Son las personas con más sesenta y cinco años y menos de setenta y cinco años.\n",
    "\n",
    "        - Longevos: Son todas las personas de setenta y cinco años en adelante.\n",
    "\n",
    "\n",
    "Asignaciones de valores en variables:\n",
    "\n",
    " - Age:\n",
    "\n",
    "   - Edad mixta: \n",
    "\n",
    "      - Variaciones + 3 años. En este caso, vamos a sustituir todos los valores de Age por el último valor conocido, ya que, a futuro lo más coherente será crear categorías de edad en las que se agrupen distintas décadas, por tanto, las variaciones internas de cada cliente van a ser practicamente irrelevantes (si un cliente pasa de 30-33 no es diferenciador), y además, se sobreentiende que los errores de tipificación se corrigen con el tiempo, por tanto, cuanto más reciente sea una entrada, más probable es que sea correcta.\n",
    "\n",
    "       - Variacion negativa: De igual forma vamos a sustituir todas las edades de los casos con variaciones negativas por la edad que figure en la última entrada de cada usuario\n",
    "\n",
    " - Country_id Mixto: En este caso también vamos a modificar los casos de clientes con un country_id mixto en el DataFrame df_full, y asignarles el último país registrado para su pk_cid, ya que al tratarse solo de 25 clientes, todo parece indicar que se trata de errores en la toma de datos. Además, suponiendo que estos cambios de residencia fueran reales, entonces el salario debería sufrir modificaciones, situación que no se observa en ninguno de los casos. Por tanto, nos vamos a quedar con la información más actualizada de cada individuo.\n",
    "\n",
    " - Deceased: Como podemos comprobar, por un lado, la variable deceased tiene una variabilidad practicamente despreciable, por tanto, es lógico pensar que dicha variable no va a tener una capacidad explicativa suficiente.\n",
    "\n",
    "      No vamos a tener en cuenta la variable deceased para hacer modelos al no tener ninguna capacidad predictiva ni explicativa.\n",
    "\n",
    "      Además dada su alta correlación con otras variables como el grupo de edad, es prudente elimiarla en los modelos para no caer en problemas de multicolinealidad entre las variables explicativas.\n",
    "\n",
    " - Gender:\n",
    "\n",
    "   - Unknown constante: Vamos a imputar los Unknown y los vamos a cambiar por Hombre, ya que, ambos individuos superan los 70 años (sería extraño que se identiffiquen como género fluido y la variable H es la que presenta mayor proporción, por tanto lo imputaremos a esta).\n",
    "\n",
    "    - Unknown Mixto: Le imputaremos el último género conocido\n",
    "\n",
    "    - Géneros Mixtos: También vamos a modificar los casos en lso que el género es mixto, tomando el último valor registrado para cada individuo, ya que como hemos apuntado anteriormente, es lógico pensar que la última entrada de cada cliente es la más actualizada, y por tanto, la correcta.\n",
    "\n",
    " - Region_code:\n",
    "\n",
    "    - Region Unknown: Vamos a sustituir region_code por 28 en estos casos, al ser Madrid la región más repetida, y por en los casos de fuera de España.\n",
    "\n",
    "      Posteriormente sustituimos cada código d eprovincia por la provincia en cuestión y le colocamos Extranjero a los que son de fuera de España\n",
    "\n",
    " - Salary: \n",
    "\n",
    "    - Imputación de Nulos: Como tenemos valores nulos de practicamente todos los países, se me ocurre aplicar el salario mediano pero atendiendo al grupo de edad del sujeto, país de residencia, región de residencia y actividad comercial. Esto de forma iterativa, es decir, como hay casos para los que no se encuentra salario mediano se van sacando variables de la ecuación por orden restrictivo, es decir las más restrictivas se quedan. Primero nos quedamos con grupo_edad y el country_id, y después solo con grupo_edad\n",
    "    !!!!(Importante aquí calculamos la mediana sobre el conjunto sin duplicados, si no afecta a la mediana)!!!"
   ]
  }
 ],
 "metadata": {
  "kernelspec": {
   "display_name": "TFM",
   "language": "python",
   "name": "python3"
  },
  "language_info": {
   "codemirror_mode": {
    "name": "ipython",
    "version": 3
   },
   "file_extension": ".py",
   "mimetype": "text/x-python",
   "name": "python",
   "nbconvert_exporter": "python",
   "pygments_lexer": "ipython3",
   "version": "3.12.4"
  }
 },
 "nbformat": 4,
 "nbformat_minor": 2
}
