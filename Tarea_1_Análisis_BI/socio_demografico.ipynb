{
 "cells": [
  {
   "cell_type": "markdown",
   "metadata": {},
   "source": [
    "\n",
    "# SOCIODEMOGRAPHIC"
   ]
  },
  {
   "cell_type": "markdown",
   "metadata": {},
   "source": [
    "## sociodemographic.csv\n",
    "|Variable|Explicación|\n",
    "|---|---|\n",
    "|*age*| Edad del cliente\n",
    "|*country_id*| País de residencia del cliente\n",
    "|*deceased*| Fallecido. N/S\n",
    "|*gender*| Sexo del cliente\n",
    "|*region_code*| Provincia de residencia del cliente (para ES)\n",
    "|*salary*| Ingresos brutos de la unidad familiar"
   ]
  },
  {
   "cell_type": "code",
   "execution_count": 1,
   "metadata": {},
   "outputs": [
    {
     "name": "stderr",
     "output_type": "stream",
     "text": [
      "/Users/claudiacastro/anaconda3/lib/python3.11/site-packages/pandas/core/arrays/masked.py:60: UserWarning: Pandas requires version '1.3.6' or newer of 'bottleneck' (version '1.3.5' currently installed).\n",
      "  from pandas.core import (\n"
     ]
    }
   ],
   "source": [
    "import numpy as np \n",
    "import pandas as pd\n",
    "pd.options.display.float_format = '{:,.3f}'.format\n",
    "pd.set_option('display.max_columns', 100)\n",
    "import seaborn as sns\n",
    "import matplotlib.pyplot as plt\n",
    "sns.set_palette(\"Spectral\")\n",
    "import plotly.express as px\n",
    "import geopandas as gpd\n",
    "import warnings\n",
    "warnings.filterwarnings('ignore')"
   ]
  },
  {
   "cell_type": "code",
   "execution_count": 2,
   "metadata": {},
   "outputs": [
    {
     "ename": "KeyError",
     "evalue": "\"['Unnamed: 0_x', 'Unnamed: 0_y', 'Unnamed: 0'] not found in axis\"",
     "output_type": "error",
     "traceback": [
      "\u001b[0;31m---------------------------------------------------------------------------\u001b[0m",
      "\u001b[0;31mKeyError\u001b[0m                                  Traceback (most recent call last)",
      "Cell \u001b[0;32mIn[2], line 7\u001b[0m\n\u001b[1;32m      4\u001b[0m df_full \u001b[38;5;241m=\u001b[39m pd\u001b[38;5;241m.\u001b[39mread_parquet(\u001b[38;5;124m\"\u001b[39m\u001b[38;5;124mhttps://easy-money-project-bucket.s3.eu-west-3.amazonaws.com/df_full_cleaned.parquet\u001b[39m\u001b[38;5;124m\"\u001b[39m)\n\u001b[1;32m      6\u001b[0m \u001b[38;5;66;03m# eliminamos columnas que no aportan información\u001b[39;00m\n\u001b[0;32m----> 7\u001b[0m df_full \u001b[38;5;241m=\u001b[39m \u001b[43mdf_full\u001b[49m\u001b[38;5;241;43m.\u001b[39;49m\u001b[43mdrop\u001b[49m\u001b[43m(\u001b[49m\u001b[43mcolumns\u001b[49m\u001b[38;5;241;43m=\u001b[39;49m\u001b[43m[\u001b[49m\u001b[38;5;124;43m'\u001b[39;49m\u001b[38;5;124;43mUnnamed: 0_x\u001b[39;49m\u001b[38;5;124;43m'\u001b[39;49m\u001b[43m,\u001b[49m\u001b[43m \u001b[49m\u001b[38;5;124;43m'\u001b[39;49m\u001b[38;5;124;43mUnnamed: 0_y\u001b[39;49m\u001b[38;5;124;43m'\u001b[39;49m\u001b[43m,\u001b[49m\u001b[43m \u001b[49m\u001b[38;5;124;43m'\u001b[39;49m\u001b[38;5;124;43mUnnamed: 0\u001b[39;49m\u001b[38;5;124;43m'\u001b[39;49m\u001b[43m]\u001b[49m\u001b[43m,\u001b[49m\u001b[43m \u001b[49m\u001b[43maxis\u001b[49m\u001b[38;5;241;43m=\u001b[39;49m\u001b[38;5;241;43m1\u001b[39;49m\u001b[43m)\u001b[49m\n\u001b[1;32m      9\u001b[0m \u001b[38;5;66;03m# Ordenar df_full por pk_cid y pk_partition\u001b[39;00m\n\u001b[1;32m     10\u001b[0m df_full \u001b[38;5;241m=\u001b[39m df_full\u001b[38;5;241m.\u001b[39msort_values(by\u001b[38;5;241m=\u001b[39m[\u001b[38;5;124m'\u001b[39m\u001b[38;5;124mpk_cid\u001b[39m\u001b[38;5;124m'\u001b[39m, \u001b[38;5;124m'\u001b[39m\u001b[38;5;124mpk_partition\u001b[39m\u001b[38;5;124m'\u001b[39m])\n",
      "File \u001b[0;32m~/anaconda3/lib/python3.11/site-packages/pandas/core/frame.py:5568\u001b[0m, in \u001b[0;36mDataFrame.drop\u001b[0;34m(self, labels, axis, index, columns, level, inplace, errors)\u001b[0m\n\u001b[1;32m   5420\u001b[0m \u001b[38;5;28;01mdef\u001b[39;00m \u001b[38;5;21mdrop\u001b[39m(\n\u001b[1;32m   5421\u001b[0m     \u001b[38;5;28mself\u001b[39m,\n\u001b[1;32m   5422\u001b[0m     labels: IndexLabel \u001b[38;5;241m|\u001b[39m \u001b[38;5;28;01mNone\u001b[39;00m \u001b[38;5;241m=\u001b[39m \u001b[38;5;28;01mNone\u001b[39;00m,\n\u001b[0;32m   (...)\u001b[0m\n\u001b[1;32m   5429\u001b[0m     errors: IgnoreRaise \u001b[38;5;241m=\u001b[39m \u001b[38;5;124m\"\u001b[39m\u001b[38;5;124mraise\u001b[39m\u001b[38;5;124m\"\u001b[39m,\n\u001b[1;32m   5430\u001b[0m ) \u001b[38;5;241m-\u001b[39m\u001b[38;5;241m>\u001b[39m DataFrame \u001b[38;5;241m|\u001b[39m \u001b[38;5;28;01mNone\u001b[39;00m:\n\u001b[1;32m   5431\u001b[0m \u001b[38;5;250m    \u001b[39m\u001b[38;5;124;03m\"\"\"\u001b[39;00m\n\u001b[1;32m   5432\u001b[0m \u001b[38;5;124;03m    Drop specified labels from rows or columns.\u001b[39;00m\n\u001b[1;32m   5433\u001b[0m \n\u001b[0;32m   (...)\u001b[0m\n\u001b[1;32m   5566\u001b[0m \u001b[38;5;124;03m            weight  1.0     0.8\u001b[39;00m\n\u001b[1;32m   5567\u001b[0m \u001b[38;5;124;03m    \"\"\"\u001b[39;00m\n\u001b[0;32m-> 5568\u001b[0m     \u001b[38;5;28;01mreturn\u001b[39;00m \u001b[38;5;28;43msuper\u001b[39;49m\u001b[43m(\u001b[49m\u001b[43m)\u001b[49m\u001b[38;5;241;43m.\u001b[39;49m\u001b[43mdrop\u001b[49m\u001b[43m(\u001b[49m\n\u001b[1;32m   5569\u001b[0m \u001b[43m        \u001b[49m\u001b[43mlabels\u001b[49m\u001b[38;5;241;43m=\u001b[39;49m\u001b[43mlabels\u001b[49m\u001b[43m,\u001b[49m\n\u001b[1;32m   5570\u001b[0m \u001b[43m        \u001b[49m\u001b[43maxis\u001b[49m\u001b[38;5;241;43m=\u001b[39;49m\u001b[43maxis\u001b[49m\u001b[43m,\u001b[49m\n\u001b[1;32m   5571\u001b[0m \u001b[43m        \u001b[49m\u001b[43mindex\u001b[49m\u001b[38;5;241;43m=\u001b[39;49m\u001b[43mindex\u001b[49m\u001b[43m,\u001b[49m\n\u001b[1;32m   5572\u001b[0m \u001b[43m        \u001b[49m\u001b[43mcolumns\u001b[49m\u001b[38;5;241;43m=\u001b[39;49m\u001b[43mcolumns\u001b[49m\u001b[43m,\u001b[49m\n\u001b[1;32m   5573\u001b[0m \u001b[43m        \u001b[49m\u001b[43mlevel\u001b[49m\u001b[38;5;241;43m=\u001b[39;49m\u001b[43mlevel\u001b[49m\u001b[43m,\u001b[49m\n\u001b[1;32m   5574\u001b[0m \u001b[43m        \u001b[49m\u001b[43minplace\u001b[49m\u001b[38;5;241;43m=\u001b[39;49m\u001b[43minplace\u001b[49m\u001b[43m,\u001b[49m\n\u001b[1;32m   5575\u001b[0m \u001b[43m        \u001b[49m\u001b[43merrors\u001b[49m\u001b[38;5;241;43m=\u001b[39;49m\u001b[43merrors\u001b[49m\u001b[43m,\u001b[49m\n\u001b[1;32m   5576\u001b[0m \u001b[43m    \u001b[49m\u001b[43m)\u001b[49m\n",
      "File \u001b[0;32m~/anaconda3/lib/python3.11/site-packages/pandas/core/generic.py:4785\u001b[0m, in \u001b[0;36mNDFrame.drop\u001b[0;34m(self, labels, axis, index, columns, level, inplace, errors)\u001b[0m\n\u001b[1;32m   4783\u001b[0m \u001b[38;5;28;01mfor\u001b[39;00m axis, labels \u001b[38;5;129;01min\u001b[39;00m axes\u001b[38;5;241m.\u001b[39mitems():\n\u001b[1;32m   4784\u001b[0m     \u001b[38;5;28;01mif\u001b[39;00m labels \u001b[38;5;129;01mis\u001b[39;00m \u001b[38;5;129;01mnot\u001b[39;00m \u001b[38;5;28;01mNone\u001b[39;00m:\n\u001b[0;32m-> 4785\u001b[0m         obj \u001b[38;5;241m=\u001b[39m \u001b[43mobj\u001b[49m\u001b[38;5;241;43m.\u001b[39;49m\u001b[43m_drop_axis\u001b[49m\u001b[43m(\u001b[49m\u001b[43mlabels\u001b[49m\u001b[43m,\u001b[49m\u001b[43m \u001b[49m\u001b[43maxis\u001b[49m\u001b[43m,\u001b[49m\u001b[43m \u001b[49m\u001b[43mlevel\u001b[49m\u001b[38;5;241;43m=\u001b[39;49m\u001b[43mlevel\u001b[49m\u001b[43m,\u001b[49m\u001b[43m \u001b[49m\u001b[43merrors\u001b[49m\u001b[38;5;241;43m=\u001b[39;49m\u001b[43merrors\u001b[49m\u001b[43m)\u001b[49m\n\u001b[1;32m   4787\u001b[0m \u001b[38;5;28;01mif\u001b[39;00m inplace:\n\u001b[1;32m   4788\u001b[0m     \u001b[38;5;28mself\u001b[39m\u001b[38;5;241m.\u001b[39m_update_inplace(obj)\n",
      "File \u001b[0;32m~/anaconda3/lib/python3.11/site-packages/pandas/core/generic.py:4827\u001b[0m, in \u001b[0;36mNDFrame._drop_axis\u001b[0;34m(self, labels, axis, level, errors, only_slice)\u001b[0m\n\u001b[1;32m   4825\u001b[0m         new_axis \u001b[38;5;241m=\u001b[39m axis\u001b[38;5;241m.\u001b[39mdrop(labels, level\u001b[38;5;241m=\u001b[39mlevel, errors\u001b[38;5;241m=\u001b[39merrors)\n\u001b[1;32m   4826\u001b[0m     \u001b[38;5;28;01melse\u001b[39;00m:\n\u001b[0;32m-> 4827\u001b[0m         new_axis \u001b[38;5;241m=\u001b[39m \u001b[43maxis\u001b[49m\u001b[38;5;241;43m.\u001b[39;49m\u001b[43mdrop\u001b[49m\u001b[43m(\u001b[49m\u001b[43mlabels\u001b[49m\u001b[43m,\u001b[49m\u001b[43m \u001b[49m\u001b[43merrors\u001b[49m\u001b[38;5;241;43m=\u001b[39;49m\u001b[43merrors\u001b[49m\u001b[43m)\u001b[49m\n\u001b[1;32m   4828\u001b[0m     indexer \u001b[38;5;241m=\u001b[39m axis\u001b[38;5;241m.\u001b[39mget_indexer(new_axis)\n\u001b[1;32m   4830\u001b[0m \u001b[38;5;66;03m# Case for non-unique axis\u001b[39;00m\n\u001b[1;32m   4831\u001b[0m \u001b[38;5;28;01melse\u001b[39;00m:\n",
      "File \u001b[0;32m~/anaconda3/lib/python3.11/site-packages/pandas/core/indexes/base.py:7070\u001b[0m, in \u001b[0;36mIndex.drop\u001b[0;34m(self, labels, errors)\u001b[0m\n\u001b[1;32m   7068\u001b[0m \u001b[38;5;28;01mif\u001b[39;00m mask\u001b[38;5;241m.\u001b[39many():\n\u001b[1;32m   7069\u001b[0m     \u001b[38;5;28;01mif\u001b[39;00m errors \u001b[38;5;241m!=\u001b[39m \u001b[38;5;124m\"\u001b[39m\u001b[38;5;124mignore\u001b[39m\u001b[38;5;124m\"\u001b[39m:\n\u001b[0;32m-> 7070\u001b[0m         \u001b[38;5;28;01mraise\u001b[39;00m \u001b[38;5;167;01mKeyError\u001b[39;00m(\u001b[38;5;124mf\u001b[39m\u001b[38;5;124m\"\u001b[39m\u001b[38;5;132;01m{\u001b[39;00mlabels[mask]\u001b[38;5;241m.\u001b[39mtolist()\u001b[38;5;132;01m}\u001b[39;00m\u001b[38;5;124m not found in axis\u001b[39m\u001b[38;5;124m\"\u001b[39m)\n\u001b[1;32m   7071\u001b[0m     indexer \u001b[38;5;241m=\u001b[39m indexer[\u001b[38;5;241m~\u001b[39mmask]\n\u001b[1;32m   7072\u001b[0m \u001b[38;5;28;01mreturn\u001b[39;00m \u001b[38;5;28mself\u001b[39m\u001b[38;5;241m.\u001b[39mdelete(indexer)\n",
      "\u001b[0;31mKeyError\u001b[0m: \"['Unnamed: 0_x', 'Unnamed: 0_y', 'Unnamed: 0'] not found in axis\""
     ]
    }
   ],
   "source": [
    "# Cargar el archivo parquet\n",
    "df_full = pd.read_parquet(\"C:/Users/Bobby/Desktop/Master Data Analysis/TFM/easyMoney_fintech/data/df_completo.parquet\")\n",
    "\n",
    "\n",
    "# eliminamos columnas que no aportan información\n",
    "df_full = df_full.drop(columns=['Unnamed: 0_x', 'Unnamed: 0_y', 'Unnamed: 0'], axis=1)\n",
    "\n",
    "# Ordenar df_full por pk_cid y pk_partition\n",
    "df_full = df_full.sort_values(by=['pk_cid', 'pk_partition'])\n",
    "\n",
    "# Modificamos el tipo de dato de las columnas, SIMPLEMENTE CAMBIA EL TIPO DE DATO\n",
    "df_full[\"pk_partition\"] = pd.to_datetime(df_full[\"pk_partition\"])\n",
    "df_full[\"entry_date\"] = pd.to_datetime(df_full[\"entry_date\"], errors='coerce')\n",
    "df_full[\"entry_channel\"] = df_full[\"entry_channel\"].astype('category')\n",
    "df_full['active_customer'] = df_full['active_customer'].astype('int32')\n",
    "df_full['segment'] = df_full['segment'].astype('category')\n",
    "df_full['short_term_deposit'] = df_full['short_term_deposit'].astype('int32')\n",
    "df_full['loans'] = df_full['loans'].astype('int32')\n",
    "df_full['mortgage'] = df_full['mortgage'].astype('int32')\n",
    "df_full['funds'] = df_full['funds'].astype('int32')\n",
    "df_full['securities'] = df_full['securities'].astype('int32')\n",
    "df_full['long_term_deposit'] = df_full['long_term_deposit'].astype('int32')\n",
    "df_full['credit_card'] = df_full['credit_card'].astype('int32')\n",
    "# df_full['payroll'] = df_full['payroll'].astype('int32')\n",
    "# df_full['pension_plan'] = df_full['pension_plan'].astype('int32')\n",
    "df_full['payroll_account'] = df_full['payroll_account'].astype('int32')\n",
    "df_full['emc_account'] = df_full['emc_account'].astype('int32')\n",
    "df_full['debit_card'] = df_full['debit_card'].astype('int32')\n",
    "df_full['em_account_p'] = df_full['em_account_p'].astype('int32')\n",
    "df_full['em_acount'] = df_full['em_acount'].astype('int32')\n",
    "df_full[\"country_id\"] = df_full[\"country_id\"].astype('category')\n",
    "df_full[\"region_code\"] = df_full[\"region_code\"].astype('category')\n",
    "df_full[\"gender\"] =  df_full[\"gender\"].astype('category')\n",
    "df_full[\"age\"] = df_full[\"age\"].astype('int32')"
   ]
  },
  {
   "cell_type": "markdown",
   "metadata": {},
   "source": [
    "## Análisis Preliminar"
   ]
  },
  {
   "cell_type": "code",
   "execution_count": 252,
   "metadata": {},
   "outputs": [],
   "source": [
    "def build_my_info_table(df):\n",
    "    # Seleccionar las columnas numéricas del DataFrame\n",
    "    numerical_columns = df.select_dtypes(include=[np.number])\n",
    "    \n",
    "    # Crear un DataFrame con información detallada sobre las columnas\n",
    "    df_info = pd.DataFrame({\n",
    "        # Nombre de la columna\n",
    "        'column':   [col             for col in df.columns],\n",
    "        # Tipo de datos de la columna\n",
    "        'dtype':    [df[col].dtype   for col in df.columns],\n",
    "        # Número de valores no nulos en la columna\n",
    "        'count':    [df[col].count() for col in df.columns],\n",
    "        \n",
    "        # Estadísticas descriptivas para columnas numéricas\n",
    "        'mean':     [round(df[col].mean(), 1)         if col in numerical_columns else '' for col in df.columns],\n",
    "        'std':      [round(df[col].std(), 1)          if col in numerical_columns else '' for col in df.columns],\n",
    "        'min':      [round(df[col].min(), 1)          if col in numerical_columns else '' for col in df.columns],\n",
    "        '25%':      [round(df[col].quantile(0.25), 1) if col in numerical_columns else '' for col in df.columns],\n",
    "        '50%':      [round(df[col].median(), 1)       if col in numerical_columns else '' for col in df.columns],\n",
    "        '75%':      [round(df[col].quantile(0.75), 1) if col in numerical_columns else '' for col in df.columns],\n",
    "        'max':      [round(df[col].max(), 1)          if col in numerical_columns else '' for col in df.columns],\n",
    "        \n",
    "        # Número de valores únicos en la columna\n",
    "        'nunique':  [df[col].nunique()                                          for col in df.columns],\n",
    "        \n",
    "        # Lista de valores únicos si el número de valores únicos es menor que 30, de lo contrario, cadena vacía\n",
    "        'unique':   [list(df[col].unique()) if df[col].nunique() < 10 else ''   for col in df.columns],\n",
    "        \n",
    "        # Porcentaje de cardinalidad (número de valores únicos)\n",
    "        'cardinality %': [round(df[col].nunique() / df.shape[0] * 100, 1)      for col in df.columns],\n",
    "        \n",
    "        # Moda (valor más frecuente) en la columna\n",
    "        'mode':     [df[col].mode()[0]                                          for col in df.columns],\n",
    "        \n",
    "        # Porcentaje de ocurrencias de la moda en la columna\n",
    "        'mode %':   [round(df[col].value_counts().max() * 100 / df.shape[0], 1) for col in df.columns],\n",
    "        \n",
    "        # Número de valores nulos en la columna\n",
    "        'null_count': [df[col].isnull().sum() for col in df.columns],\n",
    "        \n",
    "        # Porcentaje de valores nulos en la columna\n",
    "        'null %':   [round(df[col].isnull().mean() * 100, 1)                    for col in df.columns],\n",
    "    })\n",
    "    return df_info"
   ]
  },
  {
   "cell_type": "code",
   "execution_count": 253,
   "metadata": {},
   "outputs": [
    {
     "data": {
      "text/html": [
       "<div>\n",
       "<style scoped>\n",
       "    .dataframe tbody tr th:only-of-type {\n",
       "        vertical-align: middle;\n",
       "    }\n",
       "\n",
       "    .dataframe tbody tr th {\n",
       "        vertical-align: top;\n",
       "    }\n",
       "\n",
       "    .dataframe thead th {\n",
       "        text-align: right;\n",
       "    }\n",
       "</style>\n",
       "<table border=\"1\" class=\"dataframe\">\n",
       "  <thead>\n",
       "    <tr style=\"text-align: right;\">\n",
       "      <th></th>\n",
       "      <th>pk_cid</th>\n",
       "      <th>pk_partition</th>\n",
       "      <th>age</th>\n",
       "      <th>country_id</th>\n",
       "      <th>deceased</th>\n",
       "      <th>gender</th>\n",
       "      <th>region_code</th>\n",
       "      <th>salary</th>\n",
       "    </tr>\n",
       "  </thead>\n",
       "  <tbody>\n",
       "    <tr>\n",
       "      <th>1479563</th>\n",
       "      <td>15891</td>\n",
       "      <td>2018-07-28</td>\n",
       "      <td>59</td>\n",
       "      <td>ES</td>\n",
       "      <td>N</td>\n",
       "      <td>H</td>\n",
       "      <td>28.000</td>\n",
       "      <td>NaN</td>\n",
       "    </tr>\n",
       "    <tr>\n",
       "      <th>2168122</th>\n",
       "      <td>15891</td>\n",
       "      <td>2018-08-28</td>\n",
       "      <td>59</td>\n",
       "      <td>ES</td>\n",
       "      <td>N</td>\n",
       "      <td>H</td>\n",
       "      <td>28.000</td>\n",
       "      <td>NaN</td>\n",
       "    </tr>\n",
       "    <tr>\n",
       "      <th>2962973</th>\n",
       "      <td>16063</td>\n",
       "      <td>2018-11-28</td>\n",
       "      <td>62</td>\n",
       "      <td>ES</td>\n",
       "      <td>N</td>\n",
       "      <td>H</td>\n",
       "      <td>28.000</td>\n",
       "      <td>NaN</td>\n",
       "    </tr>\n",
       "    <tr>\n",
       "      <th>3628236</th>\n",
       "      <td>16063</td>\n",
       "      <td>2018-12-28</td>\n",
       "      <td>62</td>\n",
       "      <td>ES</td>\n",
       "      <td>N</td>\n",
       "      <td>H</td>\n",
       "      <td>28.000</td>\n",
       "      <td>NaN</td>\n",
       "    </tr>\n",
       "    <tr>\n",
       "      <th>4028169</th>\n",
       "      <td>16063</td>\n",
       "      <td>2019-01-28</td>\n",
       "      <td>62</td>\n",
       "      <td>ES</td>\n",
       "      <td>N</td>\n",
       "      <td>H</td>\n",
       "      <td>28.000</td>\n",
       "      <td>NaN</td>\n",
       "    </tr>\n",
       "  </tbody>\n",
       "</table>\n",
       "</div>"
      ],
      "text/plain": [
       "         pk_cid pk_partition  age country_id deceased gender region_code  \\\n",
       "1479563   15891   2018-07-28   59         ES        N      H      28.000   \n",
       "2168122   15891   2018-08-28   59         ES        N      H      28.000   \n",
       "2962973   16063   2018-11-28   62         ES        N      H      28.000   \n",
       "3628236   16063   2018-12-28   62         ES        N      H      28.000   \n",
       "4028169   16063   2019-01-28   62         ES        N      H      28.000   \n",
       "\n",
       "         salary  \n",
       "1479563     NaN  \n",
       "2168122     NaN  \n",
       "2962973     NaN  \n",
       "3628236     NaN  \n",
       "4028169     NaN  "
      ]
     },
     "execution_count": 253,
     "metadata": {},
     "output_type": "execute_result"
    }
   ],
   "source": [
    "# Crear un nuevo DataFrame df_soc con las columnas específicas\n",
    "columnas_a_seleccionar = ['pk_cid', 'pk_partition', 'age', 'country_id', 'deceased', 'gender', 'region_code', 'salary']\n",
    "df_soc = df_full[columnas_a_seleccionar]\n",
    "\n",
    "df_soc.head()"
   ]
  },
  {
   "cell_type": "code",
   "execution_count": 254,
   "metadata": {},
   "outputs": [
    {
     "data": {
      "text/plain": [
       "pk_cid                0\n",
       "pk_partition          0\n",
       "age                   0\n",
       "country_id            0\n",
       "deceased              0\n",
       "gender               25\n",
       "region_code        2264\n",
       "salary          1512103\n",
       "dtype: int64"
      ]
     },
     "execution_count": 254,
     "metadata": {},
     "output_type": "execute_result"
    }
   ],
   "source": [
    "df_soc.isna().sum()"
   ]
  },
  {
   "cell_type": "markdown",
   "metadata": {},
   "source": [
    "### Tabla de Información General"
   ]
  },
  {
   "cell_type": "code",
   "execution_count": 255,
   "metadata": {},
   "outputs": [
    {
     "data": {
      "text/html": [
       "<style type=\"text/css\">\n",
       "#T_c6dda thead th {\n",
       "  position: sticky;\n",
       "  top: 0;\n",
       "  background-color: black;\n",
       "  z-index: 1;\n",
       "}\n",
       "#T_c6dda tbody {\n",
       "  display: block;\n",
       "  max-height: 400px;\n",
       "  overflow-y: scroll;\n",
       "  overflow-x: auto;\n",
       "}\n",
       "#T_c6dda thead {\n",
       "  display: table;\n",
       "  width: 100%;\n",
       "  table-layout: fixed;\n",
       "}\n",
       "#T_c6dda  tbody tr {\n",
       "  display: table;\n",
       "  width: 100%;\n",
       "  table-layout: fixed;\n",
       "}\n",
       "#T_c6dda th {\n",
       "  word-wrap: break-word;\n",
       "  white-space: pre-wrap;\n",
       "  max-width: 150px;\n",
       "}\n",
       "#T_c6dda  td {\n",
       "  word-wrap: break-word;\n",
       "  white-space: pre-wrap;\n",
       "  max-width: 150px;\n",
       "}\n",
       "#T_c6dda_row0_col2, #T_c6dda_row0_col10, #T_c6dda_row0_col12, #T_c6dda_row1_col2, #T_c6dda_row2_col2, #T_c6dda_row3_col2, #T_c6dda_row3_col14, #T_c6dda_row4_col2, #T_c6dda_row4_col14, #T_c6dda_row5_col2, #T_c6dda_row6_col2, #T_c6dda_row7_col15, #T_c6dda_row7_col16 {\n",
       "  background-color: #67000d;\n",
       "  color: #f1f1f1;\n",
       "}\n",
       "#T_c6dda_row0_col14, #T_c6dda_row0_col15, #T_c6dda_row0_col16, #T_c6dda_row1_col10, #T_c6dda_row1_col12, #T_c6dda_row1_col15, #T_c6dda_row1_col16, #T_c6dda_row2_col10, #T_c6dda_row2_col12, #T_c6dda_row2_col15, #T_c6dda_row2_col16, #T_c6dda_row3_col10, #T_c6dda_row3_col12, #T_c6dda_row3_col15, #T_c6dda_row3_col16, #T_c6dda_row4_col10, #T_c6dda_row4_col12, #T_c6dda_row4_col15, #T_c6dda_row4_col16, #T_c6dda_row5_col10, #T_c6dda_row5_col12, #T_c6dda_row5_col15, #T_c6dda_row5_col16, #T_c6dda_row6_col10, #T_c6dda_row6_col12, #T_c6dda_row6_col15, #T_c6dda_row6_col16, #T_c6dda_row7_col2, #T_c6dda_row7_col14 {\n",
       "  background-color: #fff5f0;\n",
       "  color: #000000;\n",
       "}\n",
       "#T_c6dda_row1_col14 {\n",
       "  background-color: #fee9df;\n",
       "  color: #000000;\n",
       "}\n",
       "#T_c6dda_row2_col14 {\n",
       "  background-color: #fee1d3;\n",
       "  color: #000000;\n",
       "}\n",
       "#T_c6dda_row5_col14 {\n",
       "  background-color: #f96346;\n",
       "  color: #f1f1f1;\n",
       "}\n",
       "#T_c6dda_row6_col14 {\n",
       "  background-color: #fdcbb6;\n",
       "  color: #000000;\n",
       "}\n",
       "#T_c6dda_row7_col10 {\n",
       "  background-color: #f4503a;\n",
       "  color: #f1f1f1;\n",
       "}\n",
       "#T_c6dda_row7_col12 {\n",
       "  background-color: #f6553c;\n",
       "  color: #f1f1f1;\n",
       "}\n",
       "</style>\n",
       "<table id=\"T_c6dda\">\n",
       "  <thead>\n",
       "    <tr>\n",
       "      <th class=\"blank level0\" >&nbsp;</th>\n",
       "      <th id=\"T_c6dda_level0_col0\" class=\"col_heading level0 col0\" >column</th>\n",
       "      <th id=\"T_c6dda_level0_col1\" class=\"col_heading level0 col1\" >dtype</th>\n",
       "      <th id=\"T_c6dda_level0_col2\" class=\"col_heading level0 col2\" >count</th>\n",
       "      <th id=\"T_c6dda_level0_col3\" class=\"col_heading level0 col3\" >mean</th>\n",
       "      <th id=\"T_c6dda_level0_col4\" class=\"col_heading level0 col4\" >std</th>\n",
       "      <th id=\"T_c6dda_level0_col5\" class=\"col_heading level0 col5\" >min</th>\n",
       "      <th id=\"T_c6dda_level0_col6\" class=\"col_heading level0 col6\" >25%</th>\n",
       "      <th id=\"T_c6dda_level0_col7\" class=\"col_heading level0 col7\" >50%</th>\n",
       "      <th id=\"T_c6dda_level0_col8\" class=\"col_heading level0 col8\" >75%</th>\n",
       "      <th id=\"T_c6dda_level0_col9\" class=\"col_heading level0 col9\" >max</th>\n",
       "      <th id=\"T_c6dda_level0_col10\" class=\"col_heading level0 col10\" >nunique</th>\n",
       "      <th id=\"T_c6dda_level0_col11\" class=\"col_heading level0 col11\" >unique</th>\n",
       "      <th id=\"T_c6dda_level0_col12\" class=\"col_heading level0 col12\" >cardinality %</th>\n",
       "      <th id=\"T_c6dda_level0_col13\" class=\"col_heading level0 col13\" >mode</th>\n",
       "      <th id=\"T_c6dda_level0_col14\" class=\"col_heading level0 col14\" >mode %</th>\n",
       "      <th id=\"T_c6dda_level0_col15\" class=\"col_heading level0 col15\" >null_count</th>\n",
       "      <th id=\"T_c6dda_level0_col16\" class=\"col_heading level0 col16\" >null %</th>\n",
       "    </tr>\n",
       "  </thead>\n",
       "  <tbody>\n",
       "    <tr>\n",
       "      <th id=\"T_c6dda_level0_row0\" class=\"row_heading level0 row0\" >0</th>\n",
       "      <td id=\"T_c6dda_row0_col0\" class=\"data row0 col0\" >pk_cid</td>\n",
       "      <td id=\"T_c6dda_row0_col1\" class=\"data row0 col1\" >int64</td>\n",
       "      <td id=\"T_c6dda_row0_col2\" class=\"data row0 col2\" >5962924</td>\n",
       "      <td id=\"T_c6dda_row0_col3\" class=\"data row0 col3\" >1234929.800000</td>\n",
       "      <td id=\"T_c6dda_row0_col4\" class=\"data row0 col4\" >162302.000000</td>\n",
       "      <td id=\"T_c6dda_row0_col5\" class=\"data row0 col5\" >15891</td>\n",
       "      <td id=\"T_c6dda_row0_col6\" class=\"data row0 col6\" >1112532.000000</td>\n",
       "      <td id=\"T_c6dda_row0_col7\" class=\"data row0 col7\" >1231097.000000</td>\n",
       "      <td id=\"T_c6dda_row0_col8\" class=\"data row0 col8\" >1352339.000000</td>\n",
       "      <td id=\"T_c6dda_row0_col9\" class=\"data row0 col9\" >1553689</td>\n",
       "      <td id=\"T_c6dda_row0_col10\" class=\"data row0 col10\" >456373</td>\n",
       "      <td id=\"T_c6dda_row0_col11\" class=\"data row0 col11\" ></td>\n",
       "      <td id=\"T_c6dda_row0_col12\" class=\"data row0 col12\" >7.700000</td>\n",
       "      <td id=\"T_c6dda_row0_col13\" class=\"data row0 col13\" >17457</td>\n",
       "      <td id=\"T_c6dda_row0_col14\" class=\"data row0 col14\" >0.000000</td>\n",
       "      <td id=\"T_c6dda_row0_col15\" class=\"data row0 col15\" >0</td>\n",
       "      <td id=\"T_c6dda_row0_col16\" class=\"data row0 col16\" >0.000000</td>\n",
       "    </tr>\n",
       "    <tr>\n",
       "      <th id=\"T_c6dda_level0_row1\" class=\"row_heading level0 row1\" >1</th>\n",
       "      <td id=\"T_c6dda_row1_col0\" class=\"data row1 col0\" >pk_partition</td>\n",
       "      <td id=\"T_c6dda_row1_col1\" class=\"data row1 col1\" >datetime64[ns]</td>\n",
       "      <td id=\"T_c6dda_row1_col2\" class=\"data row1 col2\" >5962924</td>\n",
       "      <td id=\"T_c6dda_row1_col3\" class=\"data row1 col3\" ></td>\n",
       "      <td id=\"T_c6dda_row1_col4\" class=\"data row1 col4\" ></td>\n",
       "      <td id=\"T_c6dda_row1_col5\" class=\"data row1 col5\" ></td>\n",
       "      <td id=\"T_c6dda_row1_col6\" class=\"data row1 col6\" ></td>\n",
       "      <td id=\"T_c6dda_row1_col7\" class=\"data row1 col7\" ></td>\n",
       "      <td id=\"T_c6dda_row1_col8\" class=\"data row1 col8\" ></td>\n",
       "      <td id=\"T_c6dda_row1_col9\" class=\"data row1 col9\" ></td>\n",
       "      <td id=\"T_c6dda_row1_col10\" class=\"data row1 col10\" >17</td>\n",
       "      <td id=\"T_c6dda_row1_col11\" class=\"data row1 col11\" ></td>\n",
       "      <td id=\"T_c6dda_row1_col12\" class=\"data row1 col12\" >0.000000</td>\n",
       "      <td id=\"T_c6dda_row1_col13\" class=\"data row1 col13\" >2019-05-28 00:00:00</td>\n",
       "      <td id=\"T_c6dda_row1_col14\" class=\"data row1 col14\" >7.400000</td>\n",
       "      <td id=\"T_c6dda_row1_col15\" class=\"data row1 col15\" >0</td>\n",
       "      <td id=\"T_c6dda_row1_col16\" class=\"data row1 col16\" >0.000000</td>\n",
       "    </tr>\n",
       "    <tr>\n",
       "      <th id=\"T_c6dda_level0_row2\" class=\"row_heading level0 row2\" >2</th>\n",
       "      <td id=\"T_c6dda_row2_col0\" class=\"data row2 col0\" >age</td>\n",
       "      <td id=\"T_c6dda_row2_col1\" class=\"data row2 col1\" >int32</td>\n",
       "      <td id=\"T_c6dda_row2_col2\" class=\"data row2 col2\" >5962924</td>\n",
       "      <td id=\"T_c6dda_row2_col3\" class=\"data row2 col3\" >29.800000</td>\n",
       "      <td id=\"T_c6dda_row2_col4\" class=\"data row2 col4\" >12.000000</td>\n",
       "      <td id=\"T_c6dda_row2_col5\" class=\"data row2 col5\" >2</td>\n",
       "      <td id=\"T_c6dda_row2_col6\" class=\"data row2 col6\" >22.000000</td>\n",
       "      <td id=\"T_c6dda_row2_col7\" class=\"data row2 col7\" >25.000000</td>\n",
       "      <td id=\"T_c6dda_row2_col8\" class=\"data row2 col8\" >34.000000</td>\n",
       "      <td id=\"T_c6dda_row2_col9\" class=\"data row2 col9\" >105</td>\n",
       "      <td id=\"T_c6dda_row2_col10\" class=\"data row2 col10\" >104</td>\n",
       "      <td id=\"T_c6dda_row2_col11\" class=\"data row2 col11\" ></td>\n",
       "      <td id=\"T_c6dda_row2_col12\" class=\"data row2 col12\" >0.000000</td>\n",
       "      <td id=\"T_c6dda_row2_col13\" class=\"data row2 col13\" >22</td>\n",
       "      <td id=\"T_c6dda_row2_col14\" class=\"data row2 col14\" >12.200000</td>\n",
       "      <td id=\"T_c6dda_row2_col15\" class=\"data row2 col15\" >0</td>\n",
       "      <td id=\"T_c6dda_row2_col16\" class=\"data row2 col16\" >0.000000</td>\n",
       "    </tr>\n",
       "    <tr>\n",
       "      <th id=\"T_c6dda_level0_row3\" class=\"row_heading level0 row3\" >3</th>\n",
       "      <td id=\"T_c6dda_row3_col0\" class=\"data row3 col0\" >country_id</td>\n",
       "      <td id=\"T_c6dda_row3_col1\" class=\"data row3 col1\" >category</td>\n",
       "      <td id=\"T_c6dda_row3_col2\" class=\"data row3 col2\" >5962924</td>\n",
       "      <td id=\"T_c6dda_row3_col3\" class=\"data row3 col3\" ></td>\n",
       "      <td id=\"T_c6dda_row3_col4\" class=\"data row3 col4\" ></td>\n",
       "      <td id=\"T_c6dda_row3_col5\" class=\"data row3 col5\" ></td>\n",
       "      <td id=\"T_c6dda_row3_col6\" class=\"data row3 col6\" ></td>\n",
       "      <td id=\"T_c6dda_row3_col7\" class=\"data row3 col7\" ></td>\n",
       "      <td id=\"T_c6dda_row3_col8\" class=\"data row3 col8\" ></td>\n",
       "      <td id=\"T_c6dda_row3_col9\" class=\"data row3 col9\" ></td>\n",
       "      <td id=\"T_c6dda_row3_col10\" class=\"data row3 col10\" >41</td>\n",
       "      <td id=\"T_c6dda_row3_col11\" class=\"data row3 col11\" ></td>\n",
       "      <td id=\"T_c6dda_row3_col12\" class=\"data row3 col12\" >0.000000</td>\n",
       "      <td id=\"T_c6dda_row3_col13\" class=\"data row3 col13\" >ES</td>\n",
       "      <td id=\"T_c6dda_row3_col14\" class=\"data row3 col14\" >100.000000</td>\n",
       "      <td id=\"T_c6dda_row3_col15\" class=\"data row3 col15\" >0</td>\n",
       "      <td id=\"T_c6dda_row3_col16\" class=\"data row3 col16\" >0.000000</td>\n",
       "    </tr>\n",
       "    <tr>\n",
       "      <th id=\"T_c6dda_level0_row4\" class=\"row_heading level0 row4\" >4</th>\n",
       "      <td id=\"T_c6dda_row4_col0\" class=\"data row4 col0\" >deceased</td>\n",
       "      <td id=\"T_c6dda_row4_col1\" class=\"data row4 col1\" >object</td>\n",
       "      <td id=\"T_c6dda_row4_col2\" class=\"data row4 col2\" >5962924</td>\n",
       "      <td id=\"T_c6dda_row4_col3\" class=\"data row4 col3\" ></td>\n",
       "      <td id=\"T_c6dda_row4_col4\" class=\"data row4 col4\" ></td>\n",
       "      <td id=\"T_c6dda_row4_col5\" class=\"data row4 col5\" ></td>\n",
       "      <td id=\"T_c6dda_row4_col6\" class=\"data row4 col6\" ></td>\n",
       "      <td id=\"T_c6dda_row4_col7\" class=\"data row4 col7\" ></td>\n",
       "      <td id=\"T_c6dda_row4_col8\" class=\"data row4 col8\" ></td>\n",
       "      <td id=\"T_c6dda_row4_col9\" class=\"data row4 col9\" ></td>\n",
       "      <td id=\"T_c6dda_row4_col10\" class=\"data row4 col10\" >2</td>\n",
       "      <td id=\"T_c6dda_row4_col11\" class=\"data row4 col11\" >['N', 'S']</td>\n",
       "      <td id=\"T_c6dda_row4_col12\" class=\"data row4 col12\" >0.000000</td>\n",
       "      <td id=\"T_c6dda_row4_col13\" class=\"data row4 col13\" >N</td>\n",
       "      <td id=\"T_c6dda_row4_col14\" class=\"data row4 col14\" >100.000000</td>\n",
       "      <td id=\"T_c6dda_row4_col15\" class=\"data row4 col15\" >0</td>\n",
       "      <td id=\"T_c6dda_row4_col16\" class=\"data row4 col16\" >0.000000</td>\n",
       "    </tr>\n",
       "    <tr>\n",
       "      <th id=\"T_c6dda_level0_row5\" class=\"row_heading level0 row5\" >5</th>\n",
       "      <td id=\"T_c6dda_row5_col0\" class=\"data row5 col0\" >gender</td>\n",
       "      <td id=\"T_c6dda_row5_col1\" class=\"data row5 col1\" >category</td>\n",
       "      <td id=\"T_c6dda_row5_col2\" class=\"data row5 col2\" >5962899</td>\n",
       "      <td id=\"T_c6dda_row5_col3\" class=\"data row5 col3\" ></td>\n",
       "      <td id=\"T_c6dda_row5_col4\" class=\"data row5 col4\" ></td>\n",
       "      <td id=\"T_c6dda_row5_col5\" class=\"data row5 col5\" ></td>\n",
       "      <td id=\"T_c6dda_row5_col6\" class=\"data row5 col6\" ></td>\n",
       "      <td id=\"T_c6dda_row5_col7\" class=\"data row5 col7\" ></td>\n",
       "      <td id=\"T_c6dda_row5_col8\" class=\"data row5 col8\" ></td>\n",
       "      <td id=\"T_c6dda_row5_col9\" class=\"data row5 col9\" ></td>\n",
       "      <td id=\"T_c6dda_row5_col10\" class=\"data row5 col10\" >2</td>\n",
       "      <td id=\"T_c6dda_row5_col11\" class=\"data row5 col11\" >['H', 'V', nan]</td>\n",
       "      <td id=\"T_c6dda_row5_col12\" class=\"data row5 col12\" >0.000000</td>\n",
       "      <td id=\"T_c6dda_row5_col13\" class=\"data row5 col13\" >H</td>\n",
       "      <td id=\"T_c6dda_row5_col14\" class=\"data row5 col14\" >51.800000</td>\n",
       "      <td id=\"T_c6dda_row5_col15\" class=\"data row5 col15\" >25</td>\n",
       "      <td id=\"T_c6dda_row5_col16\" class=\"data row5 col16\" >0.000000</td>\n",
       "    </tr>\n",
       "    <tr>\n",
       "      <th id=\"T_c6dda_level0_row6\" class=\"row_heading level0 row6\" >6</th>\n",
       "      <td id=\"T_c6dda_row6_col0\" class=\"data row6 col0\" >region_code</td>\n",
       "      <td id=\"T_c6dda_row6_col1\" class=\"data row6 col1\" >category</td>\n",
       "      <td id=\"T_c6dda_row6_col2\" class=\"data row6 col2\" >5960660</td>\n",
       "      <td id=\"T_c6dda_row6_col3\" class=\"data row6 col3\" ></td>\n",
       "      <td id=\"T_c6dda_row6_col4\" class=\"data row6 col4\" ></td>\n",
       "      <td id=\"T_c6dda_row6_col5\" class=\"data row6 col5\" ></td>\n",
       "      <td id=\"T_c6dda_row6_col6\" class=\"data row6 col6\" ></td>\n",
       "      <td id=\"T_c6dda_row6_col7\" class=\"data row6 col7\" ></td>\n",
       "      <td id=\"T_c6dda_row6_col8\" class=\"data row6 col8\" ></td>\n",
       "      <td id=\"T_c6dda_row6_col9\" class=\"data row6 col9\" ></td>\n",
       "      <td id=\"T_c6dda_row6_col10\" class=\"data row6 col10\" >52</td>\n",
       "      <td id=\"T_c6dda_row6_col11\" class=\"data row6 col11\" ></td>\n",
       "      <td id=\"T_c6dda_row6_col12\" class=\"data row6 col12\" >0.000000</td>\n",
       "      <td id=\"T_c6dda_row6_col13\" class=\"data row6 col13\" >28.000000</td>\n",
       "      <td id=\"T_c6dda_row6_col14\" class=\"data row6 col14\" >19.900000</td>\n",
       "      <td id=\"T_c6dda_row6_col15\" class=\"data row6 col15\" >2264</td>\n",
       "      <td id=\"T_c6dda_row6_col16\" class=\"data row6 col16\" >0.000000</td>\n",
       "    </tr>\n",
       "    <tr>\n",
       "      <th id=\"T_c6dda_level0_row7\" class=\"row_heading level0 row7\" >7</th>\n",
       "      <td id=\"T_c6dda_row7_col0\" class=\"data row7 col0\" >salary</td>\n",
       "      <td id=\"T_c6dda_row7_col1\" class=\"data row7 col1\" >float64</td>\n",
       "      <td id=\"T_c6dda_row7_col2\" class=\"data row7 col2\" >4450821</td>\n",
       "      <td id=\"T_c6dda_row7_col3\" class=\"data row7 col3\" >115816.700000</td>\n",
       "      <td id=\"T_c6dda_row7_col4\" class=\"data row7 col4\" >199551.900000</td>\n",
       "      <td id=\"T_c6dda_row7_col5\" class=\"data row7 col5\" >1202.700000</td>\n",
       "      <td id=\"T_c6dda_row7_col6\" class=\"data row7 col6\" >61500.600000</td>\n",
       "      <td id=\"T_c6dda_row7_col7\" class=\"data row7 col7\" >88654.600000</td>\n",
       "      <td id=\"T_c6dda_row7_col8\" class=\"data row7 col8\" >131669.900000</td>\n",
       "      <td id=\"T_c6dda_row7_col9\" class=\"data row7 col9\" >28894395.500000</td>\n",
       "      <td id=\"T_c6dda_row7_col10\" class=\"data row7 col10\" >258629</td>\n",
       "      <td id=\"T_c6dda_row7_col11\" class=\"data row7 col11\" ></td>\n",
       "      <td id=\"T_c6dda_row7_col12\" class=\"data row7 col12\" >4.300000</td>\n",
       "      <td id=\"T_c6dda_row7_col13\" class=\"data row7 col13\" >451931.220000</td>\n",
       "      <td id=\"T_c6dda_row7_col14\" class=\"data row7 col14\" >0.000000</td>\n",
       "      <td id=\"T_c6dda_row7_col15\" class=\"data row7 col15\" >1512103</td>\n",
       "      <td id=\"T_c6dda_row7_col16\" class=\"data row7 col16\" >25.400000</td>\n",
       "    </tr>\n",
       "  </tbody>\n",
       "</table>\n"
      ],
      "text/plain": [
       "<pandas.io.formats.style.Styler at 0x1c32c8aec60>"
      ]
     },
     "execution_count": 255,
     "metadata": {},
     "output_type": "execute_result"
    }
   ],
   "source": [
    "# Crear tabla de info.\n",
    "df_soc_info = build_my_info_table(df_soc)\n",
    "\n",
    "# Aplicar el estilo de gradiente de color.\n",
    "styled_soc_df = df_soc_info.style.background_gradient(cmap='Reds', axis=0)\n",
    "\n",
    "# Agregar estilos para hacer la tabla scrolleable y fijar los encabezados.\n",
    "styled_soc_df = styled_soc_df.set_table_styles(\n",
    "    [{\n",
    "        'selector': 'thead th',\n",
    "        'props': [('position', 'sticky'), ('top', '0'), ('background-color', 'black'), ('z-index', '1')]\n",
    "    }, {\n",
    "        'selector': 'tbody',\n",
    "        'props': [('display', 'block'), ('max-height', '400px'), ('overflow-y', 'scroll'), ('overflow-x', 'auto')]\n",
    "    }, {\n",
    "        'selector': 'thead, tbody tr',\n",
    "        'props': [('display', 'table'), ('width', '100%'), ('table-layout', 'fixed')]\n",
    "    }, {\n",
    "        'selector': 'th, td',\n",
    "        'props': [('word-wrap', 'break-word'), ('white-space', 'pre-wrap'), ('max-width', '150px')]\n",
    "    }]\n",
    ")\n",
    "\n",
    "# Mostrar la tabla.\n",
    "styled_soc_df"
   ]
  },
  {
   "cell_type": "markdown",
   "metadata": {},
   "source": [
    "Haciendo un análisis preliminar de los resultados obtenidos en la tabla, podemos extraer laas siguientes conclusiones:\n",
    "\n",
    " - Se observan valores nulos en las variables de género, region_code & salary, estudiaremos como imputarlas más adelante.\n",
    " - Se observa una vairabilidad aceptable en todas las categoráis, a excepción de country (donde predomina España en casi un 100%) y deceased (practicamente ningún cliente fallecido)."
   ]
  },
  {
   "cell_type": "markdown",
   "metadata": {},
   "source": [
    "## Mes pk_partition"
   ]
  },
  {
   "cell_type": "code",
   "execution_count": 256,
   "metadata": {},
   "outputs": [],
   "source": [
    "# 'pk_partitions' formato de fecha\n",
    "df_full['pk_partition'] = pd.to_datetime(df_full['pk_partition'], errors='coerce')\n",
    "\n",
    "# Extraer el mes de la columna 'pk_partitions' y crear una nueva columna 'mes'\n",
    "df_full['mes_partition'] = df_full['pk_partition'].dt.month\n",
    "\n",
    "# Extraer también el nombre del mes:\n",
    "df_full['mes_nombre_partition'] = df_full['pk_partition'].dt.strftime('%B')"
   ]
  },
  {
   "cell_type": "markdown",
   "metadata": {},
   "source": [
    "Usaremos groupby() para obtener la última partición (pk_partition) y tener una visión actual de la empresa"
   ]
  },
  {
   "cell_type": "code",
   "execution_count": 257,
   "metadata": {},
   "outputs": [],
   "source": [
    "# Filtrar el DataFrame para obtener solo los datos de la última ingesta\n",
    "latest_date = '2019-05-28'\n",
    "df_last_partition = df_full[df_full['pk_partition'] == latest_date]"
   ]
  },
  {
   "cell_type": "markdown",
   "metadata": {},
   "source": [
    "## AGE"
   ]
  },
  {
   "cell_type": "code",
   "execution_count": 258,
   "metadata": {},
   "outputs": [
    {
     "data": {
      "application/vnd.plotly.v1+json": {
       "config": {
        "plotlyServerURL": "https://plot.ly"
       },
       "data": [
        {
         "alignmentgroup": "True",
         "hovertemplate": "Edad=%{x}<br>Número de clientes=%{y}<br>percentage=%{text}<extra></extra>",
         "legendgroup": "",
         "marker": {
          "color": "#d56a61",
          "pattern": {
           "shape": ""
          }
         },
         "name": "",
         "offsetgroup": "",
         "orientation": "v",
         "showlegend": false,
         "text": [
          15.197324579806008,
          14.632438235802256,
          14.195893081916234,
          11.423599970382803,
          7.651726435817065,
          7.180319372115409,
          5.634054841177777,
          4.505516203075252,
          3.7274477379865245,
          3.217785127230545,
          2.8737937162178837,
          2.6578349828467065,
          2.4350889749981492,
          2.406397314707407,
          2.260779425919984
         ],
         "textposition": "outside",
         "texttemplate": "%{text:.2f}%",
         "type": "bar",
         "x": [
          23,
          22,
          21,
          24,
          20,
          25,
          26,
          27,
          28,
          29,
          30,
          31,
          32,
          33,
          34
         ],
         "xaxis": "x",
         "y": [
          49260,
          47429,
          46014,
          37028,
          24802,
          23274,
          18262,
          14604,
          12082,
          10430,
          9315,
          8615,
          7893,
          7800,
          7328
         ],
         "yaxis": "y"
        }
       ],
       "layout": {
        "barmode": "relative",
        "legend": {
         "tracegroupgap": 0
        },
        "template": {
         "data": {
          "bar": [
           {
            "error_x": {
             "color": "#2a3f5f"
            },
            "error_y": {
             "color": "#2a3f5f"
            },
            "marker": {
             "line": {
              "color": "#E5ECF6",
              "width": 0.5
             },
             "pattern": {
              "fillmode": "overlay",
              "size": 10,
              "solidity": 0.2
             }
            },
            "type": "bar"
           }
          ],
          "barpolar": [
           {
            "marker": {
             "line": {
              "color": "#E5ECF6",
              "width": 0.5
             },
             "pattern": {
              "fillmode": "overlay",
              "size": 10,
              "solidity": 0.2
             }
            },
            "type": "barpolar"
           }
          ],
          "carpet": [
           {
            "aaxis": {
             "endlinecolor": "#2a3f5f",
             "gridcolor": "white",
             "linecolor": "white",
             "minorgridcolor": "white",
             "startlinecolor": "#2a3f5f"
            },
            "baxis": {
             "endlinecolor": "#2a3f5f",
             "gridcolor": "white",
             "linecolor": "white",
             "minorgridcolor": "white",
             "startlinecolor": "#2a3f5f"
            },
            "type": "carpet"
           }
          ],
          "choropleth": [
           {
            "colorbar": {
             "outlinewidth": 0,
             "ticks": ""
            },
            "type": "choropleth"
           }
          ],
          "contour": [
           {
            "colorbar": {
             "outlinewidth": 0,
             "ticks": ""
            },
            "colorscale": [
             [
              0,
              "#0d0887"
             ],
             [
              0.1111111111111111,
              "#46039f"
             ],
             [
              0.2222222222222222,
              "#7201a8"
             ],
             [
              0.3333333333333333,
              "#9c179e"
             ],
             [
              0.4444444444444444,
              "#bd3786"
             ],
             [
              0.5555555555555556,
              "#d8576b"
             ],
             [
              0.6666666666666666,
              "#ed7953"
             ],
             [
              0.7777777777777778,
              "#fb9f3a"
             ],
             [
              0.8888888888888888,
              "#fdca26"
             ],
             [
              1,
              "#f0f921"
             ]
            ],
            "type": "contour"
           }
          ],
          "contourcarpet": [
           {
            "colorbar": {
             "outlinewidth": 0,
             "ticks": ""
            },
            "type": "contourcarpet"
           }
          ],
          "heatmap": [
           {
            "colorbar": {
             "outlinewidth": 0,
             "ticks": ""
            },
            "colorscale": [
             [
              0,
              "#0d0887"
             ],
             [
              0.1111111111111111,
              "#46039f"
             ],
             [
              0.2222222222222222,
              "#7201a8"
             ],
             [
              0.3333333333333333,
              "#9c179e"
             ],
             [
              0.4444444444444444,
              "#bd3786"
             ],
             [
              0.5555555555555556,
              "#d8576b"
             ],
             [
              0.6666666666666666,
              "#ed7953"
             ],
             [
              0.7777777777777778,
              "#fb9f3a"
             ],
             [
              0.8888888888888888,
              "#fdca26"
             ],
             [
              1,
              "#f0f921"
             ]
            ],
            "type": "heatmap"
           }
          ],
          "heatmapgl": [
           {
            "colorbar": {
             "outlinewidth": 0,
             "ticks": ""
            },
            "colorscale": [
             [
              0,
              "#0d0887"
             ],
             [
              0.1111111111111111,
              "#46039f"
             ],
             [
              0.2222222222222222,
              "#7201a8"
             ],
             [
              0.3333333333333333,
              "#9c179e"
             ],
             [
              0.4444444444444444,
              "#bd3786"
             ],
             [
              0.5555555555555556,
              "#d8576b"
             ],
             [
              0.6666666666666666,
              "#ed7953"
             ],
             [
              0.7777777777777778,
              "#fb9f3a"
             ],
             [
              0.8888888888888888,
              "#fdca26"
             ],
             [
              1,
              "#f0f921"
             ]
            ],
            "type": "heatmapgl"
           }
          ],
          "histogram": [
           {
            "marker": {
             "pattern": {
              "fillmode": "overlay",
              "size": 10,
              "solidity": 0.2
             }
            },
            "type": "histogram"
           }
          ],
          "histogram2d": [
           {
            "colorbar": {
             "outlinewidth": 0,
             "ticks": ""
            },
            "colorscale": [
             [
              0,
              "#0d0887"
             ],
             [
              0.1111111111111111,
              "#46039f"
             ],
             [
              0.2222222222222222,
              "#7201a8"
             ],
             [
              0.3333333333333333,
              "#9c179e"
             ],
             [
              0.4444444444444444,
              "#bd3786"
             ],
             [
              0.5555555555555556,
              "#d8576b"
             ],
             [
              0.6666666666666666,
              "#ed7953"
             ],
             [
              0.7777777777777778,
              "#fb9f3a"
             ],
             [
              0.8888888888888888,
              "#fdca26"
             ],
             [
              1,
              "#f0f921"
             ]
            ],
            "type": "histogram2d"
           }
          ],
          "histogram2dcontour": [
           {
            "colorbar": {
             "outlinewidth": 0,
             "ticks": ""
            },
            "colorscale": [
             [
              0,
              "#0d0887"
             ],
             [
              0.1111111111111111,
              "#46039f"
             ],
             [
              0.2222222222222222,
              "#7201a8"
             ],
             [
              0.3333333333333333,
              "#9c179e"
             ],
             [
              0.4444444444444444,
              "#bd3786"
             ],
             [
              0.5555555555555556,
              "#d8576b"
             ],
             [
              0.6666666666666666,
              "#ed7953"
             ],
             [
              0.7777777777777778,
              "#fb9f3a"
             ],
             [
              0.8888888888888888,
              "#fdca26"
             ],
             [
              1,
              "#f0f921"
             ]
            ],
            "type": "histogram2dcontour"
           }
          ],
          "mesh3d": [
           {
            "colorbar": {
             "outlinewidth": 0,
             "ticks": ""
            },
            "type": "mesh3d"
           }
          ],
          "parcoords": [
           {
            "line": {
             "colorbar": {
              "outlinewidth": 0,
              "ticks": ""
             }
            },
            "type": "parcoords"
           }
          ],
          "pie": [
           {
            "automargin": true,
            "type": "pie"
           }
          ],
          "scatter": [
           {
            "fillpattern": {
             "fillmode": "overlay",
             "size": 10,
             "solidity": 0.2
            },
            "type": "scatter"
           }
          ],
          "scatter3d": [
           {
            "line": {
             "colorbar": {
              "outlinewidth": 0,
              "ticks": ""
             }
            },
            "marker": {
             "colorbar": {
              "outlinewidth": 0,
              "ticks": ""
             }
            },
            "type": "scatter3d"
           }
          ],
          "scattercarpet": [
           {
            "marker": {
             "colorbar": {
              "outlinewidth": 0,
              "ticks": ""
             }
            },
            "type": "scattercarpet"
           }
          ],
          "scattergeo": [
           {
            "marker": {
             "colorbar": {
              "outlinewidth": 0,
              "ticks": ""
             }
            },
            "type": "scattergeo"
           }
          ],
          "scattergl": [
           {
            "marker": {
             "colorbar": {
              "outlinewidth": 0,
              "ticks": ""
             }
            },
            "type": "scattergl"
           }
          ],
          "scattermapbox": [
           {
            "marker": {
             "colorbar": {
              "outlinewidth": 0,
              "ticks": ""
             }
            },
            "type": "scattermapbox"
           }
          ],
          "scatterpolar": [
           {
            "marker": {
             "colorbar": {
              "outlinewidth": 0,
              "ticks": ""
             }
            },
            "type": "scatterpolar"
           }
          ],
          "scatterpolargl": [
           {
            "marker": {
             "colorbar": {
              "outlinewidth": 0,
              "ticks": ""
             }
            },
            "type": "scatterpolargl"
           }
          ],
          "scatterternary": [
           {
            "marker": {
             "colorbar": {
              "outlinewidth": 0,
              "ticks": ""
             }
            },
            "type": "scatterternary"
           }
          ],
          "surface": [
           {
            "colorbar": {
             "outlinewidth": 0,
             "ticks": ""
            },
            "colorscale": [
             [
              0,
              "#0d0887"
             ],
             [
              0.1111111111111111,
              "#46039f"
             ],
             [
              0.2222222222222222,
              "#7201a8"
             ],
             [
              0.3333333333333333,
              "#9c179e"
             ],
             [
              0.4444444444444444,
              "#bd3786"
             ],
             [
              0.5555555555555556,
              "#d8576b"
             ],
             [
              0.6666666666666666,
              "#ed7953"
             ],
             [
              0.7777777777777778,
              "#fb9f3a"
             ],
             [
              0.8888888888888888,
              "#fdca26"
             ],
             [
              1,
              "#f0f921"
             ]
            ],
            "type": "surface"
           }
          ],
          "table": [
           {
            "cells": {
             "fill": {
              "color": "#EBF0F8"
             },
             "line": {
              "color": "white"
             }
            },
            "header": {
             "fill": {
              "color": "#C8D4E3"
             },
             "line": {
              "color": "white"
             }
            },
            "type": "table"
           }
          ]
         },
         "layout": {
          "annotationdefaults": {
           "arrowcolor": "#2a3f5f",
           "arrowhead": 0,
           "arrowwidth": 1
          },
          "autotypenumbers": "strict",
          "coloraxis": {
           "colorbar": {
            "outlinewidth": 0,
            "ticks": ""
           }
          },
          "colorscale": {
           "diverging": [
            [
             0,
             "#8e0152"
            ],
            [
             0.1,
             "#c51b7d"
            ],
            [
             0.2,
             "#de77ae"
            ],
            [
             0.3,
             "#f1b6da"
            ],
            [
             0.4,
             "#fde0ef"
            ],
            [
             0.5,
             "#f7f7f7"
            ],
            [
             0.6,
             "#e6f5d0"
            ],
            [
             0.7,
             "#b8e186"
            ],
            [
             0.8,
             "#7fbc41"
            ],
            [
             0.9,
             "#4d9221"
            ],
            [
             1,
             "#276419"
            ]
           ],
           "sequential": [
            [
             0,
             "#0d0887"
            ],
            [
             0.1111111111111111,
             "#46039f"
            ],
            [
             0.2222222222222222,
             "#7201a8"
            ],
            [
             0.3333333333333333,
             "#9c179e"
            ],
            [
             0.4444444444444444,
             "#bd3786"
            ],
            [
             0.5555555555555556,
             "#d8576b"
            ],
            [
             0.6666666666666666,
             "#ed7953"
            ],
            [
             0.7777777777777778,
             "#fb9f3a"
            ],
            [
             0.8888888888888888,
             "#fdca26"
            ],
            [
             1,
             "#f0f921"
            ]
           ],
           "sequentialminus": [
            [
             0,
             "#0d0887"
            ],
            [
             0.1111111111111111,
             "#46039f"
            ],
            [
             0.2222222222222222,
             "#7201a8"
            ],
            [
             0.3333333333333333,
             "#9c179e"
            ],
            [
             0.4444444444444444,
             "#bd3786"
            ],
            [
             0.5555555555555556,
             "#d8576b"
            ],
            [
             0.6666666666666666,
             "#ed7953"
            ],
            [
             0.7777777777777778,
             "#fb9f3a"
            ],
            [
             0.8888888888888888,
             "#fdca26"
            ],
            [
             1,
             "#f0f921"
            ]
           ]
          },
          "colorway": [
           "#636efa",
           "#EF553B",
           "#00cc96",
           "#ab63fa",
           "#FFA15A",
           "#19d3f3",
           "#FF6692",
           "#B6E880",
           "#FF97FF",
           "#FECB52"
          ],
          "font": {
           "color": "#2a3f5f"
          },
          "geo": {
           "bgcolor": "white",
           "lakecolor": "white",
           "landcolor": "#E5ECF6",
           "showlakes": true,
           "showland": true,
           "subunitcolor": "white"
          },
          "hoverlabel": {
           "align": "left"
          },
          "hovermode": "closest",
          "mapbox": {
           "style": "light"
          },
          "paper_bgcolor": "white",
          "plot_bgcolor": "#E5ECF6",
          "polar": {
           "angularaxis": {
            "gridcolor": "white",
            "linecolor": "white",
            "ticks": ""
           },
           "bgcolor": "#E5ECF6",
           "radialaxis": {
            "gridcolor": "white",
            "linecolor": "white",
            "ticks": ""
           }
          },
          "scene": {
           "xaxis": {
            "backgroundcolor": "#E5ECF6",
            "gridcolor": "white",
            "gridwidth": 2,
            "linecolor": "white",
            "showbackground": true,
            "ticks": "",
            "zerolinecolor": "white"
           },
           "yaxis": {
            "backgroundcolor": "#E5ECF6",
            "gridcolor": "white",
            "gridwidth": 2,
            "linecolor": "white",
            "showbackground": true,
            "ticks": "",
            "zerolinecolor": "white"
           },
           "zaxis": {
            "backgroundcolor": "#E5ECF6",
            "gridcolor": "white",
            "gridwidth": 2,
            "linecolor": "white",
            "showbackground": true,
            "ticks": "",
            "zerolinecolor": "white"
           }
          },
          "shapedefaults": {
           "line": {
            "color": "#2a3f5f"
           }
          },
          "ternary": {
           "aaxis": {
            "gridcolor": "white",
            "linecolor": "white",
            "ticks": ""
           },
           "baxis": {
            "gridcolor": "white",
            "linecolor": "white",
            "ticks": ""
           },
           "bgcolor": "#E5ECF6",
           "caxis": {
            "gridcolor": "white",
            "linecolor": "white",
            "ticks": ""
           }
          },
          "title": {
           "x": 0.05
          },
          "xaxis": {
           "automargin": true,
           "gridcolor": "white",
           "linecolor": "white",
           "ticks": "",
           "title": {
            "standoff": 15
           },
           "zerolinecolor": "white",
           "zerolinewidth": 2
          },
          "yaxis": {
           "automargin": true,
           "gridcolor": "white",
           "linecolor": "white",
           "ticks": "",
           "title": {
            "standoff": 15
           },
           "zerolinecolor": "white",
           "zerolinewidth": 2
          }
         }
        },
        "title": {
         "text": "Top 15 Edades más comunes de clientes (última partición)"
        },
        "xaxis": {
         "anchor": "y",
         "domain": [
          0,
          1
         ],
         "title": {
          "text": "Edad"
         }
        },
        "yaxis": {
         "anchor": "x",
         "domain": [
          0,
          1
         ],
         "title": {
          "text": "Número de clientes"
         }
        }
       }
      }
     },
     "metadata": {},
     "output_type": "display_data"
    }
   ],
   "source": [
    "# Contar la distribución de valores en 'age' para la última partición\n",
    "age_data = df_last_partition['age'].value_counts().reset_index()\n",
    "age_data.columns = ['age', 'count']\n",
    "\n",
    "# Filtrar las 15 edades más repetidas\n",
    "top_15_ages = age_data.nlargest(15, 'count')\n",
    "\n",
    "# Calcular el porcentaje de cada valor\n",
    "total_count = top_15_ages['count'].sum()\n",
    "top_15_ages['percentage'] = (top_15_ages['count'] / total_count) * 100\n",
    "\n",
    "# Colores personalizados\n",
    "custom_colors = ['#d56a61', '#eda476']  # Colores aproximados del gráfico original\n",
    "\n",
    "# Crear el gráfico interactivo de barras\n",
    "fig = px.bar(top_15_ages, \n",
    "             x='age', \n",
    "             y='count', \n",
    "             text='percentage',  # Mostrar el porcentaje en las etiquetas de las barras\n",
    "             labels={'count':'Número de clientes', 'age':'Edad'}, \n",
    "             title='Top 15 Edades más comunes de clientes (última partición)',\n",
    "             color_discrete_sequence=custom_colors)  # Usar la paleta de colores personalizada\n",
    "\n",
    "# Personalizar el formato del texto de porcentaje\n",
    "fig.update_traces(texttemplate='%{text:.2f}%', textposition='outside')\n",
    "\n",
    "# Mostrar el gráfico interactivo\n",
    "fig.show()"
   ]
  },
  {
   "cell_type": "code",
   "execution_count": 259,
   "metadata": {},
   "outputs": [
    {
     "name": "stdout",
     "output_type": "stream",
     "text": [
      "Clientes que tienen siempre la misma edad (excluyendo mixtos): 114631\n",
      "Clientes con valores NaN en 'age' (excluyendo mixtos): 0\n",
      "Clientes con edades mixtas (diferentes valores de edad): 341742\n"
     ]
    }
   ],
   "source": [
    "# Contar cuántos valores únicos de 'age' tiene cada cliente\n",
    "estado_por_cliente_age = df_full.groupby('pk_cid')['age'].nunique()\n",
    "\n",
    "# Identificar clientes con edades mixtas (múltiples valores en 'age')\n",
    "clientes_mixtos_age = estado_por_cliente_age[estado_por_cliente_age > 1].index\n",
    "\n",
    "# Excluir los clientes mixtos del análisis de las otras categorías\n",
    "df_no_mixtos_age = df_full[~df_full['pk_cid'].isin(clientes_mixtos_age)]\n",
    "\n",
    "# Identificar clientes que tienen siempre la misma edad\n",
    "clientes_misma_edad = df_no_mixtos_age.groupby('pk_cid')['age'].nunique()\n",
    "clientes_misma_edad = clientes_misma_edad[clientes_misma_edad == 1].index\n",
    "\n",
    "# Identificar clientes con valores NaN en 'age' (excluyendo clientes mixtos)\n",
    "clientes_con_nan_age = df_no_mixtos_age[df_no_mixtos_age['age'].isna()]['pk_cid'].unique()\n",
    "\n",
    "# Contar el número de clientes en cada categoría (excluyendo mixtos)\n",
    "n_misma_edad = len(clientes_misma_edad)\n",
    "n_con_nan_age = len(clientes_con_nan_age)\n",
    "n_mixtos_age = len(clientes_mixtos_age)\n",
    "\n",
    "# Mostrar los resultados\n",
    "print(f\"Clientes que tienen siempre la misma edad (excluyendo mixtos): {n_misma_edad}\")\n",
    "print(f\"Clientes con valores NaN en 'age' (excluyendo mixtos): {n_con_nan_age}\")\n",
    "print(f\"Clientes con edades mixtas (diferentes valores de edad): {n_mixtos_age}\")"
   ]
  },
  {
   "cell_type": "markdown",
   "metadata": {},
   "source": [
    "Vamos a analizar la distribución de grupos de edades gráficamente"
   ]
  },
  {
   "cell_type": "code",
   "execution_count": 260,
   "metadata": {},
   "outputs": [
    {
     "data": {
      "application/vnd.plotly.v1+json": {
       "config": {
        "plotlyServerURL": "https://plot.ly"
       },
       "data": [
        {
         "alignmentgroup": "True",
         "hovertemplate": "Categoría de cliente=%{x}<br>Número de clientes=%{text}<extra></extra>",
         "legendgroup": "Misma edad",
         "marker": {
          "color": "#e49467",
          "pattern": {
           "shape": ""
          }
         },
         "name": "Misma edad",
         "offsetgroup": "Misma edad",
         "orientation": "v",
         "showlegend": true,
         "text": [
          114631
         ],
         "textposition": "outside",
         "texttemplate": "%{text:.0f}",
         "type": "bar",
         "x": [
          "Misma edad"
         ],
         "xaxis": "x",
         "y": [
          114631
         ],
         "yaxis": "y"
        },
        {
         "alignmentgroup": "True",
         "hovertemplate": "Categoría de cliente=%{x}<br>Número de clientes=%{text}<extra></extra>",
         "legendgroup": "Edades mixtas",
         "marker": {
          "color": "#f7f7c6",
          "pattern": {
           "shape": ""
          }
         },
         "name": "Edades mixtas",
         "offsetgroup": "Edades mixtas",
         "orientation": "v",
         "showlegend": true,
         "text": [
          341742
         ],
         "textposition": "outside",
         "texttemplate": "%{text:.0f}",
         "type": "bar",
         "x": [
          "Edades mixtas"
         ],
         "xaxis": "x",
         "y": [
          341742
         ],
         "yaxis": "y"
        },
        {
         "alignmentgroup": "True",
         "hovertemplate": "Categoría de cliente=%{x}<br>Número de clientes=%{text}<extra></extra>",
         "legendgroup": "Con NaN",
         "marker": {
          "color": "#90c6a6",
          "pattern": {
           "shape": ""
          }
         },
         "name": "Con NaN",
         "offsetgroup": "Con NaN",
         "orientation": "v",
         "showlegend": true,
         "text": [
          0
         ],
         "textposition": "outside",
         "texttemplate": "%{text:.0f}",
         "type": "bar",
         "x": [
          "Con NaN"
         ],
         "xaxis": "x",
         "y": [
          0
         ],
         "yaxis": "y"
        }
       ],
       "layout": {
        "barmode": "relative",
        "legend": {
         "title": {
          "text": "Categoría de cliente"
         },
         "tracegroupgap": 0
        },
        "template": {
         "data": {
          "bar": [
           {
            "error_x": {
             "color": "#2a3f5f"
            },
            "error_y": {
             "color": "#2a3f5f"
            },
            "marker": {
             "line": {
              "color": "#E5ECF6",
              "width": 0.5
             },
             "pattern": {
              "fillmode": "overlay",
              "size": 10,
              "solidity": 0.2
             }
            },
            "type": "bar"
           }
          ],
          "barpolar": [
           {
            "marker": {
             "line": {
              "color": "#E5ECF6",
              "width": 0.5
             },
             "pattern": {
              "fillmode": "overlay",
              "size": 10,
              "solidity": 0.2
             }
            },
            "type": "barpolar"
           }
          ],
          "carpet": [
           {
            "aaxis": {
             "endlinecolor": "#2a3f5f",
             "gridcolor": "white",
             "linecolor": "white",
             "minorgridcolor": "white",
             "startlinecolor": "#2a3f5f"
            },
            "baxis": {
             "endlinecolor": "#2a3f5f",
             "gridcolor": "white",
             "linecolor": "white",
             "minorgridcolor": "white",
             "startlinecolor": "#2a3f5f"
            },
            "type": "carpet"
           }
          ],
          "choropleth": [
           {
            "colorbar": {
             "outlinewidth": 0,
             "ticks": ""
            },
            "type": "choropleth"
           }
          ],
          "contour": [
           {
            "colorbar": {
             "outlinewidth": 0,
             "ticks": ""
            },
            "colorscale": [
             [
              0,
              "#0d0887"
             ],
             [
              0.1111111111111111,
              "#46039f"
             ],
             [
              0.2222222222222222,
              "#7201a8"
             ],
             [
              0.3333333333333333,
              "#9c179e"
             ],
             [
              0.4444444444444444,
              "#bd3786"
             ],
             [
              0.5555555555555556,
              "#d8576b"
             ],
             [
              0.6666666666666666,
              "#ed7953"
             ],
             [
              0.7777777777777778,
              "#fb9f3a"
             ],
             [
              0.8888888888888888,
              "#fdca26"
             ],
             [
              1,
              "#f0f921"
             ]
            ],
            "type": "contour"
           }
          ],
          "contourcarpet": [
           {
            "colorbar": {
             "outlinewidth": 0,
             "ticks": ""
            },
            "type": "contourcarpet"
           }
          ],
          "heatmap": [
           {
            "colorbar": {
             "outlinewidth": 0,
             "ticks": ""
            },
            "colorscale": [
             [
              0,
              "#0d0887"
             ],
             [
              0.1111111111111111,
              "#46039f"
             ],
             [
              0.2222222222222222,
              "#7201a8"
             ],
             [
              0.3333333333333333,
              "#9c179e"
             ],
             [
              0.4444444444444444,
              "#bd3786"
             ],
             [
              0.5555555555555556,
              "#d8576b"
             ],
             [
              0.6666666666666666,
              "#ed7953"
             ],
             [
              0.7777777777777778,
              "#fb9f3a"
             ],
             [
              0.8888888888888888,
              "#fdca26"
             ],
             [
              1,
              "#f0f921"
             ]
            ],
            "type": "heatmap"
           }
          ],
          "heatmapgl": [
           {
            "colorbar": {
             "outlinewidth": 0,
             "ticks": ""
            },
            "colorscale": [
             [
              0,
              "#0d0887"
             ],
             [
              0.1111111111111111,
              "#46039f"
             ],
             [
              0.2222222222222222,
              "#7201a8"
             ],
             [
              0.3333333333333333,
              "#9c179e"
             ],
             [
              0.4444444444444444,
              "#bd3786"
             ],
             [
              0.5555555555555556,
              "#d8576b"
             ],
             [
              0.6666666666666666,
              "#ed7953"
             ],
             [
              0.7777777777777778,
              "#fb9f3a"
             ],
             [
              0.8888888888888888,
              "#fdca26"
             ],
             [
              1,
              "#f0f921"
             ]
            ],
            "type": "heatmapgl"
           }
          ],
          "histogram": [
           {
            "marker": {
             "pattern": {
              "fillmode": "overlay",
              "size": 10,
              "solidity": 0.2
             }
            },
            "type": "histogram"
           }
          ],
          "histogram2d": [
           {
            "colorbar": {
             "outlinewidth": 0,
             "ticks": ""
            },
            "colorscale": [
             [
              0,
              "#0d0887"
             ],
             [
              0.1111111111111111,
              "#46039f"
             ],
             [
              0.2222222222222222,
              "#7201a8"
             ],
             [
              0.3333333333333333,
              "#9c179e"
             ],
             [
              0.4444444444444444,
              "#bd3786"
             ],
             [
              0.5555555555555556,
              "#d8576b"
             ],
             [
              0.6666666666666666,
              "#ed7953"
             ],
             [
              0.7777777777777778,
              "#fb9f3a"
             ],
             [
              0.8888888888888888,
              "#fdca26"
             ],
             [
              1,
              "#f0f921"
             ]
            ],
            "type": "histogram2d"
           }
          ],
          "histogram2dcontour": [
           {
            "colorbar": {
             "outlinewidth": 0,
             "ticks": ""
            },
            "colorscale": [
             [
              0,
              "#0d0887"
             ],
             [
              0.1111111111111111,
              "#46039f"
             ],
             [
              0.2222222222222222,
              "#7201a8"
             ],
             [
              0.3333333333333333,
              "#9c179e"
             ],
             [
              0.4444444444444444,
              "#bd3786"
             ],
             [
              0.5555555555555556,
              "#d8576b"
             ],
             [
              0.6666666666666666,
              "#ed7953"
             ],
             [
              0.7777777777777778,
              "#fb9f3a"
             ],
             [
              0.8888888888888888,
              "#fdca26"
             ],
             [
              1,
              "#f0f921"
             ]
            ],
            "type": "histogram2dcontour"
           }
          ],
          "mesh3d": [
           {
            "colorbar": {
             "outlinewidth": 0,
             "ticks": ""
            },
            "type": "mesh3d"
           }
          ],
          "parcoords": [
           {
            "line": {
             "colorbar": {
              "outlinewidth": 0,
              "ticks": ""
             }
            },
            "type": "parcoords"
           }
          ],
          "pie": [
           {
            "automargin": true,
            "type": "pie"
           }
          ],
          "scatter": [
           {
            "fillpattern": {
             "fillmode": "overlay",
             "size": 10,
             "solidity": 0.2
            },
            "type": "scatter"
           }
          ],
          "scatter3d": [
           {
            "line": {
             "colorbar": {
              "outlinewidth": 0,
              "ticks": ""
             }
            },
            "marker": {
             "colorbar": {
              "outlinewidth": 0,
              "ticks": ""
             }
            },
            "type": "scatter3d"
           }
          ],
          "scattercarpet": [
           {
            "marker": {
             "colorbar": {
              "outlinewidth": 0,
              "ticks": ""
             }
            },
            "type": "scattercarpet"
           }
          ],
          "scattergeo": [
           {
            "marker": {
             "colorbar": {
              "outlinewidth": 0,
              "ticks": ""
             }
            },
            "type": "scattergeo"
           }
          ],
          "scattergl": [
           {
            "marker": {
             "colorbar": {
              "outlinewidth": 0,
              "ticks": ""
             }
            },
            "type": "scattergl"
           }
          ],
          "scattermapbox": [
           {
            "marker": {
             "colorbar": {
              "outlinewidth": 0,
              "ticks": ""
             }
            },
            "type": "scattermapbox"
           }
          ],
          "scatterpolar": [
           {
            "marker": {
             "colorbar": {
              "outlinewidth": 0,
              "ticks": ""
             }
            },
            "type": "scatterpolar"
           }
          ],
          "scatterpolargl": [
           {
            "marker": {
             "colorbar": {
              "outlinewidth": 0,
              "ticks": ""
             }
            },
            "type": "scatterpolargl"
           }
          ],
          "scatterternary": [
           {
            "marker": {
             "colorbar": {
              "outlinewidth": 0,
              "ticks": ""
             }
            },
            "type": "scatterternary"
           }
          ],
          "surface": [
           {
            "colorbar": {
             "outlinewidth": 0,
             "ticks": ""
            },
            "colorscale": [
             [
              0,
              "#0d0887"
             ],
             [
              0.1111111111111111,
              "#46039f"
             ],
             [
              0.2222222222222222,
              "#7201a8"
             ],
             [
              0.3333333333333333,
              "#9c179e"
             ],
             [
              0.4444444444444444,
              "#bd3786"
             ],
             [
              0.5555555555555556,
              "#d8576b"
             ],
             [
              0.6666666666666666,
              "#ed7953"
             ],
             [
              0.7777777777777778,
              "#fb9f3a"
             ],
             [
              0.8888888888888888,
              "#fdca26"
             ],
             [
              1,
              "#f0f921"
             ]
            ],
            "type": "surface"
           }
          ],
          "table": [
           {
            "cells": {
             "fill": {
              "color": "#EBF0F8"
             },
             "line": {
              "color": "white"
             }
            },
            "header": {
             "fill": {
              "color": "#C8D4E3"
             },
             "line": {
              "color": "white"
             }
            },
            "type": "table"
           }
          ]
         },
         "layout": {
          "annotationdefaults": {
           "arrowcolor": "#2a3f5f",
           "arrowhead": 0,
           "arrowwidth": 1
          },
          "autotypenumbers": "strict",
          "coloraxis": {
           "colorbar": {
            "outlinewidth": 0,
            "ticks": ""
           }
          },
          "colorscale": {
           "diverging": [
            [
             0,
             "#8e0152"
            ],
            [
             0.1,
             "#c51b7d"
            ],
            [
             0.2,
             "#de77ae"
            ],
            [
             0.3,
             "#f1b6da"
            ],
            [
             0.4,
             "#fde0ef"
            ],
            [
             0.5,
             "#f7f7f7"
            ],
            [
             0.6,
             "#e6f5d0"
            ],
            [
             0.7,
             "#b8e186"
            ],
            [
             0.8,
             "#7fbc41"
            ],
            [
             0.9,
             "#4d9221"
            ],
            [
             1,
             "#276419"
            ]
           ],
           "sequential": [
            [
             0,
             "#0d0887"
            ],
            [
             0.1111111111111111,
             "#46039f"
            ],
            [
             0.2222222222222222,
             "#7201a8"
            ],
            [
             0.3333333333333333,
             "#9c179e"
            ],
            [
             0.4444444444444444,
             "#bd3786"
            ],
            [
             0.5555555555555556,
             "#d8576b"
            ],
            [
             0.6666666666666666,
             "#ed7953"
            ],
            [
             0.7777777777777778,
             "#fb9f3a"
            ],
            [
             0.8888888888888888,
             "#fdca26"
            ],
            [
             1,
             "#f0f921"
            ]
           ],
           "sequentialminus": [
            [
             0,
             "#0d0887"
            ],
            [
             0.1111111111111111,
             "#46039f"
            ],
            [
             0.2222222222222222,
             "#7201a8"
            ],
            [
             0.3333333333333333,
             "#9c179e"
            ],
            [
             0.4444444444444444,
             "#bd3786"
            ],
            [
             0.5555555555555556,
             "#d8576b"
            ],
            [
             0.6666666666666666,
             "#ed7953"
            ],
            [
             0.7777777777777778,
             "#fb9f3a"
            ],
            [
             0.8888888888888888,
             "#fdca26"
            ],
            [
             1,
             "#f0f921"
            ]
           ]
          },
          "colorway": [
           "#636efa",
           "#EF553B",
           "#00cc96",
           "#ab63fa",
           "#FFA15A",
           "#19d3f3",
           "#FF6692",
           "#B6E880",
           "#FF97FF",
           "#FECB52"
          ],
          "font": {
           "color": "#2a3f5f"
          },
          "geo": {
           "bgcolor": "white",
           "lakecolor": "white",
           "landcolor": "#E5ECF6",
           "showlakes": true,
           "showland": true,
           "subunitcolor": "white"
          },
          "hoverlabel": {
           "align": "left"
          },
          "hovermode": "closest",
          "mapbox": {
           "style": "light"
          },
          "paper_bgcolor": "white",
          "plot_bgcolor": "#E5ECF6",
          "polar": {
           "angularaxis": {
            "gridcolor": "white",
            "linecolor": "white",
            "ticks": ""
           },
           "bgcolor": "#E5ECF6",
           "radialaxis": {
            "gridcolor": "white",
            "linecolor": "white",
            "ticks": ""
           }
          },
          "scene": {
           "xaxis": {
            "backgroundcolor": "#E5ECF6",
            "gridcolor": "white",
            "gridwidth": 2,
            "linecolor": "white",
            "showbackground": true,
            "ticks": "",
            "zerolinecolor": "white"
           },
           "yaxis": {
            "backgroundcolor": "#E5ECF6",
            "gridcolor": "white",
            "gridwidth": 2,
            "linecolor": "white",
            "showbackground": true,
            "ticks": "",
            "zerolinecolor": "white"
           },
           "zaxis": {
            "backgroundcolor": "#E5ECF6",
            "gridcolor": "white",
            "gridwidth": 2,
            "linecolor": "white",
            "showbackground": true,
            "ticks": "",
            "zerolinecolor": "white"
           }
          },
          "shapedefaults": {
           "line": {
            "color": "#2a3f5f"
           }
          },
          "ternary": {
           "aaxis": {
            "gridcolor": "white",
            "linecolor": "white",
            "ticks": ""
           },
           "baxis": {
            "gridcolor": "white",
            "linecolor": "white",
            "ticks": ""
           },
           "bgcolor": "#E5ECF6",
           "caxis": {
            "gridcolor": "white",
            "linecolor": "white",
            "ticks": ""
           }
          },
          "title": {
           "x": 0.05
          },
          "xaxis": {
           "automargin": true,
           "gridcolor": "white",
           "linecolor": "white",
           "ticks": "",
           "title": {
            "standoff": 15
           },
           "zerolinecolor": "white",
           "zerolinewidth": 2
          },
          "yaxis": {
           "automargin": true,
           "gridcolor": "white",
           "linecolor": "white",
           "ticks": "",
           "title": {
            "standoff": 15
           },
           "zerolinecolor": "white",
           "zerolinewidth": 2
          }
         }
        },
        "title": {
         "text": "Distribución de clientes según la categoría de edad"
        },
        "xaxis": {
         "anchor": "y",
         "categoryarray": [
          "Misma edad",
          "Edades mixtas",
          "Con NaN"
         ],
         "categoryorder": "array",
         "domain": [
          0,
          1
         ],
         "title": {
          "text": "Categoría de cliente"
         }
        },
        "yaxis": {
         "anchor": "x",
         "domain": [
          0,
          1
         ],
         "title": {
          "text": "Número de clientes"
         }
        }
       }
      }
     },
     "metadata": {},
     "output_type": "display_data"
    }
   ],
   "source": [
    "# Crear el DataFrame con las tres categorías de clientes\n",
    "clientes_data = pd.DataFrame({\n",
    "    'categoria': ['Misma edad', 'Edades mixtas', 'Con NaN'],\n",
    "    'count': [n_misma_edad, n_mixtos_age, n_con_nan_age]\n",
    "})\n",
    "\n",
    "# Definir los colores manualmente para cada categoría\n",
    "custom_colors = {\n",
    "    'Misma edad': '#e49467', \n",
    "    'Edades mixtas': '#f7f7c6', \n",
    "    'Con NaN': '#90c6a6'\n",
    "}\n",
    "\n",
    "# Crear el gráfico interactivo de barras con plotly\n",
    "fig = px.bar(clientes_data, \n",
    "             x='categoria', \n",
    "             y='count', \n",
    "             text='count',  # Mostrar el número de casos en las etiquetas de las barras\n",
    "             labels={'count':'Número de clientes', 'categoria':'Categoría de cliente'}, \n",
    "             title='Distribución de clientes según la categoría de edad',\n",
    "             color='categoria',  # Añadir color basado en la categoría\n",
    "             color_discrete_map=custom_colors)\n",
    "\n",
    "# Personalizar el formato del texto para mostrar los números enteros\n",
    "fig.update_traces(texttemplate='%{text:.0f}', textposition='outside')\n",
    "\n",
    "# Mostrar el gráfico interactivo\n",
    "fig.show()"
   ]
  },
  {
   "cell_type": "code",
   "execution_count": 261,
   "metadata": {},
   "outputs": [
    {
     "data": {
      "text/plain": [
       "456373"
      ]
     },
     "execution_count": 261,
     "metadata": {},
     "output_type": "execute_result"
    }
   ],
   "source": [
    "n_total = n_misma_edad + n_con_nan_age + n_mixtos_age\n",
    "n_total"
   ]
  },
  {
   "cell_type": "code",
   "execution_count": 262,
   "metadata": {},
   "outputs": [],
   "source": [
    "df_misma_edad = df_full[df_full['pk_cid'].isin(clientes_misma_edad)]\n",
    "df_edad_mixta = df_full[df_full['pk_cid'].isin(clientes_mixtos_age)]"
   ]
  },
  {
   "cell_type": "code",
   "execution_count": 263,
   "metadata": {},
   "outputs": [
    {
     "data": {
      "text/plain": [
       "count   1,200,493.000\n",
       "mean           29.994\n",
       "std            12.052\n",
       "min             2.000\n",
       "25%            22.000\n",
       "50%            25.000\n",
       "75%            35.000\n",
       "max           102.000\n",
       "Name: age, dtype: float64"
      ]
     },
     "execution_count": 263,
     "metadata": {},
     "output_type": "execute_result"
    }
   ],
   "source": [
    "df_misma_edad[\"age\"].describe()"
   ]
  },
  {
   "cell_type": "code",
   "execution_count": 264,
   "metadata": {},
   "outputs": [
    {
     "data": {
      "text/plain": [
       "count   4,762,431.000\n",
       "mean           29.702\n",
       "std            11.962\n",
       "min             2.000\n",
       "25%            22.000\n",
       "50%            24.000\n",
       "75%            34.000\n",
       "max           105.000\n",
       "Name: age, dtype: float64"
      ]
     },
     "execution_count": 264,
     "metadata": {},
     "output_type": "execute_result"
    }
   ],
   "source": [
    "df_edad_mixta[\"age\"].describe()"
   ]
  },
  {
   "cell_type": "markdown",
   "metadata": {},
   "source": [
    "Vamos a buscar los clientes con edades anómalas, y que podrían ser objetos de una modificación. En este caso vamos a ver primero aquellos que se mantienen siempre con la misma edad, y además son menores"
   ]
  },
  {
   "cell_type": "markdown",
   "metadata": {},
   "source": [
    "### Edad Constante"
   ]
  },
  {
   "cell_type": "markdown",
   "metadata": {},
   "source": [
    "1. Identificar clientes con productos activos\n",
    "Primero, filtramos el DataFrame clientes_misma_edad_menores para obtener los clientes que tienen algún producto activo (donde el valor es 1)."
   ]
  },
  {
   "cell_type": "code",
   "execution_count": 265,
   "metadata": {},
   "outputs": [
    {
     "data": {
      "text/html": [
       "<div>\n",
       "<style scoped>\n",
       "    .dataframe tbody tr th:only-of-type {\n",
       "        vertical-align: middle;\n",
       "    }\n",
       "\n",
       "    .dataframe tbody tr th {\n",
       "        vertical-align: top;\n",
       "    }\n",
       "\n",
       "    .dataframe thead th {\n",
       "        text-align: right;\n",
       "    }\n",
       "</style>\n",
       "<table border=\"1\" class=\"dataframe\">\n",
       "  <thead>\n",
       "    <tr style=\"text-align: right;\">\n",
       "      <th></th>\n",
       "      <th>pk_cid</th>\n",
       "      <th>pk_partition</th>\n",
       "      <th>entry_date</th>\n",
       "      <th>entry_channel</th>\n",
       "      <th>active_customer</th>\n",
       "      <th>segment</th>\n",
       "      <th>short_term_deposit</th>\n",
       "      <th>loans</th>\n",
       "      <th>mortgage</th>\n",
       "      <th>funds</th>\n",
       "      <th>securities</th>\n",
       "      <th>long_term_deposit</th>\n",
       "      <th>em_account_pp</th>\n",
       "      <th>credit_card</th>\n",
       "      <th>payroll</th>\n",
       "      <th>pension_plan</th>\n",
       "      <th>payroll_account</th>\n",
       "      <th>emc_account</th>\n",
       "      <th>debit_card</th>\n",
       "      <th>em_account_p</th>\n",
       "      <th>em_acount</th>\n",
       "      <th>country_id</th>\n",
       "      <th>region_code</th>\n",
       "      <th>gender</th>\n",
       "      <th>age</th>\n",
       "      <th>deceased</th>\n",
       "      <th>salary</th>\n",
       "      <th>mes_partition</th>\n",
       "      <th>mes_nombre_partition</th>\n",
       "    </tr>\n",
       "  </thead>\n",
       "  <tbody>\n",
       "    <tr>\n",
       "      <th>5520651</th>\n",
       "      <td>491473</td>\n",
       "      <td>2019-05-28</td>\n",
       "      <td>2019-04-27</td>\n",
       "      <td>KHM</td>\n",
       "      <td>0</td>\n",
       "      <td>02 - PARTICULARES</td>\n",
       "      <td>0</td>\n",
       "      <td>0</td>\n",
       "      <td>0</td>\n",
       "      <td>0</td>\n",
       "      <td>0</td>\n",
       "      <td>0</td>\n",
       "      <td>0</td>\n",
       "      <td>0</td>\n",
       "      <td>0.000</td>\n",
       "      <td>0.000</td>\n",
       "      <td>0</td>\n",
       "      <td>0</td>\n",
       "      <td>0</td>\n",
       "      <td>0</td>\n",
       "      <td>0</td>\n",
       "      <td>ES</td>\n",
       "      <td>28.000</td>\n",
       "      <td>V</td>\n",
       "      <td>2</td>\n",
       "      <td>N</td>\n",
       "      <td>NaN</td>\n",
       "      <td>5</td>\n",
       "      <td>May</td>\n",
       "    </tr>\n",
       "    <tr>\n",
       "      <th>5081423</th>\n",
       "      <td>541741</td>\n",
       "      <td>2019-04-28</td>\n",
       "      <td>2019-04-07</td>\n",
       "      <td>NaN</td>\n",
       "      <td>0</td>\n",
       "      <td>NaN</td>\n",
       "      <td>0</td>\n",
       "      <td>0</td>\n",
       "      <td>0</td>\n",
       "      <td>0</td>\n",
       "      <td>0</td>\n",
       "      <td>0</td>\n",
       "      <td>0</td>\n",
       "      <td>0</td>\n",
       "      <td>0.000</td>\n",
       "      <td>0.000</td>\n",
       "      <td>0</td>\n",
       "      <td>0</td>\n",
       "      <td>0</td>\n",
       "      <td>0</td>\n",
       "      <td>0</td>\n",
       "      <td>ES</td>\n",
       "      <td>28.000</td>\n",
       "      <td>V</td>\n",
       "      <td>2</td>\n",
       "      <td>N</td>\n",
       "      <td>NaN</td>\n",
       "      <td>4</td>\n",
       "      <td>April</td>\n",
       "    </tr>\n",
       "    <tr>\n",
       "      <th>5520587</th>\n",
       "      <td>541741</td>\n",
       "      <td>2019-05-28</td>\n",
       "      <td>2019-04-07</td>\n",
       "      <td>KHK</td>\n",
       "      <td>0</td>\n",
       "      <td>02 - PARTICULARES</td>\n",
       "      <td>0</td>\n",
       "      <td>0</td>\n",
       "      <td>0</td>\n",
       "      <td>0</td>\n",
       "      <td>0</td>\n",
       "      <td>0</td>\n",
       "      <td>0</td>\n",
       "      <td>0</td>\n",
       "      <td>0.000</td>\n",
       "      <td>0.000</td>\n",
       "      <td>0</td>\n",
       "      <td>0</td>\n",
       "      <td>0</td>\n",
       "      <td>0</td>\n",
       "      <td>0</td>\n",
       "      <td>ES</td>\n",
       "      <td>28.000</td>\n",
       "      <td>V</td>\n",
       "      <td>2</td>\n",
       "      <td>N</td>\n",
       "      <td>NaN</td>\n",
       "      <td>5</td>\n",
       "      <td>May</td>\n",
       "    </tr>\n",
       "    <tr>\n",
       "      <th>1476977</th>\n",
       "      <td>617264</td>\n",
       "      <td>2018-07-28</td>\n",
       "      <td>2018-04-09</td>\n",
       "      <td>NaN</td>\n",
       "      <td>1</td>\n",
       "      <td>NaN</td>\n",
       "      <td>0</td>\n",
       "      <td>0</td>\n",
       "      <td>0</td>\n",
       "      <td>0</td>\n",
       "      <td>0</td>\n",
       "      <td>0</td>\n",
       "      <td>0</td>\n",
       "      <td>0</td>\n",
       "      <td>0.000</td>\n",
       "      <td>0.000</td>\n",
       "      <td>0</td>\n",
       "      <td>0</td>\n",
       "      <td>0</td>\n",
       "      <td>0</td>\n",
       "      <td>0</td>\n",
       "      <td>ES</td>\n",
       "      <td>28.000</td>\n",
       "      <td>H</td>\n",
       "      <td>13</td>\n",
       "      <td>N</td>\n",
       "      <td>286,573.440</td>\n",
       "      <td>7</td>\n",
       "      <td>July</td>\n",
       "    </tr>\n",
       "    <tr>\n",
       "      <th>1843524</th>\n",
       "      <td>617264</td>\n",
       "      <td>2018-08-28</td>\n",
       "      <td>2018-04-09</td>\n",
       "      <td>KFC</td>\n",
       "      <td>0</td>\n",
       "      <td>02 - PARTICULARES</td>\n",
       "      <td>0</td>\n",
       "      <td>0</td>\n",
       "      <td>0</td>\n",
       "      <td>0</td>\n",
       "      <td>0</td>\n",
       "      <td>0</td>\n",
       "      <td>0</td>\n",
       "      <td>0</td>\n",
       "      <td>0.000</td>\n",
       "      <td>0.000</td>\n",
       "      <td>0</td>\n",
       "      <td>0</td>\n",
       "      <td>0</td>\n",
       "      <td>0</td>\n",
       "      <td>0</td>\n",
       "      <td>ES</td>\n",
       "      <td>28.000</td>\n",
       "      <td>H</td>\n",
       "      <td>13</td>\n",
       "      <td>N</td>\n",
       "      <td>286,573.440</td>\n",
       "      <td>8</td>\n",
       "      <td>August</td>\n",
       "    </tr>\n",
       "    <tr>\n",
       "      <th>...</th>\n",
       "      <td>...</td>\n",
       "      <td>...</td>\n",
       "      <td>...</td>\n",
       "      <td>...</td>\n",
       "      <td>...</td>\n",
       "      <td>...</td>\n",
       "      <td>...</td>\n",
       "      <td>...</td>\n",
       "      <td>...</td>\n",
       "      <td>...</td>\n",
       "      <td>...</td>\n",
       "      <td>...</td>\n",
       "      <td>...</td>\n",
       "      <td>...</td>\n",
       "      <td>...</td>\n",
       "      <td>...</td>\n",
       "      <td>...</td>\n",
       "      <td>...</td>\n",
       "      <td>...</td>\n",
       "      <td>...</td>\n",
       "      <td>...</td>\n",
       "      <td>...</td>\n",
       "      <td>...</td>\n",
       "      <td>...</td>\n",
       "      <td>...</td>\n",
       "      <td>...</td>\n",
       "      <td>...</td>\n",
       "      <td>...</td>\n",
       "      <td>...</td>\n",
       "    </tr>\n",
       "    <tr>\n",
       "      <th>5679711</th>\n",
       "      <td>1552805</td>\n",
       "      <td>2019-05-28</td>\n",
       "      <td>2019-05-26</td>\n",
       "      <td>NaN</td>\n",
       "      <td>0</td>\n",
       "      <td>NaN</td>\n",
       "      <td>0</td>\n",
       "      <td>0</td>\n",
       "      <td>0</td>\n",
       "      <td>0</td>\n",
       "      <td>0</td>\n",
       "      <td>0</td>\n",
       "      <td>0</td>\n",
       "      <td>0</td>\n",
       "      <td>0.000</td>\n",
       "      <td>0.000</td>\n",
       "      <td>0</td>\n",
       "      <td>0</td>\n",
       "      <td>0</td>\n",
       "      <td>0</td>\n",
       "      <td>0</td>\n",
       "      <td>ES</td>\n",
       "      <td>28.000</td>\n",
       "      <td>V</td>\n",
       "      <td>2</td>\n",
       "      <td>N</td>\n",
       "      <td>NaN</td>\n",
       "      <td>5</td>\n",
       "      <td>May</td>\n",
       "    </tr>\n",
       "    <tr>\n",
       "      <th>5679415</th>\n",
       "      <td>1552858</td>\n",
       "      <td>2019-05-28</td>\n",
       "      <td>2019-05-26</td>\n",
       "      <td>NaN</td>\n",
       "      <td>1</td>\n",
       "      <td>NaN</td>\n",
       "      <td>0</td>\n",
       "      <td>0</td>\n",
       "      <td>0</td>\n",
       "      <td>0</td>\n",
       "      <td>0</td>\n",
       "      <td>0</td>\n",
       "      <td>0</td>\n",
       "      <td>0</td>\n",
       "      <td>0.000</td>\n",
       "      <td>0.000</td>\n",
       "      <td>0</td>\n",
       "      <td>0</td>\n",
       "      <td>0</td>\n",
       "      <td>0</td>\n",
       "      <td>0</td>\n",
       "      <td>ES</td>\n",
       "      <td>38.000</td>\n",
       "      <td>V</td>\n",
       "      <td>11</td>\n",
       "      <td>N</td>\n",
       "      <td>NaN</td>\n",
       "      <td>5</td>\n",
       "      <td>May</td>\n",
       "    </tr>\n",
       "    <tr>\n",
       "      <th>5680043</th>\n",
       "      <td>1553226</td>\n",
       "      <td>2019-05-28</td>\n",
       "      <td>2019-05-30</td>\n",
       "      <td>NaN</td>\n",
       "      <td>0</td>\n",
       "      <td>NaN</td>\n",
       "      <td>0</td>\n",
       "      <td>0</td>\n",
       "      <td>0</td>\n",
       "      <td>0</td>\n",
       "      <td>0</td>\n",
       "      <td>0</td>\n",
       "      <td>0</td>\n",
       "      <td>0</td>\n",
       "      <td>0.000</td>\n",
       "      <td>0.000</td>\n",
       "      <td>0</td>\n",
       "      <td>0</td>\n",
       "      <td>0</td>\n",
       "      <td>0</td>\n",
       "      <td>0</td>\n",
       "      <td>ES</td>\n",
       "      <td>41.000</td>\n",
       "      <td>H</td>\n",
       "      <td>9</td>\n",
       "      <td>N</td>\n",
       "      <td>NaN</td>\n",
       "      <td>5</td>\n",
       "      <td>May</td>\n",
       "    </tr>\n",
       "    <tr>\n",
       "      <th>5680169</th>\n",
       "      <td>1553282</td>\n",
       "      <td>2019-05-28</td>\n",
       "      <td>2019-05-30</td>\n",
       "      <td>NaN</td>\n",
       "      <td>0</td>\n",
       "      <td>NaN</td>\n",
       "      <td>0</td>\n",
       "      <td>0</td>\n",
       "      <td>0</td>\n",
       "      <td>0</td>\n",
       "      <td>0</td>\n",
       "      <td>0</td>\n",
       "      <td>0</td>\n",
       "      <td>0</td>\n",
       "      <td>0.000</td>\n",
       "      <td>0.000</td>\n",
       "      <td>0</td>\n",
       "      <td>0</td>\n",
       "      <td>0</td>\n",
       "      <td>0</td>\n",
       "      <td>0</td>\n",
       "      <td>ES</td>\n",
       "      <td>43.000</td>\n",
       "      <td>H</td>\n",
       "      <td>4</td>\n",
       "      <td>N</td>\n",
       "      <td>NaN</td>\n",
       "      <td>5</td>\n",
       "      <td>May</td>\n",
       "    </tr>\n",
       "    <tr>\n",
       "      <th>5679962</th>\n",
       "      <td>1553550</td>\n",
       "      <td>2019-05-28</td>\n",
       "      <td>2019-05-31</td>\n",
       "      <td>NaN</td>\n",
       "      <td>0</td>\n",
       "      <td>NaN</td>\n",
       "      <td>0</td>\n",
       "      <td>0</td>\n",
       "      <td>0</td>\n",
       "      <td>0</td>\n",
       "      <td>0</td>\n",
       "      <td>0</td>\n",
       "      <td>0</td>\n",
       "      <td>0</td>\n",
       "      <td>0.000</td>\n",
       "      <td>0.000</td>\n",
       "      <td>0</td>\n",
       "      <td>0</td>\n",
       "      <td>0</td>\n",
       "      <td>0</td>\n",
       "      <td>0</td>\n",
       "      <td>ES</td>\n",
       "      <td>8.000</td>\n",
       "      <td>H</td>\n",
       "      <td>6</td>\n",
       "      <td>N</td>\n",
       "      <td>NaN</td>\n",
       "      <td>5</td>\n",
       "      <td>May</td>\n",
       "    </tr>\n",
       "  </tbody>\n",
       "</table>\n",
       "<p>7368 rows × 29 columns</p>\n",
       "</div>"
      ],
      "text/plain": [
       "          pk_cid pk_partition entry_date entry_channel  active_customer  \\\n",
       "5520651   491473   2019-05-28 2019-04-27           KHM                0   \n",
       "5081423   541741   2019-04-28 2019-04-07           NaN                0   \n",
       "5520587   541741   2019-05-28 2019-04-07           KHK                0   \n",
       "1476977   617264   2018-07-28 2018-04-09           NaN                1   \n",
       "1843524   617264   2018-08-28 2018-04-09           KFC                0   \n",
       "...          ...          ...        ...           ...              ...   \n",
       "5679711  1552805   2019-05-28 2019-05-26           NaN                0   \n",
       "5679415  1552858   2019-05-28 2019-05-26           NaN                1   \n",
       "5680043  1553226   2019-05-28 2019-05-30           NaN                0   \n",
       "5680169  1553282   2019-05-28 2019-05-30           NaN                0   \n",
       "5679962  1553550   2019-05-28 2019-05-31           NaN                0   \n",
       "\n",
       "                   segment  short_term_deposit  loans  mortgage  funds  \\\n",
       "5520651  02 - PARTICULARES                   0      0         0      0   \n",
       "5081423                NaN                   0      0         0      0   \n",
       "5520587  02 - PARTICULARES                   0      0         0      0   \n",
       "1476977                NaN                   0      0         0      0   \n",
       "1843524  02 - PARTICULARES                   0      0         0      0   \n",
       "...                    ...                 ...    ...       ...    ...   \n",
       "5679711                NaN                   0      0         0      0   \n",
       "5679415                NaN                   0      0         0      0   \n",
       "5680043                NaN                   0      0         0      0   \n",
       "5680169                NaN                   0      0         0      0   \n",
       "5679962                NaN                   0      0         0      0   \n",
       "\n",
       "         securities  long_term_deposit  em_account_pp  credit_card  payroll  \\\n",
       "5520651           0                  0              0            0    0.000   \n",
       "5081423           0                  0              0            0    0.000   \n",
       "5520587           0                  0              0            0    0.000   \n",
       "1476977           0                  0              0            0    0.000   \n",
       "1843524           0                  0              0            0    0.000   \n",
       "...             ...                ...            ...          ...      ...   \n",
       "5679711           0                  0              0            0    0.000   \n",
       "5679415           0                  0              0            0    0.000   \n",
       "5680043           0                  0              0            0    0.000   \n",
       "5680169           0                  0              0            0    0.000   \n",
       "5679962           0                  0              0            0    0.000   \n",
       "\n",
       "         pension_plan  payroll_account  emc_account  debit_card  em_account_p  \\\n",
       "5520651         0.000                0            0           0             0   \n",
       "5081423         0.000                0            0           0             0   \n",
       "5520587         0.000                0            0           0             0   \n",
       "1476977         0.000                0            0           0             0   \n",
       "1843524         0.000                0            0           0             0   \n",
       "...               ...              ...          ...         ...           ...   \n",
       "5679711         0.000                0            0           0             0   \n",
       "5679415         0.000                0            0           0             0   \n",
       "5680043         0.000                0            0           0             0   \n",
       "5680169         0.000                0            0           0             0   \n",
       "5679962         0.000                0            0           0             0   \n",
       "\n",
       "         em_acount country_id region_code gender  age deceased      salary  \\\n",
       "5520651          0         ES      28.000      V    2        N         NaN   \n",
       "5081423          0         ES      28.000      V    2        N         NaN   \n",
       "5520587          0         ES      28.000      V    2        N         NaN   \n",
       "1476977          0         ES      28.000      H   13        N 286,573.440   \n",
       "1843524          0         ES      28.000      H   13        N 286,573.440   \n",
       "...            ...        ...         ...    ...  ...      ...         ...   \n",
       "5679711          0         ES      28.000      V    2        N         NaN   \n",
       "5679415          0         ES      38.000      V   11        N         NaN   \n",
       "5680043          0         ES      41.000      H    9        N         NaN   \n",
       "5680169          0         ES      43.000      H    4        N         NaN   \n",
       "5679962          0         ES       8.000      H    6        N         NaN   \n",
       "\n",
       "         mes_partition mes_nombre_partition  \n",
       "5520651              5                  May  \n",
       "5081423              4                April  \n",
       "5520587              5                  May  \n",
       "1476977              7                 July  \n",
       "1843524              8               August  \n",
       "...                ...                  ...  \n",
       "5679711              5                  May  \n",
       "5679415              5                  May  \n",
       "5680043              5                  May  \n",
       "5680169              5                  May  \n",
       "5679962              5                  May  \n",
       "\n",
       "[7368 rows x 29 columns]"
      ]
     },
     "execution_count": 265,
     "metadata": {},
     "output_type": "execute_result"
    }
   ],
   "source": [
    "# Filtrar clientes que siempre tienen la misma edad y esa edad es menor a 18 años\n",
    "clientes_misma_edad_menores = df_misma_edad[df_misma_edad['age'] < 18]\n",
    "\n",
    "# Mostrar los resultados\n",
    "clientes_misma_edad_menores"
   ]
  },
  {
   "cell_type": "code",
   "execution_count": 266,
   "metadata": {},
   "outputs": [
    {
     "data": {
      "text/plain": [
       "short_term_deposit   0.000\n",
       "loans                0.000\n",
       "mortgage             0.000\n",
       "funds                0.000\n",
       "securities           0.000\n",
       "long_term_deposit    0.000\n",
       "em_account_pp        0.000\n",
       "credit_card          0.000\n",
       "payroll              2.000\n",
       "pension_plan         9.000\n",
       "payroll_account      0.000\n",
       "emc_account          0.000\n",
       "debit_card           0.000\n",
       "em_account_p         0.000\n",
       "em_acount            3.000\n",
       "dtype: float64"
      ]
     },
     "execution_count": 266,
     "metadata": {},
     "output_type": "execute_result"
    }
   ],
   "source": [
    "# Lista de productos a analizar\n",
    "productos = [\n",
    "    'short_term_deposit', 'loans', 'mortgage', 'funds', 'securities',\n",
    "    'long_term_deposit', 'em_account_pp', 'credit_card', 'payroll', \n",
    "    'pension_plan', 'payroll_account', 'emc_account', 'debit_card', \n",
    "    'em_account_p', 'em_acount'\n",
    "]\n",
    "\n",
    "# Contar el número de casos donde cada producto ha sido contratado (valor = 1)\n",
    "conteo_productos = clientes_misma_edad_menores[productos].sum()\n",
    "\n",
    "# Mostrar el resultado\n",
    "conteo_productos"
   ]
  },
  {
   "cell_type": "code",
   "execution_count": 267,
   "metadata": {},
   "outputs": [
    {
     "data": {
      "text/html": [
       "<div>\n",
       "<style scoped>\n",
       "    .dataframe tbody tr th:only-of-type {\n",
       "        vertical-align: middle;\n",
       "    }\n",
       "\n",
       "    .dataframe tbody tr th {\n",
       "        vertical-align: top;\n",
       "    }\n",
       "\n",
       "    .dataframe thead th {\n",
       "        text-align: right;\n",
       "    }\n",
       "</style>\n",
       "<table border=\"1\" class=\"dataframe\">\n",
       "  <thead>\n",
       "    <tr style=\"text-align: right;\">\n",
       "      <th></th>\n",
       "      <th>pk_cid</th>\n",
       "      <th>pk_partition</th>\n",
       "      <th>entry_date</th>\n",
       "      <th>entry_channel</th>\n",
       "      <th>active_customer</th>\n",
       "      <th>segment</th>\n",
       "      <th>short_term_deposit</th>\n",
       "      <th>loans</th>\n",
       "      <th>mortgage</th>\n",
       "      <th>funds</th>\n",
       "      <th>securities</th>\n",
       "      <th>long_term_deposit</th>\n",
       "      <th>em_account_pp</th>\n",
       "      <th>credit_card</th>\n",
       "      <th>payroll</th>\n",
       "      <th>pension_plan</th>\n",
       "      <th>payroll_account</th>\n",
       "      <th>emc_account</th>\n",
       "      <th>debit_card</th>\n",
       "      <th>em_account_p</th>\n",
       "      <th>em_acount</th>\n",
       "      <th>country_id</th>\n",
       "      <th>region_code</th>\n",
       "      <th>gender</th>\n",
       "      <th>age</th>\n",
       "      <th>deceased</th>\n",
       "      <th>salary</th>\n",
       "      <th>mes_partition</th>\n",
       "      <th>mes_nombre_partition</th>\n",
       "    </tr>\n",
       "  </thead>\n",
       "  <tbody>\n",
       "    <tr>\n",
       "      <th>5835610</th>\n",
       "      <td>1005293</td>\n",
       "      <td>2019-05-28</td>\n",
       "      <td>2015-02-16</td>\n",
       "      <td>KFA</td>\n",
       "      <td>1</td>\n",
       "      <td>02 - PARTICULARES</td>\n",
       "      <td>0</td>\n",
       "      <td>0</td>\n",
       "      <td>0</td>\n",
       "      <td>0</td>\n",
       "      <td>0</td>\n",
       "      <td>0</td>\n",
       "      <td>0</td>\n",
       "      <td>0</td>\n",
       "      <td>0.000</td>\n",
       "      <td>1.000</td>\n",
       "      <td>0</td>\n",
       "      <td>0</td>\n",
       "      <td>0</td>\n",
       "      <td>0</td>\n",
       "      <td>0</td>\n",
       "      <td>ES</td>\n",
       "      <td>28.000</td>\n",
       "      <td>V</td>\n",
       "      <td>6</td>\n",
       "      <td>N</td>\n",
       "      <td>81,032.520</td>\n",
       "      <td>5</td>\n",
       "      <td>May</td>\n",
       "    </tr>\n",
       "    <tr>\n",
       "      <th>5840803</th>\n",
       "      <td>1021968</td>\n",
       "      <td>2019-05-28</td>\n",
       "      <td>2015-07-04</td>\n",
       "      <td>KFC</td>\n",
       "      <td>1</td>\n",
       "      <td>02 - PARTICULARES</td>\n",
       "      <td>0</td>\n",
       "      <td>0</td>\n",
       "      <td>0</td>\n",
       "      <td>0</td>\n",
       "      <td>0</td>\n",
       "      <td>0</td>\n",
       "      <td>0</td>\n",
       "      <td>0</td>\n",
       "      <td>0.000</td>\n",
       "      <td>1.000</td>\n",
       "      <td>0</td>\n",
       "      <td>0</td>\n",
       "      <td>0</td>\n",
       "      <td>0</td>\n",
       "      <td>0</td>\n",
       "      <td>ES</td>\n",
       "      <td>28.000</td>\n",
       "      <td>H</td>\n",
       "      <td>13</td>\n",
       "      <td>N</td>\n",
       "      <td>318,767.100</td>\n",
       "      <td>5</td>\n",
       "      <td>May</td>\n",
       "    </tr>\n",
       "    <tr>\n",
       "      <th>5879905</th>\n",
       "      <td>1244964</td>\n",
       "      <td>2019-05-28</td>\n",
       "      <td>2017-02-24</td>\n",
       "      <td>KAT</td>\n",
       "      <td>1</td>\n",
       "      <td>02 - PARTICULARES</td>\n",
       "      <td>0</td>\n",
       "      <td>0</td>\n",
       "      <td>0</td>\n",
       "      <td>0</td>\n",
       "      <td>0</td>\n",
       "      <td>0</td>\n",
       "      <td>0</td>\n",
       "      <td>0</td>\n",
       "      <td>0.000</td>\n",
       "      <td>1.000</td>\n",
       "      <td>0</td>\n",
       "      <td>0</td>\n",
       "      <td>0</td>\n",
       "      <td>0</td>\n",
       "      <td>0</td>\n",
       "      <td>ES</td>\n",
       "      <td>28.000</td>\n",
       "      <td>V</td>\n",
       "      <td>5</td>\n",
       "      <td>N</td>\n",
       "      <td>NaN</td>\n",
       "      <td>5</td>\n",
       "      <td>May</td>\n",
       "    </tr>\n",
       "    <tr>\n",
       "      <th>107719</th>\n",
       "      <td>1256153</td>\n",
       "      <td>2018-01-28</td>\n",
       "      <td>2017-05-05</td>\n",
       "      <td>KAT</td>\n",
       "      <td>1</td>\n",
       "      <td>02 - PARTICULARES</td>\n",
       "      <td>0</td>\n",
       "      <td>0</td>\n",
       "      <td>0</td>\n",
       "      <td>0</td>\n",
       "      <td>0</td>\n",
       "      <td>0</td>\n",
       "      <td>0</td>\n",
       "      <td>0</td>\n",
       "      <td>0.000</td>\n",
       "      <td>1.000</td>\n",
       "      <td>0</td>\n",
       "      <td>0</td>\n",
       "      <td>0</td>\n",
       "      <td>0</td>\n",
       "      <td>0</td>\n",
       "      <td>ES</td>\n",
       "      <td>11.000</td>\n",
       "      <td>H</td>\n",
       "      <td>12</td>\n",
       "      <td>N</td>\n",
       "      <td>156,534.360</td>\n",
       "      <td>1</td>\n",
       "      <td>January</td>\n",
       "    </tr>\n",
       "    <tr>\n",
       "      <th>1687485</th>\n",
       "      <td>1256153</td>\n",
       "      <td>2018-07-28</td>\n",
       "      <td>2017-05-05</td>\n",
       "      <td>KAT</td>\n",
       "      <td>1</td>\n",
       "      <td>02 - PARTICULARES</td>\n",
       "      <td>0</td>\n",
       "      <td>0</td>\n",
       "      <td>0</td>\n",
       "      <td>0</td>\n",
       "      <td>0</td>\n",
       "      <td>0</td>\n",
       "      <td>0</td>\n",
       "      <td>0</td>\n",
       "      <td>0.000</td>\n",
       "      <td>1.000</td>\n",
       "      <td>0</td>\n",
       "      <td>0</td>\n",
       "      <td>0</td>\n",
       "      <td>0</td>\n",
       "      <td>0</td>\n",
       "      <td>ES</td>\n",
       "      <td>11.000</td>\n",
       "      <td>H</td>\n",
       "      <td>12</td>\n",
       "      <td>N</td>\n",
       "      <td>156,534.360</td>\n",
       "      <td>7</td>\n",
       "      <td>July</td>\n",
       "    </tr>\n",
       "    <tr>\n",
       "      <th>4071542</th>\n",
       "      <td>1256153</td>\n",
       "      <td>2019-01-28</td>\n",
       "      <td>2017-05-05</td>\n",
       "      <td>KAT</td>\n",
       "      <td>1</td>\n",
       "      <td>02 - PARTICULARES</td>\n",
       "      <td>0</td>\n",
       "      <td>0</td>\n",
       "      <td>0</td>\n",
       "      <td>0</td>\n",
       "      <td>0</td>\n",
       "      <td>0</td>\n",
       "      <td>0</td>\n",
       "      <td>0</td>\n",
       "      <td>0.000</td>\n",
       "      <td>1.000</td>\n",
       "      <td>0</td>\n",
       "      <td>0</td>\n",
       "      <td>0</td>\n",
       "      <td>0</td>\n",
       "      <td>0</td>\n",
       "      <td>ES</td>\n",
       "      <td>11.000</td>\n",
       "      <td>H</td>\n",
       "      <td>12</td>\n",
       "      <td>N</td>\n",
       "      <td>156,534.360</td>\n",
       "      <td>1</td>\n",
       "      <td>January</td>\n",
       "    </tr>\n",
       "    <tr>\n",
       "      <th>5551912</th>\n",
       "      <td>1345478</td>\n",
       "      <td>2019-05-28</td>\n",
       "      <td>2017-10-31</td>\n",
       "      <td>KAT</td>\n",
       "      <td>1</td>\n",
       "      <td>02 - PARTICULARES</td>\n",
       "      <td>0</td>\n",
       "      <td>0</td>\n",
       "      <td>0</td>\n",
       "      <td>0</td>\n",
       "      <td>0</td>\n",
       "      <td>0</td>\n",
       "      <td>0</td>\n",
       "      <td>0</td>\n",
       "      <td>0.000</td>\n",
       "      <td>1.000</td>\n",
       "      <td>0</td>\n",
       "      <td>0</td>\n",
       "      <td>0</td>\n",
       "      <td>0</td>\n",
       "      <td>0</td>\n",
       "      <td>ES</td>\n",
       "      <td>28.000</td>\n",
       "      <td>V</td>\n",
       "      <td>4</td>\n",
       "      <td>N</td>\n",
       "      <td>118,693.500</td>\n",
       "      <td>5</td>\n",
       "      <td>May</td>\n",
       "    </tr>\n",
       "    <tr>\n",
       "      <th>1815226</th>\n",
       "      <td>1408784</td>\n",
       "      <td>2018-07-28</td>\n",
       "      <td>2018-07-20</td>\n",
       "      <td>NaN</td>\n",
       "      <td>0</td>\n",
       "      <td>NaN</td>\n",
       "      <td>0</td>\n",
       "      <td>0</td>\n",
       "      <td>0</td>\n",
       "      <td>0</td>\n",
       "      <td>0</td>\n",
       "      <td>0</td>\n",
       "      <td>0</td>\n",
       "      <td>0</td>\n",
       "      <td>0.000</td>\n",
       "      <td>0.000</td>\n",
       "      <td>0</td>\n",
       "      <td>0</td>\n",
       "      <td>0</td>\n",
       "      <td>0</td>\n",
       "      <td>1</td>\n",
       "      <td>ES</td>\n",
       "      <td>22.000</td>\n",
       "      <td>V</td>\n",
       "      <td>17</td>\n",
       "      <td>N</td>\n",
       "      <td>56,730.990</td>\n",
       "      <td>7</td>\n",
       "      <td>July</td>\n",
       "    </tr>\n",
       "    <tr>\n",
       "      <th>1925092</th>\n",
       "      <td>1408784</td>\n",
       "      <td>2018-08-28</td>\n",
       "      <td>2018-07-20</td>\n",
       "      <td>KHQ</td>\n",
       "      <td>0</td>\n",
       "      <td>02 - PARTICULARES</td>\n",
       "      <td>0</td>\n",
       "      <td>0</td>\n",
       "      <td>0</td>\n",
       "      <td>0</td>\n",
       "      <td>0</td>\n",
       "      <td>0</td>\n",
       "      <td>0</td>\n",
       "      <td>0</td>\n",
       "      <td>0.000</td>\n",
       "      <td>0.000</td>\n",
       "      <td>0</td>\n",
       "      <td>0</td>\n",
       "      <td>0</td>\n",
       "      <td>0</td>\n",
       "      <td>1</td>\n",
       "      <td>ES</td>\n",
       "      <td>22.000</td>\n",
       "      <td>V</td>\n",
       "      <td>17</td>\n",
       "      <td>N</td>\n",
       "      <td>56,730.990</td>\n",
       "      <td>8</td>\n",
       "      <td>August</td>\n",
       "    </tr>\n",
       "    <tr>\n",
       "      <th>2458864</th>\n",
       "      <td>1408784</td>\n",
       "      <td>2018-09-28</td>\n",
       "      <td>2018-07-20</td>\n",
       "      <td>KHQ</td>\n",
       "      <td>0</td>\n",
       "      <td>02 - PARTICULARES</td>\n",
       "      <td>0</td>\n",
       "      <td>0</td>\n",
       "      <td>0</td>\n",
       "      <td>0</td>\n",
       "      <td>0</td>\n",
       "      <td>0</td>\n",
       "      <td>0</td>\n",
       "      <td>0</td>\n",
       "      <td>0.000</td>\n",
       "      <td>0.000</td>\n",
       "      <td>0</td>\n",
       "      <td>0</td>\n",
       "      <td>0</td>\n",
       "      <td>0</td>\n",
       "      <td>1</td>\n",
       "      <td>ES</td>\n",
       "      <td>22.000</td>\n",
       "      <td>V</td>\n",
       "      <td>17</td>\n",
       "      <td>N</td>\n",
       "      <td>56,730.990</td>\n",
       "      <td>9</td>\n",
       "      <td>September</td>\n",
       "    </tr>\n",
       "    <tr>\n",
       "      <th>3683995</th>\n",
       "      <td>1511109</td>\n",
       "      <td>2018-12-28</td>\n",
       "      <td>2018-12-07</td>\n",
       "      <td>NaN</td>\n",
       "      <td>1</td>\n",
       "      <td>NaN</td>\n",
       "      <td>0</td>\n",
       "      <td>0</td>\n",
       "      <td>0</td>\n",
       "      <td>0</td>\n",
       "      <td>0</td>\n",
       "      <td>0</td>\n",
       "      <td>0</td>\n",
       "      <td>0</td>\n",
       "      <td>1.000</td>\n",
       "      <td>1.000</td>\n",
       "      <td>0</td>\n",
       "      <td>0</td>\n",
       "      <td>0</td>\n",
       "      <td>0</td>\n",
       "      <td>0</td>\n",
       "      <td>ES</td>\n",
       "      <td>39.000</td>\n",
       "      <td>H</td>\n",
       "      <td>7</td>\n",
       "      <td>N</td>\n",
       "      <td>NaN</td>\n",
       "      <td>12</td>\n",
       "      <td>December</td>\n",
       "    </tr>\n",
       "    <tr>\n",
       "      <th>5097785</th>\n",
       "      <td>1543904</td>\n",
       "      <td>2019-04-28</td>\n",
       "      <td>2019-04-06</td>\n",
       "      <td>NaN</td>\n",
       "      <td>1</td>\n",
       "      <td>NaN</td>\n",
       "      <td>0</td>\n",
       "      <td>0</td>\n",
       "      <td>0</td>\n",
       "      <td>0</td>\n",
       "      <td>0</td>\n",
       "      <td>0</td>\n",
       "      <td>0</td>\n",
       "      <td>0</td>\n",
       "      <td>1.000</td>\n",
       "      <td>1.000</td>\n",
       "      <td>0</td>\n",
       "      <td>0</td>\n",
       "      <td>0</td>\n",
       "      <td>0</td>\n",
       "      <td>0</td>\n",
       "      <td>ES</td>\n",
       "      <td>28.000</td>\n",
       "      <td>H</td>\n",
       "      <td>9</td>\n",
       "      <td>N</td>\n",
       "      <td>NaN</td>\n",
       "      <td>4</td>\n",
       "      <td>April</td>\n",
       "    </tr>\n",
       "  </tbody>\n",
       "</table>\n",
       "</div>"
      ],
      "text/plain": [
       "          pk_cid pk_partition entry_date entry_channel  active_customer  \\\n",
       "5835610  1005293   2019-05-28 2015-02-16           KFA                1   \n",
       "5840803  1021968   2019-05-28 2015-07-04           KFC                1   \n",
       "5879905  1244964   2019-05-28 2017-02-24           KAT                1   \n",
       "107719   1256153   2018-01-28 2017-05-05           KAT                1   \n",
       "1687485  1256153   2018-07-28 2017-05-05           KAT                1   \n",
       "4071542  1256153   2019-01-28 2017-05-05           KAT                1   \n",
       "5551912  1345478   2019-05-28 2017-10-31           KAT                1   \n",
       "1815226  1408784   2018-07-28 2018-07-20           NaN                0   \n",
       "1925092  1408784   2018-08-28 2018-07-20           KHQ                0   \n",
       "2458864  1408784   2018-09-28 2018-07-20           KHQ                0   \n",
       "3683995  1511109   2018-12-28 2018-12-07           NaN                1   \n",
       "5097785  1543904   2019-04-28 2019-04-06           NaN                1   \n",
       "\n",
       "                   segment  short_term_deposit  loans  mortgage  funds  \\\n",
       "5835610  02 - PARTICULARES                   0      0         0      0   \n",
       "5840803  02 - PARTICULARES                   0      0         0      0   \n",
       "5879905  02 - PARTICULARES                   0      0         0      0   \n",
       "107719   02 - PARTICULARES                   0      0         0      0   \n",
       "1687485  02 - PARTICULARES                   0      0         0      0   \n",
       "4071542  02 - PARTICULARES                   0      0         0      0   \n",
       "5551912  02 - PARTICULARES                   0      0         0      0   \n",
       "1815226                NaN                   0      0         0      0   \n",
       "1925092  02 - PARTICULARES                   0      0         0      0   \n",
       "2458864  02 - PARTICULARES                   0      0         0      0   \n",
       "3683995                NaN                   0      0         0      0   \n",
       "5097785                NaN                   0      0         0      0   \n",
       "\n",
       "         securities  long_term_deposit  em_account_pp  credit_card  payroll  \\\n",
       "5835610           0                  0              0            0    0.000   \n",
       "5840803           0                  0              0            0    0.000   \n",
       "5879905           0                  0              0            0    0.000   \n",
       "107719            0                  0              0            0    0.000   \n",
       "1687485           0                  0              0            0    0.000   \n",
       "4071542           0                  0              0            0    0.000   \n",
       "5551912           0                  0              0            0    0.000   \n",
       "1815226           0                  0              0            0    0.000   \n",
       "1925092           0                  0              0            0    0.000   \n",
       "2458864           0                  0              0            0    0.000   \n",
       "3683995           0                  0              0            0    1.000   \n",
       "5097785           0                  0              0            0    1.000   \n",
       "\n",
       "         pension_plan  payroll_account  emc_account  debit_card  em_account_p  \\\n",
       "5835610         1.000                0            0           0             0   \n",
       "5840803         1.000                0            0           0             0   \n",
       "5879905         1.000                0            0           0             0   \n",
       "107719          1.000                0            0           0             0   \n",
       "1687485         1.000                0            0           0             0   \n",
       "4071542         1.000                0            0           0             0   \n",
       "5551912         1.000                0            0           0             0   \n",
       "1815226         0.000                0            0           0             0   \n",
       "1925092         0.000                0            0           0             0   \n",
       "2458864         0.000                0            0           0             0   \n",
       "3683995         1.000                0            0           0             0   \n",
       "5097785         1.000                0            0           0             0   \n",
       "\n",
       "         em_acount country_id region_code gender  age deceased      salary  \\\n",
       "5835610          0         ES      28.000      V    6        N  81,032.520   \n",
       "5840803          0         ES      28.000      H   13        N 318,767.100   \n",
       "5879905          0         ES      28.000      V    5        N         NaN   \n",
       "107719           0         ES      11.000      H   12        N 156,534.360   \n",
       "1687485          0         ES      11.000      H   12        N 156,534.360   \n",
       "4071542          0         ES      11.000      H   12        N 156,534.360   \n",
       "5551912          0         ES      28.000      V    4        N 118,693.500   \n",
       "1815226          1         ES      22.000      V   17        N  56,730.990   \n",
       "1925092          1         ES      22.000      V   17        N  56,730.990   \n",
       "2458864          1         ES      22.000      V   17        N  56,730.990   \n",
       "3683995          0         ES      39.000      H    7        N         NaN   \n",
       "5097785          0         ES      28.000      H    9        N         NaN   \n",
       "\n",
       "         mes_partition mes_nombre_partition  \n",
       "5835610              5                  May  \n",
       "5840803              5                  May  \n",
       "5879905              5                  May  \n",
       "107719               1              January  \n",
       "1687485              7                 July  \n",
       "4071542              1              January  \n",
       "5551912              5                  May  \n",
       "1815226              7                 July  \n",
       "1925092              8               August  \n",
       "2458864              9            September  \n",
       "3683995             12             December  \n",
       "5097785              4                April  "
      ]
     },
     "execution_count": 267,
     "metadata": {},
     "output_type": "execute_result"
    }
   ],
   "source": [
    "pd.set_option('display.max_columns', None)\n",
    "\n",
    "# Filtrar los clientes que tienen productos activos\n",
    "clientes_con_productos_activos = clientes_misma_edad_menores[clientes_misma_edad_menores[productos].sum(axis=1) > 0]\n",
    "\n",
    "# Mostrar el resultado\n",
    "clientes_con_productos_activos"
   ]
  },
  {
   "cell_type": "markdown",
   "metadata": {},
   "source": [
    "2. Repetir el proceso para los active_customer"
   ]
  },
  {
   "cell_type": "code",
   "execution_count": 268,
   "metadata": {},
   "outputs": [
    {
     "name": "stdout",
     "output_type": "stream",
     "text": [
      "Cantidad de clientes menores de 18 años que son active_customer: 6053\n"
     ]
    },
    {
     "data": {
      "text/html": [
       "<div>\n",
       "<style scoped>\n",
       "    .dataframe tbody tr th:only-of-type {\n",
       "        vertical-align: middle;\n",
       "    }\n",
       "\n",
       "    .dataframe tbody tr th {\n",
       "        vertical-align: top;\n",
       "    }\n",
       "\n",
       "    .dataframe thead th {\n",
       "        text-align: right;\n",
       "    }\n",
       "</style>\n",
       "<table border=\"1\" class=\"dataframe\">\n",
       "  <thead>\n",
       "    <tr style=\"text-align: right;\">\n",
       "      <th></th>\n",
       "      <th>pk_cid</th>\n",
       "      <th>pk_partition</th>\n",
       "      <th>entry_date</th>\n",
       "      <th>entry_channel</th>\n",
       "      <th>active_customer</th>\n",
       "      <th>segment</th>\n",
       "      <th>short_term_deposit</th>\n",
       "      <th>loans</th>\n",
       "      <th>mortgage</th>\n",
       "      <th>funds</th>\n",
       "      <th>securities</th>\n",
       "      <th>long_term_deposit</th>\n",
       "      <th>em_account_pp</th>\n",
       "      <th>credit_card</th>\n",
       "      <th>payroll</th>\n",
       "      <th>pension_plan</th>\n",
       "      <th>payroll_account</th>\n",
       "      <th>emc_account</th>\n",
       "      <th>debit_card</th>\n",
       "      <th>em_account_p</th>\n",
       "      <th>em_acount</th>\n",
       "      <th>country_id</th>\n",
       "      <th>region_code</th>\n",
       "      <th>gender</th>\n",
       "      <th>age</th>\n",
       "      <th>deceased</th>\n",
       "      <th>salary</th>\n",
       "      <th>mes_partition</th>\n",
       "      <th>mes_nombre_partition</th>\n",
       "    </tr>\n",
       "  </thead>\n",
       "  <tbody>\n",
       "    <tr>\n",
       "      <th>1476977</th>\n",
       "      <td>617264</td>\n",
       "      <td>2018-07-28</td>\n",
       "      <td>2018-04-09</td>\n",
       "      <td>NaN</td>\n",
       "      <td>1</td>\n",
       "      <td>NaN</td>\n",
       "      <td>0</td>\n",
       "      <td>0</td>\n",
       "      <td>0</td>\n",
       "      <td>0</td>\n",
       "      <td>0</td>\n",
       "      <td>0</td>\n",
       "      <td>0</td>\n",
       "      <td>0</td>\n",
       "      <td>0.000</td>\n",
       "      <td>0.000</td>\n",
       "      <td>0</td>\n",
       "      <td>0</td>\n",
       "      <td>0</td>\n",
       "      <td>0</td>\n",
       "      <td>0</td>\n",
       "      <td>ES</td>\n",
       "      <td>28.000</td>\n",
       "      <td>H</td>\n",
       "      <td>13</td>\n",
       "      <td>N</td>\n",
       "      <td>286,573.440</td>\n",
       "      <td>7</td>\n",
       "      <td>July</td>\n",
       "    </tr>\n",
       "    <tr>\n",
       "      <th>83238</th>\n",
       "      <td>970787</td>\n",
       "      <td>2018-01-28</td>\n",
       "      <td>2015-09-05</td>\n",
       "      <td>KFA</td>\n",
       "      <td>1</td>\n",
       "      <td>02 - PARTICULARES</td>\n",
       "      <td>0</td>\n",
       "      <td>0</td>\n",
       "      <td>0</td>\n",
       "      <td>0</td>\n",
       "      <td>0</td>\n",
       "      <td>0</td>\n",
       "      <td>0</td>\n",
       "      <td>0</td>\n",
       "      <td>0.000</td>\n",
       "      <td>0.000</td>\n",
       "      <td>0</td>\n",
       "      <td>0</td>\n",
       "      <td>0</td>\n",
       "      <td>0</td>\n",
       "      <td>0</td>\n",
       "      <td>ES</td>\n",
       "      <td>28.000</td>\n",
       "      <td>H</td>\n",
       "      <td>14</td>\n",
       "      <td>N</td>\n",
       "      <td>234,170.370</td>\n",
       "      <td>1</td>\n",
       "      <td>January</td>\n",
       "    </tr>\n",
       "    <tr>\n",
       "      <th>395797</th>\n",
       "      <td>970787</td>\n",
       "      <td>2018-02-28</td>\n",
       "      <td>2015-09-05</td>\n",
       "      <td>KFA</td>\n",
       "      <td>1</td>\n",
       "      <td>02 - PARTICULARES</td>\n",
       "      <td>0</td>\n",
       "      <td>0</td>\n",
       "      <td>0</td>\n",
       "      <td>0</td>\n",
       "      <td>0</td>\n",
       "      <td>0</td>\n",
       "      <td>0</td>\n",
       "      <td>0</td>\n",
       "      <td>0.000</td>\n",
       "      <td>0.000</td>\n",
       "      <td>0</td>\n",
       "      <td>0</td>\n",
       "      <td>0</td>\n",
       "      <td>0</td>\n",
       "      <td>0</td>\n",
       "      <td>ES</td>\n",
       "      <td>28.000</td>\n",
       "      <td>H</td>\n",
       "      <td>14</td>\n",
       "      <td>N</td>\n",
       "      <td>234,170.370</td>\n",
       "      <td>2</td>\n",
       "      <td>February</td>\n",
       "    </tr>\n",
       "    <tr>\n",
       "      <th>635515</th>\n",
       "      <td>970787</td>\n",
       "      <td>2018-03-28</td>\n",
       "      <td>2015-09-05</td>\n",
       "      <td>KFA</td>\n",
       "      <td>1</td>\n",
       "      <td>02 - PARTICULARES</td>\n",
       "      <td>0</td>\n",
       "      <td>0</td>\n",
       "      <td>0</td>\n",
       "      <td>0</td>\n",
       "      <td>0</td>\n",
       "      <td>0</td>\n",
       "      <td>0</td>\n",
       "      <td>0</td>\n",
       "      <td>0.000</td>\n",
       "      <td>0.000</td>\n",
       "      <td>0</td>\n",
       "      <td>0</td>\n",
       "      <td>0</td>\n",
       "      <td>0</td>\n",
       "      <td>0</td>\n",
       "      <td>ES</td>\n",
       "      <td>28.000</td>\n",
       "      <td>H</td>\n",
       "      <td>14</td>\n",
       "      <td>N</td>\n",
       "      <td>234,170.370</td>\n",
       "      <td>3</td>\n",
       "      <td>March</td>\n",
       "    </tr>\n",
       "    <tr>\n",
       "      <th>886240</th>\n",
       "      <td>970787</td>\n",
       "      <td>2018-04-28</td>\n",
       "      <td>2015-09-05</td>\n",
       "      <td>KFA</td>\n",
       "      <td>1</td>\n",
       "      <td>02 - PARTICULARES</td>\n",
       "      <td>0</td>\n",
       "      <td>0</td>\n",
       "      <td>0</td>\n",
       "      <td>0</td>\n",
       "      <td>0</td>\n",
       "      <td>0</td>\n",
       "      <td>0</td>\n",
       "      <td>0</td>\n",
       "      <td>0.000</td>\n",
       "      <td>0.000</td>\n",
       "      <td>0</td>\n",
       "      <td>0</td>\n",
       "      <td>0</td>\n",
       "      <td>0</td>\n",
       "      <td>0</td>\n",
       "      <td>ES</td>\n",
       "      <td>28.000</td>\n",
       "      <td>H</td>\n",
       "      <td>14</td>\n",
       "      <td>N</td>\n",
       "      <td>234,170.370</td>\n",
       "      <td>4</td>\n",
       "      <td>April</td>\n",
       "    </tr>\n",
       "    <tr>\n",
       "      <th>...</th>\n",
       "      <td>...</td>\n",
       "      <td>...</td>\n",
       "      <td>...</td>\n",
       "      <td>...</td>\n",
       "      <td>...</td>\n",
       "      <td>...</td>\n",
       "      <td>...</td>\n",
       "      <td>...</td>\n",
       "      <td>...</td>\n",
       "      <td>...</td>\n",
       "      <td>...</td>\n",
       "      <td>...</td>\n",
       "      <td>...</td>\n",
       "      <td>...</td>\n",
       "      <td>...</td>\n",
       "      <td>...</td>\n",
       "      <td>...</td>\n",
       "      <td>...</td>\n",
       "      <td>...</td>\n",
       "      <td>...</td>\n",
       "      <td>...</td>\n",
       "      <td>...</td>\n",
       "      <td>...</td>\n",
       "      <td>...</td>\n",
       "      <td>...</td>\n",
       "      <td>...</td>\n",
       "      <td>...</td>\n",
       "      <td>...</td>\n",
       "      <td>...</td>\n",
       "    </tr>\n",
       "    <tr>\n",
       "      <th>5681102</th>\n",
       "      <td>1552066</td>\n",
       "      <td>2019-05-28</td>\n",
       "      <td>2019-05-24</td>\n",
       "      <td>NaN</td>\n",
       "      <td>1</td>\n",
       "      <td>NaN</td>\n",
       "      <td>0</td>\n",
       "      <td>0</td>\n",
       "      <td>0</td>\n",
       "      <td>0</td>\n",
       "      <td>0</td>\n",
       "      <td>0</td>\n",
       "      <td>0</td>\n",
       "      <td>0</td>\n",
       "      <td>0.000</td>\n",
       "      <td>0.000</td>\n",
       "      <td>0</td>\n",
       "      <td>0</td>\n",
       "      <td>0</td>\n",
       "      <td>0</td>\n",
       "      <td>0</td>\n",
       "      <td>ES</td>\n",
       "      <td>29.000</td>\n",
       "      <td>H</td>\n",
       "      <td>8</td>\n",
       "      <td>N</td>\n",
       "      <td>NaN</td>\n",
       "      <td>5</td>\n",
       "      <td>May</td>\n",
       "    </tr>\n",
       "    <tr>\n",
       "      <th>5681028</th>\n",
       "      <td>1552168</td>\n",
       "      <td>2019-05-28</td>\n",
       "      <td>2019-05-24</td>\n",
       "      <td>NaN</td>\n",
       "      <td>1</td>\n",
       "      <td>NaN</td>\n",
       "      <td>0</td>\n",
       "      <td>0</td>\n",
       "      <td>0</td>\n",
       "      <td>0</td>\n",
       "      <td>0</td>\n",
       "      <td>0</td>\n",
       "      <td>0</td>\n",
       "      <td>0</td>\n",
       "      <td>0.000</td>\n",
       "      <td>0.000</td>\n",
       "      <td>0</td>\n",
       "      <td>0</td>\n",
       "      <td>0</td>\n",
       "      <td>0</td>\n",
       "      <td>0</td>\n",
       "      <td>ES</td>\n",
       "      <td>28.000</td>\n",
       "      <td>V</td>\n",
       "      <td>11</td>\n",
       "      <td>N</td>\n",
       "      <td>NaN</td>\n",
       "      <td>5</td>\n",
       "      <td>May</td>\n",
       "    </tr>\n",
       "    <tr>\n",
       "      <th>5680695</th>\n",
       "      <td>1552311</td>\n",
       "      <td>2019-05-28</td>\n",
       "      <td>2019-05-24</td>\n",
       "      <td>NaN</td>\n",
       "      <td>1</td>\n",
       "      <td>NaN</td>\n",
       "      <td>0</td>\n",
       "      <td>0</td>\n",
       "      <td>0</td>\n",
       "      <td>0</td>\n",
       "      <td>0</td>\n",
       "      <td>0</td>\n",
       "      <td>0</td>\n",
       "      <td>0</td>\n",
       "      <td>0.000</td>\n",
       "      <td>0.000</td>\n",
       "      <td>0</td>\n",
       "      <td>0</td>\n",
       "      <td>0</td>\n",
       "      <td>0</td>\n",
       "      <td>0</td>\n",
       "      <td>ES</td>\n",
       "      <td>38.000</td>\n",
       "      <td>V</td>\n",
       "      <td>13</td>\n",
       "      <td>N</td>\n",
       "      <td>NaN</td>\n",
       "      <td>5</td>\n",
       "      <td>May</td>\n",
       "    </tr>\n",
       "    <tr>\n",
       "      <th>5680884</th>\n",
       "      <td>1552422</td>\n",
       "      <td>2019-05-28</td>\n",
       "      <td>2019-05-26</td>\n",
       "      <td>NaN</td>\n",
       "      <td>1</td>\n",
       "      <td>NaN</td>\n",
       "      <td>0</td>\n",
       "      <td>0</td>\n",
       "      <td>0</td>\n",
       "      <td>0</td>\n",
       "      <td>0</td>\n",
       "      <td>0</td>\n",
       "      <td>0</td>\n",
       "      <td>0</td>\n",
       "      <td>0.000</td>\n",
       "      <td>0.000</td>\n",
       "      <td>0</td>\n",
       "      <td>0</td>\n",
       "      <td>0</td>\n",
       "      <td>0</td>\n",
       "      <td>0</td>\n",
       "      <td>ES</td>\n",
       "      <td>39.000</td>\n",
       "      <td>V</td>\n",
       "      <td>2</td>\n",
       "      <td>N</td>\n",
       "      <td>NaN</td>\n",
       "      <td>5</td>\n",
       "      <td>May</td>\n",
       "    </tr>\n",
       "    <tr>\n",
       "      <th>5679415</th>\n",
       "      <td>1552858</td>\n",
       "      <td>2019-05-28</td>\n",
       "      <td>2019-05-26</td>\n",
       "      <td>NaN</td>\n",
       "      <td>1</td>\n",
       "      <td>NaN</td>\n",
       "      <td>0</td>\n",
       "      <td>0</td>\n",
       "      <td>0</td>\n",
       "      <td>0</td>\n",
       "      <td>0</td>\n",
       "      <td>0</td>\n",
       "      <td>0</td>\n",
       "      <td>0</td>\n",
       "      <td>0.000</td>\n",
       "      <td>0.000</td>\n",
       "      <td>0</td>\n",
       "      <td>0</td>\n",
       "      <td>0</td>\n",
       "      <td>0</td>\n",
       "      <td>0</td>\n",
       "      <td>ES</td>\n",
       "      <td>38.000</td>\n",
       "      <td>V</td>\n",
       "      <td>11</td>\n",
       "      <td>N</td>\n",
       "      <td>NaN</td>\n",
       "      <td>5</td>\n",
       "      <td>May</td>\n",
       "    </tr>\n",
       "  </tbody>\n",
       "</table>\n",
       "<p>6053 rows × 29 columns</p>\n",
       "</div>"
      ],
      "text/plain": [
       "          pk_cid pk_partition entry_date entry_channel  active_customer  \\\n",
       "1476977   617264   2018-07-28 2018-04-09           NaN                1   \n",
       "83238     970787   2018-01-28 2015-09-05           KFA                1   \n",
       "395797    970787   2018-02-28 2015-09-05           KFA                1   \n",
       "635515    970787   2018-03-28 2015-09-05           KFA                1   \n",
       "886240    970787   2018-04-28 2015-09-05           KFA                1   \n",
       "...          ...          ...        ...           ...              ...   \n",
       "5681102  1552066   2019-05-28 2019-05-24           NaN                1   \n",
       "5681028  1552168   2019-05-28 2019-05-24           NaN                1   \n",
       "5680695  1552311   2019-05-28 2019-05-24           NaN                1   \n",
       "5680884  1552422   2019-05-28 2019-05-26           NaN                1   \n",
       "5679415  1552858   2019-05-28 2019-05-26           NaN                1   \n",
       "\n",
       "                   segment  short_term_deposit  loans  mortgage  funds  \\\n",
       "1476977                NaN                   0      0         0      0   \n",
       "83238    02 - PARTICULARES                   0      0         0      0   \n",
       "395797   02 - PARTICULARES                   0      0         0      0   \n",
       "635515   02 - PARTICULARES                   0      0         0      0   \n",
       "886240   02 - PARTICULARES                   0      0         0      0   \n",
       "...                    ...                 ...    ...       ...    ...   \n",
       "5681102                NaN                   0      0         0      0   \n",
       "5681028                NaN                   0      0         0      0   \n",
       "5680695                NaN                   0      0         0      0   \n",
       "5680884                NaN                   0      0         0      0   \n",
       "5679415                NaN                   0      0         0      0   \n",
       "\n",
       "         securities  long_term_deposit  em_account_pp  credit_card  payroll  \\\n",
       "1476977           0                  0              0            0    0.000   \n",
       "83238             0                  0              0            0    0.000   \n",
       "395797            0                  0              0            0    0.000   \n",
       "635515            0                  0              0            0    0.000   \n",
       "886240            0                  0              0            0    0.000   \n",
       "...             ...                ...            ...          ...      ...   \n",
       "5681102           0                  0              0            0    0.000   \n",
       "5681028           0                  0              0            0    0.000   \n",
       "5680695           0                  0              0            0    0.000   \n",
       "5680884           0                  0              0            0    0.000   \n",
       "5679415           0                  0              0            0    0.000   \n",
       "\n",
       "         pension_plan  payroll_account  emc_account  debit_card  em_account_p  \\\n",
       "1476977         0.000                0            0           0             0   \n",
       "83238           0.000                0            0           0             0   \n",
       "395797          0.000                0            0           0             0   \n",
       "635515          0.000                0            0           0             0   \n",
       "886240          0.000                0            0           0             0   \n",
       "...               ...              ...          ...         ...           ...   \n",
       "5681102         0.000                0            0           0             0   \n",
       "5681028         0.000                0            0           0             0   \n",
       "5680695         0.000                0            0           0             0   \n",
       "5680884         0.000                0            0           0             0   \n",
       "5679415         0.000                0            0           0             0   \n",
       "\n",
       "         em_acount country_id region_code gender  age deceased      salary  \\\n",
       "1476977          0         ES      28.000      H   13        N 286,573.440   \n",
       "83238            0         ES      28.000      H   14        N 234,170.370   \n",
       "395797           0         ES      28.000      H   14        N 234,170.370   \n",
       "635515           0         ES      28.000      H   14        N 234,170.370   \n",
       "886240           0         ES      28.000      H   14        N 234,170.370   \n",
       "...            ...        ...         ...    ...  ...      ...         ...   \n",
       "5681102          0         ES      29.000      H    8        N         NaN   \n",
       "5681028          0         ES      28.000      V   11        N         NaN   \n",
       "5680695          0         ES      38.000      V   13        N         NaN   \n",
       "5680884          0         ES      39.000      V    2        N         NaN   \n",
       "5679415          0         ES      38.000      V   11        N         NaN   \n",
       "\n",
       "         mes_partition mes_nombre_partition  \n",
       "1476977              7                 July  \n",
       "83238                1              January  \n",
       "395797               2             February  \n",
       "635515               3                March  \n",
       "886240               4                April  \n",
       "...                ...                  ...  \n",
       "5681102              5                  May  \n",
       "5681028              5                  May  \n",
       "5680695              5                  May  \n",
       "5680884              5                  May  \n",
       "5679415              5                  May  \n",
       "\n",
       "[6053 rows x 29 columns]"
      ]
     },
     "execution_count": 268,
     "metadata": {},
     "output_type": "execute_result"
    }
   ],
   "source": [
    "# Filtrar los clientes menores de 18 años que también son active_customer\n",
    "clientes_menores_active = clientes_misma_edad_menores[clientes_misma_edad_menores['active_customer'] == 1]\n",
    "\n",
    "# Contar cuántos clientes cumplen con ambas condiciones\n",
    "cantidad_menores_active = clientes_menores_active.shape[0]\n",
    "\n",
    "# Mostrar la cantidad\n",
    "print(f\"Cantidad de clientes menores de 18 años que son active_customer: {cantidad_menores_active}\")\n",
    "\n",
    "# Mostrar la lista de estos clientes\n",
    "clientes_menores_active"
   ]
  },
  {
   "cell_type": "markdown",
   "metadata": {},
   "source": [
    "### Edad Mixta"
   ]
  },
  {
   "cell_type": "markdown",
   "metadata": {},
   "source": [
    "En este apartado vamos a corregir errores de tipidficación en la variable Edad. Para ello, vamos a identificar en primer lugar casos en los que la edad tenga saltos mayores de 3 años (dado que el rango máximo de variación para un cliente debería ser este, pues la serie se compone de 3 años), y por otro lado, vamos a identificar aquellos casos en los que se produzca una variación negativa "
   ]
  },
  {
   "cell_type": "code",
   "execution_count": 269,
   "metadata": {},
   "outputs": [
    {
     "data": {
      "text/html": [
       "<div>\n",
       "<style scoped>\n",
       "    .dataframe tbody tr th:only-of-type {\n",
       "        vertical-align: middle;\n",
       "    }\n",
       "\n",
       "    .dataframe tbody tr th {\n",
       "        vertical-align: top;\n",
       "    }\n",
       "\n",
       "    .dataframe thead th {\n",
       "        text-align: right;\n",
       "    }\n",
       "</style>\n",
       "<table border=\"1\" class=\"dataframe\">\n",
       "  <thead>\n",
       "    <tr style=\"text-align: right;\">\n",
       "      <th></th>\n",
       "      <th>pk_cid</th>\n",
       "      <th>age</th>\n",
       "      <th>dif_edad</th>\n",
       "    </tr>\n",
       "  </thead>\n",
       "  <tbody>\n",
       "    <tr>\n",
       "      <th>2171490</th>\n",
       "      <td>16502</td>\n",
       "      <td>57</td>\n",
       "      <td>1</td>\n",
       "    </tr>\n",
       "    <tr>\n",
       "      <th>2943633</th>\n",
       "      <td>16502</td>\n",
       "      <td>58</td>\n",
       "      <td>1</td>\n",
       "    </tr>\n",
       "    <tr>\n",
       "      <th>237929</th>\n",
       "      <td>17457</td>\n",
       "      <td>53</td>\n",
       "      <td>1</td>\n",
       "    </tr>\n",
       "    <tr>\n",
       "      <th>5134250</th>\n",
       "      <td>17457</td>\n",
       "      <td>54</td>\n",
       "      <td>1</td>\n",
       "    </tr>\n",
       "    <tr>\n",
       "      <th>1479558</th>\n",
       "      <td>17590</td>\n",
       "      <td>54</td>\n",
       "      <td>1</td>\n",
       "    </tr>\n",
       "    <tr>\n",
       "      <th>...</th>\n",
       "      <td>...</td>\n",
       "      <td>...</td>\n",
       "      <td>...</td>\n",
       "    </tr>\n",
       "    <tr>\n",
       "      <th>5683006</th>\n",
       "      <td>1548180</td>\n",
       "      <td>38</td>\n",
       "      <td>-1</td>\n",
       "    </tr>\n",
       "    <tr>\n",
       "      <th>5100662</th>\n",
       "      <td>1548181</td>\n",
       "      <td>34</td>\n",
       "      <td>1</td>\n",
       "    </tr>\n",
       "    <tr>\n",
       "      <th>5683005</th>\n",
       "      <td>1548181</td>\n",
       "      <td>35</td>\n",
       "      <td>1</td>\n",
       "    </tr>\n",
       "    <tr>\n",
       "      <th>5100664</th>\n",
       "      <td>1548186</td>\n",
       "      <td>42</td>\n",
       "      <td>-1</td>\n",
       "    </tr>\n",
       "    <tr>\n",
       "      <th>5683003</th>\n",
       "      <td>1548186</td>\n",
       "      <td>41</td>\n",
       "      <td>-1</td>\n",
       "    </tr>\n",
       "  </tbody>\n",
       "</table>\n",
       "<p>683660 rows × 3 columns</p>\n",
       "</div>"
      ],
      "text/plain": [
       "          pk_cid  age  dif_edad\n",
       "2171490    16502   57         1\n",
       "2943633    16502   58         1\n",
       "237929     17457   53         1\n",
       "5134250    17457   54         1\n",
       "1479558    17590   54         1\n",
       "...          ...  ...       ...\n",
       "5683006  1548180   38        -1\n",
       "5100662  1548181   34         1\n",
       "5683005  1548181   35         1\n",
       "5100664  1548186   42        -1\n",
       "5683003  1548186   41        -1\n",
       "\n",
       "[683660 rows x 3 columns]"
      ]
     },
     "execution_count": 269,
     "metadata": {},
     "output_type": "execute_result"
    }
   ],
   "source": [
    "# Asegúrate de que df_edad_mixta esté ordenado por pk_cid y un índice de tiempo o la posición de las filas.\n",
    "df_edad_mixta = df_edad_mixta.sort_values(by=['pk_cid', 'pk_partition'])  # Asumiendo que pk_partition representa el tiempo.\n",
    "\n",
    "# Calcular la diferencia entre la primera y la última edad para cada usuario\n",
    "df_edad_mixta['dif_edad'] = df_edad_mixta.groupby('pk_cid')['age'].transform(lambda x: x.iloc[-1] - x.iloc[0])\n",
    "\n",
    "# Mostrar el resultado\n",
    "df_edad_mixta[['pk_cid', 'age', 'dif_edad']].drop_duplicates()"
   ]
  },
  {
   "cell_type": "markdown",
   "metadata": {},
   "source": [
    "#### Edad Mixta. Variación > 3 años"
   ]
  },
  {
   "cell_type": "code",
   "execution_count": 270,
   "metadata": {},
   "outputs": [
    {
     "data": {
      "text/plain": [
       "count   1,093.000\n",
       "mean       25.080\n",
       "std        14.549\n",
       "min         5.000\n",
       "25%        14.000\n",
       "50%        21.000\n",
       "75%        31.000\n",
       "max        67.000\n",
       "Name: dif_edad, dtype: float64"
      ]
     },
     "execution_count": 270,
     "metadata": {},
     "output_type": "execute_result"
    }
   ],
   "source": [
    "df_edad_mixta_dif_mas3 = df_edad_mixta[df_edad_mixta['dif_edad'] > 3]\n",
    "\n",
    "df_edad_mixta_dif_mas3[\"dif_edad\"].describe()"
   ]
  },
  {
   "cell_type": "code",
   "execution_count": 271,
   "metadata": {},
   "outputs": [
    {
     "data": {
      "text/html": [
       "<div>\n",
       "<style scoped>\n",
       "    .dataframe tbody tr th:only-of-type {\n",
       "        vertical-align: middle;\n",
       "    }\n",
       "\n",
       "    .dataframe tbody tr th {\n",
       "        vertical-align: top;\n",
       "    }\n",
       "\n",
       "    .dataframe thead th {\n",
       "        text-align: right;\n",
       "    }\n",
       "</style>\n",
       "<table border=\"1\" class=\"dataframe\">\n",
       "  <thead>\n",
       "    <tr style=\"text-align: right;\">\n",
       "      <th></th>\n",
       "      <th>pk_cid</th>\n",
       "      <th>pk_partition</th>\n",
       "      <th>entry_date</th>\n",
       "      <th>entry_channel</th>\n",
       "      <th>active_customer</th>\n",
       "      <th>segment</th>\n",
       "      <th>short_term_deposit</th>\n",
       "      <th>loans</th>\n",
       "      <th>mortgage</th>\n",
       "      <th>funds</th>\n",
       "      <th>securities</th>\n",
       "      <th>long_term_deposit</th>\n",
       "      <th>em_account_pp</th>\n",
       "      <th>credit_card</th>\n",
       "      <th>payroll</th>\n",
       "      <th>pension_plan</th>\n",
       "      <th>payroll_account</th>\n",
       "      <th>emc_account</th>\n",
       "      <th>debit_card</th>\n",
       "      <th>em_account_p</th>\n",
       "      <th>em_acount</th>\n",
       "      <th>country_id</th>\n",
       "      <th>region_code</th>\n",
       "      <th>gender</th>\n",
       "      <th>age</th>\n",
       "      <th>deceased</th>\n",
       "      <th>salary</th>\n",
       "      <th>mes_partition</th>\n",
       "      <th>mes_nombre_partition</th>\n",
       "      <th>dif_edad</th>\n",
       "    </tr>\n",
       "  </thead>\n",
       "  <tbody>\n",
       "    <tr>\n",
       "      <th>2169124</th>\n",
       "      <td>539069</td>\n",
       "      <td>2018-09-28</td>\n",
       "      <td>2018-09-21</td>\n",
       "      <td>NaN</td>\n",
       "      <td>1</td>\n",
       "      <td>NaN</td>\n",
       "      <td>0</td>\n",
       "      <td>0</td>\n",
       "      <td>0</td>\n",
       "      <td>0</td>\n",
       "      <td>0</td>\n",
       "      <td>0</td>\n",
       "      <td>0</td>\n",
       "      <td>0</td>\n",
       "      <td>0.000</td>\n",
       "      <td>0.000</td>\n",
       "      <td>0</td>\n",
       "      <td>0</td>\n",
       "      <td>0</td>\n",
       "      <td>0</td>\n",
       "      <td>1</td>\n",
       "      <td>ES</td>\n",
       "      <td>46.000</td>\n",
       "      <td>V</td>\n",
       "      <td>2</td>\n",
       "      <td>N</td>\n",
       "      <td>NaN</td>\n",
       "      <td>9</td>\n",
       "      <td>September</td>\n",
       "      <td>67</td>\n",
       "    </tr>\n",
       "    <tr>\n",
       "      <th>2945655</th>\n",
       "      <td>539069</td>\n",
       "      <td>2018-10-28</td>\n",
       "      <td>2018-09-21</td>\n",
       "      <td>KHM</td>\n",
       "      <td>1</td>\n",
       "      <td>02 - PARTICULARES</td>\n",
       "      <td>0</td>\n",
       "      <td>0</td>\n",
       "      <td>0</td>\n",
       "      <td>0</td>\n",
       "      <td>0</td>\n",
       "      <td>0</td>\n",
       "      <td>0</td>\n",
       "      <td>0</td>\n",
       "      <td>0.000</td>\n",
       "      <td>0.000</td>\n",
       "      <td>0</td>\n",
       "      <td>0</td>\n",
       "      <td>0</td>\n",
       "      <td>0</td>\n",
       "      <td>1</td>\n",
       "      <td>ES</td>\n",
       "      <td>46.000</td>\n",
       "      <td>V</td>\n",
       "      <td>2</td>\n",
       "      <td>N</td>\n",
       "      <td>NaN</td>\n",
       "      <td>10</td>\n",
       "      <td>October</td>\n",
       "      <td>67</td>\n",
       "    </tr>\n",
       "    <tr>\n",
       "      <th>2955191</th>\n",
       "      <td>539069</td>\n",
       "      <td>2018-11-28</td>\n",
       "      <td>2018-09-21</td>\n",
       "      <td>KHM</td>\n",
       "      <td>1</td>\n",
       "      <td>02 - PARTICULARES</td>\n",
       "      <td>0</td>\n",
       "      <td>0</td>\n",
       "      <td>0</td>\n",
       "      <td>0</td>\n",
       "      <td>0</td>\n",
       "      <td>0</td>\n",
       "      <td>0</td>\n",
       "      <td>0</td>\n",
       "      <td>0.000</td>\n",
       "      <td>0.000</td>\n",
       "      <td>0</td>\n",
       "      <td>0</td>\n",
       "      <td>1</td>\n",
       "      <td>0</td>\n",
       "      <td>1</td>\n",
       "      <td>ES</td>\n",
       "      <td>46.000</td>\n",
       "      <td>V</td>\n",
       "      <td>69</td>\n",
       "      <td>N</td>\n",
       "      <td>NaN</td>\n",
       "      <td>11</td>\n",
       "      <td>November</td>\n",
       "      <td>67</td>\n",
       "    </tr>\n",
       "    <tr>\n",
       "      <th>3630152</th>\n",
       "      <td>539069</td>\n",
       "      <td>2018-12-28</td>\n",
       "      <td>2018-09-21</td>\n",
       "      <td>KHM</td>\n",
       "      <td>1</td>\n",
       "      <td>02 - PARTICULARES</td>\n",
       "      <td>0</td>\n",
       "      <td>0</td>\n",
       "      <td>0</td>\n",
       "      <td>0</td>\n",
       "      <td>0</td>\n",
       "      <td>0</td>\n",
       "      <td>0</td>\n",
       "      <td>0</td>\n",
       "      <td>0.000</td>\n",
       "      <td>0.000</td>\n",
       "      <td>0</td>\n",
       "      <td>0</td>\n",
       "      <td>0</td>\n",
       "      <td>0</td>\n",
       "      <td>1</td>\n",
       "      <td>ES</td>\n",
       "      <td>46.000</td>\n",
       "      <td>V</td>\n",
       "      <td>69</td>\n",
       "      <td>N</td>\n",
       "      <td>NaN</td>\n",
       "      <td>12</td>\n",
       "      <td>December</td>\n",
       "      <td>67</td>\n",
       "    </tr>\n",
       "    <tr>\n",
       "      <th>4102655</th>\n",
       "      <td>539069</td>\n",
       "      <td>2019-01-28</td>\n",
       "      <td>2018-09-21</td>\n",
       "      <td>KHM</td>\n",
       "      <td>1</td>\n",
       "      <td>02 - PARTICULARES</td>\n",
       "      <td>0</td>\n",
       "      <td>0</td>\n",
       "      <td>0</td>\n",
       "      <td>0</td>\n",
       "      <td>0</td>\n",
       "      <td>0</td>\n",
       "      <td>0</td>\n",
       "      <td>0</td>\n",
       "      <td>0.000</td>\n",
       "      <td>0.000</td>\n",
       "      <td>0</td>\n",
       "      <td>0</td>\n",
       "      <td>1</td>\n",
       "      <td>0</td>\n",
       "      <td>1</td>\n",
       "      <td>ES</td>\n",
       "      <td>46.000</td>\n",
       "      <td>V</td>\n",
       "      <td>69</td>\n",
       "      <td>N</td>\n",
       "      <td>NaN</td>\n",
       "      <td>1</td>\n",
       "      <td>January</td>\n",
       "      <td>67</td>\n",
       "    </tr>\n",
       "    <tr>\n",
       "      <th>4479766</th>\n",
       "      <td>539069</td>\n",
       "      <td>2019-02-28</td>\n",
       "      <td>2018-09-21</td>\n",
       "      <td>KHM</td>\n",
       "      <td>1</td>\n",
       "      <td>02 - PARTICULARES</td>\n",
       "      <td>0</td>\n",
       "      <td>0</td>\n",
       "      <td>0</td>\n",
       "      <td>0</td>\n",
       "      <td>0</td>\n",
       "      <td>0</td>\n",
       "      <td>0</td>\n",
       "      <td>0</td>\n",
       "      <td>0.000</td>\n",
       "      <td>0.000</td>\n",
       "      <td>0</td>\n",
       "      <td>0</td>\n",
       "      <td>1</td>\n",
       "      <td>0</td>\n",
       "      <td>1</td>\n",
       "      <td>ES</td>\n",
       "      <td>46.000</td>\n",
       "      <td>V</td>\n",
       "      <td>69</td>\n",
       "      <td>N</td>\n",
       "      <td>NaN</td>\n",
       "      <td>2</td>\n",
       "      <td>February</td>\n",
       "      <td>67</td>\n",
       "    </tr>\n",
       "    <tr>\n",
       "      <th>4886596</th>\n",
       "      <td>539069</td>\n",
       "      <td>2019-03-28</td>\n",
       "      <td>2018-09-21</td>\n",
       "      <td>KHM</td>\n",
       "      <td>1</td>\n",
       "      <td>02 - PARTICULARES</td>\n",
       "      <td>0</td>\n",
       "      <td>0</td>\n",
       "      <td>0</td>\n",
       "      <td>0</td>\n",
       "      <td>0</td>\n",
       "      <td>0</td>\n",
       "      <td>0</td>\n",
       "      <td>0</td>\n",
       "      <td>0.000</td>\n",
       "      <td>0.000</td>\n",
       "      <td>0</td>\n",
       "      <td>0</td>\n",
       "      <td>0</td>\n",
       "      <td>0</td>\n",
       "      <td>1</td>\n",
       "      <td>ES</td>\n",
       "      <td>46.000</td>\n",
       "      <td>V</td>\n",
       "      <td>69</td>\n",
       "      <td>N</td>\n",
       "      <td>NaN</td>\n",
       "      <td>3</td>\n",
       "      <td>March</td>\n",
       "      <td>67</td>\n",
       "    </tr>\n",
       "    <tr>\n",
       "      <th>5080982</th>\n",
       "      <td>539069</td>\n",
       "      <td>2019-04-28</td>\n",
       "      <td>2018-09-21</td>\n",
       "      <td>KHM</td>\n",
       "      <td>1</td>\n",
       "      <td>02 - PARTICULARES</td>\n",
       "      <td>0</td>\n",
       "      <td>0</td>\n",
       "      <td>0</td>\n",
       "      <td>0</td>\n",
       "      <td>0</td>\n",
       "      <td>0</td>\n",
       "      <td>0</td>\n",
       "      <td>0</td>\n",
       "      <td>0.000</td>\n",
       "      <td>0.000</td>\n",
       "      <td>0</td>\n",
       "      <td>0</td>\n",
       "      <td>0</td>\n",
       "      <td>0</td>\n",
       "      <td>1</td>\n",
       "      <td>ES</td>\n",
       "      <td>46.000</td>\n",
       "      <td>V</td>\n",
       "      <td>69</td>\n",
       "      <td>N</td>\n",
       "      <td>NaN</td>\n",
       "      <td>4</td>\n",
       "      <td>April</td>\n",
       "      <td>67</td>\n",
       "    </tr>\n",
       "    <tr>\n",
       "      <th>5520571</th>\n",
       "      <td>539069</td>\n",
       "      <td>2019-05-28</td>\n",
       "      <td>2018-09-21</td>\n",
       "      <td>KHM</td>\n",
       "      <td>1</td>\n",
       "      <td>02 - PARTICULARES</td>\n",
       "      <td>0</td>\n",
       "      <td>0</td>\n",
       "      <td>0</td>\n",
       "      <td>0</td>\n",
       "      <td>0</td>\n",
       "      <td>0</td>\n",
       "      <td>0</td>\n",
       "      <td>0</td>\n",
       "      <td>0.000</td>\n",
       "      <td>0.000</td>\n",
       "      <td>0</td>\n",
       "      <td>0</td>\n",
       "      <td>1</td>\n",
       "      <td>0</td>\n",
       "      <td>1</td>\n",
       "      <td>ES</td>\n",
       "      <td>46.000</td>\n",
       "      <td>V</td>\n",
       "      <td>69</td>\n",
       "      <td>N</td>\n",
       "      <td>NaN</td>\n",
       "      <td>5</td>\n",
       "      <td>May</td>\n",
       "      <td>67</td>\n",
       "    </tr>\n",
       "    <tr>\n",
       "      <th>1324522</th>\n",
       "      <td>1308540</td>\n",
       "      <td>2018-06-28</td>\n",
       "      <td>2017-09-16</td>\n",
       "      <td>KFC</td>\n",
       "      <td>1</td>\n",
       "      <td>02 - PARTICULARES</td>\n",
       "      <td>0</td>\n",
       "      <td>0</td>\n",
       "      <td>0</td>\n",
       "      <td>0</td>\n",
       "      <td>0</td>\n",
       "      <td>0</td>\n",
       "      <td>0</td>\n",
       "      <td>0</td>\n",
       "      <td>0.000</td>\n",
       "      <td>0.000</td>\n",
       "      <td>0</td>\n",
       "      <td>0</td>\n",
       "      <td>0</td>\n",
       "      <td>0</td>\n",
       "      <td>1</td>\n",
       "      <td>ES</td>\n",
       "      <td>16.000</td>\n",
       "      <td>V</td>\n",
       "      <td>21</td>\n",
       "      <td>N</td>\n",
       "      <td>116,896.110</td>\n",
       "      <td>6</td>\n",
       "      <td>June</td>\n",
       "      <td>61</td>\n",
       "    </tr>\n",
       "    <tr>\n",
       "      <th>1705495</th>\n",
       "      <td>1308540</td>\n",
       "      <td>2018-07-28</td>\n",
       "      <td>2017-09-16</td>\n",
       "      <td>KFC</td>\n",
       "      <td>1</td>\n",
       "      <td>02 - PARTICULARES</td>\n",
       "      <td>0</td>\n",
       "      <td>0</td>\n",
       "      <td>0</td>\n",
       "      <td>0</td>\n",
       "      <td>0</td>\n",
       "      <td>1</td>\n",
       "      <td>0</td>\n",
       "      <td>0</td>\n",
       "      <td>0.000</td>\n",
       "      <td>0.000</td>\n",
       "      <td>0</td>\n",
       "      <td>0</td>\n",
       "      <td>0</td>\n",
       "      <td>0</td>\n",
       "      <td>1</td>\n",
       "      <td>ES</td>\n",
       "      <td>16.000</td>\n",
       "      <td>V</td>\n",
       "      <td>21</td>\n",
       "      <td>N</td>\n",
       "      <td>116,896.110</td>\n",
       "      <td>7</td>\n",
       "      <td>July</td>\n",
       "      <td>61</td>\n",
       "    </tr>\n",
       "    <tr>\n",
       "      <th>1843994</th>\n",
       "      <td>1308540</td>\n",
       "      <td>2018-08-28</td>\n",
       "      <td>2017-09-16</td>\n",
       "      <td>KFC</td>\n",
       "      <td>1</td>\n",
       "      <td>02 - PARTICULARES</td>\n",
       "      <td>0</td>\n",
       "      <td>0</td>\n",
       "      <td>0</td>\n",
       "      <td>0</td>\n",
       "      <td>0</td>\n",
       "      <td>1</td>\n",
       "      <td>0</td>\n",
       "      <td>0</td>\n",
       "      <td>0.000</td>\n",
       "      <td>0.000</td>\n",
       "      <td>0</td>\n",
       "      <td>0</td>\n",
       "      <td>0</td>\n",
       "      <td>0</td>\n",
       "      <td>1</td>\n",
       "      <td>ES</td>\n",
       "      <td>16.000</td>\n",
       "      <td>V</td>\n",
       "      <td>21</td>\n",
       "      <td>N</td>\n",
       "      <td>116,896.110</td>\n",
       "      <td>8</td>\n",
       "      <td>August</td>\n",
       "      <td>61</td>\n",
       "    </tr>\n",
       "    <tr>\n",
       "      <th>2285397</th>\n",
       "      <td>1308540</td>\n",
       "      <td>2018-09-28</td>\n",
       "      <td>2017-09-16</td>\n",
       "      <td>KFC</td>\n",
       "      <td>1</td>\n",
       "      <td>02 - PARTICULARES</td>\n",
       "      <td>0</td>\n",
       "      <td>0</td>\n",
       "      <td>0</td>\n",
       "      <td>0</td>\n",
       "      <td>0</td>\n",
       "      <td>1</td>\n",
       "      <td>0</td>\n",
       "      <td>0</td>\n",
       "      <td>0.000</td>\n",
       "      <td>0.000</td>\n",
       "      <td>0</td>\n",
       "      <td>0</td>\n",
       "      <td>0</td>\n",
       "      <td>0</td>\n",
       "      <td>1</td>\n",
       "      <td>ES</td>\n",
       "      <td>16.000</td>\n",
       "      <td>V</td>\n",
       "      <td>81</td>\n",
       "      <td>N</td>\n",
       "      <td>116,896.110</td>\n",
       "      <td>9</td>\n",
       "      <td>September</td>\n",
       "      <td>61</td>\n",
       "    </tr>\n",
       "    <tr>\n",
       "      <th>2914975</th>\n",
       "      <td>1308540</td>\n",
       "      <td>2018-10-28</td>\n",
       "      <td>2017-09-16</td>\n",
       "      <td>KFC</td>\n",
       "      <td>1</td>\n",
       "      <td>02 - PARTICULARES</td>\n",
       "      <td>0</td>\n",
       "      <td>0</td>\n",
       "      <td>0</td>\n",
       "      <td>0</td>\n",
       "      <td>0</td>\n",
       "      <td>1</td>\n",
       "      <td>0</td>\n",
       "      <td>0</td>\n",
       "      <td>0.000</td>\n",
       "      <td>0.000</td>\n",
       "      <td>0</td>\n",
       "      <td>0</td>\n",
       "      <td>0</td>\n",
       "      <td>0</td>\n",
       "      <td>1</td>\n",
       "      <td>ES</td>\n",
       "      <td>16.000</td>\n",
       "      <td>V</td>\n",
       "      <td>81</td>\n",
       "      <td>N</td>\n",
       "      <td>116,896.110</td>\n",
       "      <td>10</td>\n",
       "      <td>October</td>\n",
       "      <td>61</td>\n",
       "    </tr>\n",
       "    <tr>\n",
       "      <th>3211564</th>\n",
       "      <td>1308540</td>\n",
       "      <td>2018-11-28</td>\n",
       "      <td>2017-09-16</td>\n",
       "      <td>KFC</td>\n",
       "      <td>1</td>\n",
       "      <td>02 - PARTICULARES</td>\n",
       "      <td>0</td>\n",
       "      <td>0</td>\n",
       "      <td>0</td>\n",
       "      <td>0</td>\n",
       "      <td>0</td>\n",
       "      <td>1</td>\n",
       "      <td>0</td>\n",
       "      <td>0</td>\n",
       "      <td>0.000</td>\n",
       "      <td>0.000</td>\n",
       "      <td>0</td>\n",
       "      <td>0</td>\n",
       "      <td>0</td>\n",
       "      <td>0</td>\n",
       "      <td>1</td>\n",
       "      <td>ES</td>\n",
       "      <td>16.000</td>\n",
       "      <td>V</td>\n",
       "      <td>81</td>\n",
       "      <td>N</td>\n",
       "      <td>116,896.110</td>\n",
       "      <td>11</td>\n",
       "      <td>November</td>\n",
       "      <td>61</td>\n",
       "    </tr>\n",
       "    <tr>\n",
       "      <th>3492786</th>\n",
       "      <td>1308540</td>\n",
       "      <td>2018-12-28</td>\n",
       "      <td>2017-09-16</td>\n",
       "      <td>KFC</td>\n",
       "      <td>1</td>\n",
       "      <td>01 - TOP</td>\n",
       "      <td>0</td>\n",
       "      <td>0</td>\n",
       "      <td>0</td>\n",
       "      <td>0</td>\n",
       "      <td>0</td>\n",
       "      <td>1</td>\n",
       "      <td>0</td>\n",
       "      <td>0</td>\n",
       "      <td>0.000</td>\n",
       "      <td>0.000</td>\n",
       "      <td>0</td>\n",
       "      <td>0</td>\n",
       "      <td>0</td>\n",
       "      <td>0</td>\n",
       "      <td>1</td>\n",
       "      <td>ES</td>\n",
       "      <td>16.000</td>\n",
       "      <td>V</td>\n",
       "      <td>81</td>\n",
       "      <td>N</td>\n",
       "      <td>116,896.110</td>\n",
       "      <td>12</td>\n",
       "      <td>December</td>\n",
       "      <td>61</td>\n",
       "    </tr>\n",
       "    <tr>\n",
       "      <th>3895128</th>\n",
       "      <td>1308540</td>\n",
       "      <td>2019-01-28</td>\n",
       "      <td>2017-09-16</td>\n",
       "      <td>KFC</td>\n",
       "      <td>1</td>\n",
       "      <td>01 - TOP</td>\n",
       "      <td>0</td>\n",
       "      <td>0</td>\n",
       "      <td>0</td>\n",
       "      <td>0</td>\n",
       "      <td>0</td>\n",
       "      <td>1</td>\n",
       "      <td>0</td>\n",
       "      <td>0</td>\n",
       "      <td>0.000</td>\n",
       "      <td>0.000</td>\n",
       "      <td>0</td>\n",
       "      <td>0</td>\n",
       "      <td>0</td>\n",
       "      <td>0</td>\n",
       "      <td>1</td>\n",
       "      <td>ES</td>\n",
       "      <td>16.000</td>\n",
       "      <td>V</td>\n",
       "      <td>81</td>\n",
       "      <td>N</td>\n",
       "      <td>116,896.110</td>\n",
       "      <td>1</td>\n",
       "      <td>January</td>\n",
       "      <td>61</td>\n",
       "    </tr>\n",
       "    <tr>\n",
       "      <th>4244506</th>\n",
       "      <td>1308540</td>\n",
       "      <td>2019-02-28</td>\n",
       "      <td>2017-09-16</td>\n",
       "      <td>KFC</td>\n",
       "      <td>1</td>\n",
       "      <td>01 - TOP</td>\n",
       "      <td>0</td>\n",
       "      <td>0</td>\n",
       "      <td>0</td>\n",
       "      <td>0</td>\n",
       "      <td>0</td>\n",
       "      <td>1</td>\n",
       "      <td>0</td>\n",
       "      <td>0</td>\n",
       "      <td>0.000</td>\n",
       "      <td>0.000</td>\n",
       "      <td>0</td>\n",
       "      <td>0</td>\n",
       "      <td>0</td>\n",
       "      <td>0</td>\n",
       "      <td>1</td>\n",
       "      <td>ES</td>\n",
       "      <td>16.000</td>\n",
       "      <td>V</td>\n",
       "      <td>81</td>\n",
       "      <td>N</td>\n",
       "      <td>116,896.110</td>\n",
       "      <td>2</td>\n",
       "      <td>February</td>\n",
       "      <td>61</td>\n",
       "    </tr>\n",
       "    <tr>\n",
       "      <th>4782661</th>\n",
       "      <td>1308540</td>\n",
       "      <td>2019-03-28</td>\n",
       "      <td>2017-09-16</td>\n",
       "      <td>KFC</td>\n",
       "      <td>1</td>\n",
       "      <td>01 - TOP</td>\n",
       "      <td>0</td>\n",
       "      <td>0</td>\n",
       "      <td>0</td>\n",
       "      <td>0</td>\n",
       "      <td>0</td>\n",
       "      <td>1</td>\n",
       "      <td>0</td>\n",
       "      <td>0</td>\n",
       "      <td>0.000</td>\n",
       "      <td>0.000</td>\n",
       "      <td>0</td>\n",
       "      <td>0</td>\n",
       "      <td>0</td>\n",
       "      <td>0</td>\n",
       "      <td>1</td>\n",
       "      <td>ES</td>\n",
       "      <td>16.000</td>\n",
       "      <td>V</td>\n",
       "      <td>81</td>\n",
       "      <td>N</td>\n",
       "      <td>116,896.110</td>\n",
       "      <td>3</td>\n",
       "      <td>March</td>\n",
       "      <td>61</td>\n",
       "    </tr>\n",
       "    <tr>\n",
       "      <th>5509376</th>\n",
       "      <td>1308540</td>\n",
       "      <td>2019-04-28</td>\n",
       "      <td>2017-09-16</td>\n",
       "      <td>KFC</td>\n",
       "      <td>1</td>\n",
       "      <td>01 - TOP</td>\n",
       "      <td>0</td>\n",
       "      <td>0</td>\n",
       "      <td>0</td>\n",
       "      <td>0</td>\n",
       "      <td>0</td>\n",
       "      <td>1</td>\n",
       "      <td>0</td>\n",
       "      <td>0</td>\n",
       "      <td>0.000</td>\n",
       "      <td>0.000</td>\n",
       "      <td>0</td>\n",
       "      <td>0</td>\n",
       "      <td>0</td>\n",
       "      <td>0</td>\n",
       "      <td>1</td>\n",
       "      <td>ES</td>\n",
       "      <td>16.000</td>\n",
       "      <td>V</td>\n",
       "      <td>82</td>\n",
       "      <td>N</td>\n",
       "      <td>116,896.110</td>\n",
       "      <td>4</td>\n",
       "      <td>April</td>\n",
       "      <td>61</td>\n",
       "    </tr>\n",
       "    <tr>\n",
       "      <th>5626998</th>\n",
       "      <td>1308540</td>\n",
       "      <td>2019-05-28</td>\n",
       "      <td>2017-09-16</td>\n",
       "      <td>KFC</td>\n",
       "      <td>1</td>\n",
       "      <td>01 - TOP</td>\n",
       "      <td>0</td>\n",
       "      <td>0</td>\n",
       "      <td>0</td>\n",
       "      <td>0</td>\n",
       "      <td>0</td>\n",
       "      <td>1</td>\n",
       "      <td>0</td>\n",
       "      <td>0</td>\n",
       "      <td>0.000</td>\n",
       "      <td>0.000</td>\n",
       "      <td>0</td>\n",
       "      <td>0</td>\n",
       "      <td>0</td>\n",
       "      <td>0</td>\n",
       "      <td>1</td>\n",
       "      <td>ES</td>\n",
       "      <td>16.000</td>\n",
       "      <td>V</td>\n",
       "      <td>82</td>\n",
       "      <td>N</td>\n",
       "      <td>116,896.110</td>\n",
       "      <td>5</td>\n",
       "      <td>May</td>\n",
       "      <td>61</td>\n",
       "    </tr>\n",
       "    <tr>\n",
       "      <th>2789487</th>\n",
       "      <td>1490808</td>\n",
       "      <td>2018-10-28</td>\n",
       "      <td>2018-10-26</td>\n",
       "      <td>NaN</td>\n",
       "      <td>0</td>\n",
       "      <td>NaN</td>\n",
       "      <td>0</td>\n",
       "      <td>0</td>\n",
       "      <td>0</td>\n",
       "      <td>0</td>\n",
       "      <td>0</td>\n",
       "      <td>0</td>\n",
       "      <td>0</td>\n",
       "      <td>0</td>\n",
       "      <td>0.000</td>\n",
       "      <td>0.000</td>\n",
       "      <td>0</td>\n",
       "      <td>0</td>\n",
       "      <td>0</td>\n",
       "      <td>0</td>\n",
       "      <td>0</td>\n",
       "      <td>ES</td>\n",
       "      <td>1.000</td>\n",
       "      <td>H</td>\n",
       "      <td>20</td>\n",
       "      <td>N</td>\n",
       "      <td>NaN</td>\n",
       "      <td>10</td>\n",
       "      <td>October</td>\n",
       "      <td>63</td>\n",
       "    </tr>\n",
       "    <tr>\n",
       "      <th>2980287</th>\n",
       "      <td>1490808</td>\n",
       "      <td>2018-11-28</td>\n",
       "      <td>2018-10-26</td>\n",
       "      <td>KHM</td>\n",
       "      <td>1</td>\n",
       "      <td>02 - PARTICULARES</td>\n",
       "      <td>0</td>\n",
       "      <td>0</td>\n",
       "      <td>0</td>\n",
       "      <td>0</td>\n",
       "      <td>0</td>\n",
       "      <td>0</td>\n",
       "      <td>0</td>\n",
       "      <td>0</td>\n",
       "      <td>0.000</td>\n",
       "      <td>0.000</td>\n",
       "      <td>0</td>\n",
       "      <td>0</td>\n",
       "      <td>0</td>\n",
       "      <td>0</td>\n",
       "      <td>1</td>\n",
       "      <td>ES</td>\n",
       "      <td>1.000</td>\n",
       "      <td>H</td>\n",
       "      <td>20</td>\n",
       "      <td>N</td>\n",
       "      <td>NaN</td>\n",
       "      <td>11</td>\n",
       "      <td>November</td>\n",
       "      <td>63</td>\n",
       "    </tr>\n",
       "    <tr>\n",
       "      <th>3706992</th>\n",
       "      <td>1490808</td>\n",
       "      <td>2018-12-28</td>\n",
       "      <td>2018-10-26</td>\n",
       "      <td>KHM</td>\n",
       "      <td>1</td>\n",
       "      <td>02 - PARTICULARES</td>\n",
       "      <td>0</td>\n",
       "      <td>0</td>\n",
       "      <td>0</td>\n",
       "      <td>0</td>\n",
       "      <td>0</td>\n",
       "      <td>0</td>\n",
       "      <td>0</td>\n",
       "      <td>0</td>\n",
       "      <td>0.000</td>\n",
       "      <td>0.000</td>\n",
       "      <td>0</td>\n",
       "      <td>0</td>\n",
       "      <td>0</td>\n",
       "      <td>0</td>\n",
       "      <td>1</td>\n",
       "      <td>ES</td>\n",
       "      <td>1.000</td>\n",
       "      <td>H</td>\n",
       "      <td>82</td>\n",
       "      <td>N</td>\n",
       "      <td>NaN</td>\n",
       "      <td>12</td>\n",
       "      <td>December</td>\n",
       "      <td>63</td>\n",
       "    </tr>\n",
       "    <tr>\n",
       "      <th>3864721</th>\n",
       "      <td>1490808</td>\n",
       "      <td>2019-01-28</td>\n",
       "      <td>2018-10-26</td>\n",
       "      <td>KHM</td>\n",
       "      <td>1</td>\n",
       "      <td>02 - PARTICULARES</td>\n",
       "      <td>0</td>\n",
       "      <td>0</td>\n",
       "      <td>0</td>\n",
       "      <td>0</td>\n",
       "      <td>0</td>\n",
       "      <td>0</td>\n",
       "      <td>0</td>\n",
       "      <td>0</td>\n",
       "      <td>0.000</td>\n",
       "      <td>0.000</td>\n",
       "      <td>0</td>\n",
       "      <td>0</td>\n",
       "      <td>0</td>\n",
       "      <td>0</td>\n",
       "      <td>1</td>\n",
       "      <td>ES</td>\n",
       "      <td>1.000</td>\n",
       "      <td>H</td>\n",
       "      <td>82</td>\n",
       "      <td>N</td>\n",
       "      <td>NaN</td>\n",
       "      <td>1</td>\n",
       "      <td>January</td>\n",
       "      <td>63</td>\n",
       "    </tr>\n",
       "    <tr>\n",
       "      <th>4355379</th>\n",
       "      <td>1490808</td>\n",
       "      <td>2019-02-28</td>\n",
       "      <td>2018-10-26</td>\n",
       "      <td>KHM</td>\n",
       "      <td>0</td>\n",
       "      <td>02 - PARTICULARES</td>\n",
       "      <td>0</td>\n",
       "      <td>0</td>\n",
       "      <td>0</td>\n",
       "      <td>0</td>\n",
       "      <td>0</td>\n",
       "      <td>0</td>\n",
       "      <td>0</td>\n",
       "      <td>0</td>\n",
       "      <td>0.000</td>\n",
       "      <td>0.000</td>\n",
       "      <td>0</td>\n",
       "      <td>0</td>\n",
       "      <td>0</td>\n",
       "      <td>0</td>\n",
       "      <td>0</td>\n",
       "      <td>ES</td>\n",
       "      <td>1.000</td>\n",
       "      <td>H</td>\n",
       "      <td>82</td>\n",
       "      <td>N</td>\n",
       "      <td>NaN</td>\n",
       "      <td>2</td>\n",
       "      <td>February</td>\n",
       "      <td>63</td>\n",
       "    </tr>\n",
       "    <tr>\n",
       "      <th>4745861</th>\n",
       "      <td>1490808</td>\n",
       "      <td>2019-03-28</td>\n",
       "      <td>2018-10-26</td>\n",
       "      <td>KHM</td>\n",
       "      <td>0</td>\n",
       "      <td>02 - PARTICULARES</td>\n",
       "      <td>0</td>\n",
       "      <td>0</td>\n",
       "      <td>0</td>\n",
       "      <td>0</td>\n",
       "      <td>0</td>\n",
       "      <td>0</td>\n",
       "      <td>0</td>\n",
       "      <td>0</td>\n",
       "      <td>0.000</td>\n",
       "      <td>0.000</td>\n",
       "      <td>0</td>\n",
       "      <td>0</td>\n",
       "      <td>0</td>\n",
       "      <td>0</td>\n",
       "      <td>0</td>\n",
       "      <td>ES</td>\n",
       "      <td>1.000</td>\n",
       "      <td>H</td>\n",
       "      <td>83</td>\n",
       "      <td>N</td>\n",
       "      <td>NaN</td>\n",
       "      <td>3</td>\n",
       "      <td>March</td>\n",
       "      <td>63</td>\n",
       "    </tr>\n",
       "    <tr>\n",
       "      <th>5115500</th>\n",
       "      <td>1490808</td>\n",
       "      <td>2019-04-28</td>\n",
       "      <td>2018-10-26</td>\n",
       "      <td>KHM</td>\n",
       "      <td>0</td>\n",
       "      <td>02 - PARTICULARES</td>\n",
       "      <td>0</td>\n",
       "      <td>0</td>\n",
       "      <td>0</td>\n",
       "      <td>0</td>\n",
       "      <td>0</td>\n",
       "      <td>0</td>\n",
       "      <td>0</td>\n",
       "      <td>0</td>\n",
       "      <td>0.000</td>\n",
       "      <td>0.000</td>\n",
       "      <td>0</td>\n",
       "      <td>0</td>\n",
       "      <td>0</td>\n",
       "      <td>0</td>\n",
       "      <td>0</td>\n",
       "      <td>ES</td>\n",
       "      <td>1.000</td>\n",
       "      <td>H</td>\n",
       "      <td>83</td>\n",
       "      <td>N</td>\n",
       "      <td>NaN</td>\n",
       "      <td>4</td>\n",
       "      <td>April</td>\n",
       "      <td>63</td>\n",
       "    </tr>\n",
       "    <tr>\n",
       "      <th>5667106</th>\n",
       "      <td>1490808</td>\n",
       "      <td>2019-05-28</td>\n",
       "      <td>2018-10-26</td>\n",
       "      <td>KHM</td>\n",
       "      <td>0</td>\n",
       "      <td>02 - PARTICULARES</td>\n",
       "      <td>0</td>\n",
       "      <td>0</td>\n",
       "      <td>0</td>\n",
       "      <td>0</td>\n",
       "      <td>0</td>\n",
       "      <td>0</td>\n",
       "      <td>0</td>\n",
       "      <td>0</td>\n",
       "      <td>0.000</td>\n",
       "      <td>0.000</td>\n",
       "      <td>0</td>\n",
       "      <td>0</td>\n",
       "      <td>0</td>\n",
       "      <td>0</td>\n",
       "      <td>0</td>\n",
       "      <td>ES</td>\n",
       "      <td>1.000</td>\n",
       "      <td>H</td>\n",
       "      <td>83</td>\n",
       "      <td>N</td>\n",
       "      <td>NaN</td>\n",
       "      <td>5</td>\n",
       "      <td>May</td>\n",
       "      <td>63</td>\n",
       "    </tr>\n",
       "  </tbody>\n",
       "</table>\n",
       "</div>"
      ],
      "text/plain": [
       "          pk_cid pk_partition entry_date entry_channel  active_customer  \\\n",
       "2169124   539069   2018-09-28 2018-09-21           NaN                1   \n",
       "2945655   539069   2018-10-28 2018-09-21           KHM                1   \n",
       "2955191   539069   2018-11-28 2018-09-21           KHM                1   \n",
       "3630152   539069   2018-12-28 2018-09-21           KHM                1   \n",
       "4102655   539069   2019-01-28 2018-09-21           KHM                1   \n",
       "4479766   539069   2019-02-28 2018-09-21           KHM                1   \n",
       "4886596   539069   2019-03-28 2018-09-21           KHM                1   \n",
       "5080982   539069   2019-04-28 2018-09-21           KHM                1   \n",
       "5520571   539069   2019-05-28 2018-09-21           KHM                1   \n",
       "1324522  1308540   2018-06-28 2017-09-16           KFC                1   \n",
       "1705495  1308540   2018-07-28 2017-09-16           KFC                1   \n",
       "1843994  1308540   2018-08-28 2017-09-16           KFC                1   \n",
       "2285397  1308540   2018-09-28 2017-09-16           KFC                1   \n",
       "2914975  1308540   2018-10-28 2017-09-16           KFC                1   \n",
       "3211564  1308540   2018-11-28 2017-09-16           KFC                1   \n",
       "3492786  1308540   2018-12-28 2017-09-16           KFC                1   \n",
       "3895128  1308540   2019-01-28 2017-09-16           KFC                1   \n",
       "4244506  1308540   2019-02-28 2017-09-16           KFC                1   \n",
       "4782661  1308540   2019-03-28 2017-09-16           KFC                1   \n",
       "5509376  1308540   2019-04-28 2017-09-16           KFC                1   \n",
       "5626998  1308540   2019-05-28 2017-09-16           KFC                1   \n",
       "2789487  1490808   2018-10-28 2018-10-26           NaN                0   \n",
       "2980287  1490808   2018-11-28 2018-10-26           KHM                1   \n",
       "3706992  1490808   2018-12-28 2018-10-26           KHM                1   \n",
       "3864721  1490808   2019-01-28 2018-10-26           KHM                1   \n",
       "4355379  1490808   2019-02-28 2018-10-26           KHM                0   \n",
       "4745861  1490808   2019-03-28 2018-10-26           KHM                0   \n",
       "5115500  1490808   2019-04-28 2018-10-26           KHM                0   \n",
       "5667106  1490808   2019-05-28 2018-10-26           KHM                0   \n",
       "\n",
       "                   segment  short_term_deposit  loans  mortgage  funds  \\\n",
       "2169124                NaN                   0      0         0      0   \n",
       "2945655  02 - PARTICULARES                   0      0         0      0   \n",
       "2955191  02 - PARTICULARES                   0      0         0      0   \n",
       "3630152  02 - PARTICULARES                   0      0         0      0   \n",
       "4102655  02 - PARTICULARES                   0      0         0      0   \n",
       "4479766  02 - PARTICULARES                   0      0         0      0   \n",
       "4886596  02 - PARTICULARES                   0      0         0      0   \n",
       "5080982  02 - PARTICULARES                   0      0         0      0   \n",
       "5520571  02 - PARTICULARES                   0      0         0      0   \n",
       "1324522  02 - PARTICULARES                   0      0         0      0   \n",
       "1705495  02 - PARTICULARES                   0      0         0      0   \n",
       "1843994  02 - PARTICULARES                   0      0         0      0   \n",
       "2285397  02 - PARTICULARES                   0      0         0      0   \n",
       "2914975  02 - PARTICULARES                   0      0         0      0   \n",
       "3211564  02 - PARTICULARES                   0      0         0      0   \n",
       "3492786           01 - TOP                   0      0         0      0   \n",
       "3895128           01 - TOP                   0      0         0      0   \n",
       "4244506           01 - TOP                   0      0         0      0   \n",
       "4782661           01 - TOP                   0      0         0      0   \n",
       "5509376           01 - TOP                   0      0         0      0   \n",
       "5626998           01 - TOP                   0      0         0      0   \n",
       "2789487                NaN                   0      0         0      0   \n",
       "2980287  02 - PARTICULARES                   0      0         0      0   \n",
       "3706992  02 - PARTICULARES                   0      0         0      0   \n",
       "3864721  02 - PARTICULARES                   0      0         0      0   \n",
       "4355379  02 - PARTICULARES                   0      0         0      0   \n",
       "4745861  02 - PARTICULARES                   0      0         0      0   \n",
       "5115500  02 - PARTICULARES                   0      0         0      0   \n",
       "5667106  02 - PARTICULARES                   0      0         0      0   \n",
       "\n",
       "         securities  long_term_deposit  em_account_pp  credit_card  payroll  \\\n",
       "2169124           0                  0              0            0    0.000   \n",
       "2945655           0                  0              0            0    0.000   \n",
       "2955191           0                  0              0            0    0.000   \n",
       "3630152           0                  0              0            0    0.000   \n",
       "4102655           0                  0              0            0    0.000   \n",
       "4479766           0                  0              0            0    0.000   \n",
       "4886596           0                  0              0            0    0.000   \n",
       "5080982           0                  0              0            0    0.000   \n",
       "5520571           0                  0              0            0    0.000   \n",
       "1324522           0                  0              0            0    0.000   \n",
       "1705495           0                  1              0            0    0.000   \n",
       "1843994           0                  1              0            0    0.000   \n",
       "2285397           0                  1              0            0    0.000   \n",
       "2914975           0                  1              0            0    0.000   \n",
       "3211564           0                  1              0            0    0.000   \n",
       "3492786           0                  1              0            0    0.000   \n",
       "3895128           0                  1              0            0    0.000   \n",
       "4244506           0                  1              0            0    0.000   \n",
       "4782661           0                  1              0            0    0.000   \n",
       "5509376           0                  1              0            0    0.000   \n",
       "5626998           0                  1              0            0    0.000   \n",
       "2789487           0                  0              0            0    0.000   \n",
       "2980287           0                  0              0            0    0.000   \n",
       "3706992           0                  0              0            0    0.000   \n",
       "3864721           0                  0              0            0    0.000   \n",
       "4355379           0                  0              0            0    0.000   \n",
       "4745861           0                  0              0            0    0.000   \n",
       "5115500           0                  0              0            0    0.000   \n",
       "5667106           0                  0              0            0    0.000   \n",
       "\n",
       "         pension_plan  payroll_account  emc_account  debit_card  em_account_p  \\\n",
       "2169124         0.000                0            0           0             0   \n",
       "2945655         0.000                0            0           0             0   \n",
       "2955191         0.000                0            0           1             0   \n",
       "3630152         0.000                0            0           0             0   \n",
       "4102655         0.000                0            0           1             0   \n",
       "4479766         0.000                0            0           1             0   \n",
       "4886596         0.000                0            0           0             0   \n",
       "5080982         0.000                0            0           0             0   \n",
       "5520571         0.000                0            0           1             0   \n",
       "1324522         0.000                0            0           0             0   \n",
       "1705495         0.000                0            0           0             0   \n",
       "1843994         0.000                0            0           0             0   \n",
       "2285397         0.000                0            0           0             0   \n",
       "2914975         0.000                0            0           0             0   \n",
       "3211564         0.000                0            0           0             0   \n",
       "3492786         0.000                0            0           0             0   \n",
       "3895128         0.000                0            0           0             0   \n",
       "4244506         0.000                0            0           0             0   \n",
       "4782661         0.000                0            0           0             0   \n",
       "5509376         0.000                0            0           0             0   \n",
       "5626998         0.000                0            0           0             0   \n",
       "2789487         0.000                0            0           0             0   \n",
       "2980287         0.000                0            0           0             0   \n",
       "3706992         0.000                0            0           0             0   \n",
       "3864721         0.000                0            0           0             0   \n",
       "4355379         0.000                0            0           0             0   \n",
       "4745861         0.000                0            0           0             0   \n",
       "5115500         0.000                0            0           0             0   \n",
       "5667106         0.000                0            0           0             0   \n",
       "\n",
       "         em_acount country_id region_code gender  age deceased      salary  \\\n",
       "2169124          1         ES      46.000      V    2        N         NaN   \n",
       "2945655          1         ES      46.000      V    2        N         NaN   \n",
       "2955191          1         ES      46.000      V   69        N         NaN   \n",
       "3630152          1         ES      46.000      V   69        N         NaN   \n",
       "4102655          1         ES      46.000      V   69        N         NaN   \n",
       "4479766          1         ES      46.000      V   69        N         NaN   \n",
       "4886596          1         ES      46.000      V   69        N         NaN   \n",
       "5080982          1         ES      46.000      V   69        N         NaN   \n",
       "5520571          1         ES      46.000      V   69        N         NaN   \n",
       "1324522          1         ES      16.000      V   21        N 116,896.110   \n",
       "1705495          1         ES      16.000      V   21        N 116,896.110   \n",
       "1843994          1         ES      16.000      V   21        N 116,896.110   \n",
       "2285397          1         ES      16.000      V   81        N 116,896.110   \n",
       "2914975          1         ES      16.000      V   81        N 116,896.110   \n",
       "3211564          1         ES      16.000      V   81        N 116,896.110   \n",
       "3492786          1         ES      16.000      V   81        N 116,896.110   \n",
       "3895128          1         ES      16.000      V   81        N 116,896.110   \n",
       "4244506          1         ES      16.000      V   81        N 116,896.110   \n",
       "4782661          1         ES      16.000      V   81        N 116,896.110   \n",
       "5509376          1         ES      16.000      V   82        N 116,896.110   \n",
       "5626998          1         ES      16.000      V   82        N 116,896.110   \n",
       "2789487          0         ES       1.000      H   20        N         NaN   \n",
       "2980287          1         ES       1.000      H   20        N         NaN   \n",
       "3706992          1         ES       1.000      H   82        N         NaN   \n",
       "3864721          1         ES       1.000      H   82        N         NaN   \n",
       "4355379          0         ES       1.000      H   82        N         NaN   \n",
       "4745861          0         ES       1.000      H   83        N         NaN   \n",
       "5115500          0         ES       1.000      H   83        N         NaN   \n",
       "5667106          0         ES       1.000      H   83        N         NaN   \n",
       "\n",
       "         mes_partition mes_nombre_partition  dif_edad  \n",
       "2169124              9            September        67  \n",
       "2945655             10              October        67  \n",
       "2955191             11             November        67  \n",
       "3630152             12             December        67  \n",
       "4102655              1              January        67  \n",
       "4479766              2             February        67  \n",
       "4886596              3                March        67  \n",
       "5080982              4                April        67  \n",
       "5520571              5                  May        67  \n",
       "1324522              6                 June        61  \n",
       "1705495              7                 July        61  \n",
       "1843994              8               August        61  \n",
       "2285397              9            September        61  \n",
       "2914975             10              October        61  \n",
       "3211564             11             November        61  \n",
       "3492786             12             December        61  \n",
       "3895128              1              January        61  \n",
       "4244506              2             February        61  \n",
       "4782661              3                March        61  \n",
       "5509376              4                April        61  \n",
       "5626998              5                  May        61  \n",
       "2789487             10              October        63  \n",
       "2980287             11             November        63  \n",
       "3706992             12             December        63  \n",
       "3864721              1              January        63  \n",
       "4355379              2             February        63  \n",
       "4745861              3                March        63  \n",
       "5115500              4                April        63  \n",
       "5667106              5                  May        63  "
      ]
     },
     "execution_count": 271,
     "metadata": {},
     "output_type": "execute_result"
    }
   ],
   "source": [
    "df_edad_mixta[df_edad_mixta['dif_edad'] > 60]"
   ]
  },
  {
   "cell_type": "code",
   "execution_count": 272,
   "metadata": {},
   "outputs": [
    {
     "data": {
      "text/html": [
       "<div>\n",
       "<style scoped>\n",
       "    .dataframe tbody tr th:only-of-type {\n",
       "        vertical-align: middle;\n",
       "    }\n",
       "\n",
       "    .dataframe tbody tr th {\n",
       "        vertical-align: top;\n",
       "    }\n",
       "\n",
       "    .dataframe thead th {\n",
       "        text-align: right;\n",
       "    }\n",
       "</style>\n",
       "<table border=\"1\" class=\"dataframe\">\n",
       "  <thead>\n",
       "    <tr style=\"text-align: right;\">\n",
       "      <th></th>\n",
       "      <th>pk_cid</th>\n",
       "      <th>pk_partition</th>\n",
       "      <th>entry_date</th>\n",
       "      <th>entry_channel</th>\n",
       "      <th>active_customer</th>\n",
       "      <th>segment</th>\n",
       "      <th>short_term_deposit</th>\n",
       "      <th>loans</th>\n",
       "      <th>mortgage</th>\n",
       "      <th>funds</th>\n",
       "      <th>securities</th>\n",
       "      <th>long_term_deposit</th>\n",
       "      <th>em_account_pp</th>\n",
       "      <th>credit_card</th>\n",
       "      <th>payroll</th>\n",
       "      <th>pension_plan</th>\n",
       "      <th>payroll_account</th>\n",
       "      <th>emc_account</th>\n",
       "      <th>debit_card</th>\n",
       "      <th>em_account_p</th>\n",
       "      <th>em_acount</th>\n",
       "      <th>country_id</th>\n",
       "      <th>region_code</th>\n",
       "      <th>gender</th>\n",
       "      <th>age</th>\n",
       "      <th>deceased</th>\n",
       "      <th>salary</th>\n",
       "      <th>mes_partition</th>\n",
       "      <th>mes_nombre_partition</th>\n",
       "      <th>dif_edad</th>\n",
       "    </tr>\n",
       "  </thead>\n",
       "  <tbody>\n",
       "    <tr>\n",
       "      <th>1813962</th>\n",
       "      <td>1405875</td>\n",
       "      <td>2018-07-28</td>\n",
       "      <td>2018-07-13</td>\n",
       "      <td>NaN</td>\n",
       "      <td>1</td>\n",
       "      <td>NaN</td>\n",
       "      <td>0</td>\n",
       "      <td>0</td>\n",
       "      <td>0</td>\n",
       "      <td>0</td>\n",
       "      <td>0</td>\n",
       "      <td>0</td>\n",
       "      <td>0</td>\n",
       "      <td>0</td>\n",
       "      <td>0.000</td>\n",
       "      <td>0.000</td>\n",
       "      <td>0</td>\n",
       "      <td>0</td>\n",
       "      <td>0</td>\n",
       "      <td>0</td>\n",
       "      <td>1</td>\n",
       "      <td>ES</td>\n",
       "      <td>40.000</td>\n",
       "      <td>V</td>\n",
       "      <td>20</td>\n",
       "      <td>N</td>\n",
       "      <td>116,051.580</td>\n",
       "      <td>7</td>\n",
       "      <td>July</td>\n",
       "      <td>5</td>\n",
       "    </tr>\n",
       "    <tr>\n",
       "      <th>1929750</th>\n",
       "      <td>1405875</td>\n",
       "      <td>2018-08-28</td>\n",
       "      <td>2018-07-13</td>\n",
       "      <td>KHM</td>\n",
       "      <td>1</td>\n",
       "      <td>03 - UNIVERSITARIO</td>\n",
       "      <td>0</td>\n",
       "      <td>0</td>\n",
       "      <td>0</td>\n",
       "      <td>0</td>\n",
       "      <td>0</td>\n",
       "      <td>0</td>\n",
       "      <td>0</td>\n",
       "      <td>0</td>\n",
       "      <td>0.000</td>\n",
       "      <td>0.000</td>\n",
       "      <td>0</td>\n",
       "      <td>0</td>\n",
       "      <td>0</td>\n",
       "      <td>0</td>\n",
       "      <td>1</td>\n",
       "      <td>ES</td>\n",
       "      <td>40.000</td>\n",
       "      <td>V</td>\n",
       "      <td>24</td>\n",
       "      <td>N</td>\n",
       "      <td>116,051.580</td>\n",
       "      <td>8</td>\n",
       "      <td>August</td>\n",
       "      <td>5</td>\n",
       "    </tr>\n",
       "    <tr>\n",
       "      <th>2466761</th>\n",
       "      <td>1405875</td>\n",
       "      <td>2018-09-28</td>\n",
       "      <td>2018-07-13</td>\n",
       "      <td>KHM</td>\n",
       "      <td>0</td>\n",
       "      <td>03 - UNIVERSITARIO</td>\n",
       "      <td>0</td>\n",
       "      <td>0</td>\n",
       "      <td>0</td>\n",
       "      <td>0</td>\n",
       "      <td>0</td>\n",
       "      <td>0</td>\n",
       "      <td>0</td>\n",
       "      <td>0</td>\n",
       "      <td>0.000</td>\n",
       "      <td>0.000</td>\n",
       "      <td>0</td>\n",
       "      <td>0</td>\n",
       "      <td>0</td>\n",
       "      <td>0</td>\n",
       "      <td>1</td>\n",
       "      <td>ES</td>\n",
       "      <td>40.000</td>\n",
       "      <td>V</td>\n",
       "      <td>24</td>\n",
       "      <td>N</td>\n",
       "      <td>116,051.580</td>\n",
       "      <td>9</td>\n",
       "      <td>September</td>\n",
       "      <td>5</td>\n",
       "    </tr>\n",
       "    <tr>\n",
       "      <th>2733258</th>\n",
       "      <td>1405875</td>\n",
       "      <td>2018-10-28</td>\n",
       "      <td>2018-07-13</td>\n",
       "      <td>KHM</td>\n",
       "      <td>0</td>\n",
       "      <td>03 - UNIVERSITARIO</td>\n",
       "      <td>0</td>\n",
       "      <td>0</td>\n",
       "      <td>0</td>\n",
       "      <td>0</td>\n",
       "      <td>0</td>\n",
       "      <td>0</td>\n",
       "      <td>0</td>\n",
       "      <td>0</td>\n",
       "      <td>0.000</td>\n",
       "      <td>0.000</td>\n",
       "      <td>0</td>\n",
       "      <td>0</td>\n",
       "      <td>0</td>\n",
       "      <td>0</td>\n",
       "      <td>1</td>\n",
       "      <td>ES</td>\n",
       "      <td>40.000</td>\n",
       "      <td>V</td>\n",
       "      <td>24</td>\n",
       "      <td>N</td>\n",
       "      <td>116,051.580</td>\n",
       "      <td>10</td>\n",
       "      <td>October</td>\n",
       "      <td>5</td>\n",
       "    </tr>\n",
       "    <tr>\n",
       "      <th>3177827</th>\n",
       "      <td>1405875</td>\n",
       "      <td>2018-11-28</td>\n",
       "      <td>2018-07-13</td>\n",
       "      <td>KHM</td>\n",
       "      <td>0</td>\n",
       "      <td>03 - UNIVERSITARIO</td>\n",
       "      <td>0</td>\n",
       "      <td>0</td>\n",
       "      <td>0</td>\n",
       "      <td>0</td>\n",
       "      <td>0</td>\n",
       "      <td>0</td>\n",
       "      <td>0</td>\n",
       "      <td>0</td>\n",
       "      <td>0.000</td>\n",
       "      <td>0.000</td>\n",
       "      <td>0</td>\n",
       "      <td>0</td>\n",
       "      <td>0</td>\n",
       "      <td>0</td>\n",
       "      <td>1</td>\n",
       "      <td>ES</td>\n",
       "      <td>40.000</td>\n",
       "      <td>V</td>\n",
       "      <td>25</td>\n",
       "      <td>N</td>\n",
       "      <td>116,051.580</td>\n",
       "      <td>11</td>\n",
       "      <td>November</td>\n",
       "      <td>5</td>\n",
       "    </tr>\n",
       "    <tr>\n",
       "      <th>3776945</th>\n",
       "      <td>1405875</td>\n",
       "      <td>2018-12-28</td>\n",
       "      <td>2018-07-13</td>\n",
       "      <td>KHM</td>\n",
       "      <td>0</td>\n",
       "      <td>03 - UNIVERSITARIO</td>\n",
       "      <td>0</td>\n",
       "      <td>0</td>\n",
       "      <td>0</td>\n",
       "      <td>0</td>\n",
       "      <td>0</td>\n",
       "      <td>0</td>\n",
       "      <td>0</td>\n",
       "      <td>0</td>\n",
       "      <td>0.000</td>\n",
       "      <td>0.000</td>\n",
       "      <td>0</td>\n",
       "      <td>0</td>\n",
       "      <td>0</td>\n",
       "      <td>0</td>\n",
       "      <td>1</td>\n",
       "      <td>ES</td>\n",
       "      <td>40.000</td>\n",
       "      <td>V</td>\n",
       "      <td>25</td>\n",
       "      <td>N</td>\n",
       "      <td>116,051.580</td>\n",
       "      <td>12</td>\n",
       "      <td>December</td>\n",
       "      <td>5</td>\n",
       "    </tr>\n",
       "    <tr>\n",
       "      <th>3959819</th>\n",
       "      <td>1405875</td>\n",
       "      <td>2019-01-28</td>\n",
       "      <td>2018-07-13</td>\n",
       "      <td>KHM</td>\n",
       "      <td>0</td>\n",
       "      <td>03 - UNIVERSITARIO</td>\n",
       "      <td>0</td>\n",
       "      <td>0</td>\n",
       "      <td>0</td>\n",
       "      <td>0</td>\n",
       "      <td>0</td>\n",
       "      <td>0</td>\n",
       "      <td>0</td>\n",
       "      <td>0</td>\n",
       "      <td>0.000</td>\n",
       "      <td>0.000</td>\n",
       "      <td>0</td>\n",
       "      <td>0</td>\n",
       "      <td>0</td>\n",
       "      <td>0</td>\n",
       "      <td>1</td>\n",
       "      <td>ES</td>\n",
       "      <td>40.000</td>\n",
       "      <td>V</td>\n",
       "      <td>25</td>\n",
       "      <td>N</td>\n",
       "      <td>116,051.580</td>\n",
       "      <td>1</td>\n",
       "      <td>January</td>\n",
       "      <td>5</td>\n",
       "    </tr>\n",
       "    <tr>\n",
       "      <th>4415986</th>\n",
       "      <td>1405875</td>\n",
       "      <td>2019-02-28</td>\n",
       "      <td>2018-07-13</td>\n",
       "      <td>KHM</td>\n",
       "      <td>0</td>\n",
       "      <td>03 - UNIVERSITARIO</td>\n",
       "      <td>0</td>\n",
       "      <td>0</td>\n",
       "      <td>0</td>\n",
       "      <td>0</td>\n",
       "      <td>0</td>\n",
       "      <td>0</td>\n",
       "      <td>0</td>\n",
       "      <td>0</td>\n",
       "      <td>0.000</td>\n",
       "      <td>0.000</td>\n",
       "      <td>0</td>\n",
       "      <td>0</td>\n",
       "      <td>0</td>\n",
       "      <td>0</td>\n",
       "      <td>1</td>\n",
       "      <td>ES</td>\n",
       "      <td>40.000</td>\n",
       "      <td>V</td>\n",
       "      <td>25</td>\n",
       "      <td>N</td>\n",
       "      <td>116,051.580</td>\n",
       "      <td>2</td>\n",
       "      <td>February</td>\n",
       "      <td>5</td>\n",
       "    </tr>\n",
       "    <tr>\n",
       "      <th>4676045</th>\n",
       "      <td>1405875</td>\n",
       "      <td>2019-03-28</td>\n",
       "      <td>2018-07-13</td>\n",
       "      <td>KHM</td>\n",
       "      <td>0</td>\n",
       "      <td>03 - UNIVERSITARIO</td>\n",
       "      <td>0</td>\n",
       "      <td>0</td>\n",
       "      <td>0</td>\n",
       "      <td>0</td>\n",
       "      <td>0</td>\n",
       "      <td>0</td>\n",
       "      <td>0</td>\n",
       "      <td>0</td>\n",
       "      <td>0.000</td>\n",
       "      <td>0.000</td>\n",
       "      <td>0</td>\n",
       "      <td>0</td>\n",
       "      <td>0</td>\n",
       "      <td>0</td>\n",
       "      <td>1</td>\n",
       "      <td>ES</td>\n",
       "      <td>40.000</td>\n",
       "      <td>V</td>\n",
       "      <td>25</td>\n",
       "      <td>N</td>\n",
       "      <td>116,051.580</td>\n",
       "      <td>3</td>\n",
       "      <td>March</td>\n",
       "      <td>5</td>\n",
       "    </tr>\n",
       "    <tr>\n",
       "      <th>5315811</th>\n",
       "      <td>1405875</td>\n",
       "      <td>2019-04-28</td>\n",
       "      <td>2018-07-13</td>\n",
       "      <td>KHM</td>\n",
       "      <td>0</td>\n",
       "      <td>03 - UNIVERSITARIO</td>\n",
       "      <td>0</td>\n",
       "      <td>0</td>\n",
       "      <td>0</td>\n",
       "      <td>0</td>\n",
       "      <td>0</td>\n",
       "      <td>0</td>\n",
       "      <td>0</td>\n",
       "      <td>0</td>\n",
       "      <td>0.000</td>\n",
       "      <td>0.000</td>\n",
       "      <td>0</td>\n",
       "      <td>0</td>\n",
       "      <td>0</td>\n",
       "      <td>0</td>\n",
       "      <td>1</td>\n",
       "      <td>ES</td>\n",
       "      <td>40.000</td>\n",
       "      <td>V</td>\n",
       "      <td>25</td>\n",
       "      <td>N</td>\n",
       "      <td>116,051.580</td>\n",
       "      <td>4</td>\n",
       "      <td>April</td>\n",
       "      <td>5</td>\n",
       "    </tr>\n",
       "    <tr>\n",
       "      <th>5567609</th>\n",
       "      <td>1405875</td>\n",
       "      <td>2019-05-28</td>\n",
       "      <td>2018-07-13</td>\n",
       "      <td>KHM</td>\n",
       "      <td>0</td>\n",
       "      <td>03 - UNIVERSITARIO</td>\n",
       "      <td>0</td>\n",
       "      <td>0</td>\n",
       "      <td>0</td>\n",
       "      <td>0</td>\n",
       "      <td>0</td>\n",
       "      <td>0</td>\n",
       "      <td>0</td>\n",
       "      <td>0</td>\n",
       "      <td>0.000</td>\n",
       "      <td>0.000</td>\n",
       "      <td>0</td>\n",
       "      <td>0</td>\n",
       "      <td>0</td>\n",
       "      <td>0</td>\n",
       "      <td>1</td>\n",
       "      <td>ES</td>\n",
       "      <td>40.000</td>\n",
       "      <td>V</td>\n",
       "      <td>25</td>\n",
       "      <td>N</td>\n",
       "      <td>116,051.580</td>\n",
       "      <td>5</td>\n",
       "      <td>May</td>\n",
       "      <td>5</td>\n",
       "    </tr>\n",
       "    <tr>\n",
       "      <th>1947603</th>\n",
       "      <td>1429381</td>\n",
       "      <td>2018-08-28</td>\n",
       "      <td>2018-08-05</td>\n",
       "      <td>NaN</td>\n",
       "      <td>0</td>\n",
       "      <td>NaN</td>\n",
       "      <td>0</td>\n",
       "      <td>0</td>\n",
       "      <td>0</td>\n",
       "      <td>0</td>\n",
       "      <td>0</td>\n",
       "      <td>0</td>\n",
       "      <td>0</td>\n",
       "      <td>0</td>\n",
       "      <td>0.000</td>\n",
       "      <td>0.000</td>\n",
       "      <td>0</td>\n",
       "      <td>0</td>\n",
       "      <td>0</td>\n",
       "      <td>0</td>\n",
       "      <td>0</td>\n",
       "      <td>ES</td>\n",
       "      <td>4.000</td>\n",
       "      <td>H</td>\n",
       "      <td>20</td>\n",
       "      <td>N</td>\n",
       "      <td>81,564.120</td>\n",
       "      <td>8</td>\n",
       "      <td>August</td>\n",
       "      <td>5</td>\n",
       "    </tr>\n",
       "    <tr>\n",
       "      <th>2530703</th>\n",
       "      <td>1429381</td>\n",
       "      <td>2018-09-28</td>\n",
       "      <td>2018-08-05</td>\n",
       "      <td>KHM</td>\n",
       "      <td>0</td>\n",
       "      <td>03 - UNIVERSITARIO</td>\n",
       "      <td>0</td>\n",
       "      <td>0</td>\n",
       "      <td>0</td>\n",
       "      <td>0</td>\n",
       "      <td>0</td>\n",
       "      <td>0</td>\n",
       "      <td>0</td>\n",
       "      <td>0</td>\n",
       "      <td>0.000</td>\n",
       "      <td>0.000</td>\n",
       "      <td>0</td>\n",
       "      <td>0</td>\n",
       "      <td>0</td>\n",
       "      <td>0</td>\n",
       "      <td>0</td>\n",
       "      <td>ES</td>\n",
       "      <td>4.000</td>\n",
       "      <td>H</td>\n",
       "      <td>24</td>\n",
       "      <td>N</td>\n",
       "      <td>81,564.120</td>\n",
       "      <td>9</td>\n",
       "      <td>September</td>\n",
       "      <td>5</td>\n",
       "    </tr>\n",
       "    <tr>\n",
       "      <th>2734616</th>\n",
       "      <td>1429381</td>\n",
       "      <td>2018-10-28</td>\n",
       "      <td>2018-08-05</td>\n",
       "      <td>KHM</td>\n",
       "      <td>0</td>\n",
       "      <td>03 - UNIVERSITARIO</td>\n",
       "      <td>0</td>\n",
       "      <td>0</td>\n",
       "      <td>0</td>\n",
       "      <td>0</td>\n",
       "      <td>0</td>\n",
       "      <td>0</td>\n",
       "      <td>0</td>\n",
       "      <td>0</td>\n",
       "      <td>0.000</td>\n",
       "      <td>0.000</td>\n",
       "      <td>0</td>\n",
       "      <td>0</td>\n",
       "      <td>0</td>\n",
       "      <td>0</td>\n",
       "      <td>0</td>\n",
       "      <td>ES</td>\n",
       "      <td>4.000</td>\n",
       "      <td>H</td>\n",
       "      <td>24</td>\n",
       "      <td>N</td>\n",
       "      <td>81,564.120</td>\n",
       "      <td>10</td>\n",
       "      <td>October</td>\n",
       "      <td>5</td>\n",
       "    </tr>\n",
       "    <tr>\n",
       "      <th>2961404</th>\n",
       "      <td>1429381</td>\n",
       "      <td>2018-11-28</td>\n",
       "      <td>2018-08-05</td>\n",
       "      <td>KHM</td>\n",
       "      <td>0</td>\n",
       "      <td>03 - UNIVERSITARIO</td>\n",
       "      <td>0</td>\n",
       "      <td>0</td>\n",
       "      <td>0</td>\n",
       "      <td>0</td>\n",
       "      <td>0</td>\n",
       "      <td>0</td>\n",
       "      <td>0</td>\n",
       "      <td>0</td>\n",
       "      <td>0.000</td>\n",
       "      <td>0.000</td>\n",
       "      <td>0</td>\n",
       "      <td>0</td>\n",
       "      <td>0</td>\n",
       "      <td>0</td>\n",
       "      <td>0</td>\n",
       "      <td>ES</td>\n",
       "      <td>4.000</td>\n",
       "      <td>H</td>\n",
       "      <td>24</td>\n",
       "      <td>N</td>\n",
       "      <td>81,564.120</td>\n",
       "      <td>11</td>\n",
       "      <td>November</td>\n",
       "      <td>5</td>\n",
       "    </tr>\n",
       "    <tr>\n",
       "      <th>3757333</th>\n",
       "      <td>1429381</td>\n",
       "      <td>2018-12-28</td>\n",
       "      <td>2018-08-05</td>\n",
       "      <td>KHM</td>\n",
       "      <td>0</td>\n",
       "      <td>03 - UNIVERSITARIO</td>\n",
       "      <td>0</td>\n",
       "      <td>0</td>\n",
       "      <td>0</td>\n",
       "      <td>0</td>\n",
       "      <td>0</td>\n",
       "      <td>0</td>\n",
       "      <td>0</td>\n",
       "      <td>0</td>\n",
       "      <td>0.000</td>\n",
       "      <td>0.000</td>\n",
       "      <td>0</td>\n",
       "      <td>0</td>\n",
       "      <td>0</td>\n",
       "      <td>0</td>\n",
       "      <td>0</td>\n",
       "      <td>ES</td>\n",
       "      <td>4.000</td>\n",
       "      <td>H</td>\n",
       "      <td>24</td>\n",
       "      <td>N</td>\n",
       "      <td>81,564.120</td>\n",
       "      <td>12</td>\n",
       "      <td>December</td>\n",
       "      <td>5</td>\n",
       "    </tr>\n",
       "    <tr>\n",
       "      <th>3792607</th>\n",
       "      <td>1429381</td>\n",
       "      <td>2019-01-28</td>\n",
       "      <td>2018-08-05</td>\n",
       "      <td>KHM</td>\n",
       "      <td>0</td>\n",
       "      <td>03 - UNIVERSITARIO</td>\n",
       "      <td>0</td>\n",
       "      <td>0</td>\n",
       "      <td>0</td>\n",
       "      <td>0</td>\n",
       "      <td>0</td>\n",
       "      <td>0</td>\n",
       "      <td>0</td>\n",
       "      <td>0</td>\n",
       "      <td>0.000</td>\n",
       "      <td>0.000</td>\n",
       "      <td>0</td>\n",
       "      <td>0</td>\n",
       "      <td>0</td>\n",
       "      <td>0</td>\n",
       "      <td>0</td>\n",
       "      <td>ES</td>\n",
       "      <td>4.000</td>\n",
       "      <td>H</td>\n",
       "      <td>24</td>\n",
       "      <td>N</td>\n",
       "      <td>81,564.120</td>\n",
       "      <td>1</td>\n",
       "      <td>January</td>\n",
       "      <td>5</td>\n",
       "    </tr>\n",
       "    <tr>\n",
       "      <th>4474788</th>\n",
       "      <td>1429381</td>\n",
       "      <td>2019-02-28</td>\n",
       "      <td>2018-08-05</td>\n",
       "      <td>KHM</td>\n",
       "      <td>0</td>\n",
       "      <td>03 - UNIVERSITARIO</td>\n",
       "      <td>0</td>\n",
       "      <td>0</td>\n",
       "      <td>0</td>\n",
       "      <td>0</td>\n",
       "      <td>0</td>\n",
       "      <td>0</td>\n",
       "      <td>0</td>\n",
       "      <td>0</td>\n",
       "      <td>0.000</td>\n",
       "      <td>0.000</td>\n",
       "      <td>0</td>\n",
       "      <td>0</td>\n",
       "      <td>0</td>\n",
       "      <td>0</td>\n",
       "      <td>0</td>\n",
       "      <td>ES</td>\n",
       "      <td>4.000</td>\n",
       "      <td>H</td>\n",
       "      <td>25</td>\n",
       "      <td>N</td>\n",
       "      <td>81,564.120</td>\n",
       "      <td>2</td>\n",
       "      <td>February</td>\n",
       "      <td>5</td>\n",
       "    </tr>\n",
       "    <tr>\n",
       "      <th>4692861</th>\n",
       "      <td>1429381</td>\n",
       "      <td>2019-03-28</td>\n",
       "      <td>2018-08-05</td>\n",
       "      <td>KHM</td>\n",
       "      <td>0</td>\n",
       "      <td>03 - UNIVERSITARIO</td>\n",
       "      <td>0</td>\n",
       "      <td>0</td>\n",
       "      <td>0</td>\n",
       "      <td>0</td>\n",
       "      <td>0</td>\n",
       "      <td>0</td>\n",
       "      <td>0</td>\n",
       "      <td>0</td>\n",
       "      <td>0.000</td>\n",
       "      <td>0.000</td>\n",
       "      <td>0</td>\n",
       "      <td>0</td>\n",
       "      <td>0</td>\n",
       "      <td>0</td>\n",
       "      <td>0</td>\n",
       "      <td>ES</td>\n",
       "      <td>4.000</td>\n",
       "      <td>H</td>\n",
       "      <td>25</td>\n",
       "      <td>N</td>\n",
       "      <td>81,564.120</td>\n",
       "      <td>3</td>\n",
       "      <td>March</td>\n",
       "      <td>5</td>\n",
       "    </tr>\n",
       "    <tr>\n",
       "      <th>5375779</th>\n",
       "      <td>1429381</td>\n",
       "      <td>2019-04-28</td>\n",
       "      <td>2018-08-05</td>\n",
       "      <td>KHM</td>\n",
       "      <td>0</td>\n",
       "      <td>03 - UNIVERSITARIO</td>\n",
       "      <td>0</td>\n",
       "      <td>0</td>\n",
       "      <td>0</td>\n",
       "      <td>0</td>\n",
       "      <td>0</td>\n",
       "      <td>0</td>\n",
       "      <td>0</td>\n",
       "      <td>0</td>\n",
       "      <td>0.000</td>\n",
       "      <td>0.000</td>\n",
       "      <td>0</td>\n",
       "      <td>0</td>\n",
       "      <td>0</td>\n",
       "      <td>0</td>\n",
       "      <td>0</td>\n",
       "      <td>ES</td>\n",
       "      <td>4.000</td>\n",
       "      <td>H</td>\n",
       "      <td>25</td>\n",
       "      <td>N</td>\n",
       "      <td>81,564.120</td>\n",
       "      <td>4</td>\n",
       "      <td>April</td>\n",
       "      <td>5</td>\n",
       "    </tr>\n",
       "    <tr>\n",
       "      <th>5723834</th>\n",
       "      <td>1429381</td>\n",
       "      <td>2019-05-28</td>\n",
       "      <td>2018-08-05</td>\n",
       "      <td>KHM</td>\n",
       "      <td>0</td>\n",
       "      <td>03 - UNIVERSITARIO</td>\n",
       "      <td>0</td>\n",
       "      <td>0</td>\n",
       "      <td>0</td>\n",
       "      <td>0</td>\n",
       "      <td>0</td>\n",
       "      <td>0</td>\n",
       "      <td>0</td>\n",
       "      <td>0</td>\n",
       "      <td>0.000</td>\n",
       "      <td>0.000</td>\n",
       "      <td>0</td>\n",
       "      <td>0</td>\n",
       "      <td>0</td>\n",
       "      <td>0</td>\n",
       "      <td>0</td>\n",
       "      <td>ES</td>\n",
       "      <td>4.000</td>\n",
       "      <td>H</td>\n",
       "      <td>25</td>\n",
       "      <td>N</td>\n",
       "      <td>81,564.120</td>\n",
       "      <td>5</td>\n",
       "      <td>May</td>\n",
       "      <td>5</td>\n",
       "    </tr>\n",
       "    <tr>\n",
       "      <th>1952265</th>\n",
       "      <td>1439559</td>\n",
       "      <td>2018-08-28</td>\n",
       "      <td>2018-08-28</td>\n",
       "      <td>NaN</td>\n",
       "      <td>1</td>\n",
       "      <td>NaN</td>\n",
       "      <td>0</td>\n",
       "      <td>0</td>\n",
       "      <td>0</td>\n",
       "      <td>0</td>\n",
       "      <td>0</td>\n",
       "      <td>0</td>\n",
       "      <td>0</td>\n",
       "      <td>0</td>\n",
       "      <td>0.000</td>\n",
       "      <td>0.000</td>\n",
       "      <td>0</td>\n",
       "      <td>0</td>\n",
       "      <td>0</td>\n",
       "      <td>0</td>\n",
       "      <td>1</td>\n",
       "      <td>ES</td>\n",
       "      <td>41.000</td>\n",
       "      <td>V</td>\n",
       "      <td>21</td>\n",
       "      <td>N</td>\n",
       "      <td>114,261.930</td>\n",
       "      <td>8</td>\n",
       "      <td>August</td>\n",
       "      <td>5</td>\n",
       "    </tr>\n",
       "    <tr>\n",
       "      <th>2527919</th>\n",
       "      <td>1439559</td>\n",
       "      <td>2018-09-28</td>\n",
       "      <td>2018-08-28</td>\n",
       "      <td>KHM</td>\n",
       "      <td>1</td>\n",
       "      <td>02 - PARTICULARES</td>\n",
       "      <td>0</td>\n",
       "      <td>0</td>\n",
       "      <td>0</td>\n",
       "      <td>0</td>\n",
       "      <td>0</td>\n",
       "      <td>0</td>\n",
       "      <td>0</td>\n",
       "      <td>0</td>\n",
       "      <td>0.000</td>\n",
       "      <td>0.000</td>\n",
       "      <td>0</td>\n",
       "      <td>0</td>\n",
       "      <td>0</td>\n",
       "      <td>0</td>\n",
       "      <td>1</td>\n",
       "      <td>ES</td>\n",
       "      <td>41.000</td>\n",
       "      <td>V</td>\n",
       "      <td>20</td>\n",
       "      <td>N</td>\n",
       "      <td>114,261.930</td>\n",
       "      <td>9</td>\n",
       "      <td>September</td>\n",
       "      <td>5</td>\n",
       "    </tr>\n",
       "    <tr>\n",
       "      <th>2817053</th>\n",
       "      <td>1439559</td>\n",
       "      <td>2018-10-28</td>\n",
       "      <td>2018-08-28</td>\n",
       "      <td>KHM</td>\n",
       "      <td>1</td>\n",
       "      <td>02 - PARTICULARES</td>\n",
       "      <td>0</td>\n",
       "      <td>0</td>\n",
       "      <td>0</td>\n",
       "      <td>0</td>\n",
       "      <td>0</td>\n",
       "      <td>0</td>\n",
       "      <td>0</td>\n",
       "      <td>0</td>\n",
       "      <td>0.000</td>\n",
       "      <td>0.000</td>\n",
       "      <td>0</td>\n",
       "      <td>0</td>\n",
       "      <td>0</td>\n",
       "      <td>0</td>\n",
       "      <td>0</td>\n",
       "      <td>ES</td>\n",
       "      <td>41.000</td>\n",
       "      <td>V</td>\n",
       "      <td>20</td>\n",
       "      <td>N</td>\n",
       "      <td>114,261.930</td>\n",
       "      <td>10</td>\n",
       "      <td>October</td>\n",
       "      <td>5</td>\n",
       "    </tr>\n",
       "    <tr>\n",
       "      <th>2976859</th>\n",
       "      <td>1439559</td>\n",
       "      <td>2018-11-28</td>\n",
       "      <td>2018-08-28</td>\n",
       "      <td>KHM</td>\n",
       "      <td>0</td>\n",
       "      <td>02 - PARTICULARES</td>\n",
       "      <td>0</td>\n",
       "      <td>0</td>\n",
       "      <td>0</td>\n",
       "      <td>0</td>\n",
       "      <td>0</td>\n",
       "      <td>0</td>\n",
       "      <td>0</td>\n",
       "      <td>0</td>\n",
       "      <td>0.000</td>\n",
       "      <td>0.000</td>\n",
       "      <td>0</td>\n",
       "      <td>0</td>\n",
       "      <td>0</td>\n",
       "      <td>0</td>\n",
       "      <td>0</td>\n",
       "      <td>ES</td>\n",
       "      <td>41.000</td>\n",
       "      <td>V</td>\n",
       "      <td>20</td>\n",
       "      <td>N</td>\n",
       "      <td>114,261.930</td>\n",
       "      <td>11</td>\n",
       "      <td>November</td>\n",
       "      <td>5</td>\n",
       "    </tr>\n",
       "    <tr>\n",
       "      <th>3652266</th>\n",
       "      <td>1439559</td>\n",
       "      <td>2018-12-28</td>\n",
       "      <td>2018-08-28</td>\n",
       "      <td>KHM</td>\n",
       "      <td>0</td>\n",
       "      <td>02 - PARTICULARES</td>\n",
       "      <td>0</td>\n",
       "      <td>0</td>\n",
       "      <td>0</td>\n",
       "      <td>0</td>\n",
       "      <td>0</td>\n",
       "      <td>0</td>\n",
       "      <td>0</td>\n",
       "      <td>0</td>\n",
       "      <td>0.000</td>\n",
       "      <td>0.000</td>\n",
       "      <td>0</td>\n",
       "      <td>0</td>\n",
       "      <td>0</td>\n",
       "      <td>0</td>\n",
       "      <td>1</td>\n",
       "      <td>ES</td>\n",
       "      <td>41.000</td>\n",
       "      <td>V</td>\n",
       "      <td>20</td>\n",
       "      <td>N</td>\n",
       "      <td>114,261.930</td>\n",
       "      <td>12</td>\n",
       "      <td>December</td>\n",
       "      <td>5</td>\n",
       "    </tr>\n",
       "    <tr>\n",
       "      <th>3798905</th>\n",
       "      <td>1439559</td>\n",
       "      <td>2019-01-28</td>\n",
       "      <td>2018-08-28</td>\n",
       "      <td>KHM</td>\n",
       "      <td>0</td>\n",
       "      <td>02 - PARTICULARES</td>\n",
       "      <td>0</td>\n",
       "      <td>0</td>\n",
       "      <td>0</td>\n",
       "      <td>0</td>\n",
       "      <td>0</td>\n",
       "      <td>0</td>\n",
       "      <td>0</td>\n",
       "      <td>0</td>\n",
       "      <td>0.000</td>\n",
       "      <td>0.000</td>\n",
       "      <td>0</td>\n",
       "      <td>0</td>\n",
       "      <td>0</td>\n",
       "      <td>0</td>\n",
       "      <td>1</td>\n",
       "      <td>ES</td>\n",
       "      <td>41.000</td>\n",
       "      <td>V</td>\n",
       "      <td>20</td>\n",
       "      <td>N</td>\n",
       "      <td>114,261.930</td>\n",
       "      <td>1</td>\n",
       "      <td>January</td>\n",
       "      <td>5</td>\n",
       "    </tr>\n",
       "    <tr>\n",
       "      <th>4451160</th>\n",
       "      <td>1439559</td>\n",
       "      <td>2019-02-28</td>\n",
       "      <td>2018-08-28</td>\n",
       "      <td>KHM</td>\n",
       "      <td>0</td>\n",
       "      <td>02 - PARTICULARES</td>\n",
       "      <td>0</td>\n",
       "      <td>0</td>\n",
       "      <td>0</td>\n",
       "      <td>0</td>\n",
       "      <td>0</td>\n",
       "      <td>0</td>\n",
       "      <td>0</td>\n",
       "      <td>0</td>\n",
       "      <td>0.000</td>\n",
       "      <td>0.000</td>\n",
       "      <td>0</td>\n",
       "      <td>0</td>\n",
       "      <td>0</td>\n",
       "      <td>0</td>\n",
       "      <td>1</td>\n",
       "      <td>ES</td>\n",
       "      <td>41.000</td>\n",
       "      <td>V</td>\n",
       "      <td>20</td>\n",
       "      <td>N</td>\n",
       "      <td>114,261.930</td>\n",
       "      <td>2</td>\n",
       "      <td>February</td>\n",
       "      <td>5</td>\n",
       "    </tr>\n",
       "    <tr>\n",
       "      <th>4646388</th>\n",
       "      <td>1439559</td>\n",
       "      <td>2019-03-28</td>\n",
       "      <td>2018-08-28</td>\n",
       "      <td>KHM</td>\n",
       "      <td>0</td>\n",
       "      <td>02 - PARTICULARES</td>\n",
       "      <td>0</td>\n",
       "      <td>0</td>\n",
       "      <td>0</td>\n",
       "      <td>0</td>\n",
       "      <td>0</td>\n",
       "      <td>0</td>\n",
       "      <td>0</td>\n",
       "      <td>0</td>\n",
       "      <td>0.000</td>\n",
       "      <td>0.000</td>\n",
       "      <td>0</td>\n",
       "      <td>0</td>\n",
       "      <td>0</td>\n",
       "      <td>0</td>\n",
       "      <td>1</td>\n",
       "      <td>ES</td>\n",
       "      <td>41.000</td>\n",
       "      <td>V</td>\n",
       "      <td>26</td>\n",
       "      <td>N</td>\n",
       "      <td>114,261.930</td>\n",
       "      <td>3</td>\n",
       "      <td>March</td>\n",
       "      <td>5</td>\n",
       "    </tr>\n",
       "    <tr>\n",
       "      <th>5397124</th>\n",
       "      <td>1439559</td>\n",
       "      <td>2019-04-28</td>\n",
       "      <td>2018-08-28</td>\n",
       "      <td>KHM</td>\n",
       "      <td>0</td>\n",
       "      <td>02 - PARTICULARES</td>\n",
       "      <td>0</td>\n",
       "      <td>0</td>\n",
       "      <td>0</td>\n",
       "      <td>0</td>\n",
       "      <td>0</td>\n",
       "      <td>0</td>\n",
       "      <td>0</td>\n",
       "      <td>0</td>\n",
       "      <td>0.000</td>\n",
       "      <td>0.000</td>\n",
       "      <td>0</td>\n",
       "      <td>0</td>\n",
       "      <td>0</td>\n",
       "      <td>0</td>\n",
       "      <td>1</td>\n",
       "      <td>ES</td>\n",
       "      <td>41.000</td>\n",
       "      <td>V</td>\n",
       "      <td>26</td>\n",
       "      <td>N</td>\n",
       "      <td>114,261.930</td>\n",
       "      <td>4</td>\n",
       "      <td>April</td>\n",
       "      <td>5</td>\n",
       "    </tr>\n",
       "    <tr>\n",
       "      <th>5711183</th>\n",
       "      <td>1439559</td>\n",
       "      <td>2019-05-28</td>\n",
       "      <td>2018-08-28</td>\n",
       "      <td>KHM</td>\n",
       "      <td>0</td>\n",
       "      <td>02 - PARTICULARES</td>\n",
       "      <td>0</td>\n",
       "      <td>0</td>\n",
       "      <td>0</td>\n",
       "      <td>0</td>\n",
       "      <td>0</td>\n",
       "      <td>0</td>\n",
       "      <td>0</td>\n",
       "      <td>0</td>\n",
       "      <td>0.000</td>\n",
       "      <td>0.000</td>\n",
       "      <td>0</td>\n",
       "      <td>0</td>\n",
       "      <td>0</td>\n",
       "      <td>0</td>\n",
       "      <td>1</td>\n",
       "      <td>ES</td>\n",
       "      <td>41.000</td>\n",
       "      <td>V</td>\n",
       "      <td>26</td>\n",
       "      <td>N</td>\n",
       "      <td>114,261.930</td>\n",
       "      <td>5</td>\n",
       "      <td>May</td>\n",
       "      <td>5</td>\n",
       "    </tr>\n",
       "  </tbody>\n",
       "</table>\n",
       "</div>"
      ],
      "text/plain": [
       "          pk_cid pk_partition entry_date entry_channel  active_customer  \\\n",
       "1813962  1405875   2018-07-28 2018-07-13           NaN                1   \n",
       "1929750  1405875   2018-08-28 2018-07-13           KHM                1   \n",
       "2466761  1405875   2018-09-28 2018-07-13           KHM                0   \n",
       "2733258  1405875   2018-10-28 2018-07-13           KHM                0   \n",
       "3177827  1405875   2018-11-28 2018-07-13           KHM                0   \n",
       "3776945  1405875   2018-12-28 2018-07-13           KHM                0   \n",
       "3959819  1405875   2019-01-28 2018-07-13           KHM                0   \n",
       "4415986  1405875   2019-02-28 2018-07-13           KHM                0   \n",
       "4676045  1405875   2019-03-28 2018-07-13           KHM                0   \n",
       "5315811  1405875   2019-04-28 2018-07-13           KHM                0   \n",
       "5567609  1405875   2019-05-28 2018-07-13           KHM                0   \n",
       "1947603  1429381   2018-08-28 2018-08-05           NaN                0   \n",
       "2530703  1429381   2018-09-28 2018-08-05           KHM                0   \n",
       "2734616  1429381   2018-10-28 2018-08-05           KHM                0   \n",
       "2961404  1429381   2018-11-28 2018-08-05           KHM                0   \n",
       "3757333  1429381   2018-12-28 2018-08-05           KHM                0   \n",
       "3792607  1429381   2019-01-28 2018-08-05           KHM                0   \n",
       "4474788  1429381   2019-02-28 2018-08-05           KHM                0   \n",
       "4692861  1429381   2019-03-28 2018-08-05           KHM                0   \n",
       "5375779  1429381   2019-04-28 2018-08-05           KHM                0   \n",
       "5723834  1429381   2019-05-28 2018-08-05           KHM                0   \n",
       "1952265  1439559   2018-08-28 2018-08-28           NaN                1   \n",
       "2527919  1439559   2018-09-28 2018-08-28           KHM                1   \n",
       "2817053  1439559   2018-10-28 2018-08-28           KHM                1   \n",
       "2976859  1439559   2018-11-28 2018-08-28           KHM                0   \n",
       "3652266  1439559   2018-12-28 2018-08-28           KHM                0   \n",
       "3798905  1439559   2019-01-28 2018-08-28           KHM                0   \n",
       "4451160  1439559   2019-02-28 2018-08-28           KHM                0   \n",
       "4646388  1439559   2019-03-28 2018-08-28           KHM                0   \n",
       "5397124  1439559   2019-04-28 2018-08-28           KHM                0   \n",
       "5711183  1439559   2019-05-28 2018-08-28           KHM                0   \n",
       "\n",
       "                    segment  short_term_deposit  loans  mortgage  funds  \\\n",
       "1813962                 NaN                   0      0         0      0   \n",
       "1929750  03 - UNIVERSITARIO                   0      0         0      0   \n",
       "2466761  03 - UNIVERSITARIO                   0      0         0      0   \n",
       "2733258  03 - UNIVERSITARIO                   0      0         0      0   \n",
       "3177827  03 - UNIVERSITARIO                   0      0         0      0   \n",
       "3776945  03 - UNIVERSITARIO                   0      0         0      0   \n",
       "3959819  03 - UNIVERSITARIO                   0      0         0      0   \n",
       "4415986  03 - UNIVERSITARIO                   0      0         0      0   \n",
       "4676045  03 - UNIVERSITARIO                   0      0         0      0   \n",
       "5315811  03 - UNIVERSITARIO                   0      0         0      0   \n",
       "5567609  03 - UNIVERSITARIO                   0      0         0      0   \n",
       "1947603                 NaN                   0      0         0      0   \n",
       "2530703  03 - UNIVERSITARIO                   0      0         0      0   \n",
       "2734616  03 - UNIVERSITARIO                   0      0         0      0   \n",
       "2961404  03 - UNIVERSITARIO                   0      0         0      0   \n",
       "3757333  03 - UNIVERSITARIO                   0      0         0      0   \n",
       "3792607  03 - UNIVERSITARIO                   0      0         0      0   \n",
       "4474788  03 - UNIVERSITARIO                   0      0         0      0   \n",
       "4692861  03 - UNIVERSITARIO                   0      0         0      0   \n",
       "5375779  03 - UNIVERSITARIO                   0      0         0      0   \n",
       "5723834  03 - UNIVERSITARIO                   0      0         0      0   \n",
       "1952265                 NaN                   0      0         0      0   \n",
       "2527919   02 - PARTICULARES                   0      0         0      0   \n",
       "2817053   02 - PARTICULARES                   0      0         0      0   \n",
       "2976859   02 - PARTICULARES                   0      0         0      0   \n",
       "3652266   02 - PARTICULARES                   0      0         0      0   \n",
       "3798905   02 - PARTICULARES                   0      0         0      0   \n",
       "4451160   02 - PARTICULARES                   0      0         0      0   \n",
       "4646388   02 - PARTICULARES                   0      0         0      0   \n",
       "5397124   02 - PARTICULARES                   0      0         0      0   \n",
       "5711183   02 - PARTICULARES                   0      0         0      0   \n",
       "\n",
       "         securities  long_term_deposit  em_account_pp  credit_card  payroll  \\\n",
       "1813962           0                  0              0            0    0.000   \n",
       "1929750           0                  0              0            0    0.000   \n",
       "2466761           0                  0              0            0    0.000   \n",
       "2733258           0                  0              0            0    0.000   \n",
       "3177827           0                  0              0            0    0.000   \n",
       "3776945           0                  0              0            0    0.000   \n",
       "3959819           0                  0              0            0    0.000   \n",
       "4415986           0                  0              0            0    0.000   \n",
       "4676045           0                  0              0            0    0.000   \n",
       "5315811           0                  0              0            0    0.000   \n",
       "5567609           0                  0              0            0    0.000   \n",
       "1947603           0                  0              0            0    0.000   \n",
       "2530703           0                  0              0            0    0.000   \n",
       "2734616           0                  0              0            0    0.000   \n",
       "2961404           0                  0              0            0    0.000   \n",
       "3757333           0                  0              0            0    0.000   \n",
       "3792607           0                  0              0            0    0.000   \n",
       "4474788           0                  0              0            0    0.000   \n",
       "4692861           0                  0              0            0    0.000   \n",
       "5375779           0                  0              0            0    0.000   \n",
       "5723834           0                  0              0            0    0.000   \n",
       "1952265           0                  0              0            0    0.000   \n",
       "2527919           0                  0              0            0    0.000   \n",
       "2817053           0                  0              0            0    0.000   \n",
       "2976859           0                  0              0            0    0.000   \n",
       "3652266           0                  0              0            0    0.000   \n",
       "3798905           0                  0              0            0    0.000   \n",
       "4451160           0                  0              0            0    0.000   \n",
       "4646388           0                  0              0            0    0.000   \n",
       "5397124           0                  0              0            0    0.000   \n",
       "5711183           0                  0              0            0    0.000   \n",
       "\n",
       "         pension_plan  payroll_account  emc_account  debit_card  em_account_p  \\\n",
       "1813962         0.000                0            0           0             0   \n",
       "1929750         0.000                0            0           0             0   \n",
       "2466761         0.000                0            0           0             0   \n",
       "2733258         0.000                0            0           0             0   \n",
       "3177827         0.000                0            0           0             0   \n",
       "3776945         0.000                0            0           0             0   \n",
       "3959819         0.000                0            0           0             0   \n",
       "4415986         0.000                0            0           0             0   \n",
       "4676045         0.000                0            0           0             0   \n",
       "5315811         0.000                0            0           0             0   \n",
       "5567609         0.000                0            0           0             0   \n",
       "1947603         0.000                0            0           0             0   \n",
       "2530703         0.000                0            0           0             0   \n",
       "2734616         0.000                0            0           0             0   \n",
       "2961404         0.000                0            0           0             0   \n",
       "3757333         0.000                0            0           0             0   \n",
       "3792607         0.000                0            0           0             0   \n",
       "4474788         0.000                0            0           0             0   \n",
       "4692861         0.000                0            0           0             0   \n",
       "5375779         0.000                0            0           0             0   \n",
       "5723834         0.000                0            0           0             0   \n",
       "1952265         0.000                0            0           0             0   \n",
       "2527919         0.000                0            0           0             0   \n",
       "2817053         0.000                0            0           0             0   \n",
       "2976859         0.000                0            0           0             0   \n",
       "3652266         0.000                0            0           0             0   \n",
       "3798905         0.000                0            0           0             0   \n",
       "4451160         0.000                0            0           0             0   \n",
       "4646388         0.000                0            0           0             0   \n",
       "5397124         0.000                0            0           0             0   \n",
       "5711183         0.000                0            0           0             0   \n",
       "\n",
       "         em_acount country_id region_code gender  age deceased      salary  \\\n",
       "1813962          1         ES      40.000      V   20        N 116,051.580   \n",
       "1929750          1         ES      40.000      V   24        N 116,051.580   \n",
       "2466761          1         ES      40.000      V   24        N 116,051.580   \n",
       "2733258          1         ES      40.000      V   24        N 116,051.580   \n",
       "3177827          1         ES      40.000      V   25        N 116,051.580   \n",
       "3776945          1         ES      40.000      V   25        N 116,051.580   \n",
       "3959819          1         ES      40.000      V   25        N 116,051.580   \n",
       "4415986          1         ES      40.000      V   25        N 116,051.580   \n",
       "4676045          1         ES      40.000      V   25        N 116,051.580   \n",
       "5315811          1         ES      40.000      V   25        N 116,051.580   \n",
       "5567609          1         ES      40.000      V   25        N 116,051.580   \n",
       "1947603          0         ES       4.000      H   20        N  81,564.120   \n",
       "2530703          0         ES       4.000      H   24        N  81,564.120   \n",
       "2734616          0         ES       4.000      H   24        N  81,564.120   \n",
       "2961404          0         ES       4.000      H   24        N  81,564.120   \n",
       "3757333          0         ES       4.000      H   24        N  81,564.120   \n",
       "3792607          0         ES       4.000      H   24        N  81,564.120   \n",
       "4474788          0         ES       4.000      H   25        N  81,564.120   \n",
       "4692861          0         ES       4.000      H   25        N  81,564.120   \n",
       "5375779          0         ES       4.000      H   25        N  81,564.120   \n",
       "5723834          0         ES       4.000      H   25        N  81,564.120   \n",
       "1952265          1         ES      41.000      V   21        N 114,261.930   \n",
       "2527919          1         ES      41.000      V   20        N 114,261.930   \n",
       "2817053          0         ES      41.000      V   20        N 114,261.930   \n",
       "2976859          0         ES      41.000      V   20        N 114,261.930   \n",
       "3652266          1         ES      41.000      V   20        N 114,261.930   \n",
       "3798905          1         ES      41.000      V   20        N 114,261.930   \n",
       "4451160          1         ES      41.000      V   20        N 114,261.930   \n",
       "4646388          1         ES      41.000      V   26        N 114,261.930   \n",
       "5397124          1         ES      41.000      V   26        N 114,261.930   \n",
       "5711183          1         ES      41.000      V   26        N 114,261.930   \n",
       "\n",
       "         mes_partition mes_nombre_partition  dif_edad  \n",
       "1813962              7                 July         5  \n",
       "1929750              8               August         5  \n",
       "2466761              9            September         5  \n",
       "2733258             10              October         5  \n",
       "3177827             11             November         5  \n",
       "3776945             12             December         5  \n",
       "3959819              1              January         5  \n",
       "4415986              2             February         5  \n",
       "4676045              3                March         5  \n",
       "5315811              4                April         5  \n",
       "5567609              5                  May         5  \n",
       "1947603              8               August         5  \n",
       "2530703              9            September         5  \n",
       "2734616             10              October         5  \n",
       "2961404             11             November         5  \n",
       "3757333             12             December         5  \n",
       "3792607              1              January         5  \n",
       "4474788              2             February         5  \n",
       "4692861              3                March         5  \n",
       "5375779              4                April         5  \n",
       "5723834              5                  May         5  \n",
       "1952265              8               August         5  \n",
       "2527919              9            September         5  \n",
       "2817053             10              October         5  \n",
       "2976859             11             November         5  \n",
       "3652266             12             December         5  \n",
       "3798905              1              January         5  \n",
       "4451160              2             February         5  \n",
       "4646388              3                March         5  \n",
       "5397124              4                April         5  \n",
       "5711183              5                  May         5  "
      ]
     },
     "execution_count": 272,
     "metadata": {},
     "output_type": "execute_result"
    }
   ],
   "source": [
    "df_edad_mixta[(df_edad_mixta['dif_edad'] > 3) & (df_edad_mixta['dif_edad'] < 6)]"
   ]
  },
  {
   "cell_type": "markdown",
   "metadata": {},
   "source": [
    "En este caso, vamos a sustituir todos los valores de Age por el último valor conocido, ya que, a futuro lo más coherente será crear categorías de edad en las que se agrupen distintas décadas, por tanto, las variaciones internas de cada cliente van a ser practicamente irrelevantes (si un cliente pasa de 30-33 no es diferenciador), y además, se sobreentiende que los errores de tipificación se corrigen con el tiempo, por tanto, cuanto más reciente sea una entrada, más probable es que sea correcta."
   ]
  },
  {
   "cell_type": "code",
   "execution_count": 273,
   "metadata": {},
   "outputs": [
    {
     "data": {
      "text/html": [
       "<div>\n",
       "<style scoped>\n",
       "    .dataframe tbody tr th:only-of-type {\n",
       "        vertical-align: middle;\n",
       "    }\n",
       "\n",
       "    .dataframe tbody tr th {\n",
       "        vertical-align: top;\n",
       "    }\n",
       "\n",
       "    .dataframe thead th {\n",
       "        text-align: right;\n",
       "    }\n",
       "</style>\n",
       "<table border=\"1\" class=\"dataframe\">\n",
       "  <thead>\n",
       "    <tr style=\"text-align: right;\">\n",
       "      <th></th>\n",
       "      <th>pk_cid</th>\n",
       "      <th>pk_partition</th>\n",
       "      <th>entry_date</th>\n",
       "      <th>entry_channel</th>\n",
       "      <th>active_customer</th>\n",
       "      <th>segment</th>\n",
       "      <th>short_term_deposit</th>\n",
       "      <th>loans</th>\n",
       "      <th>mortgage</th>\n",
       "      <th>funds</th>\n",
       "      <th>securities</th>\n",
       "      <th>long_term_deposit</th>\n",
       "      <th>em_account_pp</th>\n",
       "      <th>credit_card</th>\n",
       "      <th>payroll</th>\n",
       "      <th>pension_plan</th>\n",
       "      <th>payroll_account</th>\n",
       "      <th>emc_account</th>\n",
       "      <th>debit_card</th>\n",
       "      <th>em_account_p</th>\n",
       "      <th>em_acount</th>\n",
       "      <th>country_id</th>\n",
       "      <th>region_code</th>\n",
       "      <th>gender</th>\n",
       "      <th>age</th>\n",
       "      <th>deceased</th>\n",
       "      <th>salary</th>\n",
       "      <th>mes_partition</th>\n",
       "      <th>mes_nombre_partition</th>\n",
       "    </tr>\n",
       "  </thead>\n",
       "  <tbody>\n",
       "    <tr>\n",
       "      <th>1479563</th>\n",
       "      <td>15891</td>\n",
       "      <td>2018-07-28</td>\n",
       "      <td>2018-07-28</td>\n",
       "      <td>KAT</td>\n",
       "      <td>1</td>\n",
       "      <td>NaN</td>\n",
       "      <td>0</td>\n",
       "      <td>0</td>\n",
       "      <td>0</td>\n",
       "      <td>0</td>\n",
       "      <td>0</td>\n",
       "      <td>0</td>\n",
       "      <td>0</td>\n",
       "      <td>0</td>\n",
       "      <td>0.000</td>\n",
       "      <td>0.000</td>\n",
       "      <td>0</td>\n",
       "      <td>0</td>\n",
       "      <td>0</td>\n",
       "      <td>0</td>\n",
       "      <td>1</td>\n",
       "      <td>ES</td>\n",
       "      <td>28.000</td>\n",
       "      <td>H</td>\n",
       "      <td>59</td>\n",
       "      <td>N</td>\n",
       "      <td>NaN</td>\n",
       "      <td>7</td>\n",
       "      <td>July</td>\n",
       "    </tr>\n",
       "    <tr>\n",
       "      <th>2168122</th>\n",
       "      <td>15891</td>\n",
       "      <td>2018-08-28</td>\n",
       "      <td>2018-07-28</td>\n",
       "      <td>KAT</td>\n",
       "      <td>0</td>\n",
       "      <td>02 - PARTICULARES</td>\n",
       "      <td>0</td>\n",
       "      <td>0</td>\n",
       "      <td>0</td>\n",
       "      <td>0</td>\n",
       "      <td>0</td>\n",
       "      <td>0</td>\n",
       "      <td>0</td>\n",
       "      <td>0</td>\n",
       "      <td>0.000</td>\n",
       "      <td>0.000</td>\n",
       "      <td>0</td>\n",
       "      <td>0</td>\n",
       "      <td>0</td>\n",
       "      <td>0</td>\n",
       "      <td>0</td>\n",
       "      <td>ES</td>\n",
       "      <td>28.000</td>\n",
       "      <td>H</td>\n",
       "      <td>59</td>\n",
       "      <td>N</td>\n",
       "      <td>NaN</td>\n",
       "      <td>8</td>\n",
       "      <td>August</td>\n",
       "    </tr>\n",
       "    <tr>\n",
       "      <th>2962973</th>\n",
       "      <td>16063</td>\n",
       "      <td>2018-11-28</td>\n",
       "      <td>2018-11-19</td>\n",
       "      <td>KAT</td>\n",
       "      <td>1</td>\n",
       "      <td>NaN</td>\n",
       "      <td>0</td>\n",
       "      <td>0</td>\n",
       "      <td>0</td>\n",
       "      <td>0</td>\n",
       "      <td>0</td>\n",
       "      <td>0</td>\n",
       "      <td>0</td>\n",
       "      <td>0</td>\n",
       "      <td>0.000</td>\n",
       "      <td>0.000</td>\n",
       "      <td>0</td>\n",
       "      <td>0</td>\n",
       "      <td>0</td>\n",
       "      <td>0</td>\n",
       "      <td>0</td>\n",
       "      <td>ES</td>\n",
       "      <td>28.000</td>\n",
       "      <td>H</td>\n",
       "      <td>62</td>\n",
       "      <td>N</td>\n",
       "      <td>NaN</td>\n",
       "      <td>11</td>\n",
       "      <td>November</td>\n",
       "    </tr>\n",
       "    <tr>\n",
       "      <th>3628236</th>\n",
       "      <td>16063</td>\n",
       "      <td>2018-12-28</td>\n",
       "      <td>2018-11-19</td>\n",
       "      <td>KAT</td>\n",
       "      <td>1</td>\n",
       "      <td>02 - PARTICULARES</td>\n",
       "      <td>0</td>\n",
       "      <td>0</td>\n",
       "      <td>0</td>\n",
       "      <td>0</td>\n",
       "      <td>0</td>\n",
       "      <td>0</td>\n",
       "      <td>0</td>\n",
       "      <td>0</td>\n",
       "      <td>0.000</td>\n",
       "      <td>0.000</td>\n",
       "      <td>0</td>\n",
       "      <td>0</td>\n",
       "      <td>0</td>\n",
       "      <td>0</td>\n",
       "      <td>0</td>\n",
       "      <td>ES</td>\n",
       "      <td>28.000</td>\n",
       "      <td>H</td>\n",
       "      <td>62</td>\n",
       "      <td>N</td>\n",
       "      <td>NaN</td>\n",
       "      <td>12</td>\n",
       "      <td>December</td>\n",
       "    </tr>\n",
       "    <tr>\n",
       "      <th>4028169</th>\n",
       "      <td>16063</td>\n",
       "      <td>2019-01-28</td>\n",
       "      <td>2018-11-19</td>\n",
       "      <td>KAT</td>\n",
       "      <td>1</td>\n",
       "      <td>02 - PARTICULARES</td>\n",
       "      <td>0</td>\n",
       "      <td>0</td>\n",
       "      <td>0</td>\n",
       "      <td>0</td>\n",
       "      <td>0</td>\n",
       "      <td>0</td>\n",
       "      <td>0</td>\n",
       "      <td>0</td>\n",
       "      <td>0.000</td>\n",
       "      <td>0.000</td>\n",
       "      <td>0</td>\n",
       "      <td>0</td>\n",
       "      <td>0</td>\n",
       "      <td>0</td>\n",
       "      <td>0</td>\n",
       "      <td>ES</td>\n",
       "      <td>28.000</td>\n",
       "      <td>H</td>\n",
       "      <td>62</td>\n",
       "      <td>N</td>\n",
       "      <td>NaN</td>\n",
       "      <td>1</td>\n",
       "      <td>January</td>\n",
       "    </tr>\n",
       "  </tbody>\n",
       "</table>\n",
       "</div>"
      ],
      "text/plain": [
       "         pk_cid pk_partition entry_date entry_channel  active_customer  \\\n",
       "1479563   15891   2018-07-28 2018-07-28           KAT                1   \n",
       "2168122   15891   2018-08-28 2018-07-28           KAT                0   \n",
       "2962973   16063   2018-11-28 2018-11-19           KAT                1   \n",
       "3628236   16063   2018-12-28 2018-11-19           KAT                1   \n",
       "4028169   16063   2019-01-28 2018-11-19           KAT                1   \n",
       "\n",
       "                   segment  short_term_deposit  loans  mortgage  funds  \\\n",
       "1479563                NaN                   0      0         0      0   \n",
       "2168122  02 - PARTICULARES                   0      0         0      0   \n",
       "2962973                NaN                   0      0         0      0   \n",
       "3628236  02 - PARTICULARES                   0      0         0      0   \n",
       "4028169  02 - PARTICULARES                   0      0         0      0   \n",
       "\n",
       "         securities  long_term_deposit  em_account_pp  credit_card  payroll  \\\n",
       "1479563           0                  0              0            0    0.000   \n",
       "2168122           0                  0              0            0    0.000   \n",
       "2962973           0                  0              0            0    0.000   \n",
       "3628236           0                  0              0            0    0.000   \n",
       "4028169           0                  0              0            0    0.000   \n",
       "\n",
       "         pension_plan  payroll_account  emc_account  debit_card  em_account_p  \\\n",
       "1479563         0.000                0            0           0             0   \n",
       "2168122         0.000                0            0           0             0   \n",
       "2962973         0.000                0            0           0             0   \n",
       "3628236         0.000                0            0           0             0   \n",
       "4028169         0.000                0            0           0             0   \n",
       "\n",
       "         em_acount country_id region_code gender  age deceased  salary  \\\n",
       "1479563          1         ES      28.000      H   59        N     NaN   \n",
       "2168122          0         ES      28.000      H   59        N     NaN   \n",
       "2962973          0         ES      28.000      H   62        N     NaN   \n",
       "3628236          0         ES      28.000      H   62        N     NaN   \n",
       "4028169          0         ES      28.000      H   62        N     NaN   \n",
       "\n",
       "         mes_partition mes_nombre_partition  \n",
       "1479563              7                 July  \n",
       "2168122              8               August  \n",
       "2962973             11             November  \n",
       "3628236             12             December  \n",
       "4028169              1              January  "
      ]
     },
     "execution_count": 273,
     "metadata": {},
     "output_type": "execute_result"
    }
   ],
   "source": [
    "# Paso 1: Filtrar los individuos que cumplen la condición dif_edad > 3\n",
    "df_edad_mixta_dif_mas3 = df_edad_mixta[df_edad_mixta['dif_edad'] > 3]\n",
    "\n",
    "# Paso 2: Obtener la última edad registrada (en la última pk_partition) para cada individuo\n",
    "ultima_edad_por_individuo = df_edad_mixta_dif_mas3.groupby('pk_cid').apply(lambda x: x.loc[x['pk_partition'].idxmax(), 'age'])\n",
    "\n",
    "# Paso 3: Actualizar la edad en df_full para los individuos que cumplen la condición\n",
    "def actualizar_edad(row):\n",
    "    if row['pk_cid'] in ultima_edad_por_individuo.index:\n",
    "        return ultima_edad_por_individuo[row['pk_cid']]\n",
    "    else:\n",
    "        return row['age']\n",
    "\n",
    "# Aplicar la función para actualizar la edad en df_full\n",
    "df_full['age'] = df_full.apply(actualizar_edad, axis=1)\n",
    "\n",
    "# Mostrar el resultado\n",
    "df_full.head()"
   ]
  },
  {
   "cell_type": "markdown",
   "metadata": {},
   "source": [
    "#### Edad Mixta. Variación Negativa"
   ]
  },
  {
   "cell_type": "code",
   "execution_count": 274,
   "metadata": {},
   "outputs": [
    {
     "data": {
      "text/plain": [
       "count   94,401.000\n",
       "mean        -1.011\n",
       "std          0.423\n",
       "min        -40.000\n",
       "25%         -1.000\n",
       "50%         -1.000\n",
       "75%         -1.000\n",
       "max         -1.000\n",
       "Name: dif_edad, dtype: float64"
      ]
     },
     "execution_count": 274,
     "metadata": {},
     "output_type": "execute_result"
    }
   ],
   "source": [
    "# Filtrar los casos donde la diferencia de edad es menor que 0\n",
    "df_dif_edad_neg = df_edad_mixta[df_edad_mixta['dif_edad'] < 0]\n",
    "\n",
    "df_dif_edad_neg[\"dif_edad\"].describe()"
   ]
  },
  {
   "cell_type": "code",
   "execution_count": 275,
   "metadata": {},
   "outputs": [
    {
     "data": {
      "text/html": [
       "<div>\n",
       "<style scoped>\n",
       "    .dataframe tbody tr th:only-of-type {\n",
       "        vertical-align: middle;\n",
       "    }\n",
       "\n",
       "    .dataframe tbody tr th {\n",
       "        vertical-align: top;\n",
       "    }\n",
       "\n",
       "    .dataframe thead th {\n",
       "        text-align: right;\n",
       "    }\n",
       "</style>\n",
       "<table border=\"1\" class=\"dataframe\">\n",
       "  <thead>\n",
       "    <tr style=\"text-align: right;\">\n",
       "      <th></th>\n",
       "      <th>pk_cid</th>\n",
       "      <th>pk_partition</th>\n",
       "      <th>entry_date</th>\n",
       "      <th>entry_channel</th>\n",
       "      <th>active_customer</th>\n",
       "      <th>segment</th>\n",
       "      <th>short_term_deposit</th>\n",
       "      <th>loans</th>\n",
       "      <th>mortgage</th>\n",
       "      <th>funds</th>\n",
       "      <th>securities</th>\n",
       "      <th>long_term_deposit</th>\n",
       "      <th>em_account_pp</th>\n",
       "      <th>credit_card</th>\n",
       "      <th>payroll</th>\n",
       "      <th>pension_plan</th>\n",
       "      <th>payroll_account</th>\n",
       "      <th>emc_account</th>\n",
       "      <th>debit_card</th>\n",
       "      <th>em_account_p</th>\n",
       "      <th>em_acount</th>\n",
       "      <th>country_id</th>\n",
       "      <th>region_code</th>\n",
       "      <th>gender</th>\n",
       "      <th>age</th>\n",
       "      <th>deceased</th>\n",
       "      <th>salary</th>\n",
       "      <th>mes_partition</th>\n",
       "      <th>mes_nombre_partition</th>\n",
       "      <th>dif_edad</th>\n",
       "    </tr>\n",
       "  </thead>\n",
       "  <tbody>\n",
       "    <tr>\n",
       "      <th>2943726</th>\n",
       "      <td>46732</td>\n",
       "      <td>2018-10-28</td>\n",
       "      <td>2018-10-08</td>\n",
       "      <td>NaN</td>\n",
       "      <td>1</td>\n",
       "      <td>NaN</td>\n",
       "      <td>0</td>\n",
       "      <td>0</td>\n",
       "      <td>0</td>\n",
       "      <td>0</td>\n",
       "      <td>0</td>\n",
       "      <td>0</td>\n",
       "      <td>0</td>\n",
       "      <td>0</td>\n",
       "      <td>0.000</td>\n",
       "      <td>0.000</td>\n",
       "      <td>0</td>\n",
       "      <td>0</td>\n",
       "      <td>0</td>\n",
       "      <td>0</td>\n",
       "      <td>1</td>\n",
       "      <td>ES</td>\n",
       "      <td>46.000</td>\n",
       "      <td>V</td>\n",
       "      <td>71</td>\n",
       "      <td>N</td>\n",
       "      <td>NaN</td>\n",
       "      <td>10</td>\n",
       "      <td>October</td>\n",
       "      <td>-1</td>\n",
       "    </tr>\n",
       "    <tr>\n",
       "      <th>2977216</th>\n",
       "      <td>46732</td>\n",
       "      <td>2018-11-28</td>\n",
       "      <td>2018-10-08</td>\n",
       "      <td>KFC</td>\n",
       "      <td>1</td>\n",
       "      <td>02 - PARTICULARES</td>\n",
       "      <td>0</td>\n",
       "      <td>0</td>\n",
       "      <td>0</td>\n",
       "      <td>0</td>\n",
       "      <td>0</td>\n",
       "      <td>1</td>\n",
       "      <td>0</td>\n",
       "      <td>0</td>\n",
       "      <td>0.000</td>\n",
       "      <td>0.000</td>\n",
       "      <td>0</td>\n",
       "      <td>0</td>\n",
       "      <td>0</td>\n",
       "      <td>0</td>\n",
       "      <td>1</td>\n",
       "      <td>ES</td>\n",
       "      <td>46.000</td>\n",
       "      <td>V</td>\n",
       "      <td>70</td>\n",
       "      <td>N</td>\n",
       "      <td>NaN</td>\n",
       "      <td>11</td>\n",
       "      <td>November</td>\n",
       "      <td>-1</td>\n",
       "    </tr>\n",
       "    <tr>\n",
       "      <th>3628313</th>\n",
       "      <td>46732</td>\n",
       "      <td>2018-12-28</td>\n",
       "      <td>2018-10-08</td>\n",
       "      <td>KFC</td>\n",
       "      <td>1</td>\n",
       "      <td>02 - PARTICULARES</td>\n",
       "      <td>0</td>\n",
       "      <td>0</td>\n",
       "      <td>0</td>\n",
       "      <td>0</td>\n",
       "      <td>0</td>\n",
       "      <td>1</td>\n",
       "      <td>0</td>\n",
       "      <td>0</td>\n",
       "      <td>0.000</td>\n",
       "      <td>0.000</td>\n",
       "      <td>0</td>\n",
       "      <td>0</td>\n",
       "      <td>0</td>\n",
       "      <td>0</td>\n",
       "      <td>1</td>\n",
       "      <td>ES</td>\n",
       "      <td>46.000</td>\n",
       "      <td>V</td>\n",
       "      <td>70</td>\n",
       "      <td>N</td>\n",
       "      <td>NaN</td>\n",
       "      <td>12</td>\n",
       "      <td>December</td>\n",
       "      <td>-1</td>\n",
       "    </tr>\n",
       "    <tr>\n",
       "      <th>3839343</th>\n",
       "      <td>46732</td>\n",
       "      <td>2019-01-28</td>\n",
       "      <td>2018-10-08</td>\n",
       "      <td>KFC</td>\n",
       "      <td>1</td>\n",
       "      <td>02 - PARTICULARES</td>\n",
       "      <td>0</td>\n",
       "      <td>0</td>\n",
       "      <td>0</td>\n",
       "      <td>0</td>\n",
       "      <td>0</td>\n",
       "      <td>1</td>\n",
       "      <td>0</td>\n",
       "      <td>0</td>\n",
       "      <td>0.000</td>\n",
       "      <td>0.000</td>\n",
       "      <td>0</td>\n",
       "      <td>0</td>\n",
       "      <td>0</td>\n",
       "      <td>0</td>\n",
       "      <td>1</td>\n",
       "      <td>ES</td>\n",
       "      <td>46.000</td>\n",
       "      <td>V</td>\n",
       "      <td>70</td>\n",
       "      <td>N</td>\n",
       "      <td>NaN</td>\n",
       "      <td>1</td>\n",
       "      <td>January</td>\n",
       "      <td>-1</td>\n",
       "    </tr>\n",
       "    <tr>\n",
       "      <th>4480561</th>\n",
       "      <td>46732</td>\n",
       "      <td>2019-02-28</td>\n",
       "      <td>2018-10-08</td>\n",
       "      <td>KFC</td>\n",
       "      <td>1</td>\n",
       "      <td>02 - PARTICULARES</td>\n",
       "      <td>0</td>\n",
       "      <td>0</td>\n",
       "      <td>0</td>\n",
       "      <td>0</td>\n",
       "      <td>0</td>\n",
       "      <td>1</td>\n",
       "      <td>0</td>\n",
       "      <td>0</td>\n",
       "      <td>0.000</td>\n",
       "      <td>0.000</td>\n",
       "      <td>0</td>\n",
       "      <td>0</td>\n",
       "      <td>0</td>\n",
       "      <td>0</td>\n",
       "      <td>1</td>\n",
       "      <td>ES</td>\n",
       "      <td>46.000</td>\n",
       "      <td>V</td>\n",
       "      <td>70</td>\n",
       "      <td>N</td>\n",
       "      <td>NaN</td>\n",
       "      <td>2</td>\n",
       "      <td>February</td>\n",
       "      <td>-1</td>\n",
       "    </tr>\n",
       "    <tr>\n",
       "      <th>...</th>\n",
       "      <td>...</td>\n",
       "      <td>...</td>\n",
       "      <td>...</td>\n",
       "      <td>...</td>\n",
       "      <td>...</td>\n",
       "      <td>...</td>\n",
       "      <td>...</td>\n",
       "      <td>...</td>\n",
       "      <td>...</td>\n",
       "      <td>...</td>\n",
       "      <td>...</td>\n",
       "      <td>...</td>\n",
       "      <td>...</td>\n",
       "      <td>...</td>\n",
       "      <td>...</td>\n",
       "      <td>...</td>\n",
       "      <td>...</td>\n",
       "      <td>...</td>\n",
       "      <td>...</td>\n",
       "      <td>...</td>\n",
       "      <td>...</td>\n",
       "      <td>...</td>\n",
       "      <td>...</td>\n",
       "      <td>...</td>\n",
       "      <td>...</td>\n",
       "      <td>...</td>\n",
       "      <td>...</td>\n",
       "      <td>...</td>\n",
       "      <td>...</td>\n",
       "      <td>...</td>\n",
       "    </tr>\n",
       "    <tr>\n",
       "      <th>5682969</th>\n",
       "      <td>1548156</td>\n",
       "      <td>2019-05-28</td>\n",
       "      <td>2019-04-29</td>\n",
       "      <td>KHN</td>\n",
       "      <td>1</td>\n",
       "      <td>02 - PARTICULARES</td>\n",
       "      <td>0</td>\n",
       "      <td>0</td>\n",
       "      <td>0</td>\n",
       "      <td>0</td>\n",
       "      <td>0</td>\n",
       "      <td>0</td>\n",
       "      <td>0</td>\n",
       "      <td>0</td>\n",
       "      <td>0.000</td>\n",
       "      <td>0.000</td>\n",
       "      <td>0</td>\n",
       "      <td>0</td>\n",
       "      <td>0</td>\n",
       "      <td>0</td>\n",
       "      <td>1</td>\n",
       "      <td>ES</td>\n",
       "      <td>50.000</td>\n",
       "      <td>V</td>\n",
       "      <td>62</td>\n",
       "      <td>N</td>\n",
       "      <td>NaN</td>\n",
       "      <td>5</td>\n",
       "      <td>May</td>\n",
       "      <td>-1</td>\n",
       "    </tr>\n",
       "    <tr>\n",
       "      <th>5100661</th>\n",
       "      <td>1548180</td>\n",
       "      <td>2019-04-28</td>\n",
       "      <td>2019-04-29</td>\n",
       "      <td>NaN</td>\n",
       "      <td>0</td>\n",
       "      <td>NaN</td>\n",
       "      <td>0</td>\n",
       "      <td>0</td>\n",
       "      <td>0</td>\n",
       "      <td>0</td>\n",
       "      <td>0</td>\n",
       "      <td>0</td>\n",
       "      <td>0</td>\n",
       "      <td>0</td>\n",
       "      <td>0.000</td>\n",
       "      <td>0.000</td>\n",
       "      <td>0</td>\n",
       "      <td>0</td>\n",
       "      <td>0</td>\n",
       "      <td>0</td>\n",
       "      <td>0</td>\n",
       "      <td>ES</td>\n",
       "      <td>28.000</td>\n",
       "      <td>H</td>\n",
       "      <td>39</td>\n",
       "      <td>N</td>\n",
       "      <td>NaN</td>\n",
       "      <td>4</td>\n",
       "      <td>April</td>\n",
       "      <td>-1</td>\n",
       "    </tr>\n",
       "    <tr>\n",
       "      <th>5683006</th>\n",
       "      <td>1548180</td>\n",
       "      <td>2019-05-28</td>\n",
       "      <td>2019-04-29</td>\n",
       "      <td>KHN</td>\n",
       "      <td>1</td>\n",
       "      <td>02 - PARTICULARES</td>\n",
       "      <td>0</td>\n",
       "      <td>0</td>\n",
       "      <td>0</td>\n",
       "      <td>0</td>\n",
       "      <td>0</td>\n",
       "      <td>0</td>\n",
       "      <td>0</td>\n",
       "      <td>0</td>\n",
       "      <td>0.000</td>\n",
       "      <td>0.000</td>\n",
       "      <td>0</td>\n",
       "      <td>0</td>\n",
       "      <td>0</td>\n",
       "      <td>0</td>\n",
       "      <td>1</td>\n",
       "      <td>ES</td>\n",
       "      <td>28.000</td>\n",
       "      <td>H</td>\n",
       "      <td>38</td>\n",
       "      <td>N</td>\n",
       "      <td>NaN</td>\n",
       "      <td>5</td>\n",
       "      <td>May</td>\n",
       "      <td>-1</td>\n",
       "    </tr>\n",
       "    <tr>\n",
       "      <th>5100664</th>\n",
       "      <td>1548186</td>\n",
       "      <td>2019-04-28</td>\n",
       "      <td>2019-04-29</td>\n",
       "      <td>NaN</td>\n",
       "      <td>0</td>\n",
       "      <td>NaN</td>\n",
       "      <td>0</td>\n",
       "      <td>0</td>\n",
       "      <td>0</td>\n",
       "      <td>0</td>\n",
       "      <td>0</td>\n",
       "      <td>0</td>\n",
       "      <td>0</td>\n",
       "      <td>0</td>\n",
       "      <td>0.000</td>\n",
       "      <td>0.000</td>\n",
       "      <td>0</td>\n",
       "      <td>0</td>\n",
       "      <td>0</td>\n",
       "      <td>0</td>\n",
       "      <td>0</td>\n",
       "      <td>ES</td>\n",
       "      <td>3.000</td>\n",
       "      <td>V</td>\n",
       "      <td>42</td>\n",
       "      <td>N</td>\n",
       "      <td>NaN</td>\n",
       "      <td>4</td>\n",
       "      <td>April</td>\n",
       "      <td>-1</td>\n",
       "    </tr>\n",
       "    <tr>\n",
       "      <th>5683003</th>\n",
       "      <td>1548186</td>\n",
       "      <td>2019-05-28</td>\n",
       "      <td>2019-04-29</td>\n",
       "      <td>KHN</td>\n",
       "      <td>1</td>\n",
       "      <td>02 - PARTICULARES</td>\n",
       "      <td>0</td>\n",
       "      <td>0</td>\n",
       "      <td>0</td>\n",
       "      <td>0</td>\n",
       "      <td>0</td>\n",
       "      <td>0</td>\n",
       "      <td>0</td>\n",
       "      <td>0</td>\n",
       "      <td>1.000</td>\n",
       "      <td>1.000</td>\n",
       "      <td>0</td>\n",
       "      <td>0</td>\n",
       "      <td>0</td>\n",
       "      <td>0</td>\n",
       "      <td>1</td>\n",
       "      <td>ES</td>\n",
       "      <td>3.000</td>\n",
       "      <td>V</td>\n",
       "      <td>41</td>\n",
       "      <td>N</td>\n",
       "      <td>NaN</td>\n",
       "      <td>5</td>\n",
       "      <td>May</td>\n",
       "      <td>-1</td>\n",
       "    </tr>\n",
       "  </tbody>\n",
       "</table>\n",
       "<p>94401 rows × 30 columns</p>\n",
       "</div>"
      ],
      "text/plain": [
       "          pk_cid pk_partition entry_date entry_channel  active_customer  \\\n",
       "2943726    46732   2018-10-28 2018-10-08           NaN                1   \n",
       "2977216    46732   2018-11-28 2018-10-08           KFC                1   \n",
       "3628313    46732   2018-12-28 2018-10-08           KFC                1   \n",
       "3839343    46732   2019-01-28 2018-10-08           KFC                1   \n",
       "4480561    46732   2019-02-28 2018-10-08           KFC                1   \n",
       "...          ...          ...        ...           ...              ...   \n",
       "5682969  1548156   2019-05-28 2019-04-29           KHN                1   \n",
       "5100661  1548180   2019-04-28 2019-04-29           NaN                0   \n",
       "5683006  1548180   2019-05-28 2019-04-29           KHN                1   \n",
       "5100664  1548186   2019-04-28 2019-04-29           NaN                0   \n",
       "5683003  1548186   2019-05-28 2019-04-29           KHN                1   \n",
       "\n",
       "                   segment  short_term_deposit  loans  mortgage  funds  \\\n",
       "2943726                NaN                   0      0         0      0   \n",
       "2977216  02 - PARTICULARES                   0      0         0      0   \n",
       "3628313  02 - PARTICULARES                   0      0         0      0   \n",
       "3839343  02 - PARTICULARES                   0      0         0      0   \n",
       "4480561  02 - PARTICULARES                   0      0         0      0   \n",
       "...                    ...                 ...    ...       ...    ...   \n",
       "5682969  02 - PARTICULARES                   0      0         0      0   \n",
       "5100661                NaN                   0      0         0      0   \n",
       "5683006  02 - PARTICULARES                   0      0         0      0   \n",
       "5100664                NaN                   0      0         0      0   \n",
       "5683003  02 - PARTICULARES                   0      0         0      0   \n",
       "\n",
       "         securities  long_term_deposit  em_account_pp  credit_card  payroll  \\\n",
       "2943726           0                  0              0            0    0.000   \n",
       "2977216           0                  1              0            0    0.000   \n",
       "3628313           0                  1              0            0    0.000   \n",
       "3839343           0                  1              0            0    0.000   \n",
       "4480561           0                  1              0            0    0.000   \n",
       "...             ...                ...            ...          ...      ...   \n",
       "5682969           0                  0              0            0    0.000   \n",
       "5100661           0                  0              0            0    0.000   \n",
       "5683006           0                  0              0            0    0.000   \n",
       "5100664           0                  0              0            0    0.000   \n",
       "5683003           0                  0              0            0    1.000   \n",
       "\n",
       "         pension_plan  payroll_account  emc_account  debit_card  em_account_p  \\\n",
       "2943726         0.000                0            0           0             0   \n",
       "2977216         0.000                0            0           0             0   \n",
       "3628313         0.000                0            0           0             0   \n",
       "3839343         0.000                0            0           0             0   \n",
       "4480561         0.000                0            0           0             0   \n",
       "...               ...              ...          ...         ...           ...   \n",
       "5682969         0.000                0            0           0             0   \n",
       "5100661         0.000                0            0           0             0   \n",
       "5683006         0.000                0            0           0             0   \n",
       "5100664         0.000                0            0           0             0   \n",
       "5683003         1.000                0            0           0             0   \n",
       "\n",
       "         em_acount country_id region_code gender  age deceased  salary  \\\n",
       "2943726          1         ES      46.000      V   71        N     NaN   \n",
       "2977216          1         ES      46.000      V   70        N     NaN   \n",
       "3628313          1         ES      46.000      V   70        N     NaN   \n",
       "3839343          1         ES      46.000      V   70        N     NaN   \n",
       "4480561          1         ES      46.000      V   70        N     NaN   \n",
       "...            ...        ...         ...    ...  ...      ...     ...   \n",
       "5682969          1         ES      50.000      V   62        N     NaN   \n",
       "5100661          0         ES      28.000      H   39        N     NaN   \n",
       "5683006          1         ES      28.000      H   38        N     NaN   \n",
       "5100664          0         ES       3.000      V   42        N     NaN   \n",
       "5683003          1         ES       3.000      V   41        N     NaN   \n",
       "\n",
       "         mes_partition mes_nombre_partition  dif_edad  \n",
       "2943726             10              October        -1  \n",
       "2977216             11             November        -1  \n",
       "3628313             12             December        -1  \n",
       "3839343              1              January        -1  \n",
       "4480561              2             February        -1  \n",
       "...                ...                  ...       ...  \n",
       "5682969              5                  May        -1  \n",
       "5100661              4                April        -1  \n",
       "5683006              5                  May        -1  \n",
       "5100664              4                April        -1  \n",
       "5683003              5                  May        -1  \n",
       "\n",
       "[94401 rows x 30 columns]"
      ]
     },
     "execution_count": 275,
     "metadata": {},
     "output_type": "execute_result"
    }
   ],
   "source": [
    "# Visualizar los casos donde la diferencia de edad es menor que 0\n",
    "df_dif_edad_neg"
   ]
  },
  {
   "cell_type": "code",
   "execution_count": 276,
   "metadata": {},
   "outputs": [
    {
     "data": {
      "text/html": [
       "<div>\n",
       "<style scoped>\n",
       "    .dataframe tbody tr th:only-of-type {\n",
       "        vertical-align: middle;\n",
       "    }\n",
       "\n",
       "    .dataframe tbody tr th {\n",
       "        vertical-align: top;\n",
       "    }\n",
       "\n",
       "    .dataframe thead th {\n",
       "        text-align: right;\n",
       "    }\n",
       "</style>\n",
       "<table border=\"1\" class=\"dataframe\">\n",
       "  <thead>\n",
       "    <tr style=\"text-align: right;\">\n",
       "      <th></th>\n",
       "      <th>pk_cid</th>\n",
       "      <th>pk_partition</th>\n",
       "      <th>entry_date</th>\n",
       "      <th>entry_channel</th>\n",
       "      <th>active_customer</th>\n",
       "      <th>segment</th>\n",
       "      <th>short_term_deposit</th>\n",
       "      <th>loans</th>\n",
       "      <th>mortgage</th>\n",
       "      <th>funds</th>\n",
       "      <th>securities</th>\n",
       "      <th>long_term_deposit</th>\n",
       "      <th>em_account_pp</th>\n",
       "      <th>credit_card</th>\n",
       "      <th>payroll</th>\n",
       "      <th>pension_plan</th>\n",
       "      <th>payroll_account</th>\n",
       "      <th>emc_account</th>\n",
       "      <th>debit_card</th>\n",
       "      <th>em_account_p</th>\n",
       "      <th>em_acount</th>\n",
       "      <th>country_id</th>\n",
       "      <th>region_code</th>\n",
       "      <th>gender</th>\n",
       "      <th>age</th>\n",
       "      <th>deceased</th>\n",
       "      <th>salary</th>\n",
       "      <th>mes_partition</th>\n",
       "      <th>mes_nombre_partition</th>\n",
       "      <th>dif_edad</th>\n",
       "    </tr>\n",
       "  </thead>\n",
       "  <tbody>\n",
       "    <tr>\n",
       "      <th>3033723</th>\n",
       "      <td>308667</td>\n",
       "      <td>2018-11-28</td>\n",
       "      <td>2018-11-16</td>\n",
       "      <td>NaN</td>\n",
       "      <td>1</td>\n",
       "      <td>NaN</td>\n",
       "      <td>0</td>\n",
       "      <td>0</td>\n",
       "      <td>0</td>\n",
       "      <td>0</td>\n",
       "      <td>0</td>\n",
       "      <td>0</td>\n",
       "      <td>0</td>\n",
       "      <td>0</td>\n",
       "      <td>0.000</td>\n",
       "      <td>0.000</td>\n",
       "      <td>0</td>\n",
       "      <td>0</td>\n",
       "      <td>0</td>\n",
       "      <td>0</td>\n",
       "      <td>1</td>\n",
       "      <td>ES</td>\n",
       "      <td>50.000</td>\n",
       "      <td>V</td>\n",
       "      <td>65</td>\n",
       "      <td>N</td>\n",
       "      <td>NaN</td>\n",
       "      <td>11</td>\n",
       "      <td>November</td>\n",
       "      <td>-9</td>\n",
       "    </tr>\n",
       "    <tr>\n",
       "      <th>3627875</th>\n",
       "      <td>308667</td>\n",
       "      <td>2018-12-28</td>\n",
       "      <td>2018-11-16</td>\n",
       "      <td>KHN</td>\n",
       "      <td>1</td>\n",
       "      <td>02 - PARTICULARES</td>\n",
       "      <td>0</td>\n",
       "      <td>0</td>\n",
       "      <td>0</td>\n",
       "      <td>0</td>\n",
       "      <td>0</td>\n",
       "      <td>0</td>\n",
       "      <td>0</td>\n",
       "      <td>0</td>\n",
       "      <td>0.000</td>\n",
       "      <td>0.000</td>\n",
       "      <td>0</td>\n",
       "      <td>0</td>\n",
       "      <td>0</td>\n",
       "      <td>0</td>\n",
       "      <td>1</td>\n",
       "      <td>ES</td>\n",
       "      <td>50.000</td>\n",
       "      <td>V</td>\n",
       "      <td>65</td>\n",
       "      <td>N</td>\n",
       "      <td>NaN</td>\n",
       "      <td>12</td>\n",
       "      <td>December</td>\n",
       "      <td>-9</td>\n",
       "    </tr>\n",
       "    <tr>\n",
       "      <th>4148494</th>\n",
       "      <td>308667</td>\n",
       "      <td>2019-01-28</td>\n",
       "      <td>2018-11-16</td>\n",
       "      <td>KHN</td>\n",
       "      <td>1</td>\n",
       "      <td>02 - PARTICULARES</td>\n",
       "      <td>0</td>\n",
       "      <td>0</td>\n",
       "      <td>0</td>\n",
       "      <td>0</td>\n",
       "      <td>0</td>\n",
       "      <td>0</td>\n",
       "      <td>0</td>\n",
       "      <td>0</td>\n",
       "      <td>0.000</td>\n",
       "      <td>0.000</td>\n",
       "      <td>0</td>\n",
       "      <td>0</td>\n",
       "      <td>0</td>\n",
       "      <td>0</td>\n",
       "      <td>1</td>\n",
       "      <td>ES</td>\n",
       "      <td>50.000</td>\n",
       "      <td>V</td>\n",
       "      <td>55</td>\n",
       "      <td>N</td>\n",
       "      <td>NaN</td>\n",
       "      <td>1</td>\n",
       "      <td>January</td>\n",
       "      <td>-9</td>\n",
       "    </tr>\n",
       "    <tr>\n",
       "      <th>4481102</th>\n",
       "      <td>308667</td>\n",
       "      <td>2019-02-28</td>\n",
       "      <td>2018-11-16</td>\n",
       "      <td>KHN</td>\n",
       "      <td>1</td>\n",
       "      <td>02 - PARTICULARES</td>\n",
       "      <td>0</td>\n",
       "      <td>0</td>\n",
       "      <td>0</td>\n",
       "      <td>0</td>\n",
       "      <td>0</td>\n",
       "      <td>0</td>\n",
       "      <td>0</td>\n",
       "      <td>0</td>\n",
       "      <td>0.000</td>\n",
       "      <td>0.000</td>\n",
       "      <td>0</td>\n",
       "      <td>0</td>\n",
       "      <td>1</td>\n",
       "      <td>0</td>\n",
       "      <td>1</td>\n",
       "      <td>ES</td>\n",
       "      <td>50.000</td>\n",
       "      <td>V</td>\n",
       "      <td>55</td>\n",
       "      <td>N</td>\n",
       "      <td>NaN</td>\n",
       "      <td>2</td>\n",
       "      <td>February</td>\n",
       "      <td>-9</td>\n",
       "    </tr>\n",
       "    <tr>\n",
       "      <th>4884600</th>\n",
       "      <td>308667</td>\n",
       "      <td>2019-03-28</td>\n",
       "      <td>2018-11-16</td>\n",
       "      <td>KHN</td>\n",
       "      <td>1</td>\n",
       "      <td>02 - PARTICULARES</td>\n",
       "      <td>0</td>\n",
       "      <td>0</td>\n",
       "      <td>0</td>\n",
       "      <td>0</td>\n",
       "      <td>0</td>\n",
       "      <td>0</td>\n",
       "      <td>0</td>\n",
       "      <td>0</td>\n",
       "      <td>0.000</td>\n",
       "      <td>0.000</td>\n",
       "      <td>0</td>\n",
       "      <td>0</td>\n",
       "      <td>1</td>\n",
       "      <td>0</td>\n",
       "      <td>1</td>\n",
       "      <td>ES</td>\n",
       "      <td>50.000</td>\n",
       "      <td>V</td>\n",
       "      <td>55</td>\n",
       "      <td>N</td>\n",
       "      <td>NaN</td>\n",
       "      <td>3</td>\n",
       "      <td>March</td>\n",
       "      <td>-9</td>\n",
       "    </tr>\n",
       "    <tr>\n",
       "      <th>...</th>\n",
       "      <td>...</td>\n",
       "      <td>...</td>\n",
       "      <td>...</td>\n",
       "      <td>...</td>\n",
       "      <td>...</td>\n",
       "      <td>...</td>\n",
       "      <td>...</td>\n",
       "      <td>...</td>\n",
       "      <td>...</td>\n",
       "      <td>...</td>\n",
       "      <td>...</td>\n",
       "      <td>...</td>\n",
       "      <td>...</td>\n",
       "      <td>...</td>\n",
       "      <td>...</td>\n",
       "      <td>...</td>\n",
       "      <td>...</td>\n",
       "      <td>...</td>\n",
       "      <td>...</td>\n",
       "      <td>...</td>\n",
       "      <td>...</td>\n",
       "      <td>...</td>\n",
       "      <td>...</td>\n",
       "      <td>...</td>\n",
       "      <td>...</td>\n",
       "      <td>...</td>\n",
       "      <td>...</td>\n",
       "      <td>...</td>\n",
       "      <td>...</td>\n",
       "      <td>...</td>\n",
       "    </tr>\n",
       "    <tr>\n",
       "      <th>5698512</th>\n",
       "      <td>1526523</td>\n",
       "      <td>2019-05-28</td>\n",
       "      <td>2019-01-22</td>\n",
       "      <td>KHN</td>\n",
       "      <td>1</td>\n",
       "      <td>02 - PARTICULARES</td>\n",
       "      <td>0</td>\n",
       "      <td>0</td>\n",
       "      <td>0</td>\n",
       "      <td>0</td>\n",
       "      <td>0</td>\n",
       "      <td>0</td>\n",
       "      <td>0</td>\n",
       "      <td>0</td>\n",
       "      <td>0.000</td>\n",
       "      <td>0.000</td>\n",
       "      <td>0</td>\n",
       "      <td>0</td>\n",
       "      <td>1</td>\n",
       "      <td>0</td>\n",
       "      <td>1</td>\n",
       "      <td>ES</td>\n",
       "      <td>28.000</td>\n",
       "      <td>H</td>\n",
       "      <td>34</td>\n",
       "      <td>N</td>\n",
       "      <td>NaN</td>\n",
       "      <td>5</td>\n",
       "      <td>May</td>\n",
       "      <td>-10</td>\n",
       "    </tr>\n",
       "    <tr>\n",
       "      <th>4394326</th>\n",
       "      <td>1530367</td>\n",
       "      <td>2019-02-28</td>\n",
       "      <td>2019-02-05</td>\n",
       "      <td>NaN</td>\n",
       "      <td>0</td>\n",
       "      <td>NaN</td>\n",
       "      <td>0</td>\n",
       "      <td>0</td>\n",
       "      <td>0</td>\n",
       "      <td>0</td>\n",
       "      <td>0</td>\n",
       "      <td>0</td>\n",
       "      <td>0</td>\n",
       "      <td>0</td>\n",
       "      <td>0.000</td>\n",
       "      <td>0.000</td>\n",
       "      <td>0</td>\n",
       "      <td>0</td>\n",
       "      <td>0</td>\n",
       "      <td>0</td>\n",
       "      <td>1</td>\n",
       "      <td>ES</td>\n",
       "      <td>32.000</td>\n",
       "      <td>V</td>\n",
       "      <td>86</td>\n",
       "      <td>N</td>\n",
       "      <td>NaN</td>\n",
       "      <td>2</td>\n",
       "      <td>February</td>\n",
       "      <td>-40</td>\n",
       "    </tr>\n",
       "    <tr>\n",
       "      <th>4720580</th>\n",
       "      <td>1530367</td>\n",
       "      <td>2019-03-28</td>\n",
       "      <td>2019-02-05</td>\n",
       "      <td>KHN</td>\n",
       "      <td>1</td>\n",
       "      <td>02 - PARTICULARES</td>\n",
       "      <td>0</td>\n",
       "      <td>0</td>\n",
       "      <td>0</td>\n",
       "      <td>0</td>\n",
       "      <td>0</td>\n",
       "      <td>0</td>\n",
       "      <td>0</td>\n",
       "      <td>0</td>\n",
       "      <td>1.000</td>\n",
       "      <td>1.000</td>\n",
       "      <td>1</td>\n",
       "      <td>0</td>\n",
       "      <td>1</td>\n",
       "      <td>0</td>\n",
       "      <td>0</td>\n",
       "      <td>ES</td>\n",
       "      <td>32.000</td>\n",
       "      <td>V</td>\n",
       "      <td>86</td>\n",
       "      <td>N</td>\n",
       "      <td>NaN</td>\n",
       "      <td>3</td>\n",
       "      <td>March</td>\n",
       "      <td>-40</td>\n",
       "    </tr>\n",
       "    <tr>\n",
       "      <th>5084070</th>\n",
       "      <td>1530367</td>\n",
       "      <td>2019-04-28</td>\n",
       "      <td>2019-02-05</td>\n",
       "      <td>KHN</td>\n",
       "      <td>1</td>\n",
       "      <td>02 - PARTICULARES</td>\n",
       "      <td>0</td>\n",
       "      <td>0</td>\n",
       "      <td>0</td>\n",
       "      <td>0</td>\n",
       "      <td>0</td>\n",
       "      <td>0</td>\n",
       "      <td>0</td>\n",
       "      <td>0</td>\n",
       "      <td>1.000</td>\n",
       "      <td>1.000</td>\n",
       "      <td>1</td>\n",
       "      <td>0</td>\n",
       "      <td>1</td>\n",
       "      <td>0</td>\n",
       "      <td>0</td>\n",
       "      <td>ES</td>\n",
       "      <td>32.000</td>\n",
       "      <td>V</td>\n",
       "      <td>46</td>\n",
       "      <td>N</td>\n",
       "      <td>NaN</td>\n",
       "      <td>4</td>\n",
       "      <td>April</td>\n",
       "      <td>-40</td>\n",
       "    </tr>\n",
       "    <tr>\n",
       "      <th>5692137</th>\n",
       "      <td>1530367</td>\n",
       "      <td>2019-05-28</td>\n",
       "      <td>2019-02-05</td>\n",
       "      <td>KHN</td>\n",
       "      <td>1</td>\n",
       "      <td>02 - PARTICULARES</td>\n",
       "      <td>0</td>\n",
       "      <td>0</td>\n",
       "      <td>0</td>\n",
       "      <td>0</td>\n",
       "      <td>0</td>\n",
       "      <td>0</td>\n",
       "      <td>0</td>\n",
       "      <td>0</td>\n",
       "      <td>1.000</td>\n",
       "      <td>1.000</td>\n",
       "      <td>1</td>\n",
       "      <td>0</td>\n",
       "      <td>1</td>\n",
       "      <td>0</td>\n",
       "      <td>0</td>\n",
       "      <td>ES</td>\n",
       "      <td>32.000</td>\n",
       "      <td>V</td>\n",
       "      <td>46</td>\n",
       "      <td>N</td>\n",
       "      <td>NaN</td>\n",
       "      <td>5</td>\n",
       "      <td>May</td>\n",
       "      <td>-40</td>\n",
       "    </tr>\n",
       "  </tbody>\n",
       "</table>\n",
       "<p>97 rows × 30 columns</p>\n",
       "</div>"
      ],
      "text/plain": [
       "          pk_cid pk_partition entry_date entry_channel  active_customer  \\\n",
       "3033723   308667   2018-11-28 2018-11-16           NaN                1   \n",
       "3627875   308667   2018-12-28 2018-11-16           KHN                1   \n",
       "4148494   308667   2019-01-28 2018-11-16           KHN                1   \n",
       "4481102   308667   2019-02-28 2018-11-16           KHN                1   \n",
       "4884600   308667   2019-03-28 2018-11-16           KHN                1   \n",
       "...          ...          ...        ...           ...              ...   \n",
       "5698512  1526523   2019-05-28 2019-01-22           KHN                1   \n",
       "4394326  1530367   2019-02-28 2019-02-05           NaN                0   \n",
       "4720580  1530367   2019-03-28 2019-02-05           KHN                1   \n",
       "5084070  1530367   2019-04-28 2019-02-05           KHN                1   \n",
       "5692137  1530367   2019-05-28 2019-02-05           KHN                1   \n",
       "\n",
       "                   segment  short_term_deposit  loans  mortgage  funds  \\\n",
       "3033723                NaN                   0      0         0      0   \n",
       "3627875  02 - PARTICULARES                   0      0         0      0   \n",
       "4148494  02 - PARTICULARES                   0      0         0      0   \n",
       "4481102  02 - PARTICULARES                   0      0         0      0   \n",
       "4884600  02 - PARTICULARES                   0      0         0      0   \n",
       "...                    ...                 ...    ...       ...    ...   \n",
       "5698512  02 - PARTICULARES                   0      0         0      0   \n",
       "4394326                NaN                   0      0         0      0   \n",
       "4720580  02 - PARTICULARES                   0      0         0      0   \n",
       "5084070  02 - PARTICULARES                   0      0         0      0   \n",
       "5692137  02 - PARTICULARES                   0      0         0      0   \n",
       "\n",
       "         securities  long_term_deposit  em_account_pp  credit_card  payroll  \\\n",
       "3033723           0                  0              0            0    0.000   \n",
       "3627875           0                  0              0            0    0.000   \n",
       "4148494           0                  0              0            0    0.000   \n",
       "4481102           0                  0              0            0    0.000   \n",
       "4884600           0                  0              0            0    0.000   \n",
       "...             ...                ...            ...          ...      ...   \n",
       "5698512           0                  0              0            0    0.000   \n",
       "4394326           0                  0              0            0    0.000   \n",
       "4720580           0                  0              0            0    1.000   \n",
       "5084070           0                  0              0            0    1.000   \n",
       "5692137           0                  0              0            0    1.000   \n",
       "\n",
       "         pension_plan  payroll_account  emc_account  debit_card  em_account_p  \\\n",
       "3033723         0.000                0            0           0             0   \n",
       "3627875         0.000                0            0           0             0   \n",
       "4148494         0.000                0            0           0             0   \n",
       "4481102         0.000                0            0           1             0   \n",
       "4884600         0.000                0            0           1             0   \n",
       "...               ...              ...          ...         ...           ...   \n",
       "5698512         0.000                0            0           1             0   \n",
       "4394326         0.000                0            0           0             0   \n",
       "4720580         1.000                1            0           1             0   \n",
       "5084070         1.000                1            0           1             0   \n",
       "5692137         1.000                1            0           1             0   \n",
       "\n",
       "         em_acount country_id region_code gender  age deceased  salary  \\\n",
       "3033723          1         ES      50.000      V   65        N     NaN   \n",
       "3627875          1         ES      50.000      V   65        N     NaN   \n",
       "4148494          1         ES      50.000      V   55        N     NaN   \n",
       "4481102          1         ES      50.000      V   55        N     NaN   \n",
       "4884600          1         ES      50.000      V   55        N     NaN   \n",
       "...            ...        ...         ...    ...  ...      ...     ...   \n",
       "5698512          1         ES      28.000      H   34        N     NaN   \n",
       "4394326          1         ES      32.000      V   86        N     NaN   \n",
       "4720580          0         ES      32.000      V   86        N     NaN   \n",
       "5084070          0         ES      32.000      V   46        N     NaN   \n",
       "5692137          0         ES      32.000      V   46        N     NaN   \n",
       "\n",
       "         mes_partition mes_nombre_partition  dif_edad  \n",
       "3033723             11             November        -9  \n",
       "3627875             12             December        -9  \n",
       "4148494              1              January        -9  \n",
       "4481102              2             February        -9  \n",
       "4884600              3                March        -9  \n",
       "...                ...                  ...       ...  \n",
       "5698512              5                  May       -10  \n",
       "4394326              2             February       -40  \n",
       "4720580              3                March       -40  \n",
       "5084070              4                April       -40  \n",
       "5692137              5                  May       -40  \n",
       "\n",
       "[97 rows x 30 columns]"
      ]
     },
     "execution_count": 276,
     "metadata": {},
     "output_type": "execute_result"
    }
   ],
   "source": [
    "df_dif_edad_neg[df_dif_edad_neg['dif_edad'] < -1]"
   ]
  },
  {
   "cell_type": "markdown",
   "metadata": {},
   "source": [
    "De igual forma vamos a sustituir todas las edades de los casos con variaciones negativas por la edad que figure en la última entrada de cada usuario"
   ]
  },
  {
   "cell_type": "code",
   "execution_count": 277,
   "metadata": {},
   "outputs": [],
   "source": [
    "# Paso 1: Obtener la última edad registrada (en la última pk_partition) para cada individuo\n",
    "ultima_edad_por_individuo_neg = df_dif_edad_neg.groupby('pk_cid').apply(lambda x: x.loc[x['pk_partition'].idxmax(), 'age'])\n",
    "\n",
    "# Paso 2: Actualizar la edad en df_full para los individuos que cumplen la condición\n",
    "def actualizar_edad_neg(row):\n",
    "    if row['pk_cid'] in ultima_edad_por_individuo_neg.index:\n",
    "        return ultima_edad_por_individuo_neg[row['pk_cid']]\n",
    "    else:\n",
    "        return row['age']\n",
    "\n",
    "# Aplicar la función para actualizar la edad en df_full\n",
    "df_full['age'] = df_full.apply(actualizar_edad_neg, axis=1)"
   ]
  },
  {
   "cell_type": "markdown",
   "metadata": {},
   "source": [
    "## COUNTRY ID"
   ]
  },
  {
   "cell_type": "code",
   "execution_count": 278,
   "metadata": {},
   "outputs": [
    {
     "data": {
      "application/vnd.plotly.v1+json": {
       "config": {
        "plotlyServerURL": "https://plot.ly"
       },
       "data": [
        {
         "alignmentgroup": "True",
         "hovertemplate": "País=%{x}<br>Número de clientes=%{text}<extra></extra>",
         "legendgroup": "",
         "marker": {
          "color": "#e49467",
          "pattern": {
           "shape": ""
          }
         },
         "name": "",
         "offsetgroup": "",
         "orientation": "v",
         "showlegend": false,
         "text": [
          442833,
          32,
          18,
          15,
          14,
          13,
          7,
          6,
          5,
          5
         ],
         "textposition": "outside",
         "texttemplate": "%{text:.0f}",
         "type": "bar",
         "x": [
          "ES",
          "GB",
          "US",
          "FR",
          "CH",
          "DE",
          "BE",
          "BR",
          "VE",
          "MX"
         ],
         "xaxis": "x",
         "y": [
          442833,
          32,
          18,
          15,
          14,
          13,
          7,
          6,
          5,
          5
         ],
         "yaxis": "y"
        }
       ],
       "layout": {
        "barmode": "relative",
        "legend": {
         "tracegroupgap": 0
        },
        "template": {
         "data": {
          "bar": [
           {
            "error_x": {
             "color": "#2a3f5f"
            },
            "error_y": {
             "color": "#2a3f5f"
            },
            "marker": {
             "line": {
              "color": "#E5ECF6",
              "width": 0.5
             },
             "pattern": {
              "fillmode": "overlay",
              "size": 10,
              "solidity": 0.2
             }
            },
            "type": "bar"
           }
          ],
          "barpolar": [
           {
            "marker": {
             "line": {
              "color": "#E5ECF6",
              "width": 0.5
             },
             "pattern": {
              "fillmode": "overlay",
              "size": 10,
              "solidity": 0.2
             }
            },
            "type": "barpolar"
           }
          ],
          "carpet": [
           {
            "aaxis": {
             "endlinecolor": "#2a3f5f",
             "gridcolor": "white",
             "linecolor": "white",
             "minorgridcolor": "white",
             "startlinecolor": "#2a3f5f"
            },
            "baxis": {
             "endlinecolor": "#2a3f5f",
             "gridcolor": "white",
             "linecolor": "white",
             "minorgridcolor": "white",
             "startlinecolor": "#2a3f5f"
            },
            "type": "carpet"
           }
          ],
          "choropleth": [
           {
            "colorbar": {
             "outlinewidth": 0,
             "ticks": ""
            },
            "type": "choropleth"
           }
          ],
          "contour": [
           {
            "colorbar": {
             "outlinewidth": 0,
             "ticks": ""
            },
            "colorscale": [
             [
              0,
              "#0d0887"
             ],
             [
              0.1111111111111111,
              "#46039f"
             ],
             [
              0.2222222222222222,
              "#7201a8"
             ],
             [
              0.3333333333333333,
              "#9c179e"
             ],
             [
              0.4444444444444444,
              "#bd3786"
             ],
             [
              0.5555555555555556,
              "#d8576b"
             ],
             [
              0.6666666666666666,
              "#ed7953"
             ],
             [
              0.7777777777777778,
              "#fb9f3a"
             ],
             [
              0.8888888888888888,
              "#fdca26"
             ],
             [
              1,
              "#f0f921"
             ]
            ],
            "type": "contour"
           }
          ],
          "contourcarpet": [
           {
            "colorbar": {
             "outlinewidth": 0,
             "ticks": ""
            },
            "type": "contourcarpet"
           }
          ],
          "heatmap": [
           {
            "colorbar": {
             "outlinewidth": 0,
             "ticks": ""
            },
            "colorscale": [
             [
              0,
              "#0d0887"
             ],
             [
              0.1111111111111111,
              "#46039f"
             ],
             [
              0.2222222222222222,
              "#7201a8"
             ],
             [
              0.3333333333333333,
              "#9c179e"
             ],
             [
              0.4444444444444444,
              "#bd3786"
             ],
             [
              0.5555555555555556,
              "#d8576b"
             ],
             [
              0.6666666666666666,
              "#ed7953"
             ],
             [
              0.7777777777777778,
              "#fb9f3a"
             ],
             [
              0.8888888888888888,
              "#fdca26"
             ],
             [
              1,
              "#f0f921"
             ]
            ],
            "type": "heatmap"
           }
          ],
          "heatmapgl": [
           {
            "colorbar": {
             "outlinewidth": 0,
             "ticks": ""
            },
            "colorscale": [
             [
              0,
              "#0d0887"
             ],
             [
              0.1111111111111111,
              "#46039f"
             ],
             [
              0.2222222222222222,
              "#7201a8"
             ],
             [
              0.3333333333333333,
              "#9c179e"
             ],
             [
              0.4444444444444444,
              "#bd3786"
             ],
             [
              0.5555555555555556,
              "#d8576b"
             ],
             [
              0.6666666666666666,
              "#ed7953"
             ],
             [
              0.7777777777777778,
              "#fb9f3a"
             ],
             [
              0.8888888888888888,
              "#fdca26"
             ],
             [
              1,
              "#f0f921"
             ]
            ],
            "type": "heatmapgl"
           }
          ],
          "histogram": [
           {
            "marker": {
             "pattern": {
              "fillmode": "overlay",
              "size": 10,
              "solidity": 0.2
             }
            },
            "type": "histogram"
           }
          ],
          "histogram2d": [
           {
            "colorbar": {
             "outlinewidth": 0,
             "ticks": ""
            },
            "colorscale": [
             [
              0,
              "#0d0887"
             ],
             [
              0.1111111111111111,
              "#46039f"
             ],
             [
              0.2222222222222222,
              "#7201a8"
             ],
             [
              0.3333333333333333,
              "#9c179e"
             ],
             [
              0.4444444444444444,
              "#bd3786"
             ],
             [
              0.5555555555555556,
              "#d8576b"
             ],
             [
              0.6666666666666666,
              "#ed7953"
             ],
             [
              0.7777777777777778,
              "#fb9f3a"
             ],
             [
              0.8888888888888888,
              "#fdca26"
             ],
             [
              1,
              "#f0f921"
             ]
            ],
            "type": "histogram2d"
           }
          ],
          "histogram2dcontour": [
           {
            "colorbar": {
             "outlinewidth": 0,
             "ticks": ""
            },
            "colorscale": [
             [
              0,
              "#0d0887"
             ],
             [
              0.1111111111111111,
              "#46039f"
             ],
             [
              0.2222222222222222,
              "#7201a8"
             ],
             [
              0.3333333333333333,
              "#9c179e"
             ],
             [
              0.4444444444444444,
              "#bd3786"
             ],
             [
              0.5555555555555556,
              "#d8576b"
             ],
             [
              0.6666666666666666,
              "#ed7953"
             ],
             [
              0.7777777777777778,
              "#fb9f3a"
             ],
             [
              0.8888888888888888,
              "#fdca26"
             ],
             [
              1,
              "#f0f921"
             ]
            ],
            "type": "histogram2dcontour"
           }
          ],
          "mesh3d": [
           {
            "colorbar": {
             "outlinewidth": 0,
             "ticks": ""
            },
            "type": "mesh3d"
           }
          ],
          "parcoords": [
           {
            "line": {
             "colorbar": {
              "outlinewidth": 0,
              "ticks": ""
             }
            },
            "type": "parcoords"
           }
          ],
          "pie": [
           {
            "automargin": true,
            "type": "pie"
           }
          ],
          "scatter": [
           {
            "fillpattern": {
             "fillmode": "overlay",
             "size": 10,
             "solidity": 0.2
            },
            "type": "scatter"
           }
          ],
          "scatter3d": [
           {
            "line": {
             "colorbar": {
              "outlinewidth": 0,
              "ticks": ""
             }
            },
            "marker": {
             "colorbar": {
              "outlinewidth": 0,
              "ticks": ""
             }
            },
            "type": "scatter3d"
           }
          ],
          "scattercarpet": [
           {
            "marker": {
             "colorbar": {
              "outlinewidth": 0,
              "ticks": ""
             }
            },
            "type": "scattercarpet"
           }
          ],
          "scattergeo": [
           {
            "marker": {
             "colorbar": {
              "outlinewidth": 0,
              "ticks": ""
             }
            },
            "type": "scattergeo"
           }
          ],
          "scattergl": [
           {
            "marker": {
             "colorbar": {
              "outlinewidth": 0,
              "ticks": ""
             }
            },
            "type": "scattergl"
           }
          ],
          "scattermapbox": [
           {
            "marker": {
             "colorbar": {
              "outlinewidth": 0,
              "ticks": ""
             }
            },
            "type": "scattermapbox"
           }
          ],
          "scatterpolar": [
           {
            "marker": {
             "colorbar": {
              "outlinewidth": 0,
              "ticks": ""
             }
            },
            "type": "scatterpolar"
           }
          ],
          "scatterpolargl": [
           {
            "marker": {
             "colorbar": {
              "outlinewidth": 0,
              "ticks": ""
             }
            },
            "type": "scatterpolargl"
           }
          ],
          "scatterternary": [
           {
            "marker": {
             "colorbar": {
              "outlinewidth": 0,
              "ticks": ""
             }
            },
            "type": "scatterternary"
           }
          ],
          "surface": [
           {
            "colorbar": {
             "outlinewidth": 0,
             "ticks": ""
            },
            "colorscale": [
             [
              0,
              "#0d0887"
             ],
             [
              0.1111111111111111,
              "#46039f"
             ],
             [
              0.2222222222222222,
              "#7201a8"
             ],
             [
              0.3333333333333333,
              "#9c179e"
             ],
             [
              0.4444444444444444,
              "#bd3786"
             ],
             [
              0.5555555555555556,
              "#d8576b"
             ],
             [
              0.6666666666666666,
              "#ed7953"
             ],
             [
              0.7777777777777778,
              "#fb9f3a"
             ],
             [
              0.8888888888888888,
              "#fdca26"
             ],
             [
              1,
              "#f0f921"
             ]
            ],
            "type": "surface"
           }
          ],
          "table": [
           {
            "cells": {
             "fill": {
              "color": "#EBF0F8"
             },
             "line": {
              "color": "white"
             }
            },
            "header": {
             "fill": {
              "color": "#C8D4E3"
             },
             "line": {
              "color": "white"
             }
            },
            "type": "table"
           }
          ]
         },
         "layout": {
          "annotationdefaults": {
           "arrowcolor": "#2a3f5f",
           "arrowhead": 0,
           "arrowwidth": 1
          },
          "autotypenumbers": "strict",
          "coloraxis": {
           "colorbar": {
            "outlinewidth": 0,
            "ticks": ""
           }
          },
          "colorscale": {
           "diverging": [
            [
             0,
             "#8e0152"
            ],
            [
             0.1,
             "#c51b7d"
            ],
            [
             0.2,
             "#de77ae"
            ],
            [
             0.3,
             "#f1b6da"
            ],
            [
             0.4,
             "#fde0ef"
            ],
            [
             0.5,
             "#f7f7f7"
            ],
            [
             0.6,
             "#e6f5d0"
            ],
            [
             0.7,
             "#b8e186"
            ],
            [
             0.8,
             "#7fbc41"
            ],
            [
             0.9,
             "#4d9221"
            ],
            [
             1,
             "#276419"
            ]
           ],
           "sequential": [
            [
             0,
             "#0d0887"
            ],
            [
             0.1111111111111111,
             "#46039f"
            ],
            [
             0.2222222222222222,
             "#7201a8"
            ],
            [
             0.3333333333333333,
             "#9c179e"
            ],
            [
             0.4444444444444444,
             "#bd3786"
            ],
            [
             0.5555555555555556,
             "#d8576b"
            ],
            [
             0.6666666666666666,
             "#ed7953"
            ],
            [
             0.7777777777777778,
             "#fb9f3a"
            ],
            [
             0.8888888888888888,
             "#fdca26"
            ],
            [
             1,
             "#f0f921"
            ]
           ],
           "sequentialminus": [
            [
             0,
             "#0d0887"
            ],
            [
             0.1111111111111111,
             "#46039f"
            ],
            [
             0.2222222222222222,
             "#7201a8"
            ],
            [
             0.3333333333333333,
             "#9c179e"
            ],
            [
             0.4444444444444444,
             "#bd3786"
            ],
            [
             0.5555555555555556,
             "#d8576b"
            ],
            [
             0.6666666666666666,
             "#ed7953"
            ],
            [
             0.7777777777777778,
             "#fb9f3a"
            ],
            [
             0.8888888888888888,
             "#fdca26"
            ],
            [
             1,
             "#f0f921"
            ]
           ]
          },
          "colorway": [
           "#636efa",
           "#EF553B",
           "#00cc96",
           "#ab63fa",
           "#FFA15A",
           "#19d3f3",
           "#FF6692",
           "#B6E880",
           "#FF97FF",
           "#FECB52"
          ],
          "font": {
           "color": "#2a3f5f"
          },
          "geo": {
           "bgcolor": "white",
           "lakecolor": "white",
           "landcolor": "#E5ECF6",
           "showlakes": true,
           "showland": true,
           "subunitcolor": "white"
          },
          "hoverlabel": {
           "align": "left"
          },
          "hovermode": "closest",
          "mapbox": {
           "style": "light"
          },
          "paper_bgcolor": "white",
          "plot_bgcolor": "#E5ECF6",
          "polar": {
           "angularaxis": {
            "gridcolor": "white",
            "linecolor": "white",
            "ticks": ""
           },
           "bgcolor": "#E5ECF6",
           "radialaxis": {
            "gridcolor": "white",
            "linecolor": "white",
            "ticks": ""
           }
          },
          "scene": {
           "xaxis": {
            "backgroundcolor": "#E5ECF6",
            "gridcolor": "white",
            "gridwidth": 2,
            "linecolor": "white",
            "showbackground": true,
            "ticks": "",
            "zerolinecolor": "white"
           },
           "yaxis": {
            "backgroundcolor": "#E5ECF6",
            "gridcolor": "white",
            "gridwidth": 2,
            "linecolor": "white",
            "showbackground": true,
            "ticks": "",
            "zerolinecolor": "white"
           },
           "zaxis": {
            "backgroundcolor": "#E5ECF6",
            "gridcolor": "white",
            "gridwidth": 2,
            "linecolor": "white",
            "showbackground": true,
            "ticks": "",
            "zerolinecolor": "white"
           }
          },
          "shapedefaults": {
           "line": {
            "color": "#2a3f5f"
           }
          },
          "ternary": {
           "aaxis": {
            "gridcolor": "white",
            "linecolor": "white",
            "ticks": ""
           },
           "baxis": {
            "gridcolor": "white",
            "linecolor": "white",
            "ticks": ""
           },
           "bgcolor": "#E5ECF6",
           "caxis": {
            "gridcolor": "white",
            "linecolor": "white",
            "ticks": ""
           }
          },
          "title": {
           "x": 0.05
          },
          "xaxis": {
           "automargin": true,
           "gridcolor": "white",
           "linecolor": "white",
           "ticks": "",
           "title": {
            "standoff": 15
           },
           "zerolinecolor": "white",
           "zerolinewidth": 2
          },
          "yaxis": {
           "automargin": true,
           "gridcolor": "white",
           "linecolor": "white",
           "ticks": "",
           "title": {
            "standoff": 15
           },
           "zerolinecolor": "white",
           "zerolinewidth": 2
          }
         }
        },
        "title": {
         "text": "Top 10 Países más comunes de clientes (última partición)"
        },
        "xaxis": {
         "anchor": "y",
         "domain": [
          0,
          1
         ],
         "title": {
          "text": "País"
         }
        },
        "yaxis": {
         "anchor": "x",
         "domain": [
          0,
          1
         ],
         "title": {
          "text": "Número de clientes"
         }
        }
       }
      }
     },
     "metadata": {},
     "output_type": "display_data"
    }
   ],
   "source": [
    "# Contar la distribución de valores en 'country_id' para la última partición\n",
    "country_data = df_last_partition['country_id'].value_counts().reset_index()\n",
    "country_data.columns = ['country_id', 'count']\n",
    "\n",
    "# Filtrar los 10 países más repetidos\n",
    "top_10_countries = country_data.nlargest(10, 'count')\n",
    "\n",
    "# Crear el gráfico interactivo de barras con plotly\n",
    "custom_colors = ['#e49467', '#f7f7c6', '#90c6a6']  # Usar la paleta de colores anterior\n",
    "\n",
    "fig = px.bar(top_10_countries, \n",
    "             x='country_id', \n",
    "             y='count', \n",
    "             text='count',  # Mostrar el número de casos en las etiquetas de las barras\n",
    "             labels={'count':'Número de clientes', 'country_id':'País'}, \n",
    "             title='Top 10 Países más comunes de clientes (última partición)',\n",
    "             color_discrete_sequence=custom_colors)\n",
    "\n",
    "# Personalizar el formato del texto para mostrar los números enteros\n",
    "fig.update_traces(texttemplate='%{text:.0f}', textposition='outside')\n",
    "\n",
    "# Mostrar el gráfico interactivo\n",
    "fig.show()"
   ]
  },
  {
   "cell_type": "code",
   "execution_count": 279,
   "metadata": {},
   "outputs": [
    {
     "data": {
      "application/vnd.plotly.v1+json": {
       "config": {
        "plotlyServerURL": "https://plot.ly"
       },
       "data": [
        {
         "alignmentgroup": "True",
         "hovertemplate": "País=%{x}<br>Número de clientes=%{marker.color}<extra></extra>",
         "legendgroup": "",
         "marker": {
          "color": [
           32,
           18,
           15,
           14,
           13,
           7,
           6,
           5,
           5,
           4
          ],
          "coloraxis": "coloraxis",
          "pattern": {
           "shape": ""
          }
         },
         "name": "",
         "offsetgroup": "",
         "orientation": "v",
         "showlegend": false,
         "text": [
          32,
          18,
          15,
          14,
          13,
          7,
          6,
          5,
          5,
          4
         ],
         "textposition": "outside",
         "texttemplate": "%{text:.0f}",
         "type": "bar",
         "x": [
          "GB",
          "US",
          "FR",
          "CH",
          "DE",
          "BE",
          "BR",
          "VE",
          "MX",
          "PL"
         ],
         "xaxis": "x",
         "y": [
          32,
          18,
          15,
          14,
          13,
          7,
          6,
          5,
          5,
          4
         ],
         "yaxis": "y"
        }
       ],
       "layout": {
        "barmode": "relative",
        "coloraxis": {
         "colorbar": {
          "title": {
           "text": "Número de clientes"
          }
         },
         "colorscale": [
          [
           0,
           "#e49467"
          ],
          [
           0.5,
           "#f7f7c6"
          ],
          [
           1,
           "#90c6a6"
          ]
         ]
        },
        "legend": {
         "tracegroupgap": 0
        },
        "template": {
         "data": {
          "bar": [
           {
            "error_x": {
             "color": "#2a3f5f"
            },
            "error_y": {
             "color": "#2a3f5f"
            },
            "marker": {
             "line": {
              "color": "#E5ECF6",
              "width": 0.5
             },
             "pattern": {
              "fillmode": "overlay",
              "size": 10,
              "solidity": 0.2
             }
            },
            "type": "bar"
           }
          ],
          "barpolar": [
           {
            "marker": {
             "line": {
              "color": "#E5ECF6",
              "width": 0.5
             },
             "pattern": {
              "fillmode": "overlay",
              "size": 10,
              "solidity": 0.2
             }
            },
            "type": "barpolar"
           }
          ],
          "carpet": [
           {
            "aaxis": {
             "endlinecolor": "#2a3f5f",
             "gridcolor": "white",
             "linecolor": "white",
             "minorgridcolor": "white",
             "startlinecolor": "#2a3f5f"
            },
            "baxis": {
             "endlinecolor": "#2a3f5f",
             "gridcolor": "white",
             "linecolor": "white",
             "minorgridcolor": "white",
             "startlinecolor": "#2a3f5f"
            },
            "type": "carpet"
           }
          ],
          "choropleth": [
           {
            "colorbar": {
             "outlinewidth": 0,
             "ticks": ""
            },
            "type": "choropleth"
           }
          ],
          "contour": [
           {
            "colorbar": {
             "outlinewidth": 0,
             "ticks": ""
            },
            "colorscale": [
             [
              0,
              "#0d0887"
             ],
             [
              0.1111111111111111,
              "#46039f"
             ],
             [
              0.2222222222222222,
              "#7201a8"
             ],
             [
              0.3333333333333333,
              "#9c179e"
             ],
             [
              0.4444444444444444,
              "#bd3786"
             ],
             [
              0.5555555555555556,
              "#d8576b"
             ],
             [
              0.6666666666666666,
              "#ed7953"
             ],
             [
              0.7777777777777778,
              "#fb9f3a"
             ],
             [
              0.8888888888888888,
              "#fdca26"
             ],
             [
              1,
              "#f0f921"
             ]
            ],
            "type": "contour"
           }
          ],
          "contourcarpet": [
           {
            "colorbar": {
             "outlinewidth": 0,
             "ticks": ""
            },
            "type": "contourcarpet"
           }
          ],
          "heatmap": [
           {
            "colorbar": {
             "outlinewidth": 0,
             "ticks": ""
            },
            "colorscale": [
             [
              0,
              "#0d0887"
             ],
             [
              0.1111111111111111,
              "#46039f"
             ],
             [
              0.2222222222222222,
              "#7201a8"
             ],
             [
              0.3333333333333333,
              "#9c179e"
             ],
             [
              0.4444444444444444,
              "#bd3786"
             ],
             [
              0.5555555555555556,
              "#d8576b"
             ],
             [
              0.6666666666666666,
              "#ed7953"
             ],
             [
              0.7777777777777778,
              "#fb9f3a"
             ],
             [
              0.8888888888888888,
              "#fdca26"
             ],
             [
              1,
              "#f0f921"
             ]
            ],
            "type": "heatmap"
           }
          ],
          "heatmapgl": [
           {
            "colorbar": {
             "outlinewidth": 0,
             "ticks": ""
            },
            "colorscale": [
             [
              0,
              "#0d0887"
             ],
             [
              0.1111111111111111,
              "#46039f"
             ],
             [
              0.2222222222222222,
              "#7201a8"
             ],
             [
              0.3333333333333333,
              "#9c179e"
             ],
             [
              0.4444444444444444,
              "#bd3786"
             ],
             [
              0.5555555555555556,
              "#d8576b"
             ],
             [
              0.6666666666666666,
              "#ed7953"
             ],
             [
              0.7777777777777778,
              "#fb9f3a"
             ],
             [
              0.8888888888888888,
              "#fdca26"
             ],
             [
              1,
              "#f0f921"
             ]
            ],
            "type": "heatmapgl"
           }
          ],
          "histogram": [
           {
            "marker": {
             "pattern": {
              "fillmode": "overlay",
              "size": 10,
              "solidity": 0.2
             }
            },
            "type": "histogram"
           }
          ],
          "histogram2d": [
           {
            "colorbar": {
             "outlinewidth": 0,
             "ticks": ""
            },
            "colorscale": [
             [
              0,
              "#0d0887"
             ],
             [
              0.1111111111111111,
              "#46039f"
             ],
             [
              0.2222222222222222,
              "#7201a8"
             ],
             [
              0.3333333333333333,
              "#9c179e"
             ],
             [
              0.4444444444444444,
              "#bd3786"
             ],
             [
              0.5555555555555556,
              "#d8576b"
             ],
             [
              0.6666666666666666,
              "#ed7953"
             ],
             [
              0.7777777777777778,
              "#fb9f3a"
             ],
             [
              0.8888888888888888,
              "#fdca26"
             ],
             [
              1,
              "#f0f921"
             ]
            ],
            "type": "histogram2d"
           }
          ],
          "histogram2dcontour": [
           {
            "colorbar": {
             "outlinewidth": 0,
             "ticks": ""
            },
            "colorscale": [
             [
              0,
              "#0d0887"
             ],
             [
              0.1111111111111111,
              "#46039f"
             ],
             [
              0.2222222222222222,
              "#7201a8"
             ],
             [
              0.3333333333333333,
              "#9c179e"
             ],
             [
              0.4444444444444444,
              "#bd3786"
             ],
             [
              0.5555555555555556,
              "#d8576b"
             ],
             [
              0.6666666666666666,
              "#ed7953"
             ],
             [
              0.7777777777777778,
              "#fb9f3a"
             ],
             [
              0.8888888888888888,
              "#fdca26"
             ],
             [
              1,
              "#f0f921"
             ]
            ],
            "type": "histogram2dcontour"
           }
          ],
          "mesh3d": [
           {
            "colorbar": {
             "outlinewidth": 0,
             "ticks": ""
            },
            "type": "mesh3d"
           }
          ],
          "parcoords": [
           {
            "line": {
             "colorbar": {
              "outlinewidth": 0,
              "ticks": ""
             }
            },
            "type": "parcoords"
           }
          ],
          "pie": [
           {
            "automargin": true,
            "type": "pie"
           }
          ],
          "scatter": [
           {
            "fillpattern": {
             "fillmode": "overlay",
             "size": 10,
             "solidity": 0.2
            },
            "type": "scatter"
           }
          ],
          "scatter3d": [
           {
            "line": {
             "colorbar": {
              "outlinewidth": 0,
              "ticks": ""
             }
            },
            "marker": {
             "colorbar": {
              "outlinewidth": 0,
              "ticks": ""
             }
            },
            "type": "scatter3d"
           }
          ],
          "scattercarpet": [
           {
            "marker": {
             "colorbar": {
              "outlinewidth": 0,
              "ticks": ""
             }
            },
            "type": "scattercarpet"
           }
          ],
          "scattergeo": [
           {
            "marker": {
             "colorbar": {
              "outlinewidth": 0,
              "ticks": ""
             }
            },
            "type": "scattergeo"
           }
          ],
          "scattergl": [
           {
            "marker": {
             "colorbar": {
              "outlinewidth": 0,
              "ticks": ""
             }
            },
            "type": "scattergl"
           }
          ],
          "scattermapbox": [
           {
            "marker": {
             "colorbar": {
              "outlinewidth": 0,
              "ticks": ""
             }
            },
            "type": "scattermapbox"
           }
          ],
          "scatterpolar": [
           {
            "marker": {
             "colorbar": {
              "outlinewidth": 0,
              "ticks": ""
             }
            },
            "type": "scatterpolar"
           }
          ],
          "scatterpolargl": [
           {
            "marker": {
             "colorbar": {
              "outlinewidth": 0,
              "ticks": ""
             }
            },
            "type": "scatterpolargl"
           }
          ],
          "scatterternary": [
           {
            "marker": {
             "colorbar": {
              "outlinewidth": 0,
              "ticks": ""
             }
            },
            "type": "scatterternary"
           }
          ],
          "surface": [
           {
            "colorbar": {
             "outlinewidth": 0,
             "ticks": ""
            },
            "colorscale": [
             [
              0,
              "#0d0887"
             ],
             [
              0.1111111111111111,
              "#46039f"
             ],
             [
              0.2222222222222222,
              "#7201a8"
             ],
             [
              0.3333333333333333,
              "#9c179e"
             ],
             [
              0.4444444444444444,
              "#bd3786"
             ],
             [
              0.5555555555555556,
              "#d8576b"
             ],
             [
              0.6666666666666666,
              "#ed7953"
             ],
             [
              0.7777777777777778,
              "#fb9f3a"
             ],
             [
              0.8888888888888888,
              "#fdca26"
             ],
             [
              1,
              "#f0f921"
             ]
            ],
            "type": "surface"
           }
          ],
          "table": [
           {
            "cells": {
             "fill": {
              "color": "#EBF0F8"
             },
             "line": {
              "color": "white"
             }
            },
            "header": {
             "fill": {
              "color": "#C8D4E3"
             },
             "line": {
              "color": "white"
             }
            },
            "type": "table"
           }
          ]
         },
         "layout": {
          "annotationdefaults": {
           "arrowcolor": "#2a3f5f",
           "arrowhead": 0,
           "arrowwidth": 1
          },
          "autotypenumbers": "strict",
          "coloraxis": {
           "colorbar": {
            "outlinewidth": 0,
            "ticks": ""
           }
          },
          "colorscale": {
           "diverging": [
            [
             0,
             "#8e0152"
            ],
            [
             0.1,
             "#c51b7d"
            ],
            [
             0.2,
             "#de77ae"
            ],
            [
             0.3,
             "#f1b6da"
            ],
            [
             0.4,
             "#fde0ef"
            ],
            [
             0.5,
             "#f7f7f7"
            ],
            [
             0.6,
             "#e6f5d0"
            ],
            [
             0.7,
             "#b8e186"
            ],
            [
             0.8,
             "#7fbc41"
            ],
            [
             0.9,
             "#4d9221"
            ],
            [
             1,
             "#276419"
            ]
           ],
           "sequential": [
            [
             0,
             "#0d0887"
            ],
            [
             0.1111111111111111,
             "#46039f"
            ],
            [
             0.2222222222222222,
             "#7201a8"
            ],
            [
             0.3333333333333333,
             "#9c179e"
            ],
            [
             0.4444444444444444,
             "#bd3786"
            ],
            [
             0.5555555555555556,
             "#d8576b"
            ],
            [
             0.6666666666666666,
             "#ed7953"
            ],
            [
             0.7777777777777778,
             "#fb9f3a"
            ],
            [
             0.8888888888888888,
             "#fdca26"
            ],
            [
             1,
             "#f0f921"
            ]
           ],
           "sequentialminus": [
            [
             0,
             "#0d0887"
            ],
            [
             0.1111111111111111,
             "#46039f"
            ],
            [
             0.2222222222222222,
             "#7201a8"
            ],
            [
             0.3333333333333333,
             "#9c179e"
            ],
            [
             0.4444444444444444,
             "#bd3786"
            ],
            [
             0.5555555555555556,
             "#d8576b"
            ],
            [
             0.6666666666666666,
             "#ed7953"
            ],
            [
             0.7777777777777778,
             "#fb9f3a"
            ],
            [
             0.8888888888888888,
             "#fdca26"
            ],
            [
             1,
             "#f0f921"
            ]
           ]
          },
          "colorway": [
           "#636efa",
           "#EF553B",
           "#00cc96",
           "#ab63fa",
           "#FFA15A",
           "#19d3f3",
           "#FF6692",
           "#B6E880",
           "#FF97FF",
           "#FECB52"
          ],
          "font": {
           "color": "#2a3f5f"
          },
          "geo": {
           "bgcolor": "white",
           "lakecolor": "white",
           "landcolor": "#E5ECF6",
           "showlakes": true,
           "showland": true,
           "subunitcolor": "white"
          },
          "hoverlabel": {
           "align": "left"
          },
          "hovermode": "closest",
          "mapbox": {
           "style": "light"
          },
          "paper_bgcolor": "white",
          "plot_bgcolor": "#E5ECF6",
          "polar": {
           "angularaxis": {
            "gridcolor": "white",
            "linecolor": "white",
            "ticks": ""
           },
           "bgcolor": "#E5ECF6",
           "radialaxis": {
            "gridcolor": "white",
            "linecolor": "white",
            "ticks": ""
           }
          },
          "scene": {
           "xaxis": {
            "backgroundcolor": "#E5ECF6",
            "gridcolor": "white",
            "gridwidth": 2,
            "linecolor": "white",
            "showbackground": true,
            "ticks": "",
            "zerolinecolor": "white"
           },
           "yaxis": {
            "backgroundcolor": "#E5ECF6",
            "gridcolor": "white",
            "gridwidth": 2,
            "linecolor": "white",
            "showbackground": true,
            "ticks": "",
            "zerolinecolor": "white"
           },
           "zaxis": {
            "backgroundcolor": "#E5ECF6",
            "gridcolor": "white",
            "gridwidth": 2,
            "linecolor": "white",
            "showbackground": true,
            "ticks": "",
            "zerolinecolor": "white"
           }
          },
          "shapedefaults": {
           "line": {
            "color": "#2a3f5f"
           }
          },
          "ternary": {
           "aaxis": {
            "gridcolor": "white",
            "linecolor": "white",
            "ticks": ""
           },
           "baxis": {
            "gridcolor": "white",
            "linecolor": "white",
            "ticks": ""
           },
           "bgcolor": "#E5ECF6",
           "caxis": {
            "gridcolor": "white",
            "linecolor": "white",
            "ticks": ""
           }
          },
          "title": {
           "x": 0.05
          },
          "xaxis": {
           "automargin": true,
           "gridcolor": "white",
           "linecolor": "white",
           "ticks": "",
           "title": {
            "standoff": 15
           },
           "zerolinecolor": "white",
           "zerolinewidth": 2
          },
          "yaxis": {
           "automargin": true,
           "gridcolor": "white",
           "linecolor": "white",
           "ticks": "",
           "title": {
            "standoff": 15
           },
           "zerolinecolor": "white",
           "zerolinewidth": 2
          }
         }
        },
        "title": {
         "text": "Top 10 Países más comunes de clientes (sin \"ES\")"
        },
        "xaxis": {
         "anchor": "y",
         "domain": [
          0,
          1
         ],
         "title": {
          "text": "País"
         }
        },
        "yaxis": {
         "anchor": "x",
         "domain": [
          0,
          1
         ],
         "title": {
          "text": "Número de clientes"
         }
        }
       }
      }
     },
     "metadata": {},
     "output_type": "display_data"
    }
   ],
   "source": [
    "# Contar la distribución de valores en 'country_id' para la última partición\n",
    "country_data = df_last_partition['country_id'].value_counts().reset_index()\n",
    "country_data.columns = ['country_id', 'count']\n",
    "\n",
    "# Excluir el país 'ES'\n",
    "country_data = country_data[country_data['country_id'] != 'ES']\n",
    "\n",
    "# Filtrar los 10 países más repetidos excluyendo 'ES'\n",
    "top_10_countries = country_data.nlargest(10, 'count')\n",
    "\n",
    "# Crear el gráfico interactivo de barras con plotly\n",
    "fig = px.bar(top_10_countries, \n",
    "             x='country_id', \n",
    "             y='count', \n",
    "             text='count',  # Mostrar el número de casos en las etiquetas de las barras\n",
    "             labels={'count':'Número de clientes', 'country_id':'País'}, \n",
    "             title='Top 10 Países más comunes de clientes (sin \"ES\")',\n",
    "             color='count',  # Usar la columna 'count' para variar el color de las barras\n",
    "             color_continuous_scale=custom_colors)  # Usar la paleta de colores personalizada\n",
    "\n",
    "# Personalizar el formato del texto para mostrar los números enteros\n",
    "fig.update_traces(texttemplate='%{text:.0f}', textposition='outside')\n",
    "\n",
    "# Mostrar el gráfico interactivo\n",
    "fig.show()"
   ]
  },
  {
   "cell_type": "code",
   "execution_count": 280,
   "metadata": {},
   "outputs": [
    {
     "name": "stdout",
     "output_type": "stream",
     "text": [
      "Clientes que tienen siempre el mismo 'country_id' (excluyendo mixtos): 456348\n",
      "Clientes con valores NaN en 'country_id' (excluyendo mixtos): 0\n",
      "Clientes con 'country_id' mixtos (diferentes países): 25\n"
     ]
    }
   ],
   "source": [
    "# Contar cuántos valores únicos de 'country_id' tiene cada cliente\n",
    "estado_por_cliente_country = df_full.groupby('pk_cid')['country_id'].nunique()\n",
    "\n",
    "# Identificar clientes con 'country_id' mixtos (múltiples valores de 'country_id')\n",
    "clientes_mixtos_country = estado_por_cliente_country[estado_por_cliente_country > 1].index\n",
    "\n",
    "# Excluir los clientes mixtos del análisis de las otras categorías\n",
    "df_no_mixtos_country = df_full[~df_full['pk_cid'].isin(clientes_mixtos_country)]\n",
    "\n",
    "# Identificar clientes que tienen siempre el mismo 'country_id'\n",
    "clientes_mismo_country = df_no_mixtos_country.groupby('pk_cid')['country_id'].nunique()\n",
    "clientes_mismo_country = clientes_mismo_country[clientes_mismo_country == 1].index\n",
    "\n",
    "# Identificar clientes con valores NaN en 'country_id' (excluyendo clientes mixtos)\n",
    "clientes_con_nan_country = df_no_mixtos_country[df_no_mixtos_country['country_id'].isna()]['pk_cid'].unique()\n",
    "\n",
    "# Contar el número de clientes en cada categoría (excluyendo mixtos)\n",
    "n_mismo_country = len(clientes_mismo_country)\n",
    "n_con_nan_country = len(clientes_con_nan_country)\n",
    "n_mixtos_country = len(clientes_mixtos_country)\n",
    "\n",
    "# Mostrar los resultados\n",
    "print(f\"Clientes que tienen siempre el mismo 'country_id' (excluyendo mixtos): {n_mismo_country}\")\n",
    "print(f\"Clientes con valores NaN en 'country_id' (excluyendo mixtos): {n_con_nan_country}\")\n",
    "print(f\"Clientes con 'country_id' mixtos (diferentes países): {n_mixtos_country}\")"
   ]
  },
  {
   "cell_type": "code",
   "execution_count": 281,
   "metadata": {},
   "outputs": [
    {
     "data": {
      "application/vnd.plotly.v1+json": {
       "config": {
        "plotlyServerURL": "https://plot.ly"
       },
       "data": [
        {
         "alignmentgroup": "True",
         "hovertemplate": "Categoría=%{x}<br>Número de clientes=%{text}<extra></extra>",
         "legendgroup": "Clientes con el mismo country_id",
         "marker": {
          "color": "#e49467",
          "pattern": {
           "shape": ""
          }
         },
         "name": "Clientes con el mismo country_id",
         "offsetgroup": "Clientes con el mismo country_id",
         "orientation": "v",
         "showlegend": true,
         "text": [
          456348
         ],
         "textposition": "outside",
         "texttemplate": "%{text:.0f}",
         "type": "bar",
         "x": [
          "Clientes con el mismo country_id"
         ],
         "xaxis": "x",
         "y": [
          456348
         ],
         "yaxis": "y"
        },
        {
         "alignmentgroup": "True",
         "hovertemplate": "Categoría=%{x}<br>Número de clientes=%{text}<extra></extra>",
         "legendgroup": "Clientes con valores NaN",
         "marker": {
          "color": "#f7f7c6",
          "pattern": {
           "shape": ""
          }
         },
         "name": "Clientes con valores NaN",
         "offsetgroup": "Clientes con valores NaN",
         "orientation": "v",
         "showlegend": true,
         "text": [
          0
         ],
         "textposition": "outside",
         "texttemplate": "%{text:.0f}",
         "type": "bar",
         "x": [
          "Clientes con valores NaN"
         ],
         "xaxis": "x",
         "y": [
          0
         ],
         "yaxis": "y"
        },
        {
         "alignmentgroup": "True",
         "hovertemplate": "Categoría=%{x}<br>Número de clientes=%{text}<extra></extra>",
         "legendgroup": "Clientes con country_id mixtos",
         "marker": {
          "color": "#90c6a6",
          "pattern": {
           "shape": ""
          }
         },
         "name": "Clientes con country_id mixtos",
         "offsetgroup": "Clientes con country_id mixtos",
         "orientation": "v",
         "showlegend": true,
         "text": [
          25
         ],
         "textposition": "outside",
         "texttemplate": "%{text:.0f}",
         "type": "bar",
         "x": [
          "Clientes con country_id mixtos"
         ],
         "xaxis": "x",
         "y": [
          25
         ],
         "yaxis": "y"
        }
       ],
       "layout": {
        "barmode": "relative",
        "legend": {
         "title": {
          "text": "Categoría"
         },
         "tracegroupgap": 0
        },
        "template": {
         "data": {
          "bar": [
           {
            "error_x": {
             "color": "#2a3f5f"
            },
            "error_y": {
             "color": "#2a3f5f"
            },
            "marker": {
             "line": {
              "color": "#E5ECF6",
              "width": 0.5
             },
             "pattern": {
              "fillmode": "overlay",
              "size": 10,
              "solidity": 0.2
             }
            },
            "type": "bar"
           }
          ],
          "barpolar": [
           {
            "marker": {
             "line": {
              "color": "#E5ECF6",
              "width": 0.5
             },
             "pattern": {
              "fillmode": "overlay",
              "size": 10,
              "solidity": 0.2
             }
            },
            "type": "barpolar"
           }
          ],
          "carpet": [
           {
            "aaxis": {
             "endlinecolor": "#2a3f5f",
             "gridcolor": "white",
             "linecolor": "white",
             "minorgridcolor": "white",
             "startlinecolor": "#2a3f5f"
            },
            "baxis": {
             "endlinecolor": "#2a3f5f",
             "gridcolor": "white",
             "linecolor": "white",
             "minorgridcolor": "white",
             "startlinecolor": "#2a3f5f"
            },
            "type": "carpet"
           }
          ],
          "choropleth": [
           {
            "colorbar": {
             "outlinewidth": 0,
             "ticks": ""
            },
            "type": "choropleth"
           }
          ],
          "contour": [
           {
            "colorbar": {
             "outlinewidth": 0,
             "ticks": ""
            },
            "colorscale": [
             [
              0,
              "#0d0887"
             ],
             [
              0.1111111111111111,
              "#46039f"
             ],
             [
              0.2222222222222222,
              "#7201a8"
             ],
             [
              0.3333333333333333,
              "#9c179e"
             ],
             [
              0.4444444444444444,
              "#bd3786"
             ],
             [
              0.5555555555555556,
              "#d8576b"
             ],
             [
              0.6666666666666666,
              "#ed7953"
             ],
             [
              0.7777777777777778,
              "#fb9f3a"
             ],
             [
              0.8888888888888888,
              "#fdca26"
             ],
             [
              1,
              "#f0f921"
             ]
            ],
            "type": "contour"
           }
          ],
          "contourcarpet": [
           {
            "colorbar": {
             "outlinewidth": 0,
             "ticks": ""
            },
            "type": "contourcarpet"
           }
          ],
          "heatmap": [
           {
            "colorbar": {
             "outlinewidth": 0,
             "ticks": ""
            },
            "colorscale": [
             [
              0,
              "#0d0887"
             ],
             [
              0.1111111111111111,
              "#46039f"
             ],
             [
              0.2222222222222222,
              "#7201a8"
             ],
             [
              0.3333333333333333,
              "#9c179e"
             ],
             [
              0.4444444444444444,
              "#bd3786"
             ],
             [
              0.5555555555555556,
              "#d8576b"
             ],
             [
              0.6666666666666666,
              "#ed7953"
             ],
             [
              0.7777777777777778,
              "#fb9f3a"
             ],
             [
              0.8888888888888888,
              "#fdca26"
             ],
             [
              1,
              "#f0f921"
             ]
            ],
            "type": "heatmap"
           }
          ],
          "heatmapgl": [
           {
            "colorbar": {
             "outlinewidth": 0,
             "ticks": ""
            },
            "colorscale": [
             [
              0,
              "#0d0887"
             ],
             [
              0.1111111111111111,
              "#46039f"
             ],
             [
              0.2222222222222222,
              "#7201a8"
             ],
             [
              0.3333333333333333,
              "#9c179e"
             ],
             [
              0.4444444444444444,
              "#bd3786"
             ],
             [
              0.5555555555555556,
              "#d8576b"
             ],
             [
              0.6666666666666666,
              "#ed7953"
             ],
             [
              0.7777777777777778,
              "#fb9f3a"
             ],
             [
              0.8888888888888888,
              "#fdca26"
             ],
             [
              1,
              "#f0f921"
             ]
            ],
            "type": "heatmapgl"
           }
          ],
          "histogram": [
           {
            "marker": {
             "pattern": {
              "fillmode": "overlay",
              "size": 10,
              "solidity": 0.2
             }
            },
            "type": "histogram"
           }
          ],
          "histogram2d": [
           {
            "colorbar": {
             "outlinewidth": 0,
             "ticks": ""
            },
            "colorscale": [
             [
              0,
              "#0d0887"
             ],
             [
              0.1111111111111111,
              "#46039f"
             ],
             [
              0.2222222222222222,
              "#7201a8"
             ],
             [
              0.3333333333333333,
              "#9c179e"
             ],
             [
              0.4444444444444444,
              "#bd3786"
             ],
             [
              0.5555555555555556,
              "#d8576b"
             ],
             [
              0.6666666666666666,
              "#ed7953"
             ],
             [
              0.7777777777777778,
              "#fb9f3a"
             ],
             [
              0.8888888888888888,
              "#fdca26"
             ],
             [
              1,
              "#f0f921"
             ]
            ],
            "type": "histogram2d"
           }
          ],
          "histogram2dcontour": [
           {
            "colorbar": {
             "outlinewidth": 0,
             "ticks": ""
            },
            "colorscale": [
             [
              0,
              "#0d0887"
             ],
             [
              0.1111111111111111,
              "#46039f"
             ],
             [
              0.2222222222222222,
              "#7201a8"
             ],
             [
              0.3333333333333333,
              "#9c179e"
             ],
             [
              0.4444444444444444,
              "#bd3786"
             ],
             [
              0.5555555555555556,
              "#d8576b"
             ],
             [
              0.6666666666666666,
              "#ed7953"
             ],
             [
              0.7777777777777778,
              "#fb9f3a"
             ],
             [
              0.8888888888888888,
              "#fdca26"
             ],
             [
              1,
              "#f0f921"
             ]
            ],
            "type": "histogram2dcontour"
           }
          ],
          "mesh3d": [
           {
            "colorbar": {
             "outlinewidth": 0,
             "ticks": ""
            },
            "type": "mesh3d"
           }
          ],
          "parcoords": [
           {
            "line": {
             "colorbar": {
              "outlinewidth": 0,
              "ticks": ""
             }
            },
            "type": "parcoords"
           }
          ],
          "pie": [
           {
            "automargin": true,
            "type": "pie"
           }
          ],
          "scatter": [
           {
            "fillpattern": {
             "fillmode": "overlay",
             "size": 10,
             "solidity": 0.2
            },
            "type": "scatter"
           }
          ],
          "scatter3d": [
           {
            "line": {
             "colorbar": {
              "outlinewidth": 0,
              "ticks": ""
             }
            },
            "marker": {
             "colorbar": {
              "outlinewidth": 0,
              "ticks": ""
             }
            },
            "type": "scatter3d"
           }
          ],
          "scattercarpet": [
           {
            "marker": {
             "colorbar": {
              "outlinewidth": 0,
              "ticks": ""
             }
            },
            "type": "scattercarpet"
           }
          ],
          "scattergeo": [
           {
            "marker": {
             "colorbar": {
              "outlinewidth": 0,
              "ticks": ""
             }
            },
            "type": "scattergeo"
           }
          ],
          "scattergl": [
           {
            "marker": {
             "colorbar": {
              "outlinewidth": 0,
              "ticks": ""
             }
            },
            "type": "scattergl"
           }
          ],
          "scattermapbox": [
           {
            "marker": {
             "colorbar": {
              "outlinewidth": 0,
              "ticks": ""
             }
            },
            "type": "scattermapbox"
           }
          ],
          "scatterpolar": [
           {
            "marker": {
             "colorbar": {
              "outlinewidth": 0,
              "ticks": ""
             }
            },
            "type": "scatterpolar"
           }
          ],
          "scatterpolargl": [
           {
            "marker": {
             "colorbar": {
              "outlinewidth": 0,
              "ticks": ""
             }
            },
            "type": "scatterpolargl"
           }
          ],
          "scatterternary": [
           {
            "marker": {
             "colorbar": {
              "outlinewidth": 0,
              "ticks": ""
             }
            },
            "type": "scatterternary"
           }
          ],
          "surface": [
           {
            "colorbar": {
             "outlinewidth": 0,
             "ticks": ""
            },
            "colorscale": [
             [
              0,
              "#0d0887"
             ],
             [
              0.1111111111111111,
              "#46039f"
             ],
             [
              0.2222222222222222,
              "#7201a8"
             ],
             [
              0.3333333333333333,
              "#9c179e"
             ],
             [
              0.4444444444444444,
              "#bd3786"
             ],
             [
              0.5555555555555556,
              "#d8576b"
             ],
             [
              0.6666666666666666,
              "#ed7953"
             ],
             [
              0.7777777777777778,
              "#fb9f3a"
             ],
             [
              0.8888888888888888,
              "#fdca26"
             ],
             [
              1,
              "#f0f921"
             ]
            ],
            "type": "surface"
           }
          ],
          "table": [
           {
            "cells": {
             "fill": {
              "color": "#EBF0F8"
             },
             "line": {
              "color": "white"
             }
            },
            "header": {
             "fill": {
              "color": "#C8D4E3"
             },
             "line": {
              "color": "white"
             }
            },
            "type": "table"
           }
          ]
         },
         "layout": {
          "annotationdefaults": {
           "arrowcolor": "#2a3f5f",
           "arrowhead": 0,
           "arrowwidth": 1
          },
          "autotypenumbers": "strict",
          "coloraxis": {
           "colorbar": {
            "outlinewidth": 0,
            "ticks": ""
           }
          },
          "colorscale": {
           "diverging": [
            [
             0,
             "#8e0152"
            ],
            [
             0.1,
             "#c51b7d"
            ],
            [
             0.2,
             "#de77ae"
            ],
            [
             0.3,
             "#f1b6da"
            ],
            [
             0.4,
             "#fde0ef"
            ],
            [
             0.5,
             "#f7f7f7"
            ],
            [
             0.6,
             "#e6f5d0"
            ],
            [
             0.7,
             "#b8e186"
            ],
            [
             0.8,
             "#7fbc41"
            ],
            [
             0.9,
             "#4d9221"
            ],
            [
             1,
             "#276419"
            ]
           ],
           "sequential": [
            [
             0,
             "#0d0887"
            ],
            [
             0.1111111111111111,
             "#46039f"
            ],
            [
             0.2222222222222222,
             "#7201a8"
            ],
            [
             0.3333333333333333,
             "#9c179e"
            ],
            [
             0.4444444444444444,
             "#bd3786"
            ],
            [
             0.5555555555555556,
             "#d8576b"
            ],
            [
             0.6666666666666666,
             "#ed7953"
            ],
            [
             0.7777777777777778,
             "#fb9f3a"
            ],
            [
             0.8888888888888888,
             "#fdca26"
            ],
            [
             1,
             "#f0f921"
            ]
           ],
           "sequentialminus": [
            [
             0,
             "#0d0887"
            ],
            [
             0.1111111111111111,
             "#46039f"
            ],
            [
             0.2222222222222222,
             "#7201a8"
            ],
            [
             0.3333333333333333,
             "#9c179e"
            ],
            [
             0.4444444444444444,
             "#bd3786"
            ],
            [
             0.5555555555555556,
             "#d8576b"
            ],
            [
             0.6666666666666666,
             "#ed7953"
            ],
            [
             0.7777777777777778,
             "#fb9f3a"
            ],
            [
             0.8888888888888888,
             "#fdca26"
            ],
            [
             1,
             "#f0f921"
            ]
           ]
          },
          "colorway": [
           "#636efa",
           "#EF553B",
           "#00cc96",
           "#ab63fa",
           "#FFA15A",
           "#19d3f3",
           "#FF6692",
           "#B6E880",
           "#FF97FF",
           "#FECB52"
          ],
          "font": {
           "color": "#2a3f5f"
          },
          "geo": {
           "bgcolor": "white",
           "lakecolor": "white",
           "landcolor": "#E5ECF6",
           "showlakes": true,
           "showland": true,
           "subunitcolor": "white"
          },
          "hoverlabel": {
           "align": "left"
          },
          "hovermode": "closest",
          "mapbox": {
           "style": "light"
          },
          "paper_bgcolor": "white",
          "plot_bgcolor": "#E5ECF6",
          "polar": {
           "angularaxis": {
            "gridcolor": "white",
            "linecolor": "white",
            "ticks": ""
           },
           "bgcolor": "#E5ECF6",
           "radialaxis": {
            "gridcolor": "white",
            "linecolor": "white",
            "ticks": ""
           }
          },
          "scene": {
           "xaxis": {
            "backgroundcolor": "#E5ECF6",
            "gridcolor": "white",
            "gridwidth": 2,
            "linecolor": "white",
            "showbackground": true,
            "ticks": "",
            "zerolinecolor": "white"
           },
           "yaxis": {
            "backgroundcolor": "#E5ECF6",
            "gridcolor": "white",
            "gridwidth": 2,
            "linecolor": "white",
            "showbackground": true,
            "ticks": "",
            "zerolinecolor": "white"
           },
           "zaxis": {
            "backgroundcolor": "#E5ECF6",
            "gridcolor": "white",
            "gridwidth": 2,
            "linecolor": "white",
            "showbackground": true,
            "ticks": "",
            "zerolinecolor": "white"
           }
          },
          "shapedefaults": {
           "line": {
            "color": "#2a3f5f"
           }
          },
          "ternary": {
           "aaxis": {
            "gridcolor": "white",
            "linecolor": "white",
            "ticks": ""
           },
           "baxis": {
            "gridcolor": "white",
            "linecolor": "white",
            "ticks": ""
           },
           "bgcolor": "#E5ECF6",
           "caxis": {
            "gridcolor": "white",
            "linecolor": "white",
            "ticks": ""
           }
          },
          "title": {
           "x": 0.05
          },
          "xaxis": {
           "automargin": true,
           "gridcolor": "white",
           "linecolor": "white",
           "ticks": "",
           "title": {
            "standoff": 15
           },
           "zerolinecolor": "white",
           "zerolinewidth": 2
          },
          "yaxis": {
           "automargin": true,
           "gridcolor": "white",
           "linecolor": "white",
           "ticks": "",
           "title": {
            "standoff": 15
           },
           "zerolinecolor": "white",
           "zerolinewidth": 2
          }
         }
        },
        "title": {
         "text": "Distribución de Clientes por Categoría de country_id"
        },
        "xaxis": {
         "anchor": "y",
         "categoryarray": [
          "Clientes con el mismo country_id",
          "Clientes con valores NaN",
          "Clientes con country_id mixtos"
         ],
         "categoryorder": "array",
         "domain": [
          0,
          1
         ],
         "title": {
          "text": "Categoría"
         }
        },
        "yaxis": {
         "anchor": "x",
         "domain": [
          0,
          1
         ],
         "title": {
          "text": "Número de clientes"
         }
        }
       }
      }
     },
     "metadata": {},
     "output_type": "display_data"
    }
   ],
   "source": [
    "# Crear un DataFrame con los conteos de cada categoría\n",
    "data = {\n",
    "    'Categoría': ['Clientes con el mismo country_id', \n",
    "                  'Clientes con valores NaN', \n",
    "                  'Clientes con country_id mixtos'],\n",
    "    'Número de clientes': [n_mismo_country, \n",
    "                           n_con_nan_country, \n",
    "                           n_mixtos_country]\n",
    "}\n",
    "\n",
    "df_categorias = pd.DataFrame(data)\n",
    "\n",
    "# Definir los colores personalizados para cada categoría\n",
    "custom_colors = {\n",
    "    'Clientes con el mismo country_id': '#e49467', \n",
    "    'Clientes con valores NaN': '#f7f7c6', \n",
    "    'Clientes con country_id mixtos': '#90c6a6'\n",
    "}\n",
    "\n",
    "# Crear el gráfico interactivo de barras con plotly\n",
    "fig = px.bar(df_categorias, \n",
    "             x='Categoría', \n",
    "             y='Número de clientes', \n",
    "             text='Número de clientes',\n",
    "             labels={'Número de clientes':'Número de clientes', 'Categoría':'Categoría'}, \n",
    "             title='Distribución de Clientes por Categoría de country_id',\n",
    "             color='Categoría',\n",
    "             color_discrete_map=custom_colors)\n",
    "\n",
    "# Personalizar el formato del texto para mostrar los números enteros\n",
    "fig.update_traces(texttemplate='%{text:.0f}', textposition='outside')\n",
    "\n",
    "# Mostrar el gráfico interactivo\n",
    "fig.show()"
   ]
  },
  {
   "cell_type": "markdown",
   "metadata": {},
   "source": [
    "Los clientes con country id distintos como que antes vivian en un pais y ahora se han mudado para otro, no sé como tratar esto, si mantener el ultimo o el primero. (Adrián) Yo no los cambiaría, la variable indica país de residencia, por tanto, puede ser variable, y son muy pocos casos, no creo que supongan una distorsión de resultados"
   ]
  },
  {
   "cell_type": "code",
   "execution_count": 282,
   "metadata": {},
   "outputs": [
    {
     "data": {
      "text/plain": [
       "country_id\n",
       "ES    5960672\n",
       "GB        441\n",
       "FR        225\n",
       "DE        199\n",
       "US        195\n",
       "CH        194\n",
       "BR         87\n",
       "BE         81\n",
       "VE         79\n",
       "IE         68\n",
       "MX         58\n",
       "AT         51\n",
       "AR         51\n",
       "PL         49\n",
       "IT         45\n",
       "MA         34\n",
       "CL         30\n",
       "CN         28\n",
       "CA         22\n",
       "DO         17\n",
       "SN         17\n",
       "SA         17\n",
       "RU         17\n",
       "QA         17\n",
       "NO         17\n",
       "CI         17\n",
       "MR         17\n",
       "LU         17\n",
       "CM         17\n",
       "GA         17\n",
       "CO         17\n",
       "ET         17\n",
       "GT         17\n",
       "SE         16\n",
       "JM         11\n",
       "PT         11\n",
       "DJ         11\n",
       "RO          9\n",
       "HU          8\n",
       "DZ          7\n",
       "PE          4\n",
       "Name: count, dtype: int64"
      ]
     },
     "execution_count": 282,
     "metadata": {},
     "output_type": "execute_result"
    }
   ],
   "source": [
    "# Lista de valores únicos en la columna 'country_id'\n",
    "df_full['country_id'].value_counts()"
   ]
  },
  {
   "cell_type": "code",
   "execution_count": 283,
   "metadata": {},
   "outputs": [
    {
     "data": {
      "text/html": [
       "<div>\n",
       "<style scoped>\n",
       "    .dataframe tbody tr th:only-of-type {\n",
       "        vertical-align: middle;\n",
       "    }\n",
       "\n",
       "    .dataframe tbody tr th {\n",
       "        vertical-align: top;\n",
       "    }\n",
       "\n",
       "    .dataframe thead th {\n",
       "        text-align: right;\n",
       "    }\n",
       "</style>\n",
       "<table border=\"1\" class=\"dataframe\">\n",
       "  <thead>\n",
       "    <tr style=\"text-align: right;\">\n",
       "      <th></th>\n",
       "      <th>pk_cid</th>\n",
       "      <th>pk_partition</th>\n",
       "      <th>entry_date</th>\n",
       "      <th>entry_channel</th>\n",
       "      <th>active_customer</th>\n",
       "      <th>segment</th>\n",
       "      <th>short_term_deposit</th>\n",
       "      <th>loans</th>\n",
       "      <th>mortgage</th>\n",
       "      <th>funds</th>\n",
       "      <th>securities</th>\n",
       "      <th>long_term_deposit</th>\n",
       "      <th>em_account_pp</th>\n",
       "      <th>credit_card</th>\n",
       "      <th>payroll</th>\n",
       "      <th>pension_plan</th>\n",
       "      <th>payroll_account</th>\n",
       "      <th>emc_account</th>\n",
       "      <th>debit_card</th>\n",
       "      <th>em_account_p</th>\n",
       "      <th>em_acount</th>\n",
       "      <th>country_id</th>\n",
       "      <th>region_code</th>\n",
       "      <th>gender</th>\n",
       "      <th>age</th>\n",
       "      <th>deceased</th>\n",
       "      <th>salary</th>\n",
       "      <th>mes_partition</th>\n",
       "      <th>mes_nombre_partition</th>\n",
       "    </tr>\n",
       "  </thead>\n",
       "  <tbody>\n",
       "    <tr>\n",
       "      <th>1843228</th>\n",
       "      <td>670953</td>\n",
       "      <td>2018-08-28</td>\n",
       "      <td>2018-08-11</td>\n",
       "      <td>NaN</td>\n",
       "      <td>1</td>\n",
       "      <td>NaN</td>\n",
       "      <td>0</td>\n",
       "      <td>0</td>\n",
       "      <td>0</td>\n",
       "      <td>0</td>\n",
       "      <td>0</td>\n",
       "      <td>0</td>\n",
       "      <td>0</td>\n",
       "      <td>0</td>\n",
       "      <td>0.000</td>\n",
       "      <td>0.000</td>\n",
       "      <td>0</td>\n",
       "      <td>0</td>\n",
       "      <td>0</td>\n",
       "      <td>0</td>\n",
       "      <td>1</td>\n",
       "      <td>ES</td>\n",
       "      <td>8.000</td>\n",
       "      <td>V</td>\n",
       "      <td>39</td>\n",
       "      <td>N</td>\n",
       "      <td>111,759.690</td>\n",
       "      <td>8</td>\n",
       "      <td>August</td>\n",
       "    </tr>\n",
       "    <tr>\n",
       "      <th>2268552</th>\n",
       "      <td>670953</td>\n",
       "      <td>2018-09-28</td>\n",
       "      <td>2018-08-11</td>\n",
       "      <td>KFA</td>\n",
       "      <td>1</td>\n",
       "      <td>02 - PARTICULARES</td>\n",
       "      <td>0</td>\n",
       "      <td>0</td>\n",
       "      <td>0</td>\n",
       "      <td>0</td>\n",
       "      <td>0</td>\n",
       "      <td>0</td>\n",
       "      <td>0</td>\n",
       "      <td>0</td>\n",
       "      <td>0.000</td>\n",
       "      <td>0.000</td>\n",
       "      <td>0</td>\n",
       "      <td>0</td>\n",
       "      <td>0</td>\n",
       "      <td>0</td>\n",
       "      <td>1</td>\n",
       "      <td>ES</td>\n",
       "      <td>8.000</td>\n",
       "      <td>V</td>\n",
       "      <td>39</td>\n",
       "      <td>N</td>\n",
       "      <td>111,759.690</td>\n",
       "      <td>9</td>\n",
       "      <td>September</td>\n",
       "    </tr>\n",
       "    <tr>\n",
       "      <th>2946158</th>\n",
       "      <td>670953</td>\n",
       "      <td>2018-10-28</td>\n",
       "      <td>2018-08-11</td>\n",
       "      <td>KFA</td>\n",
       "      <td>1</td>\n",
       "      <td>02 - PARTICULARES</td>\n",
       "      <td>0</td>\n",
       "      <td>0</td>\n",
       "      <td>0</td>\n",
       "      <td>0</td>\n",
       "      <td>0</td>\n",
       "      <td>0</td>\n",
       "      <td>0</td>\n",
       "      <td>0</td>\n",
       "      <td>0.000</td>\n",
       "      <td>0.000</td>\n",
       "      <td>0</td>\n",
       "      <td>0</td>\n",
       "      <td>0</td>\n",
       "      <td>0</td>\n",
       "      <td>1</td>\n",
       "      <td>ES</td>\n",
       "      <td>8.000</td>\n",
       "      <td>V</td>\n",
       "      <td>39</td>\n",
       "      <td>N</td>\n",
       "      <td>111,759.690</td>\n",
       "      <td>10</td>\n",
       "      <td>October</td>\n",
       "    </tr>\n",
       "    <tr>\n",
       "      <th>2954597</th>\n",
       "      <td>670953</td>\n",
       "      <td>2018-11-28</td>\n",
       "      <td>2018-08-11</td>\n",
       "      <td>KFA</td>\n",
       "      <td>1</td>\n",
       "      <td>02 - PARTICULARES</td>\n",
       "      <td>0</td>\n",
       "      <td>0</td>\n",
       "      <td>0</td>\n",
       "      <td>0</td>\n",
       "      <td>0</td>\n",
       "      <td>0</td>\n",
       "      <td>0</td>\n",
       "      <td>0</td>\n",
       "      <td>0.000</td>\n",
       "      <td>0.000</td>\n",
       "      <td>0</td>\n",
       "      <td>0</td>\n",
       "      <td>0</td>\n",
       "      <td>0</td>\n",
       "      <td>1</td>\n",
       "      <td>ES</td>\n",
       "      <td>8.000</td>\n",
       "      <td>V</td>\n",
       "      <td>39</td>\n",
       "      <td>N</td>\n",
       "      <td>111,759.690</td>\n",
       "      <td>11</td>\n",
       "      <td>November</td>\n",
       "    </tr>\n",
       "    <tr>\n",
       "      <th>3628803</th>\n",
       "      <td>670953</td>\n",
       "      <td>2018-12-28</td>\n",
       "      <td>2018-08-11</td>\n",
       "      <td>KFA</td>\n",
       "      <td>1</td>\n",
       "      <td>02 - PARTICULARES</td>\n",
       "      <td>0</td>\n",
       "      <td>0</td>\n",
       "      <td>0</td>\n",
       "      <td>0</td>\n",
       "      <td>0</td>\n",
       "      <td>0</td>\n",
       "      <td>0</td>\n",
       "      <td>0</td>\n",
       "      <td>0.000</td>\n",
       "      <td>0.000</td>\n",
       "      <td>0</td>\n",
       "      <td>0</td>\n",
       "      <td>0</td>\n",
       "      <td>0</td>\n",
       "      <td>1</td>\n",
       "      <td>GB</td>\n",
       "      <td>NaN</td>\n",
       "      <td>V</td>\n",
       "      <td>39</td>\n",
       "      <td>N</td>\n",
       "      <td>111,759.690</td>\n",
       "      <td>12</td>\n",
       "      <td>December</td>\n",
       "    </tr>\n",
       "    <tr>\n",
       "      <th>...</th>\n",
       "      <td>...</td>\n",
       "      <td>...</td>\n",
       "      <td>...</td>\n",
       "      <td>...</td>\n",
       "      <td>...</td>\n",
       "      <td>...</td>\n",
       "      <td>...</td>\n",
       "      <td>...</td>\n",
       "      <td>...</td>\n",
       "      <td>...</td>\n",
       "      <td>...</td>\n",
       "      <td>...</td>\n",
       "      <td>...</td>\n",
       "      <td>...</td>\n",
       "      <td>...</td>\n",
       "      <td>...</td>\n",
       "      <td>...</td>\n",
       "      <td>...</td>\n",
       "      <td>...</td>\n",
       "      <td>...</td>\n",
       "      <td>...</td>\n",
       "      <td>...</td>\n",
       "      <td>...</td>\n",
       "      <td>...</td>\n",
       "      <td>...</td>\n",
       "      <td>...</td>\n",
       "      <td>...</td>\n",
       "      <td>...</td>\n",
       "      <td>...</td>\n",
       "    </tr>\n",
       "    <tr>\n",
       "      <th>4730692</th>\n",
       "      <td>1519831</td>\n",
       "      <td>2019-03-28</td>\n",
       "      <td>2018-12-29</td>\n",
       "      <td>KHM</td>\n",
       "      <td>1</td>\n",
       "      <td>02 - PARTICULARES</td>\n",
       "      <td>0</td>\n",
       "      <td>0</td>\n",
       "      <td>0</td>\n",
       "      <td>0</td>\n",
       "      <td>0</td>\n",
       "      <td>0</td>\n",
       "      <td>0</td>\n",
       "      <td>0</td>\n",
       "      <td>0.000</td>\n",
       "      <td>0.000</td>\n",
       "      <td>0</td>\n",
       "      <td>0</td>\n",
       "      <td>1</td>\n",
       "      <td>0</td>\n",
       "      <td>1</td>\n",
       "      <td>GB</td>\n",
       "      <td>NaN</td>\n",
       "      <td>H</td>\n",
       "      <td>26</td>\n",
       "      <td>N</td>\n",
       "      <td>NaN</td>\n",
       "      <td>3</td>\n",
       "      <td>March</td>\n",
       "    </tr>\n",
       "    <tr>\n",
       "      <th>5121965</th>\n",
       "      <td>1519831</td>\n",
       "      <td>2019-04-28</td>\n",
       "      <td>2018-12-29</td>\n",
       "      <td>KHM</td>\n",
       "      <td>1</td>\n",
       "      <td>02 - PARTICULARES</td>\n",
       "      <td>0</td>\n",
       "      <td>0</td>\n",
       "      <td>0</td>\n",
       "      <td>0</td>\n",
       "      <td>0</td>\n",
       "      <td>0</td>\n",
       "      <td>0</td>\n",
       "      <td>0</td>\n",
       "      <td>0.000</td>\n",
       "      <td>0.000</td>\n",
       "      <td>0</td>\n",
       "      <td>0</td>\n",
       "      <td>1</td>\n",
       "      <td>0</td>\n",
       "      <td>1</td>\n",
       "      <td>GB</td>\n",
       "      <td>NaN</td>\n",
       "      <td>H</td>\n",
       "      <td>26</td>\n",
       "      <td>N</td>\n",
       "      <td>NaN</td>\n",
       "      <td>4</td>\n",
       "      <td>April</td>\n",
       "    </tr>\n",
       "    <tr>\n",
       "      <th>5686361</th>\n",
       "      <td>1519831</td>\n",
       "      <td>2019-05-28</td>\n",
       "      <td>2018-12-29</td>\n",
       "      <td>KHM</td>\n",
       "      <td>1</td>\n",
       "      <td>02 - PARTICULARES</td>\n",
       "      <td>0</td>\n",
       "      <td>0</td>\n",
       "      <td>0</td>\n",
       "      <td>0</td>\n",
       "      <td>0</td>\n",
       "      <td>0</td>\n",
       "      <td>0</td>\n",
       "      <td>0</td>\n",
       "      <td>0.000</td>\n",
       "      <td>0.000</td>\n",
       "      <td>0</td>\n",
       "      <td>0</td>\n",
       "      <td>1</td>\n",
       "      <td>0</td>\n",
       "      <td>1</td>\n",
       "      <td>GB</td>\n",
       "      <td>NaN</td>\n",
       "      <td>H</td>\n",
       "      <td>26</td>\n",
       "      <td>N</td>\n",
       "      <td>NaN</td>\n",
       "      <td>5</td>\n",
       "      <td>May</td>\n",
       "    </tr>\n",
       "    <tr>\n",
       "      <th>5096824</th>\n",
       "      <td>1542679</td>\n",
       "      <td>2019-04-28</td>\n",
       "      <td>2019-03-31</td>\n",
       "      <td>KHM</td>\n",
       "      <td>1</td>\n",
       "      <td>02 - PARTICULARES</td>\n",
       "      <td>0</td>\n",
       "      <td>0</td>\n",
       "      <td>0</td>\n",
       "      <td>0</td>\n",
       "      <td>0</td>\n",
       "      <td>0</td>\n",
       "      <td>0</td>\n",
       "      <td>0</td>\n",
       "      <td>0.000</td>\n",
       "      <td>0.000</td>\n",
       "      <td>0</td>\n",
       "      <td>0</td>\n",
       "      <td>0</td>\n",
       "      <td>0</td>\n",
       "      <td>1</td>\n",
       "      <td>ES</td>\n",
       "      <td>7.000</td>\n",
       "      <td>V</td>\n",
       "      <td>64</td>\n",
       "      <td>N</td>\n",
       "      <td>NaN</td>\n",
       "      <td>4</td>\n",
       "      <td>April</td>\n",
       "    </tr>\n",
       "    <tr>\n",
       "      <th>5672371</th>\n",
       "      <td>1542679</td>\n",
       "      <td>2019-05-28</td>\n",
       "      <td>2019-03-31</td>\n",
       "      <td>KHM</td>\n",
       "      <td>1</td>\n",
       "      <td>02 - PARTICULARES</td>\n",
       "      <td>0</td>\n",
       "      <td>0</td>\n",
       "      <td>0</td>\n",
       "      <td>0</td>\n",
       "      <td>0</td>\n",
       "      <td>0</td>\n",
       "      <td>0</td>\n",
       "      <td>0</td>\n",
       "      <td>0.000</td>\n",
       "      <td>0.000</td>\n",
       "      <td>0</td>\n",
       "      <td>0</td>\n",
       "      <td>0</td>\n",
       "      <td>0</td>\n",
       "      <td>1</td>\n",
       "      <td>US</td>\n",
       "      <td>NaN</td>\n",
       "      <td>V</td>\n",
       "      <td>64</td>\n",
       "      <td>N</td>\n",
       "      <td>NaN</td>\n",
       "      <td>5</td>\n",
       "      <td>May</td>\n",
       "    </tr>\n",
       "  </tbody>\n",
       "</table>\n",
       "<p>320 rows × 29 columns</p>\n",
       "</div>"
      ],
      "text/plain": [
       "          pk_cid pk_partition entry_date entry_channel  active_customer  \\\n",
       "1843228   670953   2018-08-28 2018-08-11           NaN                1   \n",
       "2268552   670953   2018-09-28 2018-08-11           KFA                1   \n",
       "2946158   670953   2018-10-28 2018-08-11           KFA                1   \n",
       "2954597   670953   2018-11-28 2018-08-11           KFA                1   \n",
       "3628803   670953   2018-12-28 2018-08-11           KFA                1   \n",
       "...          ...          ...        ...           ...              ...   \n",
       "4730692  1519831   2019-03-28 2018-12-29           KHM                1   \n",
       "5121965  1519831   2019-04-28 2018-12-29           KHM                1   \n",
       "5686361  1519831   2019-05-28 2018-12-29           KHM                1   \n",
       "5096824  1542679   2019-04-28 2019-03-31           KHM                1   \n",
       "5672371  1542679   2019-05-28 2019-03-31           KHM                1   \n",
       "\n",
       "                   segment  short_term_deposit  loans  mortgage  funds  \\\n",
       "1843228                NaN                   0      0         0      0   \n",
       "2268552  02 - PARTICULARES                   0      0         0      0   \n",
       "2946158  02 - PARTICULARES                   0      0         0      0   \n",
       "2954597  02 - PARTICULARES                   0      0         0      0   \n",
       "3628803  02 - PARTICULARES                   0      0         0      0   \n",
       "...                    ...                 ...    ...       ...    ...   \n",
       "4730692  02 - PARTICULARES                   0      0         0      0   \n",
       "5121965  02 - PARTICULARES                   0      0         0      0   \n",
       "5686361  02 - PARTICULARES                   0      0         0      0   \n",
       "5096824  02 - PARTICULARES                   0      0         0      0   \n",
       "5672371  02 - PARTICULARES                   0      0         0      0   \n",
       "\n",
       "         securities  long_term_deposit  em_account_pp  credit_card  payroll  \\\n",
       "1843228           0                  0              0            0    0.000   \n",
       "2268552           0                  0              0            0    0.000   \n",
       "2946158           0                  0              0            0    0.000   \n",
       "2954597           0                  0              0            0    0.000   \n",
       "3628803           0                  0              0            0    0.000   \n",
       "...             ...                ...            ...          ...      ...   \n",
       "4730692           0                  0              0            0    0.000   \n",
       "5121965           0                  0              0            0    0.000   \n",
       "5686361           0                  0              0            0    0.000   \n",
       "5096824           0                  0              0            0    0.000   \n",
       "5672371           0                  0              0            0    0.000   \n",
       "\n",
       "         pension_plan  payroll_account  emc_account  debit_card  em_account_p  \\\n",
       "1843228         0.000                0            0           0             0   \n",
       "2268552         0.000                0            0           0             0   \n",
       "2946158         0.000                0            0           0             0   \n",
       "2954597         0.000                0            0           0             0   \n",
       "3628803         0.000                0            0           0             0   \n",
       "...               ...              ...          ...         ...           ...   \n",
       "4730692         0.000                0            0           1             0   \n",
       "5121965         0.000                0            0           1             0   \n",
       "5686361         0.000                0            0           1             0   \n",
       "5096824         0.000                0            0           0             0   \n",
       "5672371         0.000                0            0           0             0   \n",
       "\n",
       "         em_acount country_id region_code gender  age deceased      salary  \\\n",
       "1843228          1         ES       8.000      V   39        N 111,759.690   \n",
       "2268552          1         ES       8.000      V   39        N 111,759.690   \n",
       "2946158          1         ES       8.000      V   39        N 111,759.690   \n",
       "2954597          1         ES       8.000      V   39        N 111,759.690   \n",
       "3628803          1         GB         NaN      V   39        N 111,759.690   \n",
       "...            ...        ...         ...    ...  ...      ...         ...   \n",
       "4730692          1         GB         NaN      H   26        N         NaN   \n",
       "5121965          1         GB         NaN      H   26        N         NaN   \n",
       "5686361          1         GB         NaN      H   26        N         NaN   \n",
       "5096824          1         ES       7.000      V   64        N         NaN   \n",
       "5672371          1         US         NaN      V   64        N         NaN   \n",
       "\n",
       "         mes_partition mes_nombre_partition  \n",
       "1843228              8               August  \n",
       "2268552              9            September  \n",
       "2946158             10              October  \n",
       "2954597             11             November  \n",
       "3628803             12             December  \n",
       "...                ...                  ...  \n",
       "4730692              3                March  \n",
       "5121965              4                April  \n",
       "5686361              5                  May  \n",
       "5096824              4                April  \n",
       "5672371              5                  May  \n",
       "\n",
       "[320 rows x 29 columns]"
      ]
     },
     "execution_count": 283,
     "metadata": {},
     "output_type": "execute_result"
    }
   ],
   "source": [
    "# Filtrar el DataFrame para obtener las filas donde el país es mixto\n",
    "df_full[df_full['pk_cid'].isin(clientes_mixtos_country)]\n"
   ]
  },
  {
   "cell_type": "markdown",
   "metadata": {},
   "source": [
    "### Country_ID Mixto"
   ]
  },
  {
   "cell_type": "markdown",
   "metadata": {},
   "source": [
    "En este caso también vamos a modificar los casos de clientes con un country_id mixto en el DataFrame df_full, y asignarles el último país registrado para su pk_cid, ya que al tratarse solo de 25 clientes, todo parece indicar que se trata de errores en la toma de datos. Además, suponiendo que estos cambios de residencia fueran reales, entonces el salario debería sufrir modificaciones, situación que no se observa en ninguno de los casos. Por tanto, nos vamos a quedar con la información más actualizada de cada individuo"
   ]
  },
  {
   "cell_type": "code",
   "execution_count": 284,
   "metadata": {},
   "outputs": [],
   "source": [
    "# Obtener el último valor de 'country_id' para cada cliente mixto\n",
    "ultimo_country_por_cliente = df_full[df_full['pk_cid'].isin(clientes_mixtos_country)].groupby('pk_cid').apply(lambda x: x.loc[x['pk_partition'].idxmax(), 'country_id'])"
   ]
  },
  {
   "cell_type": "code",
   "execution_count": 285,
   "metadata": {},
   "outputs": [
    {
     "data": {
      "text/html": [
       "<div>\n",
       "<style scoped>\n",
       "    .dataframe tbody tr th:only-of-type {\n",
       "        vertical-align: middle;\n",
       "    }\n",
       "\n",
       "    .dataframe tbody tr th {\n",
       "        vertical-align: top;\n",
       "    }\n",
       "\n",
       "    .dataframe thead th {\n",
       "        text-align: right;\n",
       "    }\n",
       "</style>\n",
       "<table border=\"1\" class=\"dataframe\">\n",
       "  <thead>\n",
       "    <tr style=\"text-align: right;\">\n",
       "      <th></th>\n",
       "      <th>pk_cid</th>\n",
       "      <th>pk_partition</th>\n",
       "      <th>entry_date</th>\n",
       "      <th>entry_channel</th>\n",
       "      <th>active_customer</th>\n",
       "      <th>segment</th>\n",
       "      <th>short_term_deposit</th>\n",
       "      <th>loans</th>\n",
       "      <th>mortgage</th>\n",
       "      <th>funds</th>\n",
       "      <th>securities</th>\n",
       "      <th>long_term_deposit</th>\n",
       "      <th>em_account_pp</th>\n",
       "      <th>credit_card</th>\n",
       "      <th>payroll</th>\n",
       "      <th>pension_plan</th>\n",
       "      <th>payroll_account</th>\n",
       "      <th>emc_account</th>\n",
       "      <th>debit_card</th>\n",
       "      <th>em_account_p</th>\n",
       "      <th>em_acount</th>\n",
       "      <th>country_id</th>\n",
       "      <th>region_code</th>\n",
       "      <th>gender</th>\n",
       "      <th>age</th>\n",
       "      <th>deceased</th>\n",
       "      <th>salary</th>\n",
       "      <th>mes_partition</th>\n",
       "      <th>mes_nombre_partition</th>\n",
       "    </tr>\n",
       "  </thead>\n",
       "  <tbody>\n",
       "    <tr>\n",
       "      <th>1843228</th>\n",
       "      <td>670953</td>\n",
       "      <td>2018-08-28</td>\n",
       "      <td>2018-08-11</td>\n",
       "      <td>NaN</td>\n",
       "      <td>1</td>\n",
       "      <td>NaN</td>\n",
       "      <td>0</td>\n",
       "      <td>0</td>\n",
       "      <td>0</td>\n",
       "      <td>0</td>\n",
       "      <td>0</td>\n",
       "      <td>0</td>\n",
       "      <td>0</td>\n",
       "      <td>0</td>\n",
       "      <td>0.000</td>\n",
       "      <td>0.000</td>\n",
       "      <td>0</td>\n",
       "      <td>0</td>\n",
       "      <td>0</td>\n",
       "      <td>0</td>\n",
       "      <td>1</td>\n",
       "      <td>GB</td>\n",
       "      <td>8.000</td>\n",
       "      <td>V</td>\n",
       "      <td>39</td>\n",
       "      <td>N</td>\n",
       "      <td>111,759.690</td>\n",
       "      <td>8</td>\n",
       "      <td>August</td>\n",
       "    </tr>\n",
       "    <tr>\n",
       "      <th>2268552</th>\n",
       "      <td>670953</td>\n",
       "      <td>2018-09-28</td>\n",
       "      <td>2018-08-11</td>\n",
       "      <td>KFA</td>\n",
       "      <td>1</td>\n",
       "      <td>02 - PARTICULARES</td>\n",
       "      <td>0</td>\n",
       "      <td>0</td>\n",
       "      <td>0</td>\n",
       "      <td>0</td>\n",
       "      <td>0</td>\n",
       "      <td>0</td>\n",
       "      <td>0</td>\n",
       "      <td>0</td>\n",
       "      <td>0.000</td>\n",
       "      <td>0.000</td>\n",
       "      <td>0</td>\n",
       "      <td>0</td>\n",
       "      <td>0</td>\n",
       "      <td>0</td>\n",
       "      <td>1</td>\n",
       "      <td>GB</td>\n",
       "      <td>8.000</td>\n",
       "      <td>V</td>\n",
       "      <td>39</td>\n",
       "      <td>N</td>\n",
       "      <td>111,759.690</td>\n",
       "      <td>9</td>\n",
       "      <td>September</td>\n",
       "    </tr>\n",
       "    <tr>\n",
       "      <th>2946158</th>\n",
       "      <td>670953</td>\n",
       "      <td>2018-10-28</td>\n",
       "      <td>2018-08-11</td>\n",
       "      <td>KFA</td>\n",
       "      <td>1</td>\n",
       "      <td>02 - PARTICULARES</td>\n",
       "      <td>0</td>\n",
       "      <td>0</td>\n",
       "      <td>0</td>\n",
       "      <td>0</td>\n",
       "      <td>0</td>\n",
       "      <td>0</td>\n",
       "      <td>0</td>\n",
       "      <td>0</td>\n",
       "      <td>0.000</td>\n",
       "      <td>0.000</td>\n",
       "      <td>0</td>\n",
       "      <td>0</td>\n",
       "      <td>0</td>\n",
       "      <td>0</td>\n",
       "      <td>1</td>\n",
       "      <td>GB</td>\n",
       "      <td>8.000</td>\n",
       "      <td>V</td>\n",
       "      <td>39</td>\n",
       "      <td>N</td>\n",
       "      <td>111,759.690</td>\n",
       "      <td>10</td>\n",
       "      <td>October</td>\n",
       "    </tr>\n",
       "    <tr>\n",
       "      <th>2954597</th>\n",
       "      <td>670953</td>\n",
       "      <td>2018-11-28</td>\n",
       "      <td>2018-08-11</td>\n",
       "      <td>KFA</td>\n",
       "      <td>1</td>\n",
       "      <td>02 - PARTICULARES</td>\n",
       "      <td>0</td>\n",
       "      <td>0</td>\n",
       "      <td>0</td>\n",
       "      <td>0</td>\n",
       "      <td>0</td>\n",
       "      <td>0</td>\n",
       "      <td>0</td>\n",
       "      <td>0</td>\n",
       "      <td>0.000</td>\n",
       "      <td>0.000</td>\n",
       "      <td>0</td>\n",
       "      <td>0</td>\n",
       "      <td>0</td>\n",
       "      <td>0</td>\n",
       "      <td>1</td>\n",
       "      <td>GB</td>\n",
       "      <td>8.000</td>\n",
       "      <td>V</td>\n",
       "      <td>39</td>\n",
       "      <td>N</td>\n",
       "      <td>111,759.690</td>\n",
       "      <td>11</td>\n",
       "      <td>November</td>\n",
       "    </tr>\n",
       "    <tr>\n",
       "      <th>3628803</th>\n",
       "      <td>670953</td>\n",
       "      <td>2018-12-28</td>\n",
       "      <td>2018-08-11</td>\n",
       "      <td>KFA</td>\n",
       "      <td>1</td>\n",
       "      <td>02 - PARTICULARES</td>\n",
       "      <td>0</td>\n",
       "      <td>0</td>\n",
       "      <td>0</td>\n",
       "      <td>0</td>\n",
       "      <td>0</td>\n",
       "      <td>0</td>\n",
       "      <td>0</td>\n",
       "      <td>0</td>\n",
       "      <td>0.000</td>\n",
       "      <td>0.000</td>\n",
       "      <td>0</td>\n",
       "      <td>0</td>\n",
       "      <td>0</td>\n",
       "      <td>0</td>\n",
       "      <td>1</td>\n",
       "      <td>GB</td>\n",
       "      <td>NaN</td>\n",
       "      <td>V</td>\n",
       "      <td>39</td>\n",
       "      <td>N</td>\n",
       "      <td>111,759.690</td>\n",
       "      <td>12</td>\n",
       "      <td>December</td>\n",
       "    </tr>\n",
       "    <tr>\n",
       "      <th>4103151</th>\n",
       "      <td>670953</td>\n",
       "      <td>2019-01-28</td>\n",
       "      <td>2018-08-11</td>\n",
       "      <td>KFA</td>\n",
       "      <td>1</td>\n",
       "      <td>02 - PARTICULARES</td>\n",
       "      <td>0</td>\n",
       "      <td>0</td>\n",
       "      <td>0</td>\n",
       "      <td>0</td>\n",
       "      <td>0</td>\n",
       "      <td>0</td>\n",
       "      <td>0</td>\n",
       "      <td>0</td>\n",
       "      <td>0.000</td>\n",
       "      <td>0.000</td>\n",
       "      <td>0</td>\n",
       "      <td>0</td>\n",
       "      <td>0</td>\n",
       "      <td>0</td>\n",
       "      <td>1</td>\n",
       "      <td>GB</td>\n",
       "      <td>NaN</td>\n",
       "      <td>V</td>\n",
       "      <td>40</td>\n",
       "      <td>N</td>\n",
       "      <td>111,759.690</td>\n",
       "      <td>1</td>\n",
       "      <td>January</td>\n",
       "    </tr>\n",
       "    <tr>\n",
       "      <th>4479705</th>\n",
       "      <td>670953</td>\n",
       "      <td>2019-02-28</td>\n",
       "      <td>2018-08-11</td>\n",
       "      <td>KFA</td>\n",
       "      <td>1</td>\n",
       "      <td>02 - PARTICULARES</td>\n",
       "      <td>0</td>\n",
       "      <td>0</td>\n",
       "      <td>0</td>\n",
       "      <td>0</td>\n",
       "      <td>0</td>\n",
       "      <td>0</td>\n",
       "      <td>0</td>\n",
       "      <td>0</td>\n",
       "      <td>0.000</td>\n",
       "      <td>0.000</td>\n",
       "      <td>0</td>\n",
       "      <td>0</td>\n",
       "      <td>0</td>\n",
       "      <td>0</td>\n",
       "      <td>1</td>\n",
       "      <td>GB</td>\n",
       "      <td>NaN</td>\n",
       "      <td>V</td>\n",
       "      <td>40</td>\n",
       "      <td>N</td>\n",
       "      <td>111,759.690</td>\n",
       "      <td>2</td>\n",
       "      <td>February</td>\n",
       "    </tr>\n",
       "    <tr>\n",
       "      <th>4887293</th>\n",
       "      <td>670953</td>\n",
       "      <td>2019-03-28</td>\n",
       "      <td>2018-08-11</td>\n",
       "      <td>KFA</td>\n",
       "      <td>1</td>\n",
       "      <td>02 - PARTICULARES</td>\n",
       "      <td>0</td>\n",
       "      <td>0</td>\n",
       "      <td>0</td>\n",
       "      <td>0</td>\n",
       "      <td>0</td>\n",
       "      <td>0</td>\n",
       "      <td>0</td>\n",
       "      <td>0</td>\n",
       "      <td>0.000</td>\n",
       "      <td>0.000</td>\n",
       "      <td>0</td>\n",
       "      <td>0</td>\n",
       "      <td>0</td>\n",
       "      <td>0</td>\n",
       "      <td>1</td>\n",
       "      <td>GB</td>\n",
       "      <td>NaN</td>\n",
       "      <td>V</td>\n",
       "      <td>40</td>\n",
       "      <td>N</td>\n",
       "      <td>111,759.690</td>\n",
       "      <td>3</td>\n",
       "      <td>March</td>\n",
       "    </tr>\n",
       "    <tr>\n",
       "      <th>5080396</th>\n",
       "      <td>670953</td>\n",
       "      <td>2019-04-28</td>\n",
       "      <td>2018-08-11</td>\n",
       "      <td>KFA</td>\n",
       "      <td>1</td>\n",
       "      <td>02 - PARTICULARES</td>\n",
       "      <td>0</td>\n",
       "      <td>0</td>\n",
       "      <td>0</td>\n",
       "      <td>0</td>\n",
       "      <td>0</td>\n",
       "      <td>0</td>\n",
       "      <td>0</td>\n",
       "      <td>0</td>\n",
       "      <td>0.000</td>\n",
       "      <td>0.000</td>\n",
       "      <td>0</td>\n",
       "      <td>0</td>\n",
       "      <td>0</td>\n",
       "      <td>0</td>\n",
       "      <td>1</td>\n",
       "      <td>GB</td>\n",
       "      <td>NaN</td>\n",
       "      <td>V</td>\n",
       "      <td>40</td>\n",
       "      <td>N</td>\n",
       "      <td>111,759.690</td>\n",
       "      <td>4</td>\n",
       "      <td>April</td>\n",
       "    </tr>\n",
       "    <tr>\n",
       "      <th>5520009</th>\n",
       "      <td>670953</td>\n",
       "      <td>2019-05-28</td>\n",
       "      <td>2018-08-11</td>\n",
       "      <td>KFA</td>\n",
       "      <td>1</td>\n",
       "      <td>02 - PARTICULARES</td>\n",
       "      <td>0</td>\n",
       "      <td>0</td>\n",
       "      <td>0</td>\n",
       "      <td>0</td>\n",
       "      <td>0</td>\n",
       "      <td>0</td>\n",
       "      <td>0</td>\n",
       "      <td>0</td>\n",
       "      <td>0.000</td>\n",
       "      <td>0.000</td>\n",
       "      <td>0</td>\n",
       "      <td>0</td>\n",
       "      <td>0</td>\n",
       "      <td>0</td>\n",
       "      <td>1</td>\n",
       "      <td>GB</td>\n",
       "      <td>NaN</td>\n",
       "      <td>V</td>\n",
       "      <td>40</td>\n",
       "      <td>N</td>\n",
       "      <td>111,759.690</td>\n",
       "      <td>5</td>\n",
       "      <td>May</td>\n",
       "    </tr>\n",
       "  </tbody>\n",
       "</table>\n",
       "</div>"
      ],
      "text/plain": [
       "         pk_cid pk_partition entry_date entry_channel  active_customer  \\\n",
       "1843228  670953   2018-08-28 2018-08-11           NaN                1   \n",
       "2268552  670953   2018-09-28 2018-08-11           KFA                1   \n",
       "2946158  670953   2018-10-28 2018-08-11           KFA                1   \n",
       "2954597  670953   2018-11-28 2018-08-11           KFA                1   \n",
       "3628803  670953   2018-12-28 2018-08-11           KFA                1   \n",
       "4103151  670953   2019-01-28 2018-08-11           KFA                1   \n",
       "4479705  670953   2019-02-28 2018-08-11           KFA                1   \n",
       "4887293  670953   2019-03-28 2018-08-11           KFA                1   \n",
       "5080396  670953   2019-04-28 2018-08-11           KFA                1   \n",
       "5520009  670953   2019-05-28 2018-08-11           KFA                1   \n",
       "\n",
       "                   segment  short_term_deposit  loans  mortgage  funds  \\\n",
       "1843228                NaN                   0      0         0      0   \n",
       "2268552  02 - PARTICULARES                   0      0         0      0   \n",
       "2946158  02 - PARTICULARES                   0      0         0      0   \n",
       "2954597  02 - PARTICULARES                   0      0         0      0   \n",
       "3628803  02 - PARTICULARES                   0      0         0      0   \n",
       "4103151  02 - PARTICULARES                   0      0         0      0   \n",
       "4479705  02 - PARTICULARES                   0      0         0      0   \n",
       "4887293  02 - PARTICULARES                   0      0         0      0   \n",
       "5080396  02 - PARTICULARES                   0      0         0      0   \n",
       "5520009  02 - PARTICULARES                   0      0         0      0   \n",
       "\n",
       "         securities  long_term_deposit  em_account_pp  credit_card  payroll  \\\n",
       "1843228           0                  0              0            0    0.000   \n",
       "2268552           0                  0              0            0    0.000   \n",
       "2946158           0                  0              0            0    0.000   \n",
       "2954597           0                  0              0            0    0.000   \n",
       "3628803           0                  0              0            0    0.000   \n",
       "4103151           0                  0              0            0    0.000   \n",
       "4479705           0                  0              0            0    0.000   \n",
       "4887293           0                  0              0            0    0.000   \n",
       "5080396           0                  0              0            0    0.000   \n",
       "5520009           0                  0              0            0    0.000   \n",
       "\n",
       "         pension_plan  payroll_account  emc_account  debit_card  em_account_p  \\\n",
       "1843228         0.000                0            0           0             0   \n",
       "2268552         0.000                0            0           0             0   \n",
       "2946158         0.000                0            0           0             0   \n",
       "2954597         0.000                0            0           0             0   \n",
       "3628803         0.000                0            0           0             0   \n",
       "4103151         0.000                0            0           0             0   \n",
       "4479705         0.000                0            0           0             0   \n",
       "4887293         0.000                0            0           0             0   \n",
       "5080396         0.000                0            0           0             0   \n",
       "5520009         0.000                0            0           0             0   \n",
       "\n",
       "         em_acount country_id region_code gender  age deceased      salary  \\\n",
       "1843228          1         GB       8.000      V   39        N 111,759.690   \n",
       "2268552          1         GB       8.000      V   39        N 111,759.690   \n",
       "2946158          1         GB       8.000      V   39        N 111,759.690   \n",
       "2954597          1         GB       8.000      V   39        N 111,759.690   \n",
       "3628803          1         GB         NaN      V   39        N 111,759.690   \n",
       "4103151          1         GB         NaN      V   40        N 111,759.690   \n",
       "4479705          1         GB         NaN      V   40        N 111,759.690   \n",
       "4887293          1         GB         NaN      V   40        N 111,759.690   \n",
       "5080396          1         GB         NaN      V   40        N 111,759.690   \n",
       "5520009          1         GB         NaN      V   40        N 111,759.690   \n",
       "\n",
       "         mes_partition mes_nombre_partition  \n",
       "1843228              8               August  \n",
       "2268552              9            September  \n",
       "2946158             10              October  \n",
       "2954597             11             November  \n",
       "3628803             12             December  \n",
       "4103151              1              January  \n",
       "4479705              2             February  \n",
       "4887293              3                March  \n",
       "5080396              4                April  \n",
       "5520009              5                  May  "
      ]
     },
     "execution_count": 285,
     "metadata": {},
     "output_type": "execute_result"
    }
   ],
   "source": [
    "# Función para actualizar el country_id según la última entrada\n",
    "def actualizar_country_mixto(row):\n",
    "    if row['pk_cid'] in ultimo_country_por_cliente.index:\n",
    "        return ultimo_country_por_cliente[row['pk_cid']]\n",
    "    else:\n",
    "        return row['country_id']\n",
    "\n",
    "# Aplicar la función para actualizar el country_id en df_full\n",
    "df_full['country_id'] = df_full.apply(actualizar_country_mixto, axis=1)\n",
    "\n",
    "# Verificar los cambios en los clientes mixtos\n",
    "df_mixtos_actualizados_country = df_full[df_full['pk_cid'].isin(clientes_mixtos_country)]\n",
    "\n",
    "# Mostrar algunos resultados para verificar\n",
    "df_mixtos_actualizados_country.head(10)"
   ]
  },
  {
   "cell_type": "markdown",
   "metadata": {},
   "source": [
    "## DECEASED"
   ]
  },
  {
   "cell_type": "code",
   "execution_count": 286,
   "metadata": {},
   "outputs": [
    {
     "name": "stdout",
     "output_type": "stream",
     "text": [
      "Clientes que son siempre 'N' en 'deceased' (excluyendo mixtos): 456244\n",
      "Clientes que son siempre 'S' en 'deceased' (excluyendo mixtos): 55\n",
      "Clientes con valores NaN en 'deceased' (excluyendo mixtos): 0\n",
      "Clientes con estados mixtos en 'deceased' (N, S o NaN): 74\n"
     ]
    }
   ],
   "source": [
    "# Contar cuántos valores únicos de 'deceased' tiene cada cliente\n",
    "estado_por_cliente_deceased = df_full.groupby('pk_cid')['deceased'].nunique()\n",
    "\n",
    "# Identificar clientes con estados mixtos (N y S o con NaN incluido)\n",
    "clientes_mixtos_deceased = estado_por_cliente_deceased[estado_por_cliente_deceased > 1].index\n",
    "\n",
    "# Excluir los clientes mixtos del análisis de las otras categorías\n",
    "df_no_mixtos_deceased = df_full[~df_full['pk_cid'].isin(clientes_mixtos_deceased)]\n",
    "\n",
    "# Identificar clientes que son siempre 'N'\n",
    "clientes_siempre_n = df_no_mixtos_deceased[df_no_mixtos_deceased['deceased'] == 'N']['pk_cid'].unique()\n",
    "\n",
    "# Identificar clientes que son siempre 'S'\n",
    "clientes_siempre_s = df_no_mixtos_deceased[df_no_mixtos_deceased['deceased'] == 'S']['pk_cid'].unique()\n",
    "\n",
    "# Identificar clientes con valores NaN en 'deceased' (excluyendo clientes mixtos)\n",
    "clientes_con_nan_deceased = df_no_mixtos_deceased[df_no_mixtos_deceased['deceased'].isna()]['pk_cid'].unique()\n",
    "\n",
    "# Contar el número de clientes en cada categoría (excluyendo mixtos)\n",
    "n_siempre_n = len(clientes_siempre_n)\n",
    "n_siempre_s = len(clientes_siempre_s)\n",
    "n_con_nan_deceased = len(clientes_con_nan_deceased)\n",
    "n_mixtos_deceased = len(clientes_mixtos_deceased)\n",
    "\n",
    "# Mostrar los resultados\n",
    "print(f\"Clientes que son siempre 'N' en 'deceased' (excluyendo mixtos): {n_siempre_n}\")\n",
    "print(f\"Clientes que son siempre 'S' en 'deceased' (excluyendo mixtos): {n_siempre_s}\")\n",
    "print(f\"Clientes con valores NaN en 'deceased' (excluyendo mixtos): {n_con_nan_deceased}\")\n",
    "print(f\"Clientes con estados mixtos en 'deceased' (N, S o NaN): {n_mixtos_deceased}\")"
   ]
  },
  {
   "cell_type": "code",
   "execution_count": 287,
   "metadata": {},
   "outputs": [
    {
     "data": {
      "text/plain": [
       "456373"
      ]
     },
     "execution_count": 287,
     "metadata": {},
     "output_type": "execute_result"
    }
   ],
   "source": [
    "n_total = n_siempre_n + n_siempre_s + n_con_nan_deceased + n_mixtos_deceased\n",
    "n_total"
   ]
  },
  {
   "cell_type": "markdown",
   "metadata": {},
   "source": [
    "hay 55 clientes muertos desde la primera ingesta de datos incluido el entry_date, serán errores o se tendrán que analizar mas a fondo así como los que cambian"
   ]
  },
  {
   "cell_type": "markdown",
   "metadata": {},
   "source": [
    "### Deceased Constante"
   ]
  },
  {
   "cell_type": "code",
   "execution_count": 288,
   "metadata": {},
   "outputs": [
    {
     "data": {
      "text/plain": [
       "age\n",
       "83     41\n",
       "84     41\n",
       "90     40\n",
       "89     27\n",
       "98     25\n",
       "72     25\n",
       "58     25\n",
       "85     24\n",
       "54     23\n",
       "25     22\n",
       "61     22\n",
       "59     21\n",
       "88     20\n",
       "93     19\n",
       "53     18\n",
       "95     17\n",
       "21     16\n",
       "75     16\n",
       "77     16\n",
       "48     16\n",
       "86     15\n",
       "38     14\n",
       "87     14\n",
       "101    14\n",
       "26     12\n",
       "69     12\n",
       "100    12\n",
       "92     12\n",
       "60     11\n",
       "102    10\n",
       "91     10\n",
       "28     10\n",
       "76     10\n",
       "20      9\n",
       "70      9\n",
       "35      9\n",
       "22      9\n",
       "63      8\n",
       "42      8\n",
       "43      8\n",
       "65      8\n",
       "57      7\n",
       "27      7\n",
       "56      7\n",
       "52      7\n",
       "41      7\n",
       "71      5\n",
       "34      5\n",
       "55      4\n",
       "66      3\n",
       "23      2\n",
       "99      2\n",
       "39      2\n",
       "62      1\n",
       "49      1\n",
       "94      1\n",
       "Name: count, dtype: int64"
      ]
     },
     "execution_count": 288,
     "metadata": {},
     "output_type": "execute_result"
    }
   ],
   "source": [
    "# Filtrar los clientes que son siempre 'S' en 'deceased'\n",
    "df_siempre_s = df_full[df_full['pk_cid'].isin(clientes_siempre_s)]\n",
    "\n",
    "# Ahora muestra la tabla completa para los clientes que son siempre 'S' en 'deceased'\n",
    "df_siempre_s['age'].value_counts()"
   ]
  },
  {
   "cell_type": "markdown",
   "metadata": {},
   "source": [
    "### Deceased Mixto"
   ]
  },
  {
   "cell_type": "code",
   "execution_count": 289,
   "metadata": {},
   "outputs": [
    {
     "data": {
      "text/plain": [
       "age\n",
       "95     45\n",
       "65     42\n",
       "55     39\n",
       "91     39\n",
       "86     39\n",
       "54     37\n",
       "80     33\n",
       "81     33\n",
       "43     33\n",
       "53     33\n",
       "52     32\n",
       "62     31\n",
       "44     31\n",
       "68     30\n",
       "76     30\n",
       "96     27\n",
       "87     27\n",
       "75     26\n",
       "66     26\n",
       "83     25\n",
       "21     24\n",
       "56     21\n",
       "45     20\n",
       "59     19\n",
       "92     18\n",
       "90     17\n",
       "93     16\n",
       "23     16\n",
       "85     15\n",
       "67     15\n",
       "100    15\n",
       "47     14\n",
       "89     14\n",
       "58     14\n",
       "79     14\n",
       "78     14\n",
       "64     14\n",
       "97     13\n",
       "72     13\n",
       "88     12\n",
       "48     12\n",
       "69     11\n",
       "82     10\n",
       "38      9\n",
       "70      9\n",
       "71      8\n",
       "46      7\n",
       "22      6\n",
       "31      6\n",
       "94      5\n",
       "101     4\n",
       "39      3\n",
       "60      3\n",
       "77      3\n",
       "63      2\n",
       "99      1\n",
       "24      1\n",
       "32      1\n",
       "Name: count, dtype: int64"
      ]
     },
     "execution_count": 289,
     "metadata": {},
     "output_type": "execute_result"
    }
   ],
   "source": [
    "# Filtrar los clientes que tienen estados mixtos en 'deceased'\n",
    "df_mixtos_deceased = df_full[df_full['pk_cid'].isin(clientes_mixtos_deceased)]\n",
    "\n",
    "df_mixtos_deceased['age'].value_counts()"
   ]
  },
  {
   "cell_type": "markdown",
   "metadata": {},
   "source": [
    "Como podemos comprobar, por un lado, la variable deceased tiene una variabilidad practicamente despreciable, por tanto, es lógico pensar que dicha variable no va a tener una capacidad explicativa suficiente.\n",
    "\n",
    "No vamos a tener en cuenta la variable deceased para hacer modelos al no tener ninguna capacidad predictiva ni explicativa.\n",
    "\n",
    "Además dada su alta correlación con otras variables como el grupo de edad, es prudente elimiarla en los modleos para no caer en problemas de multicolinealidad entre las variables explicativas"
   ]
  },
  {
   "cell_type": "markdown",
   "metadata": {},
   "source": [
    "## GENDER"
   ]
  },
  {
   "cell_type": "code",
   "execution_count": 290,
   "metadata": {},
   "outputs": [
    {
     "data": {
      "application/vnd.plotly.v1+json": {
       "config": {
        "plotlyServerURL": "https://plot.ly"
       },
       "data": [
        {
         "alignmentgroup": "True",
         "hovertemplate": "Género=%{x}<br>Número de clientes=%{text}<extra></extra>",
         "legendgroup": "H",
         "marker": {
          "color": "#e49467",
          "pattern": {
           "shape": ""
          }
         },
         "name": "H",
         "offsetgroup": "H",
         "orientation": "v",
         "showlegend": true,
         "text": [
          227684
         ],
         "textposition": "outside",
         "texttemplate": "%{text:.0f}",
         "type": "bar",
         "x": [
          "H"
         ],
         "xaxis": "x",
         "y": [
          227684
         ],
         "yaxis": "y"
        },
        {
         "alignmentgroup": "True",
         "hovertemplate": "Género=%{x}<br>Número de clientes=%{text}<extra></extra>",
         "legendgroup": "V",
         "marker": {
          "color": "#f7f7c6",
          "pattern": {
           "shape": ""
          }
         },
         "name": "V",
         "offsetgroup": "V",
         "orientation": "v",
         "showlegend": true,
         "text": [
          215309
         ],
         "textposition": "outside",
         "texttemplate": "%{text:.0f}",
         "type": "bar",
         "x": [
          "V"
         ],
         "xaxis": "x",
         "y": [
          215309
         ],
         "yaxis": "y"
        }
       ],
       "layout": {
        "barmode": "relative",
        "legend": {
         "title": {
          "text": "Género"
         },
         "tracegroupgap": 0
        },
        "template": {
         "data": {
          "bar": [
           {
            "error_x": {
             "color": "#2a3f5f"
            },
            "error_y": {
             "color": "#2a3f5f"
            },
            "marker": {
             "line": {
              "color": "#E5ECF6",
              "width": 0.5
             },
             "pattern": {
              "fillmode": "overlay",
              "size": 10,
              "solidity": 0.2
             }
            },
            "type": "bar"
           }
          ],
          "barpolar": [
           {
            "marker": {
             "line": {
              "color": "#E5ECF6",
              "width": 0.5
             },
             "pattern": {
              "fillmode": "overlay",
              "size": 10,
              "solidity": 0.2
             }
            },
            "type": "barpolar"
           }
          ],
          "carpet": [
           {
            "aaxis": {
             "endlinecolor": "#2a3f5f",
             "gridcolor": "white",
             "linecolor": "white",
             "minorgridcolor": "white",
             "startlinecolor": "#2a3f5f"
            },
            "baxis": {
             "endlinecolor": "#2a3f5f",
             "gridcolor": "white",
             "linecolor": "white",
             "minorgridcolor": "white",
             "startlinecolor": "#2a3f5f"
            },
            "type": "carpet"
           }
          ],
          "choropleth": [
           {
            "colorbar": {
             "outlinewidth": 0,
             "ticks": ""
            },
            "type": "choropleth"
           }
          ],
          "contour": [
           {
            "colorbar": {
             "outlinewidth": 0,
             "ticks": ""
            },
            "colorscale": [
             [
              0,
              "#0d0887"
             ],
             [
              0.1111111111111111,
              "#46039f"
             ],
             [
              0.2222222222222222,
              "#7201a8"
             ],
             [
              0.3333333333333333,
              "#9c179e"
             ],
             [
              0.4444444444444444,
              "#bd3786"
             ],
             [
              0.5555555555555556,
              "#d8576b"
             ],
             [
              0.6666666666666666,
              "#ed7953"
             ],
             [
              0.7777777777777778,
              "#fb9f3a"
             ],
             [
              0.8888888888888888,
              "#fdca26"
             ],
             [
              1,
              "#f0f921"
             ]
            ],
            "type": "contour"
           }
          ],
          "contourcarpet": [
           {
            "colorbar": {
             "outlinewidth": 0,
             "ticks": ""
            },
            "type": "contourcarpet"
           }
          ],
          "heatmap": [
           {
            "colorbar": {
             "outlinewidth": 0,
             "ticks": ""
            },
            "colorscale": [
             [
              0,
              "#0d0887"
             ],
             [
              0.1111111111111111,
              "#46039f"
             ],
             [
              0.2222222222222222,
              "#7201a8"
             ],
             [
              0.3333333333333333,
              "#9c179e"
             ],
             [
              0.4444444444444444,
              "#bd3786"
             ],
             [
              0.5555555555555556,
              "#d8576b"
             ],
             [
              0.6666666666666666,
              "#ed7953"
             ],
             [
              0.7777777777777778,
              "#fb9f3a"
             ],
             [
              0.8888888888888888,
              "#fdca26"
             ],
             [
              1,
              "#f0f921"
             ]
            ],
            "type": "heatmap"
           }
          ],
          "heatmapgl": [
           {
            "colorbar": {
             "outlinewidth": 0,
             "ticks": ""
            },
            "colorscale": [
             [
              0,
              "#0d0887"
             ],
             [
              0.1111111111111111,
              "#46039f"
             ],
             [
              0.2222222222222222,
              "#7201a8"
             ],
             [
              0.3333333333333333,
              "#9c179e"
             ],
             [
              0.4444444444444444,
              "#bd3786"
             ],
             [
              0.5555555555555556,
              "#d8576b"
             ],
             [
              0.6666666666666666,
              "#ed7953"
             ],
             [
              0.7777777777777778,
              "#fb9f3a"
             ],
             [
              0.8888888888888888,
              "#fdca26"
             ],
             [
              1,
              "#f0f921"
             ]
            ],
            "type": "heatmapgl"
           }
          ],
          "histogram": [
           {
            "marker": {
             "pattern": {
              "fillmode": "overlay",
              "size": 10,
              "solidity": 0.2
             }
            },
            "type": "histogram"
           }
          ],
          "histogram2d": [
           {
            "colorbar": {
             "outlinewidth": 0,
             "ticks": ""
            },
            "colorscale": [
             [
              0,
              "#0d0887"
             ],
             [
              0.1111111111111111,
              "#46039f"
             ],
             [
              0.2222222222222222,
              "#7201a8"
             ],
             [
              0.3333333333333333,
              "#9c179e"
             ],
             [
              0.4444444444444444,
              "#bd3786"
             ],
             [
              0.5555555555555556,
              "#d8576b"
             ],
             [
              0.6666666666666666,
              "#ed7953"
             ],
             [
              0.7777777777777778,
              "#fb9f3a"
             ],
             [
              0.8888888888888888,
              "#fdca26"
             ],
             [
              1,
              "#f0f921"
             ]
            ],
            "type": "histogram2d"
           }
          ],
          "histogram2dcontour": [
           {
            "colorbar": {
             "outlinewidth": 0,
             "ticks": ""
            },
            "colorscale": [
             [
              0,
              "#0d0887"
             ],
             [
              0.1111111111111111,
              "#46039f"
             ],
             [
              0.2222222222222222,
              "#7201a8"
             ],
             [
              0.3333333333333333,
              "#9c179e"
             ],
             [
              0.4444444444444444,
              "#bd3786"
             ],
             [
              0.5555555555555556,
              "#d8576b"
             ],
             [
              0.6666666666666666,
              "#ed7953"
             ],
             [
              0.7777777777777778,
              "#fb9f3a"
             ],
             [
              0.8888888888888888,
              "#fdca26"
             ],
             [
              1,
              "#f0f921"
             ]
            ],
            "type": "histogram2dcontour"
           }
          ],
          "mesh3d": [
           {
            "colorbar": {
             "outlinewidth": 0,
             "ticks": ""
            },
            "type": "mesh3d"
           }
          ],
          "parcoords": [
           {
            "line": {
             "colorbar": {
              "outlinewidth": 0,
              "ticks": ""
             }
            },
            "type": "parcoords"
           }
          ],
          "pie": [
           {
            "automargin": true,
            "type": "pie"
           }
          ],
          "scatter": [
           {
            "fillpattern": {
             "fillmode": "overlay",
             "size": 10,
             "solidity": 0.2
            },
            "type": "scatter"
           }
          ],
          "scatter3d": [
           {
            "line": {
             "colorbar": {
              "outlinewidth": 0,
              "ticks": ""
             }
            },
            "marker": {
             "colorbar": {
              "outlinewidth": 0,
              "ticks": ""
             }
            },
            "type": "scatter3d"
           }
          ],
          "scattercarpet": [
           {
            "marker": {
             "colorbar": {
              "outlinewidth": 0,
              "ticks": ""
             }
            },
            "type": "scattercarpet"
           }
          ],
          "scattergeo": [
           {
            "marker": {
             "colorbar": {
              "outlinewidth": 0,
              "ticks": ""
             }
            },
            "type": "scattergeo"
           }
          ],
          "scattergl": [
           {
            "marker": {
             "colorbar": {
              "outlinewidth": 0,
              "ticks": ""
             }
            },
            "type": "scattergl"
           }
          ],
          "scattermapbox": [
           {
            "marker": {
             "colorbar": {
              "outlinewidth": 0,
              "ticks": ""
             }
            },
            "type": "scattermapbox"
           }
          ],
          "scatterpolar": [
           {
            "marker": {
             "colorbar": {
              "outlinewidth": 0,
              "ticks": ""
             }
            },
            "type": "scatterpolar"
           }
          ],
          "scatterpolargl": [
           {
            "marker": {
             "colorbar": {
              "outlinewidth": 0,
              "ticks": ""
             }
            },
            "type": "scatterpolargl"
           }
          ],
          "scatterternary": [
           {
            "marker": {
             "colorbar": {
              "outlinewidth": 0,
              "ticks": ""
             }
            },
            "type": "scatterternary"
           }
          ],
          "surface": [
           {
            "colorbar": {
             "outlinewidth": 0,
             "ticks": ""
            },
            "colorscale": [
             [
              0,
              "#0d0887"
             ],
             [
              0.1111111111111111,
              "#46039f"
             ],
             [
              0.2222222222222222,
              "#7201a8"
             ],
             [
              0.3333333333333333,
              "#9c179e"
             ],
             [
              0.4444444444444444,
              "#bd3786"
             ],
             [
              0.5555555555555556,
              "#d8576b"
             ],
             [
              0.6666666666666666,
              "#ed7953"
             ],
             [
              0.7777777777777778,
              "#fb9f3a"
             ],
             [
              0.8888888888888888,
              "#fdca26"
             ],
             [
              1,
              "#f0f921"
             ]
            ],
            "type": "surface"
           }
          ],
          "table": [
           {
            "cells": {
             "fill": {
              "color": "#EBF0F8"
             },
             "line": {
              "color": "white"
             }
            },
            "header": {
             "fill": {
              "color": "#C8D4E3"
             },
             "line": {
              "color": "white"
             }
            },
            "type": "table"
           }
          ]
         },
         "layout": {
          "annotationdefaults": {
           "arrowcolor": "#2a3f5f",
           "arrowhead": 0,
           "arrowwidth": 1
          },
          "autotypenumbers": "strict",
          "coloraxis": {
           "colorbar": {
            "outlinewidth": 0,
            "ticks": ""
           }
          },
          "colorscale": {
           "diverging": [
            [
             0,
             "#8e0152"
            ],
            [
             0.1,
             "#c51b7d"
            ],
            [
             0.2,
             "#de77ae"
            ],
            [
             0.3,
             "#f1b6da"
            ],
            [
             0.4,
             "#fde0ef"
            ],
            [
             0.5,
             "#f7f7f7"
            ],
            [
             0.6,
             "#e6f5d0"
            ],
            [
             0.7,
             "#b8e186"
            ],
            [
             0.8,
             "#7fbc41"
            ],
            [
             0.9,
             "#4d9221"
            ],
            [
             1,
             "#276419"
            ]
           ],
           "sequential": [
            [
             0,
             "#0d0887"
            ],
            [
             0.1111111111111111,
             "#46039f"
            ],
            [
             0.2222222222222222,
             "#7201a8"
            ],
            [
             0.3333333333333333,
             "#9c179e"
            ],
            [
             0.4444444444444444,
             "#bd3786"
            ],
            [
             0.5555555555555556,
             "#d8576b"
            ],
            [
             0.6666666666666666,
             "#ed7953"
            ],
            [
             0.7777777777777778,
             "#fb9f3a"
            ],
            [
             0.8888888888888888,
             "#fdca26"
            ],
            [
             1,
             "#f0f921"
            ]
           ],
           "sequentialminus": [
            [
             0,
             "#0d0887"
            ],
            [
             0.1111111111111111,
             "#46039f"
            ],
            [
             0.2222222222222222,
             "#7201a8"
            ],
            [
             0.3333333333333333,
             "#9c179e"
            ],
            [
             0.4444444444444444,
             "#bd3786"
            ],
            [
             0.5555555555555556,
             "#d8576b"
            ],
            [
             0.6666666666666666,
             "#ed7953"
            ],
            [
             0.7777777777777778,
             "#fb9f3a"
            ],
            [
             0.8888888888888888,
             "#fdca26"
            ],
            [
             1,
             "#f0f921"
            ]
           ]
          },
          "colorway": [
           "#636efa",
           "#EF553B",
           "#00cc96",
           "#ab63fa",
           "#FFA15A",
           "#19d3f3",
           "#FF6692",
           "#B6E880",
           "#FF97FF",
           "#FECB52"
          ],
          "font": {
           "color": "#2a3f5f"
          },
          "geo": {
           "bgcolor": "white",
           "lakecolor": "white",
           "landcolor": "#E5ECF6",
           "showlakes": true,
           "showland": true,
           "subunitcolor": "white"
          },
          "hoverlabel": {
           "align": "left"
          },
          "hovermode": "closest",
          "mapbox": {
           "style": "light"
          },
          "paper_bgcolor": "white",
          "plot_bgcolor": "#E5ECF6",
          "polar": {
           "angularaxis": {
            "gridcolor": "white",
            "linecolor": "white",
            "ticks": ""
           },
           "bgcolor": "#E5ECF6",
           "radialaxis": {
            "gridcolor": "white",
            "linecolor": "white",
            "ticks": ""
           }
          },
          "scene": {
           "xaxis": {
            "backgroundcolor": "#E5ECF6",
            "gridcolor": "white",
            "gridwidth": 2,
            "linecolor": "white",
            "showbackground": true,
            "ticks": "",
            "zerolinecolor": "white"
           },
           "yaxis": {
            "backgroundcolor": "#E5ECF6",
            "gridcolor": "white",
            "gridwidth": 2,
            "linecolor": "white",
            "showbackground": true,
            "ticks": "",
            "zerolinecolor": "white"
           },
           "zaxis": {
            "backgroundcolor": "#E5ECF6",
            "gridcolor": "white",
            "gridwidth": 2,
            "linecolor": "white",
            "showbackground": true,
            "ticks": "",
            "zerolinecolor": "white"
           }
          },
          "shapedefaults": {
           "line": {
            "color": "#2a3f5f"
           }
          },
          "ternary": {
           "aaxis": {
            "gridcolor": "white",
            "linecolor": "white",
            "ticks": ""
           },
           "baxis": {
            "gridcolor": "white",
            "linecolor": "white",
            "ticks": ""
           },
           "bgcolor": "#E5ECF6",
           "caxis": {
            "gridcolor": "white",
            "linecolor": "white",
            "ticks": ""
           }
          },
          "title": {
           "x": 0.05
          },
          "xaxis": {
           "automargin": true,
           "gridcolor": "white",
           "linecolor": "white",
           "ticks": "",
           "title": {
            "standoff": 15
           },
           "zerolinecolor": "white",
           "zerolinewidth": 2
          },
          "yaxis": {
           "automargin": true,
           "gridcolor": "white",
           "linecolor": "white",
           "ticks": "",
           "title": {
            "standoff": 15
           },
           "zerolinecolor": "white",
           "zerolinewidth": 2
          }
         }
        },
        "title": {
         "text": "Distribución de Clientes por Género"
        },
        "xaxis": {
         "anchor": "y",
         "categoryarray": [
          "H",
          "V"
         ],
         "categoryorder": "array",
         "domain": [
          0,
          1
         ],
         "title": {
          "text": "Género"
         }
        },
        "yaxis": {
         "anchor": "x",
         "domain": [
          0,
          1
         ],
         "title": {
          "text": "Número de clientes"
         }
        }
       }
      }
     },
     "metadata": {},
     "output_type": "display_data"
    }
   ],
   "source": [
    "# Definir los colores personalizados para cada género\n",
    "custom_colors = ['#e49467', '#f7f7c6']\n",
    "\n",
    "# Contar la distribución de valores en 'gender'\n",
    "gender_data = df_last_partition['gender'].value_counts().reset_index()\n",
    "gender_data.columns = ['gender', 'count']\n",
    "\n",
    "# Crear el gráfico interactivo de barras con plotly\n",
    "fig = px.bar(gender_data, \n",
    "             x='gender', \n",
    "             y='count', \n",
    "             text='count',  # Mostrar el número de casos en las etiquetas de las barras\n",
    "             labels={'count':'Número de clientes', 'gender':'Género'}, \n",
    "             title='Distribución de Clientes por Género',\n",
    "             color='gender',\n",
    "             color_discrete_sequence=custom_colors)\n",
    "\n",
    "# Personalizar el formato del texto para mostrar los números enteros\n",
    "fig.update_traces(texttemplate='%{text:.0f}', textposition='outside')\n",
    "\n",
    "# Mostrar el gráfico interactivo\n",
    "fig.show()"
   ]
  },
  {
   "cell_type": "code",
   "execution_count": 291,
   "metadata": {},
   "outputs": [
    {
     "data": {
      "text/plain": [
       "gender\n",
       "H         51.244\n",
       "V         48.765\n",
       "Unknown    0.000\n",
       "Name: pk_cid, dtype: float64"
      ]
     },
     "execution_count": 291,
     "metadata": {},
     "output_type": "execute_result"
    }
   ],
   "source": [
    "# se crea una categoria Unknown para los valores nulos\n",
    "df_full[\"gender\"] = df_full[\"gender\"].cat.add_categories([\"Unknown\"]).fillna(\"Unknown\")\n",
    "\n",
    "df_full.groupby(\"gender\")[\"pk_cid\"].nunique().apply(lambda x: x/df_full[\"pk_cid\"].nunique()*100)"
   ]
  },
  {
   "cell_type": "code",
   "execution_count": 292,
   "metadata": {},
   "outputs": [
    {
     "data": {
      "text/plain": [
       "gender\n",
       "H          233862\n",
       "V          222550\n",
       "Unknown         2\n",
       "Name: pk_cid, dtype: int64"
      ]
     },
     "execution_count": 292,
     "metadata": {},
     "output_type": "execute_result"
    }
   ],
   "source": [
    "df_full.groupby(\"gender\")[\"pk_cid\"].nunique()"
   ]
  },
  {
   "cell_type": "code",
   "execution_count": 293,
   "metadata": {},
   "outputs": [
    {
     "data": {
      "text/plain": [
       "456414"
      ]
     },
     "execution_count": 293,
     "metadata": {},
     "output_type": "execute_result"
    }
   ],
   "source": [
    "df_full.groupby(\"gender\")[\"pk_cid\"].nunique().sum()\n",
    "# se observa que hay 41 valores más que la cantidad de clientes únicos\n",
    "# lo que representa que hay clientes con más de un género asignado"
   ]
  },
  {
   "cell_type": "markdown",
   "metadata": {},
   "source": [
    "### Análisis Géneros"
   ]
  },
  {
   "cell_type": "code",
   "execution_count": 294,
   "metadata": {},
   "outputs": [
    {
     "name": "stdout",
     "output_type": "stream",
     "text": [
      "Clientes que son siempre 'H' en 'gender' (excluyendo mixtos): 233821\n",
      "Clientes que son siempre 'V' en 'gender' (excluyendo mixtos): 222509\n",
      "Clientes que son todo 'Unknown' (excluyendo mixtos): 2\n",
      "Clientes con géneros mixtos (H y V o Unknown): 41\n",
      "Total de clientes en el dataset: 456373\n"
     ]
    }
   ],
   "source": [
    "\n",
    "# Contar cuántos valores únicos tiene cada cliente en la columna gender\n",
    "estado_por_cliente_gender = df_full.groupby('pk_cid')['gender'].agg(['nunique', 'count'])\n",
    "\n",
    "# Identificar clientes con géneros mixtos (H y F o Unknown)\n",
    "clientes_mixtos_gender = estado_por_cliente_gender[estado_por_cliente_gender['nunique'] > 1].index\n",
    "\n",
    "# Excluir los clientes mixtos del análisis de las otras categorías\n",
    "df_no_mixtos_gender = df_full[~df_full['pk_cid'].isin(clientes_mixtos_gender)]\n",
    "\n",
    "# Identificar clientes que son siempre 'H'\n",
    "clientes_siempre_H = df_no_mixtos_gender[df_no_mixtos_gender['gender'] == 'H']['pk_cid'].unique()\n",
    "\n",
    "# Identificar clientes que son siempre 'V'\n",
    "clientes_siempre_V = df_no_mixtos_gender[df_no_mixtos_gender['gender'] == 'V']['pk_cid'].unique()\n",
    "\n",
    "# Identificar clientes \"Unknown\" en gender (excluyendo clientes mixtos)\n",
    "clientes_siempre_Unknown = df_no_mixtos_gender[df_no_mixtos_gender['gender'] == \"Unknown\"]['pk_cid'].unique()\n",
    "\n",
    "# Contar el número de clientes en cada categoría (excluyendo mixtos)\n",
    "n_siempre_H = len(clientes_siempre_H)\n",
    "n_siempre_V = len(clientes_siempre_V)\n",
    "n_siempre_Unknown = len(clientes_siempre_Unknown)\n",
    "n_mixtos_gender = len(clientes_mixtos_gender)\n",
    "\n",
    "# Mostrar los resultados\n",
    "print(f\"Clientes que son siempre 'H' en 'gender' (excluyendo mixtos): {n_siempre_H}\")\n",
    "print(f\"Clientes que son siempre 'V' en 'gender' (excluyendo mixtos): {n_siempre_V}\")\n",
    "print(f\"Clientes que son todo 'Unknown' (excluyendo mixtos): {n_siempre_Unknown}\")\n",
    "print(f\"Clientes con géneros mixtos (H y V o Unknown): {n_mixtos_gender}\")\n",
    "print(f\"Total de clientes en el dataset: {n_siempre_H + n_siempre_V + n_siempre_Unknown + n_mixtos_gender}\")\n"
   ]
  },
  {
   "cell_type": "code",
   "execution_count": 295,
   "metadata": {},
   "outputs": [
    {
     "name": "stdout",
     "output_type": "stream",
     "text": [
      "Clientes que son siempre 'H': 51.23%\n",
      "Clientes que son siempre 'V': 48.76%\n",
      "Clientes que son todo 'Unknown': 0.00044%\n",
      "Clientes con géneros mixtos (H y V o Unknown): 0.009%\n"
     ]
    }
   ],
   "source": [
    "# Poroporciones\n",
    "n_total = n_siempre_H + n_siempre_V + n_siempre_Unknown + n_mixtos_gender\n",
    "p_siempre_H = n_siempre_H / n_total * 100\n",
    "p_siempre_V = n_siempre_V / n_total * 100\n",
    "p_siempre_Unknown = n_siempre_Unknown / n_total * 100\n",
    "p_mixtos_gender = n_mixtos_gender / n_total * 100\n",
    "\n",
    "# Mostrar los resultados\n",
    "print(f\"Clientes que son siempre 'H': {p_siempre_H:.2f}%\")\n",
    "print(f\"Clientes que son siempre 'V': {p_siempre_V:.2f}%\")\n",
    "print(f\"Clientes que son todo 'Unknown': {p_siempre_Unknown:.5f}%\")\n",
    "print(f\"Clientes con géneros mixtos (H y V o Unknown): {p_mixtos_gender:.3f}%\")"
   ]
  },
  {
   "cell_type": "markdown",
   "metadata": {},
   "source": [
    "### Género unknown constante"
   ]
  },
  {
   "cell_type": "code",
   "execution_count": 296,
   "metadata": {},
   "outputs": [
    {
     "data": {
      "text/html": [
       "<div>\n",
       "<style scoped>\n",
       "    .dataframe tbody tr th:only-of-type {\n",
       "        vertical-align: middle;\n",
       "    }\n",
       "\n",
       "    .dataframe tbody tr th {\n",
       "        vertical-align: top;\n",
       "    }\n",
       "\n",
       "    .dataframe thead th {\n",
       "        text-align: right;\n",
       "    }\n",
       "</style>\n",
       "<table border=\"1\" class=\"dataframe\">\n",
       "  <thead>\n",
       "    <tr style=\"text-align: right;\">\n",
       "      <th></th>\n",
       "      <th>pk_cid</th>\n",
       "      <th>pk_partition</th>\n",
       "      <th>entry_date</th>\n",
       "      <th>entry_channel</th>\n",
       "      <th>active_customer</th>\n",
       "      <th>segment</th>\n",
       "      <th>short_term_deposit</th>\n",
       "      <th>loans</th>\n",
       "      <th>mortgage</th>\n",
       "      <th>funds</th>\n",
       "      <th>securities</th>\n",
       "      <th>long_term_deposit</th>\n",
       "      <th>em_account_pp</th>\n",
       "      <th>credit_card</th>\n",
       "      <th>payroll</th>\n",
       "      <th>pension_plan</th>\n",
       "      <th>payroll_account</th>\n",
       "      <th>emc_account</th>\n",
       "      <th>debit_card</th>\n",
       "      <th>em_account_p</th>\n",
       "      <th>em_acount</th>\n",
       "      <th>country_id</th>\n",
       "      <th>region_code</th>\n",
       "      <th>gender</th>\n",
       "      <th>age</th>\n",
       "      <th>deceased</th>\n",
       "      <th>salary</th>\n",
       "      <th>mes_partition</th>\n",
       "      <th>mes_nombre_partition</th>\n",
       "    </tr>\n",
       "  </thead>\n",
       "  <tbody>\n",
       "    <tr>\n",
       "      <th>2168807</th>\n",
       "      <td>216507</td>\n",
       "      <td>2018-08-28</td>\n",
       "      <td>2018-08-17</td>\n",
       "      <td>NaN</td>\n",
       "      <td>1</td>\n",
       "      <td>NaN</td>\n",
       "      <td>0</td>\n",
       "      <td>0</td>\n",
       "      <td>0</td>\n",
       "      <td>0</td>\n",
       "      <td>0</td>\n",
       "      <td>0</td>\n",
       "      <td>0</td>\n",
       "      <td>0</td>\n",
       "      <td>0.000</td>\n",
       "      <td>0.000</td>\n",
       "      <td>0</td>\n",
       "      <td>0</td>\n",
       "      <td>0</td>\n",
       "      <td>0</td>\n",
       "      <td>0</td>\n",
       "      <td>ES</td>\n",
       "      <td>28.000</td>\n",
       "      <td>Unknown</td>\n",
       "      <td>72</td>\n",
       "      <td>N</td>\n",
       "      <td>104,296.620</td>\n",
       "      <td>8</td>\n",
       "      <td>August</td>\n",
       "    </tr>\n",
       "    <tr>\n",
       "      <th>2172127</th>\n",
       "      <td>216507</td>\n",
       "      <td>2018-09-28</td>\n",
       "      <td>2018-08-17</td>\n",
       "      <td>KHO</td>\n",
       "      <td>1</td>\n",
       "      <td>02 - PARTICULARES</td>\n",
       "      <td>0</td>\n",
       "      <td>0</td>\n",
       "      <td>0</td>\n",
       "      <td>0</td>\n",
       "      <td>0</td>\n",
       "      <td>0</td>\n",
       "      <td>0</td>\n",
       "      <td>0</td>\n",
       "      <td>0.000</td>\n",
       "      <td>0.000</td>\n",
       "      <td>0</td>\n",
       "      <td>0</td>\n",
       "      <td>0</td>\n",
       "      <td>0</td>\n",
       "      <td>0</td>\n",
       "      <td>ES</td>\n",
       "      <td>28.000</td>\n",
       "      <td>Unknown</td>\n",
       "      <td>72</td>\n",
       "      <td>N</td>\n",
       "      <td>104,296.620</td>\n",
       "      <td>9</td>\n",
       "      <td>September</td>\n",
       "    </tr>\n",
       "    <tr>\n",
       "      <th>2943933</th>\n",
       "      <td>216507</td>\n",
       "      <td>2018-10-28</td>\n",
       "      <td>2018-08-17</td>\n",
       "      <td>KHO</td>\n",
       "      <td>1</td>\n",
       "      <td>02 - PARTICULARES</td>\n",
       "      <td>0</td>\n",
       "      <td>0</td>\n",
       "      <td>0</td>\n",
       "      <td>0</td>\n",
       "      <td>0</td>\n",
       "      <td>0</td>\n",
       "      <td>0</td>\n",
       "      <td>0</td>\n",
       "      <td>0.000</td>\n",
       "      <td>0.000</td>\n",
       "      <td>0</td>\n",
       "      <td>0</td>\n",
       "      <td>0</td>\n",
       "      <td>0</td>\n",
       "      <td>0</td>\n",
       "      <td>ES</td>\n",
       "      <td>28.000</td>\n",
       "      <td>Unknown</td>\n",
       "      <td>72</td>\n",
       "      <td>N</td>\n",
       "      <td>104,296.620</td>\n",
       "      <td>10</td>\n",
       "      <td>October</td>\n",
       "    </tr>\n",
       "    <tr>\n",
       "      <th>3033652</th>\n",
       "      <td>216507</td>\n",
       "      <td>2018-11-28</td>\n",
       "      <td>2018-08-17</td>\n",
       "      <td>KHO</td>\n",
       "      <td>1</td>\n",
       "      <td>02 - PARTICULARES</td>\n",
       "      <td>0</td>\n",
       "      <td>0</td>\n",
       "      <td>0</td>\n",
       "      <td>0</td>\n",
       "      <td>0</td>\n",
       "      <td>0</td>\n",
       "      <td>0</td>\n",
       "      <td>0</td>\n",
       "      <td>0.000</td>\n",
       "      <td>0.000</td>\n",
       "      <td>0</td>\n",
       "      <td>1</td>\n",
       "      <td>0</td>\n",
       "      <td>0</td>\n",
       "      <td>0</td>\n",
       "      <td>ES</td>\n",
       "      <td>28.000</td>\n",
       "      <td>Unknown</td>\n",
       "      <td>72</td>\n",
       "      <td>N</td>\n",
       "      <td>104,296.620</td>\n",
       "      <td>11</td>\n",
       "      <td>November</td>\n",
       "    </tr>\n",
       "    <tr>\n",
       "      <th>3627544</th>\n",
       "      <td>216507</td>\n",
       "      <td>2018-12-28</td>\n",
       "      <td>2018-08-17</td>\n",
       "      <td>KHO</td>\n",
       "      <td>1</td>\n",
       "      <td>02 - PARTICULARES</td>\n",
       "      <td>0</td>\n",
       "      <td>0</td>\n",
       "      <td>0</td>\n",
       "      <td>0</td>\n",
       "      <td>0</td>\n",
       "      <td>0</td>\n",
       "      <td>0</td>\n",
       "      <td>0</td>\n",
       "      <td>0.000</td>\n",
       "      <td>0.000</td>\n",
       "      <td>0</td>\n",
       "      <td>1</td>\n",
       "      <td>0</td>\n",
       "      <td>0</td>\n",
       "      <td>0</td>\n",
       "      <td>ES</td>\n",
       "      <td>28.000</td>\n",
       "      <td>Unknown</td>\n",
       "      <td>72</td>\n",
       "      <td>N</td>\n",
       "      <td>104,296.620</td>\n",
       "      <td>12</td>\n",
       "      <td>December</td>\n",
       "    </tr>\n",
       "    <tr>\n",
       "      <th>3839882</th>\n",
       "      <td>216507</td>\n",
       "      <td>2019-01-28</td>\n",
       "      <td>2018-08-17</td>\n",
       "      <td>KHO</td>\n",
       "      <td>1</td>\n",
       "      <td>02 - PARTICULARES</td>\n",
       "      <td>0</td>\n",
       "      <td>0</td>\n",
       "      <td>0</td>\n",
       "      <td>0</td>\n",
       "      <td>0</td>\n",
       "      <td>0</td>\n",
       "      <td>0</td>\n",
       "      <td>0</td>\n",
       "      <td>0.000</td>\n",
       "      <td>0.000</td>\n",
       "      <td>0</td>\n",
       "      <td>1</td>\n",
       "      <td>0</td>\n",
       "      <td>0</td>\n",
       "      <td>0</td>\n",
       "      <td>ES</td>\n",
       "      <td>28.000</td>\n",
       "      <td>Unknown</td>\n",
       "      <td>73</td>\n",
       "      <td>N</td>\n",
       "      <td>104,296.620</td>\n",
       "      <td>1</td>\n",
       "      <td>January</td>\n",
       "    </tr>\n",
       "    <tr>\n",
       "      <th>4481238</th>\n",
       "      <td>216507</td>\n",
       "      <td>2019-02-28</td>\n",
       "      <td>2018-08-17</td>\n",
       "      <td>KHO</td>\n",
       "      <td>1</td>\n",
       "      <td>02 - PARTICULARES</td>\n",
       "      <td>0</td>\n",
       "      <td>0</td>\n",
       "      <td>0</td>\n",
       "      <td>0</td>\n",
       "      <td>0</td>\n",
       "      <td>0</td>\n",
       "      <td>0</td>\n",
       "      <td>0</td>\n",
       "      <td>0.000</td>\n",
       "      <td>0.000</td>\n",
       "      <td>0</td>\n",
       "      <td>1</td>\n",
       "      <td>0</td>\n",
       "      <td>0</td>\n",
       "      <td>0</td>\n",
       "      <td>ES</td>\n",
       "      <td>28.000</td>\n",
       "      <td>Unknown</td>\n",
       "      <td>72</td>\n",
       "      <td>N</td>\n",
       "      <td>104,296.620</td>\n",
       "      <td>2</td>\n",
       "      <td>February</td>\n",
       "    </tr>\n",
       "    <tr>\n",
       "      <th>4875861</th>\n",
       "      <td>216507</td>\n",
       "      <td>2019-03-28</td>\n",
       "      <td>2018-08-17</td>\n",
       "      <td>KHO</td>\n",
       "      <td>1</td>\n",
       "      <td>02 - PARTICULARES</td>\n",
       "      <td>0</td>\n",
       "      <td>0</td>\n",
       "      <td>0</td>\n",
       "      <td>0</td>\n",
       "      <td>0</td>\n",
       "      <td>0</td>\n",
       "      <td>0</td>\n",
       "      <td>0</td>\n",
       "      <td>0.000</td>\n",
       "      <td>0.000</td>\n",
       "      <td>0</td>\n",
       "      <td>1</td>\n",
       "      <td>0</td>\n",
       "      <td>0</td>\n",
       "      <td>0</td>\n",
       "      <td>ES</td>\n",
       "      <td>28.000</td>\n",
       "      <td>Unknown</td>\n",
       "      <td>73</td>\n",
       "      <td>N</td>\n",
       "      <td>104,296.620</td>\n",
       "      <td>3</td>\n",
       "      <td>March</td>\n",
       "    </tr>\n",
       "    <tr>\n",
       "      <th>5133231</th>\n",
       "      <td>216507</td>\n",
       "      <td>2019-04-28</td>\n",
       "      <td>2018-08-17</td>\n",
       "      <td>KHO</td>\n",
       "      <td>1</td>\n",
       "      <td>02 - PARTICULARES</td>\n",
       "      <td>0</td>\n",
       "      <td>0</td>\n",
       "      <td>0</td>\n",
       "      <td>0</td>\n",
       "      <td>0</td>\n",
       "      <td>0</td>\n",
       "      <td>0</td>\n",
       "      <td>0</td>\n",
       "      <td>0.000</td>\n",
       "      <td>0.000</td>\n",
       "      <td>0</td>\n",
       "      <td>1</td>\n",
       "      <td>0</td>\n",
       "      <td>0</td>\n",
       "      <td>0</td>\n",
       "      <td>ES</td>\n",
       "      <td>28.000</td>\n",
       "      <td>Unknown</td>\n",
       "      <td>73</td>\n",
       "      <td>N</td>\n",
       "      <td>104,296.620</td>\n",
       "      <td>4</td>\n",
       "      <td>April</td>\n",
       "    </tr>\n",
       "    <tr>\n",
       "      <th>5523191</th>\n",
       "      <td>216507</td>\n",
       "      <td>2019-05-28</td>\n",
       "      <td>2018-08-17</td>\n",
       "      <td>KHO</td>\n",
       "      <td>1</td>\n",
       "      <td>02 - PARTICULARES</td>\n",
       "      <td>0</td>\n",
       "      <td>0</td>\n",
       "      <td>0</td>\n",
       "      <td>0</td>\n",
       "      <td>0</td>\n",
       "      <td>0</td>\n",
       "      <td>0</td>\n",
       "      <td>0</td>\n",
       "      <td>0.000</td>\n",
       "      <td>0.000</td>\n",
       "      <td>0</td>\n",
       "      <td>1</td>\n",
       "      <td>0</td>\n",
       "      <td>0</td>\n",
       "      <td>0</td>\n",
       "      <td>ES</td>\n",
       "      <td>28.000</td>\n",
       "      <td>Unknown</td>\n",
       "      <td>73</td>\n",
       "      <td>N</td>\n",
       "      <td>104,296.620</td>\n",
       "      <td>5</td>\n",
       "      <td>May</td>\n",
       "    </tr>\n",
       "    <tr>\n",
       "      <th>482482</th>\n",
       "      <td>476023</td>\n",
       "      <td>2018-03-28</td>\n",
       "      <td>2018-03-12</td>\n",
       "      <td>KHL</td>\n",
       "      <td>1</td>\n",
       "      <td>02 - PARTICULARES</td>\n",
       "      <td>0</td>\n",
       "      <td>0</td>\n",
       "      <td>0</td>\n",
       "      <td>0</td>\n",
       "      <td>0</td>\n",
       "      <td>0</td>\n",
       "      <td>0</td>\n",
       "      <td>0</td>\n",
       "      <td>0.000</td>\n",
       "      <td>0.000</td>\n",
       "      <td>0</td>\n",
       "      <td>0</td>\n",
       "      <td>0</td>\n",
       "      <td>0</td>\n",
       "      <td>1</td>\n",
       "      <td>ES</td>\n",
       "      <td>28.000</td>\n",
       "      <td>Unknown</td>\n",
       "      <td>69</td>\n",
       "      <td>N</td>\n",
       "      <td>89,991.420</td>\n",
       "      <td>3</td>\n",
       "      <td>March</td>\n",
       "    </tr>\n",
       "    <tr>\n",
       "      <th>727801</th>\n",
       "      <td>476023</td>\n",
       "      <td>2018-04-28</td>\n",
       "      <td>2018-03-12</td>\n",
       "      <td>KHL</td>\n",
       "      <td>1</td>\n",
       "      <td>02 - PARTICULARES</td>\n",
       "      <td>0</td>\n",
       "      <td>0</td>\n",
       "      <td>0</td>\n",
       "      <td>0</td>\n",
       "      <td>0</td>\n",
       "      <td>0</td>\n",
       "      <td>0</td>\n",
       "      <td>0</td>\n",
       "      <td>0.000</td>\n",
       "      <td>0.000</td>\n",
       "      <td>0</td>\n",
       "      <td>0</td>\n",
       "      <td>0</td>\n",
       "      <td>0</td>\n",
       "      <td>1</td>\n",
       "      <td>ES</td>\n",
       "      <td>28.000</td>\n",
       "      <td>Unknown</td>\n",
       "      <td>69</td>\n",
       "      <td>N</td>\n",
       "      <td>89,991.420</td>\n",
       "      <td>4</td>\n",
       "      <td>April</td>\n",
       "    </tr>\n",
       "    <tr>\n",
       "      <th>1224152</th>\n",
       "      <td>476023</td>\n",
       "      <td>2018-05-28</td>\n",
       "      <td>2018-03-12</td>\n",
       "      <td>KHL</td>\n",
       "      <td>1</td>\n",
       "      <td>02 - PARTICULARES</td>\n",
       "      <td>0</td>\n",
       "      <td>0</td>\n",
       "      <td>0</td>\n",
       "      <td>0</td>\n",
       "      <td>0</td>\n",
       "      <td>0</td>\n",
       "      <td>0</td>\n",
       "      <td>0</td>\n",
       "      <td>0.000</td>\n",
       "      <td>0.000</td>\n",
       "      <td>0</td>\n",
       "      <td>0</td>\n",
       "      <td>1</td>\n",
       "      <td>0</td>\n",
       "      <td>1</td>\n",
       "      <td>ES</td>\n",
       "      <td>28.000</td>\n",
       "      <td>Unknown</td>\n",
       "      <td>69</td>\n",
       "      <td>N</td>\n",
       "      <td>89,991.420</td>\n",
       "      <td>5</td>\n",
       "      <td>May</td>\n",
       "    </tr>\n",
       "    <tr>\n",
       "      <th>1476252</th>\n",
       "      <td>476023</td>\n",
       "      <td>2018-06-28</td>\n",
       "      <td>2018-03-12</td>\n",
       "      <td>KHL</td>\n",
       "      <td>1</td>\n",
       "      <td>02 - PARTICULARES</td>\n",
       "      <td>0</td>\n",
       "      <td>0</td>\n",
       "      <td>0</td>\n",
       "      <td>0</td>\n",
       "      <td>0</td>\n",
       "      <td>0</td>\n",
       "      <td>0</td>\n",
       "      <td>0</td>\n",
       "      <td>0.000</td>\n",
       "      <td>0.000</td>\n",
       "      <td>0</td>\n",
       "      <td>0</td>\n",
       "      <td>1</td>\n",
       "      <td>0</td>\n",
       "      <td>1</td>\n",
       "      <td>ES</td>\n",
       "      <td>28.000</td>\n",
       "      <td>Unknown</td>\n",
       "      <td>69</td>\n",
       "      <td>N</td>\n",
       "      <td>89,991.420</td>\n",
       "      <td>6</td>\n",
       "      <td>June</td>\n",
       "    </tr>\n",
       "    <tr>\n",
       "      <th>1477367</th>\n",
       "      <td>476023</td>\n",
       "      <td>2018-07-28</td>\n",
       "      <td>2018-03-12</td>\n",
       "      <td>KHL</td>\n",
       "      <td>1</td>\n",
       "      <td>02 - PARTICULARES</td>\n",
       "      <td>0</td>\n",
       "      <td>0</td>\n",
       "      <td>0</td>\n",
       "      <td>0</td>\n",
       "      <td>0</td>\n",
       "      <td>0</td>\n",
       "      <td>0</td>\n",
       "      <td>0</td>\n",
       "      <td>0.000</td>\n",
       "      <td>0.000</td>\n",
       "      <td>0</td>\n",
       "      <td>0</td>\n",
       "      <td>1</td>\n",
       "      <td>0</td>\n",
       "      <td>1</td>\n",
       "      <td>ES</td>\n",
       "      <td>28.000</td>\n",
       "      <td>Unknown</td>\n",
       "      <td>69</td>\n",
       "      <td>N</td>\n",
       "      <td>89,991.420</td>\n",
       "      <td>7</td>\n",
       "      <td>July</td>\n",
       "    </tr>\n",
       "    <tr>\n",
       "      <th>1842989</th>\n",
       "      <td>476023</td>\n",
       "      <td>2018-08-28</td>\n",
       "      <td>2018-03-12</td>\n",
       "      <td>KHL</td>\n",
       "      <td>1</td>\n",
       "      <td>02 - PARTICULARES</td>\n",
       "      <td>0</td>\n",
       "      <td>0</td>\n",
       "      <td>0</td>\n",
       "      <td>0</td>\n",
       "      <td>0</td>\n",
       "      <td>0</td>\n",
       "      <td>0</td>\n",
       "      <td>0</td>\n",
       "      <td>0.000</td>\n",
       "      <td>0.000</td>\n",
       "      <td>0</td>\n",
       "      <td>0</td>\n",
       "      <td>1</td>\n",
       "      <td>0</td>\n",
       "      <td>1</td>\n",
       "      <td>ES</td>\n",
       "      <td>28.000</td>\n",
       "      <td>Unknown</td>\n",
       "      <td>69</td>\n",
       "      <td>N</td>\n",
       "      <td>89,991.420</td>\n",
       "      <td>8</td>\n",
       "      <td>August</td>\n",
       "    </tr>\n",
       "    <tr>\n",
       "      <th>2169657</th>\n",
       "      <td>476023</td>\n",
       "      <td>2018-09-28</td>\n",
       "      <td>2018-03-12</td>\n",
       "      <td>KHL</td>\n",
       "      <td>1</td>\n",
       "      <td>02 - PARTICULARES</td>\n",
       "      <td>0</td>\n",
       "      <td>0</td>\n",
       "      <td>0</td>\n",
       "      <td>0</td>\n",
       "      <td>0</td>\n",
       "      <td>0</td>\n",
       "      <td>0</td>\n",
       "      <td>0</td>\n",
       "      <td>0.000</td>\n",
       "      <td>0.000</td>\n",
       "      <td>0</td>\n",
       "      <td>0</td>\n",
       "      <td>1</td>\n",
       "      <td>0</td>\n",
       "      <td>1</td>\n",
       "      <td>ES</td>\n",
       "      <td>28.000</td>\n",
       "      <td>Unknown</td>\n",
       "      <td>69</td>\n",
       "      <td>N</td>\n",
       "      <td>89,991.420</td>\n",
       "      <td>9</td>\n",
       "      <td>September</td>\n",
       "    </tr>\n",
       "    <tr>\n",
       "      <th>2946003</th>\n",
       "      <td>476023</td>\n",
       "      <td>2018-10-28</td>\n",
       "      <td>2018-03-12</td>\n",
       "      <td>KHL</td>\n",
       "      <td>1</td>\n",
       "      <td>02 - PARTICULARES</td>\n",
       "      <td>0</td>\n",
       "      <td>0</td>\n",
       "      <td>0</td>\n",
       "      <td>0</td>\n",
       "      <td>0</td>\n",
       "      <td>0</td>\n",
       "      <td>0</td>\n",
       "      <td>0</td>\n",
       "      <td>0.000</td>\n",
       "      <td>0.000</td>\n",
       "      <td>0</td>\n",
       "      <td>0</td>\n",
       "      <td>1</td>\n",
       "      <td>0</td>\n",
       "      <td>1</td>\n",
       "      <td>ES</td>\n",
       "      <td>28.000</td>\n",
       "      <td>Unknown</td>\n",
       "      <td>69</td>\n",
       "      <td>N</td>\n",
       "      <td>89,991.420</td>\n",
       "      <td>10</td>\n",
       "      <td>October</td>\n",
       "    </tr>\n",
       "    <tr>\n",
       "      <th>2953625</th>\n",
       "      <td>476023</td>\n",
       "      <td>2018-11-28</td>\n",
       "      <td>2018-03-12</td>\n",
       "      <td>KHL</td>\n",
       "      <td>1</td>\n",
       "      <td>02 - PARTICULARES</td>\n",
       "      <td>0</td>\n",
       "      <td>0</td>\n",
       "      <td>0</td>\n",
       "      <td>0</td>\n",
       "      <td>0</td>\n",
       "      <td>0</td>\n",
       "      <td>0</td>\n",
       "      <td>0</td>\n",
       "      <td>0.000</td>\n",
       "      <td>0.000</td>\n",
       "      <td>0</td>\n",
       "      <td>0</td>\n",
       "      <td>1</td>\n",
       "      <td>0</td>\n",
       "      <td>1</td>\n",
       "      <td>ES</td>\n",
       "      <td>28.000</td>\n",
       "      <td>Unknown</td>\n",
       "      <td>69</td>\n",
       "      <td>N</td>\n",
       "      <td>89,991.420</td>\n",
       "      <td>11</td>\n",
       "      <td>November</td>\n",
       "    </tr>\n",
       "    <tr>\n",
       "      <th>3629885</th>\n",
       "      <td>476023</td>\n",
       "      <td>2018-12-28</td>\n",
       "      <td>2018-03-12</td>\n",
       "      <td>KHL</td>\n",
       "      <td>1</td>\n",
       "      <td>02 - PARTICULARES</td>\n",
       "      <td>0</td>\n",
       "      <td>0</td>\n",
       "      <td>0</td>\n",
       "      <td>0</td>\n",
       "      <td>0</td>\n",
       "      <td>0</td>\n",
       "      <td>0</td>\n",
       "      <td>0</td>\n",
       "      <td>0.000</td>\n",
       "      <td>0.000</td>\n",
       "      <td>0</td>\n",
       "      <td>0</td>\n",
       "      <td>1</td>\n",
       "      <td>0</td>\n",
       "      <td>1</td>\n",
       "      <td>ES</td>\n",
       "      <td>28.000</td>\n",
       "      <td>Unknown</td>\n",
       "      <td>69</td>\n",
       "      <td>N</td>\n",
       "      <td>89,991.420</td>\n",
       "      <td>12</td>\n",
       "      <td>December</td>\n",
       "    </tr>\n",
       "    <tr>\n",
       "      <th>4102914</th>\n",
       "      <td>476023</td>\n",
       "      <td>2019-01-28</td>\n",
       "      <td>2018-03-12</td>\n",
       "      <td>KHL</td>\n",
       "      <td>1</td>\n",
       "      <td>02 - PARTICULARES</td>\n",
       "      <td>0</td>\n",
       "      <td>0</td>\n",
       "      <td>0</td>\n",
       "      <td>0</td>\n",
       "      <td>0</td>\n",
       "      <td>0</td>\n",
       "      <td>0</td>\n",
       "      <td>0</td>\n",
       "      <td>0.000</td>\n",
       "      <td>0.000</td>\n",
       "      <td>0</td>\n",
       "      <td>0</td>\n",
       "      <td>1</td>\n",
       "      <td>0</td>\n",
       "      <td>1</td>\n",
       "      <td>ES</td>\n",
       "      <td>28.000</td>\n",
       "      <td>Unknown</td>\n",
       "      <td>69</td>\n",
       "      <td>N</td>\n",
       "      <td>89,991.420</td>\n",
       "      <td>1</td>\n",
       "      <td>January</td>\n",
       "    </tr>\n",
       "    <tr>\n",
       "      <th>4478901</th>\n",
       "      <td>476023</td>\n",
       "      <td>2019-02-28</td>\n",
       "      <td>2018-03-12</td>\n",
       "      <td>KHL</td>\n",
       "      <td>1</td>\n",
       "      <td>02 - PARTICULARES</td>\n",
       "      <td>0</td>\n",
       "      <td>0</td>\n",
       "      <td>0</td>\n",
       "      <td>0</td>\n",
       "      <td>0</td>\n",
       "      <td>0</td>\n",
       "      <td>0</td>\n",
       "      <td>0</td>\n",
       "      <td>0.000</td>\n",
       "      <td>0.000</td>\n",
       "      <td>0</td>\n",
       "      <td>0</td>\n",
       "      <td>1</td>\n",
       "      <td>0</td>\n",
       "      <td>1</td>\n",
       "      <td>ES</td>\n",
       "      <td>28.000</td>\n",
       "      <td>Unknown</td>\n",
       "      <td>69</td>\n",
       "      <td>N</td>\n",
       "      <td>89,991.420</td>\n",
       "      <td>2</td>\n",
       "      <td>February</td>\n",
       "    </tr>\n",
       "    <tr>\n",
       "      <th>4887017</th>\n",
       "      <td>476023</td>\n",
       "      <td>2019-03-28</td>\n",
       "      <td>2018-03-12</td>\n",
       "      <td>KHL</td>\n",
       "      <td>1</td>\n",
       "      <td>02 - PARTICULARES</td>\n",
       "      <td>0</td>\n",
       "      <td>0</td>\n",
       "      <td>0</td>\n",
       "      <td>0</td>\n",
       "      <td>0</td>\n",
       "      <td>0</td>\n",
       "      <td>0</td>\n",
       "      <td>0</td>\n",
       "      <td>0.000</td>\n",
       "      <td>0.000</td>\n",
       "      <td>0</td>\n",
       "      <td>0</td>\n",
       "      <td>1</td>\n",
       "      <td>0</td>\n",
       "      <td>1</td>\n",
       "      <td>ES</td>\n",
       "      <td>28.000</td>\n",
       "      <td>Unknown</td>\n",
       "      <td>69</td>\n",
       "      <td>N</td>\n",
       "      <td>89,991.420</td>\n",
       "      <td>3</td>\n",
       "      <td>March</td>\n",
       "    </tr>\n",
       "    <tr>\n",
       "      <th>5133985</th>\n",
       "      <td>476023</td>\n",
       "      <td>2019-04-28</td>\n",
       "      <td>2018-03-12</td>\n",
       "      <td>KHL</td>\n",
       "      <td>1</td>\n",
       "      <td>02 - PARTICULARES</td>\n",
       "      <td>0</td>\n",
       "      <td>0</td>\n",
       "      <td>0</td>\n",
       "      <td>0</td>\n",
       "      <td>0</td>\n",
       "      <td>0</td>\n",
       "      <td>0</td>\n",
       "      <td>0</td>\n",
       "      <td>0.000</td>\n",
       "      <td>0.000</td>\n",
       "      <td>0</td>\n",
       "      <td>0</td>\n",
       "      <td>1</td>\n",
       "      <td>0</td>\n",
       "      <td>1</td>\n",
       "      <td>ES</td>\n",
       "      <td>28.000</td>\n",
       "      <td>Unknown</td>\n",
       "      <td>70</td>\n",
       "      <td>N</td>\n",
       "      <td>89,991.420</td>\n",
       "      <td>4</td>\n",
       "      <td>April</td>\n",
       "    </tr>\n",
       "    <tr>\n",
       "      <th>5524103</th>\n",
       "      <td>476023</td>\n",
       "      <td>2019-05-28</td>\n",
       "      <td>2018-03-12</td>\n",
       "      <td>KHL</td>\n",
       "      <td>1</td>\n",
       "      <td>02 - PARTICULARES</td>\n",
       "      <td>0</td>\n",
       "      <td>0</td>\n",
       "      <td>0</td>\n",
       "      <td>0</td>\n",
       "      <td>0</td>\n",
       "      <td>0</td>\n",
       "      <td>0</td>\n",
       "      <td>0</td>\n",
       "      <td>0.000</td>\n",
       "      <td>0.000</td>\n",
       "      <td>0</td>\n",
       "      <td>0</td>\n",
       "      <td>1</td>\n",
       "      <td>0</td>\n",
       "      <td>1</td>\n",
       "      <td>ES</td>\n",
       "      <td>28.000</td>\n",
       "      <td>Unknown</td>\n",
       "      <td>70</td>\n",
       "      <td>N</td>\n",
       "      <td>89,991.420</td>\n",
       "      <td>5</td>\n",
       "      <td>May</td>\n",
       "    </tr>\n",
       "  </tbody>\n",
       "</table>\n",
       "</div>"
      ],
      "text/plain": [
       "         pk_cid pk_partition entry_date entry_channel  active_customer  \\\n",
       "2168807  216507   2018-08-28 2018-08-17           NaN                1   \n",
       "2172127  216507   2018-09-28 2018-08-17           KHO                1   \n",
       "2943933  216507   2018-10-28 2018-08-17           KHO                1   \n",
       "3033652  216507   2018-11-28 2018-08-17           KHO                1   \n",
       "3627544  216507   2018-12-28 2018-08-17           KHO                1   \n",
       "3839882  216507   2019-01-28 2018-08-17           KHO                1   \n",
       "4481238  216507   2019-02-28 2018-08-17           KHO                1   \n",
       "4875861  216507   2019-03-28 2018-08-17           KHO                1   \n",
       "5133231  216507   2019-04-28 2018-08-17           KHO                1   \n",
       "5523191  216507   2019-05-28 2018-08-17           KHO                1   \n",
       "482482   476023   2018-03-28 2018-03-12           KHL                1   \n",
       "727801   476023   2018-04-28 2018-03-12           KHL                1   \n",
       "1224152  476023   2018-05-28 2018-03-12           KHL                1   \n",
       "1476252  476023   2018-06-28 2018-03-12           KHL                1   \n",
       "1477367  476023   2018-07-28 2018-03-12           KHL                1   \n",
       "1842989  476023   2018-08-28 2018-03-12           KHL                1   \n",
       "2169657  476023   2018-09-28 2018-03-12           KHL                1   \n",
       "2946003  476023   2018-10-28 2018-03-12           KHL                1   \n",
       "2953625  476023   2018-11-28 2018-03-12           KHL                1   \n",
       "3629885  476023   2018-12-28 2018-03-12           KHL                1   \n",
       "4102914  476023   2019-01-28 2018-03-12           KHL                1   \n",
       "4478901  476023   2019-02-28 2018-03-12           KHL                1   \n",
       "4887017  476023   2019-03-28 2018-03-12           KHL                1   \n",
       "5133985  476023   2019-04-28 2018-03-12           KHL                1   \n",
       "5524103  476023   2019-05-28 2018-03-12           KHL                1   \n",
       "\n",
       "                   segment  short_term_deposit  loans  mortgage  funds  \\\n",
       "2168807                NaN                   0      0         0      0   \n",
       "2172127  02 - PARTICULARES                   0      0         0      0   \n",
       "2943933  02 - PARTICULARES                   0      0         0      0   \n",
       "3033652  02 - PARTICULARES                   0      0         0      0   \n",
       "3627544  02 - PARTICULARES                   0      0         0      0   \n",
       "3839882  02 - PARTICULARES                   0      0         0      0   \n",
       "4481238  02 - PARTICULARES                   0      0         0      0   \n",
       "4875861  02 - PARTICULARES                   0      0         0      0   \n",
       "5133231  02 - PARTICULARES                   0      0         0      0   \n",
       "5523191  02 - PARTICULARES                   0      0         0      0   \n",
       "482482   02 - PARTICULARES                   0      0         0      0   \n",
       "727801   02 - PARTICULARES                   0      0         0      0   \n",
       "1224152  02 - PARTICULARES                   0      0         0      0   \n",
       "1476252  02 - PARTICULARES                   0      0         0      0   \n",
       "1477367  02 - PARTICULARES                   0      0         0      0   \n",
       "1842989  02 - PARTICULARES                   0      0         0      0   \n",
       "2169657  02 - PARTICULARES                   0      0         0      0   \n",
       "2946003  02 - PARTICULARES                   0      0         0      0   \n",
       "2953625  02 - PARTICULARES                   0      0         0      0   \n",
       "3629885  02 - PARTICULARES                   0      0         0      0   \n",
       "4102914  02 - PARTICULARES                   0      0         0      0   \n",
       "4478901  02 - PARTICULARES                   0      0         0      0   \n",
       "4887017  02 - PARTICULARES                   0      0         0      0   \n",
       "5133985  02 - PARTICULARES                   0      0         0      0   \n",
       "5524103  02 - PARTICULARES                   0      0         0      0   \n",
       "\n",
       "         securities  long_term_deposit  em_account_pp  credit_card  payroll  \\\n",
       "2168807           0                  0              0            0    0.000   \n",
       "2172127           0                  0              0            0    0.000   \n",
       "2943933           0                  0              0            0    0.000   \n",
       "3033652           0                  0              0            0    0.000   \n",
       "3627544           0                  0              0            0    0.000   \n",
       "3839882           0                  0              0            0    0.000   \n",
       "4481238           0                  0              0            0    0.000   \n",
       "4875861           0                  0              0            0    0.000   \n",
       "5133231           0                  0              0            0    0.000   \n",
       "5523191           0                  0              0            0    0.000   \n",
       "482482            0                  0              0            0    0.000   \n",
       "727801            0                  0              0            0    0.000   \n",
       "1224152           0                  0              0            0    0.000   \n",
       "1476252           0                  0              0            0    0.000   \n",
       "1477367           0                  0              0            0    0.000   \n",
       "1842989           0                  0              0            0    0.000   \n",
       "2169657           0                  0              0            0    0.000   \n",
       "2946003           0                  0              0            0    0.000   \n",
       "2953625           0                  0              0            0    0.000   \n",
       "3629885           0                  0              0            0    0.000   \n",
       "4102914           0                  0              0            0    0.000   \n",
       "4478901           0                  0              0            0    0.000   \n",
       "4887017           0                  0              0            0    0.000   \n",
       "5133985           0                  0              0            0    0.000   \n",
       "5524103           0                  0              0            0    0.000   \n",
       "\n",
       "         pension_plan  payroll_account  emc_account  debit_card  em_account_p  \\\n",
       "2168807         0.000                0            0           0             0   \n",
       "2172127         0.000                0            0           0             0   \n",
       "2943933         0.000                0            0           0             0   \n",
       "3033652         0.000                0            1           0             0   \n",
       "3627544         0.000                0            1           0             0   \n",
       "3839882         0.000                0            1           0             0   \n",
       "4481238         0.000                0            1           0             0   \n",
       "4875861         0.000                0            1           0             0   \n",
       "5133231         0.000                0            1           0             0   \n",
       "5523191         0.000                0            1           0             0   \n",
       "482482          0.000                0            0           0             0   \n",
       "727801          0.000                0            0           0             0   \n",
       "1224152         0.000                0            0           1             0   \n",
       "1476252         0.000                0            0           1             0   \n",
       "1477367         0.000                0            0           1             0   \n",
       "1842989         0.000                0            0           1             0   \n",
       "2169657         0.000                0            0           1             0   \n",
       "2946003         0.000                0            0           1             0   \n",
       "2953625         0.000                0            0           1             0   \n",
       "3629885         0.000                0            0           1             0   \n",
       "4102914         0.000                0            0           1             0   \n",
       "4478901         0.000                0            0           1             0   \n",
       "4887017         0.000                0            0           1             0   \n",
       "5133985         0.000                0            0           1             0   \n",
       "5524103         0.000                0            0           1             0   \n",
       "\n",
       "         em_acount country_id region_code   gender  age deceased      salary  \\\n",
       "2168807          0         ES      28.000  Unknown   72        N 104,296.620   \n",
       "2172127          0         ES      28.000  Unknown   72        N 104,296.620   \n",
       "2943933          0         ES      28.000  Unknown   72        N 104,296.620   \n",
       "3033652          0         ES      28.000  Unknown   72        N 104,296.620   \n",
       "3627544          0         ES      28.000  Unknown   72        N 104,296.620   \n",
       "3839882          0         ES      28.000  Unknown   73        N 104,296.620   \n",
       "4481238          0         ES      28.000  Unknown   72        N 104,296.620   \n",
       "4875861          0         ES      28.000  Unknown   73        N 104,296.620   \n",
       "5133231          0         ES      28.000  Unknown   73        N 104,296.620   \n",
       "5523191          0         ES      28.000  Unknown   73        N 104,296.620   \n",
       "482482           1         ES      28.000  Unknown   69        N  89,991.420   \n",
       "727801           1         ES      28.000  Unknown   69        N  89,991.420   \n",
       "1224152          1         ES      28.000  Unknown   69        N  89,991.420   \n",
       "1476252          1         ES      28.000  Unknown   69        N  89,991.420   \n",
       "1477367          1         ES      28.000  Unknown   69        N  89,991.420   \n",
       "1842989          1         ES      28.000  Unknown   69        N  89,991.420   \n",
       "2169657          1         ES      28.000  Unknown   69        N  89,991.420   \n",
       "2946003          1         ES      28.000  Unknown   69        N  89,991.420   \n",
       "2953625          1         ES      28.000  Unknown   69        N  89,991.420   \n",
       "3629885          1         ES      28.000  Unknown   69        N  89,991.420   \n",
       "4102914          1         ES      28.000  Unknown   69        N  89,991.420   \n",
       "4478901          1         ES      28.000  Unknown   69        N  89,991.420   \n",
       "4887017          1         ES      28.000  Unknown   69        N  89,991.420   \n",
       "5133985          1         ES      28.000  Unknown   70        N  89,991.420   \n",
       "5524103          1         ES      28.000  Unknown   70        N  89,991.420   \n",
       "\n",
       "         mes_partition mes_nombre_partition  \n",
       "2168807              8               August  \n",
       "2172127              9            September  \n",
       "2943933             10              October  \n",
       "3033652             11             November  \n",
       "3627544             12             December  \n",
       "3839882              1              January  \n",
       "4481238              2             February  \n",
       "4875861              3                March  \n",
       "5133231              4                April  \n",
       "5523191              5                  May  \n",
       "482482               3                March  \n",
       "727801               4                April  \n",
       "1224152              5                  May  \n",
       "1476252              6                 June  \n",
       "1477367              7                 July  \n",
       "1842989              8               August  \n",
       "2169657              9            September  \n",
       "2946003             10              October  \n",
       "2953625             11             November  \n",
       "3629885             12             December  \n",
       "4102914              1              January  \n",
       "4478901              2             February  \n",
       "4887017              3                March  \n",
       "5133985              4                April  \n",
       "5524103              5                  May  "
      ]
     },
     "execution_count": 296,
     "metadata": {},
     "output_type": "execute_result"
    }
   ],
   "source": [
    "# Clientes donde el valor de 'gender' es 'Unknown'\n",
    "df_full[df_full['gender'] == \"Unknown\"]"
   ]
  },
  {
   "cell_type": "code",
   "execution_count": 297,
   "metadata": {},
   "outputs": [],
   "source": [
    "# Reemplazar el valor 'Unknown' por 'H' en la columna 'gender'\n",
    "df_full.loc[df_full['gender'] == \"Unknown\", 'gender'] = \"H\""
   ]
  },
  {
   "cell_type": "markdown",
   "metadata": {},
   "source": [
    "Vamos a imputar los Unknown y los vamos a cambiar por Hombre, ya que, ambos individuos superan los 70 años (sería extraño que se identiffiquen como género fluido y la variable H es la que presenta mayor proporción, por tanto lo imputaremos a esta)"
   ]
  },
  {
   "cell_type": "markdown",
   "metadata": {},
   "source": [
    "### Género Unknown Mixto"
   ]
  },
  {
   "cell_type": "code",
   "execution_count": 298,
   "metadata": {},
   "outputs": [
    {
     "name": "stdout",
     "output_type": "stream",
     "text": [
      "Número de valores 'Unknown' después de la imputación: 0\n"
     ]
    }
   ],
   "source": [
    "# Aplicar el método ffill y bfill para imputar Unknown dentro de cada grupo\n",
    "df_full['gender'] = df_full.groupby('pk_cid')['gender'].transform(lambda x: x.ffill().bfill())\n",
    "\n",
    "# Verificar si hay todavía valores Unknown después de la imputación\n",
    "unknown_after = df_full[df_full['gender'] == \"Unknown\"]\n",
    "\n",
    "print(f\"Número de valores 'Unknown' después de la imputación: {len(unknown_after)}\")\n"
   ]
  },
  {
   "cell_type": "markdown",
   "metadata": {},
   "source": [
    "### Géneros Mixtos"
   ]
  },
  {
   "cell_type": "markdown",
   "metadata": {},
   "source": [
    "También vamos a modificar los casos en lso que el género es mixto, tomando el último valor registrado para cada individuo, ya que como hemos apuntado anteriormente, es lógico pensar que la última entrada de cada cliente es la más actualizada, y por tanto, la correcta"
   ]
  },
  {
   "cell_type": "code",
   "execution_count": 299,
   "metadata": {},
   "outputs": [],
   "source": [
    "# Obtener el último valor de 'gender' para cada cliente mixto\n",
    "ultimo_genero_por_cliente = df_full[df_full['pk_cid'].isin(clientes_mixtos_gender)].groupby('pk_cid').apply(lambda x: x.loc[x['pk_partition'].idxmax(), 'gender'])"
   ]
  },
  {
   "cell_type": "code",
   "execution_count": 300,
   "metadata": {},
   "outputs": [],
   "source": [
    "# Función para actualizar el género según la última entrada\n",
    "def actualizar_genero_mixto(row):\n",
    "    if row['pk_cid'] in ultimo_genero_por_cliente.index:\n",
    "        return ultimo_genero_por_cliente[row['pk_cid']]\n",
    "    else:\n",
    "        return row['gender']\n",
    "\n",
    "# Aplicar la función para actualizar el género en df_full\n",
    "df_full['gender'] = df_full.apply(actualizar_genero_mixto, axis=1)\n",
    "\n",
    "# Verificar los cambios en los clientes mixtos\n",
    "df_mixtos_actualizados = df_full[df_full['pk_cid'].isin(clientes_mixtos_gender)]"
   ]
  },
  {
   "cell_type": "code",
   "execution_count": 301,
   "metadata": {},
   "outputs": [
    {
     "data": {
      "text/html": [
       "<div>\n",
       "<style scoped>\n",
       "    .dataframe tbody tr th:only-of-type {\n",
       "        vertical-align: middle;\n",
       "    }\n",
       "\n",
       "    .dataframe tbody tr th {\n",
       "        vertical-align: top;\n",
       "    }\n",
       "\n",
       "    .dataframe thead th {\n",
       "        text-align: right;\n",
       "    }\n",
       "</style>\n",
       "<table border=\"1\" class=\"dataframe\">\n",
       "  <thead>\n",
       "    <tr style=\"text-align: right;\">\n",
       "      <th></th>\n",
       "      <th>pk_cid</th>\n",
       "      <th>pk_partition</th>\n",
       "      <th>entry_date</th>\n",
       "      <th>entry_channel</th>\n",
       "      <th>active_customer</th>\n",
       "      <th>segment</th>\n",
       "      <th>short_term_deposit</th>\n",
       "      <th>loans</th>\n",
       "      <th>mortgage</th>\n",
       "      <th>funds</th>\n",
       "      <th>securities</th>\n",
       "      <th>long_term_deposit</th>\n",
       "      <th>em_account_pp</th>\n",
       "      <th>credit_card</th>\n",
       "      <th>payroll</th>\n",
       "      <th>pension_plan</th>\n",
       "      <th>payroll_account</th>\n",
       "      <th>emc_account</th>\n",
       "      <th>debit_card</th>\n",
       "      <th>em_account_p</th>\n",
       "      <th>em_acount</th>\n",
       "      <th>country_id</th>\n",
       "      <th>region_code</th>\n",
       "      <th>gender</th>\n",
       "      <th>age</th>\n",
       "      <th>deceased</th>\n",
       "      <th>salary</th>\n",
       "      <th>mes_partition</th>\n",
       "      <th>mes_nombre_partition</th>\n",
       "    </tr>\n",
       "  </thead>\n",
       "  <tbody>\n",
       "    <tr>\n",
       "      <th>81224</th>\n",
       "      <td>1012963</td>\n",
       "      <td>2018-01-28</td>\n",
       "      <td>2015-04-23</td>\n",
       "      <td>KHD</td>\n",
       "      <td>0</td>\n",
       "      <td>03 - UNIVERSITARIO</td>\n",
       "      <td>0</td>\n",
       "      <td>0</td>\n",
       "      <td>0</td>\n",
       "      <td>0</td>\n",
       "      <td>0</td>\n",
       "      <td>0</td>\n",
       "      <td>0</td>\n",
       "      <td>0</td>\n",
       "      <td>0.000</td>\n",
       "      <td>0.000</td>\n",
       "      <td>0</td>\n",
       "      <td>0</td>\n",
       "      <td>0</td>\n",
       "      <td>0</td>\n",
       "      <td>1</td>\n",
       "      <td>ES</td>\n",
       "      <td>15.000</td>\n",
       "      <td>H</td>\n",
       "      <td>24</td>\n",
       "      <td>N</td>\n",
       "      <td>132,481.590</td>\n",
       "      <td>1</td>\n",
       "      <td>January</td>\n",
       "    </tr>\n",
       "    <tr>\n",
       "      <th>403796</th>\n",
       "      <td>1012963</td>\n",
       "      <td>2018-02-28</td>\n",
       "      <td>2015-04-23</td>\n",
       "      <td>KHD</td>\n",
       "      <td>0</td>\n",
       "      <td>03 - UNIVERSITARIO</td>\n",
       "      <td>0</td>\n",
       "      <td>0</td>\n",
       "      <td>0</td>\n",
       "      <td>0</td>\n",
       "      <td>0</td>\n",
       "      <td>0</td>\n",
       "      <td>0</td>\n",
       "      <td>0</td>\n",
       "      <td>0.000</td>\n",
       "      <td>0.000</td>\n",
       "      <td>0</td>\n",
       "      <td>0</td>\n",
       "      <td>0</td>\n",
       "      <td>0</td>\n",
       "      <td>1</td>\n",
       "      <td>ES</td>\n",
       "      <td>15.000</td>\n",
       "      <td>H</td>\n",
       "      <td>24</td>\n",
       "      <td>N</td>\n",
       "      <td>132,481.590</td>\n",
       "      <td>2</td>\n",
       "      <td>February</td>\n",
       "    </tr>\n",
       "    <tr>\n",
       "      <th>640152</th>\n",
       "      <td>1012963</td>\n",
       "      <td>2018-03-28</td>\n",
       "      <td>2015-04-23</td>\n",
       "      <td>KHD</td>\n",
       "      <td>0</td>\n",
       "      <td>03 - UNIVERSITARIO</td>\n",
       "      <td>0</td>\n",
       "      <td>0</td>\n",
       "      <td>0</td>\n",
       "      <td>0</td>\n",
       "      <td>0</td>\n",
       "      <td>0</td>\n",
       "      <td>0</td>\n",
       "      <td>0</td>\n",
       "      <td>0.000</td>\n",
       "      <td>0.000</td>\n",
       "      <td>0</td>\n",
       "      <td>0</td>\n",
       "      <td>0</td>\n",
       "      <td>0</td>\n",
       "      <td>1</td>\n",
       "      <td>ES</td>\n",
       "      <td>15.000</td>\n",
       "      <td>H</td>\n",
       "      <td>24</td>\n",
       "      <td>N</td>\n",
       "      <td>132,481.590</td>\n",
       "      <td>3</td>\n",
       "      <td>March</td>\n",
       "    </tr>\n",
       "    <tr>\n",
       "      <th>894546</th>\n",
       "      <td>1012963</td>\n",
       "      <td>2018-04-28</td>\n",
       "      <td>2015-04-23</td>\n",
       "      <td>KHD</td>\n",
       "      <td>0</td>\n",
       "      <td>03 - UNIVERSITARIO</td>\n",
       "      <td>0</td>\n",
       "      <td>0</td>\n",
       "      <td>0</td>\n",
       "      <td>0</td>\n",
       "      <td>0</td>\n",
       "      <td>0</td>\n",
       "      <td>0</td>\n",
       "      <td>0</td>\n",
       "      <td>0.000</td>\n",
       "      <td>0.000</td>\n",
       "      <td>0</td>\n",
       "      <td>0</td>\n",
       "      <td>0</td>\n",
       "      <td>0</td>\n",
       "      <td>1</td>\n",
       "      <td>ES</td>\n",
       "      <td>15.000</td>\n",
       "      <td>H</td>\n",
       "      <td>24</td>\n",
       "      <td>N</td>\n",
       "      <td>132,481.590</td>\n",
       "      <td>4</td>\n",
       "      <td>April</td>\n",
       "    </tr>\n",
       "    <tr>\n",
       "      <th>1063018</th>\n",
       "      <td>1012963</td>\n",
       "      <td>2018-05-28</td>\n",
       "      <td>2015-04-23</td>\n",
       "      <td>KHD</td>\n",
       "      <td>0</td>\n",
       "      <td>03 - UNIVERSITARIO</td>\n",
       "      <td>0</td>\n",
       "      <td>0</td>\n",
       "      <td>0</td>\n",
       "      <td>0</td>\n",
       "      <td>0</td>\n",
       "      <td>0</td>\n",
       "      <td>0</td>\n",
       "      <td>0</td>\n",
       "      <td>0.000</td>\n",
       "      <td>0.000</td>\n",
       "      <td>0</td>\n",
       "      <td>0</td>\n",
       "      <td>0</td>\n",
       "      <td>0</td>\n",
       "      <td>1</td>\n",
       "      <td>ES</td>\n",
       "      <td>15.000</td>\n",
       "      <td>H</td>\n",
       "      <td>24</td>\n",
       "      <td>N</td>\n",
       "      <td>132,481.590</td>\n",
       "      <td>5</td>\n",
       "      <td>May</td>\n",
       "    </tr>\n",
       "    <tr>\n",
       "      <th>1315419</th>\n",
       "      <td>1012963</td>\n",
       "      <td>2018-06-28</td>\n",
       "      <td>2015-04-23</td>\n",
       "      <td>KHD</td>\n",
       "      <td>0</td>\n",
       "      <td>03 - UNIVERSITARIO</td>\n",
       "      <td>0</td>\n",
       "      <td>0</td>\n",
       "      <td>0</td>\n",
       "      <td>0</td>\n",
       "      <td>0</td>\n",
       "      <td>0</td>\n",
       "      <td>0</td>\n",
       "      <td>0</td>\n",
       "      <td>0.000</td>\n",
       "      <td>0.000</td>\n",
       "      <td>0</td>\n",
       "      <td>0</td>\n",
       "      <td>0</td>\n",
       "      <td>0</td>\n",
       "      <td>1</td>\n",
       "      <td>ES</td>\n",
       "      <td>15.000</td>\n",
       "      <td>H</td>\n",
       "      <td>24</td>\n",
       "      <td>N</td>\n",
       "      <td>132,481.590</td>\n",
       "      <td>6</td>\n",
       "      <td>June</td>\n",
       "    </tr>\n",
       "    <tr>\n",
       "      <th>1612841</th>\n",
       "      <td>1012963</td>\n",
       "      <td>2018-07-28</td>\n",
       "      <td>2015-04-23</td>\n",
       "      <td>KHD</td>\n",
       "      <td>0</td>\n",
       "      <td>03 - UNIVERSITARIO</td>\n",
       "      <td>0</td>\n",
       "      <td>0</td>\n",
       "      <td>0</td>\n",
       "      <td>0</td>\n",
       "      <td>0</td>\n",
       "      <td>0</td>\n",
       "      <td>0</td>\n",
       "      <td>0</td>\n",
       "      <td>0.000</td>\n",
       "      <td>0.000</td>\n",
       "      <td>0</td>\n",
       "      <td>0</td>\n",
       "      <td>0</td>\n",
       "      <td>0</td>\n",
       "      <td>1</td>\n",
       "      <td>ES</td>\n",
       "      <td>15.000</td>\n",
       "      <td>H</td>\n",
       "      <td>24</td>\n",
       "      <td>N</td>\n",
       "      <td>132,481.590</td>\n",
       "      <td>7</td>\n",
       "      <td>July</td>\n",
       "    </tr>\n",
       "    <tr>\n",
       "      <th>1832939</th>\n",
       "      <td>1012963</td>\n",
       "      <td>2018-08-28</td>\n",
       "      <td>2015-04-23</td>\n",
       "      <td>KHD</td>\n",
       "      <td>0</td>\n",
       "      <td>03 - UNIVERSITARIO</td>\n",
       "      <td>0</td>\n",
       "      <td>0</td>\n",
       "      <td>0</td>\n",
       "      <td>0</td>\n",
       "      <td>0</td>\n",
       "      <td>0</td>\n",
       "      <td>0</td>\n",
       "      <td>0</td>\n",
       "      <td>0.000</td>\n",
       "      <td>0.000</td>\n",
       "      <td>0</td>\n",
       "      <td>0</td>\n",
       "      <td>0</td>\n",
       "      <td>0</td>\n",
       "      <td>1</td>\n",
       "      <td>ES</td>\n",
       "      <td>15.000</td>\n",
       "      <td>H</td>\n",
       "      <td>24</td>\n",
       "      <td>N</td>\n",
       "      <td>132,481.590</td>\n",
       "      <td>8</td>\n",
       "      <td>August</td>\n",
       "    </tr>\n",
       "    <tr>\n",
       "      <th>2324883</th>\n",
       "      <td>1012963</td>\n",
       "      <td>2018-09-28</td>\n",
       "      <td>2015-04-23</td>\n",
       "      <td>KHD</td>\n",
       "      <td>0</td>\n",
       "      <td>03 - UNIVERSITARIO</td>\n",
       "      <td>0</td>\n",
       "      <td>0</td>\n",
       "      <td>0</td>\n",
       "      <td>0</td>\n",
       "      <td>0</td>\n",
       "      <td>0</td>\n",
       "      <td>0</td>\n",
       "      <td>0</td>\n",
       "      <td>0.000</td>\n",
       "      <td>0.000</td>\n",
       "      <td>0</td>\n",
       "      <td>0</td>\n",
       "      <td>0</td>\n",
       "      <td>0</td>\n",
       "      <td>1</td>\n",
       "      <td>ES</td>\n",
       "      <td>15.000</td>\n",
       "      <td>H</td>\n",
       "      <td>24</td>\n",
       "      <td>N</td>\n",
       "      <td>132,481.590</td>\n",
       "      <td>9</td>\n",
       "      <td>September</td>\n",
       "    </tr>\n",
       "    <tr>\n",
       "      <th>2660594</th>\n",
       "      <td>1012963</td>\n",
       "      <td>2018-10-28</td>\n",
       "      <td>2015-04-23</td>\n",
       "      <td>KHD</td>\n",
       "      <td>0</td>\n",
       "      <td>03 - UNIVERSITARIO</td>\n",
       "      <td>0</td>\n",
       "      <td>0</td>\n",
       "      <td>0</td>\n",
       "      <td>0</td>\n",
       "      <td>0</td>\n",
       "      <td>0</td>\n",
       "      <td>0</td>\n",
       "      <td>0</td>\n",
       "      <td>0.000</td>\n",
       "      <td>0.000</td>\n",
       "      <td>0</td>\n",
       "      <td>0</td>\n",
       "      <td>0</td>\n",
       "      <td>0</td>\n",
       "      <td>1</td>\n",
       "      <td>ES</td>\n",
       "      <td>15.000</td>\n",
       "      <td>H</td>\n",
       "      <td>24</td>\n",
       "      <td>N</td>\n",
       "      <td>132,481.590</td>\n",
       "      <td>10</td>\n",
       "      <td>October</td>\n",
       "    </tr>\n",
       "    <tr>\n",
       "      <th>3322462</th>\n",
       "      <td>1012963</td>\n",
       "      <td>2018-11-28</td>\n",
       "      <td>2015-04-23</td>\n",
       "      <td>KHD</td>\n",
       "      <td>1</td>\n",
       "      <td>03 - UNIVERSITARIO</td>\n",
       "      <td>0</td>\n",
       "      <td>0</td>\n",
       "      <td>0</td>\n",
       "      <td>0</td>\n",
       "      <td>0</td>\n",
       "      <td>0</td>\n",
       "      <td>0</td>\n",
       "      <td>0</td>\n",
       "      <td>0.000</td>\n",
       "      <td>0.000</td>\n",
       "      <td>0</td>\n",
       "      <td>0</td>\n",
       "      <td>0</td>\n",
       "      <td>0</td>\n",
       "      <td>1</td>\n",
       "      <td>ES</td>\n",
       "      <td>15.000</td>\n",
       "      <td>H</td>\n",
       "      <td>24</td>\n",
       "      <td>N</td>\n",
       "      <td>132,481.590</td>\n",
       "      <td>11</td>\n",
       "      <td>November</td>\n",
       "    </tr>\n",
       "    <tr>\n",
       "      <th>3372588</th>\n",
       "      <td>1012963</td>\n",
       "      <td>2018-12-28</td>\n",
       "      <td>2015-04-23</td>\n",
       "      <td>KHD</td>\n",
       "      <td>1</td>\n",
       "      <td>03 - UNIVERSITARIO</td>\n",
       "      <td>0</td>\n",
       "      <td>0</td>\n",
       "      <td>0</td>\n",
       "      <td>0</td>\n",
       "      <td>0</td>\n",
       "      <td>0</td>\n",
       "      <td>0</td>\n",
       "      <td>0</td>\n",
       "      <td>0.000</td>\n",
       "      <td>0.000</td>\n",
       "      <td>0</td>\n",
       "      <td>0</td>\n",
       "      <td>0</td>\n",
       "      <td>0</td>\n",
       "      <td>1</td>\n",
       "      <td>ES</td>\n",
       "      <td>15.000</td>\n",
       "      <td>H</td>\n",
       "      <td>24</td>\n",
       "      <td>N</td>\n",
       "      <td>132,481.590</td>\n",
       "      <td>12</td>\n",
       "      <td>December</td>\n",
       "    </tr>\n",
       "    <tr>\n",
       "      <th>4193730</th>\n",
       "      <td>1012963</td>\n",
       "      <td>2019-01-28</td>\n",
       "      <td>2015-04-23</td>\n",
       "      <td>KHD</td>\n",
       "      <td>0</td>\n",
       "      <td>03 - UNIVERSITARIO</td>\n",
       "      <td>0</td>\n",
       "      <td>0</td>\n",
       "      <td>0</td>\n",
       "      <td>0</td>\n",
       "      <td>0</td>\n",
       "      <td>0</td>\n",
       "      <td>0</td>\n",
       "      <td>0</td>\n",
       "      <td>0.000</td>\n",
       "      <td>0.000</td>\n",
       "      <td>0</td>\n",
       "      <td>0</td>\n",
       "      <td>0</td>\n",
       "      <td>0</td>\n",
       "      <td>1</td>\n",
       "      <td>ES</td>\n",
       "      <td>15.000</td>\n",
       "      <td>H</td>\n",
       "      <td>24</td>\n",
       "      <td>N</td>\n",
       "      <td>132,481.590</td>\n",
       "      <td>1</td>\n",
       "      <td>January</td>\n",
       "    </tr>\n",
       "    <tr>\n",
       "      <th>4525918</th>\n",
       "      <td>1012963</td>\n",
       "      <td>2019-02-28</td>\n",
       "      <td>2015-04-23</td>\n",
       "      <td>KHQ</td>\n",
       "      <td>1</td>\n",
       "      <td>03 - UNIVERSITARIO</td>\n",
       "      <td>0</td>\n",
       "      <td>0</td>\n",
       "      <td>0</td>\n",
       "      <td>0</td>\n",
       "      <td>0</td>\n",
       "      <td>0</td>\n",
       "      <td>0</td>\n",
       "      <td>0</td>\n",
       "      <td>0.000</td>\n",
       "      <td>0.000</td>\n",
       "      <td>0</td>\n",
       "      <td>0</td>\n",
       "      <td>0</td>\n",
       "      <td>0</td>\n",
       "      <td>1</td>\n",
       "      <td>ES</td>\n",
       "      <td>15.000</td>\n",
       "      <td>H</td>\n",
       "      <td>24</td>\n",
       "      <td>N</td>\n",
       "      <td>132,481.590</td>\n",
       "      <td>2</td>\n",
       "      <td>February</td>\n",
       "    </tr>\n",
       "    <tr>\n",
       "      <th>5016917</th>\n",
       "      <td>1012963</td>\n",
       "      <td>2019-03-28</td>\n",
       "      <td>2015-04-23</td>\n",
       "      <td>KHQ</td>\n",
       "      <td>1</td>\n",
       "      <td>03 - UNIVERSITARIO</td>\n",
       "      <td>0</td>\n",
       "      <td>0</td>\n",
       "      <td>0</td>\n",
       "      <td>0</td>\n",
       "      <td>0</td>\n",
       "      <td>0</td>\n",
       "      <td>0</td>\n",
       "      <td>0</td>\n",
       "      <td>0.000</td>\n",
       "      <td>0.000</td>\n",
       "      <td>0</td>\n",
       "      <td>0</td>\n",
       "      <td>0</td>\n",
       "      <td>0</td>\n",
       "      <td>1</td>\n",
       "      <td>ES</td>\n",
       "      <td>15.000</td>\n",
       "      <td>H</td>\n",
       "      <td>24</td>\n",
       "      <td>N</td>\n",
       "      <td>132,481.590</td>\n",
       "      <td>3</td>\n",
       "      <td>March</td>\n",
       "    </tr>\n",
       "    <tr>\n",
       "      <th>5283655</th>\n",
       "      <td>1012963</td>\n",
       "      <td>2019-04-28</td>\n",
       "      <td>2015-04-23</td>\n",
       "      <td>KHQ</td>\n",
       "      <td>1</td>\n",
       "      <td>03 - UNIVERSITARIO</td>\n",
       "      <td>0</td>\n",
       "      <td>0</td>\n",
       "      <td>0</td>\n",
       "      <td>0</td>\n",
       "      <td>0</td>\n",
       "      <td>0</td>\n",
       "      <td>0</td>\n",
       "      <td>0</td>\n",
       "      <td>0.000</td>\n",
       "      <td>0.000</td>\n",
       "      <td>0</td>\n",
       "      <td>0</td>\n",
       "      <td>0</td>\n",
       "      <td>0</td>\n",
       "      <td>1</td>\n",
       "      <td>ES</td>\n",
       "      <td>15.000</td>\n",
       "      <td>H</td>\n",
       "      <td>24</td>\n",
       "      <td>N</td>\n",
       "      <td>132,481.590</td>\n",
       "      <td>4</td>\n",
       "      <td>April</td>\n",
       "    </tr>\n",
       "    <tr>\n",
       "      <th>5835464</th>\n",
       "      <td>1012963</td>\n",
       "      <td>2019-05-28</td>\n",
       "      <td>2015-04-23</td>\n",
       "      <td>KHQ</td>\n",
       "      <td>0</td>\n",
       "      <td>03 - UNIVERSITARIO</td>\n",
       "      <td>0</td>\n",
       "      <td>0</td>\n",
       "      <td>0</td>\n",
       "      <td>0</td>\n",
       "      <td>0</td>\n",
       "      <td>0</td>\n",
       "      <td>0</td>\n",
       "      <td>0</td>\n",
       "      <td>0.000</td>\n",
       "      <td>0.000</td>\n",
       "      <td>0</td>\n",
       "      <td>0</td>\n",
       "      <td>0</td>\n",
       "      <td>0</td>\n",
       "      <td>1</td>\n",
       "      <td>ES</td>\n",
       "      <td>15.000</td>\n",
       "      <td>H</td>\n",
       "      <td>25</td>\n",
       "      <td>N</td>\n",
       "      <td>132,481.590</td>\n",
       "      <td>5</td>\n",
       "      <td>May</td>\n",
       "    </tr>\n",
       "    <tr>\n",
       "      <th>3405770</th>\n",
       "      <td>1094303</td>\n",
       "      <td>2018-12-28</td>\n",
       "      <td>2018-12-31</td>\n",
       "      <td>KFC</td>\n",
       "      <td>0</td>\n",
       "      <td>NaN</td>\n",
       "      <td>0</td>\n",
       "      <td>0</td>\n",
       "      <td>0</td>\n",
       "      <td>0</td>\n",
       "      <td>0</td>\n",
       "      <td>0</td>\n",
       "      <td>0</td>\n",
       "      <td>0</td>\n",
       "      <td>0.000</td>\n",
       "      <td>0.000</td>\n",
       "      <td>0</td>\n",
       "      <td>0</td>\n",
       "      <td>0</td>\n",
       "      <td>0</td>\n",
       "      <td>0</td>\n",
       "      <td>ES</td>\n",
       "      <td>45.000</td>\n",
       "      <td>V</td>\n",
       "      <td>54</td>\n",
       "      <td>N</td>\n",
       "      <td>NaN</td>\n",
       "      <td>12</td>\n",
       "      <td>December</td>\n",
       "    </tr>\n",
       "    <tr>\n",
       "      <th>4121101</th>\n",
       "      <td>1094303</td>\n",
       "      <td>2019-01-28</td>\n",
       "      <td>2018-12-31</td>\n",
       "      <td>KFC</td>\n",
       "      <td>1</td>\n",
       "      <td>02 - PARTICULARES</td>\n",
       "      <td>0</td>\n",
       "      <td>0</td>\n",
       "      <td>0</td>\n",
       "      <td>0</td>\n",
       "      <td>0</td>\n",
       "      <td>0</td>\n",
       "      <td>0</td>\n",
       "      <td>0</td>\n",
       "      <td>0.000</td>\n",
       "      <td>0.000</td>\n",
       "      <td>0</td>\n",
       "      <td>0</td>\n",
       "      <td>0</td>\n",
       "      <td>0</td>\n",
       "      <td>0</td>\n",
       "      <td>ES</td>\n",
       "      <td>45.000</td>\n",
       "      <td>V</td>\n",
       "      <td>54</td>\n",
       "      <td>N</td>\n",
       "      <td>NaN</td>\n",
       "      <td>1</td>\n",
       "      <td>January</td>\n",
       "    </tr>\n",
       "    <tr>\n",
       "      <th>4503432</th>\n",
       "      <td>1094303</td>\n",
       "      <td>2019-02-28</td>\n",
       "      <td>2018-12-31</td>\n",
       "      <td>KFC</td>\n",
       "      <td>1</td>\n",
       "      <td>02 - PARTICULARES</td>\n",
       "      <td>0</td>\n",
       "      <td>0</td>\n",
       "      <td>0</td>\n",
       "      <td>0</td>\n",
       "      <td>0</td>\n",
       "      <td>0</td>\n",
       "      <td>0</td>\n",
       "      <td>0</td>\n",
       "      <td>0.000</td>\n",
       "      <td>0.000</td>\n",
       "      <td>0</td>\n",
       "      <td>0</td>\n",
       "      <td>0</td>\n",
       "      <td>0</td>\n",
       "      <td>0</td>\n",
       "      <td>ES</td>\n",
       "      <td>45.000</td>\n",
       "      <td>V</td>\n",
       "      <td>54</td>\n",
       "      <td>N</td>\n",
       "      <td>NaN</td>\n",
       "      <td>2</td>\n",
       "      <td>February</td>\n",
       "    </tr>\n",
       "  </tbody>\n",
       "</table>\n",
       "</div>"
      ],
      "text/plain": [
       "          pk_cid pk_partition entry_date entry_channel  active_customer  \\\n",
       "81224    1012963   2018-01-28 2015-04-23           KHD                0   \n",
       "403796   1012963   2018-02-28 2015-04-23           KHD                0   \n",
       "640152   1012963   2018-03-28 2015-04-23           KHD                0   \n",
       "894546   1012963   2018-04-28 2015-04-23           KHD                0   \n",
       "1063018  1012963   2018-05-28 2015-04-23           KHD                0   \n",
       "1315419  1012963   2018-06-28 2015-04-23           KHD                0   \n",
       "1612841  1012963   2018-07-28 2015-04-23           KHD                0   \n",
       "1832939  1012963   2018-08-28 2015-04-23           KHD                0   \n",
       "2324883  1012963   2018-09-28 2015-04-23           KHD                0   \n",
       "2660594  1012963   2018-10-28 2015-04-23           KHD                0   \n",
       "3322462  1012963   2018-11-28 2015-04-23           KHD                1   \n",
       "3372588  1012963   2018-12-28 2015-04-23           KHD                1   \n",
       "4193730  1012963   2019-01-28 2015-04-23           KHD                0   \n",
       "4525918  1012963   2019-02-28 2015-04-23           KHQ                1   \n",
       "5016917  1012963   2019-03-28 2015-04-23           KHQ                1   \n",
       "5283655  1012963   2019-04-28 2015-04-23           KHQ                1   \n",
       "5835464  1012963   2019-05-28 2015-04-23           KHQ                0   \n",
       "3405770  1094303   2018-12-28 2018-12-31           KFC                0   \n",
       "4121101  1094303   2019-01-28 2018-12-31           KFC                1   \n",
       "4503432  1094303   2019-02-28 2018-12-31           KFC                1   \n",
       "\n",
       "                    segment  short_term_deposit  loans  mortgage  funds  \\\n",
       "81224    03 - UNIVERSITARIO                   0      0         0      0   \n",
       "403796   03 - UNIVERSITARIO                   0      0         0      0   \n",
       "640152   03 - UNIVERSITARIO                   0      0         0      0   \n",
       "894546   03 - UNIVERSITARIO                   0      0         0      0   \n",
       "1063018  03 - UNIVERSITARIO                   0      0         0      0   \n",
       "1315419  03 - UNIVERSITARIO                   0      0         0      0   \n",
       "1612841  03 - UNIVERSITARIO                   0      0         0      0   \n",
       "1832939  03 - UNIVERSITARIO                   0      0         0      0   \n",
       "2324883  03 - UNIVERSITARIO                   0      0         0      0   \n",
       "2660594  03 - UNIVERSITARIO                   0      0         0      0   \n",
       "3322462  03 - UNIVERSITARIO                   0      0         0      0   \n",
       "3372588  03 - UNIVERSITARIO                   0      0         0      0   \n",
       "4193730  03 - UNIVERSITARIO                   0      0         0      0   \n",
       "4525918  03 - UNIVERSITARIO                   0      0         0      0   \n",
       "5016917  03 - UNIVERSITARIO                   0      0         0      0   \n",
       "5283655  03 - UNIVERSITARIO                   0      0         0      0   \n",
       "5835464  03 - UNIVERSITARIO                   0      0         0      0   \n",
       "3405770                 NaN                   0      0         0      0   \n",
       "4121101   02 - PARTICULARES                   0      0         0      0   \n",
       "4503432   02 - PARTICULARES                   0      0         0      0   \n",
       "\n",
       "         securities  long_term_deposit  em_account_pp  credit_card  payroll  \\\n",
       "81224             0                  0              0            0    0.000   \n",
       "403796            0                  0              0            0    0.000   \n",
       "640152            0                  0              0            0    0.000   \n",
       "894546            0                  0              0            0    0.000   \n",
       "1063018           0                  0              0            0    0.000   \n",
       "1315419           0                  0              0            0    0.000   \n",
       "1612841           0                  0              0            0    0.000   \n",
       "1832939           0                  0              0            0    0.000   \n",
       "2324883           0                  0              0            0    0.000   \n",
       "2660594           0                  0              0            0    0.000   \n",
       "3322462           0                  0              0            0    0.000   \n",
       "3372588           0                  0              0            0    0.000   \n",
       "4193730           0                  0              0            0    0.000   \n",
       "4525918           0                  0              0            0    0.000   \n",
       "5016917           0                  0              0            0    0.000   \n",
       "5283655           0                  0              0            0    0.000   \n",
       "5835464           0                  0              0            0    0.000   \n",
       "3405770           0                  0              0            0    0.000   \n",
       "4121101           0                  0              0            0    0.000   \n",
       "4503432           0                  0              0            0    0.000   \n",
       "\n",
       "         pension_plan  payroll_account  emc_account  debit_card  em_account_p  \\\n",
       "81224           0.000                0            0           0             0   \n",
       "403796          0.000                0            0           0             0   \n",
       "640152          0.000                0            0           0             0   \n",
       "894546          0.000                0            0           0             0   \n",
       "1063018         0.000                0            0           0             0   \n",
       "1315419         0.000                0            0           0             0   \n",
       "1612841         0.000                0            0           0             0   \n",
       "1832939         0.000                0            0           0             0   \n",
       "2324883         0.000                0            0           0             0   \n",
       "2660594         0.000                0            0           0             0   \n",
       "3322462         0.000                0            0           0             0   \n",
       "3372588         0.000                0            0           0             0   \n",
       "4193730         0.000                0            0           0             0   \n",
       "4525918         0.000                0            0           0             0   \n",
       "5016917         0.000                0            0           0             0   \n",
       "5283655         0.000                0            0           0             0   \n",
       "5835464         0.000                0            0           0             0   \n",
       "3405770         0.000                0            0           0             0   \n",
       "4121101         0.000                0            0           0             0   \n",
       "4503432         0.000                0            0           0             0   \n",
       "\n",
       "         em_acount country_id region_code gender  age deceased      salary  \\\n",
       "81224            1         ES      15.000      H   24        N 132,481.590   \n",
       "403796           1         ES      15.000      H   24        N 132,481.590   \n",
       "640152           1         ES      15.000      H   24        N 132,481.590   \n",
       "894546           1         ES      15.000      H   24        N 132,481.590   \n",
       "1063018          1         ES      15.000      H   24        N 132,481.590   \n",
       "1315419          1         ES      15.000      H   24        N 132,481.590   \n",
       "1612841          1         ES      15.000      H   24        N 132,481.590   \n",
       "1832939          1         ES      15.000      H   24        N 132,481.590   \n",
       "2324883          1         ES      15.000      H   24        N 132,481.590   \n",
       "2660594          1         ES      15.000      H   24        N 132,481.590   \n",
       "3322462          1         ES      15.000      H   24        N 132,481.590   \n",
       "3372588          1         ES      15.000      H   24        N 132,481.590   \n",
       "4193730          1         ES      15.000      H   24        N 132,481.590   \n",
       "4525918          1         ES      15.000      H   24        N 132,481.590   \n",
       "5016917          1         ES      15.000      H   24        N 132,481.590   \n",
       "5283655          1         ES      15.000      H   24        N 132,481.590   \n",
       "5835464          1         ES      15.000      H   25        N 132,481.590   \n",
       "3405770          0         ES      45.000      V   54        N         NaN   \n",
       "4121101          0         ES      45.000      V   54        N         NaN   \n",
       "4503432          0         ES      45.000      V   54        N         NaN   \n",
       "\n",
       "         mes_partition mes_nombre_partition  \n",
       "81224                1              January  \n",
       "403796               2             February  \n",
       "640152               3                March  \n",
       "894546               4                April  \n",
       "1063018              5                  May  \n",
       "1315419              6                 June  \n",
       "1612841              7                 July  \n",
       "1832939              8               August  \n",
       "2324883              9            September  \n",
       "2660594             10              October  \n",
       "3322462             11             November  \n",
       "3372588             12             December  \n",
       "4193730              1              January  \n",
       "4525918              2             February  \n",
       "5016917              3                March  \n",
       "5283655              4                April  \n",
       "5835464              5                  May  \n",
       "3405770             12             December  \n",
       "4121101              1              January  \n",
       "4503432              2             February  "
      ]
     },
     "execution_count": 301,
     "metadata": {},
     "output_type": "execute_result"
    }
   ],
   "source": [
    "# Mostrar algunos resultados para verificar\n",
    "df_mixtos_actualizados.head(20)"
   ]
  },
  {
   "cell_type": "markdown",
   "metadata": {},
   "source": [
    "## REGION_CODE\n"
   ]
  },
  {
   "cell_type": "code",
   "execution_count": 302,
   "metadata": {},
   "outputs": [],
   "source": [
    "# valores nulos en region_code ponerlos como Unknown\n",
    "df_full[\"region_code\"] = df_full[\"region_code\"].cat.add_categories([\"Unknown\"]).fillna(\"Unknown\")"
   ]
  },
  {
   "cell_type": "code",
   "execution_count": 303,
   "metadata": {},
   "outputs": [
    {
     "name": "stdout",
     "output_type": "stream",
     "text": [
      "Clientes que tienen siempre el mismo código de región (excluyendo mixtos): 454305\n",
      "Clientes con valores NaN en 'region_code' (excluyendo mixtos): 0\n",
      "Clientes con códigos de región mixtos (diferentes códigos): 2068\n"
     ]
    }
   ],
   "source": [
    "# Contar cuántos valores únicos de 'region_code' tiene cada cliente\n",
    "estado_por_cliente_region = df_full.groupby('pk_cid')['region_code'].nunique()\n",
    "\n",
    "# Identificar clientes con múltiples códigos de región (cambios de región)\n",
    "clientes_mixtos_region = estado_por_cliente_region[estado_por_cliente_region > 1].index\n",
    "\n",
    "# Excluir los clientes mixtos del análisis de las otras categorías\n",
    "df_no_mixtos_region = df_full[~df_full['pk_cid'].isin(clientes_mixtos_region)]\n",
    "\n",
    "# Identificar clientes que tienen siempre el mismo código de región\n",
    "clientes_mismo_region = df_no_mixtos_region.groupby('pk_cid')['region_code'].nunique()\n",
    "clientes_mismo_region = clientes_mismo_region[clientes_mismo_region == 1].index\n",
    "\n",
    "# Identificar clientes con valores NaN en 'region_code' (excluyendo clientes mixtos)\n",
    "clientes_con_nan_region = df_no_mixtos_region[df_no_mixtos_region['region_code'].isna()]['pk_cid'].unique()\n",
    "\n",
    "# Contar el número de clientes en cada categoría (excluyendo mixtos)\n",
    "n_mismo_region = len(clientes_mismo_region)\n",
    "n_con_nan_region = len(clientes_con_nan_region)\n",
    "n_mixtos_region = len(clientes_mixtos_region)\n",
    "\n",
    "# Mostrar los resultados\n",
    "print(f\"Clientes que tienen siempre el mismo código de región (excluyendo mixtos): {n_mismo_region}\")\n",
    "print(f\"Clientes con valores NaN en 'region_code' (excluyendo mixtos): {n_con_nan_region}\")\n",
    "print(f\"Clientes con códigos de región mixtos (diferentes códigos): {n_mixtos_region}\")"
   ]
  },
  {
   "cell_type": "code",
   "execution_count": 304,
   "metadata": {},
   "outputs": [
    {
     "data": {
      "text/plain": [
       "456373"
      ]
     },
     "execution_count": 304,
     "metadata": {},
     "output_type": "execute_result"
    }
   ],
   "source": [
    "# se comprueba que la suma de los clientes en cada región es igual a la cantidad de clientes únicos\n",
    "n_total = n_mismo_region + n_con_nan_region + n_mixtos_region\n",
    "n_total "
   ]
  },
  {
   "cell_type": "code",
   "execution_count": 305,
   "metadata": {},
   "outputs": [
    {
     "data": {
      "text/html": [
       "<div>\n",
       "<style scoped>\n",
       "    .dataframe tbody tr th:only-of-type {\n",
       "        vertical-align: middle;\n",
       "    }\n",
       "\n",
       "    .dataframe tbody tr th {\n",
       "        vertical-align: top;\n",
       "    }\n",
       "\n",
       "    .dataframe thead th {\n",
       "        text-align: right;\n",
       "    }\n",
       "</style>\n",
       "<table border=\"1\" class=\"dataframe\">\n",
       "  <thead>\n",
       "    <tr style=\"text-align: right;\">\n",
       "      <th></th>\n",
       "      <th>pk_cid</th>\n",
       "      <th>pk_partition</th>\n",
       "      <th>entry_date</th>\n",
       "      <th>entry_channel</th>\n",
       "      <th>active_customer</th>\n",
       "      <th>segment</th>\n",
       "      <th>short_term_deposit</th>\n",
       "      <th>loans</th>\n",
       "      <th>mortgage</th>\n",
       "      <th>funds</th>\n",
       "      <th>securities</th>\n",
       "      <th>long_term_deposit</th>\n",
       "      <th>em_account_pp</th>\n",
       "      <th>credit_card</th>\n",
       "      <th>payroll</th>\n",
       "      <th>pension_plan</th>\n",
       "      <th>payroll_account</th>\n",
       "      <th>emc_account</th>\n",
       "      <th>debit_card</th>\n",
       "      <th>em_account_p</th>\n",
       "      <th>em_acount</th>\n",
       "      <th>country_id</th>\n",
       "      <th>region_code</th>\n",
       "      <th>gender</th>\n",
       "      <th>age</th>\n",
       "      <th>deceased</th>\n",
       "      <th>salary</th>\n",
       "      <th>mes_partition</th>\n",
       "      <th>mes_nombre_partition</th>\n",
       "    </tr>\n",
       "  </thead>\n",
       "  <tbody>\n",
       "    <tr>\n",
       "      <th>240946</th>\n",
       "      <td>130419</td>\n",
       "      <td>2018-02-28</td>\n",
       "      <td>2017-12-31</td>\n",
       "      <td>KAT</td>\n",
       "      <td>0</td>\n",
       "      <td>02 - PARTICULARES</td>\n",
       "      <td>0</td>\n",
       "      <td>0</td>\n",
       "      <td>0</td>\n",
       "      <td>0</td>\n",
       "      <td>0</td>\n",
       "      <td>0</td>\n",
       "      <td>0</td>\n",
       "      <td>1</td>\n",
       "      <td>0.000</td>\n",
       "      <td>0.000</td>\n",
       "      <td>0</td>\n",
       "      <td>0</td>\n",
       "      <td>0</td>\n",
       "      <td>0</td>\n",
       "      <td>0</td>\n",
       "      <td>US</td>\n",
       "      <td>Unknown</td>\n",
       "      <td>V</td>\n",
       "      <td>53</td>\n",
       "      <td>N</td>\n",
       "      <td>NaN</td>\n",
       "      <td>2</td>\n",
       "      <td>February</td>\n",
       "    </tr>\n",
       "    <tr>\n",
       "      <th>483522</th>\n",
       "      <td>130419</td>\n",
       "      <td>2018-03-28</td>\n",
       "      <td>2017-12-31</td>\n",
       "      <td>KAT</td>\n",
       "      <td>0</td>\n",
       "      <td>02 - PARTICULARES</td>\n",
       "      <td>0</td>\n",
       "      <td>0</td>\n",
       "      <td>0</td>\n",
       "      <td>0</td>\n",
       "      <td>0</td>\n",
       "      <td>0</td>\n",
       "      <td>0</td>\n",
       "      <td>0</td>\n",
       "      <td>0.000</td>\n",
       "      <td>0.000</td>\n",
       "      <td>0</td>\n",
       "      <td>0</td>\n",
       "      <td>0</td>\n",
       "      <td>0</td>\n",
       "      <td>0</td>\n",
       "      <td>US</td>\n",
       "      <td>Unknown</td>\n",
       "      <td>V</td>\n",
       "      <td>53</td>\n",
       "      <td>N</td>\n",
       "      <td>NaN</td>\n",
       "      <td>3</td>\n",
       "      <td>March</td>\n",
       "    </tr>\n",
       "    <tr>\n",
       "      <th>728777</th>\n",
       "      <td>130419</td>\n",
       "      <td>2018-04-28</td>\n",
       "      <td>2017-12-31</td>\n",
       "      <td>KAT</td>\n",
       "      <td>0</td>\n",
       "      <td>02 - PARTICULARES</td>\n",
       "      <td>0</td>\n",
       "      <td>0</td>\n",
       "      <td>0</td>\n",
       "      <td>0</td>\n",
       "      <td>0</td>\n",
       "      <td>0</td>\n",
       "      <td>0</td>\n",
       "      <td>1</td>\n",
       "      <td>0.000</td>\n",
       "      <td>0.000</td>\n",
       "      <td>0</td>\n",
       "      <td>0</td>\n",
       "      <td>0</td>\n",
       "      <td>0</td>\n",
       "      <td>0</td>\n",
       "      <td>US</td>\n",
       "      <td>Unknown</td>\n",
       "      <td>V</td>\n",
       "      <td>53</td>\n",
       "      <td>N</td>\n",
       "      <td>NaN</td>\n",
       "      <td>4</td>\n",
       "      <td>April</td>\n",
       "    </tr>\n",
       "    <tr>\n",
       "      <th>1223095</th>\n",
       "      <td>130419</td>\n",
       "      <td>2018-05-28</td>\n",
       "      <td>2017-12-31</td>\n",
       "      <td>KAT</td>\n",
       "      <td>0</td>\n",
       "      <td>02 - PARTICULARES</td>\n",
       "      <td>0</td>\n",
       "      <td>0</td>\n",
       "      <td>0</td>\n",
       "      <td>0</td>\n",
       "      <td>0</td>\n",
       "      <td>0</td>\n",
       "      <td>0</td>\n",
       "      <td>0</td>\n",
       "      <td>0.000</td>\n",
       "      <td>0.000</td>\n",
       "      <td>0</td>\n",
       "      <td>0</td>\n",
       "      <td>0</td>\n",
       "      <td>0</td>\n",
       "      <td>0</td>\n",
       "      <td>US</td>\n",
       "      <td>Unknown</td>\n",
       "      <td>V</td>\n",
       "      <td>53</td>\n",
       "      <td>N</td>\n",
       "      <td>NaN</td>\n",
       "      <td>5</td>\n",
       "      <td>May</td>\n",
       "    </tr>\n",
       "    <tr>\n",
       "      <th>1479139</th>\n",
       "      <td>130419</td>\n",
       "      <td>2018-07-28</td>\n",
       "      <td>2017-12-31</td>\n",
       "      <td>KAT</td>\n",
       "      <td>0</td>\n",
       "      <td>02 - PARTICULARES</td>\n",
       "      <td>0</td>\n",
       "      <td>0</td>\n",
       "      <td>0</td>\n",
       "      <td>0</td>\n",
       "      <td>0</td>\n",
       "      <td>0</td>\n",
       "      <td>0</td>\n",
       "      <td>0</td>\n",
       "      <td>0.000</td>\n",
       "      <td>0.000</td>\n",
       "      <td>0</td>\n",
       "      <td>0</td>\n",
       "      <td>0</td>\n",
       "      <td>0</td>\n",
       "      <td>0</td>\n",
       "      <td>US</td>\n",
       "      <td>Unknown</td>\n",
       "      <td>V</td>\n",
       "      <td>53</td>\n",
       "      <td>N</td>\n",
       "      <td>NaN</td>\n",
       "      <td>7</td>\n",
       "      <td>July</td>\n",
       "    </tr>\n",
       "    <tr>\n",
       "      <th>...</th>\n",
       "      <td>...</td>\n",
       "      <td>...</td>\n",
       "      <td>...</td>\n",
       "      <td>...</td>\n",
       "      <td>...</td>\n",
       "      <td>...</td>\n",
       "      <td>...</td>\n",
       "      <td>...</td>\n",
       "      <td>...</td>\n",
       "      <td>...</td>\n",
       "      <td>...</td>\n",
       "      <td>...</td>\n",
       "      <td>...</td>\n",
       "      <td>...</td>\n",
       "      <td>...</td>\n",
       "      <td>...</td>\n",
       "      <td>...</td>\n",
       "      <td>...</td>\n",
       "      <td>...</td>\n",
       "      <td>...</td>\n",
       "      <td>...</td>\n",
       "      <td>...</td>\n",
       "      <td>...</td>\n",
       "      <td>...</td>\n",
       "      <td>...</td>\n",
       "      <td>...</td>\n",
       "      <td>...</td>\n",
       "      <td>...</td>\n",
       "      <td>...</td>\n",
       "    </tr>\n",
       "    <tr>\n",
       "      <th>5083649</th>\n",
       "      <td>1530982</td>\n",
       "      <td>2019-04-28</td>\n",
       "      <td>2019-02-09</td>\n",
       "      <td>KAT</td>\n",
       "      <td>1</td>\n",
       "      <td>02 - PARTICULARES</td>\n",
       "      <td>0</td>\n",
       "      <td>0</td>\n",
       "      <td>0</td>\n",
       "      <td>0</td>\n",
       "      <td>0</td>\n",
       "      <td>0</td>\n",
       "      <td>0</td>\n",
       "      <td>0</td>\n",
       "      <td>0.000</td>\n",
       "      <td>0.000</td>\n",
       "      <td>0</td>\n",
       "      <td>0</td>\n",
       "      <td>0</td>\n",
       "      <td>0</td>\n",
       "      <td>1</td>\n",
       "      <td>GB</td>\n",
       "      <td>Unknown</td>\n",
       "      <td>V</td>\n",
       "      <td>33</td>\n",
       "      <td>N</td>\n",
       "      <td>NaN</td>\n",
       "      <td>4</td>\n",
       "      <td>April</td>\n",
       "    </tr>\n",
       "    <tr>\n",
       "      <th>5692590</th>\n",
       "      <td>1530982</td>\n",
       "      <td>2019-05-28</td>\n",
       "      <td>2019-02-09</td>\n",
       "      <td>KAT</td>\n",
       "      <td>1</td>\n",
       "      <td>02 - PARTICULARES</td>\n",
       "      <td>0</td>\n",
       "      <td>0</td>\n",
       "      <td>0</td>\n",
       "      <td>0</td>\n",
       "      <td>0</td>\n",
       "      <td>0</td>\n",
       "      <td>0</td>\n",
       "      <td>0</td>\n",
       "      <td>1.000</td>\n",
       "      <td>1.000</td>\n",
       "      <td>1</td>\n",
       "      <td>0</td>\n",
       "      <td>0</td>\n",
       "      <td>0</td>\n",
       "      <td>0</td>\n",
       "      <td>GB</td>\n",
       "      <td>Unknown</td>\n",
       "      <td>V</td>\n",
       "      <td>33</td>\n",
       "      <td>N</td>\n",
       "      <td>NaN</td>\n",
       "      <td>5</td>\n",
       "      <td>May</td>\n",
       "    </tr>\n",
       "    <tr>\n",
       "      <th>5672371</th>\n",
       "      <td>1542679</td>\n",
       "      <td>2019-05-28</td>\n",
       "      <td>2019-03-31</td>\n",
       "      <td>KHM</td>\n",
       "      <td>1</td>\n",
       "      <td>02 - PARTICULARES</td>\n",
       "      <td>0</td>\n",
       "      <td>0</td>\n",
       "      <td>0</td>\n",
       "      <td>0</td>\n",
       "      <td>0</td>\n",
       "      <td>0</td>\n",
       "      <td>0</td>\n",
       "      <td>0</td>\n",
       "      <td>0.000</td>\n",
       "      <td>0.000</td>\n",
       "      <td>0</td>\n",
       "      <td>0</td>\n",
       "      <td>0</td>\n",
       "      <td>0</td>\n",
       "      <td>1</td>\n",
       "      <td>US</td>\n",
       "      <td>Unknown</td>\n",
       "      <td>V</td>\n",
       "      <td>64</td>\n",
       "      <td>N</td>\n",
       "      <td>NaN</td>\n",
       "      <td>5</td>\n",
       "      <td>May</td>\n",
       "    </tr>\n",
       "    <tr>\n",
       "      <th>5097292</th>\n",
       "      <td>1544346</td>\n",
       "      <td>2019-04-28</td>\n",
       "      <td>2019-04-08</td>\n",
       "      <td>NaN</td>\n",
       "      <td>1</td>\n",
       "      <td>NaN</td>\n",
       "      <td>0</td>\n",
       "      <td>0</td>\n",
       "      <td>0</td>\n",
       "      <td>0</td>\n",
       "      <td>0</td>\n",
       "      <td>0</td>\n",
       "      <td>0</td>\n",
       "      <td>0</td>\n",
       "      <td>0.000</td>\n",
       "      <td>0.000</td>\n",
       "      <td>0</td>\n",
       "      <td>0</td>\n",
       "      <td>0</td>\n",
       "      <td>0</td>\n",
       "      <td>1</td>\n",
       "      <td>FR</td>\n",
       "      <td>Unknown</td>\n",
       "      <td>H</td>\n",
       "      <td>46</td>\n",
       "      <td>N</td>\n",
       "      <td>NaN</td>\n",
       "      <td>4</td>\n",
       "      <td>April</td>\n",
       "    </tr>\n",
       "    <tr>\n",
       "      <th>5682097</th>\n",
       "      <td>1544346</td>\n",
       "      <td>2019-05-28</td>\n",
       "      <td>2019-04-08</td>\n",
       "      <td>KFA</td>\n",
       "      <td>1</td>\n",
       "      <td>02 - PARTICULARES</td>\n",
       "      <td>0</td>\n",
       "      <td>0</td>\n",
       "      <td>0</td>\n",
       "      <td>1</td>\n",
       "      <td>0</td>\n",
       "      <td>0</td>\n",
       "      <td>0</td>\n",
       "      <td>0</td>\n",
       "      <td>0.000</td>\n",
       "      <td>0.000</td>\n",
       "      <td>0</td>\n",
       "      <td>0</td>\n",
       "      <td>0</td>\n",
       "      <td>0</td>\n",
       "      <td>1</td>\n",
       "      <td>FR</td>\n",
       "      <td>Unknown</td>\n",
       "      <td>H</td>\n",
       "      <td>46</td>\n",
       "      <td>N</td>\n",
       "      <td>NaN</td>\n",
       "      <td>5</td>\n",
       "      <td>May</td>\n",
       "    </tr>\n",
       "  </tbody>\n",
       "</table>\n",
       "<p>2264 rows × 29 columns</p>\n",
       "</div>"
      ],
      "text/plain": [
       "          pk_cid pk_partition entry_date entry_channel  active_customer  \\\n",
       "240946    130419   2018-02-28 2017-12-31           KAT                0   \n",
       "483522    130419   2018-03-28 2017-12-31           KAT                0   \n",
       "728777    130419   2018-04-28 2017-12-31           KAT                0   \n",
       "1223095   130419   2018-05-28 2017-12-31           KAT                0   \n",
       "1479139   130419   2018-07-28 2017-12-31           KAT                0   \n",
       "...          ...          ...        ...           ...              ...   \n",
       "5083649  1530982   2019-04-28 2019-02-09           KAT                1   \n",
       "5692590  1530982   2019-05-28 2019-02-09           KAT                1   \n",
       "5672371  1542679   2019-05-28 2019-03-31           KHM                1   \n",
       "5097292  1544346   2019-04-28 2019-04-08           NaN                1   \n",
       "5682097  1544346   2019-05-28 2019-04-08           KFA                1   \n",
       "\n",
       "                   segment  short_term_deposit  loans  mortgage  funds  \\\n",
       "240946   02 - PARTICULARES                   0      0         0      0   \n",
       "483522   02 - PARTICULARES                   0      0         0      0   \n",
       "728777   02 - PARTICULARES                   0      0         0      0   \n",
       "1223095  02 - PARTICULARES                   0      0         0      0   \n",
       "1479139  02 - PARTICULARES                   0      0         0      0   \n",
       "...                    ...                 ...    ...       ...    ...   \n",
       "5083649  02 - PARTICULARES                   0      0         0      0   \n",
       "5692590  02 - PARTICULARES                   0      0         0      0   \n",
       "5672371  02 - PARTICULARES                   0      0         0      0   \n",
       "5097292                NaN                   0      0         0      0   \n",
       "5682097  02 - PARTICULARES                   0      0         0      1   \n",
       "\n",
       "         securities  long_term_deposit  em_account_pp  credit_card  payroll  \\\n",
       "240946            0                  0              0            1    0.000   \n",
       "483522            0                  0              0            0    0.000   \n",
       "728777            0                  0              0            1    0.000   \n",
       "1223095           0                  0              0            0    0.000   \n",
       "1479139           0                  0              0            0    0.000   \n",
       "...             ...                ...            ...          ...      ...   \n",
       "5083649           0                  0              0            0    0.000   \n",
       "5692590           0                  0              0            0    1.000   \n",
       "5672371           0                  0              0            0    0.000   \n",
       "5097292           0                  0              0            0    0.000   \n",
       "5682097           0                  0              0            0    0.000   \n",
       "\n",
       "         pension_plan  payroll_account  emc_account  debit_card  em_account_p  \\\n",
       "240946          0.000                0            0           0             0   \n",
       "483522          0.000                0            0           0             0   \n",
       "728777          0.000                0            0           0             0   \n",
       "1223095         0.000                0            0           0             0   \n",
       "1479139         0.000                0            0           0             0   \n",
       "...               ...              ...          ...         ...           ...   \n",
       "5083649         0.000                0            0           0             0   \n",
       "5692590         1.000                1            0           0             0   \n",
       "5672371         0.000                0            0           0             0   \n",
       "5097292         0.000                0            0           0             0   \n",
       "5682097         0.000                0            0           0             0   \n",
       "\n",
       "         em_acount country_id region_code gender  age deceased  salary  \\\n",
       "240946           0         US     Unknown      V   53        N     NaN   \n",
       "483522           0         US     Unknown      V   53        N     NaN   \n",
       "728777           0         US     Unknown      V   53        N     NaN   \n",
       "1223095          0         US     Unknown      V   53        N     NaN   \n",
       "1479139          0         US     Unknown      V   53        N     NaN   \n",
       "...            ...        ...         ...    ...  ...      ...     ...   \n",
       "5083649          1         GB     Unknown      V   33        N     NaN   \n",
       "5692590          0         GB     Unknown      V   33        N     NaN   \n",
       "5672371          1         US     Unknown      V   64        N     NaN   \n",
       "5097292          1         FR     Unknown      H   46        N     NaN   \n",
       "5682097          1         FR     Unknown      H   46        N     NaN   \n",
       "\n",
       "         mes_partition mes_nombre_partition  \n",
       "240946               2             February  \n",
       "483522               3                March  \n",
       "728777               4                April  \n",
       "1223095              5                  May  \n",
       "1479139              7                 July  \n",
       "...                ...                  ...  \n",
       "5083649              4                April  \n",
       "5692590              5                  May  \n",
       "5672371              5                  May  \n",
       "5097292              4                April  \n",
       "5682097              5                  May  \n",
       "\n",
       "[2264 rows x 29 columns]"
      ]
     },
     "execution_count": 305,
     "metadata": {},
     "output_type": "execute_result"
    }
   ],
   "source": [
    "df_full[df_full[\"region_code\"] == 'Unknown']"
   ]
  },
  {
   "cell_type": "code",
   "execution_count": 306,
   "metadata": {},
   "outputs": [
    {
     "data": {
      "text/html": [
       "<div>\n",
       "<style scoped>\n",
       "    .dataframe tbody tr th:only-of-type {\n",
       "        vertical-align: middle;\n",
       "    }\n",
       "\n",
       "    .dataframe tbody tr th {\n",
       "        vertical-align: top;\n",
       "    }\n",
       "\n",
       "    .dataframe thead th {\n",
       "        text-align: right;\n",
       "    }\n",
       "</style>\n",
       "<table border=\"1\" class=\"dataframe\">\n",
       "  <thead>\n",
       "    <tr style=\"text-align: right;\">\n",
       "      <th></th>\n",
       "      <th>pk_cid</th>\n",
       "      <th>pk_partition</th>\n",
       "      <th>entry_date</th>\n",
       "      <th>entry_channel</th>\n",
       "      <th>active_customer</th>\n",
       "      <th>segment</th>\n",
       "      <th>short_term_deposit</th>\n",
       "      <th>loans</th>\n",
       "      <th>mortgage</th>\n",
       "      <th>funds</th>\n",
       "      <th>securities</th>\n",
       "      <th>long_term_deposit</th>\n",
       "      <th>em_account_pp</th>\n",
       "      <th>credit_card</th>\n",
       "      <th>payroll</th>\n",
       "      <th>pension_plan</th>\n",
       "      <th>payroll_account</th>\n",
       "      <th>emc_account</th>\n",
       "      <th>debit_card</th>\n",
       "      <th>em_account_p</th>\n",
       "      <th>em_acount</th>\n",
       "      <th>country_id</th>\n",
       "      <th>region_code</th>\n",
       "      <th>gender</th>\n",
       "      <th>age</th>\n",
       "      <th>deceased</th>\n",
       "      <th>salary</th>\n",
       "      <th>mes_partition</th>\n",
       "      <th>mes_nombre_partition</th>\n",
       "    </tr>\n",
       "  </thead>\n",
       "  <tbody>\n",
       "    <tr>\n",
       "      <th>4320</th>\n",
       "      <td>1054714</td>\n",
       "      <td>2018-01-28</td>\n",
       "      <td>2015-08-29</td>\n",
       "      <td>KAT</td>\n",
       "      <td>1</td>\n",
       "      <td>01 - TOP</td>\n",
       "      <td>0</td>\n",
       "      <td>0</td>\n",
       "      <td>0</td>\n",
       "      <td>1</td>\n",
       "      <td>0</td>\n",
       "      <td>0</td>\n",
       "      <td>0</td>\n",
       "      <td>0</td>\n",
       "      <td>0.000</td>\n",
       "      <td>0.000</td>\n",
       "      <td>0</td>\n",
       "      <td>0</td>\n",
       "      <td>0</td>\n",
       "      <td>0</td>\n",
       "      <td>0</td>\n",
       "      <td>ES</td>\n",
       "      <td>Unknown</td>\n",
       "      <td>V</td>\n",
       "      <td>40</td>\n",
       "      <td>N</td>\n",
       "      <td>NaN</td>\n",
       "      <td>1</td>\n",
       "      <td>January</td>\n",
       "    </tr>\n",
       "    <tr>\n",
       "      <th>480274</th>\n",
       "      <td>1054714</td>\n",
       "      <td>2018-02-28</td>\n",
       "      <td>2015-08-29</td>\n",
       "      <td>KAT</td>\n",
       "      <td>1</td>\n",
       "      <td>01 - TOP</td>\n",
       "      <td>0</td>\n",
       "      <td>0</td>\n",
       "      <td>0</td>\n",
       "      <td>1</td>\n",
       "      <td>0</td>\n",
       "      <td>0</td>\n",
       "      <td>0</td>\n",
       "      <td>0</td>\n",
       "      <td>0.000</td>\n",
       "      <td>0.000</td>\n",
       "      <td>0</td>\n",
       "      <td>0</td>\n",
       "      <td>0</td>\n",
       "      <td>0</td>\n",
       "      <td>0</td>\n",
       "      <td>ES</td>\n",
       "      <td>Unknown</td>\n",
       "      <td>V</td>\n",
       "      <td>40</td>\n",
       "      <td>N</td>\n",
       "      <td>NaN</td>\n",
       "      <td>2</td>\n",
       "      <td>February</td>\n",
       "    </tr>\n",
       "    <tr>\n",
       "      <th>720817</th>\n",
       "      <td>1054714</td>\n",
       "      <td>2018-03-28</td>\n",
       "      <td>2015-08-29</td>\n",
       "      <td>KAT</td>\n",
       "      <td>1</td>\n",
       "      <td>01 - TOP</td>\n",
       "      <td>0</td>\n",
       "      <td>0</td>\n",
       "      <td>0</td>\n",
       "      <td>1</td>\n",
       "      <td>0</td>\n",
       "      <td>0</td>\n",
       "      <td>0</td>\n",
       "      <td>0</td>\n",
       "      <td>0.000</td>\n",
       "      <td>0.000</td>\n",
       "      <td>0</td>\n",
       "      <td>0</td>\n",
       "      <td>0</td>\n",
       "      <td>0</td>\n",
       "      <td>1</td>\n",
       "      <td>ES</td>\n",
       "      <td>Unknown</td>\n",
       "      <td>V</td>\n",
       "      <td>40</td>\n",
       "      <td>N</td>\n",
       "      <td>NaN</td>\n",
       "      <td>3</td>\n",
       "      <td>March</td>\n",
       "    </tr>\n",
       "    <tr>\n",
       "      <th>965232</th>\n",
       "      <td>1054714</td>\n",
       "      <td>2018-04-28</td>\n",
       "      <td>2015-08-29</td>\n",
       "      <td>KAT</td>\n",
       "      <td>1</td>\n",
       "      <td>01 - TOP</td>\n",
       "      <td>0</td>\n",
       "      <td>0</td>\n",
       "      <td>0</td>\n",
       "      <td>1</td>\n",
       "      <td>0</td>\n",
       "      <td>0</td>\n",
       "      <td>0</td>\n",
       "      <td>0</td>\n",
       "      <td>0.000</td>\n",
       "      <td>0.000</td>\n",
       "      <td>0</td>\n",
       "      <td>0</td>\n",
       "      <td>0</td>\n",
       "      <td>0</td>\n",
       "      <td>1</td>\n",
       "      <td>ES</td>\n",
       "      <td>Unknown</td>\n",
       "      <td>V</td>\n",
       "      <td>40</td>\n",
       "      <td>N</td>\n",
       "      <td>NaN</td>\n",
       "      <td>4</td>\n",
       "      <td>April</td>\n",
       "    </tr>\n",
       "    <tr>\n",
       "      <th>980872</th>\n",
       "      <td>1054714</td>\n",
       "      <td>2018-05-28</td>\n",
       "      <td>2015-08-29</td>\n",
       "      <td>KAT</td>\n",
       "      <td>1</td>\n",
       "      <td>01 - TOP</td>\n",
       "      <td>0</td>\n",
       "      <td>0</td>\n",
       "      <td>0</td>\n",
       "      <td>1</td>\n",
       "      <td>0</td>\n",
       "      <td>0</td>\n",
       "      <td>0</td>\n",
       "      <td>0</td>\n",
       "      <td>0.000</td>\n",
       "      <td>0.000</td>\n",
       "      <td>0</td>\n",
       "      <td>0</td>\n",
       "      <td>0</td>\n",
       "      <td>0</td>\n",
       "      <td>1</td>\n",
       "      <td>ES</td>\n",
       "      <td>Unknown</td>\n",
       "      <td>V</td>\n",
       "      <td>40</td>\n",
       "      <td>N</td>\n",
       "      <td>NaN</td>\n",
       "      <td>5</td>\n",
       "      <td>May</td>\n",
       "    </tr>\n",
       "    <tr>\n",
       "      <th>1231884</th>\n",
       "      <td>1054714</td>\n",
       "      <td>2018-06-28</td>\n",
       "      <td>2015-08-29</td>\n",
       "      <td>KAT</td>\n",
       "      <td>1</td>\n",
       "      <td>01 - TOP</td>\n",
       "      <td>0</td>\n",
       "      <td>0</td>\n",
       "      <td>0</td>\n",
       "      <td>1</td>\n",
       "      <td>0</td>\n",
       "      <td>0</td>\n",
       "      <td>0</td>\n",
       "      <td>0</td>\n",
       "      <td>0.000</td>\n",
       "      <td>0.000</td>\n",
       "      <td>0</td>\n",
       "      <td>0</td>\n",
       "      <td>0</td>\n",
       "      <td>0</td>\n",
       "      <td>1</td>\n",
       "      <td>ES</td>\n",
       "      <td>Unknown</td>\n",
       "      <td>V</td>\n",
       "      <td>40</td>\n",
       "      <td>N</td>\n",
       "      <td>NaN</td>\n",
       "      <td>6</td>\n",
       "      <td>June</td>\n",
       "    </tr>\n",
       "    <tr>\n",
       "      <th>1586303</th>\n",
       "      <td>1054714</td>\n",
       "      <td>2018-07-28</td>\n",
       "      <td>2015-08-29</td>\n",
       "      <td>KAT</td>\n",
       "      <td>1</td>\n",
       "      <td>01 - TOP</td>\n",
       "      <td>0</td>\n",
       "      <td>0</td>\n",
       "      <td>0</td>\n",
       "      <td>1</td>\n",
       "      <td>0</td>\n",
       "      <td>0</td>\n",
       "      <td>0</td>\n",
       "      <td>0</td>\n",
       "      <td>0.000</td>\n",
       "      <td>0.000</td>\n",
       "      <td>0</td>\n",
       "      <td>0</td>\n",
       "      <td>0</td>\n",
       "      <td>0</td>\n",
       "      <td>0</td>\n",
       "      <td>ES</td>\n",
       "      <td>Unknown</td>\n",
       "      <td>V</td>\n",
       "      <td>40</td>\n",
       "      <td>N</td>\n",
       "      <td>NaN</td>\n",
       "      <td>7</td>\n",
       "      <td>July</td>\n",
       "    </tr>\n",
       "    <tr>\n",
       "      <th>2047525</th>\n",
       "      <td>1054714</td>\n",
       "      <td>2018-08-28</td>\n",
       "      <td>2015-08-29</td>\n",
       "      <td>KAT</td>\n",
       "      <td>1</td>\n",
       "      <td>01 - TOP</td>\n",
       "      <td>0</td>\n",
       "      <td>0</td>\n",
       "      <td>0</td>\n",
       "      <td>1</td>\n",
       "      <td>0</td>\n",
       "      <td>0</td>\n",
       "      <td>0</td>\n",
       "      <td>0</td>\n",
       "      <td>0.000</td>\n",
       "      <td>0.000</td>\n",
       "      <td>0</td>\n",
       "      <td>0</td>\n",
       "      <td>0</td>\n",
       "      <td>0</td>\n",
       "      <td>0</td>\n",
       "      <td>ES</td>\n",
       "      <td>Unknown</td>\n",
       "      <td>V</td>\n",
       "      <td>40</td>\n",
       "      <td>N</td>\n",
       "      <td>NaN</td>\n",
       "      <td>8</td>\n",
       "      <td>August</td>\n",
       "    </tr>\n",
       "    <tr>\n",
       "      <th>2327704</th>\n",
       "      <td>1054714</td>\n",
       "      <td>2018-09-28</td>\n",
       "      <td>2015-08-29</td>\n",
       "      <td>KAT</td>\n",
       "      <td>1</td>\n",
       "      <td>01 - TOP</td>\n",
       "      <td>0</td>\n",
       "      <td>0</td>\n",
       "      <td>0</td>\n",
       "      <td>1</td>\n",
       "      <td>0</td>\n",
       "      <td>0</td>\n",
       "      <td>0</td>\n",
       "      <td>0</td>\n",
       "      <td>0.000</td>\n",
       "      <td>0.000</td>\n",
       "      <td>0</td>\n",
       "      <td>0</td>\n",
       "      <td>0</td>\n",
       "      <td>0</td>\n",
       "      <td>0</td>\n",
       "      <td>ES</td>\n",
       "      <td>Unknown</td>\n",
       "      <td>V</td>\n",
       "      <td>40</td>\n",
       "      <td>N</td>\n",
       "      <td>NaN</td>\n",
       "      <td>9</td>\n",
       "      <td>September</td>\n",
       "    </tr>\n",
       "    <tr>\n",
       "      <th>2676369</th>\n",
       "      <td>1054714</td>\n",
       "      <td>2018-10-28</td>\n",
       "      <td>2015-08-29</td>\n",
       "      <td>KAT</td>\n",
       "      <td>1</td>\n",
       "      <td>01 - TOP</td>\n",
       "      <td>0</td>\n",
       "      <td>0</td>\n",
       "      <td>0</td>\n",
       "      <td>1</td>\n",
       "      <td>0</td>\n",
       "      <td>0</td>\n",
       "      <td>0</td>\n",
       "      <td>0</td>\n",
       "      <td>0.000</td>\n",
       "      <td>0.000</td>\n",
       "      <td>0</td>\n",
       "      <td>0</td>\n",
       "      <td>0</td>\n",
       "      <td>0</td>\n",
       "      <td>0</td>\n",
       "      <td>ES</td>\n",
       "      <td>Unknown</td>\n",
       "      <td>V</td>\n",
       "      <td>41</td>\n",
       "      <td>N</td>\n",
       "      <td>NaN</td>\n",
       "      <td>10</td>\n",
       "      <td>October</td>\n",
       "    </tr>\n",
       "    <tr>\n",
       "      <th>3346533</th>\n",
       "      <td>1054714</td>\n",
       "      <td>2018-11-28</td>\n",
       "      <td>2015-08-29</td>\n",
       "      <td>KAT</td>\n",
       "      <td>1</td>\n",
       "      <td>01 - TOP</td>\n",
       "      <td>0</td>\n",
       "      <td>0</td>\n",
       "      <td>0</td>\n",
       "      <td>1</td>\n",
       "      <td>0</td>\n",
       "      <td>0</td>\n",
       "      <td>0</td>\n",
       "      <td>0</td>\n",
       "      <td>0.000</td>\n",
       "      <td>0.000</td>\n",
       "      <td>0</td>\n",
       "      <td>0</td>\n",
       "      <td>0</td>\n",
       "      <td>0</td>\n",
       "      <td>1</td>\n",
       "      <td>ES</td>\n",
       "      <td>Unknown</td>\n",
       "      <td>V</td>\n",
       "      <td>41</td>\n",
       "      <td>N</td>\n",
       "      <td>NaN</td>\n",
       "      <td>11</td>\n",
       "      <td>November</td>\n",
       "    </tr>\n",
       "    <tr>\n",
       "      <th>3433460</th>\n",
       "      <td>1054714</td>\n",
       "      <td>2018-12-28</td>\n",
       "      <td>2015-08-29</td>\n",
       "      <td>KAT</td>\n",
       "      <td>1</td>\n",
       "      <td>01 - TOP</td>\n",
       "      <td>0</td>\n",
       "      <td>0</td>\n",
       "      <td>0</td>\n",
       "      <td>1</td>\n",
       "      <td>0</td>\n",
       "      <td>0</td>\n",
       "      <td>0</td>\n",
       "      <td>0</td>\n",
       "      <td>0.000</td>\n",
       "      <td>0.000</td>\n",
       "      <td>0</td>\n",
       "      <td>0</td>\n",
       "      <td>0</td>\n",
       "      <td>0</td>\n",
       "      <td>1</td>\n",
       "      <td>ES</td>\n",
       "      <td>Unknown</td>\n",
       "      <td>V</td>\n",
       "      <td>41</td>\n",
       "      <td>N</td>\n",
       "      <td>NaN</td>\n",
       "      <td>12</td>\n",
       "      <td>December</td>\n",
       "    </tr>\n",
       "    <tr>\n",
       "      <th>215020</th>\n",
       "      <td>1234433</td>\n",
       "      <td>2018-01-28</td>\n",
       "      <td>2016-12-27</td>\n",
       "      <td>KFC</td>\n",
       "      <td>1</td>\n",
       "      <td>02 - PARTICULARES</td>\n",
       "      <td>0</td>\n",
       "      <td>0</td>\n",
       "      <td>0</td>\n",
       "      <td>0</td>\n",
       "      <td>0</td>\n",
       "      <td>0</td>\n",
       "      <td>0</td>\n",
       "      <td>1</td>\n",
       "      <td>1.000</td>\n",
       "      <td>1.000</td>\n",
       "      <td>0</td>\n",
       "      <td>0</td>\n",
       "      <td>1</td>\n",
       "      <td>0</td>\n",
       "      <td>0</td>\n",
       "      <td>ES</td>\n",
       "      <td>Unknown</td>\n",
       "      <td>V</td>\n",
       "      <td>45</td>\n",
       "      <td>N</td>\n",
       "      <td>NaN</td>\n",
       "      <td>1</td>\n",
       "      <td>January</td>\n",
       "    </tr>\n",
       "    <tr>\n",
       "      <th>276408</th>\n",
       "      <td>1234433</td>\n",
       "      <td>2018-02-28</td>\n",
       "      <td>2016-12-27</td>\n",
       "      <td>KFC</td>\n",
       "      <td>1</td>\n",
       "      <td>02 - PARTICULARES</td>\n",
       "      <td>0</td>\n",
       "      <td>0</td>\n",
       "      <td>0</td>\n",
       "      <td>0</td>\n",
       "      <td>0</td>\n",
       "      <td>0</td>\n",
       "      <td>0</td>\n",
       "      <td>1</td>\n",
       "      <td>1.000</td>\n",
       "      <td>1.000</td>\n",
       "      <td>1</td>\n",
       "      <td>0</td>\n",
       "      <td>1</td>\n",
       "      <td>0</td>\n",
       "      <td>0</td>\n",
       "      <td>ES</td>\n",
       "      <td>Unknown</td>\n",
       "      <td>V</td>\n",
       "      <td>45</td>\n",
       "      <td>N</td>\n",
       "      <td>NaN</td>\n",
       "      <td>2</td>\n",
       "      <td>February</td>\n",
       "    </tr>\n",
       "    <tr>\n",
       "      <th>517930</th>\n",
       "      <td>1234433</td>\n",
       "      <td>2018-03-28</td>\n",
       "      <td>2016-12-27</td>\n",
       "      <td>KFC</td>\n",
       "      <td>1</td>\n",
       "      <td>02 - PARTICULARES</td>\n",
       "      <td>0</td>\n",
       "      <td>0</td>\n",
       "      <td>0</td>\n",
       "      <td>0</td>\n",
       "      <td>0</td>\n",
       "      <td>0</td>\n",
       "      <td>0</td>\n",
       "      <td>1</td>\n",
       "      <td>1.000</td>\n",
       "      <td>1.000</td>\n",
       "      <td>0</td>\n",
       "      <td>0</td>\n",
       "      <td>1</td>\n",
       "      <td>0</td>\n",
       "      <td>0</td>\n",
       "      <td>ES</td>\n",
       "      <td>Unknown</td>\n",
       "      <td>V</td>\n",
       "      <td>45</td>\n",
       "      <td>N</td>\n",
       "      <td>NaN</td>\n",
       "      <td>3</td>\n",
       "      <td>March</td>\n",
       "    </tr>\n",
       "    <tr>\n",
       "      <th>760234</th>\n",
       "      <td>1234433</td>\n",
       "      <td>2018-04-28</td>\n",
       "      <td>2016-12-27</td>\n",
       "      <td>KFC</td>\n",
       "      <td>1</td>\n",
       "      <td>02 - PARTICULARES</td>\n",
       "      <td>0</td>\n",
       "      <td>0</td>\n",
       "      <td>0</td>\n",
       "      <td>0</td>\n",
       "      <td>0</td>\n",
       "      <td>0</td>\n",
       "      <td>0</td>\n",
       "      <td>1</td>\n",
       "      <td>1.000</td>\n",
       "      <td>1.000</td>\n",
       "      <td>0</td>\n",
       "      <td>0</td>\n",
       "      <td>1</td>\n",
       "      <td>0</td>\n",
       "      <td>0</td>\n",
       "      <td>ES</td>\n",
       "      <td>Unknown</td>\n",
       "      <td>V</td>\n",
       "      <td>45</td>\n",
       "      <td>N</td>\n",
       "      <td>NaN</td>\n",
       "      <td>4</td>\n",
       "      <td>April</td>\n",
       "    </tr>\n",
       "    <tr>\n",
       "      <th>1190279</th>\n",
       "      <td>1234433</td>\n",
       "      <td>2018-05-28</td>\n",
       "      <td>2016-12-27</td>\n",
       "      <td>KFC</td>\n",
       "      <td>1</td>\n",
       "      <td>02 - PARTICULARES</td>\n",
       "      <td>0</td>\n",
       "      <td>0</td>\n",
       "      <td>0</td>\n",
       "      <td>0</td>\n",
       "      <td>0</td>\n",
       "      <td>0</td>\n",
       "      <td>0</td>\n",
       "      <td>1</td>\n",
       "      <td>1.000</td>\n",
       "      <td>1.000</td>\n",
       "      <td>0</td>\n",
       "      <td>0</td>\n",
       "      <td>1</td>\n",
       "      <td>0</td>\n",
       "      <td>0</td>\n",
       "      <td>ES</td>\n",
       "      <td>Unknown</td>\n",
       "      <td>V</td>\n",
       "      <td>45</td>\n",
       "      <td>N</td>\n",
       "      <td>NaN</td>\n",
       "      <td>5</td>\n",
       "      <td>May</td>\n",
       "    </tr>\n",
       "    <tr>\n",
       "      <th>1442145</th>\n",
       "      <td>1234433</td>\n",
       "      <td>2018-06-28</td>\n",
       "      <td>2016-12-27</td>\n",
       "      <td>KFC</td>\n",
       "      <td>1</td>\n",
       "      <td>02 - PARTICULARES</td>\n",
       "      <td>0</td>\n",
       "      <td>0</td>\n",
       "      <td>0</td>\n",
       "      <td>0</td>\n",
       "      <td>0</td>\n",
       "      <td>0</td>\n",
       "      <td>0</td>\n",
       "      <td>1</td>\n",
       "      <td>1.000</td>\n",
       "      <td>1.000</td>\n",
       "      <td>0</td>\n",
       "      <td>0</td>\n",
       "      <td>1</td>\n",
       "      <td>0</td>\n",
       "      <td>0</td>\n",
       "      <td>ES</td>\n",
       "      <td>Unknown</td>\n",
       "      <td>V</td>\n",
       "      <td>45</td>\n",
       "      <td>N</td>\n",
       "      <td>NaN</td>\n",
       "      <td>6</td>\n",
       "      <td>June</td>\n",
       "    </tr>\n",
       "    <tr>\n",
       "      <th>1744982</th>\n",
       "      <td>1234433</td>\n",
       "      <td>2018-07-28</td>\n",
       "      <td>2016-12-27</td>\n",
       "      <td>KFC</td>\n",
       "      <td>1</td>\n",
       "      <td>02 - PARTICULARES</td>\n",
       "      <td>0</td>\n",
       "      <td>0</td>\n",
       "      <td>0</td>\n",
       "      <td>0</td>\n",
       "      <td>0</td>\n",
       "      <td>0</td>\n",
       "      <td>0</td>\n",
       "      <td>1</td>\n",
       "      <td>1.000</td>\n",
       "      <td>1.000</td>\n",
       "      <td>0</td>\n",
       "      <td>0</td>\n",
       "      <td>1</td>\n",
       "      <td>0</td>\n",
       "      <td>0</td>\n",
       "      <td>ES</td>\n",
       "      <td>Unknown</td>\n",
       "      <td>V</td>\n",
       "      <td>45</td>\n",
       "      <td>N</td>\n",
       "      <td>NaN</td>\n",
       "      <td>7</td>\n",
       "      <td>July</td>\n",
       "    </tr>\n",
       "    <tr>\n",
       "      <th>2113491</th>\n",
       "      <td>1234433</td>\n",
       "      <td>2018-08-28</td>\n",
       "      <td>2016-12-27</td>\n",
       "      <td>KFC</td>\n",
       "      <td>1</td>\n",
       "      <td>02 - PARTICULARES</td>\n",
       "      <td>0</td>\n",
       "      <td>0</td>\n",
       "      <td>0</td>\n",
       "      <td>0</td>\n",
       "      <td>0</td>\n",
       "      <td>0</td>\n",
       "      <td>0</td>\n",
       "      <td>1</td>\n",
       "      <td>1.000</td>\n",
       "      <td>1.000</td>\n",
       "      <td>0</td>\n",
       "      <td>0</td>\n",
       "      <td>1</td>\n",
       "      <td>0</td>\n",
       "      <td>0</td>\n",
       "      <td>ES</td>\n",
       "      <td>Unknown</td>\n",
       "      <td>V</td>\n",
       "      <td>45</td>\n",
       "      <td>N</td>\n",
       "      <td>NaN</td>\n",
       "      <td>8</td>\n",
       "      <td>August</td>\n",
       "    </tr>\n",
       "    <tr>\n",
       "      <th>2256273</th>\n",
       "      <td>1234433</td>\n",
       "      <td>2018-09-28</td>\n",
       "      <td>2016-12-27</td>\n",
       "      <td>KFC</td>\n",
       "      <td>1</td>\n",
       "      <td>02 - PARTICULARES</td>\n",
       "      <td>0</td>\n",
       "      <td>0</td>\n",
       "      <td>0</td>\n",
       "      <td>0</td>\n",
       "      <td>0</td>\n",
       "      <td>0</td>\n",
       "      <td>0</td>\n",
       "      <td>1</td>\n",
       "      <td>0.000</td>\n",
       "      <td>0.000</td>\n",
       "      <td>0</td>\n",
       "      <td>0</td>\n",
       "      <td>1</td>\n",
       "      <td>0</td>\n",
       "      <td>0</td>\n",
       "      <td>ES</td>\n",
       "      <td>Unknown</td>\n",
       "      <td>V</td>\n",
       "      <td>45</td>\n",
       "      <td>N</td>\n",
       "      <td>NaN</td>\n",
       "      <td>9</td>\n",
       "      <td>September</td>\n",
       "    </tr>\n",
       "    <tr>\n",
       "      <th>2864559</th>\n",
       "      <td>1234433</td>\n",
       "      <td>2018-10-28</td>\n",
       "      <td>2016-12-27</td>\n",
       "      <td>KFC</td>\n",
       "      <td>1</td>\n",
       "      <td>02 - PARTICULARES</td>\n",
       "      <td>0</td>\n",
       "      <td>0</td>\n",
       "      <td>0</td>\n",
       "      <td>0</td>\n",
       "      <td>0</td>\n",
       "      <td>0</td>\n",
       "      <td>0</td>\n",
       "      <td>1</td>\n",
       "      <td>0.000</td>\n",
       "      <td>0.000</td>\n",
       "      <td>0</td>\n",
       "      <td>0</td>\n",
       "      <td>0</td>\n",
       "      <td>0</td>\n",
       "      <td>0</td>\n",
       "      <td>ES</td>\n",
       "      <td>Unknown</td>\n",
       "      <td>V</td>\n",
       "      <td>45</td>\n",
       "      <td>N</td>\n",
       "      <td>NaN</td>\n",
       "      <td>10</td>\n",
       "      <td>October</td>\n",
       "    </tr>\n",
       "    <tr>\n",
       "      <th>3044630</th>\n",
       "      <td>1234433</td>\n",
       "      <td>2018-11-28</td>\n",
       "      <td>2016-12-27</td>\n",
       "      <td>KFC</td>\n",
       "      <td>1</td>\n",
       "      <td>02 - PARTICULARES</td>\n",
       "      <td>0</td>\n",
       "      <td>0</td>\n",
       "      <td>0</td>\n",
       "      <td>0</td>\n",
       "      <td>0</td>\n",
       "      <td>0</td>\n",
       "      <td>0</td>\n",
       "      <td>1</td>\n",
       "      <td>0.000</td>\n",
       "      <td>0.000</td>\n",
       "      <td>0</td>\n",
       "      <td>0</td>\n",
       "      <td>0</td>\n",
       "      <td>0</td>\n",
       "      <td>0</td>\n",
       "      <td>ES</td>\n",
       "      <td>Unknown</td>\n",
       "      <td>V</td>\n",
       "      <td>45</td>\n",
       "      <td>N</td>\n",
       "      <td>NaN</td>\n",
       "      <td>11</td>\n",
       "      <td>November</td>\n",
       "    </tr>\n",
       "    <tr>\n",
       "      <th>3483305</th>\n",
       "      <td>1234433</td>\n",
       "      <td>2018-12-28</td>\n",
       "      <td>2016-12-27</td>\n",
       "      <td>KFC</td>\n",
       "      <td>1</td>\n",
       "      <td>02 - PARTICULARES</td>\n",
       "      <td>0</td>\n",
       "      <td>0</td>\n",
       "      <td>0</td>\n",
       "      <td>0</td>\n",
       "      <td>0</td>\n",
       "      <td>0</td>\n",
       "      <td>0</td>\n",
       "      <td>1</td>\n",
       "      <td>0.000</td>\n",
       "      <td>0.000</td>\n",
       "      <td>0</td>\n",
       "      <td>0</td>\n",
       "      <td>0</td>\n",
       "      <td>0</td>\n",
       "      <td>0</td>\n",
       "      <td>ES</td>\n",
       "      <td>Unknown</td>\n",
       "      <td>V</td>\n",
       "      <td>45</td>\n",
       "      <td>N</td>\n",
       "      <td>NaN</td>\n",
       "      <td>12</td>\n",
       "      <td>December</td>\n",
       "    </tr>\n",
       "    <tr>\n",
       "      <th>115607</th>\n",
       "      <td>1282323</td>\n",
       "      <td>2018-01-28</td>\n",
       "      <td>2017-07-28</td>\n",
       "      <td>KFC</td>\n",
       "      <td>1</td>\n",
       "      <td>02 - PARTICULARES</td>\n",
       "      <td>0</td>\n",
       "      <td>0</td>\n",
       "      <td>0</td>\n",
       "      <td>0</td>\n",
       "      <td>0</td>\n",
       "      <td>0</td>\n",
       "      <td>0</td>\n",
       "      <td>0</td>\n",
       "      <td>0.000</td>\n",
       "      <td>0.000</td>\n",
       "      <td>0</td>\n",
       "      <td>0</td>\n",
       "      <td>1</td>\n",
       "      <td>0</td>\n",
       "      <td>1</td>\n",
       "      <td>ES</td>\n",
       "      <td>Unknown</td>\n",
       "      <td>V</td>\n",
       "      <td>44</td>\n",
       "      <td>N</td>\n",
       "      <td>NaN</td>\n",
       "      <td>1</td>\n",
       "      <td>January</td>\n",
       "    </tr>\n",
       "    <tr>\n",
       "      <th>359048</th>\n",
       "      <td>1282323</td>\n",
       "      <td>2018-02-28</td>\n",
       "      <td>2017-07-28</td>\n",
       "      <td>KFC</td>\n",
       "      <td>1</td>\n",
       "      <td>02 - PARTICULARES</td>\n",
       "      <td>0</td>\n",
       "      <td>0</td>\n",
       "      <td>0</td>\n",
       "      <td>0</td>\n",
       "      <td>0</td>\n",
       "      <td>0</td>\n",
       "      <td>0</td>\n",
       "      <td>0</td>\n",
       "      <td>0.000</td>\n",
       "      <td>0.000</td>\n",
       "      <td>0</td>\n",
       "      <td>0</td>\n",
       "      <td>0</td>\n",
       "      <td>0</td>\n",
       "      <td>1</td>\n",
       "      <td>ES</td>\n",
       "      <td>Unknown</td>\n",
       "      <td>V</td>\n",
       "      <td>44</td>\n",
       "      <td>N</td>\n",
       "      <td>NaN</td>\n",
       "      <td>2</td>\n",
       "      <td>February</td>\n",
       "    </tr>\n",
       "    <tr>\n",
       "      <th>611838</th>\n",
       "      <td>1282323</td>\n",
       "      <td>2018-03-28</td>\n",
       "      <td>2017-07-28</td>\n",
       "      <td>KFC</td>\n",
       "      <td>1</td>\n",
       "      <td>02 - PARTICULARES</td>\n",
       "      <td>0</td>\n",
       "      <td>0</td>\n",
       "      <td>0</td>\n",
       "      <td>0</td>\n",
       "      <td>0</td>\n",
       "      <td>0</td>\n",
       "      <td>0</td>\n",
       "      <td>0</td>\n",
       "      <td>0.000</td>\n",
       "      <td>0.000</td>\n",
       "      <td>0</td>\n",
       "      <td>0</td>\n",
       "      <td>1</td>\n",
       "      <td>0</td>\n",
       "      <td>1</td>\n",
       "      <td>ES</td>\n",
       "      <td>Unknown</td>\n",
       "      <td>V</td>\n",
       "      <td>44</td>\n",
       "      <td>N</td>\n",
       "      <td>NaN</td>\n",
       "      <td>3</td>\n",
       "      <td>March</td>\n",
       "    </tr>\n",
       "    <tr>\n",
       "      <th>849747</th>\n",
       "      <td>1282323</td>\n",
       "      <td>2018-04-28</td>\n",
       "      <td>2017-07-28</td>\n",
       "      <td>KFC</td>\n",
       "      <td>1</td>\n",
       "      <td>02 - PARTICULARES</td>\n",
       "      <td>0</td>\n",
       "      <td>0</td>\n",
       "      <td>0</td>\n",
       "      <td>0</td>\n",
       "      <td>0</td>\n",
       "      <td>0</td>\n",
       "      <td>0</td>\n",
       "      <td>0</td>\n",
       "      <td>0.000</td>\n",
       "      <td>0.000</td>\n",
       "      <td>0</td>\n",
       "      <td>0</td>\n",
       "      <td>0</td>\n",
       "      <td>0</td>\n",
       "      <td>1</td>\n",
       "      <td>ES</td>\n",
       "      <td>Unknown</td>\n",
       "      <td>V</td>\n",
       "      <td>44</td>\n",
       "      <td>N</td>\n",
       "      <td>NaN</td>\n",
       "      <td>4</td>\n",
       "      <td>April</td>\n",
       "    </tr>\n",
       "    <tr>\n",
       "      <th>1088985</th>\n",
       "      <td>1282323</td>\n",
       "      <td>2018-05-28</td>\n",
       "      <td>2017-07-28</td>\n",
       "      <td>KFC</td>\n",
       "      <td>1</td>\n",
       "      <td>02 - PARTICULARES</td>\n",
       "      <td>0</td>\n",
       "      <td>0</td>\n",
       "      <td>0</td>\n",
       "      <td>0</td>\n",
       "      <td>0</td>\n",
       "      <td>0</td>\n",
       "      <td>0</td>\n",
       "      <td>0</td>\n",
       "      <td>0.000</td>\n",
       "      <td>0.000</td>\n",
       "      <td>0</td>\n",
       "      <td>0</td>\n",
       "      <td>1</td>\n",
       "      <td>0</td>\n",
       "      <td>1</td>\n",
       "      <td>ES</td>\n",
       "      <td>Unknown</td>\n",
       "      <td>V</td>\n",
       "      <td>44</td>\n",
       "      <td>N</td>\n",
       "      <td>NaN</td>\n",
       "      <td>5</td>\n",
       "      <td>May</td>\n",
       "    </tr>\n",
       "    <tr>\n",
       "      <th>1336156</th>\n",
       "      <td>1282323</td>\n",
       "      <td>2018-06-28</td>\n",
       "      <td>2017-07-28</td>\n",
       "      <td>KFC</td>\n",
       "      <td>1</td>\n",
       "      <td>02 - PARTICULARES</td>\n",
       "      <td>0</td>\n",
       "      <td>0</td>\n",
       "      <td>0</td>\n",
       "      <td>0</td>\n",
       "      <td>0</td>\n",
       "      <td>0</td>\n",
       "      <td>0</td>\n",
       "      <td>0</td>\n",
       "      <td>0.000</td>\n",
       "      <td>0.000</td>\n",
       "      <td>0</td>\n",
       "      <td>0</td>\n",
       "      <td>1</td>\n",
       "      <td>0</td>\n",
       "      <td>1</td>\n",
       "      <td>ES</td>\n",
       "      <td>Unknown</td>\n",
       "      <td>V</td>\n",
       "      <td>44</td>\n",
       "      <td>N</td>\n",
       "      <td>NaN</td>\n",
       "      <td>6</td>\n",
       "      <td>June</td>\n",
       "    </tr>\n",
       "    <tr>\n",
       "      <th>1683023</th>\n",
       "      <td>1282323</td>\n",
       "      <td>2018-07-28</td>\n",
       "      <td>2017-07-28</td>\n",
       "      <td>KFC</td>\n",
       "      <td>1</td>\n",
       "      <td>02 - PARTICULARES</td>\n",
       "      <td>0</td>\n",
       "      <td>0</td>\n",
       "      <td>0</td>\n",
       "      <td>0</td>\n",
       "      <td>0</td>\n",
       "      <td>0</td>\n",
       "      <td>0</td>\n",
       "      <td>0</td>\n",
       "      <td>0.000</td>\n",
       "      <td>0.000</td>\n",
       "      <td>0</td>\n",
       "      <td>0</td>\n",
       "      <td>1</td>\n",
       "      <td>0</td>\n",
       "      <td>1</td>\n",
       "      <td>ES</td>\n",
       "      <td>Unknown</td>\n",
       "      <td>V</td>\n",
       "      <td>44</td>\n",
       "      <td>N</td>\n",
       "      <td>NaN</td>\n",
       "      <td>7</td>\n",
       "      <td>July</td>\n",
       "    </tr>\n",
       "    <tr>\n",
       "      <th>1908755</th>\n",
       "      <td>1282323</td>\n",
       "      <td>2018-08-28</td>\n",
       "      <td>2017-07-28</td>\n",
       "      <td>KFC</td>\n",
       "      <td>1</td>\n",
       "      <td>02 - PARTICULARES</td>\n",
       "      <td>0</td>\n",
       "      <td>0</td>\n",
       "      <td>0</td>\n",
       "      <td>0</td>\n",
       "      <td>0</td>\n",
       "      <td>0</td>\n",
       "      <td>0</td>\n",
       "      <td>0</td>\n",
       "      <td>0.000</td>\n",
       "      <td>0.000</td>\n",
       "      <td>0</td>\n",
       "      <td>0</td>\n",
       "      <td>1</td>\n",
       "      <td>0</td>\n",
       "      <td>1</td>\n",
       "      <td>ES</td>\n",
       "      <td>Unknown</td>\n",
       "      <td>V</td>\n",
       "      <td>44</td>\n",
       "      <td>N</td>\n",
       "      <td>NaN</td>\n",
       "      <td>8</td>\n",
       "      <td>August</td>\n",
       "    </tr>\n",
       "    <tr>\n",
       "      <th>1771136</th>\n",
       "      <td>1388776</td>\n",
       "      <td>2018-07-28</td>\n",
       "      <td>2018-03-23</td>\n",
       "      <td>KAT</td>\n",
       "      <td>0</td>\n",
       "      <td>02 - PARTICULARES</td>\n",
       "      <td>0</td>\n",
       "      <td>0</td>\n",
       "      <td>0</td>\n",
       "      <td>0</td>\n",
       "      <td>0</td>\n",
       "      <td>0</td>\n",
       "      <td>0</td>\n",
       "      <td>0</td>\n",
       "      <td>0.000</td>\n",
       "      <td>0.000</td>\n",
       "      <td>0</td>\n",
       "      <td>0</td>\n",
       "      <td>0</td>\n",
       "      <td>0</td>\n",
       "      <td>0</td>\n",
       "      <td>ES</td>\n",
       "      <td>Unknown</td>\n",
       "      <td>H</td>\n",
       "      <td>65</td>\n",
       "      <td>N</td>\n",
       "      <td>NaN</td>\n",
       "      <td>7</td>\n",
       "      <td>July</td>\n",
       "    </tr>\n",
       "    <tr>\n",
       "      <th>1992877</th>\n",
       "      <td>1388776</td>\n",
       "      <td>2018-08-28</td>\n",
       "      <td>2018-03-23</td>\n",
       "      <td>KAT</td>\n",
       "      <td>0</td>\n",
       "      <td>02 - PARTICULARES</td>\n",
       "      <td>0</td>\n",
       "      <td>0</td>\n",
       "      <td>0</td>\n",
       "      <td>0</td>\n",
       "      <td>0</td>\n",
       "      <td>0</td>\n",
       "      <td>0</td>\n",
       "      <td>0</td>\n",
       "      <td>0.000</td>\n",
       "      <td>0.000</td>\n",
       "      <td>0</td>\n",
       "      <td>0</td>\n",
       "      <td>0</td>\n",
       "      <td>0</td>\n",
       "      <td>0</td>\n",
       "      <td>ES</td>\n",
       "      <td>Unknown</td>\n",
       "      <td>H</td>\n",
       "      <td>65</td>\n",
       "      <td>N</td>\n",
       "      <td>NaN</td>\n",
       "      <td>8</td>\n",
       "      <td>August</td>\n",
       "    </tr>\n",
       "    <tr>\n",
       "      <th>2452666</th>\n",
       "      <td>1388776</td>\n",
       "      <td>2018-09-28</td>\n",
       "      <td>2018-03-23</td>\n",
       "      <td>KAT</td>\n",
       "      <td>0</td>\n",
       "      <td>02 - PARTICULARES</td>\n",
       "      <td>0</td>\n",
       "      <td>0</td>\n",
       "      <td>0</td>\n",
       "      <td>0</td>\n",
       "      <td>0</td>\n",
       "      <td>0</td>\n",
       "      <td>0</td>\n",
       "      <td>0</td>\n",
       "      <td>0.000</td>\n",
       "      <td>0.000</td>\n",
       "      <td>0</td>\n",
       "      <td>0</td>\n",
       "      <td>0</td>\n",
       "      <td>0</td>\n",
       "      <td>0</td>\n",
       "      <td>ES</td>\n",
       "      <td>Unknown</td>\n",
       "      <td>H</td>\n",
       "      <td>65</td>\n",
       "      <td>N</td>\n",
       "      <td>NaN</td>\n",
       "      <td>9</td>\n",
       "      <td>September</td>\n",
       "    </tr>\n",
       "    <tr>\n",
       "      <th>2772696</th>\n",
       "      <td>1388776</td>\n",
       "      <td>2018-10-28</td>\n",
       "      <td>2018-03-23</td>\n",
       "      <td>KAT</td>\n",
       "      <td>0</td>\n",
       "      <td>02 - PARTICULARES</td>\n",
       "      <td>0</td>\n",
       "      <td>0</td>\n",
       "      <td>0</td>\n",
       "      <td>0</td>\n",
       "      <td>0</td>\n",
       "      <td>0</td>\n",
       "      <td>0</td>\n",
       "      <td>0</td>\n",
       "      <td>0.000</td>\n",
       "      <td>0.000</td>\n",
       "      <td>0</td>\n",
       "      <td>0</td>\n",
       "      <td>0</td>\n",
       "      <td>0</td>\n",
       "      <td>0</td>\n",
       "      <td>ES</td>\n",
       "      <td>Unknown</td>\n",
       "      <td>H</td>\n",
       "      <td>65</td>\n",
       "      <td>N</td>\n",
       "      <td>NaN</td>\n",
       "      <td>10</td>\n",
       "      <td>October</td>\n",
       "    </tr>\n",
       "    <tr>\n",
       "      <th>3200415</th>\n",
       "      <td>1388776</td>\n",
       "      <td>2018-11-28</td>\n",
       "      <td>2018-03-23</td>\n",
       "      <td>KAT</td>\n",
       "      <td>0</td>\n",
       "      <td>02 - PARTICULARES</td>\n",
       "      <td>0</td>\n",
       "      <td>0</td>\n",
       "      <td>0</td>\n",
       "      <td>0</td>\n",
       "      <td>0</td>\n",
       "      <td>0</td>\n",
       "      <td>0</td>\n",
       "      <td>0</td>\n",
       "      <td>0.000</td>\n",
       "      <td>0.000</td>\n",
       "      <td>0</td>\n",
       "      <td>0</td>\n",
       "      <td>0</td>\n",
       "      <td>0</td>\n",
       "      <td>0</td>\n",
       "      <td>ES</td>\n",
       "      <td>Unknown</td>\n",
       "      <td>H</td>\n",
       "      <td>65</td>\n",
       "      <td>N</td>\n",
       "      <td>NaN</td>\n",
       "      <td>11</td>\n",
       "      <td>November</td>\n",
       "    </tr>\n",
       "    <tr>\n",
       "      <th>1117049</th>\n",
       "      <td>1396767</td>\n",
       "      <td>2018-05-28</td>\n",
       "      <td>2018-05-12</td>\n",
       "      <td>KHM</td>\n",
       "      <td>1</td>\n",
       "      <td>02 - PARTICULARES</td>\n",
       "      <td>0</td>\n",
       "      <td>0</td>\n",
       "      <td>0</td>\n",
       "      <td>0</td>\n",
       "      <td>0</td>\n",
       "      <td>0</td>\n",
       "      <td>0</td>\n",
       "      <td>0</td>\n",
       "      <td>0.000</td>\n",
       "      <td>0.000</td>\n",
       "      <td>0</td>\n",
       "      <td>0</td>\n",
       "      <td>0</td>\n",
       "      <td>0</td>\n",
       "      <td>1</td>\n",
       "      <td>ES</td>\n",
       "      <td>Unknown</td>\n",
       "      <td>H</td>\n",
       "      <td>34</td>\n",
       "      <td>N</td>\n",
       "      <td>NaN</td>\n",
       "      <td>5</td>\n",
       "      <td>May</td>\n",
       "    </tr>\n",
       "    <tr>\n",
       "      <th>1365754</th>\n",
       "      <td>1396767</td>\n",
       "      <td>2018-06-28</td>\n",
       "      <td>2018-05-12</td>\n",
       "      <td>KHM</td>\n",
       "      <td>1</td>\n",
       "      <td>02 - PARTICULARES</td>\n",
       "      <td>0</td>\n",
       "      <td>0</td>\n",
       "      <td>0</td>\n",
       "      <td>0</td>\n",
       "      <td>0</td>\n",
       "      <td>0</td>\n",
       "      <td>0</td>\n",
       "      <td>0</td>\n",
       "      <td>0.000</td>\n",
       "      <td>0.000</td>\n",
       "      <td>0</td>\n",
       "      <td>0</td>\n",
       "      <td>0</td>\n",
       "      <td>0</td>\n",
       "      <td>1</td>\n",
       "      <td>ES</td>\n",
       "      <td>Unknown</td>\n",
       "      <td>H</td>\n",
       "      <td>34</td>\n",
       "      <td>N</td>\n",
       "      <td>NaN</td>\n",
       "      <td>6</td>\n",
       "      <td>June</td>\n",
       "    </tr>\n",
       "    <tr>\n",
       "      <th>1776762</th>\n",
       "      <td>1396767</td>\n",
       "      <td>2018-07-28</td>\n",
       "      <td>2018-05-12</td>\n",
       "      <td>KHM</td>\n",
       "      <td>1</td>\n",
       "      <td>02 - PARTICULARES</td>\n",
       "      <td>1</td>\n",
       "      <td>0</td>\n",
       "      <td>0</td>\n",
       "      <td>0</td>\n",
       "      <td>0</td>\n",
       "      <td>1</td>\n",
       "      <td>0</td>\n",
       "      <td>0</td>\n",
       "      <td>0.000</td>\n",
       "      <td>0.000</td>\n",
       "      <td>0</td>\n",
       "      <td>0</td>\n",
       "      <td>0</td>\n",
       "      <td>0</td>\n",
       "      <td>1</td>\n",
       "      <td>ES</td>\n",
       "      <td>Unknown</td>\n",
       "      <td>H</td>\n",
       "      <td>34</td>\n",
       "      <td>N</td>\n",
       "      <td>NaN</td>\n",
       "      <td>7</td>\n",
       "      <td>July</td>\n",
       "    </tr>\n",
       "    <tr>\n",
       "      <th>1936482</th>\n",
       "      <td>1396767</td>\n",
       "      <td>2018-08-28</td>\n",
       "      <td>2018-05-12</td>\n",
       "      <td>KHM</td>\n",
       "      <td>1</td>\n",
       "      <td>02 - PARTICULARES</td>\n",
       "      <td>1</td>\n",
       "      <td>0</td>\n",
       "      <td>0</td>\n",
       "      <td>0</td>\n",
       "      <td>0</td>\n",
       "      <td>1</td>\n",
       "      <td>0</td>\n",
       "      <td>0</td>\n",
       "      <td>0.000</td>\n",
       "      <td>0.000</td>\n",
       "      <td>0</td>\n",
       "      <td>0</td>\n",
       "      <td>0</td>\n",
       "      <td>0</td>\n",
       "      <td>1</td>\n",
       "      <td>ES</td>\n",
       "      <td>Unknown</td>\n",
       "      <td>H</td>\n",
       "      <td>34</td>\n",
       "      <td>N</td>\n",
       "      <td>NaN</td>\n",
       "      <td>8</td>\n",
       "      <td>August</td>\n",
       "    </tr>\n",
       "    <tr>\n",
       "      <th>2446733</th>\n",
       "      <td>1396767</td>\n",
       "      <td>2018-09-28</td>\n",
       "      <td>2018-05-12</td>\n",
       "      <td>KHM</td>\n",
       "      <td>1</td>\n",
       "      <td>02 - PARTICULARES</td>\n",
       "      <td>1</td>\n",
       "      <td>0</td>\n",
       "      <td>0</td>\n",
       "      <td>0</td>\n",
       "      <td>0</td>\n",
       "      <td>1</td>\n",
       "      <td>0</td>\n",
       "      <td>0</td>\n",
       "      <td>0.000</td>\n",
       "      <td>0.000</td>\n",
       "      <td>0</td>\n",
       "      <td>0</td>\n",
       "      <td>0</td>\n",
       "      <td>0</td>\n",
       "      <td>1</td>\n",
       "      <td>ES</td>\n",
       "      <td>Unknown</td>\n",
       "      <td>H</td>\n",
       "      <td>34</td>\n",
       "      <td>N</td>\n",
       "      <td>NaN</td>\n",
       "      <td>9</td>\n",
       "      <td>September</td>\n",
       "    </tr>\n",
       "    <tr>\n",
       "      <th>2765364</th>\n",
       "      <td>1396767</td>\n",
       "      <td>2018-10-28</td>\n",
       "      <td>2018-05-12</td>\n",
       "      <td>KHM</td>\n",
       "      <td>1</td>\n",
       "      <td>02 - PARTICULARES</td>\n",
       "      <td>0</td>\n",
       "      <td>0</td>\n",
       "      <td>0</td>\n",
       "      <td>0</td>\n",
       "      <td>0</td>\n",
       "      <td>1</td>\n",
       "      <td>0</td>\n",
       "      <td>0</td>\n",
       "      <td>0.000</td>\n",
       "      <td>0.000</td>\n",
       "      <td>0</td>\n",
       "      <td>0</td>\n",
       "      <td>0</td>\n",
       "      <td>0</td>\n",
       "      <td>1</td>\n",
       "      <td>ES</td>\n",
       "      <td>Unknown</td>\n",
       "      <td>H</td>\n",
       "      <td>34</td>\n",
       "      <td>N</td>\n",
       "      <td>NaN</td>\n",
       "      <td>10</td>\n",
       "      <td>October</td>\n",
       "    </tr>\n",
       "    <tr>\n",
       "      <th>3198979</th>\n",
       "      <td>1396767</td>\n",
       "      <td>2018-11-28</td>\n",
       "      <td>2018-05-12</td>\n",
       "      <td>KHM</td>\n",
       "      <td>1</td>\n",
       "      <td>02 - PARTICULARES</td>\n",
       "      <td>0</td>\n",
       "      <td>0</td>\n",
       "      <td>0</td>\n",
       "      <td>0</td>\n",
       "      <td>0</td>\n",
       "      <td>1</td>\n",
       "      <td>0</td>\n",
       "      <td>0</td>\n",
       "      <td>0.000</td>\n",
       "      <td>0.000</td>\n",
       "      <td>0</td>\n",
       "      <td>0</td>\n",
       "      <td>0</td>\n",
       "      <td>0</td>\n",
       "      <td>1</td>\n",
       "      <td>ES</td>\n",
       "      <td>Unknown</td>\n",
       "      <td>H</td>\n",
       "      <td>34</td>\n",
       "      <td>N</td>\n",
       "      <td>NaN</td>\n",
       "      <td>11</td>\n",
       "      <td>November</td>\n",
       "    </tr>\n",
       "    <tr>\n",
       "      <th>3782099</th>\n",
       "      <td>1396767</td>\n",
       "      <td>2018-12-28</td>\n",
       "      <td>2018-05-12</td>\n",
       "      <td>KHM</td>\n",
       "      <td>1</td>\n",
       "      <td>02 - PARTICULARES</td>\n",
       "      <td>0</td>\n",
       "      <td>0</td>\n",
       "      <td>0</td>\n",
       "      <td>0</td>\n",
       "      <td>0</td>\n",
       "      <td>1</td>\n",
       "      <td>0</td>\n",
       "      <td>0</td>\n",
       "      <td>0.000</td>\n",
       "      <td>0.000</td>\n",
       "      <td>0</td>\n",
       "      <td>0</td>\n",
       "      <td>0</td>\n",
       "      <td>0</td>\n",
       "      <td>1</td>\n",
       "      <td>ES</td>\n",
       "      <td>Unknown</td>\n",
       "      <td>H</td>\n",
       "      <td>34</td>\n",
       "      <td>N</td>\n",
       "      <td>NaN</td>\n",
       "      <td>12</td>\n",
       "      <td>December</td>\n",
       "    </tr>\n",
       "    <tr>\n",
       "      <th>3964599</th>\n",
       "      <td>1396767</td>\n",
       "      <td>2019-01-28</td>\n",
       "      <td>2018-05-12</td>\n",
       "      <td>KHM</td>\n",
       "      <td>1</td>\n",
       "      <td>02 - PARTICULARES</td>\n",
       "      <td>0</td>\n",
       "      <td>0</td>\n",
       "      <td>0</td>\n",
       "      <td>0</td>\n",
       "      <td>0</td>\n",
       "      <td>1</td>\n",
       "      <td>0</td>\n",
       "      <td>0</td>\n",
       "      <td>0.000</td>\n",
       "      <td>0.000</td>\n",
       "      <td>0</td>\n",
       "      <td>0</td>\n",
       "      <td>0</td>\n",
       "      <td>0</td>\n",
       "      <td>1</td>\n",
       "      <td>ES</td>\n",
       "      <td>Unknown</td>\n",
       "      <td>H</td>\n",
       "      <td>34</td>\n",
       "      <td>N</td>\n",
       "      <td>NaN</td>\n",
       "      <td>1</td>\n",
       "      <td>January</td>\n",
       "    </tr>\n",
       "    <tr>\n",
       "      <th>4418247</th>\n",
       "      <td>1396767</td>\n",
       "      <td>2019-02-28</td>\n",
       "      <td>2018-05-12</td>\n",
       "      <td>KHM</td>\n",
       "      <td>1</td>\n",
       "      <td>02 - PARTICULARES</td>\n",
       "      <td>0</td>\n",
       "      <td>0</td>\n",
       "      <td>0</td>\n",
       "      <td>0</td>\n",
       "      <td>0</td>\n",
       "      <td>1</td>\n",
       "      <td>0</td>\n",
       "      <td>0</td>\n",
       "      <td>0.000</td>\n",
       "      <td>0.000</td>\n",
       "      <td>0</td>\n",
       "      <td>0</td>\n",
       "      <td>0</td>\n",
       "      <td>0</td>\n",
       "      <td>1</td>\n",
       "      <td>ES</td>\n",
       "      <td>Unknown</td>\n",
       "      <td>H</td>\n",
       "      <td>34</td>\n",
       "      <td>N</td>\n",
       "      <td>NaN</td>\n",
       "      <td>2</td>\n",
       "      <td>February</td>\n",
       "    </tr>\n",
       "    <tr>\n",
       "      <th>4682048</th>\n",
       "      <td>1396767</td>\n",
       "      <td>2019-03-28</td>\n",
       "      <td>2018-05-12</td>\n",
       "      <td>KHM</td>\n",
       "      <td>1</td>\n",
       "      <td>02 - PARTICULARES</td>\n",
       "      <td>0</td>\n",
       "      <td>0</td>\n",
       "      <td>0</td>\n",
       "      <td>0</td>\n",
       "      <td>0</td>\n",
       "      <td>1</td>\n",
       "      <td>0</td>\n",
       "      <td>0</td>\n",
       "      <td>0.000</td>\n",
       "      <td>0.000</td>\n",
       "      <td>0</td>\n",
       "      <td>0</td>\n",
       "      <td>0</td>\n",
       "      <td>0</td>\n",
       "      <td>1</td>\n",
       "      <td>ES</td>\n",
       "      <td>Unknown</td>\n",
       "      <td>H</td>\n",
       "      <td>34</td>\n",
       "      <td>N</td>\n",
       "      <td>NaN</td>\n",
       "      <td>3</td>\n",
       "      <td>March</td>\n",
       "    </tr>\n",
       "    <tr>\n",
       "      <th>5292392</th>\n",
       "      <td>1396767</td>\n",
       "      <td>2019-04-28</td>\n",
       "      <td>2018-05-12</td>\n",
       "      <td>KHM</td>\n",
       "      <td>1</td>\n",
       "      <td>02 - PARTICULARES</td>\n",
       "      <td>0</td>\n",
       "      <td>0</td>\n",
       "      <td>0</td>\n",
       "      <td>0</td>\n",
       "      <td>0</td>\n",
       "      <td>1</td>\n",
       "      <td>0</td>\n",
       "      <td>0</td>\n",
       "      <td>0.000</td>\n",
       "      <td>0.000</td>\n",
       "      <td>0</td>\n",
       "      <td>0</td>\n",
       "      <td>0</td>\n",
       "      <td>0</td>\n",
       "      <td>1</td>\n",
       "      <td>ES</td>\n",
       "      <td>Unknown</td>\n",
       "      <td>H</td>\n",
       "      <td>34</td>\n",
       "      <td>N</td>\n",
       "      <td>NaN</td>\n",
       "      <td>4</td>\n",
       "      <td>April</td>\n",
       "    </tr>\n",
       "  </tbody>\n",
       "</table>\n",
       "</div>"
      ],
      "text/plain": [
       "          pk_cid pk_partition entry_date entry_channel  active_customer  \\\n",
       "4320     1054714   2018-01-28 2015-08-29           KAT                1   \n",
       "480274   1054714   2018-02-28 2015-08-29           KAT                1   \n",
       "720817   1054714   2018-03-28 2015-08-29           KAT                1   \n",
       "965232   1054714   2018-04-28 2015-08-29           KAT                1   \n",
       "980872   1054714   2018-05-28 2015-08-29           KAT                1   \n",
       "1231884  1054714   2018-06-28 2015-08-29           KAT                1   \n",
       "1586303  1054714   2018-07-28 2015-08-29           KAT                1   \n",
       "2047525  1054714   2018-08-28 2015-08-29           KAT                1   \n",
       "2327704  1054714   2018-09-28 2015-08-29           KAT                1   \n",
       "2676369  1054714   2018-10-28 2015-08-29           KAT                1   \n",
       "3346533  1054714   2018-11-28 2015-08-29           KAT                1   \n",
       "3433460  1054714   2018-12-28 2015-08-29           KAT                1   \n",
       "215020   1234433   2018-01-28 2016-12-27           KFC                1   \n",
       "276408   1234433   2018-02-28 2016-12-27           KFC                1   \n",
       "517930   1234433   2018-03-28 2016-12-27           KFC                1   \n",
       "760234   1234433   2018-04-28 2016-12-27           KFC                1   \n",
       "1190279  1234433   2018-05-28 2016-12-27           KFC                1   \n",
       "1442145  1234433   2018-06-28 2016-12-27           KFC                1   \n",
       "1744982  1234433   2018-07-28 2016-12-27           KFC                1   \n",
       "2113491  1234433   2018-08-28 2016-12-27           KFC                1   \n",
       "2256273  1234433   2018-09-28 2016-12-27           KFC                1   \n",
       "2864559  1234433   2018-10-28 2016-12-27           KFC                1   \n",
       "3044630  1234433   2018-11-28 2016-12-27           KFC                1   \n",
       "3483305  1234433   2018-12-28 2016-12-27           KFC                1   \n",
       "115607   1282323   2018-01-28 2017-07-28           KFC                1   \n",
       "359048   1282323   2018-02-28 2017-07-28           KFC                1   \n",
       "611838   1282323   2018-03-28 2017-07-28           KFC                1   \n",
       "849747   1282323   2018-04-28 2017-07-28           KFC                1   \n",
       "1088985  1282323   2018-05-28 2017-07-28           KFC                1   \n",
       "1336156  1282323   2018-06-28 2017-07-28           KFC                1   \n",
       "1683023  1282323   2018-07-28 2017-07-28           KFC                1   \n",
       "1908755  1282323   2018-08-28 2017-07-28           KFC                1   \n",
       "1771136  1388776   2018-07-28 2018-03-23           KAT                0   \n",
       "1992877  1388776   2018-08-28 2018-03-23           KAT                0   \n",
       "2452666  1388776   2018-09-28 2018-03-23           KAT                0   \n",
       "2772696  1388776   2018-10-28 2018-03-23           KAT                0   \n",
       "3200415  1388776   2018-11-28 2018-03-23           KAT                0   \n",
       "1117049  1396767   2018-05-28 2018-05-12           KHM                1   \n",
       "1365754  1396767   2018-06-28 2018-05-12           KHM                1   \n",
       "1776762  1396767   2018-07-28 2018-05-12           KHM                1   \n",
       "1936482  1396767   2018-08-28 2018-05-12           KHM                1   \n",
       "2446733  1396767   2018-09-28 2018-05-12           KHM                1   \n",
       "2765364  1396767   2018-10-28 2018-05-12           KHM                1   \n",
       "3198979  1396767   2018-11-28 2018-05-12           KHM                1   \n",
       "3782099  1396767   2018-12-28 2018-05-12           KHM                1   \n",
       "3964599  1396767   2019-01-28 2018-05-12           KHM                1   \n",
       "4418247  1396767   2019-02-28 2018-05-12           KHM                1   \n",
       "4682048  1396767   2019-03-28 2018-05-12           KHM                1   \n",
       "5292392  1396767   2019-04-28 2018-05-12           KHM                1   \n",
       "\n",
       "                   segment  short_term_deposit  loans  mortgage  funds  \\\n",
       "4320              01 - TOP                   0      0         0      1   \n",
       "480274            01 - TOP                   0      0         0      1   \n",
       "720817            01 - TOP                   0      0         0      1   \n",
       "965232            01 - TOP                   0      0         0      1   \n",
       "980872            01 - TOP                   0      0         0      1   \n",
       "1231884           01 - TOP                   0      0         0      1   \n",
       "1586303           01 - TOP                   0      0         0      1   \n",
       "2047525           01 - TOP                   0      0         0      1   \n",
       "2327704           01 - TOP                   0      0         0      1   \n",
       "2676369           01 - TOP                   0      0         0      1   \n",
       "3346533           01 - TOP                   0      0         0      1   \n",
       "3433460           01 - TOP                   0      0         0      1   \n",
       "215020   02 - PARTICULARES                   0      0         0      0   \n",
       "276408   02 - PARTICULARES                   0      0         0      0   \n",
       "517930   02 - PARTICULARES                   0      0         0      0   \n",
       "760234   02 - PARTICULARES                   0      0         0      0   \n",
       "1190279  02 - PARTICULARES                   0      0         0      0   \n",
       "1442145  02 - PARTICULARES                   0      0         0      0   \n",
       "1744982  02 - PARTICULARES                   0      0         0      0   \n",
       "2113491  02 - PARTICULARES                   0      0         0      0   \n",
       "2256273  02 - PARTICULARES                   0      0         0      0   \n",
       "2864559  02 - PARTICULARES                   0      0         0      0   \n",
       "3044630  02 - PARTICULARES                   0      0         0      0   \n",
       "3483305  02 - PARTICULARES                   0      0         0      0   \n",
       "115607   02 - PARTICULARES                   0      0         0      0   \n",
       "359048   02 - PARTICULARES                   0      0         0      0   \n",
       "611838   02 - PARTICULARES                   0      0         0      0   \n",
       "849747   02 - PARTICULARES                   0      0         0      0   \n",
       "1088985  02 - PARTICULARES                   0      0         0      0   \n",
       "1336156  02 - PARTICULARES                   0      0         0      0   \n",
       "1683023  02 - PARTICULARES                   0      0         0      0   \n",
       "1908755  02 - PARTICULARES                   0      0         0      0   \n",
       "1771136  02 - PARTICULARES                   0      0         0      0   \n",
       "1992877  02 - PARTICULARES                   0      0         0      0   \n",
       "2452666  02 - PARTICULARES                   0      0         0      0   \n",
       "2772696  02 - PARTICULARES                   0      0         0      0   \n",
       "3200415  02 - PARTICULARES                   0      0         0      0   \n",
       "1117049  02 - PARTICULARES                   0      0         0      0   \n",
       "1365754  02 - PARTICULARES                   0      0         0      0   \n",
       "1776762  02 - PARTICULARES                   1      0         0      0   \n",
       "1936482  02 - PARTICULARES                   1      0         0      0   \n",
       "2446733  02 - PARTICULARES                   1      0         0      0   \n",
       "2765364  02 - PARTICULARES                   0      0         0      0   \n",
       "3198979  02 - PARTICULARES                   0      0         0      0   \n",
       "3782099  02 - PARTICULARES                   0      0         0      0   \n",
       "3964599  02 - PARTICULARES                   0      0         0      0   \n",
       "4418247  02 - PARTICULARES                   0      0         0      0   \n",
       "4682048  02 - PARTICULARES                   0      0         0      0   \n",
       "5292392  02 - PARTICULARES                   0      0         0      0   \n",
       "\n",
       "         securities  long_term_deposit  em_account_pp  credit_card  payroll  \\\n",
       "4320              0                  0              0            0    0.000   \n",
       "480274            0                  0              0            0    0.000   \n",
       "720817            0                  0              0            0    0.000   \n",
       "965232            0                  0              0            0    0.000   \n",
       "980872            0                  0              0            0    0.000   \n",
       "1231884           0                  0              0            0    0.000   \n",
       "1586303           0                  0              0            0    0.000   \n",
       "2047525           0                  0              0            0    0.000   \n",
       "2327704           0                  0              0            0    0.000   \n",
       "2676369           0                  0              0            0    0.000   \n",
       "3346533           0                  0              0            0    0.000   \n",
       "3433460           0                  0              0            0    0.000   \n",
       "215020            0                  0              0            1    1.000   \n",
       "276408            0                  0              0            1    1.000   \n",
       "517930            0                  0              0            1    1.000   \n",
       "760234            0                  0              0            1    1.000   \n",
       "1190279           0                  0              0            1    1.000   \n",
       "1442145           0                  0              0            1    1.000   \n",
       "1744982           0                  0              0            1    1.000   \n",
       "2113491           0                  0              0            1    1.000   \n",
       "2256273           0                  0              0            1    0.000   \n",
       "2864559           0                  0              0            1    0.000   \n",
       "3044630           0                  0              0            1    0.000   \n",
       "3483305           0                  0              0            1    0.000   \n",
       "115607            0                  0              0            0    0.000   \n",
       "359048            0                  0              0            0    0.000   \n",
       "611838            0                  0              0            0    0.000   \n",
       "849747            0                  0              0            0    0.000   \n",
       "1088985           0                  0              0            0    0.000   \n",
       "1336156           0                  0              0            0    0.000   \n",
       "1683023           0                  0              0            0    0.000   \n",
       "1908755           0                  0              0            0    0.000   \n",
       "1771136           0                  0              0            0    0.000   \n",
       "1992877           0                  0              0            0    0.000   \n",
       "2452666           0                  0              0            0    0.000   \n",
       "2772696           0                  0              0            0    0.000   \n",
       "3200415           0                  0              0            0    0.000   \n",
       "1117049           0                  0              0            0    0.000   \n",
       "1365754           0                  0              0            0    0.000   \n",
       "1776762           0                  1              0            0    0.000   \n",
       "1936482           0                  1              0            0    0.000   \n",
       "2446733           0                  1              0            0    0.000   \n",
       "2765364           0                  1              0            0    0.000   \n",
       "3198979           0                  1              0            0    0.000   \n",
       "3782099           0                  1              0            0    0.000   \n",
       "3964599           0                  1              0            0    0.000   \n",
       "4418247           0                  1              0            0    0.000   \n",
       "4682048           0                  1              0            0    0.000   \n",
       "5292392           0                  1              0            0    0.000   \n",
       "\n",
       "         pension_plan  payroll_account  emc_account  debit_card  em_account_p  \\\n",
       "4320            0.000                0            0           0             0   \n",
       "480274          0.000                0            0           0             0   \n",
       "720817          0.000                0            0           0             0   \n",
       "965232          0.000                0            0           0             0   \n",
       "980872          0.000                0            0           0             0   \n",
       "1231884         0.000                0            0           0             0   \n",
       "1586303         0.000                0            0           0             0   \n",
       "2047525         0.000                0            0           0             0   \n",
       "2327704         0.000                0            0           0             0   \n",
       "2676369         0.000                0            0           0             0   \n",
       "3346533         0.000                0            0           0             0   \n",
       "3433460         0.000                0            0           0             0   \n",
       "215020          1.000                0            0           1             0   \n",
       "276408          1.000                1            0           1             0   \n",
       "517930          1.000                0            0           1             0   \n",
       "760234          1.000                0            0           1             0   \n",
       "1190279         1.000                0            0           1             0   \n",
       "1442145         1.000                0            0           1             0   \n",
       "1744982         1.000                0            0           1             0   \n",
       "2113491         1.000                0            0           1             0   \n",
       "2256273         0.000                0            0           1             0   \n",
       "2864559         0.000                0            0           0             0   \n",
       "3044630         0.000                0            0           0             0   \n",
       "3483305         0.000                0            0           0             0   \n",
       "115607          0.000                0            0           1             0   \n",
       "359048          0.000                0            0           0             0   \n",
       "611838          0.000                0            0           1             0   \n",
       "849747          0.000                0            0           0             0   \n",
       "1088985         0.000                0            0           1             0   \n",
       "1336156         0.000                0            0           1             0   \n",
       "1683023         0.000                0            0           1             0   \n",
       "1908755         0.000                0            0           1             0   \n",
       "1771136         0.000                0            0           0             0   \n",
       "1992877         0.000                0            0           0             0   \n",
       "2452666         0.000                0            0           0             0   \n",
       "2772696         0.000                0            0           0             0   \n",
       "3200415         0.000                0            0           0             0   \n",
       "1117049         0.000                0            0           0             0   \n",
       "1365754         0.000                0            0           0             0   \n",
       "1776762         0.000                0            0           0             0   \n",
       "1936482         0.000                0            0           0             0   \n",
       "2446733         0.000                0            0           0             0   \n",
       "2765364         0.000                0            0           0             0   \n",
       "3198979         0.000                0            0           0             0   \n",
       "3782099         0.000                0            0           0             0   \n",
       "3964599         0.000                0            0           0             0   \n",
       "4418247         0.000                0            0           0             0   \n",
       "4682048         0.000                0            0           0             0   \n",
       "5292392         0.000                0            0           0             0   \n",
       "\n",
       "         em_acount country_id region_code gender  age deceased  salary  \\\n",
       "4320             0         ES     Unknown      V   40        N     NaN   \n",
       "480274           0         ES     Unknown      V   40        N     NaN   \n",
       "720817           1         ES     Unknown      V   40        N     NaN   \n",
       "965232           1         ES     Unknown      V   40        N     NaN   \n",
       "980872           1         ES     Unknown      V   40        N     NaN   \n",
       "1231884          1         ES     Unknown      V   40        N     NaN   \n",
       "1586303          0         ES     Unknown      V   40        N     NaN   \n",
       "2047525          0         ES     Unknown      V   40        N     NaN   \n",
       "2327704          0         ES     Unknown      V   40        N     NaN   \n",
       "2676369          0         ES     Unknown      V   41        N     NaN   \n",
       "3346533          1         ES     Unknown      V   41        N     NaN   \n",
       "3433460          1         ES     Unknown      V   41        N     NaN   \n",
       "215020           0         ES     Unknown      V   45        N     NaN   \n",
       "276408           0         ES     Unknown      V   45        N     NaN   \n",
       "517930           0         ES     Unknown      V   45        N     NaN   \n",
       "760234           0         ES     Unknown      V   45        N     NaN   \n",
       "1190279          0         ES     Unknown      V   45        N     NaN   \n",
       "1442145          0         ES     Unknown      V   45        N     NaN   \n",
       "1744982          0         ES     Unknown      V   45        N     NaN   \n",
       "2113491          0         ES     Unknown      V   45        N     NaN   \n",
       "2256273          0         ES     Unknown      V   45        N     NaN   \n",
       "2864559          0         ES     Unknown      V   45        N     NaN   \n",
       "3044630          0         ES     Unknown      V   45        N     NaN   \n",
       "3483305          0         ES     Unknown      V   45        N     NaN   \n",
       "115607           1         ES     Unknown      V   44        N     NaN   \n",
       "359048           1         ES     Unknown      V   44        N     NaN   \n",
       "611838           1         ES     Unknown      V   44        N     NaN   \n",
       "849747           1         ES     Unknown      V   44        N     NaN   \n",
       "1088985          1         ES     Unknown      V   44        N     NaN   \n",
       "1336156          1         ES     Unknown      V   44        N     NaN   \n",
       "1683023          1         ES     Unknown      V   44        N     NaN   \n",
       "1908755          1         ES     Unknown      V   44        N     NaN   \n",
       "1771136          0         ES     Unknown      H   65        N     NaN   \n",
       "1992877          0         ES     Unknown      H   65        N     NaN   \n",
       "2452666          0         ES     Unknown      H   65        N     NaN   \n",
       "2772696          0         ES     Unknown      H   65        N     NaN   \n",
       "3200415          0         ES     Unknown      H   65        N     NaN   \n",
       "1117049          1         ES     Unknown      H   34        N     NaN   \n",
       "1365754          1         ES     Unknown      H   34        N     NaN   \n",
       "1776762          1         ES     Unknown      H   34        N     NaN   \n",
       "1936482          1         ES     Unknown      H   34        N     NaN   \n",
       "2446733          1         ES     Unknown      H   34        N     NaN   \n",
       "2765364          1         ES     Unknown      H   34        N     NaN   \n",
       "3198979          1         ES     Unknown      H   34        N     NaN   \n",
       "3782099          1         ES     Unknown      H   34        N     NaN   \n",
       "3964599          1         ES     Unknown      H   34        N     NaN   \n",
       "4418247          1         ES     Unknown      H   34        N     NaN   \n",
       "4682048          1         ES     Unknown      H   34        N     NaN   \n",
       "5292392          1         ES     Unknown      H   34        N     NaN   \n",
       "\n",
       "         mes_partition mes_nombre_partition  \n",
       "4320                 1              January  \n",
       "480274               2             February  \n",
       "720817               3                March  \n",
       "965232               4                April  \n",
       "980872               5                  May  \n",
       "1231884              6                 June  \n",
       "1586303              7                 July  \n",
       "2047525              8               August  \n",
       "2327704              9            September  \n",
       "2676369             10              October  \n",
       "3346533             11             November  \n",
       "3433460             12             December  \n",
       "215020               1              January  \n",
       "276408               2             February  \n",
       "517930               3                March  \n",
       "760234               4                April  \n",
       "1190279              5                  May  \n",
       "1442145              6                 June  \n",
       "1744982              7                 July  \n",
       "2113491              8               August  \n",
       "2256273              9            September  \n",
       "2864559             10              October  \n",
       "3044630             11             November  \n",
       "3483305             12             December  \n",
       "115607               1              January  \n",
       "359048               2             February  \n",
       "611838               3                March  \n",
       "849747               4                April  \n",
       "1088985              5                  May  \n",
       "1336156              6                 June  \n",
       "1683023              7                 July  \n",
       "1908755              8               August  \n",
       "1771136              7                 July  \n",
       "1992877              8               August  \n",
       "2452666              9            September  \n",
       "2772696             10              October  \n",
       "3200415             11             November  \n",
       "1117049              5                  May  \n",
       "1365754              6                 June  \n",
       "1776762              7                 July  \n",
       "1936482              8               August  \n",
       "2446733              9            September  \n",
       "2765364             10              October  \n",
       "3198979             11             November  \n",
       "3782099             12             December  \n",
       "3964599              1              January  \n",
       "4418247              2             February  \n",
       "4682048              3                March  \n",
       "5292392              4                April  "
      ]
     },
     "execution_count": 306,
     "metadata": {},
     "output_type": "execute_result"
    }
   ],
   "source": [
    "# Filtra el DataFrame según las condiciones especificadas\n",
    "filtered_df = df_full[(df_full[\"region_code\"] == 'Unknown') & (df_full[\"country_id\"] == 'ES')]\n",
    "\n",
    "filtered_df"
   ]
  },
  {
   "cell_type": "markdown",
   "metadata": {},
   "source": [
    "### Sustitución de region 'Unknowns'"
   ]
  },
  {
   "cell_type": "markdown",
   "metadata": {},
   "source": [
    "Vamos a sustituir region_code por 28 en estos casos, al ser Madrid la región más repetida, y por 00 en los casos de fuera de España"
   ]
  },
  {
   "cell_type": "code",
   "execution_count": 307,
   "metadata": {},
   "outputs": [
    {
     "name": "stdout",
     "output_type": "stream",
     "text": [
      "Categorías actuales: Index([      1.0,       2.0,       3.0,       4.0,       5.0,       6.0,\n",
      "             7.0,       8.0,       9.0,      10.0,      11.0,      12.0,\n",
      "            13.0,      14.0,      15.0,      16.0,      17.0,      18.0,\n",
      "            19.0,      20.0,      21.0,      22.0,      23.0,      24.0,\n",
      "            25.0,      26.0,      27.0,      28.0,      29.0,      30.0,\n",
      "            31.0,      32.0,      33.0,      34.0,      35.0,      36.0,\n",
      "            37.0,      38.0,      39.0,      40.0,      41.0,      42.0,\n",
      "            43.0,      44.0,      45.0,      46.0,      47.0,      48.0,\n",
      "            49.0,      50.0,      51.0,      52.0, 'Unknown'],\n",
      "      dtype='object')\n"
     ]
    },
    {
     "data": {
      "text/html": [
       "<div>\n",
       "<style scoped>\n",
       "    .dataframe tbody tr th:only-of-type {\n",
       "        vertical-align: middle;\n",
       "    }\n",
       "\n",
       "    .dataframe tbody tr th {\n",
       "        vertical-align: top;\n",
       "    }\n",
       "\n",
       "    .dataframe thead th {\n",
       "        text-align: right;\n",
       "    }\n",
       "</style>\n",
       "<table border=\"1\" class=\"dataframe\">\n",
       "  <thead>\n",
       "    <tr style=\"text-align: right;\">\n",
       "      <th></th>\n",
       "      <th>pk_cid</th>\n",
       "      <th>pk_partition</th>\n",
       "      <th>entry_date</th>\n",
       "      <th>entry_channel</th>\n",
       "      <th>active_customer</th>\n",
       "      <th>segment</th>\n",
       "      <th>short_term_deposit</th>\n",
       "      <th>loans</th>\n",
       "      <th>mortgage</th>\n",
       "      <th>funds</th>\n",
       "      <th>securities</th>\n",
       "      <th>long_term_deposit</th>\n",
       "      <th>em_account_pp</th>\n",
       "      <th>credit_card</th>\n",
       "      <th>payroll</th>\n",
       "      <th>pension_plan</th>\n",
       "      <th>payroll_account</th>\n",
       "      <th>emc_account</th>\n",
       "      <th>debit_card</th>\n",
       "      <th>em_account_p</th>\n",
       "      <th>em_acount</th>\n",
       "      <th>country_id</th>\n",
       "      <th>region_code</th>\n",
       "      <th>gender</th>\n",
       "      <th>age</th>\n",
       "      <th>deceased</th>\n",
       "      <th>salary</th>\n",
       "      <th>mes_partition</th>\n",
       "      <th>mes_nombre_partition</th>\n",
       "    </tr>\n",
       "  </thead>\n",
       "  <tbody>\n",
       "  </tbody>\n",
       "</table>\n",
       "</div>"
      ],
      "text/plain": [
       "Empty DataFrame\n",
       "Columns: [pk_cid, pk_partition, entry_date, entry_channel, active_customer, segment, short_term_deposit, loans, mortgage, funds, securities, long_term_deposit, em_account_pp, credit_card, payroll, pension_plan, payroll_account, emc_account, debit_card, em_account_p, em_acount, country_id, region_code, gender, age, deceased, salary, mes_partition, mes_nombre_partition]\n",
       "Index: []"
      ]
     },
     "execution_count": 307,
     "metadata": {},
     "output_type": "execute_result"
    }
   ],
   "source": [
    "# Verificar las categorías actuales\n",
    "print(\"Categorías actuales:\", df_full['region_code'].cat.categories)\n",
    "\n",
    "# Agregar nuevas categorías\n",
    "df_full['region_code'] = df_full['region_code'].cat.add_categories(['28', '00'])\n",
    "\n",
    "# Aplicar las actualizaciones\n",
    "df_full.loc[(df_full[\"region_code\"] == 'Unknown') & (df_full[\"country_id\"] == 'ES'), \"region_code\"] = '28'\n",
    "df_full.loc[(df_full[\"region_code\"] == 'Unknown') & (df_full[\"country_id\"] != 'ES'), \"region_code\"] = '00'\n",
    "\n",
    "# Verifica si quedan valores 'Unknown'\n",
    "unknown_rows = df_full[df_full[\"region_code\"] == 'Unknown']\n",
    "\n",
    "unknown_rows"
   ]
  },
  {
   "cell_type": "markdown",
   "metadata": {},
   "source": [
    "### Sustitución Region_Codes - Provincia"
   ]
  },
  {
   "cell_type": "code",
   "execution_count": 308,
   "metadata": {},
   "outputs": [],
   "source": [
    "# Diccionario de mapeo de códigos de provincia a nombres de provincia\n",
    "\n",
    "provincia_mapping = {\n",
    "    00: \"Extranjero\",1: \"Álava\",2: \"Albacete\",3: \"Alicante\",4: \"Almería\",5: \"Ávila\",6: \"Badajoz\",7: \"Baleares, Islas\",\n",
    "    8: \"Barcelona\",9: \"Burgos\",10: \"Cáceres\",11: \"Cádiz\",12: \"Castellón\",13: \"Ciudad Real\",14: \"Córdoba\",15: \"Coruña, A\",\n",
    "    16: \"Cuenca\",17: \"Girona\",18: \"Granada\",19: \"Guadalajara\",20: \"Gipuzkoa\",21: \"Huelva\",22: \"Huesca\",23: \"Jaén\",24: \"León\",\n",
    "    25: \"Lleida\",26: \"Rioja, La\",27: \"Lugo\",28: \"Madrid\",29: \"Málaga\",30: \"Murcia\",31: \"Navarra\",32: \"Ourense\",33: \"Asturias\",\n",
    "    34: \"Palencia\",35: \"Palmas, Las\",36: \"Pontevedra\",37: \"Salamanca\",38: \"Santa Cruz de Tenerife\",39: \"Cantabria\",40: \"Segovia\",\n",
    "    41: \"Sevilla\",42: \"Soria\",43: \"Tarragona\",44: \"Teruel\",45: \"Toledo\",46: \"Valencia\",47: \"Valladolid\",48: \"Bizkaia\",49: \"Zamora\",\n",
    "    50: \"Zaragoza\",51: \"Ceuta\",52: \"Melilla\"}"
   ]
  },
  {
   "cell_type": "code",
   "execution_count": 309,
   "metadata": {},
   "outputs": [
    {
     "name": "stdout",
     "output_type": "stream",
     "text": [
      "                    region_code\n",
      "1479563                  Madrid\n",
      "3628238               Barcelona\n",
      "237926                  Sevilla\n",
      "237918                 Valencia\n",
      "237937                     León\n",
      "4480619               Cantabria\n",
      "237940                 Alicante\n",
      "1479538                 Navarra\n",
      "1479554               Coruña, A\n",
      "237904                 Albacete\n",
      "3628190                  Toledo\n",
      "2943585                 Segovia\n",
      "237913                   Murcia\n",
      "237911                 Zaragoza\n",
      "2168148             Palmas, Las\n",
      "5132997             Ciudad Real\n",
      "4876072                  Huelva\n",
      "4876076                    Lugo\n",
      "237978               Valladolid\n",
      "237969                  Badajoz\n",
      "3839358              Pontevedra\n",
      "237993                Salamanca\n",
      "2943744                  Málaga\n",
      "2943675                 Córdoba\n",
      "2977050               Castellón\n",
      "1222898                 Granada\n",
      "237822                   Cuenca\n",
      "1479760             Guadalajara\n",
      "237839                 Asturias\n",
      "1479744                  Burgos\n",
      "3033993                 Bizkaia\n",
      "1222804                  Lleida\n",
      "2171124                   Cádiz\n",
      "3839563         Baleares, Islas\n",
      "3839651                   Soria\n",
      "237866                  Cáceres\n",
      "237863                   Girona\n",
      "1479694                 Melilla\n",
      "240946                      NaN\n",
      "483537                     Jaén\n",
      "238130                  Almería\n",
      "2171019               Tarragona\n",
      "240928                Rioja, La\n",
      "238244   Santa Cruz de Tenerife\n",
      "3034235                  Teruel\n",
      "238199                   Zamora\n",
      "241044                 Gipuzkoa\n",
      "238047                  Ourense\n",
      "1479373                   Álava\n",
      "238091                    Ávila\n",
      "1479392                  Huesca\n",
      "237415                 Palencia\n",
      "239300                    Ceuta\n"
     ]
    }
   ],
   "source": [
    "# Mapear los códigos de 'region_code' a nombres de provincia\n",
    "df_full['region_code'] = df_full['region_code'].map(provincia_mapping)\n",
    "\n",
    "# Verificar que la sustitución se realizó correctamente\n",
    "print(df_full[['region_code']].drop_duplicates())"
   ]
  },
  {
   "cell_type": "code",
   "execution_count": 310,
   "metadata": {},
   "outputs": [
    {
     "name": "stdout",
     "output_type": "stream",
     "text": [
      "['Madrid' 'Barcelona' 'Sevilla' 'Valencia' 'León' 'Cantabria' 'Alicante'\n",
      " 'Navarra' 'Coruña, A' 'Albacete' 'Toledo' 'Segovia' 'Murcia' 'Zaragoza'\n",
      " 'Palmas, Las' 'Ciudad Real' 'Huelva' 'Lugo' 'Valladolid' 'Badajoz'\n",
      " 'Pontevedra' 'Salamanca' 'Málaga' 'Córdoba' 'Castellón' 'Granada'\n",
      " 'Cuenca' 'Guadalajara' 'Asturias' 'Burgos' 'Bizkaia' 'Lleida' 'Cádiz'\n",
      " 'Baleares, Islas' 'Soria' 'Cáceres' 'Girona' 'Melilla' 'Extranjero'\n",
      " 'Jaén' 'Almería' 'Tarragona' 'Rioja, La' 'Santa Cruz de Tenerife'\n",
      " 'Teruel' 'Zamora' 'Gipuzkoa' 'Ourense' 'Álava' 'Ávila' 'Huesca'\n",
      " 'Palencia' 'Ceuta']\n"
     ]
    }
   ],
   "source": [
    "# Sustituir los valores NaN en 'region_code' por 'extranjero'\n",
    "df_full['region_code'] = df_full['region_code'].fillna('Extranjero')\n",
    "df_last_partition['region_code'] = df_full['region_code']\n",
    "\n",
    "# Verificar que la sustitución se realizó correctamente\n",
    "print(df_full['region_code'].unique())"
   ]
  },
  {
   "cell_type": "code",
   "execution_count": 311,
   "metadata": {},
   "outputs": [
    {
     "data": {
      "application/vnd.plotly.v1+json": {
       "config": {
        "plotlyServerURL": "https://plot.ly"
       },
       "data": [
        {
         "hovertemplate": "count=%{marker.color}<br>lat=%{lat}<br>lon=%{lon}<extra></extra>",
         "lat": [
          40.4168,
          41.3851,
          39.4699,
          37.9922,
          37.3886,
          43.3623,
          39.9833,
          38.3452,
          40.97,
          39.5696,
          40.812,
          41.6488,
          28.1212,
          42.2636,
          38.8799,
          39.856,
          40.6502,
          37.782,
          42.1441,
          38.248,
          43.1833,
          39.0377,
          41.7654,
          39.0022,
          37.2625,
          40.0731,
          41.118,
          42.85,
          35.2891,
          43.011,
          39.5644,
          41.9773,
          39.5638,
          42.603,
          42.465,
          36.834,
          43.2564,
          28.4636,
          37.7692,
          42.8154,
          42.3404,
          41.504,
          39.956,
          42.1655,
          40.957,
          40.6572,
          43.3557,
          42.0056,
          40.345,
          40.3809,
          35.8896,
          90,
          null
         ],
         "legendgroup": "",
         "lon": [
          -3.7038,
          2.1734,
          -0.3763,
          -1.1307,
          -5.9823,
          -8.4115,
          -0.0416,
          -0.481,
          -4.494,
          2.6502,
          -0.9734,
          -0.8765,
          -15.4135,
          -8.5977,
          -6.9703,
          -4.0273,
          -3.8002,
          -4.7821,
          2.8248,
          -4.6452,
          -3.8002,
          -1.8587,
          -3.7038,
          -3.929,
          -6.943,
          -1.3776,
          1.2456,
          -7.8647,
          4.4213,
          -8.6469,
          -0.816,
          0.62,
          -4.5048,
          -5.5676,
          -2.4684,
          -2.456,
          -0.6295,
          -16.25,
          -3.7891,
          -1.6461,
          -4.1661,
          -5.745,
          -4.5491,
          -2.8723,
          -4.4771,
          -4.7005,
          -1.5152,
          -3.8355,
          -1.1262,
          -2.074,
          -5.3118,
          0,
          null
         ],
         "marker": {
          "color": [
           94664,
           44768,
           26957,
           21367,
           20712,
           17748,
           13194,
           13006,
           12445,
           11447,
           9832,
           9695,
           9159,
           8534,
           8195,
           7593,
           7479,
           6564,
           5692,
           5531,
           5296,
           5108,
           5057,
           4972,
           4928,
           4853,
           4501,
           3793,
           3725,
           3662,
           3477,
           3343,
           2764,
           2659,
           2530,
           2528,
           2472,
           2426,
           2360,
           2267,
           2253,
           2173,
           1932,
           1582,
           1563,
           1514,
           1465,
           1014,
           918,
           679,
           233,
           204,
           162
          ],
          "coloraxis": "coloraxis",
          "size": [
           94664,
           44768,
           26957,
           21367,
           20712,
           17748,
           13194,
           13006,
           12445,
           11447,
           9832,
           9695,
           9159,
           8534,
           8195,
           7593,
           7479,
           6564,
           5692,
           5531,
           5296,
           5108,
           5057,
           4972,
           4928,
           4853,
           4501,
           3793,
           3725,
           3662,
           3477,
           3343,
           2764,
           2659,
           2530,
           2528,
           2472,
           2426,
           2360,
           2267,
           2253,
           2173,
           1932,
           1582,
           1563,
           1514,
           1465,
           1014,
           918,
           679,
           233,
           204,
           162
          ],
          "sizemode": "area",
          "sizeref": 105.18222222222222
         },
         "mode": "markers",
         "name": "",
         "showlegend": false,
         "subplot": "mapbox",
         "type": "scattermapbox"
        }
       ],
       "layout": {
        "coloraxis": {
         "colorbar": {
          "title": {
           "text": "count"
          }
         },
         "colorscale": [
          [
           0,
           "#440154"
          ],
          [
           0.1111111111111111,
           "#482878"
          ],
          [
           0.2222222222222222,
           "#3e4989"
          ],
          [
           0.3333333333333333,
           "#31688e"
          ],
          [
           0.4444444444444444,
           "#26828e"
          ],
          [
           0.5555555555555556,
           "#1f9e89"
          ],
          [
           0.6666666666666666,
           "#35b779"
          ],
          [
           0.7777777777777778,
           "#6ece58"
          ],
          [
           0.8888888888888888,
           "#b5de2b"
          ],
          [
           1,
           "#fde725"
          ]
         ]
        },
        "height": 800,
        "legend": {
         "itemsizing": "constant",
         "tracegroupgap": 0
        },
        "mapbox": {
         "center": {
          "lat": 40.4168,
          "lon": -3.7038
         },
         "domain": {
          "x": [
           0,
           1
          ],
          "y": [
           0,
           1
          ]
         },
         "style": "carto-positron",
         "zoom": 5
        },
        "template": {
         "data": {
          "bar": [
           {
            "error_x": {
             "color": "#2a3f5f"
            },
            "error_y": {
             "color": "#2a3f5f"
            },
            "marker": {
             "line": {
              "color": "#E5ECF6",
              "width": 0.5
             },
             "pattern": {
              "fillmode": "overlay",
              "size": 10,
              "solidity": 0.2
             }
            },
            "type": "bar"
           }
          ],
          "barpolar": [
           {
            "marker": {
             "line": {
              "color": "#E5ECF6",
              "width": 0.5
             },
             "pattern": {
              "fillmode": "overlay",
              "size": 10,
              "solidity": 0.2
             }
            },
            "type": "barpolar"
           }
          ],
          "carpet": [
           {
            "aaxis": {
             "endlinecolor": "#2a3f5f",
             "gridcolor": "white",
             "linecolor": "white",
             "minorgridcolor": "white",
             "startlinecolor": "#2a3f5f"
            },
            "baxis": {
             "endlinecolor": "#2a3f5f",
             "gridcolor": "white",
             "linecolor": "white",
             "minorgridcolor": "white",
             "startlinecolor": "#2a3f5f"
            },
            "type": "carpet"
           }
          ],
          "choropleth": [
           {
            "colorbar": {
             "outlinewidth": 0,
             "ticks": ""
            },
            "type": "choropleth"
           }
          ],
          "contour": [
           {
            "colorbar": {
             "outlinewidth": 0,
             "ticks": ""
            },
            "colorscale": [
             [
              0,
              "#0d0887"
             ],
             [
              0.1111111111111111,
              "#46039f"
             ],
             [
              0.2222222222222222,
              "#7201a8"
             ],
             [
              0.3333333333333333,
              "#9c179e"
             ],
             [
              0.4444444444444444,
              "#bd3786"
             ],
             [
              0.5555555555555556,
              "#d8576b"
             ],
             [
              0.6666666666666666,
              "#ed7953"
             ],
             [
              0.7777777777777778,
              "#fb9f3a"
             ],
             [
              0.8888888888888888,
              "#fdca26"
             ],
             [
              1,
              "#f0f921"
             ]
            ],
            "type": "contour"
           }
          ],
          "contourcarpet": [
           {
            "colorbar": {
             "outlinewidth": 0,
             "ticks": ""
            },
            "type": "contourcarpet"
           }
          ],
          "heatmap": [
           {
            "colorbar": {
             "outlinewidth": 0,
             "ticks": ""
            },
            "colorscale": [
             [
              0,
              "#0d0887"
             ],
             [
              0.1111111111111111,
              "#46039f"
             ],
             [
              0.2222222222222222,
              "#7201a8"
             ],
             [
              0.3333333333333333,
              "#9c179e"
             ],
             [
              0.4444444444444444,
              "#bd3786"
             ],
             [
              0.5555555555555556,
              "#d8576b"
             ],
             [
              0.6666666666666666,
              "#ed7953"
             ],
             [
              0.7777777777777778,
              "#fb9f3a"
             ],
             [
              0.8888888888888888,
              "#fdca26"
             ],
             [
              1,
              "#f0f921"
             ]
            ],
            "type": "heatmap"
           }
          ],
          "heatmapgl": [
           {
            "colorbar": {
             "outlinewidth": 0,
             "ticks": ""
            },
            "colorscale": [
             [
              0,
              "#0d0887"
             ],
             [
              0.1111111111111111,
              "#46039f"
             ],
             [
              0.2222222222222222,
              "#7201a8"
             ],
             [
              0.3333333333333333,
              "#9c179e"
             ],
             [
              0.4444444444444444,
              "#bd3786"
             ],
             [
              0.5555555555555556,
              "#d8576b"
             ],
             [
              0.6666666666666666,
              "#ed7953"
             ],
             [
              0.7777777777777778,
              "#fb9f3a"
             ],
             [
              0.8888888888888888,
              "#fdca26"
             ],
             [
              1,
              "#f0f921"
             ]
            ],
            "type": "heatmapgl"
           }
          ],
          "histogram": [
           {
            "marker": {
             "pattern": {
              "fillmode": "overlay",
              "size": 10,
              "solidity": 0.2
             }
            },
            "type": "histogram"
           }
          ],
          "histogram2d": [
           {
            "colorbar": {
             "outlinewidth": 0,
             "ticks": ""
            },
            "colorscale": [
             [
              0,
              "#0d0887"
             ],
             [
              0.1111111111111111,
              "#46039f"
             ],
             [
              0.2222222222222222,
              "#7201a8"
             ],
             [
              0.3333333333333333,
              "#9c179e"
             ],
             [
              0.4444444444444444,
              "#bd3786"
             ],
             [
              0.5555555555555556,
              "#d8576b"
             ],
             [
              0.6666666666666666,
              "#ed7953"
             ],
             [
              0.7777777777777778,
              "#fb9f3a"
             ],
             [
              0.8888888888888888,
              "#fdca26"
             ],
             [
              1,
              "#f0f921"
             ]
            ],
            "type": "histogram2d"
           }
          ],
          "histogram2dcontour": [
           {
            "colorbar": {
             "outlinewidth": 0,
             "ticks": ""
            },
            "colorscale": [
             [
              0,
              "#0d0887"
             ],
             [
              0.1111111111111111,
              "#46039f"
             ],
             [
              0.2222222222222222,
              "#7201a8"
             ],
             [
              0.3333333333333333,
              "#9c179e"
             ],
             [
              0.4444444444444444,
              "#bd3786"
             ],
             [
              0.5555555555555556,
              "#d8576b"
             ],
             [
              0.6666666666666666,
              "#ed7953"
             ],
             [
              0.7777777777777778,
              "#fb9f3a"
             ],
             [
              0.8888888888888888,
              "#fdca26"
             ],
             [
              1,
              "#f0f921"
             ]
            ],
            "type": "histogram2dcontour"
           }
          ],
          "mesh3d": [
           {
            "colorbar": {
             "outlinewidth": 0,
             "ticks": ""
            },
            "type": "mesh3d"
           }
          ],
          "parcoords": [
           {
            "line": {
             "colorbar": {
              "outlinewidth": 0,
              "ticks": ""
             }
            },
            "type": "parcoords"
           }
          ],
          "pie": [
           {
            "automargin": true,
            "type": "pie"
           }
          ],
          "scatter": [
           {
            "fillpattern": {
             "fillmode": "overlay",
             "size": 10,
             "solidity": 0.2
            },
            "type": "scatter"
           }
          ],
          "scatter3d": [
           {
            "line": {
             "colorbar": {
              "outlinewidth": 0,
              "ticks": ""
             }
            },
            "marker": {
             "colorbar": {
              "outlinewidth": 0,
              "ticks": ""
             }
            },
            "type": "scatter3d"
           }
          ],
          "scattercarpet": [
           {
            "marker": {
             "colorbar": {
              "outlinewidth": 0,
              "ticks": ""
             }
            },
            "type": "scattercarpet"
           }
          ],
          "scattergeo": [
           {
            "marker": {
             "colorbar": {
              "outlinewidth": 0,
              "ticks": ""
             }
            },
            "type": "scattergeo"
           }
          ],
          "scattergl": [
           {
            "marker": {
             "colorbar": {
              "outlinewidth": 0,
              "ticks": ""
             }
            },
            "type": "scattergl"
           }
          ],
          "scattermapbox": [
           {
            "marker": {
             "colorbar": {
              "outlinewidth": 0,
              "ticks": ""
             }
            },
            "type": "scattermapbox"
           }
          ],
          "scatterpolar": [
           {
            "marker": {
             "colorbar": {
              "outlinewidth": 0,
              "ticks": ""
             }
            },
            "type": "scatterpolar"
           }
          ],
          "scatterpolargl": [
           {
            "marker": {
             "colorbar": {
              "outlinewidth": 0,
              "ticks": ""
             }
            },
            "type": "scatterpolargl"
           }
          ],
          "scatterternary": [
           {
            "marker": {
             "colorbar": {
              "outlinewidth": 0,
              "ticks": ""
             }
            },
            "type": "scatterternary"
           }
          ],
          "surface": [
           {
            "colorbar": {
             "outlinewidth": 0,
             "ticks": ""
            },
            "colorscale": [
             [
              0,
              "#0d0887"
             ],
             [
              0.1111111111111111,
              "#46039f"
             ],
             [
              0.2222222222222222,
              "#7201a8"
             ],
             [
              0.3333333333333333,
              "#9c179e"
             ],
             [
              0.4444444444444444,
              "#bd3786"
             ],
             [
              0.5555555555555556,
              "#d8576b"
             ],
             [
              0.6666666666666666,
              "#ed7953"
             ],
             [
              0.7777777777777778,
              "#fb9f3a"
             ],
             [
              0.8888888888888888,
              "#fdca26"
             ],
             [
              1,
              "#f0f921"
             ]
            ],
            "type": "surface"
           }
          ],
          "table": [
           {
            "cells": {
             "fill": {
              "color": "#EBF0F8"
             },
             "line": {
              "color": "white"
             }
            },
            "header": {
             "fill": {
              "color": "#C8D4E3"
             },
             "line": {
              "color": "white"
             }
            },
            "type": "table"
           }
          ]
         },
         "layout": {
          "annotationdefaults": {
           "arrowcolor": "#2a3f5f",
           "arrowhead": 0,
           "arrowwidth": 1
          },
          "autotypenumbers": "strict",
          "coloraxis": {
           "colorbar": {
            "outlinewidth": 0,
            "ticks": ""
           }
          },
          "colorscale": {
           "diverging": [
            [
             0,
             "#8e0152"
            ],
            [
             0.1,
             "#c51b7d"
            ],
            [
             0.2,
             "#de77ae"
            ],
            [
             0.3,
             "#f1b6da"
            ],
            [
             0.4,
             "#fde0ef"
            ],
            [
             0.5,
             "#f7f7f7"
            ],
            [
             0.6,
             "#e6f5d0"
            ],
            [
             0.7,
             "#b8e186"
            ],
            [
             0.8,
             "#7fbc41"
            ],
            [
             0.9,
             "#4d9221"
            ],
            [
             1,
             "#276419"
            ]
           ],
           "sequential": [
            [
             0,
             "#0d0887"
            ],
            [
             0.1111111111111111,
             "#46039f"
            ],
            [
             0.2222222222222222,
             "#7201a8"
            ],
            [
             0.3333333333333333,
             "#9c179e"
            ],
            [
             0.4444444444444444,
             "#bd3786"
            ],
            [
             0.5555555555555556,
             "#d8576b"
            ],
            [
             0.6666666666666666,
             "#ed7953"
            ],
            [
             0.7777777777777778,
             "#fb9f3a"
            ],
            [
             0.8888888888888888,
             "#fdca26"
            ],
            [
             1,
             "#f0f921"
            ]
           ],
           "sequentialminus": [
            [
             0,
             "#0d0887"
            ],
            [
             0.1111111111111111,
             "#46039f"
            ],
            [
             0.2222222222222222,
             "#7201a8"
            ],
            [
             0.3333333333333333,
             "#9c179e"
            ],
            [
             0.4444444444444444,
             "#bd3786"
            ],
            [
             0.5555555555555556,
             "#d8576b"
            ],
            [
             0.6666666666666666,
             "#ed7953"
            ],
            [
             0.7777777777777778,
             "#fb9f3a"
            ],
            [
             0.8888888888888888,
             "#fdca26"
            ],
            [
             1,
             "#f0f921"
            ]
           ]
          },
          "colorway": [
           "#636efa",
           "#EF553B",
           "#00cc96",
           "#ab63fa",
           "#FFA15A",
           "#19d3f3",
           "#FF6692",
           "#B6E880",
           "#FF97FF",
           "#FECB52"
          ],
          "font": {
           "color": "#2a3f5f"
          },
          "geo": {
           "bgcolor": "white",
           "lakecolor": "white",
           "landcolor": "#E5ECF6",
           "showlakes": true,
           "showland": true,
           "subunitcolor": "white"
          },
          "hoverlabel": {
           "align": "left"
          },
          "hovermode": "closest",
          "mapbox": {
           "style": "light"
          },
          "paper_bgcolor": "white",
          "plot_bgcolor": "#E5ECF6",
          "polar": {
           "angularaxis": {
            "gridcolor": "white",
            "linecolor": "white",
            "ticks": ""
           },
           "bgcolor": "#E5ECF6",
           "radialaxis": {
            "gridcolor": "white",
            "linecolor": "white",
            "ticks": ""
           }
          },
          "scene": {
           "xaxis": {
            "backgroundcolor": "#E5ECF6",
            "gridcolor": "white",
            "gridwidth": 2,
            "linecolor": "white",
            "showbackground": true,
            "ticks": "",
            "zerolinecolor": "white"
           },
           "yaxis": {
            "backgroundcolor": "#E5ECF6",
            "gridcolor": "white",
            "gridwidth": 2,
            "linecolor": "white",
            "showbackground": true,
            "ticks": "",
            "zerolinecolor": "white"
           },
           "zaxis": {
            "backgroundcolor": "#E5ECF6",
            "gridcolor": "white",
            "gridwidth": 2,
            "linecolor": "white",
            "showbackground": true,
            "ticks": "",
            "zerolinecolor": "white"
           }
          },
          "shapedefaults": {
           "line": {
            "color": "#2a3f5f"
           }
          },
          "ternary": {
           "aaxis": {
            "gridcolor": "white",
            "linecolor": "white",
            "ticks": ""
           },
           "baxis": {
            "gridcolor": "white",
            "linecolor": "white",
            "ticks": ""
           },
           "bgcolor": "#E5ECF6",
           "caxis": {
            "gridcolor": "white",
            "linecolor": "white",
            "ticks": ""
           }
          },
          "title": {
           "x": 0.05
          },
          "xaxis": {
           "automargin": true,
           "gridcolor": "white",
           "linecolor": "white",
           "ticks": "",
           "title": {
            "standoff": 15
           },
           "zerolinecolor": "white",
           "zerolinewidth": 2
          },
          "yaxis": {
           "automargin": true,
           "gridcolor": "white",
           "linecolor": "white",
           "ticks": "",
           "title": {
            "standoff": 15
           },
           "zerolinecolor": "white",
           "zerolinewidth": 2
          }
         }
        },
        "title": {
         "text": "Distribución de Usuarios en España"
        },
        "width": 1000
       }
      }
     },
     "metadata": {},
     "output_type": "display_data"
    }
   ],
   "source": [
    "# Datos corregidos con las coordenadas de las ciudades\n",
    "data_with_coordinates = {\n",
    "    'municipality': ['Madrid', 'Barcelona', 'Sevilla', 'Valencia', 'León', 'Cantabria', 'Alicante', 'Navarra',\n",
    "                     'Coruña, A', 'Albacete', 'Toledo', 'Segovia', 'Murcia', 'Zaragoza', 'Palmas, Las',\n",
    "                     'Ciudad Real', 'Huelva', 'Lugo', 'Valladolid', 'Badajoz', 'Pontevedra', 'Salamanca',\n",
    "                     'Málaga', 'Córdoba', 'Castellón', 'Granada', 'Cuenca', 'Guadalajara', 'Asturias',\n",
    "                     'Burgos', 'Bizkaia', 'Lleida', 'Cádiz', 'Baleares, Islas', 'Soria', 'Cáceres',\n",
    "                     'Girona', 'Melilla', 'Jaén', 'Almería', 'Tarragona', 'Rioja, La',\n",
    "                     'Santa Cruz de Tenerife', 'Teruel', 'Zamora', 'Gipuzkoa', 'Ourense', 'Álava', 'Ávila',\n",
    "                     'Huesca', 'Palencia', 'Ceuta'],\n",
    "    'lat': [40.4168, 41.3851, 37.3886, 39.4699, 42.6030, 43.1833, 38.3452, 42.8154, 43.3623, 39.0377,\n",
    "            39.8560, 40.9570, 37.9922, 41.6488, 28.1212, 39.0022, 37.2625, 43.0110, 38.8799, 42.2636,\n",
    "            40.9700, 37.7820, 39.9833, 38.2480, 40.0731, 40.6502, 43.2564, 42.3404, 40.8120, 39.5644,\n",
    "            39.5638, 41.9773, 39.5696, 41.7654, 40.3809, 42.1441, 35.2891, 90.0000, 37.7692, 36.8340,\n",
    "            41.1180, 42.4650, 28.4636, 40.3450, 41.5040, 43.3557, 42.8500, 42.0056, 40.6572, 42.1655,\n",
    "            39.9560, 35.8896],\n",
    "    'lon': [-3.7038, 2.1734, -5.9823, -0.3763, -5.5676, -3.8002, -0.4810, -1.6461, -8.4115, -1.8587,\n",
    "            -4.0273, -4.4771, -1.1307, -0.8765, -15.4135, -3.9290, -6.9430, -8.6469, -6.9703, -8.5977,\n",
    "            -4.4940, -4.7821, -0.0416, -4.6452, -1.3776, -3.8002, -0.6295, -4.1661, -0.9734, -0.8160,\n",
    "            -4.5048, 0.6200, 2.6502, -3.7038, -2.0740, 2.8248, 4.4213, 0.0000, -3.7891, -2.4560,\n",
    "            1.2456, -2.4684, -16.2500, -1.1262, -5.7450, -1.5152, -7.8647, -3.8355, -4.7005, -2.8723,\n",
    "            -4.5491, -5.3118]\n",
    "}\n",
    "\n",
    "# Crear un DataFrame con los datos\n",
    "city_coordinates = pd.DataFrame(data_with_coordinates)\n",
    "\n",
    "# Contar la frecuencia de cada ciudad en 'region_code' de df_last_partition\n",
    "city_data = df_last_partition['region_code'].value_counts().reset_index()\n",
    "city_data.columns = ['municipality', 'count']\n",
    "\n",
    "# Fusionar los datos de conteo con las coordenadas\n",
    "merged = pd.merge(city_data, city_coordinates, on='municipality', how='left')\n",
    "\n",
    "# Crear el mapa de puntos con círculos sólidos\n",
    "fig = px.scatter_mapbox(\n",
    "    merged,\n",
    "    lat='lat',\n",
    "    lon='lon',\n",
    "    size='count',  # Tamaño de los puntos basado en el conteo\n",
    "    color='count',  # Color basado en el conteo\n",
    "    size_max=30,  # Tamaño máximo de los círculos\n",
    "    center={\"lat\": 40.4168, \"lon\": -3.7038},\n",
    "    zoom=5,\n",
    "    title='Distribución de Usuarios en España',\n",
    "    color_continuous_scale='Viridis'\n",
    ")\n",
    "\n",
    "# Ajustar el tamaño del gráfico\n",
    "fig.update_layout(\n",
    "    mapbox_style=\"carto-positron\",\n",
    "    width=1000,  # Ancho del gráfico\n",
    "    height=800  # Altura del gráfico\n",
    ")\n",
    "\n",
    "# Mostrar el gráfico interactivo\n",
    "fig.show()"
   ]
  },
  {
   "cell_type": "markdown",
   "metadata": {},
   "source": [
    "## SALARY"
   ]
  },
  {
   "cell_type": "code",
   "execution_count": 312,
   "metadata": {},
   "outputs": [
    {
     "name": "stdout",
     "output_type": "stream",
     "text": [
      "Clientes que tienen siempre el mismo salario: 299443\n",
      "Clientes con valores NaN en 'salary' en todas las ingestas: 156930\n",
      "Clientes con valores de salario mixtos, varían con la ingesta de datos (diferentes valores): 0\n"
     ]
    }
   ],
   "source": [
    "# Contar cuántos valores únicos de 'salary' tiene cada cliente\n",
    "estado_por_cliente_salary = df_full.groupby('pk_cid')['salary'].nunique()\n",
    "\n",
    "# Identificar clientes con múltiples valores de salario (cambios en el salario)\n",
    "clientes_mixtos_salary = estado_por_cliente_salary[estado_por_cliente_salary > 1].index\n",
    "\n",
    "# Excluir los clientes mixtos del análisis de las otras categorías\n",
    "df_no_mixtos_salary = df_full[~df_full['pk_cid'].isin(clientes_mixtos_salary)]\n",
    "\n",
    "# Identificar clientes que tienen siempre el mismo salario\n",
    "clientes_mismo_salary = df_no_mixtos_salary.groupby('pk_cid')['salary'].nunique()\n",
    "clientes_mismo_salary = clientes_mismo_salary[clientes_mismo_salary == 1].index\n",
    "\n",
    "# Identificar clientes con valores NaN en 'salary' (excluyendo clientes mixtos)\n",
    "clientes_con_nan_salary = df_no_mixtos_salary[df_no_mixtos_salary['salary'].isna()]['pk_cid'].unique()\n",
    "\n",
    "# Contar el número de clientes en cada categoría (excluyendo mixtos)\n",
    "n_mismo_salary = len(clientes_mismo_salary)\n",
    "n_con_nan_salary = len(clientes_con_nan_salary)\n",
    "n_mixtos_salary = len(clientes_mixtos_salary)\n",
    "\n",
    "# Mostrar los resultados\n",
    "print(f\"Clientes que tienen siempre el mismo salario: {n_mismo_salary}\")\n",
    "print(f\"Clientes con valores NaN en 'salary' en todas las ingestas: {n_con_nan_salary}\")\n",
    "print(f\"Clientes con valores de salario mixtos, varían con la ingesta de datos (diferentes valores): {n_mixtos_salary}\")"
   ]
  },
  {
   "cell_type": "code",
   "execution_count": 313,
   "metadata": {},
   "outputs": [
    {
     "data": {
      "text/plain": [
       "count    4,450,821.000\n",
       "mean       115,816.724\n",
       "std        199,551.889\n",
       "min          1,202.730\n",
       "25%         61,500.630\n",
       "50%         88,654.650\n",
       "75%        131,669.910\n",
       "max     28,894,395.510\n",
       "Name: salary, dtype: float64"
      ]
     },
     "execution_count": 313,
     "metadata": {},
     "output_type": "execute_result"
    }
   ],
   "source": [
    "df_full[\"salary\"].describe()"
   ]
  },
  {
   "cell_type": "markdown",
   "metadata": {},
   "source": [
    "### Imputación de Nan"
   ]
  },
  {
   "cell_type": "code",
   "execution_count": 314,
   "metadata": {},
   "outputs": [
    {
     "data": {
      "text/plain": [
       "country_id\n",
       "ES    1509864\n",
       "GB        420\n",
       "US        231\n",
       "DE        213\n",
       "FR        212\n",
       "CH        196\n",
       "BR         88\n",
       "BE         86\n",
       "VE         79\n",
       "IE         68\n",
       "MX         65\n",
       "PL         60\n",
       "AT         51\n",
       "AR         51\n",
       "IT         45\n",
       "MA         34\n",
       "CN         28\n",
       "RU         17\n",
       "SA         17\n",
       "LU         17\n",
       "CI         17\n",
       "QA         17\n",
       "DO         17\n",
       "CL         17\n",
       "GT         17\n",
       "ET         17\n",
       "MR         17\n",
       "SN         17\n",
       "GA         17\n",
       "CO         17\n",
       "NO         17\n",
       "CM         17\n",
       "SE         16\n",
       "PT         11\n",
       "DJ         11\n",
       "JM         11\n",
       "HU          8\n",
       "Name: count, dtype: int64"
      ]
     },
     "execution_count": 314,
     "metadata": {},
     "output_type": "execute_result"
    }
   ],
   "source": [
    "# Filtrar los registros donde 'salary' es NaN\n",
    "casos_salary_nan = df_full[df_full['salary'].isna()]\n",
    "\n",
    "casos_salary_nan[\"country_id\"].value_counts()"
   ]
  },
  {
   "cell_type": "markdown",
   "metadata": {},
   "source": [
    "#### Creación Grupos de Edad"
   ]
  },
  {
   "cell_type": "markdown",
   "metadata": {},
   "source": [
    "Como tenemos valores nulos de practicamente todos los países, se me ocurre aplicar el salario mediano pero atendiendo al grupo de edad del sujeto, país de residencia y actividad comercial.  Por tanto, en primer lugar vamos a segmentar en grupos de edad. La segmentación de edades más utilizada suele ser la siguiente:\n",
    "\n",
    "Menores: eGrupo compuesto por personas menores de dieciocho años\n",
    "\n",
    "Jóvenes: El grupo de jóvenes son las personas mayores a dieciocho años y menores de veinticinco años.\n",
    "\n",
    "Adultos jóvenes: Este segmento incluye personas mayores de veinticinco años y menores de cuarenta años.\n",
    "\n",
    "Adultos: Son las personas mayores de cuarenta años y menores a los cincuenta y cinco años.\n",
    "\n",
    "Adultos mayores: Encontramos en este grupo a las personas mayores de cincuenta y cinco años y menores de sesenta y cinco.\n",
    "\n",
    "Ancianos: Son las personas con más sesenta y cinco años y menos de setenta y cinco años.\n",
    "\n",
    "Longevos: Son todas las personas de setenta y cinco años en adelante."
   ]
  },
  {
   "cell_type": "code",
   "execution_count": 315,
   "metadata": {},
   "outputs": [],
   "source": [
    "# Definir función para categorizar según grupos de edad\n",
    "def categorizar_edad(edad):\n",
    "    if edad < 18:\n",
    "        return 'Menores'\n",
    "    elif 18 <= edad < 25:\n",
    "        return 'Jóvenes'\n",
    "    elif 25 <= edad < 40:\n",
    "        return 'Adultos jóvenes'\n",
    "    elif 40 <= edad < 55:\n",
    "        return 'Adultos'\n",
    "    elif 55 <= edad < 65:\n",
    "        return 'Adultos mayores'\n",
    "    elif 65 <= edad < 75:\n",
    "        return 'Ancianos'\n",
    "    else:\n",
    "        return 'Longevos'\n",
    "\n",
    "# Crear nueva columna 'grupo_edad' en el DataFrame\n",
    "df_full['grupo_edad'] = df_full['age'].apply(categorizar_edad)"
   ]
  },
  {
   "cell_type": "code",
   "execution_count": 316,
   "metadata": {},
   "outputs": [
    {
     "data": {
      "text/plain": [
       "grupo_edad\n",
       "Jóvenes            2933039\n",
       "Adultos jóvenes    1963573\n",
       "Adultos             714564\n",
       "Adultos mayores     183589\n",
       "Ancianos             80234\n",
       "Longevos             52072\n",
       "Menores              35853\n",
       "Name: count, dtype: int64"
      ]
     },
     "execution_count": 316,
     "metadata": {},
     "output_type": "execute_result"
    }
   ],
   "source": [
    "df_full['grupo_edad'].value_counts()"
   ]
  },
  {
   "cell_type": "code",
   "execution_count": 317,
   "metadata": {},
   "outputs": [],
   "source": [
    "# Eliminar filas donde 'pk_cid' esté duplicado, quedándote solo con la primera aparición de cada 'pk_cid'\n",
    "df_full_sin_duplicados = df_full.drop_duplicates(subset=['pk_cid'], keep='first')"
   ]
  },
  {
   "cell_type": "code",
   "execution_count": 318,
   "metadata": {},
   "outputs": [
    {
     "data": {
      "text/plain": [
       "(456373, 30)"
      ]
     },
     "execution_count": 318,
     "metadata": {},
     "output_type": "execute_result"
    }
   ],
   "source": [
    "df_full_sin_duplicados.shape"
   ]
  },
  {
   "cell_type": "code",
   "execution_count": 319,
   "metadata": {},
   "outputs": [
    {
     "data": {
      "text/plain": [
       "grupo_edad\n",
       "Jóvenes            226902\n",
       "Adultos jóvenes    143328\n",
       "Adultos             57788\n",
       "Adultos mayores     14889\n",
       "Ancianos             6534\n",
       "Longevos             4137\n",
       "Menores              2795\n",
       "Name: count, dtype: int64"
      ]
     },
     "execution_count": 319,
     "metadata": {},
     "output_type": "execute_result"
    }
   ],
   "source": [
    "df_full_sin_duplicados['grupo_edad'].value_counts()"
   ]
  },
  {
   "cell_type": "code",
   "execution_count": 320,
   "metadata": {},
   "outputs": [
    {
     "data": {
      "text/plain": [
       "126388.32"
      ]
     },
     "execution_count": 320,
     "metadata": {},
     "output_type": "execute_result"
    }
   ],
   "source": [
    "# Filtrar el DataFrame para incluir solo aquellos con 'grupo_edad' igual a 'menores'\n",
    "df_menores = df_full_sin_duplicados[df_full_sin_duplicados['grupo_edad'] == 'Menores']\n",
    "\n",
    "# Calcular la mediana de la columna 'salary' para los menores\n",
    "mediana_salary_menores = df_menores['salary'].median()\n",
    "\n",
    "mediana_salary_menores"
   ]
  },
  {
   "cell_type": "code",
   "execution_count": 321,
   "metadata": {},
   "outputs": [
    {
     "data": {
      "text/plain": [
       "count       1,901.000\n",
       "mean      151,454.329\n",
       "std       105,510.747\n",
       "min         4,559.550\n",
       "25%        87,611.160\n",
       "50%       126,388.320\n",
       "75%       186,018.390\n",
       "max     1,344,774.180\n",
       "Name: salary, dtype: float64"
      ]
     },
     "execution_count": 321,
     "metadata": {},
     "output_type": "execute_result"
    }
   ],
   "source": [
    "df_menores['salary'].describe()"
   ]
  },
  {
   "cell_type": "code",
   "execution_count": 322,
   "metadata": {},
   "outputs": [
    {
     "data": {
      "text/plain": [
       "salary\n",
       "108,644.820    6\n",
       "273,387.540    4\n",
       "53,210.940     4\n",
       "81,222.180     3\n",
       "140,936.250    3\n",
       "              ..\n",
       "118,031.190    1\n",
       "91,338.630     1\n",
       "107,360.160    1\n",
       "71,735.070     1\n",
       "145,731.120    1\n",
       "Name: count, Length: 1490, dtype: int64"
      ]
     },
     "execution_count": 322,
     "metadata": {},
     "output_type": "execute_result"
    }
   ],
   "source": [
    "df_menores['salary'].value_counts()"
   ]
  },
  {
   "cell_type": "code",
   "execution_count": 323,
   "metadata": {},
   "outputs": [
    {
     "data": {
      "text/html": [
       "<div>\n",
       "<style scoped>\n",
       "    .dataframe tbody tr th:only-of-type {\n",
       "        vertical-align: middle;\n",
       "    }\n",
       "\n",
       "    .dataframe tbody tr th {\n",
       "        vertical-align: top;\n",
       "    }\n",
       "\n",
       "    .dataframe thead th {\n",
       "        text-align: right;\n",
       "    }\n",
       "</style>\n",
       "<table border=\"1\" class=\"dataframe\">\n",
       "  <thead>\n",
       "    <tr style=\"text-align: right;\">\n",
       "      <th></th>\n",
       "      <th>pk_cid</th>\n",
       "      <th>pk_partition</th>\n",
       "      <th>entry_date</th>\n",
       "      <th>entry_channel</th>\n",
       "      <th>active_customer</th>\n",
       "      <th>segment</th>\n",
       "      <th>short_term_deposit</th>\n",
       "      <th>loans</th>\n",
       "      <th>mortgage</th>\n",
       "      <th>funds</th>\n",
       "      <th>securities</th>\n",
       "      <th>long_term_deposit</th>\n",
       "      <th>em_account_pp</th>\n",
       "      <th>credit_card</th>\n",
       "      <th>payroll</th>\n",
       "      <th>pension_plan</th>\n",
       "      <th>payroll_account</th>\n",
       "      <th>emc_account</th>\n",
       "      <th>debit_card</th>\n",
       "      <th>em_account_p</th>\n",
       "      <th>em_acount</th>\n",
       "      <th>country_id</th>\n",
       "      <th>region_code</th>\n",
       "      <th>gender</th>\n",
       "      <th>age</th>\n",
       "      <th>deceased</th>\n",
       "      <th>salary</th>\n",
       "      <th>mes_partition</th>\n",
       "      <th>mes_nombre_partition</th>\n",
       "      <th>grupo_edad</th>\n",
       "    </tr>\n",
       "  </thead>\n",
       "  <tbody>\n",
       "    <tr>\n",
       "      <th>1476977</th>\n",
       "      <td>617264</td>\n",
       "      <td>2018-07-28</td>\n",
       "      <td>2018-04-09</td>\n",
       "      <td>NaN</td>\n",
       "      <td>1</td>\n",
       "      <td>NaN</td>\n",
       "      <td>0</td>\n",
       "      <td>0</td>\n",
       "      <td>0</td>\n",
       "      <td>0</td>\n",
       "      <td>0</td>\n",
       "      <td>0</td>\n",
       "      <td>0</td>\n",
       "      <td>0</td>\n",
       "      <td>0.000</td>\n",
       "      <td>0.000</td>\n",
       "      <td>0</td>\n",
       "      <td>0</td>\n",
       "      <td>0</td>\n",
       "      <td>0</td>\n",
       "      <td>0</td>\n",
       "      <td>ES</td>\n",
       "      <td>Madrid</td>\n",
       "      <td>H</td>\n",
       "      <td>13</td>\n",
       "      <td>N</td>\n",
       "      <td>286,573.440</td>\n",
       "      <td>7</td>\n",
       "      <td>July</td>\n",
       "      <td>Menores</td>\n",
       "    </tr>\n",
       "    <tr>\n",
       "      <th>238555</th>\n",
       "      <td>842350</td>\n",
       "      <td>2018-01-28</td>\n",
       "      <td>2015-12-05</td>\n",
       "      <td>KFA</td>\n",
       "      <td>0</td>\n",
       "      <td>02 - PARTICULARES</td>\n",
       "      <td>0</td>\n",
       "      <td>0</td>\n",
       "      <td>0</td>\n",
       "      <td>0</td>\n",
       "      <td>0</td>\n",
       "      <td>0</td>\n",
       "      <td>0</td>\n",
       "      <td>0</td>\n",
       "      <td>0.000</td>\n",
       "      <td>0.000</td>\n",
       "      <td>0</td>\n",
       "      <td>0</td>\n",
       "      <td>0</td>\n",
       "      <td>0</td>\n",
       "      <td>0</td>\n",
       "      <td>ES</td>\n",
       "      <td>Madrid</td>\n",
       "      <td>V</td>\n",
       "      <td>8</td>\n",
       "      <td>N</td>\n",
       "      <td>275,420.460</td>\n",
       "      <td>1</td>\n",
       "      <td>January</td>\n",
       "      <td>Menores</td>\n",
       "    </tr>\n",
       "    <tr>\n",
       "      <th>238647</th>\n",
       "      <td>864627</td>\n",
       "      <td>2018-01-28</td>\n",
       "      <td>2015-06-14</td>\n",
       "      <td>KFA</td>\n",
       "      <td>1</td>\n",
       "      <td>02 - PARTICULARES</td>\n",
       "      <td>0</td>\n",
       "      <td>0</td>\n",
       "      <td>0</td>\n",
       "      <td>0</td>\n",
       "      <td>0</td>\n",
       "      <td>0</td>\n",
       "      <td>0</td>\n",
       "      <td>0</td>\n",
       "      <td>0.000</td>\n",
       "      <td>0.000</td>\n",
       "      <td>0</td>\n",
       "      <td>0</td>\n",
       "      <td>0</td>\n",
       "      <td>0</td>\n",
       "      <td>0</td>\n",
       "      <td>ES</td>\n",
       "      <td>Málaga</td>\n",
       "      <td>V</td>\n",
       "      <td>16</td>\n",
       "      <td>N</td>\n",
       "      <td>130,015.800</td>\n",
       "      <td>1</td>\n",
       "      <td>January</td>\n",
       "      <td>Menores</td>\n",
       "    </tr>\n",
       "    <tr>\n",
       "      <th>1478197</th>\n",
       "      <td>937368</td>\n",
       "      <td>2018-07-28</td>\n",
       "      <td>2015-01-11</td>\n",
       "      <td>KFA</td>\n",
       "      <td>0</td>\n",
       "      <td>02 - PARTICULARES</td>\n",
       "      <td>0</td>\n",
       "      <td>0</td>\n",
       "      <td>0</td>\n",
       "      <td>0</td>\n",
       "      <td>0</td>\n",
       "      <td>0</td>\n",
       "      <td>0</td>\n",
       "      <td>0</td>\n",
       "      <td>0.000</td>\n",
       "      <td>0.000</td>\n",
       "      <td>0</td>\n",
       "      <td>0</td>\n",
       "      <td>0</td>\n",
       "      <td>0</td>\n",
       "      <td>0</td>\n",
       "      <td>ES</td>\n",
       "      <td>Barcelona</td>\n",
       "      <td>H</td>\n",
       "      <td>6</td>\n",
       "      <td>N</td>\n",
       "      <td>109,631.160</td>\n",
       "      <td>7</td>\n",
       "      <td>July</td>\n",
       "      <td>Menores</td>\n",
       "    </tr>\n",
       "    <tr>\n",
       "      <th>83238</th>\n",
       "      <td>970787</td>\n",
       "      <td>2018-01-28</td>\n",
       "      <td>2015-09-05</td>\n",
       "      <td>KFA</td>\n",
       "      <td>1</td>\n",
       "      <td>02 - PARTICULARES</td>\n",
       "      <td>0</td>\n",
       "      <td>0</td>\n",
       "      <td>0</td>\n",
       "      <td>0</td>\n",
       "      <td>0</td>\n",
       "      <td>0</td>\n",
       "      <td>0</td>\n",
       "      <td>0</td>\n",
       "      <td>0.000</td>\n",
       "      <td>0.000</td>\n",
       "      <td>0</td>\n",
       "      <td>0</td>\n",
       "      <td>0</td>\n",
       "      <td>0</td>\n",
       "      <td>0</td>\n",
       "      <td>ES</td>\n",
       "      <td>Madrid</td>\n",
       "      <td>H</td>\n",
       "      <td>14</td>\n",
       "      <td>N</td>\n",
       "      <td>234,170.370</td>\n",
       "      <td>1</td>\n",
       "      <td>January</td>\n",
       "      <td>Menores</td>\n",
       "    </tr>\n",
       "    <tr>\n",
       "      <th>...</th>\n",
       "      <td>...</td>\n",
       "      <td>...</td>\n",
       "      <td>...</td>\n",
       "      <td>...</td>\n",
       "      <td>...</td>\n",
       "      <td>...</td>\n",
       "      <td>...</td>\n",
       "      <td>...</td>\n",
       "      <td>...</td>\n",
       "      <td>...</td>\n",
       "      <td>...</td>\n",
       "      <td>...</td>\n",
       "      <td>...</td>\n",
       "      <td>...</td>\n",
       "      <td>...</td>\n",
       "      <td>...</td>\n",
       "      <td>...</td>\n",
       "      <td>...</td>\n",
       "      <td>...</td>\n",
       "      <td>...</td>\n",
       "      <td>...</td>\n",
       "      <td>...</td>\n",
       "      <td>...</td>\n",
       "      <td>...</td>\n",
       "      <td>...</td>\n",
       "      <td>...</td>\n",
       "      <td>...</td>\n",
       "      <td>...</td>\n",
       "      <td>...</td>\n",
       "      <td>...</td>\n",
       "    </tr>\n",
       "    <tr>\n",
       "      <th>2493568</th>\n",
       "      <td>1453488</td>\n",
       "      <td>2018-09-28</td>\n",
       "      <td>2018-09-17</td>\n",
       "      <td>NaN</td>\n",
       "      <td>0</td>\n",
       "      <td>NaN</td>\n",
       "      <td>0</td>\n",
       "      <td>0</td>\n",
       "      <td>0</td>\n",
       "      <td>0</td>\n",
       "      <td>0</td>\n",
       "      <td>0</td>\n",
       "      <td>0</td>\n",
       "      <td>0</td>\n",
       "      <td>0.000</td>\n",
       "      <td>0.000</td>\n",
       "      <td>0</td>\n",
       "      <td>0</td>\n",
       "      <td>0</td>\n",
       "      <td>0</td>\n",
       "      <td>0</td>\n",
       "      <td>ES</td>\n",
       "      <td>Granada</td>\n",
       "      <td>V</td>\n",
       "      <td>12</td>\n",
       "      <td>N</td>\n",
       "      <td>60,671.040</td>\n",
       "      <td>9</td>\n",
       "      <td>September</td>\n",
       "      <td>Menores</td>\n",
       "    </tr>\n",
       "    <tr>\n",
       "      <th>2493678</th>\n",
       "      <td>1453671</td>\n",
       "      <td>2018-09-28</td>\n",
       "      <td>2018-09-18</td>\n",
       "      <td>NaN</td>\n",
       "      <td>0</td>\n",
       "      <td>NaN</td>\n",
       "      <td>0</td>\n",
       "      <td>0</td>\n",
       "      <td>0</td>\n",
       "      <td>0</td>\n",
       "      <td>0</td>\n",
       "      <td>0</td>\n",
       "      <td>0</td>\n",
       "      <td>0</td>\n",
       "      <td>0.000</td>\n",
       "      <td>0.000</td>\n",
       "      <td>0</td>\n",
       "      <td>0</td>\n",
       "      <td>0</td>\n",
       "      <td>0</td>\n",
       "      <td>0</td>\n",
       "      <td>ES</td>\n",
       "      <td>Segovia</td>\n",
       "      <td>V</td>\n",
       "      <td>10</td>\n",
       "      <td>N</td>\n",
       "      <td>74,837.490</td>\n",
       "      <td>9</td>\n",
       "      <td>September</td>\n",
       "      <td>Menores</td>\n",
       "    </tr>\n",
       "    <tr>\n",
       "      <th>2493671</th>\n",
       "      <td>1453707</td>\n",
       "      <td>2018-09-28</td>\n",
       "      <td>2018-09-18</td>\n",
       "      <td>NaN</td>\n",
       "      <td>1</td>\n",
       "      <td>NaN</td>\n",
       "      <td>0</td>\n",
       "      <td>0</td>\n",
       "      <td>0</td>\n",
       "      <td>0</td>\n",
       "      <td>0</td>\n",
       "      <td>0</td>\n",
       "      <td>0</td>\n",
       "      <td>0</td>\n",
       "      <td>0.000</td>\n",
       "      <td>0.000</td>\n",
       "      <td>0</td>\n",
       "      <td>0</td>\n",
       "      <td>0</td>\n",
       "      <td>0</td>\n",
       "      <td>0</td>\n",
       "      <td>ES</td>\n",
       "      <td>Madrid</td>\n",
       "      <td>V</td>\n",
       "      <td>4</td>\n",
       "      <td>N</td>\n",
       "      <td>61,097.040</td>\n",
       "      <td>9</td>\n",
       "      <td>September</td>\n",
       "      <td>Menores</td>\n",
       "    </tr>\n",
       "    <tr>\n",
       "      <th>2508202</th>\n",
       "      <td>1453988</td>\n",
       "      <td>2018-09-28</td>\n",
       "      <td>2018-09-18</td>\n",
       "      <td>NaN</td>\n",
       "      <td>0</td>\n",
       "      <td>NaN</td>\n",
       "      <td>0</td>\n",
       "      <td>0</td>\n",
       "      <td>0</td>\n",
       "      <td>0</td>\n",
       "      <td>0</td>\n",
       "      <td>0</td>\n",
       "      <td>0</td>\n",
       "      <td>0</td>\n",
       "      <td>0.000</td>\n",
       "      <td>0.000</td>\n",
       "      <td>0</td>\n",
       "      <td>0</td>\n",
       "      <td>0</td>\n",
       "      <td>0</td>\n",
       "      <td>0</td>\n",
       "      <td>ES</td>\n",
       "      <td>Madrid</td>\n",
       "      <td>V</td>\n",
       "      <td>10</td>\n",
       "      <td>N</td>\n",
       "      <td>100,846.050</td>\n",
       "      <td>9</td>\n",
       "      <td>September</td>\n",
       "      <td>Menores</td>\n",
       "    </tr>\n",
       "    <tr>\n",
       "      <th>2508039</th>\n",
       "      <td>1454513</td>\n",
       "      <td>2018-09-28</td>\n",
       "      <td>2018-09-18</td>\n",
       "      <td>NaN</td>\n",
       "      <td>1</td>\n",
       "      <td>NaN</td>\n",
       "      <td>0</td>\n",
       "      <td>0</td>\n",
       "      <td>0</td>\n",
       "      <td>0</td>\n",
       "      <td>0</td>\n",
       "      <td>0</td>\n",
       "      <td>0</td>\n",
       "      <td>0</td>\n",
       "      <td>0.000</td>\n",
       "      <td>0.000</td>\n",
       "      <td>0</td>\n",
       "      <td>0</td>\n",
       "      <td>0</td>\n",
       "      <td>0</td>\n",
       "      <td>0</td>\n",
       "      <td>ES</td>\n",
       "      <td>Madrid</td>\n",
       "      <td>V</td>\n",
       "      <td>11</td>\n",
       "      <td>N</td>\n",
       "      <td>145,731.120</td>\n",
       "      <td>9</td>\n",
       "      <td>September</td>\n",
       "      <td>Menores</td>\n",
       "    </tr>\n",
       "  </tbody>\n",
       "</table>\n",
       "<p>1901 rows × 30 columns</p>\n",
       "</div>"
      ],
      "text/plain": [
       "          pk_cid pk_partition entry_date entry_channel  active_customer  \\\n",
       "1476977   617264   2018-07-28 2018-04-09           NaN                1   \n",
       "238555    842350   2018-01-28 2015-12-05           KFA                0   \n",
       "238647    864627   2018-01-28 2015-06-14           KFA                1   \n",
       "1478197   937368   2018-07-28 2015-01-11           KFA                0   \n",
       "83238     970787   2018-01-28 2015-09-05           KFA                1   \n",
       "...          ...          ...        ...           ...              ...   \n",
       "2493568  1453488   2018-09-28 2018-09-17           NaN                0   \n",
       "2493678  1453671   2018-09-28 2018-09-18           NaN                0   \n",
       "2493671  1453707   2018-09-28 2018-09-18           NaN                1   \n",
       "2508202  1453988   2018-09-28 2018-09-18           NaN                0   \n",
       "2508039  1454513   2018-09-28 2018-09-18           NaN                1   \n",
       "\n",
       "                   segment  short_term_deposit  loans  mortgage  funds  \\\n",
       "1476977                NaN                   0      0         0      0   \n",
       "238555   02 - PARTICULARES                   0      0         0      0   \n",
       "238647   02 - PARTICULARES                   0      0         0      0   \n",
       "1478197  02 - PARTICULARES                   0      0         0      0   \n",
       "83238    02 - PARTICULARES                   0      0         0      0   \n",
       "...                    ...                 ...    ...       ...    ...   \n",
       "2493568                NaN                   0      0         0      0   \n",
       "2493678                NaN                   0      0         0      0   \n",
       "2493671                NaN                   0      0         0      0   \n",
       "2508202                NaN                   0      0         0      0   \n",
       "2508039                NaN                   0      0         0      0   \n",
       "\n",
       "         securities  long_term_deposit  em_account_pp  credit_card  payroll  \\\n",
       "1476977           0                  0              0            0    0.000   \n",
       "238555            0                  0              0            0    0.000   \n",
       "238647            0                  0              0            0    0.000   \n",
       "1478197           0                  0              0            0    0.000   \n",
       "83238             0                  0              0            0    0.000   \n",
       "...             ...                ...            ...          ...      ...   \n",
       "2493568           0                  0              0            0    0.000   \n",
       "2493678           0                  0              0            0    0.000   \n",
       "2493671           0                  0              0            0    0.000   \n",
       "2508202           0                  0              0            0    0.000   \n",
       "2508039           0                  0              0            0    0.000   \n",
       "\n",
       "         pension_plan  payroll_account  emc_account  debit_card  em_account_p  \\\n",
       "1476977         0.000                0            0           0             0   \n",
       "238555          0.000                0            0           0             0   \n",
       "238647          0.000                0            0           0             0   \n",
       "1478197         0.000                0            0           0             0   \n",
       "83238           0.000                0            0           0             0   \n",
       "...               ...              ...          ...         ...           ...   \n",
       "2493568         0.000                0            0           0             0   \n",
       "2493678         0.000                0            0           0             0   \n",
       "2493671         0.000                0            0           0             0   \n",
       "2508202         0.000                0            0           0             0   \n",
       "2508039         0.000                0            0           0             0   \n",
       "\n",
       "         em_acount country_id region_code gender  age deceased      salary  \\\n",
       "1476977          0         ES      Madrid      H   13        N 286,573.440   \n",
       "238555           0         ES      Madrid      V    8        N 275,420.460   \n",
       "238647           0         ES      Málaga      V   16        N 130,015.800   \n",
       "1478197          0         ES   Barcelona      H    6        N 109,631.160   \n",
       "83238            0         ES      Madrid      H   14        N 234,170.370   \n",
       "...            ...        ...         ...    ...  ...      ...         ...   \n",
       "2493568          0         ES     Granada      V   12        N  60,671.040   \n",
       "2493678          0         ES     Segovia      V   10        N  74,837.490   \n",
       "2493671          0         ES      Madrid      V    4        N  61,097.040   \n",
       "2508202          0         ES      Madrid      V   10        N 100,846.050   \n",
       "2508039          0         ES      Madrid      V   11        N 145,731.120   \n",
       "\n",
       "         mes_partition mes_nombre_partition grupo_edad  \n",
       "1476977              7                 July    Menores  \n",
       "238555               1              January    Menores  \n",
       "238647               1              January    Menores  \n",
       "1478197              7                 July    Menores  \n",
       "83238                1              January    Menores  \n",
       "...                ...                  ...        ...  \n",
       "2493568              9            September    Menores  \n",
       "2493678              9            September    Menores  \n",
       "2493671              9            September    Menores  \n",
       "2508202              9            September    Menores  \n",
       "2508039              9            September    Menores  \n",
       "\n",
       "[1901 rows x 30 columns]"
      ]
     },
     "execution_count": 323,
     "metadata": {},
     "output_type": "execute_result"
    }
   ],
   "source": [
    "# Filtrar las filas donde 'salary' no es null\n",
    "df_menores_sin_na_salary = df_menores[df_menores['salary'].notna()]\n",
    "\n",
    "df_menores_sin_na_salary"
   ]
  },
  {
   "cell_type": "markdown",
   "metadata": {},
   "source": [
    "Vamos a hacer que la variable grupo edad sea constante para cada individuo, ya que entendemos que un cambio de grupo en un periodo de 3 años no va a suponer un cambio determinante en el patrón de comportamiento de cada cliente, además, si en ese periodo ha cambiado de un segmento a otro, entonces, quiere decir que estaba mucho más próximo al último grupo en cuestión"
   ]
  },
  {
   "cell_type": "code",
   "execution_count": 324,
   "metadata": {},
   "outputs": [],
   "source": [
    "# Agrupar por 'pk_cid' y obtener el último valor de 'grupo_edad' para cada 'pk_cid'\n",
    "ultimo_grupo_edad = df_full.groupby('pk_cid')['grupo_edad'].last().reset_index()\n",
    "\n",
    "# Renombrar la columna 'grupo_edad' en el DataFrame resultante para hacer el merge\n",
    "ultimo_grupo_edad.rename(columns={'grupo_edad': 'ultimo_grupo_edad'}, inplace=True)\n",
    "\n",
    "# Hacer un merge del DataFrame original con el DataFrame de los últimos valores\n",
    "df_full = df_full.merge(ultimo_grupo_edad, on='pk_cid', how='left')\n",
    "\n",
    "# Actualizar la columna 'grupo_edad' con el último valor registrado\n",
    "df_full['grupo_edad'] = df_full['ultimo_grupo_edad']\n",
    "\n",
    "# Eliminar la columna temporal\n",
    "df_full.drop(columns=['ultimo_grupo_edad'], inplace=True)"
   ]
  },
  {
   "cell_type": "code",
   "execution_count": 325,
   "metadata": {},
   "outputs": [
    {
     "data": {
      "text/plain": [
       "count    4,450,821.000\n",
       "mean       115,816.724\n",
       "std        199,551.889\n",
       "min          1,202.730\n",
       "25%         61,500.630\n",
       "50%         88,654.650\n",
       "75%        131,669.910\n",
       "max     28,894,395.510\n",
       "Name: salary, dtype: float64"
      ]
     },
     "execution_count": 325,
     "metadata": {},
     "output_type": "execute_result"
    }
   ],
   "source": [
    "df_full['salary'].describe()"
   ]
  },
  {
   "cell_type": "markdown",
   "metadata": {},
   "source": [
    "Ahora que tenemos los grupos de edad definidos, podemos proceder a imputar los valores nulos de salary usando la mediana del salario dentro de cada segmento."
   ]
  },
  {
   "cell_type": "code",
   "execution_count": 326,
   "metadata": {},
   "outputs": [],
   "source": [
    "# Reemplazar los valores NaN en la columna 'Segment' con '03 - UNIVERSITARIO'\n",
    "df_full['segment'] = df_full['segment'].fillna('03 - UNIVERSITARIO')\n",
    "\n",
    "#!!!!(Importante aquí calculamos la mediana sobre el conjunto sin duplicados, si no afecta a la mediana)!!!\n",
    "# Calcular la mediana de 'salary' para cada combinación de país, región, grupo de edad y actividad comercial\n",
    "mediana_salary = df_full_sin_duplicados.groupby(['country_id', 'grupo_edad', 'segment', 'region_code'])['salary'].median()\n",
    "\n",
    "# Imputar los valores nulos de 'salary' con la mediana correspondiente\n",
    "df_full['salary'] = df_full.apply(\n",
    "    lambda row: mediana_salary[row['country_id'], row['grupo_edad'], row['segment'], row['region_code']]\n",
    "    if pd.isna(row['salary']) else row['salary'], axis=1\n",
    ")"
   ]
  },
  {
   "cell_type": "code",
   "execution_count": 327,
   "metadata": {},
   "outputs": [],
   "source": [
    "#!!!!(Importante aquí calculamos la mediana sobre el conjunto sin duplicados, si no afecta a la mediana)!!!\n",
    "# Calcular la mediana de 'salary' para cada combinación de país, grupo de edad y actividad comercial\n",
    "mediana_salary = df_full_sin_duplicados.groupby(['country_id', 'grupo_edad', 'segment'])['salary'].median()\n",
    "\n",
    "# Imputar los valores nulos de 'salary' con la mediana correspondiente\n",
    "df_full['salary'] = df_full.apply(\n",
    "    lambda row: mediana_salary[row['country_id'], row['grupo_edad'], row['segment']]\n",
    "    if pd.isna(row['salary']) else row['salary'], axis=1\n",
    ")"
   ]
  },
  {
   "cell_type": "code",
   "execution_count": 328,
   "metadata": {},
   "outputs": [
    {
     "data": {
      "text/plain": [
       "count    5,960,140.000\n",
       "mean       110,032.635\n",
       "std        173,419.761\n",
       "min          1,202.730\n",
       "25%         65,823.870\n",
       "50%         87,875.100\n",
       "75%        125,161.530\n",
       "max     28,894,395.510\n",
       "Name: salary, dtype: float64"
      ]
     },
     "execution_count": 328,
     "metadata": {},
     "output_type": "execute_result"
    }
   ],
   "source": [
    "df_full[\"salary\"].describe()"
   ]
  },
  {
   "cell_type": "markdown",
   "metadata": {},
   "source": [
    "Categorizar edades:\n",
    "\n",
    "La función categorizar_edad toma la edad y la clasifica en uno de los grupos definidos.\n",
    "\n",
    "Luego, apply se utiliza para aplicar esta función a la columna age, creando una nueva columna grupo_edad en el DataFrame.\n",
    "\n",
    "Calcular mediana:\n",
    "\n",
    "groupby se utiliza para agrupar los datos por país (country_id), región (region_code), grupo de edad (grupo_edad), y actividad comercial (segment).\n",
    "\n",
    "La mediana del salario para cada grupo se calcula y se almacena en mediana_salary.\n",
    "\n",
    "Imputación:\n",
    "\n",
    "Para cada fila, si el salario es nulo (NaN), se reemplaza con la mediana correspondiente calculada en el paso anterior."
   ]
  },
  {
   "cell_type": "code",
   "execution_count": 329,
   "metadata": {},
   "outputs": [
    {
     "data": {
      "text/html": [
       "<div>\n",
       "<style scoped>\n",
       "    .dataframe tbody tr th:only-of-type {\n",
       "        vertical-align: middle;\n",
       "    }\n",
       "\n",
       "    .dataframe tbody tr th {\n",
       "        vertical-align: top;\n",
       "    }\n",
       "\n",
       "    .dataframe thead th {\n",
       "        text-align: right;\n",
       "    }\n",
       "</style>\n",
       "<table border=\"1\" class=\"dataframe\">\n",
       "  <thead>\n",
       "    <tr style=\"text-align: right;\">\n",
       "      <th></th>\n",
       "      <th>pk_cid</th>\n",
       "      <th>pk_partition</th>\n",
       "      <th>entry_date</th>\n",
       "      <th>entry_channel</th>\n",
       "      <th>active_customer</th>\n",
       "      <th>segment</th>\n",
       "      <th>short_term_deposit</th>\n",
       "      <th>loans</th>\n",
       "      <th>mortgage</th>\n",
       "      <th>funds</th>\n",
       "      <th>securities</th>\n",
       "      <th>long_term_deposit</th>\n",
       "      <th>em_account_pp</th>\n",
       "      <th>credit_card</th>\n",
       "      <th>payroll</th>\n",
       "      <th>pension_plan</th>\n",
       "      <th>payroll_account</th>\n",
       "      <th>emc_account</th>\n",
       "      <th>debit_card</th>\n",
       "      <th>em_account_p</th>\n",
       "      <th>em_acount</th>\n",
       "      <th>country_id</th>\n",
       "      <th>region_code</th>\n",
       "      <th>gender</th>\n",
       "      <th>age</th>\n",
       "      <th>deceased</th>\n",
       "      <th>salary</th>\n",
       "      <th>mes_partition</th>\n",
       "      <th>mes_nombre_partition</th>\n",
       "      <th>grupo_edad</th>\n",
       "    </tr>\n",
       "  </thead>\n",
       "  <tbody>\n",
       "    <tr>\n",
       "      <th>6057</th>\n",
       "      <td>130419</td>\n",
       "      <td>2018-02-28</td>\n",
       "      <td>2017-12-31</td>\n",
       "      <td>KAT</td>\n",
       "      <td>0</td>\n",
       "      <td>02 - PARTICULARES</td>\n",
       "      <td>0</td>\n",
       "      <td>0</td>\n",
       "      <td>0</td>\n",
       "      <td>0</td>\n",
       "      <td>0</td>\n",
       "      <td>0</td>\n",
       "      <td>0</td>\n",
       "      <td>1</td>\n",
       "      <td>0.000</td>\n",
       "      <td>0.000</td>\n",
       "      <td>0</td>\n",
       "      <td>0</td>\n",
       "      <td>0</td>\n",
       "      <td>0</td>\n",
       "      <td>0</td>\n",
       "      <td>US</td>\n",
       "      <td>Extranjero</td>\n",
       "      <td>V</td>\n",
       "      <td>53</td>\n",
       "      <td>N</td>\n",
       "      <td>NaN</td>\n",
       "      <td>2</td>\n",
       "      <td>February</td>\n",
       "      <td>Adultos</td>\n",
       "    </tr>\n",
       "    <tr>\n",
       "      <th>6058</th>\n",
       "      <td>130419</td>\n",
       "      <td>2018-03-28</td>\n",
       "      <td>2017-12-31</td>\n",
       "      <td>KAT</td>\n",
       "      <td>0</td>\n",
       "      <td>02 - PARTICULARES</td>\n",
       "      <td>0</td>\n",
       "      <td>0</td>\n",
       "      <td>0</td>\n",
       "      <td>0</td>\n",
       "      <td>0</td>\n",
       "      <td>0</td>\n",
       "      <td>0</td>\n",
       "      <td>0</td>\n",
       "      <td>0.000</td>\n",
       "      <td>0.000</td>\n",
       "      <td>0</td>\n",
       "      <td>0</td>\n",
       "      <td>0</td>\n",
       "      <td>0</td>\n",
       "      <td>0</td>\n",
       "      <td>US</td>\n",
       "      <td>Extranjero</td>\n",
       "      <td>V</td>\n",
       "      <td>53</td>\n",
       "      <td>N</td>\n",
       "      <td>NaN</td>\n",
       "      <td>3</td>\n",
       "      <td>March</td>\n",
       "      <td>Adultos</td>\n",
       "    </tr>\n",
       "    <tr>\n",
       "      <th>6059</th>\n",
       "      <td>130419</td>\n",
       "      <td>2018-04-28</td>\n",
       "      <td>2017-12-31</td>\n",
       "      <td>KAT</td>\n",
       "      <td>0</td>\n",
       "      <td>02 - PARTICULARES</td>\n",
       "      <td>0</td>\n",
       "      <td>0</td>\n",
       "      <td>0</td>\n",
       "      <td>0</td>\n",
       "      <td>0</td>\n",
       "      <td>0</td>\n",
       "      <td>0</td>\n",
       "      <td>1</td>\n",
       "      <td>0.000</td>\n",
       "      <td>0.000</td>\n",
       "      <td>0</td>\n",
       "      <td>0</td>\n",
       "      <td>0</td>\n",
       "      <td>0</td>\n",
       "      <td>0</td>\n",
       "      <td>US</td>\n",
       "      <td>Extranjero</td>\n",
       "      <td>V</td>\n",
       "      <td>53</td>\n",
       "      <td>N</td>\n",
       "      <td>NaN</td>\n",
       "      <td>4</td>\n",
       "      <td>April</td>\n",
       "      <td>Adultos</td>\n",
       "    </tr>\n",
       "    <tr>\n",
       "      <th>6060</th>\n",
       "      <td>130419</td>\n",
       "      <td>2018-05-28</td>\n",
       "      <td>2017-12-31</td>\n",
       "      <td>KAT</td>\n",
       "      <td>0</td>\n",
       "      <td>02 - PARTICULARES</td>\n",
       "      <td>0</td>\n",
       "      <td>0</td>\n",
       "      <td>0</td>\n",
       "      <td>0</td>\n",
       "      <td>0</td>\n",
       "      <td>0</td>\n",
       "      <td>0</td>\n",
       "      <td>0</td>\n",
       "      <td>0.000</td>\n",
       "      <td>0.000</td>\n",
       "      <td>0</td>\n",
       "      <td>0</td>\n",
       "      <td>0</td>\n",
       "      <td>0</td>\n",
       "      <td>0</td>\n",
       "      <td>US</td>\n",
       "      <td>Extranjero</td>\n",
       "      <td>V</td>\n",
       "      <td>53</td>\n",
       "      <td>N</td>\n",
       "      <td>NaN</td>\n",
       "      <td>5</td>\n",
       "      <td>May</td>\n",
       "      <td>Adultos</td>\n",
       "    </tr>\n",
       "    <tr>\n",
       "      <th>6061</th>\n",
       "      <td>130419</td>\n",
       "      <td>2018-07-28</td>\n",
       "      <td>2017-12-31</td>\n",
       "      <td>KAT</td>\n",
       "      <td>0</td>\n",
       "      <td>02 - PARTICULARES</td>\n",
       "      <td>0</td>\n",
       "      <td>0</td>\n",
       "      <td>0</td>\n",
       "      <td>0</td>\n",
       "      <td>0</td>\n",
       "      <td>0</td>\n",
       "      <td>0</td>\n",
       "      <td>0</td>\n",
       "      <td>0.000</td>\n",
       "      <td>0.000</td>\n",
       "      <td>0</td>\n",
       "      <td>0</td>\n",
       "      <td>0</td>\n",
       "      <td>0</td>\n",
       "      <td>0</td>\n",
       "      <td>US</td>\n",
       "      <td>Extranjero</td>\n",
       "      <td>V</td>\n",
       "      <td>53</td>\n",
       "      <td>N</td>\n",
       "      <td>NaN</td>\n",
       "      <td>7</td>\n",
       "      <td>July</td>\n",
       "      <td>Adultos</td>\n",
       "    </tr>\n",
       "    <tr>\n",
       "      <th>...</th>\n",
       "      <td>...</td>\n",
       "      <td>...</td>\n",
       "      <td>...</td>\n",
       "      <td>...</td>\n",
       "      <td>...</td>\n",
       "      <td>...</td>\n",
       "      <td>...</td>\n",
       "      <td>...</td>\n",
       "      <td>...</td>\n",
       "      <td>...</td>\n",
       "      <td>...</td>\n",
       "      <td>...</td>\n",
       "      <td>...</td>\n",
       "      <td>...</td>\n",
       "      <td>...</td>\n",
       "      <td>...</td>\n",
       "      <td>...</td>\n",
       "      <td>...</td>\n",
       "      <td>...</td>\n",
       "      <td>...</td>\n",
       "      <td>...</td>\n",
       "      <td>...</td>\n",
       "      <td>...</td>\n",
       "      <td>...</td>\n",
       "      <td>...</td>\n",
       "      <td>...</td>\n",
       "      <td>...</td>\n",
       "      <td>...</td>\n",
       "      <td>...</td>\n",
       "      <td>...</td>\n",
       "    </tr>\n",
       "    <tr>\n",
       "      <th>5962243</th>\n",
       "      <td>1552805</td>\n",
       "      <td>2019-05-28</td>\n",
       "      <td>2019-05-26</td>\n",
       "      <td>NaN</td>\n",
       "      <td>0</td>\n",
       "      <td>03 - UNIVERSITARIO</td>\n",
       "      <td>0</td>\n",
       "      <td>0</td>\n",
       "      <td>0</td>\n",
       "      <td>0</td>\n",
       "      <td>0</td>\n",
       "      <td>0</td>\n",
       "      <td>0</td>\n",
       "      <td>0</td>\n",
       "      <td>0.000</td>\n",
       "      <td>0.000</td>\n",
       "      <td>0</td>\n",
       "      <td>0</td>\n",
       "      <td>0</td>\n",
       "      <td>0</td>\n",
       "      <td>0</td>\n",
       "      <td>ES</td>\n",
       "      <td>Madrid</td>\n",
       "      <td>V</td>\n",
       "      <td>2</td>\n",
       "      <td>N</td>\n",
       "      <td>NaN</td>\n",
       "      <td>5</td>\n",
       "      <td>May</td>\n",
       "      <td>Menores</td>\n",
       "    </tr>\n",
       "    <tr>\n",
       "      <th>5962284</th>\n",
       "      <td>1552858</td>\n",
       "      <td>2019-05-28</td>\n",
       "      <td>2019-05-26</td>\n",
       "      <td>NaN</td>\n",
       "      <td>1</td>\n",
       "      <td>03 - UNIVERSITARIO</td>\n",
       "      <td>0</td>\n",
       "      <td>0</td>\n",
       "      <td>0</td>\n",
       "      <td>0</td>\n",
       "      <td>0</td>\n",
       "      <td>0</td>\n",
       "      <td>0</td>\n",
       "      <td>0</td>\n",
       "      <td>0.000</td>\n",
       "      <td>0.000</td>\n",
       "      <td>0</td>\n",
       "      <td>0</td>\n",
       "      <td>0</td>\n",
       "      <td>0</td>\n",
       "      <td>0</td>\n",
       "      <td>ES</td>\n",
       "      <td>Santa Cruz de Tenerife</td>\n",
       "      <td>V</td>\n",
       "      <td>11</td>\n",
       "      <td>N</td>\n",
       "      <td>NaN</td>\n",
       "      <td>5</td>\n",
       "      <td>May</td>\n",
       "      <td>Menores</td>\n",
       "    </tr>\n",
       "    <tr>\n",
       "      <th>5962565</th>\n",
       "      <td>1553226</td>\n",
       "      <td>2019-05-28</td>\n",
       "      <td>2019-05-30</td>\n",
       "      <td>NaN</td>\n",
       "      <td>0</td>\n",
       "      <td>03 - UNIVERSITARIO</td>\n",
       "      <td>0</td>\n",
       "      <td>0</td>\n",
       "      <td>0</td>\n",
       "      <td>0</td>\n",
       "      <td>0</td>\n",
       "      <td>0</td>\n",
       "      <td>0</td>\n",
       "      <td>0</td>\n",
       "      <td>0.000</td>\n",
       "      <td>0.000</td>\n",
       "      <td>0</td>\n",
       "      <td>0</td>\n",
       "      <td>0</td>\n",
       "      <td>0</td>\n",
       "      <td>0</td>\n",
       "      <td>ES</td>\n",
       "      <td>Sevilla</td>\n",
       "      <td>H</td>\n",
       "      <td>9</td>\n",
       "      <td>N</td>\n",
       "      <td>NaN</td>\n",
       "      <td>5</td>\n",
       "      <td>May</td>\n",
       "      <td>Menores</td>\n",
       "    </tr>\n",
       "    <tr>\n",
       "      <th>5962610</th>\n",
       "      <td>1553282</td>\n",
       "      <td>2019-05-28</td>\n",
       "      <td>2019-05-30</td>\n",
       "      <td>NaN</td>\n",
       "      <td>0</td>\n",
       "      <td>03 - UNIVERSITARIO</td>\n",
       "      <td>0</td>\n",
       "      <td>0</td>\n",
       "      <td>0</td>\n",
       "      <td>0</td>\n",
       "      <td>0</td>\n",
       "      <td>0</td>\n",
       "      <td>0</td>\n",
       "      <td>0</td>\n",
       "      <td>0.000</td>\n",
       "      <td>0.000</td>\n",
       "      <td>0</td>\n",
       "      <td>0</td>\n",
       "      <td>0</td>\n",
       "      <td>0</td>\n",
       "      <td>0</td>\n",
       "      <td>ES</td>\n",
       "      <td>Tarragona</td>\n",
       "      <td>H</td>\n",
       "      <td>4</td>\n",
       "      <td>N</td>\n",
       "      <td>NaN</td>\n",
       "      <td>5</td>\n",
       "      <td>May</td>\n",
       "      <td>Menores</td>\n",
       "    </tr>\n",
       "    <tr>\n",
       "      <th>5962816</th>\n",
       "      <td>1553550</td>\n",
       "      <td>2019-05-28</td>\n",
       "      <td>2019-05-31</td>\n",
       "      <td>NaN</td>\n",
       "      <td>0</td>\n",
       "      <td>03 - UNIVERSITARIO</td>\n",
       "      <td>0</td>\n",
       "      <td>0</td>\n",
       "      <td>0</td>\n",
       "      <td>0</td>\n",
       "      <td>0</td>\n",
       "      <td>0</td>\n",
       "      <td>0</td>\n",
       "      <td>0</td>\n",
       "      <td>0.000</td>\n",
       "      <td>0.000</td>\n",
       "      <td>0</td>\n",
       "      <td>0</td>\n",
       "      <td>0</td>\n",
       "      <td>0</td>\n",
       "      <td>0</td>\n",
       "      <td>ES</td>\n",
       "      <td>Barcelona</td>\n",
       "      <td>H</td>\n",
       "      <td>6</td>\n",
       "      <td>N</td>\n",
       "      <td>NaN</td>\n",
       "      <td>5</td>\n",
       "      <td>May</td>\n",
       "      <td>Menores</td>\n",
       "    </tr>\n",
       "  </tbody>\n",
       "</table>\n",
       "<p>2784 rows × 30 columns</p>\n",
       "</div>"
      ],
      "text/plain": [
       "          pk_cid pk_partition entry_date entry_channel  active_customer  \\\n",
       "6057      130419   2018-02-28 2017-12-31           KAT                0   \n",
       "6058      130419   2018-03-28 2017-12-31           KAT                0   \n",
       "6059      130419   2018-04-28 2017-12-31           KAT                0   \n",
       "6060      130419   2018-05-28 2017-12-31           KAT                0   \n",
       "6061      130419   2018-07-28 2017-12-31           KAT                0   \n",
       "...          ...          ...        ...           ...              ...   \n",
       "5962243  1552805   2019-05-28 2019-05-26           NaN                0   \n",
       "5962284  1552858   2019-05-28 2019-05-26           NaN                1   \n",
       "5962565  1553226   2019-05-28 2019-05-30           NaN                0   \n",
       "5962610  1553282   2019-05-28 2019-05-30           NaN                0   \n",
       "5962816  1553550   2019-05-28 2019-05-31           NaN                0   \n",
       "\n",
       "                    segment  short_term_deposit  loans  mortgage  funds  \\\n",
       "6057      02 - PARTICULARES                   0      0         0      0   \n",
       "6058      02 - PARTICULARES                   0      0         0      0   \n",
       "6059      02 - PARTICULARES                   0      0         0      0   \n",
       "6060      02 - PARTICULARES                   0      0         0      0   \n",
       "6061      02 - PARTICULARES                   0      0         0      0   \n",
       "...                     ...                 ...    ...       ...    ...   \n",
       "5962243  03 - UNIVERSITARIO                   0      0         0      0   \n",
       "5962284  03 - UNIVERSITARIO                   0      0         0      0   \n",
       "5962565  03 - UNIVERSITARIO                   0      0         0      0   \n",
       "5962610  03 - UNIVERSITARIO                   0      0         0      0   \n",
       "5962816  03 - UNIVERSITARIO                   0      0         0      0   \n",
       "\n",
       "         securities  long_term_deposit  em_account_pp  credit_card  payroll  \\\n",
       "6057              0                  0              0            1    0.000   \n",
       "6058              0                  0              0            0    0.000   \n",
       "6059              0                  0              0            1    0.000   \n",
       "6060              0                  0              0            0    0.000   \n",
       "6061              0                  0              0            0    0.000   \n",
       "...             ...                ...            ...          ...      ...   \n",
       "5962243           0                  0              0            0    0.000   \n",
       "5962284           0                  0              0            0    0.000   \n",
       "5962565           0                  0              0            0    0.000   \n",
       "5962610           0                  0              0            0    0.000   \n",
       "5962816           0                  0              0            0    0.000   \n",
       "\n",
       "         pension_plan  payroll_account  emc_account  debit_card  em_account_p  \\\n",
       "6057            0.000                0            0           0             0   \n",
       "6058            0.000                0            0           0             0   \n",
       "6059            0.000                0            0           0             0   \n",
       "6060            0.000                0            0           0             0   \n",
       "6061            0.000                0            0           0             0   \n",
       "...               ...              ...          ...         ...           ...   \n",
       "5962243         0.000                0            0           0             0   \n",
       "5962284         0.000                0            0           0             0   \n",
       "5962565         0.000                0            0           0             0   \n",
       "5962610         0.000                0            0           0             0   \n",
       "5962816         0.000                0            0           0             0   \n",
       "\n",
       "         em_acount country_id             region_code gender  age deceased  \\\n",
       "6057             0         US              Extranjero      V   53        N   \n",
       "6058             0         US              Extranjero      V   53        N   \n",
       "6059             0         US              Extranjero      V   53        N   \n",
       "6060             0         US              Extranjero      V   53        N   \n",
       "6061             0         US              Extranjero      V   53        N   \n",
       "...            ...        ...                     ...    ...  ...      ...   \n",
       "5962243          0         ES                  Madrid      V    2        N   \n",
       "5962284          0         ES  Santa Cruz de Tenerife      V   11        N   \n",
       "5962565          0         ES                 Sevilla      H    9        N   \n",
       "5962610          0         ES               Tarragona      H    4        N   \n",
       "5962816          0         ES               Barcelona      H    6        N   \n",
       "\n",
       "         salary  mes_partition mes_nombre_partition grupo_edad  \n",
       "6057        NaN              2             February    Adultos  \n",
       "6058        NaN              3                March    Adultos  \n",
       "6059        NaN              4                April    Adultos  \n",
       "6060        NaN              5                  May    Adultos  \n",
       "6061        NaN              7                 July    Adultos  \n",
       "...         ...            ...                  ...        ...  \n",
       "5962243     NaN              5                  May    Menores  \n",
       "5962284     NaN              5                  May    Menores  \n",
       "5962565     NaN              5                  May    Menores  \n",
       "5962610     NaN              5                  May    Menores  \n",
       "5962816     NaN              5                  May    Menores  \n",
       "\n",
       "[2784 rows x 30 columns]"
      ]
     },
     "execution_count": 329,
     "metadata": {},
     "output_type": "execute_result"
    }
   ],
   "source": [
    "# Filtrar los registros donde 'salary' es NaN\n",
    "casos_salary_nan = df_full[df_full['salary'].isna()]\n",
    "\n",
    "# Mostrar los casos con 'salary' como NaN\n",
    "casos_salary_nan"
   ]
  },
  {
   "cell_type": "markdown",
   "metadata": {},
   "source": [
    "Comprobamos que siguen qeudando casos con salary = Nan, aunqueson bastante escasos 1749 filas, que se corresponden con 130 individuos, puede ser que para estos no haya grupos de referencia que cumplan con las mismas características establecidas. Como sigue habiendo datos con Salary Nan, vamos a rellenarlos con el salario mediano del grupo_edad y el country_id"
   ]
  },
  {
   "cell_type": "code",
   "execution_count": 330,
   "metadata": {},
   "outputs": [
    {
     "name": "stdout",
     "output_type": "stream",
     "text": [
      "Número de valores NaN restantes en 'salary': 1856\n"
     ]
    }
   ],
   "source": [
    "#!!!!(Importante aquí calculamos la mediana sobre el conjunto sin duplicados, si no afecta a la mediana)!!!\n",
    "# Calcular la mediana del salario por grupo_edad y country_id\n",
    "median_salary = df_full_sin_duplicados.groupby(['grupo_edad', 'country_id'])['salary'].median().reset_index()\n",
    "\n",
    "# Renombrar la columna de salario mediano para mayor claridad\n",
    "median_salary.rename(columns={'salary': 'median_salary'}, inplace=True)\n",
    "\n",
    "# Combinar la mediana de salario con el DataFrame original\n",
    "df_full = pd.merge(df_full, median_salary, on=['grupo_edad', 'country_id'], how='left')\n",
    "\n",
    "# Rellenar los NaN en la columna salary con la mediana correspondiente\n",
    "df_full['salary'].fillna(df_full['median_salary'], inplace=True)\n",
    "\n",
    "# Eliminar la columna temporal de salario mediano si ya no es necesaria\n",
    "df_full.drop(columns=['median_salary'], inplace=True)\n",
    "\n",
    "# Verificar que no queden valores NaN en salary\n",
    "nan_count = df_full['salary'].isna().sum()\n",
    "print(f\"Número de valores NaN restantes en 'salary': {nan_count}\")"
   ]
  },
  {
   "cell_type": "markdown",
   "metadata": {},
   "source": [
    "Por último, solo nos quedaremos con la media de country_id al ser una variable que intutivamente más influencia tendrá en los cambios de salario"
   ]
  },
  {
   "cell_type": "code",
   "execution_count": 331,
   "metadata": {},
   "outputs": [
    {
     "name": "stdout",
     "output_type": "stream",
     "text": [
      "Número de valores NaN restantes en 'salary': 1606\n"
     ]
    }
   ],
   "source": [
    "#!!!!(Importante aquí calculamos la mediana sobre el conjunto sin duplicados, si no afecta a la mediana)!!!\n",
    "# Calcular la mediana del salario por country_id\n",
    "median_salary = df_full_sin_duplicados.groupby(['country_id'])['salary'].median().reset_index()\n",
    "\n",
    "# Renombrar la columna de salario mediano para mayor claridad\n",
    "median_salary.rename(columns={'salary': 'median_salary'}, inplace=True)\n",
    "\n",
    "# Combinar la mediana de salario con el DataFrame original\n",
    "df_full = pd.merge(df_full, median_salary, on=['country_id'], how='left')\n",
    "\n",
    "# Rellenar los NaN en la columna salary con la mediana correspondiente\n",
    "df_full['salary'].fillna(df_full['median_salary'], inplace=True)\n",
    "\n",
    "# Eliminar la columna temporal de salario mediano si ya no es necesaria\n",
    "df_full.drop(columns=['median_salary'], inplace=True)\n",
    "\n",
    "# Verificar que no queden valores NaN en salary\n",
    "nan_count = df_full['salary'].isna().sum()\n",
    "print(f\"Número de valores NaN restantes en 'salary': {nan_count}\")"
   ]
  },
  {
   "cell_type": "code",
   "execution_count": 332,
   "metadata": {},
   "outputs": [
    {
     "name": "stdout",
     "output_type": "stream",
     "text": [
      "Número de valores NaN restantes en 'salary': 0\n"
     ]
    }
   ],
   "source": [
    "#!!!!(Importante aquí calculamos la mediana sobre el conjunto sin duplicados, si no, afecta a la mediana)!!!\n",
    "# Calcular la mediana del salario por grupo_edad\n",
    "median_salary = df_full_sin_duplicados.groupby(['grupo_edad'])['salary'].median().reset_index()\n",
    "\n",
    "# Renombrar la columna de salario mediano para mayor claridad\n",
    "median_salary.rename(columns={'salary': 'median_salary'}, inplace=True)\n",
    "\n",
    "# Combinar la mediana de salario con el DataFrame original\n",
    "df_full = pd.merge(df_full, median_salary, on=['grupo_edad'], how='left')\n",
    "\n",
    "# Rellenar los NaN en la columna salary con la mediana correspondiente\n",
    "df_full['salary'].fillna(df_full['median_salary'], inplace=True)\n",
    "\n",
    "# Eliminar la columna temporal de salario mediano si ya no es necesaria\n",
    "df_full.drop(columns=['median_salary'], inplace=True)\n",
    "\n",
    "# Verificar que no queden valores NaN en salary\n",
    "nan_count = df_full['salary'].isna().sum()\n",
    "print(f\"Número de valores NaN restantes en 'salary': {nan_count}\")"
   ]
  },
  {
   "cell_type": "code",
   "execution_count": 333,
   "metadata": {},
   "outputs": [
    {
     "data": {
      "application/vnd.plotly.v1+json": {
       "config": {
        "plotlyServerURL": "https://plot.ly"
       },
       "data": [
        {
         "alignmentgroup": "True",
         "hovertemplate": "Grupo de Edad=%{x}<br>Salario Mediano=%{marker.color}<extra></extra>",
         "legendgroup": "",
         "marker": {
          "color": [
           88401.07499999998,
           88401.07499999998,
           88401.07499999998,
           88401.07499999998,
           89195.54999999997,
           88401.07499999998,
           88401.07499999998
          ],
          "coloraxis": "coloraxis",
          "pattern": {
           "shape": ""
          }
         },
         "name": "",
         "offsetgroup": "",
         "orientation": "v",
         "showlegend": false,
         "text": [
          88401.07499999998,
          88401.07499999998,
          88401.07499999998,
          88401.07499999998,
          89195.54999999997,
          88401.07499999998,
          88401.07499999998
         ],
         "textposition": "outside",
         "texttemplate": "%{text:.0f}",
         "type": "bar",
         "x": [
          "Adultos",
          "Adultos jóvenes",
          "Adultos mayores",
          "Ancianos",
          "Jóvenes",
          "Longevos",
          "Menores"
         ],
         "xaxis": "x",
         "y": [
          88401.07499999998,
          88401.07499999998,
          88401.07499999998,
          88401.07499999998,
          89195.54999999997,
          88401.07499999998,
          88401.07499999998
         ],
         "yaxis": "y"
        }
       ],
       "layout": {
        "barmode": "relative",
        "coloraxis": {
         "colorbar": {
          "title": {
           "text": "Salario Mediano"
          }
         },
         "colorscale": [
          [
           0,
           "#440154"
          ],
          [
           0.1111111111111111,
           "#482878"
          ],
          [
           0.2222222222222222,
           "#3e4989"
          ],
          [
           0.3333333333333333,
           "#31688e"
          ],
          [
           0.4444444444444444,
           "#26828e"
          ],
          [
           0.5555555555555556,
           "#1f9e89"
          ],
          [
           0.6666666666666666,
           "#35b779"
          ],
          [
           0.7777777777777778,
           "#6ece58"
          ],
          [
           0.8888888888888888,
           "#b5de2b"
          ],
          [
           1,
           "#fde725"
          ]
         ]
        },
        "height": 800,
        "legend": {
         "tracegroupgap": 0
        },
        "template": {
         "data": {
          "bar": [
           {
            "error_x": {
             "color": "#2a3f5f"
            },
            "error_y": {
             "color": "#2a3f5f"
            },
            "marker": {
             "line": {
              "color": "#E5ECF6",
              "width": 0.5
             },
             "pattern": {
              "fillmode": "overlay",
              "size": 10,
              "solidity": 0.2
             }
            },
            "type": "bar"
           }
          ],
          "barpolar": [
           {
            "marker": {
             "line": {
              "color": "#E5ECF6",
              "width": 0.5
             },
             "pattern": {
              "fillmode": "overlay",
              "size": 10,
              "solidity": 0.2
             }
            },
            "type": "barpolar"
           }
          ],
          "carpet": [
           {
            "aaxis": {
             "endlinecolor": "#2a3f5f",
             "gridcolor": "white",
             "linecolor": "white",
             "minorgridcolor": "white",
             "startlinecolor": "#2a3f5f"
            },
            "baxis": {
             "endlinecolor": "#2a3f5f",
             "gridcolor": "white",
             "linecolor": "white",
             "minorgridcolor": "white",
             "startlinecolor": "#2a3f5f"
            },
            "type": "carpet"
           }
          ],
          "choropleth": [
           {
            "colorbar": {
             "outlinewidth": 0,
             "ticks": ""
            },
            "type": "choropleth"
           }
          ],
          "contour": [
           {
            "colorbar": {
             "outlinewidth": 0,
             "ticks": ""
            },
            "colorscale": [
             [
              0,
              "#0d0887"
             ],
             [
              0.1111111111111111,
              "#46039f"
             ],
             [
              0.2222222222222222,
              "#7201a8"
             ],
             [
              0.3333333333333333,
              "#9c179e"
             ],
             [
              0.4444444444444444,
              "#bd3786"
             ],
             [
              0.5555555555555556,
              "#d8576b"
             ],
             [
              0.6666666666666666,
              "#ed7953"
             ],
             [
              0.7777777777777778,
              "#fb9f3a"
             ],
             [
              0.8888888888888888,
              "#fdca26"
             ],
             [
              1,
              "#f0f921"
             ]
            ],
            "type": "contour"
           }
          ],
          "contourcarpet": [
           {
            "colorbar": {
             "outlinewidth": 0,
             "ticks": ""
            },
            "type": "contourcarpet"
           }
          ],
          "heatmap": [
           {
            "colorbar": {
             "outlinewidth": 0,
             "ticks": ""
            },
            "colorscale": [
             [
              0,
              "#0d0887"
             ],
             [
              0.1111111111111111,
              "#46039f"
             ],
             [
              0.2222222222222222,
              "#7201a8"
             ],
             [
              0.3333333333333333,
              "#9c179e"
             ],
             [
              0.4444444444444444,
              "#bd3786"
             ],
             [
              0.5555555555555556,
              "#d8576b"
             ],
             [
              0.6666666666666666,
              "#ed7953"
             ],
             [
              0.7777777777777778,
              "#fb9f3a"
             ],
             [
              0.8888888888888888,
              "#fdca26"
             ],
             [
              1,
              "#f0f921"
             ]
            ],
            "type": "heatmap"
           }
          ],
          "heatmapgl": [
           {
            "colorbar": {
             "outlinewidth": 0,
             "ticks": ""
            },
            "colorscale": [
             [
              0,
              "#0d0887"
             ],
             [
              0.1111111111111111,
              "#46039f"
             ],
             [
              0.2222222222222222,
              "#7201a8"
             ],
             [
              0.3333333333333333,
              "#9c179e"
             ],
             [
              0.4444444444444444,
              "#bd3786"
             ],
             [
              0.5555555555555556,
              "#d8576b"
             ],
             [
              0.6666666666666666,
              "#ed7953"
             ],
             [
              0.7777777777777778,
              "#fb9f3a"
             ],
             [
              0.8888888888888888,
              "#fdca26"
             ],
             [
              1,
              "#f0f921"
             ]
            ],
            "type": "heatmapgl"
           }
          ],
          "histogram": [
           {
            "marker": {
             "pattern": {
              "fillmode": "overlay",
              "size": 10,
              "solidity": 0.2
             }
            },
            "type": "histogram"
           }
          ],
          "histogram2d": [
           {
            "colorbar": {
             "outlinewidth": 0,
             "ticks": ""
            },
            "colorscale": [
             [
              0,
              "#0d0887"
             ],
             [
              0.1111111111111111,
              "#46039f"
             ],
             [
              0.2222222222222222,
              "#7201a8"
             ],
             [
              0.3333333333333333,
              "#9c179e"
             ],
             [
              0.4444444444444444,
              "#bd3786"
             ],
             [
              0.5555555555555556,
              "#d8576b"
             ],
             [
              0.6666666666666666,
              "#ed7953"
             ],
             [
              0.7777777777777778,
              "#fb9f3a"
             ],
             [
              0.8888888888888888,
              "#fdca26"
             ],
             [
              1,
              "#f0f921"
             ]
            ],
            "type": "histogram2d"
           }
          ],
          "histogram2dcontour": [
           {
            "colorbar": {
             "outlinewidth": 0,
             "ticks": ""
            },
            "colorscale": [
             [
              0,
              "#0d0887"
             ],
             [
              0.1111111111111111,
              "#46039f"
             ],
             [
              0.2222222222222222,
              "#7201a8"
             ],
             [
              0.3333333333333333,
              "#9c179e"
             ],
             [
              0.4444444444444444,
              "#bd3786"
             ],
             [
              0.5555555555555556,
              "#d8576b"
             ],
             [
              0.6666666666666666,
              "#ed7953"
             ],
             [
              0.7777777777777778,
              "#fb9f3a"
             ],
             [
              0.8888888888888888,
              "#fdca26"
             ],
             [
              1,
              "#f0f921"
             ]
            ],
            "type": "histogram2dcontour"
           }
          ],
          "mesh3d": [
           {
            "colorbar": {
             "outlinewidth": 0,
             "ticks": ""
            },
            "type": "mesh3d"
           }
          ],
          "parcoords": [
           {
            "line": {
             "colorbar": {
              "outlinewidth": 0,
              "ticks": ""
             }
            },
            "type": "parcoords"
           }
          ],
          "pie": [
           {
            "automargin": true,
            "type": "pie"
           }
          ],
          "scatter": [
           {
            "fillpattern": {
             "fillmode": "overlay",
             "size": 10,
             "solidity": 0.2
            },
            "type": "scatter"
           }
          ],
          "scatter3d": [
           {
            "line": {
             "colorbar": {
              "outlinewidth": 0,
              "ticks": ""
             }
            },
            "marker": {
             "colorbar": {
              "outlinewidth": 0,
              "ticks": ""
             }
            },
            "type": "scatter3d"
           }
          ],
          "scattercarpet": [
           {
            "marker": {
             "colorbar": {
              "outlinewidth": 0,
              "ticks": ""
             }
            },
            "type": "scattercarpet"
           }
          ],
          "scattergeo": [
           {
            "marker": {
             "colorbar": {
              "outlinewidth": 0,
              "ticks": ""
             }
            },
            "type": "scattergeo"
           }
          ],
          "scattergl": [
           {
            "marker": {
             "colorbar": {
              "outlinewidth": 0,
              "ticks": ""
             }
            },
            "type": "scattergl"
           }
          ],
          "scattermapbox": [
           {
            "marker": {
             "colorbar": {
              "outlinewidth": 0,
              "ticks": ""
             }
            },
            "type": "scattermapbox"
           }
          ],
          "scatterpolar": [
           {
            "marker": {
             "colorbar": {
              "outlinewidth": 0,
              "ticks": ""
             }
            },
            "type": "scatterpolar"
           }
          ],
          "scatterpolargl": [
           {
            "marker": {
             "colorbar": {
              "outlinewidth": 0,
              "ticks": ""
             }
            },
            "type": "scatterpolargl"
           }
          ],
          "scatterternary": [
           {
            "marker": {
             "colorbar": {
              "outlinewidth": 0,
              "ticks": ""
             }
            },
            "type": "scatterternary"
           }
          ],
          "surface": [
           {
            "colorbar": {
             "outlinewidth": 0,
             "ticks": ""
            },
            "colorscale": [
             [
              0,
              "#0d0887"
             ],
             [
              0.1111111111111111,
              "#46039f"
             ],
             [
              0.2222222222222222,
              "#7201a8"
             ],
             [
              0.3333333333333333,
              "#9c179e"
             ],
             [
              0.4444444444444444,
              "#bd3786"
             ],
             [
              0.5555555555555556,
              "#d8576b"
             ],
             [
              0.6666666666666666,
              "#ed7953"
             ],
             [
              0.7777777777777778,
              "#fb9f3a"
             ],
             [
              0.8888888888888888,
              "#fdca26"
             ],
             [
              1,
              "#f0f921"
             ]
            ],
            "type": "surface"
           }
          ],
          "table": [
           {
            "cells": {
             "fill": {
              "color": "#EBF0F8"
             },
             "line": {
              "color": "white"
             }
            },
            "header": {
             "fill": {
              "color": "#C8D4E3"
             },
             "line": {
              "color": "white"
             }
            },
            "type": "table"
           }
          ]
         },
         "layout": {
          "annotationdefaults": {
           "arrowcolor": "#2a3f5f",
           "arrowhead": 0,
           "arrowwidth": 1
          },
          "autotypenumbers": "strict",
          "coloraxis": {
           "colorbar": {
            "outlinewidth": 0,
            "ticks": ""
           }
          },
          "colorscale": {
           "diverging": [
            [
             0,
             "#8e0152"
            ],
            [
             0.1,
             "#c51b7d"
            ],
            [
             0.2,
             "#de77ae"
            ],
            [
             0.3,
             "#f1b6da"
            ],
            [
             0.4,
             "#fde0ef"
            ],
            [
             0.5,
             "#f7f7f7"
            ],
            [
             0.6,
             "#e6f5d0"
            ],
            [
             0.7,
             "#b8e186"
            ],
            [
             0.8,
             "#7fbc41"
            ],
            [
             0.9,
             "#4d9221"
            ],
            [
             1,
             "#276419"
            ]
           ],
           "sequential": [
            [
             0,
             "#0d0887"
            ],
            [
             0.1111111111111111,
             "#46039f"
            ],
            [
             0.2222222222222222,
             "#7201a8"
            ],
            [
             0.3333333333333333,
             "#9c179e"
            ],
            [
             0.4444444444444444,
             "#bd3786"
            ],
            [
             0.5555555555555556,
             "#d8576b"
            ],
            [
             0.6666666666666666,
             "#ed7953"
            ],
            [
             0.7777777777777778,
             "#fb9f3a"
            ],
            [
             0.8888888888888888,
             "#fdca26"
            ],
            [
             1,
             "#f0f921"
            ]
           ],
           "sequentialminus": [
            [
             0,
             "#0d0887"
            ],
            [
             0.1111111111111111,
             "#46039f"
            ],
            [
             0.2222222222222222,
             "#7201a8"
            ],
            [
             0.3333333333333333,
             "#9c179e"
            ],
            [
             0.4444444444444444,
             "#bd3786"
            ],
            [
             0.5555555555555556,
             "#d8576b"
            ],
            [
             0.6666666666666666,
             "#ed7953"
            ],
            [
             0.7777777777777778,
             "#fb9f3a"
            ],
            [
             0.8888888888888888,
             "#fdca26"
            ],
            [
             1,
             "#f0f921"
            ]
           ]
          },
          "colorway": [
           "#636efa",
           "#EF553B",
           "#00cc96",
           "#ab63fa",
           "#FFA15A",
           "#19d3f3",
           "#FF6692",
           "#B6E880",
           "#FF97FF",
           "#FECB52"
          ],
          "font": {
           "color": "#2a3f5f"
          },
          "geo": {
           "bgcolor": "white",
           "lakecolor": "white",
           "landcolor": "#E5ECF6",
           "showlakes": true,
           "showland": true,
           "subunitcolor": "white"
          },
          "hoverlabel": {
           "align": "left"
          },
          "hovermode": "closest",
          "mapbox": {
           "style": "light"
          },
          "paper_bgcolor": "white",
          "plot_bgcolor": "#E5ECF6",
          "polar": {
           "angularaxis": {
            "gridcolor": "white",
            "linecolor": "white",
            "ticks": ""
           },
           "bgcolor": "#E5ECF6",
           "radialaxis": {
            "gridcolor": "white",
            "linecolor": "white",
            "ticks": ""
           }
          },
          "scene": {
           "xaxis": {
            "backgroundcolor": "#E5ECF6",
            "gridcolor": "white",
            "gridwidth": 2,
            "linecolor": "white",
            "showbackground": true,
            "ticks": "",
            "zerolinecolor": "white"
           },
           "yaxis": {
            "backgroundcolor": "#E5ECF6",
            "gridcolor": "white",
            "gridwidth": 2,
            "linecolor": "white",
            "showbackground": true,
            "ticks": "",
            "zerolinecolor": "white"
           },
           "zaxis": {
            "backgroundcolor": "#E5ECF6",
            "gridcolor": "white",
            "gridwidth": 2,
            "linecolor": "white",
            "showbackground": true,
            "ticks": "",
            "zerolinecolor": "white"
           }
          },
          "shapedefaults": {
           "line": {
            "color": "#2a3f5f"
           }
          },
          "ternary": {
           "aaxis": {
            "gridcolor": "white",
            "linecolor": "white",
            "ticks": ""
           },
           "baxis": {
            "gridcolor": "white",
            "linecolor": "white",
            "ticks": ""
           },
           "bgcolor": "#E5ECF6",
           "caxis": {
            "gridcolor": "white",
            "linecolor": "white",
            "ticks": ""
           }
          },
          "title": {
           "x": 0.05
          },
          "xaxis": {
           "automargin": true,
           "gridcolor": "white",
           "linecolor": "white",
           "ticks": "",
           "title": {
            "standoff": 15
           },
           "zerolinecolor": "white",
           "zerolinewidth": 2
          },
          "yaxis": {
           "automargin": true,
           "gridcolor": "white",
           "linecolor": "white",
           "ticks": "",
           "title": {
            "standoff": 15
           },
           "zerolinecolor": "white",
           "zerolinewidth": 2
          }
         }
        },
        "title": {
         "text": "Salario Mediano por Grupo de Edad"
        },
        "width": 1000,
        "xaxis": {
         "anchor": "y",
         "domain": [
          0,
          1
         ],
         "title": {
          "text": "Grupo de Edad"
         }
        },
        "yaxis": {
         "anchor": "x",
         "domain": [
          0,
          1
         ],
         "title": {
          "text": "Salario Mediano"
         }
        }
       }
      }
     },
     "metadata": {},
     "output_type": "display_data"
    }
   ],
   "source": [
    "df_last_partition['salary'] = df_full['salary']\n",
    "\n",
    "# Crear nueva columna 'grupo_edad' en df_last_partition\n",
    "df_last_partition['grupo_edad'] = df_last_partition['age'].apply(categorizar_edad)\n",
    "\n",
    "# Calcular el salario mediano para cada grupo de edad\n",
    "salary_by_age_group = df_last_partition.groupby('grupo_edad')['salary'].median().reset_index()\n",
    "salary_by_age_group.columns = ['grupo_edad', 'salario_median']\n",
    "\n",
    "# Crear el gráfico de barras\n",
    "fig = px.bar(salary_by_age_group, \n",
    "             x='grupo_edad', \n",
    "             y='salario_median', \n",
    "             text='salario_median',  # Mostrar el salario mediano en las etiquetas de las barras\n",
    "             labels={'salario_median':'Salario Mediano', 'grupo_edad':'Grupo de Edad'}, \n",
    "             title='Salario Mediano por Grupo de Edad',\n",
    "             color='salario_median',  # Usar la columna 'salario_median' para variar el color de las barras\n",
    "             color_continuous_scale='Viridis')  # Usar la paleta de colores personalizada\n",
    "\n",
    "# Personalizar el formato del texto para mostrar los números enteros\n",
    "fig.update_traces(texttemplate='%{text:.0f}', textposition='outside')\n",
    "\n",
    "# Ajustar el tamaño del gráfico\n",
    "fig.update_layout(\n",
    "    width=1000,  # Ancho del gráfico\n",
    "    height=800   # Altura del gráfico\n",
    ")\n",
    "\n",
    "# Mostrar el gráfico interactivo\n",
    "fig.show()"
   ]
  },
  {
   "cell_type": "markdown",
   "metadata": {},
   "source": [
    "## DATASET LOG"
   ]
  },
  {
   "cell_type": "code",
   "execution_count": 334,
   "metadata": {},
   "outputs": [
    {
     "data": {
      "text/html": [
       "<div>\n",
       "<style scoped>\n",
       "    .dataframe tbody tr th:only-of-type {\n",
       "        vertical-align: middle;\n",
       "    }\n",
       "\n",
       "    .dataframe tbody tr th {\n",
       "        vertical-align: top;\n",
       "    }\n",
       "\n",
       "    .dataframe thead th {\n",
       "        text-align: right;\n",
       "    }\n",
       "</style>\n",
       "<table border=\"1\" class=\"dataframe\">\n",
       "  <thead>\n",
       "    <tr style=\"text-align: right;\">\n",
       "      <th></th>\n",
       "      <th>pk_cid</th>\n",
       "      <th>pk_partition</th>\n",
       "      <th>country_id</th>\n",
       "      <th>region_code</th>\n",
       "      <th>gender</th>\n",
       "      <th>age</th>\n",
       "      <th>salary</th>\n",
       "      <th>mes_partition</th>\n",
       "      <th>mes_nombre_partition</th>\n",
       "      <th>grupo_edad</th>\n",
       "    </tr>\n",
       "  </thead>\n",
       "  <tbody>\n",
       "    <tr>\n",
       "      <th>0</th>\n",
       "      <td>15891</td>\n",
       "      <td>2018-07-28</td>\n",
       "      <td>ES</td>\n",
       "      <td>Madrid</td>\n",
       "      <td>H</td>\n",
       "      <td>59</td>\n",
       "      <td>102,377.400</td>\n",
       "      <td>7</td>\n",
       "      <td>July</td>\n",
       "      <td>Adultos mayores</td>\n",
       "    </tr>\n",
       "    <tr>\n",
       "      <th>1</th>\n",
       "      <td>15891</td>\n",
       "      <td>2018-08-28</td>\n",
       "      <td>ES</td>\n",
       "      <td>Madrid</td>\n",
       "      <td>H</td>\n",
       "      <td>59</td>\n",
       "      <td>132,384.450</td>\n",
       "      <td>8</td>\n",
       "      <td>August</td>\n",
       "      <td>Adultos mayores</td>\n",
       "    </tr>\n",
       "    <tr>\n",
       "      <th>2</th>\n",
       "      <td>16063</td>\n",
       "      <td>2018-11-28</td>\n",
       "      <td>ES</td>\n",
       "      <td>Madrid</td>\n",
       "      <td>H</td>\n",
       "      <td>62</td>\n",
       "      <td>102,377.400</td>\n",
       "      <td>11</td>\n",
       "      <td>November</td>\n",
       "      <td>Adultos mayores</td>\n",
       "    </tr>\n",
       "    <tr>\n",
       "      <th>3</th>\n",
       "      <td>16063</td>\n",
       "      <td>2018-12-28</td>\n",
       "      <td>ES</td>\n",
       "      <td>Madrid</td>\n",
       "      <td>H</td>\n",
       "      <td>62</td>\n",
       "      <td>132,384.450</td>\n",
       "      <td>12</td>\n",
       "      <td>December</td>\n",
       "      <td>Adultos mayores</td>\n",
       "    </tr>\n",
       "    <tr>\n",
       "      <th>4</th>\n",
       "      <td>16063</td>\n",
       "      <td>2019-01-28</td>\n",
       "      <td>ES</td>\n",
       "      <td>Madrid</td>\n",
       "      <td>H</td>\n",
       "      <td>62</td>\n",
       "      <td>132,384.450</td>\n",
       "      <td>1</td>\n",
       "      <td>January</td>\n",
       "      <td>Adultos mayores</td>\n",
       "    </tr>\n",
       "  </tbody>\n",
       "</table>\n",
       "</div>"
      ],
      "text/plain": [
       "   pk_cid pk_partition country_id region_code gender  age      salary  \\\n",
       "0   15891   2018-07-28         ES      Madrid      H   59 102,377.400   \n",
       "1   15891   2018-08-28         ES      Madrid      H   59 132,384.450   \n",
       "2   16063   2018-11-28         ES      Madrid      H   62 102,377.400   \n",
       "3   16063   2018-12-28         ES      Madrid      H   62 132,384.450   \n",
       "4   16063   2019-01-28         ES      Madrid      H   62 132,384.450   \n",
       "\n",
       "   mes_partition mes_nombre_partition       grupo_edad  \n",
       "0              7                 July  Adultos mayores  \n",
       "1              8               August  Adultos mayores  \n",
       "2             11             November  Adultos mayores  \n",
       "3             12             December  Adultos mayores  \n",
       "4              1              January  Adultos mayores  "
      ]
     },
     "execution_count": 334,
     "metadata": {},
     "output_type": "execute_result"
    }
   ],
   "source": [
    "# Crear una lista de las columnas que deseas eliminar\n",
    "columnas_a_eliminar = [\n",
    "    'deceased', 'entry_date', 'entry_channel', 'active_customer', \n",
    "    'segment', 'short_term_deposit', 'loans', 'mortgage', 'funds', \n",
    "    'securities', 'long_term_deposit', 'em_account_pp', 'credit_card', \n",
    "    'payroll', 'pension_plan', 'payroll_account', 'emc_account', \n",
    "    'debit_card', 'em_account_p', 'em_acount'\n",
    "]\n",
    "\n",
    "# Crear una copia del DataFrame original y eliminar las columnas especificadas\n",
    "sociodemographic_df_adrian = df_full.copy()\n",
    "sociodemographic_df_adrian = sociodemographic_df_adrian.drop(columns=columnas_a_eliminar)\n",
    "\n",
    "# Verificar las primeras filas del nuevo DataFrame para asegurarse de que las columnas se eliminaron correctamente\n",
    "sociodemographic_df_adrian.head()"
   ]
  },
  {
   "cell_type": "code",
   "execution_count": null,
   "metadata": {},
   "outputs": [],
   "source": []
  },
  {
   "cell_type": "code",
   "execution_count": 335,
   "metadata": {},
   "outputs": [],
   "source": [
    "df_full.to_csv('sociodemographic_df_adrian.csv', index=False)"
   ]
  },
  {
   "cell_type": "code",
   "execution_count": 336,
   "metadata": {},
   "outputs": [
    {
     "name": "stdout",
     "output_type": "stream",
     "text": [
      "Número de valores NaN por columna:\n",
      "pk_cid          0\n",
      "pk_partition    0\n",
      "country_id      0\n",
      "region_code     0\n",
      "gender          0\n",
      "age             0\n",
      "salary          0\n",
      "grupo_edad      0\n",
      "dtype: int64\n",
      "\n",
      "Número de valores 'Unknown' por columna:\n",
      "pk_cid          0\n",
      "pk_partition    0\n",
      "country_id      0\n",
      "region_code     0\n",
      "gender          0\n",
      "age             0\n",
      "salary          0\n",
      "grupo_edad      0\n",
      "dtype: int64\n"
     ]
    }
   ],
   "source": [
    "# Columnas de interés\n",
    "columns_of_interest = ['pk_cid', 'pk_partition', 'country_id', 'region_code', 'gender', 'age', 'salary', 'grupo_edad']\n",
    "\n",
    "# Comprobar valores NaN\n",
    "nan_check = sociodemographic_df_adrian[columns_of_interest].isna().sum()\n",
    "\n",
    "# Comprobar valores 'Unknown'\n",
    "unknown_check = sociodemographic_df_adrian[columns_of_interest].applymap(lambda x: x == 'Unknown').sum()\n",
    "\n",
    "# Mostrar resultados\n",
    "print(\"Número de valores NaN por columna:\")\n",
    "print(nan_check)\n",
    "\n",
    "print(\"\\nNúmero de valores 'Unknown' por columna:\")\n",
    "print(unknown_check)"
   ]
  },
  {
   "cell_type": "code",
   "execution_count": 337,
   "metadata": {},
   "outputs": [],
   "source": [
    "# Guardar el DataFrame en un archivo parquet para subirlo a s3 de aws\n",
    "#sociodemographic_df_adrian.to_parquet('sociodemographic_df_adrian.parquet', index=False)"
   ]
  },
  {
   "cell_type": "markdown",
   "metadata": {},
   "source": [
    "### DASHBOARD DATASET"
   ]
  },
  {
   "cell_type": "code",
   "execution_count": 338,
   "metadata": {},
   "outputs": [],
   "source": [
    "# Crear una copia del DataFrame original y eliminar las columnas especificadas\n",
    "dashboard_df_adrian = sociodemographic_df_adrian.copy()\n",
    "\n",
    "# 1. Calcular la mediana del salario para cada individuo (pk_cid)\n",
    "# Asumiendo que la columna de salario se llama 'salary'\n",
    "mediana_salario = dashboard_df_adrian.groupby('pk_cid')['salary'].median().reset_index()\n",
    "\n",
    "# Renombrar la columna de salario a 'median_salary'\n",
    "mediana_salario.rename(columns={'salary': 'median_salary'}, inplace=True)\n",
    "\n",
    "# 3. Eliminar la columna 'salary' del DataFrame y eliminar la columna 'age' del DataFrame\n",
    "dashboard_df_adrian = dashboard_df_adrian.drop(columns=['salary'])\n",
    "dashboard_df_adrian = dashboard_df_adrian.drop(columns=['age'])\n",
    "\n",
    "# 3. Obtener el último valor de 'region_code' para cada individuo\n",
    "# Asumiendo que 'pk_partition' es un indicador de tiempo, seleccionaremos la última entrada de cada cliente\n",
    "ultimo_region_code = dashboard_df_adrian.sort_values('pk_partition').groupby('pk_cid')['region_code'].last().reset_index()\n",
    "\n",
    "# Unir los datos de mediana de salario y último 'region_code' con los datos originales\n",
    "# Primero combinamos con la mediana del salario\n",
    "dashboard_df_adrian = pd.merge(dashboard_df_adrian, mediana_salario, on='pk_cid', how='left')\n",
    "\n",
    "# Luego combinamos con el último 'region_code'\n",
    "dashboard_df_adrian = pd.merge(dashboard_df_adrian, ultimo_region_code, on='pk_cid', how='left', suffixes=('', '_latest'))\n",
    "\n",
    "# Eliminar la columna 'region_code' original, si es necesario\n",
    "dashboard_df_adrian.drop(columns=['region_code'], inplace=True)\n",
    "\n",
    "# Renombrar 'region_code_latest' a 'region_code' para claridad\n",
    "dashboard_df_adrian.rename(columns={'region_code_latest': 'region_code'}, inplace=True)"
   ]
  },
  {
   "cell_type": "code",
   "execution_count": 339,
   "metadata": {},
   "outputs": [
    {
     "data": {
      "text/html": [
       "<div>\n",
       "<style scoped>\n",
       "    .dataframe tbody tr th:only-of-type {\n",
       "        vertical-align: middle;\n",
       "    }\n",
       "\n",
       "    .dataframe tbody tr th {\n",
       "        vertical-align: top;\n",
       "    }\n",
       "\n",
       "    .dataframe thead th {\n",
       "        text-align: right;\n",
       "    }\n",
       "</style>\n",
       "<table border=\"1\" class=\"dataframe\">\n",
       "  <thead>\n",
       "    <tr style=\"text-align: right;\">\n",
       "      <th></th>\n",
       "      <th>pk_cid</th>\n",
       "      <th>pk_partition</th>\n",
       "      <th>country_id</th>\n",
       "      <th>gender</th>\n",
       "      <th>mes_partition</th>\n",
       "      <th>mes_nombre_partition</th>\n",
       "      <th>grupo_edad</th>\n",
       "      <th>median_salary</th>\n",
       "      <th>region_code</th>\n",
       "    </tr>\n",
       "  </thead>\n",
       "  <tbody>\n",
       "    <tr>\n",
       "      <th>0</th>\n",
       "      <td>15891</td>\n",
       "      <td>2018-07-28</td>\n",
       "      <td>ES</td>\n",
       "      <td>H</td>\n",
       "      <td>7</td>\n",
       "      <td>July</td>\n",
       "      <td>Adultos mayores</td>\n",
       "      <td>117,380.925</td>\n",
       "      <td>Madrid</td>\n",
       "    </tr>\n",
       "    <tr>\n",
       "      <th>1</th>\n",
       "      <td>15891</td>\n",
       "      <td>2018-08-28</td>\n",
       "      <td>ES</td>\n",
       "      <td>H</td>\n",
       "      <td>8</td>\n",
       "      <td>August</td>\n",
       "      <td>Adultos mayores</td>\n",
       "      <td>117,380.925</td>\n",
       "      <td>Madrid</td>\n",
       "    </tr>\n",
       "    <tr>\n",
       "      <th>2</th>\n",
       "      <td>16063</td>\n",
       "      <td>2018-11-28</td>\n",
       "      <td>ES</td>\n",
       "      <td>H</td>\n",
       "      <td>11</td>\n",
       "      <td>November</td>\n",
       "      <td>Adultos mayores</td>\n",
       "      <td>132,384.450</td>\n",
       "      <td>Madrid</td>\n",
       "    </tr>\n",
       "    <tr>\n",
       "      <th>3</th>\n",
       "      <td>16063</td>\n",
       "      <td>2018-12-28</td>\n",
       "      <td>ES</td>\n",
       "      <td>H</td>\n",
       "      <td>12</td>\n",
       "      <td>December</td>\n",
       "      <td>Adultos mayores</td>\n",
       "      <td>132,384.450</td>\n",
       "      <td>Madrid</td>\n",
       "    </tr>\n",
       "    <tr>\n",
       "      <th>4</th>\n",
       "      <td>16063</td>\n",
       "      <td>2019-01-28</td>\n",
       "      <td>ES</td>\n",
       "      <td>H</td>\n",
       "      <td>1</td>\n",
       "      <td>January</td>\n",
       "      <td>Adultos mayores</td>\n",
       "      <td>132,384.450</td>\n",
       "      <td>Madrid</td>\n",
       "    </tr>\n",
       "    <tr>\n",
       "      <th>5</th>\n",
       "      <td>16063</td>\n",
       "      <td>2019-02-28</td>\n",
       "      <td>ES</td>\n",
       "      <td>H</td>\n",
       "      <td>2</td>\n",
       "      <td>February</td>\n",
       "      <td>Adultos mayores</td>\n",
       "      <td>132,384.450</td>\n",
       "      <td>Madrid</td>\n",
       "    </tr>\n",
       "    <tr>\n",
       "      <th>6</th>\n",
       "      <td>16063</td>\n",
       "      <td>2019-03-28</td>\n",
       "      <td>ES</td>\n",
       "      <td>H</td>\n",
       "      <td>3</td>\n",
       "      <td>March</td>\n",
       "      <td>Adultos mayores</td>\n",
       "      <td>132,384.450</td>\n",
       "      <td>Madrid</td>\n",
       "    </tr>\n",
       "    <tr>\n",
       "      <th>7</th>\n",
       "      <td>16063</td>\n",
       "      <td>2019-04-28</td>\n",
       "      <td>ES</td>\n",
       "      <td>H</td>\n",
       "      <td>4</td>\n",
       "      <td>April</td>\n",
       "      <td>Adultos mayores</td>\n",
       "      <td>132,384.450</td>\n",
       "      <td>Madrid</td>\n",
       "    </tr>\n",
       "    <tr>\n",
       "      <th>8</th>\n",
       "      <td>16063</td>\n",
       "      <td>2019-05-28</td>\n",
       "      <td>ES</td>\n",
       "      <td>H</td>\n",
       "      <td>5</td>\n",
       "      <td>May</td>\n",
       "      <td>Adultos mayores</td>\n",
       "      <td>132,384.450</td>\n",
       "      <td>Madrid</td>\n",
       "    </tr>\n",
       "    <tr>\n",
       "      <th>9</th>\n",
       "      <td>16203</td>\n",
       "      <td>2018-12-28</td>\n",
       "      <td>ES</td>\n",
       "      <td>V</td>\n",
       "      <td>12</td>\n",
       "      <td>December</td>\n",
       "      <td>Ancianos</td>\n",
       "      <td>153,902.880</td>\n",
       "      <td>Barcelona</td>\n",
       "    </tr>\n",
       "    <tr>\n",
       "      <th>10</th>\n",
       "      <td>16203</td>\n",
       "      <td>2019-01-28</td>\n",
       "      <td>ES</td>\n",
       "      <td>V</td>\n",
       "      <td>1</td>\n",
       "      <td>January</td>\n",
       "      <td>Ancianos</td>\n",
       "      <td>153,902.880</td>\n",
       "      <td>Barcelona</td>\n",
       "    </tr>\n",
       "    <tr>\n",
       "      <th>11</th>\n",
       "      <td>16203</td>\n",
       "      <td>2019-02-28</td>\n",
       "      <td>ES</td>\n",
       "      <td>V</td>\n",
       "      <td>2</td>\n",
       "      <td>February</td>\n",
       "      <td>Ancianos</td>\n",
       "      <td>153,902.880</td>\n",
       "      <td>Barcelona</td>\n",
       "    </tr>\n",
       "    <tr>\n",
       "      <th>12</th>\n",
       "      <td>16203</td>\n",
       "      <td>2019-03-28</td>\n",
       "      <td>ES</td>\n",
       "      <td>V</td>\n",
       "      <td>3</td>\n",
       "      <td>March</td>\n",
       "      <td>Ancianos</td>\n",
       "      <td>153,902.880</td>\n",
       "      <td>Barcelona</td>\n",
       "    </tr>\n",
       "    <tr>\n",
       "      <th>13</th>\n",
       "      <td>16203</td>\n",
       "      <td>2019-04-28</td>\n",
       "      <td>ES</td>\n",
       "      <td>V</td>\n",
       "      <td>4</td>\n",
       "      <td>April</td>\n",
       "      <td>Ancianos</td>\n",
       "      <td>153,902.880</td>\n",
       "      <td>Barcelona</td>\n",
       "    </tr>\n",
       "    <tr>\n",
       "      <th>14</th>\n",
       "      <td>16203</td>\n",
       "      <td>2019-05-28</td>\n",
       "      <td>ES</td>\n",
       "      <td>V</td>\n",
       "      <td>5</td>\n",
       "      <td>May</td>\n",
       "      <td>Ancianos</td>\n",
       "      <td>153,902.880</td>\n",
       "      <td>Barcelona</td>\n",
       "    </tr>\n",
       "    <tr>\n",
       "      <th>15</th>\n",
       "      <td>16502</td>\n",
       "      <td>2018-09-28</td>\n",
       "      <td>ES</td>\n",
       "      <td>H</td>\n",
       "      <td>9</td>\n",
       "      <td>September</td>\n",
       "      <td>Adultos mayores</td>\n",
       "      <td>132,384.450</td>\n",
       "      <td>Madrid</td>\n",
       "    </tr>\n",
       "    <tr>\n",
       "      <th>16</th>\n",
       "      <td>16502</td>\n",
       "      <td>2018-10-28</td>\n",
       "      <td>ES</td>\n",
       "      <td>H</td>\n",
       "      <td>10</td>\n",
       "      <td>October</td>\n",
       "      <td>Adultos mayores</td>\n",
       "      <td>132,384.450</td>\n",
       "      <td>Madrid</td>\n",
       "    </tr>\n",
       "    <tr>\n",
       "      <th>17</th>\n",
       "      <td>16502</td>\n",
       "      <td>2018-11-28</td>\n",
       "      <td>ES</td>\n",
       "      <td>H</td>\n",
       "      <td>11</td>\n",
       "      <td>November</td>\n",
       "      <td>Adultos mayores</td>\n",
       "      <td>132,384.450</td>\n",
       "      <td>Madrid</td>\n",
       "    </tr>\n",
       "    <tr>\n",
       "      <th>18</th>\n",
       "      <td>16502</td>\n",
       "      <td>2018-12-28</td>\n",
       "      <td>ES</td>\n",
       "      <td>H</td>\n",
       "      <td>12</td>\n",
       "      <td>December</td>\n",
       "      <td>Adultos mayores</td>\n",
       "      <td>132,384.450</td>\n",
       "      <td>Madrid</td>\n",
       "    </tr>\n",
       "    <tr>\n",
       "      <th>19</th>\n",
       "      <td>16502</td>\n",
       "      <td>2019-01-28</td>\n",
       "      <td>ES</td>\n",
       "      <td>H</td>\n",
       "      <td>1</td>\n",
       "      <td>January</td>\n",
       "      <td>Adultos mayores</td>\n",
       "      <td>132,384.450</td>\n",
       "      <td>Madrid</td>\n",
       "    </tr>\n",
       "  </tbody>\n",
       "</table>\n",
       "</div>"
      ],
      "text/plain": [
       "    pk_cid pk_partition country_id gender  mes_partition mes_nombre_partition  \\\n",
       "0    15891   2018-07-28         ES      H              7                 July   \n",
       "1    15891   2018-08-28         ES      H              8               August   \n",
       "2    16063   2018-11-28         ES      H             11             November   \n",
       "3    16063   2018-12-28         ES      H             12             December   \n",
       "4    16063   2019-01-28         ES      H              1              January   \n",
       "5    16063   2019-02-28         ES      H              2             February   \n",
       "6    16063   2019-03-28         ES      H              3                March   \n",
       "7    16063   2019-04-28         ES      H              4                April   \n",
       "8    16063   2019-05-28         ES      H              5                  May   \n",
       "9    16203   2018-12-28         ES      V             12             December   \n",
       "10   16203   2019-01-28         ES      V              1              January   \n",
       "11   16203   2019-02-28         ES      V              2             February   \n",
       "12   16203   2019-03-28         ES      V              3                March   \n",
       "13   16203   2019-04-28         ES      V              4                April   \n",
       "14   16203   2019-05-28         ES      V              5                  May   \n",
       "15   16502   2018-09-28         ES      H              9            September   \n",
       "16   16502   2018-10-28         ES      H             10              October   \n",
       "17   16502   2018-11-28         ES      H             11             November   \n",
       "18   16502   2018-12-28         ES      H             12             December   \n",
       "19   16502   2019-01-28         ES      H              1              January   \n",
       "\n",
       "         grupo_edad  median_salary region_code  \n",
       "0   Adultos mayores    117,380.925      Madrid  \n",
       "1   Adultos mayores    117,380.925      Madrid  \n",
       "2   Adultos mayores    132,384.450      Madrid  \n",
       "3   Adultos mayores    132,384.450      Madrid  \n",
       "4   Adultos mayores    132,384.450      Madrid  \n",
       "5   Adultos mayores    132,384.450      Madrid  \n",
       "6   Adultos mayores    132,384.450      Madrid  \n",
       "7   Adultos mayores    132,384.450      Madrid  \n",
       "8   Adultos mayores    132,384.450      Madrid  \n",
       "9          Ancianos    153,902.880   Barcelona  \n",
       "10         Ancianos    153,902.880   Barcelona  \n",
       "11         Ancianos    153,902.880   Barcelona  \n",
       "12         Ancianos    153,902.880   Barcelona  \n",
       "13         Ancianos    153,902.880   Barcelona  \n",
       "14         Ancianos    153,902.880   Barcelona  \n",
       "15  Adultos mayores    132,384.450      Madrid  \n",
       "16  Adultos mayores    132,384.450      Madrid  \n",
       "17  Adultos mayores    132,384.450      Madrid  \n",
       "18  Adultos mayores    132,384.450      Madrid  \n",
       "19  Adultos mayores    132,384.450      Madrid  "
      ]
     },
     "execution_count": 339,
     "metadata": {},
     "output_type": "execute_result"
    }
   ],
   "source": [
    "dashboard_df_adrian.head(20)"
   ]
  },
  {
   "cell_type": "code",
   "execution_count": 340,
   "metadata": {},
   "outputs": [
    {
     "name": "stdout",
     "output_type": "stream",
     "text": [
      "Columnas con duplicados para un mismo 'pk_cid': ['pk_partition', 'mes_partition', 'mes_nombre_partition']\n"
     ]
    }
   ],
   "source": [
    "# Verificar las columnas con más de un valor único para cada pk_cid\n",
    "variabilidad_por_columna = dashboard_df_adrian.groupby('pk_cid').nunique()\n",
    "\n",
    "# Filtrar para encontrar las columnas que tienen más de un valor único para algún pk_cid\n",
    "columnas_con_duplicados = variabilidad_por_columna.columns[variabilidad_por_columna.gt(1).any()]\n",
    "\n",
    "# Mostrar las columnas con duplicados y algunos ejemplos de duplicados\n",
    "print(f\"Columnas con duplicados para un mismo 'pk_cid': {list(columnas_con_duplicados)}\")"
   ]
  },
  {
   "cell_type": "code",
   "execution_count": 341,
   "metadata": {},
   "outputs": [
    {
     "name": "stdout",
     "output_type": "stream",
     "text": [
      "Número de valores únicos de pk_cid en df_unique es: 456373\n",
      "Número de valores únicos de pk_cid en df_full es: 456373\n"
     ]
    }
   ],
   "source": [
    "# Especificar las columnas a excluir para considerar duplicados\n",
    "columnas_excluir = ['pk_partition', 'mes_partition', 'mes_nombre_partition']\n",
    "\n",
    "# Crear una lista de columnas a considerar para eliminar duplicados\n",
    "columnas_considerar = [col for col in dashboard_df_adrian.columns if col not in columnas_excluir]\n",
    "\n",
    "# Eliminar duplicados basándose en las columnas especificadas\n",
    "df_unique = dashboard_df_adrian.drop_duplicates(subset=columnas_considerar)\n",
    "\n",
    "# Contar los valores únicos de 'pk_cid' en df_unique\n",
    "num_unicos_df_dash = df_unique['pk_cid'].nunique()\n",
    "\n",
    "# Contar los valores únicos de 'pk_cid' en df_full\n",
    "num_unicos_df_full = df_full['pk_cid'].nunique()\n",
    "\n",
    "print(\"Número de valores únicos de pk_cid en df_unique es:\", num_unicos_df_dash)\n",
    "print(\"Número de valores únicos de pk_cid en df_full es:\", num_unicos_df_full)"
   ]
  },
  {
   "cell_type": "code",
   "execution_count": 342,
   "metadata": {},
   "outputs": [
    {
     "name": "stdout",
     "output_type": "stream",
     "text": [
      "No hay duplicados en la columna 'pk_cid'.\n"
     ]
    }
   ],
   "source": [
    "# Mostrar filas que tienen 'pk_cid' duplicados en df_unique\n",
    "duplicados_pk_cid = df_unique[df_unique['pk_cid'].duplicated(keep=False)]\n",
    "\n",
    "# Mostrar los resultados\n",
    "if not duplicados_pk_cid.empty:\n",
    "    print(\"Filas con 'pk_cid' duplicados:\")\n",
    "    display(duplicados_pk_cid)\n",
    "else:\n",
    "    print(\"No hay duplicados en la columna 'pk_cid'.\")"
   ]
  },
  {
   "cell_type": "code",
   "execution_count": 343,
   "metadata": {},
   "outputs": [],
   "source": [
    "dashboard_df_adrian.to_csv('dashboard_sociodemographic.csv', index=False)"
   ]
  },
  {
   "cell_type": "markdown",
   "metadata": {},
   "source": [
    "# *RESUMEN IMPUTACIONES*\n",
    "\n",
    "Columnas creadas:\n",
    "\n",
    " - Mes_partition y mes_nombre_partition: Creamos un identificador del mes partition, ya que puede ser una variable explicativa en el futuro si existen estacionalidades de meses\n",
    "\n",
    " - Grupo_edad: La segmentación de edades más utilizada suele ser la siguiente:\n",
    "\n",
    "        - Menores: eGrupo compuesto por personas menores de dieciocho años\n",
    "\n",
    "        - Jóvenes: El grupo de jóvenes son las personas mayores a dieciocho años y menores de veinticinco años.\n",
    "\n",
    "        - Adultos jóvenes: Este segmento incluye personas mayores de veinticinco años y menores de cuarenta años.\n",
    "\n",
    "        - Adultos: Son las personas mayores de cuarenta años y menores a los cincuenta y cinco años.\n",
    "\n",
    "        - Adultos mayores: Encontramos en este grupo a las personas mayores de cincuenta y cinco años y menores de sesenta y cinco.\n",
    "\n",
    "        - Ancianos: Son las personas con más sesenta y cinco años y menos de setenta y cinco años.\n",
    "\n",
    "        - Longevos: Son todas las personas de setenta y cinco años en adelante.\n",
    "\n",
    "\n",
    "Asignaciones de valores en variables:\n",
    "\n",
    " - Age:\n",
    "\n",
    "   - Edad mixta: \n",
    "\n",
    "      - Variaciones + 3 años. En este caso, vamos a sustituir todos los valores de Age por el último valor conocido, ya que, a futuro lo más coherente será crear categorías de edad en las que se agrupen distintas décadas, por tanto, las variaciones internas de cada cliente van a ser practicamente irrelevantes (si un cliente pasa de 30-33 no es diferenciador), y además, se sobreentiende que los errores de tipificación se corrigen con el tiempo, por tanto, cuanto más reciente sea una entrada, más probable es que sea correcta.\n",
    "\n",
    "       - Variacion negativa: De igual forma vamos a sustituir todas las edades de los casos con variaciones negativas por la edad que figure en la última entrada de cada usuario\n",
    "\n",
    " - Country_id Mixto: En este caso también vamos a modificar los casos de clientes con un country_id mixto en el DataFrame df_full, y asignarles el último país registrado para su pk_cid, ya que al tratarse solo de 25 clientes, todo parece indicar que se trata de errores en la toma de datos. Además, suponiendo que estos cambios de residencia fueran reales, entonces el salario debería sufrir modificaciones, situación que no se observa en ninguno de los casos. Por tanto, nos vamos a quedar con la información más actualizada de cada individuo.\n",
    "\n",
    " - Deceased: Como podemos comprobar, por un lado, la variable deceased tiene una variabilidad practicamente despreciable, por tanto, es lógico pensar que dicha variable no va a tener una capacidad explicativa suficiente.\n",
    "\n",
    "      No vamos a tener en cuenta la variable deceased para hacer modelos al no tener ninguna capacidad predictiva ni explicativa.\n",
    "\n",
    "      Además dada su alta correlación con otras variables como el grupo de edad, es prudente elimiarla en los modelos para no caer en problemas de multicolinealidad entre las variables explicativas.\n",
    "\n",
    " - Gender:\n",
    "\n",
    "   - Unknown constante: Vamos a imputar los Unknown y los vamos a cambiar por Hombre, ya que, ambos individuos superan los 70 años (sería extraño que se identiffiquen como género fluido y la variable H es la que presenta mayor proporción, por tanto lo imputaremos a esta).\n",
    "\n",
    "    - Unknown Mixto: Le imputaremos el último género conocido\n",
    "\n",
    "    - Géneros Mixtos: También vamos a modificar los casos en lso que el género es mixto, tomando el último valor registrado para cada individuo, ya que como hemos apuntado anteriormente, es lógico pensar que la última entrada de cada cliente es la más actualizada, y por tanto, la correcta.\n",
    "\n",
    " - Region_code:\n",
    "\n",
    "    - Region Unknown: Vamos a sustituir region_code por 28 en estos casos, al ser Madrid la región más repetida, y por en los casos de fuera de España.\n",
    "\n",
    "      Posteriormente sustituimos cada código d eprovincia por la provincia en cuestión y le colocamos Extranjero a los que son de fuera de España\n",
    "\n",
    " - Salary: \n",
    "\n",
    "    - Imputación de Nulos: Como tenemos valores nulos de practicamente todos los países, se me ocurre aplicar el salario mediano pero atendiendo al grupo de edad del sujeto, país de residencia, región de residencia y actividad comercial. Esto de forma iterativa, es decir, como hay casos para los que no se encuentra salario mediano se van sacando variables de la ecuación por orden restrictivo, es decir las más restrictivas se quedan. Primero nos quedamos con grupo_edad y el country_id, y después solo con grupo_edad\n",
    "    !!!!(Importante aquí calculamos la mediana sobre el conjunto sin duplicados, si no afecta a la mediana)!!!"
   ]
  }
 ],
 "metadata": {
  "kernelspec": {
   "display_name": "TFM",
   "language": "python",
   "name": "python3"
  },
  "language_info": {
   "codemirror_mode": {
    "name": "ipython",
    "version": 3
   },
   "file_extension": ".py",
   "mimetype": "text/x-python",
   "name": "python",
   "nbconvert_exporter": "python",
   "pygments_lexer": "ipython3",
   "version": "3.11.5"
  }
 },
 "nbformat": 4,
 "nbformat_minor": 2
}
