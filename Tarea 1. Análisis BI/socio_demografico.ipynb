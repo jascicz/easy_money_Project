{
 "cells": [
  {
   "cell_type": "code",
   "execution_count": null,
   "metadata": {},
   "outputs": [],
   "source": []
  },
  {
   "cell_type": "markdown",
   "metadata": {},
   "source": [
    "\n",
    "# SOCIODEMOGRAPHIC"
   ]
  },
  {
   "cell_type": "markdown",
   "metadata": {},
   "source": [
    "CLIENTES POR AGE"
   ]
  },
  {
   "cell_type": "code",
   "execution_count": null,
   "metadata": {},
   "outputs": [
    {
     "name": "stdout",
     "output_type": "stream",
     "text": [
      "Clientes que tienen siempre la misma edad (excluyendo mixtos): 114631\n",
      "Clientes con valores NaN en 'age' (excluyendo mixtos): 0\n",
      "Clientes con edades mixtas (diferentes valores de edad): 341742\n"
     ]
    }
   ],
   "source": [
    "# Contar cuántos valores únicos de 'age' tiene cada cliente\n",
    "estado_por_cliente_age = df_full.groupby('pk_cid')['age'].nunique()\n",
    "\n",
    "# Identificar clientes con edades mixtas (múltiples valores en 'age')\n",
    "clientes_mixtos_age = estado_por_cliente_age[estado_por_cliente_age > 1].index\n",
    "\n",
    "# Excluir los clientes mixtos del análisis de las otras categorías\n",
    "df_no_mixtos_age = df_full[~df_full['pk_cid'].isin(clientes_mixtos_age)]\n",
    "\n",
    "# Identificar clientes que tienen siempre la misma edad\n",
    "clientes_misma_edad = df_no_mixtos_age.groupby('pk_cid')['age'].nunique()\n",
    "clientes_misma_edad = clientes_misma_edad[clientes_misma_edad == 1].index\n",
    "\n",
    "# Identificar clientes con valores NaN en 'age' (excluyendo clientes mixtos)\n",
    "clientes_con_nan_age = df_no_mixtos_age[df_no_mixtos_age['age'].isna()]['pk_cid'].unique()\n",
    "\n",
    "# Contar el número de clientes en cada categoría (excluyendo mixtos)\n",
    "n_misma_edad = len(clientes_misma_edad)\n",
    "n_con_nan_age = len(clientes_con_nan_age)\n",
    "n_mixtos_age = len(clientes_mixtos_age)\n",
    "\n",
    "# Mostrar los resultados\n",
    "print(f\"Clientes que tienen siempre la misma edad (excluyendo mixtos): {n_misma_edad}\")\n",
    "print(f\"Clientes con valores NaN en 'age' (excluyendo mixtos): {n_con_nan_age}\")\n",
    "print(f\"Clientes con edades mixtas (diferentes valores de edad): {n_mixtos_age}\")"
   ]
  },
  {
   "cell_type": "code",
   "execution_count": null,
   "metadata": {},
   "outputs": [
    {
     "data": {
      "text/plain": [
       "456373"
      ]
     },
     "metadata": {},
     "output_type": "display_data"
    }
   ],
   "source": [
    "n_total = n_misma_edad + n_con_nan_age + n_mixtos_age\n",
    "n_total"
   ]
  },
  {
   "cell_type": "code",
   "execution_count": null,
   "metadata": {},
   "outputs": [],
   "source": [
    "df_misma_edad = df_full[df_full['pk_cid'].isin(clientes_misma_edad)]\n",
    "df_edad_mixta = df_full[df_full['pk_cid'].isin(clientes_mixtos_age)]"
   ]
  },
  {
   "cell_type": "code",
   "execution_count": null,
   "metadata": {},
   "outputs": [
    {
     "data": {
      "text/plain": [
       "count   1,200,493.000\n",
       "mean           29.994\n",
       "std            12.052\n",
       "min             2.000\n",
       "25%            22.000\n",
       "50%            25.000\n",
       "75%            35.000\n",
       "max           102.000\n",
       "Name: age, dtype: float64"
      ]
     },
     "metadata": {},
     "output_type": "display_data"
    }
   ],
   "source": [
    "df_misma_edad[\"age\"].describe()"
   ]
  },
  {
   "cell_type": "code",
   "execution_count": null,
   "metadata": {},
   "outputs": [
    {
     "data": {
      "text/plain": [
       "count   4,762,431.000\n",
       "mean           29.702\n",
       "std            11.962\n",
       "min             2.000\n",
       "25%            22.000\n",
       "50%            24.000\n",
       "75%            34.000\n",
       "max           105.000\n",
       "Name: age, dtype: float64"
      ]
     },
     "metadata": {},
     "output_type": "display_data"
    }
   ],
   "source": [
    "df_edad_mixta[\"age\"].describe()"
   ]
  },
  {
   "cell_type": "markdown",
   "metadata": {},
   "source": [
    "aquí se tomará la decisión de trabajar con la última edad del cliente, también hay que considerar que hay valores entre 2 y 18 años que creo que no son adecuados para la ultilizacion de una aplicacion así y revisar tambien los valores mayores de 100 años"
   ]
  },
  {
   "cell_type": "markdown",
   "metadata": {},
   "source": [
    "CLIENTES POR COUNTRY ID"
   ]
  },
  {
   "cell_type": "code",
   "execution_count": null,
   "metadata": {},
   "outputs": [
    {
     "name": "stdout",
     "output_type": "stream",
     "text": [
      "Clientes que tienen siempre el mismo 'country_id' (excluyendo mixtos): 456348\n",
      "Clientes con valores NaN en 'country_id' (excluyendo mixtos): 0\n",
      "Clientes con 'country_id' mixtos (diferentes países): 25\n"
     ]
    }
   ],
   "source": [
    "# Contar cuántos valores únicos de 'country_id' tiene cada cliente\n",
    "estado_por_cliente_country = df_full.groupby('pk_cid')['country_id'].nunique()\n",
    "\n",
    "# Identificar clientes con 'country_id' mixtos (múltiples valores de 'country_id')\n",
    "clientes_mixtos_country = estado_por_cliente_country[estado_por_cliente_country > 1].index\n",
    "\n",
    "# Excluir los clientes mixtos del análisis de las otras categorías\n",
    "df_no_mixtos_country = df_full[~df_full['pk_cid'].isin(clientes_mixtos_country)]\n",
    "\n",
    "# Identificar clientes que tienen siempre el mismo 'country_id'\n",
    "clientes_mismo_country = df_no_mixtos_country.groupby('pk_cid')['country_id'].nunique()\n",
    "clientes_mismo_country = clientes_mismo_country[clientes_mismo_country == 1].index\n",
    "\n",
    "# Identificar clientes con valores NaN en 'country_id' (excluyendo clientes mixtos)\n",
    "clientes_con_nan_country = df_no_mixtos_country[df_no_mixtos_country['country_id'].isna()]['pk_cid'].unique()\n",
    "\n",
    "# Contar el número de clientes en cada categoría (excluyendo mixtos)\n",
    "n_mismo_country = len(clientes_mismo_country)\n",
    "n_con_nan_country = len(clientes_con_nan_country)\n",
    "n_mixtos_country = len(clientes_mixtos_country)\n",
    "\n",
    "# Mostrar los resultados\n",
    "print(f\"Clientes que tienen siempre el mismo 'country_id' (excluyendo mixtos): {n_mismo_country}\")\n",
    "print(f\"Clientes con valores NaN en 'country_id' (excluyendo mixtos): {n_con_nan_country}\")\n",
    "print(f\"Clientes con 'country_id' mixtos (diferentes países): {n_mixtos_country}\")"
   ]
  },
  {
   "cell_type": "markdown",
   "metadata": {},
   "source": [
    "Los clientes con country id distintos como que antes vivian en un pais y ahora se han mudado para otro, no sé como tratar esto, si mantener el ultimo o el primero"
   ]
  },
  {
   "cell_type": "markdown",
   "metadata": {},
   "source": [
    "CLIENTES POR DECEASED"
   ]
  },
  {
   "cell_type": "code",
   "execution_count": null,
   "metadata": {},
   "outputs": [
    {
     "name": "stdout",
     "output_type": "stream",
     "text": [
      "Clientes que son siempre 'N' en 'deceased' (excluyendo mixtos): 456244\n",
      "Clientes que son siempre 'S' en 'deceased' (excluyendo mixtos): 55\n",
      "Clientes con valores NaN en 'deceased' (excluyendo mixtos): 0\n",
      "Clientes con estados mixtos en 'deceased' (N, S o NaN): 74\n"
     ]
    }
   ],
   "source": [
    "import pandas as pd\n",
    "\n",
    "# Contar cuántos valores únicos de 'deceased' tiene cada cliente\n",
    "estado_por_cliente_deceased = df_full.groupby('pk_cid')['deceased'].nunique()\n",
    "\n",
    "# Identificar clientes con estados mixtos (N y S o con NaN incluido)\n",
    "clientes_mixtos_deceased = estado_por_cliente_deceased[estado_por_cliente_deceased > 1].index\n",
    "\n",
    "# Excluir los clientes mixtos del análisis de las otras categorías\n",
    "df_no_mixtos_deceased = df_full[~df_full['pk_cid'].isin(clientes_mixtos_deceased)]\n",
    "\n",
    "# Identificar clientes que son siempre 'N'\n",
    "clientes_siempre_n = df_no_mixtos_deceased[df_no_mixtos_deceased['deceased'] == 'N']['pk_cid'].unique()\n",
    "\n",
    "# Identificar clientes que son siempre 'S'\n",
    "clientes_siempre_s = df_no_mixtos_deceased[df_no_mixtos_deceased['deceased'] == 'S']['pk_cid'].unique()\n",
    "\n",
    "# Identificar clientes con valores NaN en 'deceased' (excluyendo clientes mixtos)\n",
    "clientes_con_nan_deceased = df_no_mixtos_deceased[df_no_mixtos_deceased['deceased'].isna()]['pk_cid'].unique()\n",
    "\n",
    "# Contar el número de clientes en cada categoría (excluyendo mixtos)\n",
    "n_siempre_n = len(clientes_siempre_n)\n",
    "n_siempre_s = len(clientes_siempre_s)\n",
    "n_con_nan_deceased = len(clientes_con_nan_deceased)\n",
    "n_mixtos_deceased = len(clientes_mixtos_deceased)\n",
    "\n",
    "# Mostrar los resultados\n",
    "print(f\"Clientes que son siempre 'N' en 'deceased' (excluyendo mixtos): {n_siempre_n}\")\n",
    "print(f\"Clientes que son siempre 'S' en 'deceased' (excluyendo mixtos): {n_siempre_s}\")\n",
    "print(f\"Clientes con valores NaN en 'deceased' (excluyendo mixtos): {n_con_nan_deceased}\")\n",
    "print(f\"Clientes con estados mixtos en 'deceased' (N, S o NaN): {n_mixtos_deceased}\")"
   ]
  },
  {
   "cell_type": "code",
   "execution_count": null,
   "metadata": {},
   "outputs": [
    {
     "data": {
      "text/plain": [
       "456373"
      ]
     },
     "metadata": {},
     "output_type": "display_data"
    }
   ],
   "source": [
    "n_total = n_siempre_n + n_siempre_s + n_con_nan_deceased + n_mixtos_deceased\n",
    "n_total"
   ]
  },
  {
   "cell_type": "markdown",
   "metadata": {},
   "source": [
    "hay 55 clientes muertos desde la primera ingesta de datos incluido el entry_date, serán errores o se tendrán que analizar mas a fondo así como los que cambian"
   ]
  },
  {
   "cell_type": "markdown",
   "metadata": {},
   "source": [
    "TOTAL DE CLIENTES POR GENDER"
   ]
  },
  {
   "cell_type": "code",
   "execution_count": null,
   "metadata": {},
   "outputs": [
    {
     "data": {
      "text/plain": [
       "gender\n",
       "H         51.244\n",
       "V         48.765\n",
       "Unknown    0.000\n",
       "Name: pk_cid, dtype: float64"
      ]
     },
     "metadata": {},
     "output_type": "display_data"
    }
   ],
   "source": [
    "# se crea una categoria Unknown para los valores nulos\n",
    "df_full[\"gender\"] = df_full[\"gender\"].cat.add_categories([\"Unknown\"]).fillna(\"Unknown\")\n",
    "\n",
    "df_full.groupby(\"gender\")[\"pk_cid\"].nunique().apply(lambda x: x/df_full[\"pk_cid\"].nunique()*100)"
   ]
  },
  {
   "cell_type": "code",
   "execution_count": null,
   "metadata": {},
   "outputs": [
    {
     "data": {
      "text/plain": [
       "gender\n",
       "H          233862\n",
       "V          222550\n",
       "Unknown         2\n",
       "Name: pk_cid, dtype: int64"
      ]
     },
     "metadata": {},
     "output_type": "display_data"
    }
   ],
   "source": [
    "df_full.groupby(\"gender\")[\"pk_cid\"].nunique()"
   ]
  },
  {
   "cell_type": "code",
   "execution_count": null,
   "metadata": {},
   "outputs": [
    {
     "data": {
      "text/plain": [
       "456414"
      ]
     },
     "metadata": {},
     "output_type": "display_data"
    }
   ],
   "source": [
    "df_full.groupby(\"gender\")[\"pk_cid\"].nunique().sum()\n",
    "# se observa que hay 41 valores más que la cantidad de clientes únicos\n",
    "# lo que representa que hay clientes con más de un género asignado"
   ]
  },
  {
   "cell_type": "markdown",
   "metadata": {},
   "source": [
    "ANALISIS DE LOS CLIENTES CON MAS DE UN GENERO Y LOS QUE SON SOLO DE UN TIPO"
   ]
  },
  {
   "cell_type": "code",
   "execution_count": null,
   "metadata": {},
   "outputs": [
    {
     "name": "stdout",
     "output_type": "stream",
     "text": [
      "Clientes que son siempre 'H' en 'gender' (excluyendo mixtos): 233821\n",
      "Clientes que son siempre 'V' en 'gender' (excluyendo mixtos): 222509\n",
      "Clientes que son todo 'Unknown' (excluyendo mixtos): 2\n",
      "Clientes con géneros mixtos (H y V o Unknown): 41\n",
      "Total de clientes en el dataset: 456373\n"
     ]
    }
   ],
   "source": [
    "\n",
    "# Contar cuántos valores únicos tiene cada cliente en la columna gender\n",
    "estado_por_cliente_gender = df_full.groupby('pk_cid')['gender'].agg(['nunique', 'count'])\n",
    "\n",
    "# Identificar clientes con géneros mixtos (H y F o Unknown)\n",
    "clientes_mixtos_gender = estado_por_cliente_gender[estado_por_cliente_gender['nunique'] > 1].index\n",
    "\n",
    "# Excluir los clientes mixtos del análisis de las otras categorías\n",
    "df_no_mixtos_gender = df_full[~df_full['pk_cid'].isin(clientes_mixtos_gender)]\n",
    "\n",
    "# Identificar clientes que son siempre 'H'\n",
    "clientes_siempre_H = df_no_mixtos_gender[df_no_mixtos_gender['gender'] == 'H']['pk_cid'].unique()\n",
    "\n",
    "# Identificar clientes que son siempre 'V'\n",
    "clientes_siempre_V = df_no_mixtos_gender[df_no_mixtos_gender['gender'] == 'V']['pk_cid'].unique()\n",
    "\n",
    "# Identificar clientes \"Unknown\" en gender (excluyendo clientes mixtos)\n",
    "clientes_siempre_Unknown = df_no_mixtos_gender[df_no_mixtos_gender['gender'] == \"Unknown\"]['pk_cid'].unique()\n",
    "\n",
    "# Contar el número de clientes en cada categoría (excluyendo mixtos)\n",
    "n_siempre_H = len(clientes_siempre_H)\n",
    "n_siempre_V = len(clientes_siempre_V)\n",
    "n_siempre_Unknown = len(clientes_siempre_Unknown)\n",
    "n_mixtos_gender = len(clientes_mixtos_gender)\n",
    "\n",
    "# Mostrar los resultados\n",
    "print(f\"Clientes que son siempre 'H' en 'gender' (excluyendo mixtos): {n_siempre_H}\")\n",
    "print(f\"Clientes que son siempre 'V' en 'gender' (excluyendo mixtos): {n_siempre_V}\")\n",
    "print(f\"Clientes que son todo 'Unknown' (excluyendo mixtos): {n_siempre_Unknown}\")\n",
    "print(f\"Clientes con géneros mixtos (H y V o Unknown): {n_mixtos_gender}\")\n",
    "print(f\"Total de clientes en el dataset: {n_siempre_H + n_siempre_V + n_siempre_Unknown + n_mixtos_gender}\")\n"
   ]
  },
  {
   "cell_type": "code",
   "execution_count": null,
   "metadata": {},
   "outputs": [
    {
     "name": "stdout",
     "output_type": "stream",
     "text": [
      "Clientes que son siempre 'H': 51.23%\n",
      "Clientes que son siempre 'V': 48.76%\n",
      "Clientes que son todo 'Unknown': 0.00044%\n",
      "Clientes con géneros mixtos (H y V o Unknown): 0.009%\n"
     ]
    }
   ],
   "source": [
    "# porcientos de lo anterior\n",
    "n_total = n_siempre_H + n_siempre_V + n_siempre_Unknown + n_mixtos_gender\n",
    "p_siempre_H = n_siempre_H / n_total * 100\n",
    "p_siempre_V = n_siempre_V / n_total * 100\n",
    "p_siempre_Unknown = n_siempre_Unknown / n_total * 100\n",
    "p_mixtos_gender = n_mixtos_gender / n_total * 100\n",
    "\n",
    "# Mostrar los resultados\n",
    "print(f\"Clientes que son siempre 'H': {p_siempre_H:.2f}%\")\n",
    "print(f\"Clientes que son siempre 'V': {p_siempre_V:.2f}%\")\n",
    "print(f\"Clientes que son todo 'Unknown': {p_siempre_Unknown:.5f}%\")\n",
    "print(f\"Clientes con géneros mixtos (H y V o Unknown): {p_mixtos_gender:.3f}%\")"
   ]
  },
  {
   "cell_type": "markdown",
   "metadata": {},
   "source": [
    "CLIENTES POR REGION_CODE\n"
   ]
  },
  {
   "cell_type": "code",
   "execution_count": null,
   "metadata": {},
   "outputs": [],
   "source": [
    "# valores nulos en region_code ponerlos como Unknown\n",
    "df_full[\"region_code\"] = df_full[\"region_code\"].cat.add_categories([\"Unknown\"]).fillna(\"Unknown\")\n"
   ]
  },
  {
   "cell_type": "code",
   "execution_count": null,
   "metadata": {},
   "outputs": [
    {
     "name": "stdout",
     "output_type": "stream",
     "text": [
      "Clientes que tienen siempre el mismo código de región (excluyendo mixtos): 454305\n",
      "Clientes con valores NaN en 'region_code' (excluyendo mixtos): 0\n",
      "Clientes con códigos de región mixtos (diferentes códigos): 2068\n"
     ]
    }
   ],
   "source": [
    "\n",
    "import pandas as pd\n",
    "\n",
    "# Contar cuántos valores únicos de 'region_code' tiene cada cliente\n",
    "estado_por_cliente_region = df_full.groupby('pk_cid')['region_code'].nunique()\n",
    "\n",
    "# Identificar clientes con múltiples códigos de región (cambios de región)\n",
    "clientes_mixtos_region = estado_por_cliente_region[estado_por_cliente_region > 1].index\n",
    "\n",
    "# Excluir los clientes mixtos del análisis de las otras categorías\n",
    "df_no_mixtos_region = df_full[~df_full['pk_cid'].isin(clientes_mixtos_region)]\n",
    "\n",
    "# Identificar clientes que tienen siempre el mismo código de región\n",
    "clientes_mismo_region = df_no_mixtos_region.groupby('pk_cid')['region_code'].nunique()\n",
    "clientes_mismo_region = clientes_mismo_region[clientes_mismo_region == 1].index\n",
    "\n",
    "# Identificar clientes con valores NaN en 'region_code' (excluyendo clientes mixtos)\n",
    "clientes_con_nan_region = df_no_mixtos_region[df_no_mixtos_region['region_code'].isna()]['pk_cid'].unique()\n",
    "\n",
    "# Contar el número de clientes en cada categoría (excluyendo mixtos)\n",
    "n_mismo_region = len(clientes_mismo_region)\n",
    "n_con_nan_region = len(clientes_con_nan_region)\n",
    "n_mixtos_region = len(clientes_mixtos_region)\n",
    "\n",
    "# Mostrar los resultados\n",
    "print(f\"Clientes que tienen siempre el mismo código de región (excluyendo mixtos): {n_mismo_region}\")\n",
    "print(f\"Clientes con valores NaN en 'region_code' (excluyendo mixtos): {n_con_nan_region}\")\n",
    "print(f\"Clientes con códigos de región mixtos (diferentes códigos): {n_mixtos_region}\")"
   ]
  },
  {
   "cell_type": "code",
   "execution_count": null,
   "metadata": {},
   "outputs": [
    {
     "data": {
      "text/plain": [
       "456373"
      ]
     },
     "metadata": {},
     "output_type": "display_data"
    }
   ],
   "source": [
    "# se comprueba que la suma de los clientes en cada región es igual a la cantidad de clientes únicos\n",
    "n_total = n_mismo_region + n_con_nan_region + n_mixtos_region\n",
    "n_total "
   ]
  },
  {
   "cell_type": "markdown",
   "metadata": {},
   "source": [
    "CLIENTES SEGUN SALARY"
   ]
  },
  {
   "cell_type": "code",
   "execution_count": null,
   "metadata": {},
   "outputs": [
    {
     "name": "stdout",
     "output_type": "stream",
     "text": [
      "Clientes que tienen siempre el mismo salario: 299443\n",
      "Clientes con valores NaN en 'salary' en todas las ingestas: 156930\n",
      "Clientes con valores de salario mixtos, varían con la ingesta de datos (diferentes valores): 0\n"
     ]
    }
   ],
   "source": [
    "# Contar cuántos valores únicos de 'salary' tiene cada cliente\n",
    "estado_por_cliente_salary = df_full.groupby('pk_cid')['salary'].nunique()\n",
    "\n",
    "# Identificar clientes con múltiples valores de salario (cambios en el salario)\n",
    "clientes_mixtos_salary = estado_por_cliente_salary[estado_por_cliente_salary > 1].index\n",
    "\n",
    "# Excluir los clientes mixtos del análisis de las otras categorías\n",
    "df_no_mixtos_salary = df_full[~df_full['pk_cid'].isin(clientes_mixtos_salary)]\n",
    "\n",
    "# Identificar clientes que tienen siempre el mismo salario\n",
    "clientes_mismo_salary = df_no_mixtos_salary.groupby('pk_cid')['salary'].nunique()\n",
    "clientes_mismo_salary = clientes_mismo_salary[clientes_mismo_salary == 1].index\n",
    "\n",
    "# Identificar clientes con valores NaN en 'salary' (excluyendo clientes mixtos)\n",
    "clientes_con_nan_salary = df_no_mixtos_salary[df_no_mixtos_salary['salary'].isna()]['pk_cid'].unique()\n",
    "\n",
    "# Contar el número de clientes en cada categoría (excluyendo mixtos)\n",
    "n_mismo_salary = len(clientes_mismo_salary)\n",
    "n_con_nan_salary = len(clientes_con_nan_salary)\n",
    "n_mixtos_salary = len(clientes_mixtos_salary)\n",
    "\n",
    "# Mostrar los resultados\n",
    "print(f\"Clientes que tienen siempre el mismo salario: {n_mismo_salary}\")\n",
    "print(f\"Clientes con valores NaN en 'salary' en todas las ingestas: {n_con_nan_salary}\")\n",
    "print(f\"Clientes con valores de salario mixtos, varían con la ingesta de datos (diferentes valores): {n_mixtos_salary}\")"
   ]
  }
 ],
 "metadata": {
  "language_info": {
   "name": "python"
  }
 },
 "nbformat": 4,
 "nbformat_minor": 2
}
