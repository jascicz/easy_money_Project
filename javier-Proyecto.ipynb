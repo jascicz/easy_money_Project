{
 "cells": [
  {
   "cell_type": "markdown",
   "metadata": {},
   "source": [
    "# Lectura de ficheros easyMoney"
   ]
  },
  {
   "cell_type": "markdown",
   "metadata": {},
   "source": [
    "## import Librariesz"
   ]
  },
  {
   "cell_type": "code",
   "execution_count": 1,
   "metadata": {},
   "outputs": [
    {
     "name": "stderr",
     "output_type": "stream",
     "text": [
      "/Users/claudiacastro/anaconda3/lib/python3.11/site-packages/pandas/core/arrays/masked.py:60: UserWarning: Pandas requires version '1.3.6' or newer of 'bottleneck' (version '1.3.5' currently installed).\n",
      "  from pandas.core import (\n"
     ]
    }
   ],
   "source": [
    "import numpy as np \n",
    "import pandas as pd\n",
    "pd.options.display.float_format = '{:,.2f}'.format\n",
    "import matplotlib as plt\n",
    "\n",
    "import warnings\n",
    "warnings.filterwarnings('ignore')\n",
    "\n",
    "from ipywidgets import widgets\n",
    "from ydata_profiling import ProfileReport\n",
    "from ydata_profiling.utils.cache import cache_file\n"
   ]
  },
  {
   "cell_type": "code",
   "execution_count": 2,
   "metadata": {},
   "outputs": [],
   "source": [
    "# ca_df = pd.read_parquet('https://easy-money-project-bucket.s3.eu-west-3.amazonaws.com/commercial_activity_df.parquet')\n",
    "\n",
    "# prod_df = pd.read_parquet('https://easy-money-project-bucket.s3.eu-west-3.amazonaws.com/products_df.parquet')\n",
    "\n",
    "# sdg_df = pd.read_parquet('https://easy-money-project-bucket.s3.eu-west-3.amazonaws.com/sociodemographic_df.parquet')"
   ]
  },
  {
   "cell_type": "code",
   "execution_count": 9,
   "metadata": {},
   "outputs": [
    {
     "data": {
      "application/vnd.jupyter.widget-view+json": {
       "model_id": "906edab9cbb34813ba7db486c4d97012",
       "version_major": 2,
       "version_minor": 0
      },
      "text/plain": [
       "Summarize dataset:   0%|          | 0/5 [00:00<?, ?it/s]"
      ]
     },
     "metadata": {},
     "output_type": "display_data"
    },
    {
     "data": {
      "application/vnd.jupyter.widget-view+json": {
       "model_id": "ea56eb79644a4143bd8544f1bc06e198",
       "version_major": 2,
       "version_minor": 0
      },
      "text/plain": [
       "Generate report structure:   0%|          | 0/1 [00:00<?, ?it/s]"
      ]
     },
     "metadata": {},
     "output_type": "display_data"
    },
    {
     "data": {
      "application/vnd.jupyter.widget-view+json": {
       "model_id": "592262c5804e4e799a4f799456da2ce6",
       "version_major": 2,
       "version_minor": 0
      },
      "text/plain": [
       "Render HTML:   0%|          | 0/1 [00:00<?, ?it/s]"
      ]
     },
     "metadata": {},
     "output_type": "display_data"
    },
    {
     "data": {
      "application/vnd.jupyter.widget-view+json": {
       "model_id": "1eb2c48addb0478fb7b7eb625d3c8c14",
       "version_major": 2,
       "version_minor": 0
      },
      "text/plain": [
       "Export report to file:   0%|          | 0/1 [00:00<?, ?it/s]"
      ]
     },
     "metadata": {},
     "output_type": "display_data"
    }
   ],
   "source": [
    "# df_1 = pd.merge(ca_df,prod_df, how=\"inner\" ,on=['pk_cid','pk_partition'])\n",
    "\n",
    "# df_2 = pd.merge(df_1,sdg_df, how=\"inner\",on=['pk_cid','pk_partition'])\n",
    "\n",
    "# df_2.to_parquet(\"/Users/claudiacastro/easy_money_project/df_completo.parquet\")\n",
    "\n",
    "# carga del dataset completo\n",
    "df_full = pd.read_parquet(\"/Users/claudiacastro/easy_money_project/df_completo.parquet\")\n",
    "# eliminamos columnas que no aportan información\n",
    "df_full = df_full.drop(columns=['Unnamed: 0_x', 'Unnamed: 0_y', 'Unnamed: 0', \"em_account_pp\"], axis=1)\n",
    "# eliminamos duplicados a partir de la columna pk_cid y nos quedamos con el primero\n",
    "df_full = df_full.drop_duplicates(subset=['pk_cid'], keep=\"first\")\n",
    "# modificamos el tipo de dato de las columnas\n",
    "df_full[\"pk_partition\"] = pd.to_datetime(df_full[\"pk_partition\"])\n",
    "df_full[\"entry_date\"] = pd.to_datetime(df_full[\"entry_date\"], errors='coerce')\n",
    "df_full[\"entry_channel\"] = df_full[\"entry_channel\"].astype('category')\n",
    "df_full['active_customer'] = df_full['active_customer'].astype('int32')\n",
    "df_full['segment'] = df_full['segment'].astype('category')\n",
    "df_full['short_term_deposit'] = df_full['short_term_deposit'].astype('int32')\n",
    "df_full['loans'] = df_full['loans'].astype('int32')\n",
    "df_full['mortgage'] = df_full['mortgage'].astype('int32')\n",
    "df_full['funds'] = df_full['funds'].astype('int32')\n",
    "df_full['securities'] = df_full['securities'].astype('int32')\n",
    "df_full['long_term_deposit'] = df_full['long_term_deposit'].astype('int32')\n",
    "df_full['credit_card'] = df_full['credit_card'].astype('int32')\n",
    "# df_full['payroll'] = df_full['payroll'].astype('int32')\n",
    "# df_full['pension_plan'] = df_full['pension_plan'].astype('int32')\n",
    "df_full['payroll_account'] = df_full['payroll_account'].astype('int32')\n",
    "df_full['emc_account'] = df_full['emc_account'].astype('int32')\n",
    "df_full['debit_card'] = df_full['debit_card'].astype('int32')\n",
    "df_full['em_account_p'] = df_full['em_account_p'].astype('int32')\n",
    "df_full['em_acount'] = df_full['em_acount'].astype('int32')\n",
    "df_full[\"country_id\"] = df_full[\"country_id\"].astype('category')\n",
    "df_full[\"region_code\"] = df_full[\"region_code\"].astype('category')\n",
    "df_full[\"gender\"] =  df_full[\"gender\"].astype('category')\n",
    "df_full[\"age\"] = df_full[\"age\"].astype('int32')\n",
    "df_full[\"deceased\"] = df_full[\"deceased\"].astype('category')\n",
    "# reporte del dataset\n",
    "profile = ProfileReport(df_full, title=\"Profiling Report Easy Money\")\n",
    "profile.to_file(\"profiling_report_easyMoney.html\")"
   ]
  },
  {
   "cell_type": "code",
   "execution_count": 19,
   "metadata": {},
   "outputs": [
    {
     "data": {
      "text/plain": [
       "salary          34.39\n",
       "segment         29.13\n",
       "entry_channel   28.89\n",
       "entry_date       0.32\n",
       "region_code      0.03\n",
       "dtype: float64"
      ]
     },
     "execution_count": 19,
     "metadata": {},
     "output_type": "execute_result"
    }
   ],
   "source": [
    "df_full.isna().mean().sort_values(ascending=False).apply(lambda x: x*100).sort_values(ascending=False).head(5)"
   ]
  },
  {
   "cell_type": "markdown",
   "metadata": {},
   "source": [
    "1. La ingesta de datos se realiza en enero de 2018 y la última partición es de mayo de 2019, siendo un total 17 particiones o ingestas de datos.\n",
    "\n",
    "2. En cada ingesta se repiten los clientes y se deciden eliminar los clientes duplicados pasando de un dataset de casi 6 millones de registro a 456,373 registros.\n",
    "\n",
    "3. Se elimina la columna \"em_account_pp\" ya que ningun cliente posee una Cuenta easyMoney++\n",
    "\n",
    "4. Las columnas con valores faltantes son:\n",
    "   \n",
    "    - salary  :             34.39 (%)\n",
    "\n",
    "   - segment   :           29.13\n",
    "\n",
    "    - entry_channel  :      28.89\n",
    "\n",
    "    - entry_date    :        0.32\n",
    "\n",
    "    - region_code   :        0.03\n",
    "\n",
    "    - payroll   :            0.01\n",
    "\n",
    "    - pension_plan  :        0.01\n",
    "\n",
    "    - gender      :          0.01\n",
    "  \n",
    "5. A continuación se muestra la descripcion del dataset"
   ]
  },
  {
   "cell_type": "code",
   "execution_count": null,
   "metadata": {},
   "outputs": [],
   "source": []
  },
  {
   "cell_type": "code",
   "execution_count": null,
   "metadata": {},
   "outputs": [],
   "source": []
  },
  {
   "cell_type": "code",
   "execution_count": null,
   "metadata": {},
   "outputs": [],
   "source": []
  },
  {
   "cell_type": "code",
   "execution_count": null,
   "metadata": {},
   "outputs": [],
   "source": []
  },
  {
   "cell_type": "code",
   "execution_count": null,
   "metadata": {},
   "outputs": [],
   "source": []
  },
  {
   "cell_type": "code",
   "execution_count": null,
   "metadata": {},
   "outputs": [],
   "source": []
  }
 ],
 "metadata": {
  "kernelspec": {
   "display_name": "Python 3",
   "language": "python",
   "name": "python3"
  },
  "language_info": {
   "codemirror_mode": {
    "name": "ipython",
    "version": 3
   },
   "file_extension": ".py",
   "mimetype": "text/x-python",
   "name": "python",
   "nbconvert_exporter": "python",
   "pygments_lexer": "ipython3",
   "version": "3.11.5"
  }
 },
 "nbformat": 4,
 "nbformat_minor": 4
}
